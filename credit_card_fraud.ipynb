{
 "metadata": {
  "kernelspec": {
   "language": "python",
   "display_name": "Python 3",
   "name": "python3"
  },
  "language_info": {
   "name": "python",
   "version": "3.7.12",
   "mimetype": "text/x-python",
   "codemirror_mode": {
    "name": "ipython",
    "version": 3
   },
   "pygments_lexer": "ipython3",
   "nbconvert_exporter": "python",
   "file_extension": ".py"
  }
 },
 "nbformat_minor": 4,
 "nbformat": 4,
 "cells": [
  {
   "cell_type": "markdown",
   "source": [
    "# Detección de Fraude con Tarjetas de crédito\n",
    "# Grupo 3\n",
    "## Bruno Dueñas, Fernando Mejía, Mateo Córdova"
   ],
   "metadata": {
    "pycharm": {
     "name": "#%% md\n"
    }
   }
  },
  {
   "cell_type": "markdown",
   "source": [
    "# Importar librerías"
   ],
   "metadata": {
    "pycharm": {
     "name": "#%% md\n"
    }
   }
  },
  {
   "cell_type": "code",
   "source": [
    "import pandas as pd\n",
    "import numpy as np\n",
    "import matplotlib.pyplot as plt\n",
    "%matplotlib inline\n",
    "import seaborn as sns\n",
    "# Machine Learning\n",
    "from sklearn.feature_selection import SelectKBest\n",
    "from sklearn.feature_selection import f_classif\n",
    "from sklearn.preprocessing import StandardScaler\n",
    "from sklearn.metrics import accuracy_score\n",
    "from sklearn.metrics import confusion_matrix\n",
    "from sklearn.metrics import precision_recall_curve,roc_curve,roc_auc_score\n",
    "from sklearn.metrics import auc\n",
    "from sklearn.linear_model import LogisticRegression\n",
    "from sklearn.tree import DecisionTreeClassifier\n",
    "from sklearn import metrics\n",
    "from sklearn import linear_model,preprocessing\n",
    "from sklearn import tree\n",
    "from sklearn.model_selection import train_test_split\n",
    "import tensorflow as tf\n",
    "import graphviz"
   ],
   "metadata": {
    "execution": {
     "iopub.status.busy": "2022-05-22T09:07:04.128256Z",
     "iopub.execute_input": "2022-05-22T09:07:04.128599Z",
     "iopub.status.idle": "2022-05-22T09:07:04.762116Z",
     "shell.execute_reply.started": "2022-05-22T09:07:04.128535Z",
     "shell.execute_reply": "2022-05-22T09:07:04.761402Z"
    },
    "trusted": true,
    "pycharm": {
     "name": "#%%\n"
    }
   },
   "execution_count": 70,
   "outputs": []
  },
  {
   "cell_type": "markdown",
   "source": [
    "## Importando la data proveniente del csv y mostrándo el contenido de la data"
   ],
   "metadata": {
    "pycharm": {
     "name": "#%% md\n"
    }
   }
  },
  {
   "cell_type": "code",
   "source": [
    "column_names = [\"distance_from_home\",\"distance_from_last_transaction\",\"ratio_to_median_purchase_price\",\"repeat_retailer\",\"used_chip\",\"used_pin_number\",\"online_order\",\"fraud\"]\n",
    "dframe=pd.read_csv(\"data/card_transdata.csv\")\n",
    "dframe"
   ],
   "metadata": {
    "execution": {
     "iopub.status.busy": "2022-05-22T09:07:04.767594Z",
     "iopub.execute_input": "2022-05-22T09:07:04.767937Z",
     "iopub.status.idle": "2022-05-22T09:07:06.087392Z",
     "shell.execute_reply.started": "2022-05-22T09:07:04.767894Z",
     "shell.execute_reply": "2022-05-22T09:07:06.086361Z"
    },
    "trusted": true,
    "pycharm": {
     "name": "#%%\n"
    }
   },
   "execution_count": 71,
   "outputs": [
    {
     "data": {
      "text/plain": "        distance_from_home  distance_from_last_transaction  \\\n0                57.877857                        0.311140   \n1                10.829943                        0.175592   \n2                 5.091079                        0.805153   \n3                 2.247564                        5.600044   \n4                44.190936                        0.566486   \n...                    ...                             ...   \n999995            2.207101                        0.112651   \n999996           19.872726                        2.683904   \n999997            2.914857                        1.472687   \n999998            4.258729                        0.242023   \n999999           58.108125                        0.318110   \n\n        ratio_to_median_purchase_price  repeat_retailer  used_chip  \\\n0                             1.945940              1.0        1.0   \n1                             1.294219              1.0        0.0   \n2                             0.427715              1.0        0.0   \n3                             0.362663              1.0        1.0   \n4                             2.222767              1.0        1.0   \n...                                ...              ...        ...   \n999995                        1.626798              1.0        1.0   \n999996                        2.778303              1.0        1.0   \n999997                        0.218075              1.0        1.0   \n999998                        0.475822              1.0        0.0   \n999999                        0.386920              1.0        1.0   \n\n        used_pin_number  online_order  fraud  \n0                   0.0           0.0    0.0  \n1                   0.0           0.0    0.0  \n2                   0.0           1.0    0.0  \n3                   0.0           1.0    0.0  \n4                   0.0           1.0    0.0  \n...                 ...           ...    ...  \n999995              0.0           0.0    0.0  \n999996              0.0           0.0    0.0  \n999997              0.0           1.0    0.0  \n999998              0.0           1.0    0.0  \n999999              0.0           1.0    0.0  \n\n[1000000 rows x 8 columns]",
      "text/html": "<div>\n<style scoped>\n    .dataframe tbody tr th:only-of-type {\n        vertical-align: middle;\n    }\n\n    .dataframe tbody tr th {\n        vertical-align: top;\n    }\n\n    .dataframe thead th {\n        text-align: right;\n    }\n</style>\n<table border=\"1\" class=\"dataframe\">\n  <thead>\n    <tr style=\"text-align: right;\">\n      <th></th>\n      <th>distance_from_home</th>\n      <th>distance_from_last_transaction</th>\n      <th>ratio_to_median_purchase_price</th>\n      <th>repeat_retailer</th>\n      <th>used_chip</th>\n      <th>used_pin_number</th>\n      <th>online_order</th>\n      <th>fraud</th>\n    </tr>\n  </thead>\n  <tbody>\n    <tr>\n      <th>0</th>\n      <td>57.877857</td>\n      <td>0.311140</td>\n      <td>1.945940</td>\n      <td>1.0</td>\n      <td>1.0</td>\n      <td>0.0</td>\n      <td>0.0</td>\n      <td>0.0</td>\n    </tr>\n    <tr>\n      <th>1</th>\n      <td>10.829943</td>\n      <td>0.175592</td>\n      <td>1.294219</td>\n      <td>1.0</td>\n      <td>0.0</td>\n      <td>0.0</td>\n      <td>0.0</td>\n      <td>0.0</td>\n    </tr>\n    <tr>\n      <th>2</th>\n      <td>5.091079</td>\n      <td>0.805153</td>\n      <td>0.427715</td>\n      <td>1.0</td>\n      <td>0.0</td>\n      <td>0.0</td>\n      <td>1.0</td>\n      <td>0.0</td>\n    </tr>\n    <tr>\n      <th>3</th>\n      <td>2.247564</td>\n      <td>5.600044</td>\n      <td>0.362663</td>\n      <td>1.0</td>\n      <td>1.0</td>\n      <td>0.0</td>\n      <td>1.0</td>\n      <td>0.0</td>\n    </tr>\n    <tr>\n      <th>4</th>\n      <td>44.190936</td>\n      <td>0.566486</td>\n      <td>2.222767</td>\n      <td>1.0</td>\n      <td>1.0</td>\n      <td>0.0</td>\n      <td>1.0</td>\n      <td>0.0</td>\n    </tr>\n    <tr>\n      <th>...</th>\n      <td>...</td>\n      <td>...</td>\n      <td>...</td>\n      <td>...</td>\n      <td>...</td>\n      <td>...</td>\n      <td>...</td>\n      <td>...</td>\n    </tr>\n    <tr>\n      <th>999995</th>\n      <td>2.207101</td>\n      <td>0.112651</td>\n      <td>1.626798</td>\n      <td>1.0</td>\n      <td>1.0</td>\n      <td>0.0</td>\n      <td>0.0</td>\n      <td>0.0</td>\n    </tr>\n    <tr>\n      <th>999996</th>\n      <td>19.872726</td>\n      <td>2.683904</td>\n      <td>2.778303</td>\n      <td>1.0</td>\n      <td>1.0</td>\n      <td>0.0</td>\n      <td>0.0</td>\n      <td>0.0</td>\n    </tr>\n    <tr>\n      <th>999997</th>\n      <td>2.914857</td>\n      <td>1.472687</td>\n      <td>0.218075</td>\n      <td>1.0</td>\n      <td>1.0</td>\n      <td>0.0</td>\n      <td>1.0</td>\n      <td>0.0</td>\n    </tr>\n    <tr>\n      <th>999998</th>\n      <td>4.258729</td>\n      <td>0.242023</td>\n      <td>0.475822</td>\n      <td>1.0</td>\n      <td>0.0</td>\n      <td>0.0</td>\n      <td>1.0</td>\n      <td>0.0</td>\n    </tr>\n    <tr>\n      <th>999999</th>\n      <td>58.108125</td>\n      <td>0.318110</td>\n      <td>0.386920</td>\n      <td>1.0</td>\n      <td>1.0</td>\n      <td>0.0</td>\n      <td>1.0</td>\n      <td>0.0</td>\n    </tr>\n  </tbody>\n</table>\n<p>1000000 rows × 8 columns</p>\n</div>"
     },
     "execution_count": 71,
     "metadata": {},
     "output_type": "execute_result"
    }
   ]
  },
  {
   "cell_type": "markdown",
   "source": [
    "## Encontrar las características que mejor describen los datos"
   ],
   "metadata": {
    "pycharm": {
     "name": "#%% md\n"
    }
   }
  },
  {
   "cell_type": "code",
   "source": [
    "dframe.describe()"
   ],
   "metadata": {
    "execution": {
     "iopub.status.busy": "2022-05-22T09:07:06.112935Z",
     "iopub.execute_input": "2022-05-22T09:07:06.113286Z",
     "iopub.status.idle": "2022-05-22T09:07:06.510920Z",
     "shell.execute_reply.started": "2022-05-22T09:07:06.113239Z",
     "shell.execute_reply": "2022-05-22T09:07:06.510097Z"
    },
    "trusted": true,
    "pycharm": {
     "name": "#%%\n"
    }
   },
   "execution_count": 72,
   "outputs": [
    {
     "data": {
      "text/plain": "       distance_from_home  distance_from_last_transaction  \\\ncount      1000000.000000                  1000000.000000   \nmean            26.628792                        5.036519   \nstd             65.390784                       25.843093   \nmin              0.004874                        0.000118   \n25%              3.878008                        0.296671   \n50%              9.967760                        0.998650   \n75%             25.743985                        3.355748   \nmax          10632.723672                    11851.104565   \n\n       ratio_to_median_purchase_price  repeat_retailer       used_chip  \\\ncount                  1000000.000000   1000000.000000  1000000.000000   \nmean                         1.824182         0.881536        0.350399   \nstd                          2.799589         0.323157        0.477095   \nmin                          0.004399         0.000000        0.000000   \n25%                          0.475673         1.000000        0.000000   \n50%                          0.997717         1.000000        0.000000   \n75%                          2.096370         1.000000        1.000000   \nmax                        267.802942         1.000000        1.000000   \n\n       used_pin_number    online_order           fraud  \ncount   1000000.000000  1000000.000000  1000000.000000  \nmean          0.100608        0.650552        0.087403  \nstd           0.300809        0.476796        0.282425  \nmin           0.000000        0.000000        0.000000  \n25%           0.000000        0.000000        0.000000  \n50%           0.000000        1.000000        0.000000  \n75%           0.000000        1.000000        0.000000  \nmax           1.000000        1.000000        1.000000  ",
      "text/html": "<div>\n<style scoped>\n    .dataframe tbody tr th:only-of-type {\n        vertical-align: middle;\n    }\n\n    .dataframe tbody tr th {\n        vertical-align: top;\n    }\n\n    .dataframe thead th {\n        text-align: right;\n    }\n</style>\n<table border=\"1\" class=\"dataframe\">\n  <thead>\n    <tr style=\"text-align: right;\">\n      <th></th>\n      <th>distance_from_home</th>\n      <th>distance_from_last_transaction</th>\n      <th>ratio_to_median_purchase_price</th>\n      <th>repeat_retailer</th>\n      <th>used_chip</th>\n      <th>used_pin_number</th>\n      <th>online_order</th>\n      <th>fraud</th>\n    </tr>\n  </thead>\n  <tbody>\n    <tr>\n      <th>count</th>\n      <td>1000000.000000</td>\n      <td>1000000.000000</td>\n      <td>1000000.000000</td>\n      <td>1000000.000000</td>\n      <td>1000000.000000</td>\n      <td>1000000.000000</td>\n      <td>1000000.000000</td>\n      <td>1000000.000000</td>\n    </tr>\n    <tr>\n      <th>mean</th>\n      <td>26.628792</td>\n      <td>5.036519</td>\n      <td>1.824182</td>\n      <td>0.881536</td>\n      <td>0.350399</td>\n      <td>0.100608</td>\n      <td>0.650552</td>\n      <td>0.087403</td>\n    </tr>\n    <tr>\n      <th>std</th>\n      <td>65.390784</td>\n      <td>25.843093</td>\n      <td>2.799589</td>\n      <td>0.323157</td>\n      <td>0.477095</td>\n      <td>0.300809</td>\n      <td>0.476796</td>\n      <td>0.282425</td>\n    </tr>\n    <tr>\n      <th>min</th>\n      <td>0.004874</td>\n      <td>0.000118</td>\n      <td>0.004399</td>\n      <td>0.000000</td>\n      <td>0.000000</td>\n      <td>0.000000</td>\n      <td>0.000000</td>\n      <td>0.000000</td>\n    </tr>\n    <tr>\n      <th>25%</th>\n      <td>3.878008</td>\n      <td>0.296671</td>\n      <td>0.475673</td>\n      <td>1.000000</td>\n      <td>0.000000</td>\n      <td>0.000000</td>\n      <td>0.000000</td>\n      <td>0.000000</td>\n    </tr>\n    <tr>\n      <th>50%</th>\n      <td>9.967760</td>\n      <td>0.998650</td>\n      <td>0.997717</td>\n      <td>1.000000</td>\n      <td>0.000000</td>\n      <td>0.000000</td>\n      <td>1.000000</td>\n      <td>0.000000</td>\n    </tr>\n    <tr>\n      <th>75%</th>\n      <td>25.743985</td>\n      <td>3.355748</td>\n      <td>2.096370</td>\n      <td>1.000000</td>\n      <td>1.000000</td>\n      <td>0.000000</td>\n      <td>1.000000</td>\n      <td>0.000000</td>\n    </tr>\n    <tr>\n      <th>max</th>\n      <td>10632.723672</td>\n      <td>11851.104565</td>\n      <td>267.802942</td>\n      <td>1.000000</td>\n      <td>1.000000</td>\n      <td>1.000000</td>\n      <td>1.000000</td>\n      <td>1.000000</td>\n    </tr>\n  </tbody>\n</table>\n</div>"
     },
     "execution_count": 72,
     "metadata": {},
     "output_type": "execute_result"
    }
   ]
  },
  {
   "cell_type": "markdown",
   "source": [
    "## Copia para el modelo en keras"
   ],
   "metadata": {
    "collapsed": false,
    "pycharm": {
     "name": "#%% md\n"
    }
   }
  },
  {
   "cell_type": "code",
   "execution_count": 73,
   "outputs": [],
   "source": [
    "dframeKeras = dframe.copy()"
   ],
   "metadata": {
    "collapsed": false,
    "pycharm": {
     "name": "#%%\n"
    }
   }
  },
  {
   "cell_type": "markdown",
   "source": [
    "## Copia para el arbol de decisión sklearn"
   ],
   "metadata": {
    "collapsed": false,
    "pycharm": {
     "name": "#%% md\n"
    }
   }
  },
  {
   "cell_type": "code",
   "execution_count": 74,
   "outputs": [],
   "source": [
    "dframeArbol = dframe.copy()"
   ],
   "metadata": {
    "collapsed": false,
    "pycharm": {
     "name": "#%%\n"
    }
   }
  },
  {
   "cell_type": "markdown",
   "source": [
    "## Normalización de la data"
   ],
   "metadata": {
    "collapsed": false,
    "pycharm": {
     "name": "#%% md\n"
    }
   }
  },
  {
   "cell_type": "code",
   "execution_count": 75,
   "outputs": [],
   "source": [
    "scaler = StandardScaler()\n",
    "dframe.iloc[:,0:-1] = scaler.fit_transform(dframe.iloc[:,0:-1].to_numpy())"
   ],
   "metadata": {
    "collapsed": false,
    "pycharm": {
     "name": "#%%\n"
    }
   }
  },
  {
   "cell_type": "code",
   "execution_count": 76,
   "outputs": [
    {
     "data": {
      "text/plain": "        distance_from_home  distance_from_last_transaction  \\\n0                 0.477882                       -0.182849   \n1                -0.241607                       -0.188094   \n2                -0.329369                       -0.163733   \n3                -0.372854                        0.021806   \n4                 0.268572                       -0.172968   \n...                    ...                             ...   \n999995           -0.373473                       -0.190529   \n999996           -0.103318                       -0.091035   \n999997           -0.362650                       -0.137903   \n999998           -0.342098                       -0.185523   \n999999            0.481403                       -0.182579   \n\n        ratio_to_median_purchase_price  repeat_retailer  used_chip  \\\n0                             0.043491         0.366584   1.361576   \n1                            -0.189300         0.366584  -0.734443   \n2                            -0.498812         0.366584  -0.734443   \n3                            -0.522048         0.366584   1.361576   \n4                             0.142373         0.366584   1.361576   \n...                                ...              ...        ...   \n999995                       -0.070505         0.366584   1.361576   \n999996                        0.340808         0.366584   1.361576   \n999997                       -0.573694         0.366584   1.361576   \n999998                       -0.481628         0.366584  -0.734443   \n999999                       -0.513384         0.366584   1.361576   \n\n        used_pin_number  online_order  fraud  \n0             -0.334458     -1.364425    0.0  \n1             -0.334458     -1.364425    0.0  \n2             -0.334458      0.732909    0.0  \n3             -0.334458      0.732909    0.0  \n4             -0.334458      0.732909    0.0  \n...                 ...           ...    ...  \n999995        -0.334458     -1.364425    0.0  \n999996        -0.334458     -1.364425    0.0  \n999997        -0.334458      0.732909    0.0  \n999998        -0.334458      0.732909    0.0  \n999999        -0.334458      0.732909    0.0  \n\n[1000000 rows x 8 columns]",
      "text/html": "<div>\n<style scoped>\n    .dataframe tbody tr th:only-of-type {\n        vertical-align: middle;\n    }\n\n    .dataframe tbody tr th {\n        vertical-align: top;\n    }\n\n    .dataframe thead th {\n        text-align: right;\n    }\n</style>\n<table border=\"1\" class=\"dataframe\">\n  <thead>\n    <tr style=\"text-align: right;\">\n      <th></th>\n      <th>distance_from_home</th>\n      <th>distance_from_last_transaction</th>\n      <th>ratio_to_median_purchase_price</th>\n      <th>repeat_retailer</th>\n      <th>used_chip</th>\n      <th>used_pin_number</th>\n      <th>online_order</th>\n      <th>fraud</th>\n    </tr>\n  </thead>\n  <tbody>\n    <tr>\n      <th>0</th>\n      <td>0.477882</td>\n      <td>-0.182849</td>\n      <td>0.043491</td>\n      <td>0.366584</td>\n      <td>1.361576</td>\n      <td>-0.334458</td>\n      <td>-1.364425</td>\n      <td>0.0</td>\n    </tr>\n    <tr>\n      <th>1</th>\n      <td>-0.241607</td>\n      <td>-0.188094</td>\n      <td>-0.189300</td>\n      <td>0.366584</td>\n      <td>-0.734443</td>\n      <td>-0.334458</td>\n      <td>-1.364425</td>\n      <td>0.0</td>\n    </tr>\n    <tr>\n      <th>2</th>\n      <td>-0.329369</td>\n      <td>-0.163733</td>\n      <td>-0.498812</td>\n      <td>0.366584</td>\n      <td>-0.734443</td>\n      <td>-0.334458</td>\n      <td>0.732909</td>\n      <td>0.0</td>\n    </tr>\n    <tr>\n      <th>3</th>\n      <td>-0.372854</td>\n      <td>0.021806</td>\n      <td>-0.522048</td>\n      <td>0.366584</td>\n      <td>1.361576</td>\n      <td>-0.334458</td>\n      <td>0.732909</td>\n      <td>0.0</td>\n    </tr>\n    <tr>\n      <th>4</th>\n      <td>0.268572</td>\n      <td>-0.172968</td>\n      <td>0.142373</td>\n      <td>0.366584</td>\n      <td>1.361576</td>\n      <td>-0.334458</td>\n      <td>0.732909</td>\n      <td>0.0</td>\n    </tr>\n    <tr>\n      <th>...</th>\n      <td>...</td>\n      <td>...</td>\n      <td>...</td>\n      <td>...</td>\n      <td>...</td>\n      <td>...</td>\n      <td>...</td>\n      <td>...</td>\n    </tr>\n    <tr>\n      <th>999995</th>\n      <td>-0.373473</td>\n      <td>-0.190529</td>\n      <td>-0.070505</td>\n      <td>0.366584</td>\n      <td>1.361576</td>\n      <td>-0.334458</td>\n      <td>-1.364425</td>\n      <td>0.0</td>\n    </tr>\n    <tr>\n      <th>999996</th>\n      <td>-0.103318</td>\n      <td>-0.091035</td>\n      <td>0.340808</td>\n      <td>0.366584</td>\n      <td>1.361576</td>\n      <td>-0.334458</td>\n      <td>-1.364425</td>\n      <td>0.0</td>\n    </tr>\n    <tr>\n      <th>999997</th>\n      <td>-0.362650</td>\n      <td>-0.137903</td>\n      <td>-0.573694</td>\n      <td>0.366584</td>\n      <td>1.361576</td>\n      <td>-0.334458</td>\n      <td>0.732909</td>\n      <td>0.0</td>\n    </tr>\n    <tr>\n      <th>999998</th>\n      <td>-0.342098</td>\n      <td>-0.185523</td>\n      <td>-0.481628</td>\n      <td>0.366584</td>\n      <td>-0.734443</td>\n      <td>-0.334458</td>\n      <td>0.732909</td>\n      <td>0.0</td>\n    </tr>\n    <tr>\n      <th>999999</th>\n      <td>0.481403</td>\n      <td>-0.182579</td>\n      <td>-0.513384</td>\n      <td>0.366584</td>\n      <td>1.361576</td>\n      <td>-0.334458</td>\n      <td>0.732909</td>\n      <td>0.0</td>\n    </tr>\n  </tbody>\n</table>\n<p>1000000 rows × 8 columns</p>\n</div>"
     },
     "execution_count": 76,
     "metadata": {},
     "output_type": "execute_result"
    }
   ],
   "source": [
    "dframe"
   ],
   "metadata": {
    "collapsed": false,
    "pycharm": {
     "name": "#%%\n"
    }
   }
  },
  {
   "cell_type": "markdown",
   "source": [
    "## Revisar valores nulos (de existir)"
   ],
   "metadata": {
    "pycharm": {
     "name": "#%% md\n"
    }
   }
  },
  {
   "cell_type": "code",
   "source": [
    "dframe.isna().sum()"
   ],
   "metadata": {
    "execution": {
     "iopub.status.busy": "2022-05-22T09:07:06.512222Z",
     "iopub.execute_input": "2022-05-22T09:07:06.512467Z",
     "iopub.status.idle": "2022-05-22T09:07:06.538470Z",
     "shell.execute_reply.started": "2022-05-22T09:07:06.512439Z",
     "shell.execute_reply": "2022-05-22T09:07:06.537592Z"
    },
    "trusted": true,
    "pycharm": {
     "name": "#%%\n"
    }
   },
   "execution_count": 77,
   "outputs": [
    {
     "data": {
      "text/plain": "distance_from_home                0\ndistance_from_last_transaction    0\nratio_to_median_purchase_price    0\nrepeat_retailer                   0\nused_chip                         0\nused_pin_number                   0\nonline_order                      0\nfraud                             0\ndtype: int64"
     },
     "execution_count": 77,
     "metadata": {},
     "output_type": "execute_result"
    }
   ]
  },
  {
   "cell_type": "markdown",
   "source": [
    "### Recuentos de valores para variables categóricas (repeat_retailer, used_chip, used_pin_number, online_order y fraude)"
   ],
   "metadata": {
    "pycharm": {
     "name": "#%% md\n"
    }
   }
  },
  {
   "cell_type": "code",
   "source": [
    "for column in dframe.columns[3:9]:\n",
    "    print(dframe[column].value_counts())\n",
    "    print()"
   ],
   "metadata": {
    "execution": {
     "iopub.status.busy": "2022-05-22T09:07:06.539646Z",
     "iopub.execute_input": "2022-05-22T09:07:06.539902Z",
     "iopub.status.idle": "2022-05-22T09:07:06.611349Z",
     "shell.execute_reply.started": "2022-05-22T09:07:06.539873Z",
     "shell.execute_reply": "2022-05-22T09:07:06.610478Z"
    },
    "trusted": true,
    "pycharm": {
     "name": "#%%\n"
    }
   },
   "execution_count": 78,
   "outputs": [
    {
     "name": "stdout",
     "output_type": "stream",
     "text": [
      " 0.366584    881536\n",
      "-2.727890    118464\n",
      "Name: repeat_retailer, dtype: int64\n",
      "\n",
      "-0.734443    649601\n",
      " 1.361576    350399\n",
      "Name: used_chip, dtype: int64\n",
      "\n",
      "-0.334458    899392\n",
      " 2.989911    100608\n",
      "Name: used_pin_number, dtype: int64\n",
      "\n",
      " 0.732909    650552\n",
      "-1.364425    349448\n",
      "Name: online_order, dtype: int64\n",
      "\n",
      "0.0    912597\n",
      "1.0     87403\n",
      "Name: fraud, dtype: int64\n",
      "\n"
     ]
    }
   ]
  },
  {
   "cell_type": "markdown",
   "source": [
    "## Matriz de correlación entre la data"
   ],
   "metadata": {
    "pycharm": {
     "name": "#%% md\n"
    }
   }
  },
  {
   "cell_type": "code",
   "source": [
    "correlation_mat = dframe.corr() \n",
    "f, ax = plt.subplots(figsize =(9, 8)) \n",
    "sns.heatmap(correlation_mat,ax=ax, annot=True, cmap = 'BrBG_r',linewidths=0.5)"
   ],
   "metadata": {
    "execution": {
     "iopub.status.busy": "2022-05-22T09:07:06.612690Z",
     "iopub.execute_input": "2022-05-22T09:07:06.613100Z",
     "iopub.status.idle": "2022-05-22T09:07:07.466194Z",
     "shell.execute_reply.started": "2022-05-22T09:07:06.613055Z",
     "shell.execute_reply": "2022-05-22T09:07:07.465367Z"
    },
    "trusted": true,
    "pycharm": {
     "name": "#%%\n"
    }
   },
   "execution_count": 79,
   "outputs": [
    {
     "data": {
      "text/plain": "<AxesSubplot:>"
     },
     "execution_count": 79,
     "metadata": {},
     "output_type": "execute_result"
    },
    {
     "data": {
      "text/plain": "<Figure size 648x576 with 2 Axes>",
      "image/png": "[encoded data removed]"
     },
     "metadata": {
      "needs_background": "light"
     },
     "output_type": "display_data"
    }
   ]
  },
  {
   "cell_type": "markdown",
   "source": [
    "### Análisis univariado para eliminar la característica que tiene el menor efecto en la variable objetivo (fraude)"
   ],
   "metadata": {
    "collapsed": false,
    "pycharm": {
     "name": "#%% md\n"
    }
   }
  },
  {
   "cell_type": "code",
   "execution_count": 80,
   "outputs": [
    {
     "name": "stdout",
     "output_type": "stream",
     "text": [
      "Caracterisicas:   distance_from_home , Puntuación:  36465.69332586085\n",
      "Caracterisicas:   distance_from_last_transaction , Puntuación:  8520.690791240206\n",
      "Caracterisicas:   ratio_to_median_purchase_price , Puntuación:  271820.173833205\n",
      "Caracterisicas:   repeat_retailer , Puntuación:  1.8426704992520047\n",
      "Caracterisicas:   used_chip , Puntuación:  3731.7684653980787\n",
      "Caracterisicas:   used_pin_number , Puntuación:  10160.776030233745\n",
      "Caracterisicas:   online_order , Puntuación:  38263.51828118835\n",
      "Más baja =  1.8426704992520047\n"
     ]
    }
   ],
   "source": [
    "scores = []\n",
    "Univ_Analysis = SelectKBest(score_func=f_classif, k=7)\n",
    "fit = Univ_Analysis.fit(dframe[dframe.columns[0:7]], dframe[dframe.columns[7]])\n",
    "newcols = Univ_Analysis.get_support(indices=True)\n",
    "for i in range(7):\n",
    "    print (\"Caracterisicas:  \",column_names[i], \", Puntuación: \", fit.scores_[i])\n",
    "    scores.append(fit.scores_[i])\n",
    "print(\"Más baja = \",min(scores))"
   ],
   "metadata": {
    "collapsed": false,
    "pycharm": {
     "name": "#%%\n"
    }
   }
  },
  {
   "cell_type": "markdown",
   "source": [
    "### Dado que tenemos la puntuación más baja para repeat_retailer, la excluimos de nuestro análisis."
   ],
   "metadata": {
    "pycharm": {
     "name": "#%% md\n"
    }
   }
  },
  {
   "cell_type": "code",
   "execution_count": 81,
   "outputs": [],
   "source": [
    "dframe.drop(['repeat_retailer'], axis=1, inplace=True)"
   ],
   "metadata": {
    "collapsed": false,
    "pycharm": {
     "name": "#%%\n"
    }
   }
  },
  {
   "cell_type": "markdown",
   "source": [
    "## Separar la data en variables de entrenamiento y variables de prueba"
   ],
   "metadata": {
    "collapsed": false,
    "pycharm": {
     "name": "#%% md\n"
    }
   }
  },
  {
   "cell_type": "code",
   "execution_count": 82,
   "outputs": [],
   "source": [
    "train, test = train_test_split(dframe, test_size=0.2)"
   ],
   "metadata": {
    "collapsed": false,
    "pycharm": {
     "name": "#%%\n"
    }
   }
  },
  {
   "cell_type": "markdown",
   "source": [
    "## Variables de entrenamiento y variables de prueba"
   ],
   "metadata": {
    "collapsed": false,
    "pycharm": {
     "name": "#%% md\n"
    }
   }
  },
  {
   "cell_type": "code",
   "execution_count": 83,
   "outputs": [],
   "source": [
    "t_data = train[train.columns[0:6]]\n",
    "t_target = train[train.columns[6]]\n",
    "w_test = test[test.columns[0:6]]\n",
    "w_true = test[test.columns[6]] #Para validar el accuracy"
   ],
   "metadata": {
    "collapsed": false,
    "pycharm": {
     "name": "#%%\n"
    }
   }
  },
  {
   "cell_type": "code",
   "execution_count": 84,
   "outputs": [
    {
     "data": {
      "text/plain": "654067    0.0\n389111    0.0\n694283    0.0\n963522    0.0\n631896    0.0\n         ... \n787123    0.0\n860417    0.0\n321292    1.0\n832528    0.0\n398296    0.0\nName: fraud, Length: 200000, dtype: float64"
     },
     "execution_count": 84,
     "metadata": {},
     "output_type": "execute_result"
    }
   ],
   "source": [
    "w_true"
   ],
   "metadata": {
    "collapsed": false,
    "pycharm": {
     "name": "#%%\n"
    }
   }
  },
  {
   "cell_type": "code",
   "execution_count": 85,
   "outputs": [
    {
     "data": {
      "text/plain": "        distance_from_home  distance_from_last_transaction  \\\n543647           -0.399029                        0.017616   \n114643            0.177072                       -0.074118   \n766487           -0.254523                       -0.162432   \n566194           -0.067695                       -0.151023   \n342429            0.426237                       -0.187494   \n...                    ...                             ...   \n839792            0.037011                       -0.139287   \n972055           -0.280591                       -0.193896   \n887638           -0.387936                       -0.189551   \n642377           -0.344939                       -0.177295   \n247704           -0.300253                       -0.179358   \n\n        ratio_to_median_purchase_price  used_chip  used_pin_number  \\\n543647                        0.243050   1.361576        -0.334458   \n114643                       -0.441066   1.361576        -0.334458   \n766487                       -0.421286  -0.734443        -0.334458   \n566194                       -0.275428   1.361576        -0.334458   \n342429                       -0.618747  -0.734443        -0.334458   \n...                                ...        ...              ...   \n839792                       -0.552621  -0.734443        -0.334458   \n972055                       -0.420823  -0.734443        -0.334458   \n887638                       -0.453538  -0.734443        -0.334458   \n642377                       -0.097596  -0.734443        -0.334458   \n247704                        1.292937  -0.734443        -0.334458   \n\n        online_order  \n543647      0.732909  \n114643      0.732909  \n766487      0.732909  \n566194      0.732909  \n342429      0.732909  \n...              ...  \n839792      0.732909  \n972055      0.732909  \n887638      0.732909  \n642377      0.732909  \n247704     -1.364425  \n\n[800000 rows x 6 columns]",
      "text/html": "<div>\n<style scoped>\n    .dataframe tbody tr th:only-of-type {\n        vertical-align: middle;\n    }\n\n    .dataframe tbody tr th {\n        vertical-align: top;\n    }\n\n    .dataframe thead th {\n        text-align: right;\n    }\n</style>\n<table border=\"1\" class=\"dataframe\">\n  <thead>\n    <tr style=\"text-align: right;\">\n      <th></th>\n      <th>distance_from_home</th>\n      <th>distance_from_last_transaction</th>\n      <th>ratio_to_median_purchase_price</th>\n      <th>used_chip</th>\n      <th>used_pin_number</th>\n      <th>online_order</th>\n    </tr>\n  </thead>\n  <tbody>\n    <tr>\n      <th>543647</th>\n      <td>-0.399029</td>\n      <td>0.017616</td>\n      <td>0.243050</td>\n      <td>1.361576</td>\n      <td>-0.334458</td>\n      <td>0.732909</td>\n    </tr>\n    <tr>\n      <th>114643</th>\n      <td>0.177072</td>\n      <td>-0.074118</td>\n      <td>-0.441066</td>\n      <td>1.361576</td>\n      <td>-0.334458</td>\n      <td>0.732909</td>\n    </tr>\n    <tr>\n      <th>766487</th>\n      <td>-0.254523</td>\n      <td>-0.162432</td>\n      <td>-0.421286</td>\n      <td>-0.734443</td>\n      <td>-0.334458</td>\n      <td>0.732909</td>\n    </tr>\n    <tr>\n      <th>566194</th>\n      <td>-0.067695</td>\n      <td>-0.151023</td>\n      <td>-0.275428</td>\n      <td>1.361576</td>\n      <td>-0.334458</td>\n      <td>0.732909</td>\n    </tr>\n    <tr>\n      <th>342429</th>\n      <td>0.426237</td>\n      <td>-0.187494</td>\n      <td>-0.618747</td>\n      <td>-0.734443</td>\n      <td>-0.334458</td>\n      <td>0.732909</td>\n    </tr>\n    <tr>\n      <th>...</th>\n      <td>...</td>\n      <td>...</td>\n      <td>...</td>\n      <td>...</td>\n      <td>...</td>\n      <td>...</td>\n    </tr>\n    <tr>\n      <th>839792</th>\n      <td>0.037011</td>\n      <td>-0.139287</td>\n      <td>-0.552621</td>\n      <td>-0.734443</td>\n      <td>-0.334458</td>\n      <td>0.732909</td>\n    </tr>\n    <tr>\n      <th>972055</th>\n      <td>-0.280591</td>\n      <td>-0.193896</td>\n      <td>-0.420823</td>\n      <td>-0.734443</td>\n      <td>-0.334458</td>\n      <td>0.732909</td>\n    </tr>\n    <tr>\n      <th>887638</th>\n      <td>-0.387936</td>\n      <td>-0.189551</td>\n      <td>-0.453538</td>\n      <td>-0.734443</td>\n      <td>-0.334458</td>\n      <td>0.732909</td>\n    </tr>\n    <tr>\n      <th>642377</th>\n      <td>-0.344939</td>\n      <td>-0.177295</td>\n      <td>-0.097596</td>\n      <td>-0.734443</td>\n      <td>-0.334458</td>\n      <td>0.732909</td>\n    </tr>\n    <tr>\n      <th>247704</th>\n      <td>-0.300253</td>\n      <td>-0.179358</td>\n      <td>1.292937</td>\n      <td>-0.734443</td>\n      <td>-0.334458</td>\n      <td>-1.364425</td>\n    </tr>\n  </tbody>\n</table>\n<p>800000 rows × 6 columns</p>\n</div>"
     },
     "execution_count": 85,
     "metadata": {},
     "output_type": "execute_result"
    }
   ],
   "source": [
    "t_data"
   ],
   "metadata": {
    "collapsed": false,
    "pycharm": {
     "name": "#%%\n"
    }
   }
  },
  {
   "cell_type": "markdown",
   "source": [
    "## Arbol de decisión sklearn\n",
    "### Entrenamiento del modelo"
   ],
   "metadata": {
    "pycharm": {
     "name": "#%% md\n"
    }
   }
  },
  {
   "cell_type": "code",
   "execution_count": 86,
   "outputs": [
    {
     "data": {
      "text/plain": "   distance_from_home  distance_from_last_transaction  \\\n0            0.477882                       -0.182849   \n1           -0.241607                       -0.188094   \n2           -0.329369                       -0.163733   \n3           -0.372854                        0.021806   \n4            0.268572                       -0.172968   \n\n   ratio_to_median_purchase_price  used_chip  used_pin_number  online_order  \\\n0                        0.043491   1.361576        -0.334458     -1.364425   \n1                       -0.189300  -0.734443        -0.334458     -1.364425   \n2                       -0.498812  -0.734443        -0.334458      0.732909   \n3                       -0.522048   1.361576        -0.334458      0.732909   \n4                        0.142373   1.361576        -0.334458      0.732909   \n\n   fraud  \n0    0.0  \n1    0.0  \n2    0.0  \n3    0.0  \n4    0.0  ",
      "text/html": "<div>\n<style scoped>\n    .dataframe tbody tr th:only-of-type {\n        vertical-align: middle;\n    }\n\n    .dataframe tbody tr th {\n        vertical-align: top;\n    }\n\n    .dataframe thead th {\n        text-align: right;\n    }\n</style>\n<table border=\"1\" class=\"dataframe\">\n  <thead>\n    <tr style=\"text-align: right;\">\n      <th></th>\n      <th>distance_from_home</th>\n      <th>distance_from_last_transaction</th>\n      <th>ratio_to_median_purchase_price</th>\n      <th>used_chip</th>\n      <th>used_pin_number</th>\n      <th>online_order</th>\n      <th>fraud</th>\n    </tr>\n  </thead>\n  <tbody>\n    <tr>\n      <th>0</th>\n      <td>0.477882</td>\n      <td>-0.182849</td>\n      <td>0.043491</td>\n      <td>1.361576</td>\n      <td>-0.334458</td>\n      <td>-1.364425</td>\n      <td>0.0</td>\n    </tr>\n    <tr>\n      <th>1</th>\n      <td>-0.241607</td>\n      <td>-0.188094</td>\n      <td>-0.189300</td>\n      <td>-0.734443</td>\n      <td>-0.334458</td>\n      <td>-1.364425</td>\n      <td>0.0</td>\n    </tr>\n    <tr>\n      <th>2</th>\n      <td>-0.329369</td>\n      <td>-0.163733</td>\n      <td>-0.498812</td>\n      <td>-0.734443</td>\n      <td>-0.334458</td>\n      <td>0.732909</td>\n      <td>0.0</td>\n    </tr>\n    <tr>\n      <th>3</th>\n      <td>-0.372854</td>\n      <td>0.021806</td>\n      <td>-0.522048</td>\n      <td>1.361576</td>\n      <td>-0.334458</td>\n      <td>0.732909</td>\n      <td>0.0</td>\n    </tr>\n    <tr>\n      <th>4</th>\n      <td>0.268572</td>\n      <td>-0.172968</td>\n      <td>0.142373</td>\n      <td>1.361576</td>\n      <td>-0.334458</td>\n      <td>0.732909</td>\n      <td>0.0</td>\n    </tr>\n  </tbody>\n</table>\n</div>"
     },
     "execution_count": 86,
     "metadata": {},
     "output_type": "execute_result"
    }
   ],
   "source": [
    "dframe.head()"
   ],
   "metadata": {
    "collapsed": false,
    "pycharm": {
     "name": "#%%\n"
    }
   }
  },
  {
   "cell_type": "code",
   "source": [
    "clf = tree.DecisionTreeClassifier(criterion='entropy', max_depth=5)\n",
    "clf = clf.fit(t_data, t_target)"
   ],
   "metadata": {
    "execution": {
     "iopub.status.busy": "2022-05-22T09:07:11.642368Z",
     "iopub.execute_input": "2022-05-22T09:07:11.642614Z",
     "iopub.status.idle": "2022-05-22T09:07:15.830665Z",
     "shell.execute_reply.started": "2022-05-22T09:07:11.642583Z",
     "shell.execute_reply": "2022-05-22T09:07:15.829859Z"
    },
    "trusted": true,
    "pycharm": {
     "name": "#%%\n"
    }
   },
   "execution_count": 87,
   "outputs": []
  },
  {
   "cell_type": "markdown",
   "source": [
    "## Graficar el arbol de decisión"
   ],
   "metadata": {
    "pycharm": {
     "name": "#%% md\n"
    }
   }
  },
  {
   "cell_type": "code",
   "execution_count": 88,
   "outputs": [
    {
     "data": {
      "image/svg+xml": "<?xml version=\"1.0\" encoding=\"UTF-8\" standalone=\"no\"?>\n<!DOCTYPE svg PUBLIC \"-//W3C//DTD SVG 1.1//EN\"\n \"http://www.w3.org/Graphics/SVG/1.1/DTD/svg11.dtd\">\n<!-- Generated by graphviz version 4.0.0 (20220529.0937)\n -->\n<!-- Title: Tree Pages: 1 -->\n<svg width=\"3410pt\" height=\"671pt\"\n viewBox=\"0.00 0.00 3410.00 671.00\" xmlns=\"http://www.w3.org/2000/svg\" xmlns:xlink=\"http://www.w3.org/1999/xlink\">\n<g id=\"graph0\" class=\"graph\" transform=\"scale(1 1) rotate(0) translate(4 667)\">\n<title>Tree</title>\n<polygon fill=\"white\" stroke=\"transparent\" points=\"-4,4 -4,-667 3406,-667 3406,4 -4,4\"/>\n<!-- 0 -->\n<g id=\"node1\" class=\"node\">\n<title>0</title>\n<path fill=\"#e78d4c\" stroke=\"black\" d=\"M1486.5,-663C1486.5,-663 1233.5,-663 1233.5,-663 1227.5,-663 1221.5,-657 1221.5,-651 1221.5,-651 1221.5,-592 1221.5,-592 1221.5,-586 1227.5,-580 1233.5,-580 1233.5,-580 1486.5,-580 1486.5,-580 1492.5,-580 1498.5,-586 1498.5,-592 1498.5,-592 1498.5,-651 1498.5,-651 1498.5,-657 1492.5,-663 1486.5,-663\"/>\n<text text-anchor=\"start\" x=\"1229.5\" y=\"-647.8\" font-family=\"Helvetica,sans-Serif\" font-size=\"14.00\">ratio_to_median_purchase_price ≤ 0.777</text>\n<text text-anchor=\"start\" x=\"1310\" y=\"-632.8\" font-family=\"Helvetica,sans-Serif\" font-size=\"14.00\">entropy = 0.428</text>\n<text text-anchor=\"start\" x=\"1300\" y=\"-617.8\" font-family=\"Helvetica,sans-Serif\" font-size=\"14.00\">samples = 800000</text>\n<text text-anchor=\"start\" x=\"1282.5\" y=\"-602.8\" font-family=\"Helvetica,sans-Serif\" font-size=\"14.00\">value = [729920, 70080]</text>\n<text text-anchor=\"start\" x=\"1287\" y=\"-587.8\" font-family=\"Helvetica,sans-Serif\" font-size=\"14.00\">class = No Fraudulento</text>\n</g>\n<!-- 1 -->\n<g id=\"node2\" class=\"node\">\n<title>1</title>\n<path fill=\"#e6843e\" stroke=\"black\" d=\"M827.5,-544C827.5,-544 648.5,-544 648.5,-544 642.5,-544 636.5,-538 636.5,-532 636.5,-532 636.5,-473 636.5,-473 636.5,-467 642.5,-461 648.5,-461 648.5,-461 827.5,-461 827.5,-461 833.5,-461 839.5,-467 839.5,-473 839.5,-473 839.5,-532 839.5,-532 839.5,-538 833.5,-544 827.5,-544\"/>\n<text text-anchor=\"start\" x=\"644.5\" y=\"-528.8\" font-family=\"Helvetica,sans-Serif\" font-size=\"14.00\">distance_from_home ≤ 1.122</text>\n<text text-anchor=\"start\" x=\"688\" y=\"-513.8\" font-family=\"Helvetica,sans-Serif\" font-size=\"14.00\">entropy = 0.169</text>\n<text text-anchor=\"start\" x=\"678\" y=\"-498.8\" font-family=\"Helvetica,sans-Serif\" font-size=\"14.00\">samples = 717373</text>\n<text text-anchor=\"start\" x=\"660.5\" y=\"-483.8\" font-family=\"Helvetica,sans-Serif\" font-size=\"14.00\">value = [699360, 18013]</text>\n<text text-anchor=\"start\" x=\"665\" y=\"-468.8\" font-family=\"Helvetica,sans-Serif\" font-size=\"14.00\">class = No Fraudulento</text>\n</g>\n<!-- 0&#45;&gt;1 -->\n<g id=\"edge1\" class=\"edge\">\n<title>0&#45;&gt;1</title>\n<path fill=\"none\" stroke=\"black\" d=\"M1221.19,-594.39C1109.15,-573.31 953.59,-544.05 849.54,-524.48\"/>\n<polygon fill=\"black\" stroke=\"black\" points=\"850.11,-521.03 839.64,-522.62 848.82,-527.91 850.11,-521.03\"/>\n<text text-anchor=\"middle\" x=\"853.74\" y=\"-539.56\" font-family=\"Helvetica,sans-Serif\" font-size=\"14.00\">True</text>\n</g>\n<!-- 22 -->\n<g id=\"node23\" class=\"node\">\n<title>22</title>\n<path fill=\"#add7f4\" stroke=\"black\" d=\"M2122.5,-544C2122.5,-544 1983.5,-544 1983.5,-544 1977.5,-544 1971.5,-538 1971.5,-532 1971.5,-532 1971.5,-473 1971.5,-473 1971.5,-467 1977.5,-461 1983.5,-461 1983.5,-461 2122.5,-461 2122.5,-461 2128.5,-461 2134.5,-467 2134.5,-473 2134.5,-473 2134.5,-532 2134.5,-532 2134.5,-538 2128.5,-544 2122.5,-544\"/>\n<text text-anchor=\"start\" x=\"1985\" y=\"-528.8\" font-family=\"Helvetica,sans-Serif\" font-size=\"14.00\">online_order ≤ &#45;0.316</text>\n<text text-anchor=\"start\" x=\"2003\" y=\"-513.8\" font-family=\"Helvetica,sans-Serif\" font-size=\"14.00\">entropy = 0.951</text>\n<text text-anchor=\"start\" x=\"1997\" y=\"-498.8\" font-family=\"Helvetica,sans-Serif\" font-size=\"14.00\">samples = 82627</text>\n<text text-anchor=\"start\" x=\"1979.5\" y=\"-483.8\" font-family=\"Helvetica,sans-Serif\" font-size=\"14.00\">value = [30560, 52067]</text>\n<text text-anchor=\"start\" x=\"1991\" y=\"-468.8\" font-family=\"Helvetica,sans-Serif\" font-size=\"14.00\">class = Fraudulento</text>\n</g>\n<!-- 0&#45;&gt;22 -->\n<g id=\"edge22\" class=\"edge\">\n<title>0&#45;&gt;22</title>\n<path fill=\"none\" stroke=\"black\" d=\"M1498.57,-597.1C1635.98,-573.91 1842.6,-539.02 1960.96,-519.04\"/>\n<polygon fill=\"black\" stroke=\"black\" points=\"1961.8,-522.45 1971.08,-517.33 1960.63,-515.54 1961.8,-522.45\"/>\n<text text-anchor=\"middle\" x=\"1956.59\" y=\"-534.01\" font-family=\"Helvetica,sans-Serif\" font-size=\"14.00\">False</text>\n</g>\n<!-- 2 -->\n<g id=\"node3\" class=\"node\">\n<title>2</title>\n<path fill=\"#e5823a\" stroke=\"black\" d=\"M382,-425C382,-425 140,-425 140,-425 134,-425 128,-419 128,-413 128,-413 128,-354 128,-354 128,-348 134,-342 140,-342 140,-342 382,-342 382,-342 388,-342 394,-348 394,-354 394,-354 394,-413 394,-413 394,-419 388,-425 382,-425\"/>\n<text text-anchor=\"start\" x=\"136\" y=\"-409.8\" font-family=\"Helvetica,sans-Serif\" font-size=\"14.00\">distance_from_last_transaction ≤ 1.741</text>\n<text text-anchor=\"start\" x=\"211\" y=\"-394.8\" font-family=\"Helvetica,sans-Serif\" font-size=\"14.00\">entropy = 0.052</text>\n<text text-anchor=\"start\" x=\"201\" y=\"-379.8\" font-family=\"Helvetica,sans-Serif\" font-size=\"14.00\">samples = 681591</text>\n<text text-anchor=\"start\" x=\"187.5\" y=\"-364.8\" font-family=\"Helvetica,sans-Serif\" font-size=\"14.00\">value = [677570, 4021]</text>\n<text text-anchor=\"start\" x=\"188\" y=\"-349.8\" font-family=\"Helvetica,sans-Serif\" font-size=\"14.00\">class = No Fraudulento</text>\n</g>\n<!-- 1&#45;&gt;2 -->\n<g id=\"edge2\" class=\"edge\">\n<title>1&#45;&gt;2</title>\n<path fill=\"none\" stroke=\"black\" d=\"M636.26,-476.54C568.7,-459.97 479.03,-437.98 404.28,-419.64\"/>\n<polygon fill=\"black\" stroke=\"black\" points=\"404.86,-416.18 394.31,-417.2 403.19,-422.98 404.86,-416.18\"/>\n</g>\n<!-- 9 -->\n<g id=\"node10\" class=\"node\">\n<title>9</title>\n<path fill=\"#f6d2b8\" stroke=\"black\" d=\"M807.5,-425C807.5,-425 668.5,-425 668.5,-425 662.5,-425 656.5,-419 656.5,-413 656.5,-413 656.5,-354 656.5,-354 656.5,-348 662.5,-342 668.5,-342 668.5,-342 807.5,-342 807.5,-342 813.5,-342 819.5,-348 819.5,-354 819.5,-354 819.5,-413 819.5,-413 819.5,-419 813.5,-425 807.5,-425\"/>\n<text text-anchor=\"start\" x=\"670\" y=\"-409.8\" font-family=\"Helvetica,sans-Serif\" font-size=\"14.00\">online_order ≤ &#45;0.316</text>\n<text text-anchor=\"start\" x=\"688\" y=\"-394.8\" font-family=\"Helvetica,sans-Serif\" font-size=\"14.00\">entropy = 0.965</text>\n<text text-anchor=\"start\" x=\"682\" y=\"-379.8\" font-family=\"Helvetica,sans-Serif\" font-size=\"14.00\">samples = 35782</text>\n<text text-anchor=\"start\" x=\"664.5\" y=\"-364.8\" font-family=\"Helvetica,sans-Serif\" font-size=\"14.00\">value = [21790, 13992]</text>\n<text text-anchor=\"start\" x=\"665\" y=\"-349.8\" font-family=\"Helvetica,sans-Serif\" font-size=\"14.00\">class = No Fraudulento</text>\n</g>\n<!-- 1&#45;&gt;9 -->\n<g id=\"edge9\" class=\"edge\">\n<title>1&#45;&gt;9</title>\n<path fill=\"none\" stroke=\"black\" d=\"M738,-460.91C738,-452.65 738,-443.86 738,-435.3\"/>\n<polygon fill=\"black\" stroke=\"black\" points=\"741.5,-435.02 738,-425.02 734.5,-435.02 741.5,-435.02\"/>\n</g>\n<!-- 3 -->\n<g id=\"node4\" class=\"node\">\n<title>3</title>\n<path fill=\"#e58139\" stroke=\"black\" d=\"M150,-298.5C150,-298.5 12,-298.5 12,-298.5 6,-298.5 0,-292.5 0,-286.5 0,-286.5 0,-242.5 0,-242.5 0,-236.5 6,-230.5 12,-230.5 12,-230.5 150,-230.5 150,-230.5 156,-230.5 162,-236.5 162,-242.5 162,-242.5 162,-286.5 162,-286.5 162,-292.5 156,-298.5 150,-298.5\"/>\n<text text-anchor=\"start\" x=\"39\" y=\"-283.3\" font-family=\"Helvetica,sans-Serif\" font-size=\"14.00\">entropy = 0.0</text>\n<text text-anchor=\"start\" x=\"21\" y=\"-268.3\" font-family=\"Helvetica,sans-Serif\" font-size=\"14.00\">samples = 671494</text>\n<text text-anchor=\"start\" x=\"20\" y=\"-253.3\" font-family=\"Helvetica,sans-Serif\" font-size=\"14.00\">value = [671494, 0]</text>\n<text text-anchor=\"start\" x=\"8\" y=\"-238.3\" font-family=\"Helvetica,sans-Serif\" font-size=\"14.00\">class = No Fraudulento</text>\n</g>\n<!-- 2&#45;&gt;3 -->\n<g id=\"edge3\" class=\"edge\">\n<title>2&#45;&gt;3</title>\n<path fill=\"none\" stroke=\"black\" d=\"M198.55,-341.91C179.71,-329.66 159.08,-316.25 140.44,-304.13\"/>\n<polygon fill=\"black\" stroke=\"black\" points=\"142.32,-301.18 132.03,-298.67 138.5,-307.05 142.32,-301.18\"/>\n</g>\n<!-- 4 -->\n<g id=\"node5\" class=\"node\">\n<title>4</title>\n<path fill=\"#f6d4bc\" stroke=\"black\" d=\"M330,-306C330,-306 192,-306 192,-306 186,-306 180,-300 180,-294 180,-294 180,-235 180,-235 180,-229 186,-223 192,-223 192,-223 330,-223 330,-223 336,-223 342,-229 342,-235 342,-235 342,-294 342,-294 342,-300 336,-306 330,-306\"/>\n<text text-anchor=\"start\" x=\"193\" y=\"-290.8\" font-family=\"Helvetica,sans-Serif\" font-size=\"14.00\">online_order ≤ &#45;0.316</text>\n<text text-anchor=\"start\" x=\"215\" y=\"-275.8\" font-family=\"Helvetica,sans-Serif\" font-size=\"14.00\">entropy = 0.97</text>\n<text text-anchor=\"start\" x=\"205\" y=\"-260.8\" font-family=\"Helvetica,sans-Serif\" font-size=\"14.00\">samples = 10097</text>\n<text text-anchor=\"start\" x=\"196\" y=\"-245.8\" font-family=\"Helvetica,sans-Serif\" font-size=\"14.00\">value = [6076, 4021]</text>\n<text text-anchor=\"start\" x=\"188\" y=\"-230.8\" font-family=\"Helvetica,sans-Serif\" font-size=\"14.00\">class = No Fraudulento</text>\n</g>\n<!-- 2&#45;&gt;4 -->\n<g id=\"edge4\" class=\"edge\">\n<title>2&#45;&gt;4</title>\n<path fill=\"none\" stroke=\"black\" d=\"M261,-341.91C261,-333.65 261,-324.86 261,-316.3\"/>\n<polygon fill=\"black\" stroke=\"black\" points=\"264.5,-316.02 261,-306.02 257.5,-316.02 264.5,-316.02\"/>\n</g>\n<!-- 5 -->\n<g id=\"node6\" class=\"node\">\n<title>5</title>\n<path fill=\"#e58139\" stroke=\"black\" d=\"M158,-179.5C158,-179.5 20,-179.5 20,-179.5 14,-179.5 8,-173.5 8,-167.5 8,-167.5 8,-123.5 8,-123.5 8,-117.5 14,-111.5 20,-111.5 20,-111.5 158,-111.5 158,-111.5 164,-111.5 170,-117.5 170,-123.5 170,-123.5 170,-167.5 170,-167.5 170,-173.5 164,-179.5 158,-179.5\"/>\n<text text-anchor=\"start\" x=\"47\" y=\"-164.3\" font-family=\"Helvetica,sans-Serif\" font-size=\"14.00\">entropy = 0.0</text>\n<text text-anchor=\"start\" x=\"37.5\" y=\"-149.3\" font-family=\"Helvetica,sans-Serif\" font-size=\"14.00\">samples = 3501</text>\n<text text-anchor=\"start\" x=\"36\" y=\"-134.3\" font-family=\"Helvetica,sans-Serif\" font-size=\"14.00\">value = [3501, 0]</text>\n<text text-anchor=\"start\" x=\"16\" y=\"-119.3\" font-family=\"Helvetica,sans-Serif\" font-size=\"14.00\">class = No Fraudulento</text>\n</g>\n<!-- 4&#45;&gt;5 -->\n<g id=\"edge5\" class=\"edge\">\n<title>4&#45;&gt;5</title>\n<path fill=\"none\" stroke=\"black\" d=\"M201.33,-222.91C183.48,-210.77 163.96,-197.49 146.28,-185.46\"/>\n<polygon fill=\"black\" stroke=\"black\" points=\"148,-182.4 137.76,-179.67 144.06,-188.19 148,-182.4\"/>\n</g>\n<!-- 6 -->\n<g id=\"node7\" class=\"node\">\n<title>6</title>\n<path fill=\"#b8dcf6\" stroke=\"black\" d=\"M322,-187C322,-187 200,-187 200,-187 194,-187 188,-181 188,-175 188,-175 188,-116 188,-116 188,-110 194,-104 200,-104 200,-104 322,-104 322,-104 328,-104 334,-110 334,-116 334,-116 334,-175 334,-175 334,-181 328,-187 322,-187\"/>\n<text text-anchor=\"start\" x=\"202\" y=\"-171.8\" font-family=\"Helvetica,sans-Serif\" font-size=\"14.00\">used_chip ≤ 0.314</text>\n<text text-anchor=\"start\" x=\"211\" y=\"-156.8\" font-family=\"Helvetica,sans-Serif\" font-size=\"14.00\">entropy = 0.965</text>\n<text text-anchor=\"start\" x=\"209.5\" y=\"-141.8\" font-family=\"Helvetica,sans-Serif\" font-size=\"14.00\">samples = 6596</text>\n<text text-anchor=\"start\" x=\"196\" y=\"-126.8\" font-family=\"Helvetica,sans-Serif\" font-size=\"14.00\">value = [2575, 4021]</text>\n<text text-anchor=\"start\" x=\"199\" y=\"-111.8\" font-family=\"Helvetica,sans-Serif\" font-size=\"14.00\">class = Fraudulento</text>\n</g>\n<!-- 4&#45;&gt;6 -->\n<g id=\"edge6\" class=\"edge\">\n<title>4&#45;&gt;6</title>\n<path fill=\"none\" stroke=\"black\" d=\"M261,-222.91C261,-214.65 261,-205.86 261,-197.3\"/>\n<polygon fill=\"black\" stroke=\"black\" points=\"264.5,-197.02 261,-187.02 257.5,-197.02 264.5,-197.02\"/>\n</g>\n<!-- 7 -->\n<g id=\"node8\" class=\"node\">\n<title>7</title>\n<path fill=\"#51a9e8\" stroke=\"black\" d=\"M156,-68C156,-68 40,-68 40,-68 34,-68 28,-62 28,-56 28,-56 28,-12 28,-12 28,-6 34,0 40,0 40,0 156,0 156,0 162,0 168,-6 168,-12 168,-12 168,-56 168,-56 168,-62 162,-68 156,-68\"/>\n<text text-anchor=\"start\" x=\"48\" y=\"-52.8\" font-family=\"Helvetica,sans-Serif\" font-size=\"14.00\">entropy = 0.491</text>\n<text text-anchor=\"start\" x=\"46.5\" y=\"-37.8\" font-family=\"Helvetica,sans-Serif\" font-size=\"14.00\">samples = 4218</text>\n<text text-anchor=\"start\" x=\"37\" y=\"-22.8\" font-family=\"Helvetica,sans-Serif\" font-size=\"14.00\">value = [452, 3766]</text>\n<text text-anchor=\"start\" x=\"36\" y=\"-7.8\" font-family=\"Helvetica,sans-Serif\" font-size=\"14.00\">class = Fraudulento</text>\n</g>\n<!-- 6&#45;&gt;7 -->\n<g id=\"edge7\" class=\"edge\">\n<title>6&#45;&gt;7</title>\n<path fill=\"none\" stroke=\"black\" d=\"M200.3,-103.73C185.7,-93.92 170.14,-83.46 155.68,-73.75\"/>\n<polygon fill=\"black\" stroke=\"black\" points=\"157.56,-70.8 147.31,-68.13 153.66,-76.61 157.56,-70.8\"/>\n</g>\n<!-- 8 -->\n<g id=\"node9\" class=\"node\">\n<title>8</title>\n<path fill=\"#e89051\" stroke=\"black\" d=\"M336,-68C336,-68 198,-68 198,-68 192,-68 186,-62 186,-56 186,-56 186,-12 186,-12 186,-6 192,0 198,0 198,0 336,0 336,0 342,0 348,-6 348,-12 348,-12 348,-56 348,-56 348,-62 342,-68 336,-68\"/>\n<text text-anchor=\"start\" x=\"217\" y=\"-52.8\" font-family=\"Helvetica,sans-Serif\" font-size=\"14.00\">entropy = 0.492</text>\n<text text-anchor=\"start\" x=\"215.5\" y=\"-37.8\" font-family=\"Helvetica,sans-Serif\" font-size=\"14.00\">samples = 2378</text>\n<text text-anchor=\"start\" x=\"206\" y=\"-22.8\" font-family=\"Helvetica,sans-Serif\" font-size=\"14.00\">value = [2123, 255]</text>\n<text text-anchor=\"start\" x=\"194\" y=\"-7.8\" font-family=\"Helvetica,sans-Serif\" font-size=\"14.00\">class = No Fraudulento</text>\n</g>\n<!-- 6&#45;&gt;8 -->\n<g id=\"edge8\" class=\"edge\">\n<title>6&#45;&gt;8</title>\n<path fill=\"none\" stroke=\"black\" d=\"M263.23,-103.73C263.68,-95.52 264.16,-86.86 264.61,-78.56\"/>\n<polygon fill=\"black\" stroke=\"black\" points=\"268.12,-78.48 265.18,-68.3 261.13,-78.09 268.12,-78.48\"/>\n</g>\n<!-- 10 -->\n<g id=\"node11\" class=\"node\">\n<title>10</title>\n<path fill=\"#e5833c\" stroke=\"black\" d=\"M745,-306C745,-306 503,-306 503,-306 497,-306 491,-300 491,-294 491,-294 491,-235 491,-235 491,-229 497,-223 503,-223 503,-223 745,-223 745,-223 751,-223 757,-229 757,-235 757,-235 757,-294 757,-294 757,-300 751,-306 745,-306\"/>\n<text text-anchor=\"start\" x=\"499\" y=\"-290.8\" font-family=\"Helvetica,sans-Serif\" font-size=\"14.00\">distance_from_last_transaction ≤ 1.746</text>\n<text text-anchor=\"start\" x=\"574\" y=\"-275.8\" font-family=\"Helvetica,sans-Serif\" font-size=\"14.00\">entropy = 0.104</text>\n<text text-anchor=\"start\" x=\"568\" y=\"-260.8\" font-family=\"Helvetica,sans-Serif\" font-size=\"14.00\">samples = 12556</text>\n<text text-anchor=\"start\" x=\"559\" y=\"-245.8\" font-family=\"Helvetica,sans-Serif\" font-size=\"14.00\">value = [12385, 171]</text>\n<text text-anchor=\"start\" x=\"551\" y=\"-230.8\" font-family=\"Helvetica,sans-Serif\" font-size=\"14.00\">class = No Fraudulento</text>\n</g>\n<!-- 9&#45;&gt;10 -->\n<g id=\"edge10\" class=\"edge\">\n<title>9&#45;&gt;10</title>\n<path fill=\"none\" stroke=\"black\" d=\"M698.45,-341.91C689.43,-332.65 679.76,-322.73 670.49,-313.21\"/>\n<polygon fill=\"black\" stroke=\"black\" points=\"672.97,-310.74 663.48,-306.02 667.95,-315.63 672.97,-310.74\"/>\n</g>\n<!-- 15 -->\n<g id=\"node16\" class=\"node\">\n<title>15</title>\n<path fill=\"#c0e0f7\" stroke=\"black\" d=\"M934.5,-306C934.5,-306 803.5,-306 803.5,-306 797.5,-306 791.5,-300 791.5,-294 791.5,-294 791.5,-235 791.5,-235 791.5,-229 797.5,-223 803.5,-223 803.5,-223 934.5,-223 934.5,-223 940.5,-223 946.5,-229 946.5,-235 946.5,-235 946.5,-294 946.5,-294 946.5,-300 940.5,-306 934.5,-306\"/>\n<text text-anchor=\"start\" x=\"810\" y=\"-290.8\" font-family=\"Helvetica,sans-Serif\" font-size=\"14.00\">used_chip ≤ 0.314</text>\n<text text-anchor=\"start\" x=\"819\" y=\"-275.8\" font-family=\"Helvetica,sans-Serif\" font-size=\"14.00\">entropy = 0.974</text>\n<text text-anchor=\"start\" x=\"813\" y=\"-260.8\" font-family=\"Helvetica,sans-Serif\" font-size=\"14.00\">samples = 23226</text>\n<text text-anchor=\"start\" x=\"799.5\" y=\"-245.8\" font-family=\"Helvetica,sans-Serif\" font-size=\"14.00\">value = [9405, 13821]</text>\n<text text-anchor=\"start\" x=\"807\" y=\"-230.8\" font-family=\"Helvetica,sans-Serif\" font-size=\"14.00\">class = Fraudulento</text>\n</g>\n<!-- 9&#45;&gt;15 -->\n<g id=\"edge15\" class=\"edge\">\n<title>9&#45;&gt;15</title>\n<path fill=\"none\" stroke=\"black\" d=\"M783.45,-341.91C793.92,-332.56 805.14,-322.54 815.9,-312.93\"/>\n<polygon fill=\"black\" stroke=\"black\" points=\"818.5,-315.29 823.63,-306.02 813.84,-310.07 818.5,-315.29\"/>\n</g>\n<!-- 11 -->\n<g id=\"node12\" class=\"node\">\n<title>11</title>\n<path fill=\"#e58139\" stroke=\"black\" d=\"M502,-179.5C502,-179.5 364,-179.5 364,-179.5 358,-179.5 352,-173.5 352,-167.5 352,-167.5 352,-123.5 352,-123.5 352,-117.5 358,-111.5 364,-111.5 364,-111.5 502,-111.5 502,-111.5 508,-111.5 514,-117.5 514,-123.5 514,-123.5 514,-167.5 514,-167.5 514,-173.5 508,-179.5 502,-179.5\"/>\n<text text-anchor=\"start\" x=\"391\" y=\"-164.3\" font-family=\"Helvetica,sans-Serif\" font-size=\"14.00\">entropy = 0.0</text>\n<text text-anchor=\"start\" x=\"377\" y=\"-149.3\" font-family=\"Helvetica,sans-Serif\" font-size=\"14.00\">samples = 12361</text>\n<text text-anchor=\"start\" x=\"376\" y=\"-134.3\" font-family=\"Helvetica,sans-Serif\" font-size=\"14.00\">value = [12361, 0]</text>\n<text text-anchor=\"start\" x=\"360\" y=\"-119.3\" font-family=\"Helvetica,sans-Serif\" font-size=\"14.00\">class = No Fraudulento</text>\n</g>\n<!-- 10&#45;&gt;11 -->\n<g id=\"edge11\" class=\"edge\">\n<title>10&#45;&gt;11</title>\n<path fill=\"none\" stroke=\"black\" d=\"M557.73,-222.91C537.65,-210.6 515.65,-197.13 495.8,-184.97\"/>\n<polygon fill=\"black\" stroke=\"black\" points=\"497.5,-181.91 487.14,-179.67 493.84,-187.88 497.5,-181.91\"/>\n</g>\n<!-- 12 -->\n<g id=\"node13\" class=\"node\">\n<title>12</title>\n<path fill=\"#55abe9\" stroke=\"black\" d=\"M703.5,-187C703.5,-187 544.5,-187 544.5,-187 538.5,-187 532.5,-181 532.5,-175 532.5,-175 532.5,-116 532.5,-116 532.5,-110 538.5,-104 544.5,-104 544.5,-104 703.5,-104 703.5,-104 709.5,-104 715.5,-110 715.5,-116 715.5,-116 715.5,-175 715.5,-175 715.5,-181 709.5,-187 703.5,-187\"/>\n<text text-anchor=\"start\" x=\"540.5\" y=\"-171.8\" font-family=\"Helvetica,sans-Serif\" font-size=\"14.00\">used_pin_number ≤ 1.328</text>\n<text text-anchor=\"start\" x=\"574\" y=\"-156.8\" font-family=\"Helvetica,sans-Serif\" font-size=\"14.00\">entropy = 0.538</text>\n<text text-anchor=\"start\" x=\"576.5\" y=\"-141.8\" font-family=\"Helvetica,sans-Serif\" font-size=\"14.00\">samples = 195</text>\n<text text-anchor=\"start\" x=\"571\" y=\"-126.8\" font-family=\"Helvetica,sans-Serif\" font-size=\"14.00\">value = [24, 171]</text>\n<text text-anchor=\"start\" x=\"562\" y=\"-111.8\" font-family=\"Helvetica,sans-Serif\" font-size=\"14.00\">class = Fraudulento</text>\n</g>\n<!-- 10&#45;&gt;12 -->\n<g id=\"edge12\" class=\"edge\">\n<title>10&#45;&gt;12</title>\n<path fill=\"none\" stroke=\"black\" d=\"M624,-222.91C624,-214.65 624,-205.86 624,-197.3\"/>\n<polygon fill=\"black\" stroke=\"black\" points=\"627.5,-197.02 624,-187.02 620.5,-197.02 627.5,-197.02\"/>\n</g>\n<!-- 13 -->\n<g id=\"node14\" class=\"node\">\n<title>13</title>\n<path fill=\"#399de5\" stroke=\"black\" d=\"M506,-68C506,-68 390,-68 390,-68 384,-68 378,-62 378,-56 378,-56 378,-12 378,-12 378,-6 384,0 390,0 390,0 506,0 506,0 512,0 518,-6 518,-12 518,-12 518,-56 518,-56 518,-62 512,-68 506,-68\"/>\n<text text-anchor=\"start\" x=\"406\" y=\"-52.8\" font-family=\"Helvetica,sans-Serif\" font-size=\"14.00\">entropy = 0.0</text>\n<text text-anchor=\"start\" x=\"400.5\" y=\"-37.8\" font-family=\"Helvetica,sans-Serif\" font-size=\"14.00\">samples = 171</text>\n<text text-anchor=\"start\" x=\"399.5\" y=\"-22.8\" font-family=\"Helvetica,sans-Serif\" font-size=\"14.00\">value = [0, 171]</text>\n<text text-anchor=\"start\" x=\"386\" y=\"-7.8\" font-family=\"Helvetica,sans-Serif\" font-size=\"14.00\">class = Fraudulento</text>\n</g>\n<!-- 12&#45;&gt;13 -->\n<g id=\"edge13\" class=\"edge\">\n<title>12&#45;&gt;13</title>\n<path fill=\"none\" stroke=\"black\" d=\"M558.46,-103.73C542.55,-93.82 525.58,-83.27 509.84,-73.48\"/>\n<polygon fill=\"black\" stroke=\"black\" points=\"511.58,-70.44 501.24,-68.13 507.88,-76.38 511.58,-70.44\"/>\n</g>\n<!-- 14 -->\n<g id=\"node15\" class=\"node\">\n<title>14</title>\n<path fill=\"#e58139\" stroke=\"black\" d=\"M686,-68C686,-68 548,-68 548,-68 542,-68 536,-62 536,-56 536,-56 536,-12 536,-12 536,-6 542,0 548,0 548,0 686,0 686,0 692,0 698,-6 698,-12 698,-12 698,-56 698,-56 698,-62 692,-68 686,-68\"/>\n<text text-anchor=\"start\" x=\"575\" y=\"-52.8\" font-family=\"Helvetica,sans-Serif\" font-size=\"14.00\">entropy = 0.0</text>\n<text text-anchor=\"start\" x=\"573.5\" y=\"-37.8\" font-family=\"Helvetica,sans-Serif\" font-size=\"14.00\">samples = 24</text>\n<text text-anchor=\"start\" x=\"572.5\" y=\"-22.8\" font-family=\"Helvetica,sans-Serif\" font-size=\"14.00\">value = [24, 0]</text>\n<text text-anchor=\"start\" x=\"544\" y=\"-7.8\" font-family=\"Helvetica,sans-Serif\" font-size=\"14.00\">class = No Fraudulento</text>\n</g>\n<!-- 12&#45;&gt;14 -->\n<g id=\"edge14\" class=\"edge\">\n<title>12&#45;&gt;14</title>\n<path fill=\"none\" stroke=\"black\" d=\"M621.39,-103.73C620.86,-95.43 620.3,-86.67 619.77,-78.28\"/>\n<polygon fill=\"black\" stroke=\"black\" points=\"623.26,-78.06 619.13,-68.3 616.27,-78.5 623.26,-78.06\"/>\n</g>\n<!-- 16 -->\n<g id=\"node17\" class=\"node\">\n<title>16</title>\n<path fill=\"#4ea8e8\" stroke=\"black\" d=\"M948.5,-187C948.5,-187 789.5,-187 789.5,-187 783.5,-187 777.5,-181 777.5,-175 777.5,-175 777.5,-116 777.5,-116 777.5,-110 783.5,-104 789.5,-104 789.5,-104 948.5,-104 948.5,-104 954.5,-104 960.5,-110 960.5,-116 960.5,-116 960.5,-175 960.5,-175 960.5,-181 954.5,-187 948.5,-187\"/>\n<text text-anchor=\"start\" x=\"785.5\" y=\"-171.8\" font-family=\"Helvetica,sans-Serif\" font-size=\"14.00\">used_pin_number ≤ 1.328</text>\n<text text-anchor=\"start\" x=\"819\" y=\"-156.8\" font-family=\"Helvetica,sans-Serif\" font-size=\"14.00\">entropy = 0.459</text>\n<text text-anchor=\"start\" x=\"813\" y=\"-141.8\" font-family=\"Helvetica,sans-Serif\" font-size=\"14.00\">samples = 15178</text>\n<text text-anchor=\"start\" x=\"799.5\" y=\"-126.8\" font-family=\"Helvetica,sans-Serif\" font-size=\"14.00\">value = [1472, 13706]</text>\n<text text-anchor=\"start\" x=\"807\" y=\"-111.8\" font-family=\"Helvetica,sans-Serif\" font-size=\"14.00\">class = Fraudulento</text>\n</g>\n<!-- 15&#45;&gt;16 -->\n<g id=\"edge16\" class=\"edge\">\n<title>15&#45;&gt;16</title>\n<path fill=\"none\" stroke=\"black\" d=\"M869,-222.91C869,-214.65 869,-205.86 869,-197.3\"/>\n<polygon fill=\"black\" stroke=\"black\" points=\"872.5,-197.02 869,-187.02 865.5,-197.02 872.5,-197.02\"/>\n</g>\n<!-- 19 -->\n<g id=\"node20\" class=\"node\">\n<title>19</title>\n<path fill=\"#e5833c\" stroke=\"black\" d=\"M1256,-187C1256,-187 1014,-187 1014,-187 1008,-187 1002,-181 1002,-175 1002,-175 1002,-116 1002,-116 1002,-110 1008,-104 1014,-104 1014,-104 1256,-104 1256,-104 1262,-104 1268,-110 1268,-116 1268,-116 1268,-175 1268,-175 1268,-181 1262,-187 1256,-187\"/>\n<text text-anchor=\"start\" x=\"1010\" y=\"-171.8\" font-family=\"Helvetica,sans-Serif\" font-size=\"14.00\">distance_from_last_transaction ≤ 1.764</text>\n<text text-anchor=\"start\" x=\"1085\" y=\"-156.8\" font-family=\"Helvetica,sans-Serif\" font-size=\"14.00\">entropy = 0.108</text>\n<text text-anchor=\"start\" x=\"1083.5\" y=\"-141.8\" font-family=\"Helvetica,sans-Serif\" font-size=\"14.00\">samples = 8048</text>\n<text text-anchor=\"start\" x=\"1074\" y=\"-126.8\" font-family=\"Helvetica,sans-Serif\" font-size=\"14.00\">value = [7933, 115]</text>\n<text text-anchor=\"start\" x=\"1062\" y=\"-111.8\" font-family=\"Helvetica,sans-Serif\" font-size=\"14.00\">class = No Fraudulento</text>\n</g>\n<!-- 15&#45;&gt;19 -->\n<g id=\"edge19\" class=\"edge\">\n<title>15&#45;&gt;19</title>\n<path fill=\"none\" stroke=\"black\" d=\"M946.65,-229.34C973.77,-217.42 1004.63,-203.84 1033.41,-191.18\"/>\n<polygon fill=\"black\" stroke=\"black\" points=\"1034.93,-194.34 1042.67,-187.11 1032.11,-187.93 1034.93,-194.34\"/>\n</g>\n<!-- 17 -->\n<g id=\"node18\" class=\"node\">\n<title>17</title>\n<path fill=\"#399de5\" stroke=\"black\" d=\"M844,-68C844,-68 728,-68 728,-68 722,-68 716,-62 716,-56 716,-56 716,-12 716,-12 716,-6 722,0 728,0 728,0 844,0 844,0 850,0 856,-6 856,-12 856,-12 856,-56 856,-56 856,-62 850,-68 844,-68\"/>\n<text text-anchor=\"start\" x=\"744\" y=\"-52.8\" font-family=\"Helvetica,sans-Serif\" font-size=\"14.00\">entropy = 0.0</text>\n<text text-anchor=\"start\" x=\"730\" y=\"-37.8\" font-family=\"Helvetica,sans-Serif\" font-size=\"14.00\">samples = 13706</text>\n<text text-anchor=\"start\" x=\"729\" y=\"-22.8\" font-family=\"Helvetica,sans-Serif\" font-size=\"14.00\">value = [0, 13706]</text>\n<text text-anchor=\"start\" x=\"724\" y=\"-7.8\" font-family=\"Helvetica,sans-Serif\" font-size=\"14.00\">class = Fraudulento</text>\n</g>\n<!-- 16&#45;&gt;17 -->\n<g id=\"edge17\" class=\"edge\">\n<title>16&#45;&gt;17</title>\n<path fill=\"none\" stroke=\"black\" d=\"M838.09,-103.73C831.32,-94.79 824.14,-85.32 817.35,-76.36\"/>\n<polygon fill=\"black\" stroke=\"black\" points=\"820.07,-74.15 811.24,-68.3 814.49,-78.38 820.07,-74.15\"/>\n</g>\n<!-- 18 -->\n<g id=\"node19\" class=\"node\">\n<title>18</title>\n<path fill=\"#e58139\" stroke=\"black\" d=\"M1024,-68C1024,-68 886,-68 886,-68 880,-68 874,-62 874,-56 874,-56 874,-12 874,-12 874,-6 880,0 886,0 886,0 1024,0 1024,0 1030,0 1036,-6 1036,-12 1036,-12 1036,-56 1036,-56 1036,-62 1030,-68 1024,-68\"/>\n<text text-anchor=\"start\" x=\"913\" y=\"-52.8\" font-family=\"Helvetica,sans-Serif\" font-size=\"14.00\">entropy = 0.0</text>\n<text text-anchor=\"start\" x=\"903.5\" y=\"-37.8\" font-family=\"Helvetica,sans-Serif\" font-size=\"14.00\">samples = 1472</text>\n<text text-anchor=\"start\" x=\"902\" y=\"-22.8\" font-family=\"Helvetica,sans-Serif\" font-size=\"14.00\">value = [1472, 0]</text>\n<text text-anchor=\"start\" x=\"882\" y=\"-7.8\" font-family=\"Helvetica,sans-Serif\" font-size=\"14.00\">class = No Fraudulento</text>\n</g>\n<!-- 16&#45;&gt;18 -->\n<g id=\"edge18\" class=\"edge\">\n<title>16&#45;&gt;18</title>\n<path fill=\"none\" stroke=\"black\" d=\"M901.02,-103.73C908.04,-94.79 915.48,-85.32 922.52,-76.36\"/>\n<polygon fill=\"black\" stroke=\"black\" points=\"925.42,-78.33 928.85,-68.3 919.92,-74 925.42,-78.33\"/>\n</g>\n<!-- 20 -->\n<g id=\"node21\" class=\"node\">\n<title>20</title>\n<path fill=\"#e58139\" stroke=\"black\" d=\"M1204,-68C1204,-68 1066,-68 1066,-68 1060,-68 1054,-62 1054,-56 1054,-56 1054,-12 1054,-12 1054,-6 1060,0 1066,0 1066,0 1204,0 1204,0 1210,0 1216,-6 1216,-12 1216,-12 1216,-56 1216,-56 1216,-62 1210,-68 1204,-68\"/>\n<text text-anchor=\"start\" x=\"1093\" y=\"-52.8\" font-family=\"Helvetica,sans-Serif\" font-size=\"14.00\">entropy = 0.0</text>\n<text text-anchor=\"start\" x=\"1083.5\" y=\"-37.8\" font-family=\"Helvetica,sans-Serif\" font-size=\"14.00\">samples = 7922</text>\n<text text-anchor=\"start\" x=\"1082\" y=\"-22.8\" font-family=\"Helvetica,sans-Serif\" font-size=\"14.00\">value = [7922, 0]</text>\n<text text-anchor=\"start\" x=\"1062\" y=\"-7.8\" font-family=\"Helvetica,sans-Serif\" font-size=\"14.00\">class = No Fraudulento</text>\n</g>\n<!-- 19&#45;&gt;20 -->\n<g id=\"edge20\" class=\"edge\">\n<title>19&#45;&gt;20</title>\n<path fill=\"none\" stroke=\"black\" d=\"M1135,-103.73C1135,-95.52 1135,-86.86 1135,-78.56\"/>\n<polygon fill=\"black\" stroke=\"black\" points=\"1138.5,-78.3 1135,-68.3 1131.5,-78.3 1138.5,-78.3\"/>\n</g>\n<!-- 21 -->\n<g id=\"node22\" class=\"node\">\n<title>21</title>\n<path fill=\"#4ca6e7\" stroke=\"black\" d=\"M1362,-68C1362,-68 1246,-68 1246,-68 1240,-68 1234,-62 1234,-56 1234,-56 1234,-12 1234,-12 1234,-6 1240,0 1246,0 1246,0 1362,0 1362,0 1368,0 1374,-6 1374,-12 1374,-12 1374,-56 1374,-56 1374,-62 1368,-68 1362,-68\"/>\n<text text-anchor=\"start\" x=\"1254\" y=\"-52.8\" font-family=\"Helvetica,sans-Serif\" font-size=\"14.00\">entropy = 0.427</text>\n<text text-anchor=\"start\" x=\"1256.5\" y=\"-37.8\" font-family=\"Helvetica,sans-Serif\" font-size=\"14.00\">samples = 126</text>\n<text text-anchor=\"start\" x=\"1251\" y=\"-22.8\" font-family=\"Helvetica,sans-Serif\" font-size=\"14.00\">value = [11, 115]</text>\n<text text-anchor=\"start\" x=\"1242\" y=\"-7.8\" font-family=\"Helvetica,sans-Serif\" font-size=\"14.00\">class = Fraudulento</text>\n</g>\n<!-- 19&#45;&gt;21 -->\n<g id=\"edge21\" class=\"edge\">\n<title>19&#45;&gt;21</title>\n<path fill=\"none\" stroke=\"black\" d=\"M1197.93,-103.73C1213.07,-93.92 1229.2,-83.46 1244.19,-73.75\"/>\n<polygon fill=\"black\" stroke=\"black\" points=\"1246.39,-76.5 1252.88,-68.13 1242.58,-70.63 1246.39,-76.5\"/>\n</g>\n<!-- 23 -->\n<g id=\"node24\" class=\"node\">\n<title>23</title>\n<path fill=\"#e99355\" stroke=\"black\" d=\"M2145,-425C2145,-425 1961,-425 1961,-425 1955,-425 1949,-419 1949,-413 1949,-413 1949,-354 1949,-354 1949,-348 1955,-342 1961,-342 1961,-342 2145,-342 2145,-342 2151,-342 2157,-348 2157,-354 2157,-354 2157,-413 2157,-413 2157,-419 2151,-425 2145,-425\"/>\n<text text-anchor=\"start\" x=\"1957\" y=\"-409.8\" font-family=\"Helvetica,sans-Serif\" font-size=\"14.00\">distance_from_home ≤ &#45;0.378</text>\n<text text-anchor=\"start\" x=\"2003\" y=\"-394.8\" font-family=\"Helvetica,sans-Serif\" font-size=\"14.00\">entropy = 0.539</text>\n<text text-anchor=\"start\" x=\"1997\" y=\"-379.8\" font-family=\"Helvetica,sans-Serif\" font-size=\"14.00\">samples = 28913</text>\n<text text-anchor=\"start\" x=\"1983.5\" y=\"-364.8\" font-family=\"Helvetica,sans-Serif\" font-size=\"14.00\">value = [25341, 3572]</text>\n<text text-anchor=\"start\" x=\"1980\" y=\"-349.8\" font-family=\"Helvetica,sans-Serif\" font-size=\"14.00\">class = No Fraudulento</text>\n</g>\n<!-- 22&#45;&gt;23 -->\n<g id=\"edge23\" class=\"edge\">\n<title>22&#45;&gt;23</title>\n<path fill=\"none\" stroke=\"black\" d=\"M2053,-460.91C2053,-452.65 2053,-443.86 2053,-435.3\"/>\n<polygon fill=\"black\" stroke=\"black\" points=\"2056.5,-435.02 2053,-425.02 2049.5,-435.02 2056.5,-435.02\"/>\n</g>\n<!-- 38 -->\n<g id=\"node39\" class=\"node\">\n<title>38</title>\n<path fill=\"#4ea8e8\" stroke=\"black\" d=\"M2626.5,-425C2626.5,-425 2467.5,-425 2467.5,-425 2461.5,-425 2455.5,-419 2455.5,-413 2455.5,-413 2455.5,-354 2455.5,-354 2455.5,-348 2461.5,-342 2467.5,-342 2467.5,-342 2626.5,-342 2626.5,-342 2632.5,-342 2638.5,-348 2638.5,-354 2638.5,-354 2638.5,-413 2638.5,-413 2638.5,-419 2632.5,-425 2626.5,-425\"/>\n<text text-anchor=\"start\" x=\"2463.5\" y=\"-409.8\" font-family=\"Helvetica,sans-Serif\" font-size=\"14.00\">used_pin_number ≤ 1.328</text>\n<text text-anchor=\"start\" x=\"2501\" y=\"-394.8\" font-family=\"Helvetica,sans-Serif\" font-size=\"14.00\">entropy = 0.46</text>\n<text text-anchor=\"start\" x=\"2491\" y=\"-379.8\" font-family=\"Helvetica,sans-Serif\" font-size=\"14.00\">samples = 53714</text>\n<text text-anchor=\"start\" x=\"2477.5\" y=\"-364.8\" font-family=\"Helvetica,sans-Serif\" font-size=\"14.00\">value = [5219, 48495]</text>\n<text text-anchor=\"start\" x=\"2485\" y=\"-349.8\" font-family=\"Helvetica,sans-Serif\" font-size=\"14.00\">class = Fraudulento</text>\n</g>\n<!-- 22&#45;&gt;38 -->\n<g id=\"edge38\" class=\"edge\">\n<title>22&#45;&gt;38</title>\n<path fill=\"none\" stroke=\"black\" d=\"M2134.57,-482.18C2219.71,-462.02 2353.38,-430.36 2445.34,-408.58\"/>\n<polygon fill=\"black\" stroke=\"black\" points=\"2446.3,-411.95 2455.22,-406.24 2444.68,-405.14 2446.3,-411.95\"/>\n</g>\n<!-- 24 -->\n<g id=\"node25\" class=\"node\">\n<title>24</title>\n<path fill=\"#c7e3f8\" stroke=\"black\" d=\"M1972,-306C1972,-306 1850,-306 1850,-306 1844,-306 1838,-300 1838,-294 1838,-294 1838,-235 1838,-235 1838,-229 1844,-223 1850,-223 1850,-223 1972,-223 1972,-223 1978,-223 1984,-229 1984,-235 1984,-235 1984,-294 1984,-294 1984,-300 1978,-306 1972,-306\"/>\n<text text-anchor=\"start\" x=\"1852\" y=\"-290.8\" font-family=\"Helvetica,sans-Serif\" font-size=\"14.00\">used_chip ≤ 0.314</text>\n<text text-anchor=\"start\" x=\"1861\" y=\"-275.8\" font-family=\"Helvetica,sans-Serif\" font-size=\"14.00\">entropy = 0.981</text>\n<text text-anchor=\"start\" x=\"1859.5\" y=\"-260.8\" font-family=\"Helvetica,sans-Serif\" font-size=\"14.00\">samples = 3362</text>\n<text text-anchor=\"start\" x=\"1846\" y=\"-245.8\" font-family=\"Helvetica,sans-Serif\" font-size=\"14.00\">value = [1406, 1956]</text>\n<text text-anchor=\"start\" x=\"1849\" y=\"-230.8\" font-family=\"Helvetica,sans-Serif\" font-size=\"14.00\">class = Fraudulento</text>\n</g>\n<!-- 23&#45;&gt;24 -->\n<g id=\"edge24\" class=\"edge\">\n<title>23&#45;&gt;24</title>\n<path fill=\"none\" stroke=\"black\" d=\"M2003.73,-341.91C1992.28,-332.47 1979.99,-322.34 1968.22,-312.65\"/>\n<polygon fill=\"black\" stroke=\"black\" points=\"1970.12,-309.68 1960.18,-306.02 1965.67,-315.08 1970.12,-309.68\"/>\n</g>\n<!-- 31 -->\n<g id=\"node32\" class=\"node\">\n<title>31</title>\n<path fill=\"#e78a46\" stroke=\"black\" d=\"M2303.5,-306C2303.5,-306 2124.5,-306 2124.5,-306 2118.5,-306 2112.5,-300 2112.5,-294 2112.5,-294 2112.5,-235 2112.5,-235 2112.5,-229 2118.5,-223 2124.5,-223 2124.5,-223 2303.5,-223 2303.5,-223 2309.5,-223 2315.5,-229 2315.5,-235 2315.5,-235 2315.5,-294 2315.5,-294 2315.5,-300 2309.5,-306 2303.5,-306\"/>\n<text text-anchor=\"start\" x=\"2120.5\" y=\"-290.8\" font-family=\"Helvetica,sans-Serif\" font-size=\"14.00\">distance_from_home ≤ 1.123</text>\n<text text-anchor=\"start\" x=\"2168\" y=\"-275.8\" font-family=\"Helvetica,sans-Serif\" font-size=\"14.00\">entropy = 0.34</text>\n<text text-anchor=\"start\" x=\"2158\" y=\"-260.8\" font-family=\"Helvetica,sans-Serif\" font-size=\"14.00\">samples = 25551</text>\n<text text-anchor=\"start\" x=\"2144.5\" y=\"-245.8\" font-family=\"Helvetica,sans-Serif\" font-size=\"14.00\">value = [23935, 1616]</text>\n<text text-anchor=\"start\" x=\"2141\" y=\"-230.8\" font-family=\"Helvetica,sans-Serif\" font-size=\"14.00\">class = No Fraudulento</text>\n</g>\n<!-- 23&#45;&gt;31 -->\n<g id=\"edge31\" class=\"edge\">\n<title>23&#45;&gt;31</title>\n<path fill=\"none\" stroke=\"black\" d=\"M2108.86,-341.91C2122.1,-332.29 2136.32,-321.95 2149.89,-312.09\"/>\n<polygon fill=\"black\" stroke=\"black\" points=\"2152.21,-314.73 2158.24,-306.02 2148.09,-309.07 2152.21,-314.73\"/>\n</g>\n<!-- 25 -->\n<g id=\"node26\" class=\"node\">\n<title>25</title>\n<path fill=\"#50a8e8\" stroke=\"black\" d=\"M1710.5,-187C1710.5,-187 1551.5,-187 1551.5,-187 1545.5,-187 1539.5,-181 1539.5,-175 1539.5,-175 1539.5,-116 1539.5,-116 1539.5,-110 1545.5,-104 1551.5,-104 1551.5,-104 1710.5,-104 1710.5,-104 1716.5,-104 1722.5,-110 1722.5,-116 1722.5,-116 1722.5,-175 1722.5,-175 1722.5,-181 1716.5,-187 1710.5,-187\"/>\n<text text-anchor=\"start\" x=\"1547.5\" y=\"-171.8\" font-family=\"Helvetica,sans-Serif\" font-size=\"14.00\">used_pin_number ≤ 1.328</text>\n<text text-anchor=\"start\" x=\"1585\" y=\"-156.8\" font-family=\"Helvetica,sans-Serif\" font-size=\"14.00\">entropy = 0.48</text>\n<text text-anchor=\"start\" x=\"1579.5\" y=\"-141.8\" font-family=\"Helvetica,sans-Serif\" font-size=\"14.00\">samples = 2167</text>\n<text text-anchor=\"start\" x=\"1570\" y=\"-126.8\" font-family=\"Helvetica,sans-Serif\" font-size=\"14.00\">value = [224, 1943]</text>\n<text text-anchor=\"start\" x=\"1569\" y=\"-111.8\" font-family=\"Helvetica,sans-Serif\" font-size=\"14.00\">class = Fraudulento</text>\n</g>\n<!-- 24&#45;&gt;25 -->\n<g id=\"edge25\" class=\"edge\">\n<title>24&#45;&gt;25</title>\n<path fill=\"none\" stroke=\"black\" d=\"M1837.8,-232.91C1805.45,-219.39 1766.88,-203.28 1731.86,-188.65\"/>\n<polygon fill=\"black\" stroke=\"black\" points=\"1733.15,-185.39 1722.57,-184.76 1730.45,-191.85 1733.15,-185.39\"/>\n</g>\n<!-- 28 -->\n<g id=\"node29\" class=\"node\">\n<title>28</title>\n<path fill=\"#e5823b\" stroke=\"black\" d=\"M2032,-187C2032,-187 1790,-187 1790,-187 1784,-187 1778,-181 1778,-175 1778,-175 1778,-116 1778,-116 1778,-110 1784,-104 1790,-104 1790,-104 2032,-104 2032,-104 2038,-104 2044,-110 2044,-116 2044,-116 2044,-175 2044,-175 2044,-181 2038,-187 2032,-187\"/>\n<text text-anchor=\"start\" x=\"1786\" y=\"-171.8\" font-family=\"Helvetica,sans-Serif\" font-size=\"14.00\">distance_from_last_transaction ≤ 1.758</text>\n<text text-anchor=\"start\" x=\"1861\" y=\"-156.8\" font-family=\"Helvetica,sans-Serif\" font-size=\"14.00\">entropy = 0.087</text>\n<text text-anchor=\"start\" x=\"1859.5\" y=\"-141.8\" font-family=\"Helvetica,sans-Serif\" font-size=\"14.00\">samples = 1195</text>\n<text text-anchor=\"start\" x=\"1854\" y=\"-126.8\" font-family=\"Helvetica,sans-Serif\" font-size=\"14.00\">value = [1182, 13]</text>\n<text text-anchor=\"start\" x=\"1838\" y=\"-111.8\" font-family=\"Helvetica,sans-Serif\" font-size=\"14.00\">class = No Fraudulento</text>\n</g>\n<!-- 24&#45;&gt;28 -->\n<g id=\"edge28\" class=\"edge\">\n<title>24&#45;&gt;28</title>\n<path fill=\"none\" stroke=\"black\" d=\"M1911,-222.91C1911,-214.65 1911,-205.86 1911,-197.3\"/>\n<polygon fill=\"black\" stroke=\"black\" points=\"1914.5,-197.02 1911,-187.02 1907.5,-197.02 1914.5,-197.02\"/>\n</g>\n<!-- 26 -->\n<g id=\"node27\" class=\"node\">\n<title>26</title>\n<path fill=\"#399de5\" stroke=\"black\" d=\"M1520,-68C1520,-68 1404,-68 1404,-68 1398,-68 1392,-62 1392,-56 1392,-56 1392,-12 1392,-12 1392,-6 1398,0 1404,0 1404,0 1520,0 1520,0 1526,0 1532,-6 1532,-12 1532,-12 1532,-56 1532,-56 1532,-62 1526,-68 1520,-68\"/>\n<text text-anchor=\"start\" x=\"1420\" y=\"-52.8\" font-family=\"Helvetica,sans-Serif\" font-size=\"14.00\">entropy = 0.0</text>\n<text text-anchor=\"start\" x=\"1410.5\" y=\"-37.8\" font-family=\"Helvetica,sans-Serif\" font-size=\"14.00\">samples = 1943</text>\n<text text-anchor=\"start\" x=\"1409\" y=\"-22.8\" font-family=\"Helvetica,sans-Serif\" font-size=\"14.00\">value = [0, 1943]</text>\n<text text-anchor=\"start\" x=\"1400\" y=\"-7.8\" font-family=\"Helvetica,sans-Serif\" font-size=\"14.00\">class = Fraudulento</text>\n</g>\n<!-- 25&#45;&gt;26 -->\n<g id=\"edge26\" class=\"edge\">\n<title>25&#45;&gt;26</title>\n<path fill=\"none\" stroke=\"black\" d=\"M1568.07,-103.73C1552.93,-93.92 1536.8,-83.46 1521.81,-73.75\"/>\n<polygon fill=\"black\" stroke=\"black\" points=\"1523.42,-70.63 1513.12,-68.13 1519.61,-76.5 1523.42,-70.63\"/>\n</g>\n<!-- 27 -->\n<g id=\"node28\" class=\"node\">\n<title>27</title>\n<path fill=\"#e58139\" stroke=\"black\" d=\"M1700,-68C1700,-68 1562,-68 1562,-68 1556,-68 1550,-62 1550,-56 1550,-56 1550,-12 1550,-12 1550,-6 1556,0 1562,0 1562,0 1700,0 1700,0 1706,0 1712,-6 1712,-12 1712,-12 1712,-56 1712,-56 1712,-62 1706,-68 1700,-68\"/>\n<text text-anchor=\"start\" x=\"1589\" y=\"-52.8\" font-family=\"Helvetica,sans-Serif\" font-size=\"14.00\">entropy = 0.0</text>\n<text text-anchor=\"start\" x=\"1583.5\" y=\"-37.8\" font-family=\"Helvetica,sans-Serif\" font-size=\"14.00\">samples = 224</text>\n<text text-anchor=\"start\" x=\"1582.5\" y=\"-22.8\" font-family=\"Helvetica,sans-Serif\" font-size=\"14.00\">value = [224, 0]</text>\n<text text-anchor=\"start\" x=\"1558\" y=\"-7.8\" font-family=\"Helvetica,sans-Serif\" font-size=\"14.00\">class = No Fraudulento</text>\n</g>\n<!-- 25&#45;&gt;27 -->\n<g id=\"edge27\" class=\"edge\">\n<title>25&#45;&gt;27</title>\n<path fill=\"none\" stroke=\"black\" d=\"M1631,-103.73C1631,-95.52 1631,-86.86 1631,-78.56\"/>\n<polygon fill=\"black\" stroke=\"black\" points=\"1634.5,-78.3 1631,-68.3 1627.5,-78.3 1634.5,-78.3\"/>\n</g>\n<!-- 29 -->\n<g id=\"node30\" class=\"node\">\n<title>29</title>\n<path fill=\"#e58139\" stroke=\"black\" d=\"M1880,-68C1880,-68 1742,-68 1742,-68 1736,-68 1730,-62 1730,-56 1730,-56 1730,-12 1730,-12 1730,-6 1736,0 1742,0 1742,0 1880,0 1880,0 1886,0 1892,-6 1892,-12 1892,-12 1892,-56 1892,-56 1892,-62 1886,-68 1880,-68\"/>\n<text text-anchor=\"start\" x=\"1769\" y=\"-52.8\" font-family=\"Helvetica,sans-Serif\" font-size=\"14.00\">entropy = 0.0</text>\n<text text-anchor=\"start\" x=\"1759.5\" y=\"-37.8\" font-family=\"Helvetica,sans-Serif\" font-size=\"14.00\">samples = 1181</text>\n<text text-anchor=\"start\" x=\"1758\" y=\"-22.8\" font-family=\"Helvetica,sans-Serif\" font-size=\"14.00\">value = [1181, 0]</text>\n<text text-anchor=\"start\" x=\"1738\" y=\"-7.8\" font-family=\"Helvetica,sans-Serif\" font-size=\"14.00\">class = No Fraudulento</text>\n</g>\n<!-- 28&#45;&gt;29 -->\n<g id=\"edge29\" class=\"edge\">\n<title>28&#45;&gt;29</title>\n<path fill=\"none\" stroke=\"black\" d=\"M1873.76,-103.73C1865.43,-94.61 1856.6,-84.93 1848.27,-75.81\"/>\n<polygon fill=\"black\" stroke=\"black\" points=\"1850.74,-73.32 1841.41,-68.3 1845.57,-78.04 1850.74,-73.32\"/>\n</g>\n<!-- 30 -->\n<g id=\"node31\" class=\"node\">\n<title>30</title>\n<path fill=\"#48a5e7\" stroke=\"black\" d=\"M2038,-68C2038,-68 1922,-68 1922,-68 1916,-68 1910,-62 1910,-56 1910,-56 1910,-12 1910,-12 1910,-6 1916,0 1922,0 1922,0 2038,0 2038,0 2044,0 2050,-6 2050,-12 2050,-12 2050,-56 2050,-56 2050,-62 2044,-68 2038,-68\"/>\n<text text-anchor=\"start\" x=\"1930\" y=\"-52.8\" font-family=\"Helvetica,sans-Serif\" font-size=\"14.00\">entropy = 0.371</text>\n<text text-anchor=\"start\" x=\"1936.5\" y=\"-37.8\" font-family=\"Helvetica,sans-Serif\" font-size=\"14.00\">samples = 14</text>\n<text text-anchor=\"start\" x=\"1935.5\" y=\"-22.8\" font-family=\"Helvetica,sans-Serif\" font-size=\"14.00\">value = [1, 13]</text>\n<text text-anchor=\"start\" x=\"1918\" y=\"-7.8\" font-family=\"Helvetica,sans-Serif\" font-size=\"14.00\">class = Fraudulento</text>\n</g>\n<!-- 28&#45;&gt;30 -->\n<g id=\"edge30\" class=\"edge\">\n<title>28&#45;&gt;30</title>\n<path fill=\"none\" stroke=\"black\" d=\"M1936.69,-103.73C1942.21,-94.97 1948.05,-85.7 1953.59,-76.91\"/>\n<polygon fill=\"black\" stroke=\"black\" points=\"1956.65,-78.63 1959.02,-68.3 1950.72,-74.89 1956.65,-78.63\"/>\n</g>\n<!-- 32 -->\n<g id=\"node33\" class=\"node\">\n<title>32</title>\n<path fill=\"#e5833c\" stroke=\"black\" d=\"M2335,-187C2335,-187 2093,-187 2093,-187 2087,-187 2081,-181 2081,-175 2081,-175 2081,-116 2081,-116 2081,-110 2087,-104 2093,-104 2093,-104 2335,-104 2335,-104 2341,-104 2347,-110 2347,-116 2347,-116 2347,-175 2347,-175 2347,-181 2341,-187 2335,-187\"/>\n<text text-anchor=\"start\" x=\"2089\" y=\"-171.8\" font-family=\"Helvetica,sans-Serif\" font-size=\"14.00\">distance_from_last_transaction ≤ 1.741</text>\n<text text-anchor=\"start\" x=\"2164\" y=\"-156.8\" font-family=\"Helvetica,sans-Serif\" font-size=\"14.00\">entropy = 0.104</text>\n<text text-anchor=\"start\" x=\"2158\" y=\"-141.8\" font-family=\"Helvetica,sans-Serif\" font-size=\"14.00\">samples = 24124</text>\n<text text-anchor=\"start\" x=\"2149\" y=\"-126.8\" font-family=\"Helvetica,sans-Serif\" font-size=\"14.00\">value = [23797, 327]</text>\n<text text-anchor=\"start\" x=\"2141\" y=\"-111.8\" font-family=\"Helvetica,sans-Serif\" font-size=\"14.00\">class = No Fraudulento</text>\n</g>\n<!-- 31&#45;&gt;32 -->\n<g id=\"edge32\" class=\"edge\">\n<title>31&#45;&gt;32</title>\n<path fill=\"none\" stroke=\"black\" d=\"M2214,-222.91C2214,-214.65 2214,-205.86 2214,-197.3\"/>\n<polygon fill=\"black\" stroke=\"black\" points=\"2217.5,-197.02 2214,-187.02 2210.5,-197.02 2217.5,-197.02\"/>\n</g>\n<!-- 35 -->\n<g id=\"node36\" class=\"node\">\n<title>35</title>\n<path fill=\"#4ea7e8\" stroke=\"black\" d=\"M2555.5,-187C2555.5,-187 2396.5,-187 2396.5,-187 2390.5,-187 2384.5,-181 2384.5,-175 2384.5,-175 2384.5,-116 2384.5,-116 2384.5,-110 2390.5,-104 2396.5,-104 2396.5,-104 2555.5,-104 2555.5,-104 2561.5,-104 2567.5,-110 2567.5,-116 2567.5,-116 2567.5,-175 2567.5,-175 2567.5,-181 2561.5,-187 2555.5,-187\"/>\n<text text-anchor=\"start\" x=\"2392.5\" y=\"-171.8\" font-family=\"Helvetica,sans-Serif\" font-size=\"14.00\">used_pin_number ≤ 1.328</text>\n<text text-anchor=\"start\" x=\"2426\" y=\"-156.8\" font-family=\"Helvetica,sans-Serif\" font-size=\"14.00\">entropy = 0.458</text>\n<text text-anchor=\"start\" x=\"2424.5\" y=\"-141.8\" font-family=\"Helvetica,sans-Serif\" font-size=\"14.00\">samples = 1427</text>\n<text text-anchor=\"start\" x=\"2415\" y=\"-126.8\" font-family=\"Helvetica,sans-Serif\" font-size=\"14.00\">value = [138, 1289]</text>\n<text text-anchor=\"start\" x=\"2414\" y=\"-111.8\" font-family=\"Helvetica,sans-Serif\" font-size=\"14.00\">class = Fraudulento</text>\n</g>\n<!-- 31&#45;&gt;35 -->\n<g id=\"edge35\" class=\"edge\">\n<title>31&#45;&gt;35</title>\n<path fill=\"none\" stroke=\"black\" d=\"M2304.9,-222.91C2327.86,-212.65 2352.65,-201.59 2376.03,-191.14\"/>\n<polygon fill=\"black\" stroke=\"black\" points=\"2377.56,-194.29 2385.26,-187.02 2374.7,-187.9 2377.56,-194.29\"/>\n</g>\n<!-- 33 -->\n<g id=\"node34\" class=\"node\">\n<title>33</title>\n<path fill=\"#e58139\" stroke=\"black\" d=\"M2218,-68C2218,-68 2080,-68 2080,-68 2074,-68 2068,-62 2068,-56 2068,-56 2068,-12 2068,-12 2068,-6 2074,0 2080,0 2080,0 2218,0 2218,0 2224,0 2230,-6 2230,-12 2230,-12 2230,-56 2230,-56 2230,-62 2224,-68 2218,-68\"/>\n<text text-anchor=\"start\" x=\"2107\" y=\"-52.8\" font-family=\"Helvetica,sans-Serif\" font-size=\"14.00\">entropy = 0.0</text>\n<text text-anchor=\"start\" x=\"2093\" y=\"-37.8\" font-family=\"Helvetica,sans-Serif\" font-size=\"14.00\">samples = 23765</text>\n<text text-anchor=\"start\" x=\"2092\" y=\"-22.8\" font-family=\"Helvetica,sans-Serif\" font-size=\"14.00\">value = [23765, 0]</text>\n<text text-anchor=\"start\" x=\"2076\" y=\"-7.8\" font-family=\"Helvetica,sans-Serif\" font-size=\"14.00\">class = No Fraudulento</text>\n</g>\n<!-- 32&#45;&gt;33 -->\n<g id=\"edge33\" class=\"edge\">\n<title>32&#45;&gt;33</title>\n<path fill=\"none\" stroke=\"black\" d=\"M2189.8,-103.73C2184.6,-94.97 2179.1,-85.7 2173.88,-76.91\"/>\n<polygon fill=\"black\" stroke=\"black\" points=\"2176.88,-75.11 2168.77,-68.3 2170.86,-78.69 2176.88,-75.11\"/>\n</g>\n<!-- 34 -->\n<g id=\"node35\" class=\"node\">\n<title>34</title>\n<path fill=\"#4ca7e8\" stroke=\"black\" d=\"M2376,-68C2376,-68 2260,-68 2260,-68 2254,-68 2248,-62 2248,-56 2248,-56 2248,-12 2248,-12 2248,-6 2254,0 2260,0 2260,0 2376,0 2376,0 2382,0 2388,-6 2388,-12 2388,-12 2388,-56 2388,-56 2388,-62 2382,-68 2376,-68\"/>\n<text text-anchor=\"start\" x=\"2268\" y=\"-52.8\" font-family=\"Helvetica,sans-Serif\" font-size=\"14.00\">entropy = 0.434</text>\n<text text-anchor=\"start\" x=\"2270.5\" y=\"-37.8\" font-family=\"Helvetica,sans-Serif\" font-size=\"14.00\">samples = 359</text>\n<text text-anchor=\"start\" x=\"2265\" y=\"-22.8\" font-family=\"Helvetica,sans-Serif\" font-size=\"14.00\">value = [32, 327]</text>\n<text text-anchor=\"start\" x=\"2256\" y=\"-7.8\" font-family=\"Helvetica,sans-Serif\" font-size=\"14.00\">class = Fraudulento</text>\n</g>\n<!-- 32&#45;&gt;34 -->\n<g id=\"edge34\" class=\"edge\">\n<title>32&#45;&gt;34</title>\n<path fill=\"none\" stroke=\"black\" d=\"M2252.73,-103.73C2261.39,-94.61 2270.58,-84.93 2279.24,-75.81\"/>\n<polygon fill=\"black\" stroke=\"black\" points=\"2282.02,-77.96 2286.37,-68.3 2276.95,-73.14 2282.02,-77.96\"/>\n</g>\n<!-- 36 -->\n<g id=\"node37\" class=\"node\">\n<title>36</title>\n<path fill=\"#399de5\" stroke=\"black\" d=\"M2534,-68C2534,-68 2418,-68 2418,-68 2412,-68 2406,-62 2406,-56 2406,-56 2406,-12 2406,-12 2406,-6 2412,0 2418,0 2418,0 2534,0 2534,0 2540,0 2546,-6 2546,-12 2546,-12 2546,-56 2546,-56 2546,-62 2540,-68 2534,-68\"/>\n<text text-anchor=\"start\" x=\"2434\" y=\"-52.8\" font-family=\"Helvetica,sans-Serif\" font-size=\"14.00\">entropy = 0.0</text>\n<text text-anchor=\"start\" x=\"2424.5\" y=\"-37.8\" font-family=\"Helvetica,sans-Serif\" font-size=\"14.00\">samples = 1288</text>\n<text text-anchor=\"start\" x=\"2423\" y=\"-22.8\" font-family=\"Helvetica,sans-Serif\" font-size=\"14.00\">value = [0, 1288]</text>\n<text text-anchor=\"start\" x=\"2414\" y=\"-7.8\" font-family=\"Helvetica,sans-Serif\" font-size=\"14.00\">class = Fraudulento</text>\n</g>\n<!-- 35&#45;&gt;36 -->\n<g id=\"edge36\" class=\"edge\">\n<title>35&#45;&gt;36</title>\n<path fill=\"none\" stroke=\"black\" d=\"M2476,-103.73C2476,-95.52 2476,-86.86 2476,-78.56\"/>\n<polygon fill=\"black\" stroke=\"black\" points=\"2479.5,-78.3 2476,-68.3 2472.5,-78.3 2479.5,-78.3\"/>\n</g>\n<!-- 37 -->\n<g id=\"node38\" class=\"node\">\n<title>37</title>\n<path fill=\"#e5823a\" stroke=\"black\" d=\"M2714,-68C2714,-68 2576,-68 2576,-68 2570,-68 2564,-62 2564,-56 2564,-56 2564,-12 2564,-12 2564,-6 2570,0 2576,0 2576,0 2714,0 2714,0 2720,0 2726,-6 2726,-12 2726,-12 2726,-56 2726,-56 2726,-62 2720,-68 2714,-68\"/>\n<text text-anchor=\"start\" x=\"2595\" y=\"-52.8\" font-family=\"Helvetica,sans-Serif\" font-size=\"14.00\">entropy = 0.062</text>\n<text text-anchor=\"start\" x=\"2597.5\" y=\"-37.8\" font-family=\"Helvetica,sans-Serif\" font-size=\"14.00\">samples = 139</text>\n<text text-anchor=\"start\" x=\"2596.5\" y=\"-22.8\" font-family=\"Helvetica,sans-Serif\" font-size=\"14.00\">value = [138, 1]</text>\n<text text-anchor=\"start\" x=\"2572\" y=\"-7.8\" font-family=\"Helvetica,sans-Serif\" font-size=\"14.00\">class = No Fraudulento</text>\n</g>\n<!-- 35&#45;&gt;37 -->\n<g id=\"edge37\" class=\"edge\">\n<title>35&#45;&gt;37</title>\n<path fill=\"none\" stroke=\"black\" d=\"M2538.93,-103.73C2554.07,-93.92 2570.2,-83.46 2585.19,-73.75\"/>\n<polygon fill=\"black\" stroke=\"black\" points=\"2587.39,-76.5 2593.88,-68.13 2583.58,-70.63 2587.39,-76.5\"/>\n</g>\n<!-- 39 -->\n<g id=\"node40\" class=\"node\">\n<title>39</title>\n<path fill=\"#399de5\" stroke=\"black\" d=\"M2605,-298.5C2605,-298.5 2489,-298.5 2489,-298.5 2483,-298.5 2477,-292.5 2477,-286.5 2477,-286.5 2477,-242.5 2477,-242.5 2477,-236.5 2483,-230.5 2489,-230.5 2489,-230.5 2605,-230.5 2605,-230.5 2611,-230.5 2617,-236.5 2617,-242.5 2617,-242.5 2617,-286.5 2617,-286.5 2617,-292.5 2611,-298.5 2605,-298.5\"/>\n<text text-anchor=\"start\" x=\"2505\" y=\"-283.3\" font-family=\"Helvetica,sans-Serif\" font-size=\"14.00\">entropy = 0.0</text>\n<text text-anchor=\"start\" x=\"2491\" y=\"-268.3\" font-family=\"Helvetica,sans-Serif\" font-size=\"14.00\">samples = 48281</text>\n<text text-anchor=\"start\" x=\"2490\" y=\"-253.3\" font-family=\"Helvetica,sans-Serif\" font-size=\"14.00\">value = [0, 48281]</text>\n<text text-anchor=\"start\" x=\"2485\" y=\"-238.3\" font-family=\"Helvetica,sans-Serif\" font-size=\"14.00\">class = Fraudulento</text>\n</g>\n<!-- 38&#45;&gt;39 -->\n<g id=\"edge39\" class=\"edge\">\n<title>38&#45;&gt;39</title>\n<path fill=\"none\" stroke=\"black\" d=\"M2547,-341.91C2547,-331.2 2547,-319.62 2547,-308.78\"/>\n<polygon fill=\"black\" stroke=\"black\" points=\"2550.5,-308.67 2547,-298.67 2543.5,-308.67 2550.5,-308.67\"/>\n</g>\n<!-- 40 -->\n<g id=\"node41\" class=\"node\">\n<title>40</title>\n<path fill=\"#e68641\" stroke=\"black\" d=\"M2967.5,-306C2967.5,-306 2788.5,-306 2788.5,-306 2782.5,-306 2776.5,-300 2776.5,-294 2776.5,-294 2776.5,-235 2776.5,-235 2776.5,-229 2782.5,-223 2788.5,-223 2788.5,-223 2967.5,-223 2967.5,-223 2973.5,-223 2979.5,-229 2979.5,-235 2979.5,-235 2979.5,-294 2979.5,-294 2979.5,-300 2973.5,-306 2967.5,-306\"/>\n<text text-anchor=\"start\" x=\"2784.5\" y=\"-290.8\" font-family=\"Helvetica,sans-Serif\" font-size=\"14.00\">distance_from_home ≤ 1.126</text>\n<text text-anchor=\"start\" x=\"2828\" y=\"-275.8\" font-family=\"Helvetica,sans-Serif\" font-size=\"14.00\">entropy = 0.239</text>\n<text text-anchor=\"start\" x=\"2826.5\" y=\"-260.8\" font-family=\"Helvetica,sans-Serif\" font-size=\"14.00\">samples = 5433</text>\n<text text-anchor=\"start\" x=\"2817\" y=\"-245.8\" font-family=\"Helvetica,sans-Serif\" font-size=\"14.00\">value = [5219, 214]</text>\n<text text-anchor=\"start\" x=\"2805\" y=\"-230.8\" font-family=\"Helvetica,sans-Serif\" font-size=\"14.00\">class = No Fraudulento</text>\n</g>\n<!-- 38&#45;&gt;40 -->\n<g id=\"edge40\" class=\"edge\">\n<title>38&#45;&gt;40</title>\n<path fill=\"none\" stroke=\"black\" d=\"M2638.76,-350.06C2678.43,-336.04 2725.21,-319.51 2766.83,-304.8\"/>\n<polygon fill=\"black\" stroke=\"black\" points=\"2768.19,-308.03 2776.46,-301.39 2765.86,-301.43 2768.19,-308.03\"/>\n</g>\n<!-- 41 -->\n<g id=\"node42\" class=\"node\">\n<title>41</title>\n<path fill=\"#e5833c\" stroke=\"black\" d=\"M2999,-187C2999,-187 2757,-187 2757,-187 2751,-187 2745,-181 2745,-175 2745,-175 2745,-116 2745,-116 2745,-110 2751,-104 2757,-104 2757,-104 2999,-104 2999,-104 3005,-104 3011,-110 3011,-116 3011,-116 3011,-175 3011,-175 3011,-181 3005,-187 2999,-187\"/>\n<text text-anchor=\"start\" x=\"2753\" y=\"-171.8\" font-family=\"Helvetica,sans-Serif\" font-size=\"14.00\">distance_from_last_transaction ≤ 1.744</text>\n<text text-anchor=\"start\" x=\"2836\" y=\"-156.8\" font-family=\"Helvetica,sans-Serif\" font-size=\"14.00\">entropy = 0.1</text>\n<text text-anchor=\"start\" x=\"2826.5\" y=\"-141.8\" font-family=\"Helvetica,sans-Serif\" font-size=\"14.00\">samples = 5191</text>\n<text text-anchor=\"start\" x=\"2821\" y=\"-126.8\" font-family=\"Helvetica,sans-Serif\" font-size=\"14.00\">value = [5124, 67]</text>\n<text text-anchor=\"start\" x=\"2805\" y=\"-111.8\" font-family=\"Helvetica,sans-Serif\" font-size=\"14.00\">class = No Fraudulento</text>\n</g>\n<!-- 40&#45;&gt;41 -->\n<g id=\"edge41\" class=\"edge\">\n<title>40&#45;&gt;41</title>\n<path fill=\"none\" stroke=\"black\" d=\"M2878,-222.91C2878,-214.65 2878,-205.86 2878,-197.3\"/>\n<polygon fill=\"black\" stroke=\"black\" points=\"2881.5,-197.02 2878,-187.02 2874.5,-197.02 2881.5,-197.02\"/>\n</g>\n<!-- 44 -->\n<g id=\"node45\" class=\"node\">\n<title>44</title>\n<path fill=\"#b9dcf6\" stroke=\"black\" d=\"M3210,-187C3210,-187 3094,-187 3094,-187 3088,-187 3082,-181 3082,-175 3082,-175 3082,-116 3082,-116 3082,-110 3088,-104 3094,-104 3094,-104 3210,-104 3210,-104 3216,-104 3222,-110 3222,-116 3222,-116 3222,-175 3222,-175 3222,-181 3216,-187 3210,-187\"/>\n<text text-anchor=\"start\" x=\"3093\" y=\"-171.8\" font-family=\"Helvetica,sans-Serif\" font-size=\"14.00\">used_chip ≤ 0.314</text>\n<text text-anchor=\"start\" x=\"3102\" y=\"-156.8\" font-family=\"Helvetica,sans-Serif\" font-size=\"14.00\">entropy = 0.966</text>\n<text text-anchor=\"start\" x=\"3104.5\" y=\"-141.8\" font-family=\"Helvetica,sans-Serif\" font-size=\"14.00\">samples = 242</text>\n<text text-anchor=\"start\" x=\"3099\" y=\"-126.8\" font-family=\"Helvetica,sans-Serif\" font-size=\"14.00\">value = [95, 147]</text>\n<text text-anchor=\"start\" x=\"3090\" y=\"-111.8\" font-family=\"Helvetica,sans-Serif\" font-size=\"14.00\">class = Fraudulento</text>\n</g>\n<!-- 40&#45;&gt;44 -->\n<g id=\"edge44\" class=\"edge\">\n<title>40&#45;&gt;44</title>\n<path fill=\"none\" stroke=\"black\" d=\"M2973.06,-222.91C3005.42,-209.09 3041.23,-193.8 3072.26,-180.55\"/>\n<polygon fill=\"black\" stroke=\"black\" points=\"3073.91,-183.65 3081.73,-176.51 3071.16,-177.21 3073.91,-183.65\"/>\n</g>\n<!-- 42 -->\n<g id=\"node43\" class=\"node\">\n<title>42</title>\n<path fill=\"#e58139\" stroke=\"black\" d=\"M2894,-68C2894,-68 2756,-68 2756,-68 2750,-68 2744,-62 2744,-56 2744,-56 2744,-12 2744,-12 2744,-6 2750,0 2756,0 2756,0 2894,0 2894,0 2900,0 2906,-6 2906,-12 2906,-12 2906,-56 2906,-56 2906,-62 2900,-68 2894,-68\"/>\n<text text-anchor=\"start\" x=\"2783\" y=\"-52.8\" font-family=\"Helvetica,sans-Serif\" font-size=\"14.00\">entropy = 0.0</text>\n<text text-anchor=\"start\" x=\"2773.5\" y=\"-37.8\" font-family=\"Helvetica,sans-Serif\" font-size=\"14.00\">samples = 5107</text>\n<text text-anchor=\"start\" x=\"2772\" y=\"-22.8\" font-family=\"Helvetica,sans-Serif\" font-size=\"14.00\">value = [5107, 0]</text>\n<text text-anchor=\"start\" x=\"2752\" y=\"-7.8\" font-family=\"Helvetica,sans-Serif\" font-size=\"14.00\">class = No Fraudulento</text>\n</g>\n<!-- 41&#45;&gt;42 -->\n<g id=\"edge42\" class=\"edge\">\n<title>41&#45;&gt;42</title>\n<path fill=\"none\" stroke=\"black\" d=\"M2858.26,-103.73C2854.11,-95.15 2849.73,-86.09 2845.55,-77.46\"/>\n<polygon fill=\"black\" stroke=\"black\" points=\"2848.62,-75.78 2841.12,-68.3 2842.32,-78.83 2848.62,-75.78\"/>\n</g>\n<!-- 43 -->\n<g id=\"node44\" class=\"node\">\n<title>43</title>\n<path fill=\"#6bb6ec\" stroke=\"black\" d=\"M3052,-68C3052,-68 2936,-68 2936,-68 2930,-68 2924,-62 2924,-56 2924,-56 2924,-12 2924,-12 2924,-6 2930,0 2936,0 2936,0 3052,0 3052,0 3058,0 3064,-6 3064,-12 3064,-12 3064,-56 3064,-56 3064,-62 3058,-68 3052,-68\"/>\n<text text-anchor=\"start\" x=\"2944\" y=\"-52.8\" font-family=\"Helvetica,sans-Serif\" font-size=\"14.00\">entropy = 0.727</text>\n<text text-anchor=\"start\" x=\"2950.5\" y=\"-37.8\" font-family=\"Helvetica,sans-Serif\" font-size=\"14.00\">samples = 84</text>\n<text text-anchor=\"start\" x=\"2945.5\" y=\"-22.8\" font-family=\"Helvetica,sans-Serif\" font-size=\"14.00\">value = [17, 67]</text>\n<text text-anchor=\"start\" x=\"2932\" y=\"-7.8\" font-family=\"Helvetica,sans-Serif\" font-size=\"14.00\">class = Fraudulento</text>\n</g>\n<!-- 41&#45;&gt;43 -->\n<g id=\"edge43\" class=\"edge\">\n<title>41&#45;&gt;43</title>\n<path fill=\"none\" stroke=\"black\" d=\"M2921.19,-103.73C2931.05,-94.42 2941.52,-84.54 2951.35,-75.26\"/>\n<polygon fill=\"black\" stroke=\"black\" points=\"2953.85,-77.71 2958.72,-68.3 2949.05,-72.62 2953.85,-77.71\"/>\n</g>\n<!-- 45 -->\n<g id=\"node46\" class=\"node\">\n<title>45</title>\n<path fill=\"#399de5\" stroke=\"black\" d=\"M3210,-68C3210,-68 3094,-68 3094,-68 3088,-68 3082,-62 3082,-56 3082,-56 3082,-12 3082,-12 3082,-6 3088,0 3094,0 3094,0 3210,0 3210,0 3216,0 3222,-6 3222,-12 3222,-12 3222,-56 3222,-56 3222,-62 3216,-68 3210,-68\"/>\n<text text-anchor=\"start\" x=\"3110\" y=\"-52.8\" font-family=\"Helvetica,sans-Serif\" font-size=\"14.00\">entropy = 0.0</text>\n<text text-anchor=\"start\" x=\"3104.5\" y=\"-37.8\" font-family=\"Helvetica,sans-Serif\" font-size=\"14.00\">samples = 146</text>\n<text text-anchor=\"start\" x=\"3103.5\" y=\"-22.8\" font-family=\"Helvetica,sans-Serif\" font-size=\"14.00\">value = [0, 146]</text>\n<text text-anchor=\"start\" x=\"3090\" y=\"-7.8\" font-family=\"Helvetica,sans-Serif\" font-size=\"14.00\">class = Fraudulento</text>\n</g>\n<!-- 44&#45;&gt;45 -->\n<g id=\"edge45\" class=\"edge\">\n<title>44&#45;&gt;45</title>\n<path fill=\"none\" stroke=\"black\" d=\"M3152,-103.73C3152,-95.52 3152,-86.86 3152,-78.56\"/>\n<polygon fill=\"black\" stroke=\"black\" points=\"3155.5,-78.3 3152,-68.3 3148.5,-78.3 3155.5,-78.3\"/>\n</g>\n<!-- 46 -->\n<g id=\"node47\" class=\"node\">\n<title>46</title>\n<path fill=\"#e5823b\" stroke=\"black\" d=\"M3390,-68C3390,-68 3252,-68 3252,-68 3246,-68 3240,-62 3240,-56 3240,-56 3240,-12 3240,-12 3240,-6 3246,0 3252,0 3252,0 3390,0 3390,0 3396,0 3402,-6 3402,-12 3402,-12 3402,-56 3402,-56 3402,-62 3396,-68 3390,-68\"/>\n<text text-anchor=\"start\" x=\"3271\" y=\"-52.8\" font-family=\"Helvetica,sans-Serif\" font-size=\"14.00\">entropy = 0.084</text>\n<text text-anchor=\"start\" x=\"3277.5\" y=\"-37.8\" font-family=\"Helvetica,sans-Serif\" font-size=\"14.00\">samples = 96</text>\n<text text-anchor=\"start\" x=\"3276.5\" y=\"-22.8\" font-family=\"Helvetica,sans-Serif\" font-size=\"14.00\">value = [95, 1]</text>\n<text text-anchor=\"start\" x=\"3248\" y=\"-7.8\" font-family=\"Helvetica,sans-Serif\" font-size=\"14.00\">class = No Fraudulento</text>\n</g>\n<!-- 44&#45;&gt;46 -->\n<g id=\"edge46\" class=\"edge\">\n<title>44&#45;&gt;46</title>\n<path fill=\"none\" stroke=\"black\" d=\"M3214.93,-103.73C3230.07,-93.92 3246.2,-83.46 3261.19,-73.75\"/>\n<polygon fill=\"black\" stroke=\"black\" points=\"3263.39,-76.5 3269.88,-68.13 3259.58,-70.63 3263.39,-76.5\"/>\n</g>\n</g>\n</svg>\n",
      "text/plain": "<graphviz.sources.Source at 0x1628bab3c10>"
     },
     "execution_count": 88,
     "metadata": {},
     "output_type": "execute_result"
    }
   ],
   "source": [
    "dot_data = tree.export_graphviz(clf, out_file=None,\n",
    "                         feature_names=list(t_data.columns.values),\n",
    "                         class_names=[\"No Fraudulento\", \"Fraudulento\"],\n",
    "                         filled=True, rounded=True,\n",
    "                         special_characters=True)\n",
    "graph = graphviz.Source(dot_data)\n",
    "graph"
   ],
   "metadata": {
    "collapsed": false,
    "pycharm": {
     "name": "#%%\n"
    }
   }
  },
  {
   "cell_type": "markdown",
   "source": [
    "### Predicción de la data con el arbol de decisión sklearn"
   ],
   "metadata": {
    "collapsed": false,
    "pycharm": {
     "name": "#%% md\n"
    }
   }
  },
  {
   "cell_type": "code",
   "execution_count": 89,
   "outputs": [],
   "source": [
    "y_respuesta = clf.predict(w_test)"
   ],
   "metadata": {
    "collapsed": false,
    "pycharm": {
     "name": "#%%\n"
    }
   }
  },
  {
   "cell_type": "code",
   "execution_count": 90,
   "outputs": [
    {
     "data": {
      "text/plain": "array([0., 0., 0., ..., 1., 0., 0.])"
     },
     "execution_count": 90,
     "metadata": {},
     "output_type": "execute_result"
    }
   ],
   "source": [
    "y_respuesta"
   ],
   "metadata": {
    "collapsed": false,
    "pycharm": {
     "name": "#%%\n"
    }
   }
  },
  {
   "cell_type": "code",
   "execution_count": 91,
   "outputs": [
    {
     "name": "stdout",
     "output_type": "stream",
     "text": [
      "Accuracy del árbol de decisión: 99.9015%\n"
     ]
    }
   ],
   "source": [
    "acc = metrics.accuracy_score(w_true, y_respuesta, normalize=True, sample_weight=None)\n",
    "print('Accuracy del árbol de decisión: {}%'.format(acc * 100))"
   ],
   "metadata": {
    "collapsed": false,
    "pycharm": {
     "name": "#%%\n"
    }
   }
  },
  {
   "cell_type": "code",
   "execution_count": 92,
   "outputs": [
    {
     "data": {
      "text/plain": "array([[182549,    128],\n       [    69,  17254]], dtype=int64)"
     },
     "execution_count": 92,
     "metadata": {},
     "output_type": "execute_result"
    }
   ],
   "source": [
    "metrics.confusion_matrix(w_true, y_respuesta)"
   ],
   "metadata": {
    "collapsed": false,
    "pycharm": {
     "name": "#%%\n"
    }
   }
  },
  {
   "cell_type": "markdown",
   "source": [
    "## Arbol de decisión sin tratamiento de datos"
   ],
   "metadata": {
    "collapsed": false,
    "pycharm": {
     "name": "#%% md\n"
    }
   }
  },
  {
   "cell_type": "code",
   "execution_count": 93,
   "outputs": [
    {
     "data": {
      "text/plain": "   distance_from_home  distance_from_last_transaction  \\\n0           57.877857                        0.311140   \n1           10.829943                        0.175592   \n2            5.091079                        0.805153   \n3            2.247564                        5.600044   \n4           44.190936                        0.566486   \n\n   ratio_to_median_purchase_price  repeat_retailer  used_chip  \\\n0                        1.945940              1.0        1.0   \n1                        1.294219              1.0        0.0   \n2                        0.427715              1.0        0.0   \n3                        0.362663              1.0        1.0   \n4                        2.222767              1.0        1.0   \n\n   used_pin_number  online_order  fraud  \n0              0.0           0.0    0.0  \n1              0.0           0.0    0.0  \n2              0.0           1.0    0.0  \n3              0.0           1.0    0.0  \n4              0.0           1.0    0.0  ",
      "text/html": "<div>\n<style scoped>\n    .dataframe tbody tr th:only-of-type {\n        vertical-align: middle;\n    }\n\n    .dataframe tbody tr th {\n        vertical-align: top;\n    }\n\n    .dataframe thead th {\n        text-align: right;\n    }\n</style>\n<table border=\"1\" class=\"dataframe\">\n  <thead>\n    <tr style=\"text-align: right;\">\n      <th></th>\n      <th>distance_from_home</th>\n      <th>distance_from_last_transaction</th>\n      <th>ratio_to_median_purchase_price</th>\n      <th>repeat_retailer</th>\n      <th>used_chip</th>\n      <th>used_pin_number</th>\n      <th>online_order</th>\n      <th>fraud</th>\n    </tr>\n  </thead>\n  <tbody>\n    <tr>\n      <th>0</th>\n      <td>57.877857</td>\n      <td>0.311140</td>\n      <td>1.945940</td>\n      <td>1.0</td>\n      <td>1.0</td>\n      <td>0.0</td>\n      <td>0.0</td>\n      <td>0.0</td>\n    </tr>\n    <tr>\n      <th>1</th>\n      <td>10.829943</td>\n      <td>0.175592</td>\n      <td>1.294219</td>\n      <td>1.0</td>\n      <td>0.0</td>\n      <td>0.0</td>\n      <td>0.0</td>\n      <td>0.0</td>\n    </tr>\n    <tr>\n      <th>2</th>\n      <td>5.091079</td>\n      <td>0.805153</td>\n      <td>0.427715</td>\n      <td>1.0</td>\n      <td>0.0</td>\n      <td>0.0</td>\n      <td>1.0</td>\n      <td>0.0</td>\n    </tr>\n    <tr>\n      <th>3</th>\n      <td>2.247564</td>\n      <td>5.600044</td>\n      <td>0.362663</td>\n      <td>1.0</td>\n      <td>1.0</td>\n      <td>0.0</td>\n      <td>1.0</td>\n      <td>0.0</td>\n    </tr>\n    <tr>\n      <th>4</th>\n      <td>44.190936</td>\n      <td>0.566486</td>\n      <td>2.222767</td>\n      <td>1.0</td>\n      <td>1.0</td>\n      <td>0.0</td>\n      <td>1.0</td>\n      <td>0.0</td>\n    </tr>\n  </tbody>\n</table>\n</div>"
     },
     "execution_count": 93,
     "metadata": {},
     "output_type": "execute_result"
    }
   ],
   "source": [
    "dframeArbol.head()"
   ],
   "metadata": {
    "collapsed": false,
    "pycharm": {
     "name": "#%%\n"
    }
   }
  },
  {
   "cell_type": "code",
   "execution_count": 94,
   "outputs": [],
   "source": [
    "trainSin, testSin = train_test_split(dframeArbol, test_size=0.2)"
   ],
   "metadata": {
    "collapsed": false,
    "pycharm": {
     "name": "#%%\n"
    }
   }
  },
  {
   "cell_type": "code",
   "execution_count": 95,
   "outputs": [],
   "source": [
    "t_data = trainSin[trainSin.columns[0:7]]\n",
    "t_target = trainSin[trainSin.columns[7]]\n",
    "w_test = testSin[testSin.columns[0:7]]\n",
    "w_true = testSin[testSin.columns[7]]  #Para validar el accuracy"
   ],
   "metadata": {
    "collapsed": false,
    "pycharm": {
     "name": "#%%\n"
    }
   }
  },
  {
   "cell_type": "code",
   "execution_count": 96,
   "outputs": [
    {
     "data": {
      "text/plain": "365917    0.0\n865977    0.0\n723396    0.0\n795628    0.0\n231178    0.0\n         ... \n276263    0.0\n616150    0.0\n372750    0.0\n871977    0.0\n803848    0.0\nName: fraud, Length: 200000, dtype: float64"
     },
     "execution_count": 96,
     "metadata": {},
     "output_type": "execute_result"
    }
   ],
   "source": [
    "w_true"
   ],
   "metadata": {
    "collapsed": false,
    "pycharm": {
     "name": "#%%\n"
    }
   }
  },
  {
   "cell_type": "code",
   "execution_count": 97,
   "outputs": [
    {
     "data": {
      "text/plain": "        distance_from_home  distance_from_last_transaction  \\\n83014             5.750149                        0.451404   \n54691             1.076483                        0.601466   \n924726           84.874269                       16.744011   \n907919            6.614307                        0.054305   \n792671           26.557452                        0.268642   \n...                    ...                             ...   \n852814            4.913850                        0.088073   \n888818            5.676146                       41.846541   \n684838            2.245182                        0.198671   \n133266            0.116842                        1.842908   \n211463           77.546037                        1.009214   \n\n        ratio_to_median_purchase_price  repeat_retailer  used_chip  \\\n83014                         2.171041              1.0        1.0   \n54691                         0.269436              0.0        0.0   \n924726                        1.504644              1.0        1.0   \n907919                        0.231947              1.0        0.0   \n792671                        0.932995              1.0        0.0   \n...                                ...              ...        ...   \n852814                        0.596561              1.0        0.0   \n888818                        1.269706              1.0        1.0   \n684838                        6.824065              1.0        0.0   \n133266                        4.856862              0.0        0.0   \n211463                        0.510865              1.0        0.0   \n\n        used_pin_number  online_order  \n83014               0.0           0.0  \n54691               0.0           1.0  \n924726              1.0           1.0  \n907919              0.0           1.0  \n792671              0.0           1.0  \n...                 ...           ...  \n852814              0.0           0.0  \n888818              1.0           1.0  \n684838              0.0           0.0  \n133266              0.0           1.0  \n211463              1.0           0.0  \n\n[800000 rows x 7 columns]",
      "text/html": "<div>\n<style scoped>\n    .dataframe tbody tr th:only-of-type {\n        vertical-align: middle;\n    }\n\n    .dataframe tbody tr th {\n        vertical-align: top;\n    }\n\n    .dataframe thead th {\n        text-align: right;\n    }\n</style>\n<table border=\"1\" class=\"dataframe\">\n  <thead>\n    <tr style=\"text-align: right;\">\n      <th></th>\n      <th>distance_from_home</th>\n      <th>distance_from_last_transaction</th>\n      <th>ratio_to_median_purchase_price</th>\n      <th>repeat_retailer</th>\n      <th>used_chip</th>\n      <th>used_pin_number</th>\n      <th>online_order</th>\n    </tr>\n  </thead>\n  <tbody>\n    <tr>\n      <th>83014</th>\n      <td>5.750149</td>\n      <td>0.451404</td>\n      <td>2.171041</td>\n      <td>1.0</td>\n      <td>1.0</td>\n      <td>0.0</td>\n      <td>0.0</td>\n    </tr>\n    <tr>\n      <th>54691</th>\n      <td>1.076483</td>\n      <td>0.601466</td>\n      <td>0.269436</td>\n      <td>0.0</td>\n      <td>0.0</td>\n      <td>0.0</td>\n      <td>1.0</td>\n    </tr>\n    <tr>\n      <th>924726</th>\n      <td>84.874269</td>\n      <td>16.744011</td>\n      <td>1.504644</td>\n      <td>1.0</td>\n      <td>1.0</td>\n      <td>1.0</td>\n      <td>1.0</td>\n    </tr>\n    <tr>\n      <th>907919</th>\n      <td>6.614307</td>\n      <td>0.054305</td>\n      <td>0.231947</td>\n      <td>1.0</td>\n      <td>0.0</td>\n      <td>0.0</td>\n      <td>1.0</td>\n    </tr>\n    <tr>\n      <th>792671</th>\n      <td>26.557452</td>\n      <td>0.268642</td>\n      <td>0.932995</td>\n      <td>1.0</td>\n      <td>0.0</td>\n      <td>0.0</td>\n      <td>1.0</td>\n    </tr>\n    <tr>\n      <th>...</th>\n      <td>...</td>\n      <td>...</td>\n      <td>...</td>\n      <td>...</td>\n      <td>...</td>\n      <td>...</td>\n      <td>...</td>\n    </tr>\n    <tr>\n      <th>852814</th>\n      <td>4.913850</td>\n      <td>0.088073</td>\n      <td>0.596561</td>\n      <td>1.0</td>\n      <td>0.0</td>\n      <td>0.0</td>\n      <td>0.0</td>\n    </tr>\n    <tr>\n      <th>888818</th>\n      <td>5.676146</td>\n      <td>41.846541</td>\n      <td>1.269706</td>\n      <td>1.0</td>\n      <td>1.0</td>\n      <td>1.0</td>\n      <td>1.0</td>\n    </tr>\n    <tr>\n      <th>684838</th>\n      <td>2.245182</td>\n      <td>0.198671</td>\n      <td>6.824065</td>\n      <td>1.0</td>\n      <td>0.0</td>\n      <td>0.0</td>\n      <td>0.0</td>\n    </tr>\n    <tr>\n      <th>133266</th>\n      <td>0.116842</td>\n      <td>1.842908</td>\n      <td>4.856862</td>\n      <td>0.0</td>\n      <td>0.0</td>\n      <td>0.0</td>\n      <td>1.0</td>\n    </tr>\n    <tr>\n      <th>211463</th>\n      <td>77.546037</td>\n      <td>1.009214</td>\n      <td>0.510865</td>\n      <td>1.0</td>\n      <td>0.0</td>\n      <td>1.0</td>\n      <td>0.0</td>\n    </tr>\n  </tbody>\n</table>\n<p>800000 rows × 7 columns</p>\n</div>"
     },
     "execution_count": 97,
     "metadata": {},
     "output_type": "execute_result"
    }
   ],
   "source": [
    "t_data"
   ],
   "metadata": {
    "collapsed": false,
    "pycharm": {
     "name": "#%%\n"
    }
   }
  },
  {
   "cell_type": "markdown",
   "source": [
    "## Arbol de decisión sklearn\n",
    "### Entrenamiento del modelo (Sin tratamiento de data)"
   ],
   "metadata": {
    "collapsed": false,
    "pycharm": {
     "name": "#%% md\n"
    }
   }
  },
  {
   "cell_type": "code",
   "execution_count": 98,
   "outputs": [],
   "source": [
    "clf = tree.DecisionTreeClassifier(criterion='entropy', max_depth=5)\n",
    "clf = clf.fit(t_data, t_target)"
   ],
   "metadata": {
    "collapsed": false,
    "pycharm": {
     "name": "#%%\n"
    }
   }
  },
  {
   "cell_type": "markdown",
   "source": [
    "## Graficar el arbol de decisión"
   ],
   "metadata": {
    "collapsed": false,
    "pycharm": {
     "name": "#%% md\n"
    }
   }
  },
  {
   "cell_type": "code",
   "execution_count": 99,
   "outputs": [
    {
     "data": {
      "image/svg+xml": "<?xml version=\"1.0\" encoding=\"UTF-8\" standalone=\"no\"?>\n<!DOCTYPE svg PUBLIC \"-//W3C//DTD SVG 1.1//EN\"\n \"http://www.w3.org/Graphics/SVG/1.1/DTD/svg11.dtd\">\n<!-- Generated by graphviz version 4.0.0 (20220529.0937)\n -->\n<!-- Title: Tree Pages: 1 -->\n<svg width=\"3404pt\" height=\"671pt\"\n viewBox=\"0.00 0.00 3404.00 671.00\" xmlns=\"http://www.w3.org/2000/svg\" xmlns:xlink=\"http://www.w3.org/1999/xlink\">\n<g id=\"graph0\" class=\"graph\" transform=\"scale(1 1) rotate(0) translate(4 667)\">\n<title>Tree</title>\n<polygon fill=\"white\" stroke=\"transparent\" points=\"-4,4 -4,-667 3400,-667 3400,4 -4,4\"/>\n<!-- 0 -->\n<g id=\"node1\" class=\"node\">\n<title>0</title>\n<path fill=\"#e78d4c\" stroke=\"black\" d=\"M1470,-663C1470,-663 1234,-663 1234,-663 1228,-663 1222,-657 1222,-651 1222,-651 1222,-592 1222,-592 1222,-586 1228,-580 1234,-580 1234,-580 1470,-580 1470,-580 1476,-580 1482,-586 1482,-592 1482,-592 1482,-651 1482,-651 1482,-657 1476,-663 1470,-663\"/>\n<text text-anchor=\"start\" x=\"1230\" y=\"-647.8\" font-family=\"Helvetica,sans-Serif\" font-size=\"14.00\">ratio_to_median_purchase_price ≤ 4.0</text>\n<text text-anchor=\"start\" x=\"1302\" y=\"-632.8\" font-family=\"Helvetica,sans-Serif\" font-size=\"14.00\">entropy = 0.428</text>\n<text text-anchor=\"start\" x=\"1292\" y=\"-617.8\" font-family=\"Helvetica,sans-Serif\" font-size=\"14.00\">samples = 800000</text>\n<text text-anchor=\"start\" x=\"1274.5\" y=\"-602.8\" font-family=\"Helvetica,sans-Serif\" font-size=\"14.00\">value = [730110, 69890]</text>\n<text text-anchor=\"start\" x=\"1279\" y=\"-587.8\" font-family=\"Helvetica,sans-Serif\" font-size=\"14.00\">class = No Fraudulento</text>\n</g>\n<!-- 1 -->\n<g id=\"node2\" class=\"node\">\n<title>1</title>\n<path fill=\"#e6843e\" stroke=\"black\" d=\"M830,-544C830,-544 634,-544 634,-544 628,-544 622,-538 622,-532 622,-532 622,-473 622,-473 622,-467 628,-461 634,-461 634,-461 830,-461 830,-461 836,-461 842,-467 842,-473 842,-473 842,-532 842,-532 842,-538 836,-544 830,-544\"/>\n<text text-anchor=\"start\" x=\"630\" y=\"-528.8\" font-family=\"Helvetica,sans-Serif\" font-size=\"14.00\">distance_from_home ≤ 100.003</text>\n<text text-anchor=\"start\" x=\"682\" y=\"-513.8\" font-family=\"Helvetica,sans-Serif\" font-size=\"14.00\">entropy = 0.169</text>\n<text text-anchor=\"start\" x=\"672\" y=\"-498.8\" font-family=\"Helvetica,sans-Serif\" font-size=\"14.00\">samples = 717593</text>\n<text text-anchor=\"start\" x=\"654.5\" y=\"-483.8\" font-family=\"Helvetica,sans-Serif\" font-size=\"14.00\">value = [699589, 18004]</text>\n<text text-anchor=\"start\" x=\"659\" y=\"-468.8\" font-family=\"Helvetica,sans-Serif\" font-size=\"14.00\">class = No Fraudulento</text>\n</g>\n<!-- 0&#45;&gt;1 -->\n<g id=\"edge1\" class=\"edge\">\n<title>0&#45;&gt;1</title>\n<path fill=\"none\" stroke=\"black\" d=\"M1221.65,-595.9C1112.66,-575.33 958.44,-546.23 852.34,-526.21\"/>\n<polygon fill=\"black\" stroke=\"black\" points=\"852.71,-522.72 842.23,-524.3 851.41,-529.6 852.71,-522.72\"/>\n<text text-anchor=\"middle\" x=\"856.32\" y=\"-541.25\" font-family=\"Helvetica,sans-Serif\" font-size=\"14.00\">True</text>\n</g>\n<!-- 22 -->\n<g id=\"node23\" class=\"node\">\n<title>22</title>\n<path fill=\"#add7f4\" stroke=\"black\" d=\"M2116.5,-544C2116.5,-544 1977.5,-544 1977.5,-544 1971.5,-544 1965.5,-538 1965.5,-532 1965.5,-532 1965.5,-473 1965.5,-473 1965.5,-467 1971.5,-461 1977.5,-461 1977.5,-461 2116.5,-461 2116.5,-461 2122.5,-461 2128.5,-467 2128.5,-473 2128.5,-473 2128.5,-532 2128.5,-532 2128.5,-538 2122.5,-544 2116.5,-544\"/>\n<text text-anchor=\"start\" x=\"1989.5\" y=\"-528.8\" font-family=\"Helvetica,sans-Serif\" font-size=\"14.00\">online_order ≤ 0.5</text>\n<text text-anchor=\"start\" x=\"1997\" y=\"-513.8\" font-family=\"Helvetica,sans-Serif\" font-size=\"14.00\">entropy = 0.951</text>\n<text text-anchor=\"start\" x=\"1991\" y=\"-498.8\" font-family=\"Helvetica,sans-Serif\" font-size=\"14.00\">samples = 82407</text>\n<text text-anchor=\"start\" x=\"1973.5\" y=\"-483.8\" font-family=\"Helvetica,sans-Serif\" font-size=\"14.00\">value = [30521, 51886]</text>\n<text text-anchor=\"start\" x=\"1985\" y=\"-468.8\" font-family=\"Helvetica,sans-Serif\" font-size=\"14.00\">class = Fraudulento</text>\n</g>\n<!-- 0&#45;&gt;22 -->\n<g id=\"edge22\" class=\"edge\">\n<title>0&#45;&gt;22</title>\n<path fill=\"none\" stroke=\"black\" d=\"M1482.32,-598.56C1620.14,-575.36 1834.03,-539.35 1955.16,-518.96\"/>\n<polygon fill=\"black\" stroke=\"black\" points=\"1955.87,-522.39 1965.15,-517.28 1954.71,-515.49 1955.87,-522.39\"/>\n<text text-anchor=\"middle\" x=\"1950.66\" y=\"-533.95\" font-family=\"Helvetica,sans-Serif\" font-size=\"14.00\">False</text>\n</g>\n<!-- 2 -->\n<g id=\"node3\" class=\"node\">\n<title>2</title>\n<path fill=\"#e5823a\" stroke=\"black\" d=\"M386,-425C386,-425 136,-425 136,-425 130,-425 124,-419 124,-413 124,-413 124,-354 124,-354 124,-348 130,-342 136,-342 136,-342 386,-342 386,-342 392,-342 398,-348 398,-354 398,-354 398,-413 398,-413 398,-419 392,-425 386,-425\"/>\n<text text-anchor=\"start\" x=\"132\" y=\"-409.8\" font-family=\"Helvetica,sans-Serif\" font-size=\"14.00\">distance_from_last_transaction ≤ 49.999</text>\n<text text-anchor=\"start\" x=\"211\" y=\"-394.8\" font-family=\"Helvetica,sans-Serif\" font-size=\"14.00\">entropy = 0.052</text>\n<text text-anchor=\"start\" x=\"201\" y=\"-379.8\" font-family=\"Helvetica,sans-Serif\" font-size=\"14.00\">samples = 681817</text>\n<text text-anchor=\"start\" x=\"187.5\" y=\"-364.8\" font-family=\"Helvetica,sans-Serif\" font-size=\"14.00\">value = [677776, 4041]</text>\n<text text-anchor=\"start\" x=\"188\" y=\"-349.8\" font-family=\"Helvetica,sans-Serif\" font-size=\"14.00\">class = No Fraudulento</text>\n</g>\n<!-- 1&#45;&gt;2 -->\n<g id=\"edge2\" class=\"edge\">\n<title>1&#45;&gt;2</title>\n<path fill=\"none\" stroke=\"black\" d=\"M621.87,-474.14C558.25,-458.34 477.41,-438.26 408.38,-421.11\"/>\n<polygon fill=\"black\" stroke=\"black\" points=\"408.83,-417.62 398.28,-418.6 407.14,-424.41 408.83,-417.62\"/>\n</g>\n<!-- 9 -->\n<g id=\"node10\" class=\"node\">\n<title>9</title>\n<path fill=\"#f6d2b8\" stroke=\"black\" d=\"M801.5,-425C801.5,-425 662.5,-425 662.5,-425 656.5,-425 650.5,-419 650.5,-413 650.5,-413 650.5,-354 650.5,-354 650.5,-348 656.5,-342 662.5,-342 662.5,-342 801.5,-342 801.5,-342 807.5,-342 813.5,-348 813.5,-354 813.5,-354 813.5,-413 813.5,-413 813.5,-419 807.5,-425 801.5,-425\"/>\n<text text-anchor=\"start\" x=\"674.5\" y=\"-409.8\" font-family=\"Helvetica,sans-Serif\" font-size=\"14.00\">online_order ≤ 0.5</text>\n<text text-anchor=\"start\" x=\"682\" y=\"-394.8\" font-family=\"Helvetica,sans-Serif\" font-size=\"14.00\">entropy = 0.965</text>\n<text text-anchor=\"start\" x=\"676\" y=\"-379.8\" font-family=\"Helvetica,sans-Serif\" font-size=\"14.00\">samples = 35776</text>\n<text text-anchor=\"start\" x=\"658.5\" y=\"-364.8\" font-family=\"Helvetica,sans-Serif\" font-size=\"14.00\">value = [21813, 13963]</text>\n<text text-anchor=\"start\" x=\"659\" y=\"-349.8\" font-family=\"Helvetica,sans-Serif\" font-size=\"14.00\">class = No Fraudulento</text>\n</g>\n<!-- 1&#45;&gt;9 -->\n<g id=\"edge9\" class=\"edge\">\n<title>1&#45;&gt;9</title>\n<path fill=\"none\" stroke=\"black\" d=\"M732,-460.91C732,-452.65 732,-443.86 732,-435.3\"/>\n<polygon fill=\"black\" stroke=\"black\" points=\"735.5,-435.02 732,-425.02 728.5,-435.02 735.5,-435.02\"/>\n</g>\n<!-- 3 -->\n<g id=\"node4\" class=\"node\">\n<title>3</title>\n<path fill=\"#e58139\" stroke=\"black\" d=\"M150,-298.5C150,-298.5 12,-298.5 12,-298.5 6,-298.5 0,-292.5 0,-286.5 0,-286.5 0,-242.5 0,-242.5 0,-236.5 6,-230.5 12,-230.5 12,-230.5 150,-230.5 150,-230.5 156,-230.5 162,-236.5 162,-242.5 162,-242.5 162,-286.5 162,-286.5 162,-292.5 156,-298.5 150,-298.5\"/>\n<text text-anchor=\"start\" x=\"39\" y=\"-283.3\" font-family=\"Helvetica,sans-Serif\" font-size=\"14.00\">entropy = 0.0</text>\n<text text-anchor=\"start\" x=\"21\" y=\"-268.3\" font-family=\"Helvetica,sans-Serif\" font-size=\"14.00\">samples = 671687</text>\n<text text-anchor=\"start\" x=\"20\" y=\"-253.3\" font-family=\"Helvetica,sans-Serif\" font-size=\"14.00\">value = [671687, 0]</text>\n<text text-anchor=\"start\" x=\"8\" y=\"-238.3\" font-family=\"Helvetica,sans-Serif\" font-size=\"14.00\">class = No Fraudulento</text>\n</g>\n<!-- 2&#45;&gt;3 -->\n<g id=\"edge3\" class=\"edge\">\n<title>2&#45;&gt;3</title>\n<path fill=\"none\" stroke=\"black\" d=\"M198.55,-341.91C179.71,-329.66 159.08,-316.25 140.44,-304.13\"/>\n<polygon fill=\"black\" stroke=\"black\" points=\"142.32,-301.18 132.03,-298.67 138.5,-307.05 142.32,-301.18\"/>\n</g>\n<!-- 4 -->\n<g id=\"node5\" class=\"node\">\n<title>4</title>\n<path fill=\"#f6d5bc\" stroke=\"black\" d=\"M330,-306C330,-306 192,-306 192,-306 186,-306 180,-300 180,-294 180,-294 180,-235 180,-235 180,-229 186,-223 192,-223 192,-223 330,-223 330,-223 336,-223 342,-229 342,-235 342,-235 342,-294 342,-294 342,-300 336,-306 330,-306\"/>\n<text text-anchor=\"start\" x=\"203.5\" y=\"-290.8\" font-family=\"Helvetica,sans-Serif\" font-size=\"14.00\">online_order ≤ 0.5</text>\n<text text-anchor=\"start\" x=\"215\" y=\"-275.8\" font-family=\"Helvetica,sans-Serif\" font-size=\"14.00\">entropy = 0.97</text>\n<text text-anchor=\"start\" x=\"205\" y=\"-260.8\" font-family=\"Helvetica,sans-Serif\" font-size=\"14.00\">samples = 10130</text>\n<text text-anchor=\"start\" x=\"196\" y=\"-245.8\" font-family=\"Helvetica,sans-Serif\" font-size=\"14.00\">value = [6089, 4041]</text>\n<text text-anchor=\"start\" x=\"188\" y=\"-230.8\" font-family=\"Helvetica,sans-Serif\" font-size=\"14.00\">class = No Fraudulento</text>\n</g>\n<!-- 2&#45;&gt;4 -->\n<g id=\"edge4\" class=\"edge\">\n<title>2&#45;&gt;4</title>\n<path fill=\"none\" stroke=\"black\" d=\"M261,-341.91C261,-333.65 261,-324.86 261,-316.3\"/>\n<polygon fill=\"black\" stroke=\"black\" points=\"264.5,-316.02 261,-306.02 257.5,-316.02 264.5,-316.02\"/>\n</g>\n<!-- 5 -->\n<g id=\"node6\" class=\"node\">\n<title>5</title>\n<path fill=\"#e58139\" stroke=\"black\" d=\"M158,-179.5C158,-179.5 20,-179.5 20,-179.5 14,-179.5 8,-173.5 8,-167.5 8,-167.5 8,-123.5 8,-123.5 8,-117.5 14,-111.5 20,-111.5 20,-111.5 158,-111.5 158,-111.5 164,-111.5 170,-117.5 170,-123.5 170,-123.5 170,-167.5 170,-167.5 170,-173.5 164,-179.5 158,-179.5\"/>\n<text text-anchor=\"start\" x=\"47\" y=\"-164.3\" font-family=\"Helvetica,sans-Serif\" font-size=\"14.00\">entropy = 0.0</text>\n<text text-anchor=\"start\" x=\"37.5\" y=\"-149.3\" font-family=\"Helvetica,sans-Serif\" font-size=\"14.00\">samples = 3504</text>\n<text text-anchor=\"start\" x=\"36\" y=\"-134.3\" font-family=\"Helvetica,sans-Serif\" font-size=\"14.00\">value = [3504, 0]</text>\n<text text-anchor=\"start\" x=\"16\" y=\"-119.3\" font-family=\"Helvetica,sans-Serif\" font-size=\"14.00\">class = No Fraudulento</text>\n</g>\n<!-- 4&#45;&gt;5 -->\n<g id=\"edge5\" class=\"edge\">\n<title>4&#45;&gt;5</title>\n<path fill=\"none\" stroke=\"black\" d=\"M201.33,-222.91C183.48,-210.77 163.96,-197.49 146.28,-185.46\"/>\n<polygon fill=\"black\" stroke=\"black\" points=\"148,-182.4 137.76,-179.67 144.06,-188.19 148,-182.4\"/>\n</g>\n<!-- 6 -->\n<g id=\"node7\" class=\"node\">\n<title>6</title>\n<path fill=\"#b8dcf6\" stroke=\"black\" d=\"M322,-187C322,-187 200,-187 200,-187 194,-187 188,-181 188,-175 188,-175 188,-116 188,-116 188,-110 194,-104 200,-104 200,-104 322,-104 322,-104 328,-104 334,-110 334,-116 334,-116 334,-175 334,-175 334,-181 328,-187 322,-187\"/>\n<text text-anchor=\"start\" x=\"210\" y=\"-171.8\" font-family=\"Helvetica,sans-Serif\" font-size=\"14.00\">used_chip ≤ 0.5</text>\n<text text-anchor=\"start\" x=\"211\" y=\"-156.8\" font-family=\"Helvetica,sans-Serif\" font-size=\"14.00\">entropy = 0.965</text>\n<text text-anchor=\"start\" x=\"209.5\" y=\"-141.8\" font-family=\"Helvetica,sans-Serif\" font-size=\"14.00\">samples = 6626</text>\n<text text-anchor=\"start\" x=\"196\" y=\"-126.8\" font-family=\"Helvetica,sans-Serif\" font-size=\"14.00\">value = [2585, 4041]</text>\n<text text-anchor=\"start\" x=\"199\" y=\"-111.8\" font-family=\"Helvetica,sans-Serif\" font-size=\"14.00\">class = Fraudulento</text>\n</g>\n<!-- 4&#45;&gt;6 -->\n<g id=\"edge6\" class=\"edge\">\n<title>4&#45;&gt;6</title>\n<path fill=\"none\" stroke=\"black\" d=\"M261,-222.91C261,-214.65 261,-205.86 261,-197.3\"/>\n<polygon fill=\"black\" stroke=\"black\" points=\"264.5,-197.02 261,-187.02 257.5,-197.02 264.5,-197.02\"/>\n</g>\n<!-- 7 -->\n<g id=\"node8\" class=\"node\">\n<title>7</title>\n<path fill=\"#50a9e8\" stroke=\"black\" d=\"M154,-68C154,-68 38,-68 38,-68 32,-68 26,-62 26,-56 26,-56 26,-12 26,-12 26,-6 32,0 38,0 38,0 154,0 154,0 160,0 166,-6 166,-12 166,-12 166,-56 166,-56 166,-62 160,-68 154,-68\"/>\n<text text-anchor=\"start\" x=\"46\" y=\"-52.8\" font-family=\"Helvetica,sans-Serif\" font-size=\"14.00\">entropy = 0.487</text>\n<text text-anchor=\"start\" x=\"44.5\" y=\"-37.8\" font-family=\"Helvetica,sans-Serif\" font-size=\"14.00\">samples = 4241</text>\n<text text-anchor=\"start\" x=\"35\" y=\"-22.8\" font-family=\"Helvetica,sans-Serif\" font-size=\"14.00\">value = [449, 3792]</text>\n<text text-anchor=\"start\" x=\"34\" y=\"-7.8\" font-family=\"Helvetica,sans-Serif\" font-size=\"14.00\">class = Fraudulento</text>\n</g>\n<!-- 6&#45;&gt;7 -->\n<g id=\"edge7\" class=\"edge\">\n<title>6&#45;&gt;7</title>\n<path fill=\"none\" stroke=\"black\" d=\"M199.56,-103.73C184.78,-93.92 169.03,-83.46 154.39,-73.75\"/>\n<polygon fill=\"black\" stroke=\"black\" points=\"156.18,-70.74 145.91,-68.13 152.31,-76.57 156.18,-70.74\"/>\n</g>\n<!-- 8 -->\n<g id=\"node9\" class=\"node\">\n<title>8</title>\n<path fill=\"#e89050\" stroke=\"black\" d=\"M334,-68C334,-68 196,-68 196,-68 190,-68 184,-62 184,-56 184,-56 184,-12 184,-12 184,-6 190,0 196,0 196,0 334,0 334,0 340,0 346,-6 346,-12 346,-12 346,-56 346,-56 346,-62 340,-68 334,-68\"/>\n<text text-anchor=\"start\" x=\"215\" y=\"-52.8\" font-family=\"Helvetica,sans-Serif\" font-size=\"14.00\">entropy = 0.483</text>\n<text text-anchor=\"start\" x=\"213.5\" y=\"-37.8\" font-family=\"Helvetica,sans-Serif\" font-size=\"14.00\">samples = 2385</text>\n<text text-anchor=\"start\" x=\"204\" y=\"-22.8\" font-family=\"Helvetica,sans-Serif\" font-size=\"14.00\">value = [2136, 249]</text>\n<text text-anchor=\"start\" x=\"192\" y=\"-7.8\" font-family=\"Helvetica,sans-Serif\" font-size=\"14.00\">class = No Fraudulento</text>\n</g>\n<!-- 6&#45;&gt;8 -->\n<g id=\"edge8\" class=\"edge\">\n<title>6&#45;&gt;8</title>\n<path fill=\"none\" stroke=\"black\" d=\"M262.49,-103.73C262.79,-95.52 263.11,-86.86 263.41,-78.56\"/>\n<polygon fill=\"black\" stroke=\"black\" points=\"266.92,-78.42 263.78,-68.3 259.92,-78.17 266.92,-78.42\"/>\n</g>\n<!-- 10 -->\n<g id=\"node11\" class=\"node\">\n<title>10</title>\n<path fill=\"#e5833c\" stroke=\"black\" d=\"M741,-306C741,-306 491,-306 491,-306 485,-306 479,-300 479,-294 479,-294 479,-235 479,-235 479,-229 485,-223 491,-223 491,-223 741,-223 741,-223 747,-223 753,-229 753,-235 753,-235 753,-294 753,-294 753,-300 747,-306 741,-306\"/>\n<text text-anchor=\"start\" x=\"487\" y=\"-290.8\" font-family=\"Helvetica,sans-Serif\" font-size=\"14.00\">distance_from_last_transaction ≤ 50.087</text>\n<text text-anchor=\"start\" x=\"566\" y=\"-275.8\" font-family=\"Helvetica,sans-Serif\" font-size=\"14.00\">entropy = 0.106</text>\n<text text-anchor=\"start\" x=\"560\" y=\"-260.8\" font-family=\"Helvetica,sans-Serif\" font-size=\"14.00\">samples = 12503</text>\n<text text-anchor=\"start\" x=\"551\" y=\"-245.8\" font-family=\"Helvetica,sans-Serif\" font-size=\"14.00\">value = [12328, 175]</text>\n<text text-anchor=\"start\" x=\"543\" y=\"-230.8\" font-family=\"Helvetica,sans-Serif\" font-size=\"14.00\">class = No Fraudulento</text>\n</g>\n<!-- 9&#45;&gt;10 -->\n<g id=\"edge10\" class=\"edge\">\n<title>9&#45;&gt;10</title>\n<path fill=\"none\" stroke=\"black\" d=\"M691.75,-341.91C682.58,-332.65 672.74,-322.73 663.3,-313.21\"/>\n<polygon fill=\"black\" stroke=\"black\" points=\"665.7,-310.66 656.17,-306.02 660.73,-315.59 665.7,-310.66\"/>\n</g>\n<!-- 15 -->\n<g id=\"node16\" class=\"node\">\n<title>15</title>\n<path fill=\"#c1e0f7\" stroke=\"black\" d=\"M932.5,-306C932.5,-306 801.5,-306 801.5,-306 795.5,-306 789.5,-300 789.5,-294 789.5,-294 789.5,-235 789.5,-235 789.5,-229 795.5,-223 801.5,-223 801.5,-223 932.5,-223 932.5,-223 938.5,-223 944.5,-229 944.5,-235 944.5,-235 944.5,-294 944.5,-294 944.5,-300 938.5,-306 932.5,-306\"/>\n<text text-anchor=\"start\" x=\"816\" y=\"-290.8\" font-family=\"Helvetica,sans-Serif\" font-size=\"14.00\">used_chip ≤ 0.5</text>\n<text text-anchor=\"start\" x=\"817\" y=\"-275.8\" font-family=\"Helvetica,sans-Serif\" font-size=\"14.00\">entropy = 0.975</text>\n<text text-anchor=\"start\" x=\"811\" y=\"-260.8\" font-family=\"Helvetica,sans-Serif\" font-size=\"14.00\">samples = 23273</text>\n<text text-anchor=\"start\" x=\"797.5\" y=\"-245.8\" font-family=\"Helvetica,sans-Serif\" font-size=\"14.00\">value = [9485, 13788]</text>\n<text text-anchor=\"start\" x=\"805\" y=\"-230.8\" font-family=\"Helvetica,sans-Serif\" font-size=\"14.00\">class = Fraudulento</text>\n</g>\n<!-- 9&#45;&gt;15 -->\n<g id=\"edge15\" class=\"edge\">\n<title>9&#45;&gt;15</title>\n<path fill=\"none\" stroke=\"black\" d=\"M778.84,-341.91C789.73,-332.47 801.41,-322.34 812.6,-312.65\"/>\n<polygon fill=\"black\" stroke=\"black\" points=\"814.98,-315.22 820.25,-306.02 810.4,-309.93 814.98,-315.22\"/>\n</g>\n<!-- 11 -->\n<g id=\"node12\" class=\"node\">\n<title>11</title>\n<path fill=\"#e58139\" stroke=\"black\" d=\"M502,-179.5C502,-179.5 364,-179.5 364,-179.5 358,-179.5 352,-173.5 352,-167.5 352,-167.5 352,-123.5 352,-123.5 352,-117.5 358,-111.5 364,-111.5 364,-111.5 502,-111.5 502,-111.5 508,-111.5 514,-117.5 514,-123.5 514,-123.5 514,-167.5 514,-167.5 514,-173.5 508,-179.5 502,-179.5\"/>\n<text text-anchor=\"start\" x=\"391\" y=\"-164.3\" font-family=\"Helvetica,sans-Serif\" font-size=\"14.00\">entropy = 0.0</text>\n<text text-anchor=\"start\" x=\"377\" y=\"-149.3\" font-family=\"Helvetica,sans-Serif\" font-size=\"14.00\">samples = 12303</text>\n<text text-anchor=\"start\" x=\"376\" y=\"-134.3\" font-family=\"Helvetica,sans-Serif\" font-size=\"14.00\">value = [12303, 0]</text>\n<text text-anchor=\"start\" x=\"360\" y=\"-119.3\" font-family=\"Helvetica,sans-Serif\" font-size=\"14.00\">class = No Fraudulento</text>\n</g>\n<!-- 10&#45;&gt;11 -->\n<g id=\"edge11\" class=\"edge\">\n<title>10&#45;&gt;11</title>\n<path fill=\"none\" stroke=\"black\" d=\"M552.51,-222.91C533.35,-210.66 512.38,-197.25 493.43,-185.13\"/>\n<polygon fill=\"black\" stroke=\"black\" points=\"495.19,-182.1 484.88,-179.67 491.42,-188 495.19,-182.1\"/>\n</g>\n<!-- 12 -->\n<g id=\"node13\" class=\"node\">\n<title>12</title>\n<path fill=\"#55abe9\" stroke=\"black\" d=\"M687.5,-187C687.5,-187 544.5,-187 544.5,-187 538.5,-187 532.5,-181 532.5,-175 532.5,-175 532.5,-116 532.5,-116 532.5,-110 538.5,-104 544.5,-104 544.5,-104 687.5,-104 687.5,-104 693.5,-104 699.5,-110 699.5,-116 699.5,-116 699.5,-175 699.5,-175 699.5,-181 693.5,-187 687.5,-187\"/>\n<text text-anchor=\"start\" x=\"540.5\" y=\"-171.8\" font-family=\"Helvetica,sans-Serif\" font-size=\"14.00\">used_pin_number ≤ 0.5</text>\n<text text-anchor=\"start\" x=\"566\" y=\"-156.8\" font-family=\"Helvetica,sans-Serif\" font-size=\"14.00\">entropy = 0.544</text>\n<text text-anchor=\"start\" x=\"568.5\" y=\"-141.8\" font-family=\"Helvetica,sans-Serif\" font-size=\"14.00\">samples = 200</text>\n<text text-anchor=\"start\" x=\"563\" y=\"-126.8\" font-family=\"Helvetica,sans-Serif\" font-size=\"14.00\">value = [25, 175]</text>\n<text text-anchor=\"start\" x=\"554\" y=\"-111.8\" font-family=\"Helvetica,sans-Serif\" font-size=\"14.00\">class = Fraudulento</text>\n</g>\n<!-- 10&#45;&gt;12 -->\n<g id=\"edge12\" class=\"edge\">\n<title>10&#45;&gt;12</title>\n<path fill=\"none\" stroke=\"black\" d=\"M616,-222.91C616,-214.65 616,-205.86 616,-197.3\"/>\n<polygon fill=\"black\" stroke=\"black\" points=\"619.5,-197.02 616,-187.02 612.5,-197.02 619.5,-197.02\"/>\n</g>\n<!-- 13 -->\n<g id=\"node14\" class=\"node\">\n<title>13</title>\n<path fill=\"#399de5\" stroke=\"black\" d=\"M500,-68C500,-68 384,-68 384,-68 378,-68 372,-62 372,-56 372,-56 372,-12 372,-12 372,-6 378,0 384,0 384,0 500,0 500,0 506,0 512,-6 512,-12 512,-12 512,-56 512,-56 512,-62 506,-68 500,-68\"/>\n<text text-anchor=\"start\" x=\"400\" y=\"-52.8\" font-family=\"Helvetica,sans-Serif\" font-size=\"14.00\">entropy = 0.0</text>\n<text text-anchor=\"start\" x=\"394.5\" y=\"-37.8\" font-family=\"Helvetica,sans-Serif\" font-size=\"14.00\">samples = 175</text>\n<text text-anchor=\"start\" x=\"393.5\" y=\"-22.8\" font-family=\"Helvetica,sans-Serif\" font-size=\"14.00\">value = [0, 175]</text>\n<text text-anchor=\"start\" x=\"380\" y=\"-7.8\" font-family=\"Helvetica,sans-Serif\" font-size=\"14.00\">class = Fraudulento</text>\n</g>\n<!-- 12&#45;&gt;13 -->\n<g id=\"edge13\" class=\"edge\">\n<title>12&#45;&gt;13</title>\n<path fill=\"none\" stroke=\"black\" d=\"M551.21,-103.73C535.47,-93.82 518.7,-83.27 503.14,-73.48\"/>\n<polygon fill=\"black\" stroke=\"black\" points=\"504.97,-70.49 494.64,-68.13 501.24,-76.41 504.97,-70.49\"/>\n</g>\n<!-- 14 -->\n<g id=\"node15\" class=\"node\">\n<title>14</title>\n<path fill=\"#e58139\" stroke=\"black\" d=\"M680,-68C680,-68 542,-68 542,-68 536,-68 530,-62 530,-56 530,-56 530,-12 530,-12 530,-6 536,0 542,0 542,0 680,0 680,0 686,0 692,-6 692,-12 692,-12 692,-56 692,-56 692,-62 686,-68 680,-68\"/>\n<text text-anchor=\"start\" x=\"569\" y=\"-52.8\" font-family=\"Helvetica,sans-Serif\" font-size=\"14.00\">entropy = 0.0</text>\n<text text-anchor=\"start\" x=\"567.5\" y=\"-37.8\" font-family=\"Helvetica,sans-Serif\" font-size=\"14.00\">samples = 25</text>\n<text text-anchor=\"start\" x=\"566.5\" y=\"-22.8\" font-family=\"Helvetica,sans-Serif\" font-size=\"14.00\">value = [25, 0]</text>\n<text text-anchor=\"start\" x=\"538\" y=\"-7.8\" font-family=\"Helvetica,sans-Serif\" font-size=\"14.00\">class = No Fraudulento</text>\n</g>\n<!-- 12&#45;&gt;14 -->\n<g id=\"edge14\" class=\"edge\">\n<title>12&#45;&gt;14</title>\n<path fill=\"none\" stroke=\"black\" d=\"M614.14,-103.73C613.76,-95.52 613.37,-86.86 612.99,-78.56\"/>\n<polygon fill=\"black\" stroke=\"black\" points=\"616.47,-78.13 612.52,-68.3 609.48,-78.45 616.47,-78.13\"/>\n</g>\n<!-- 16 -->\n<g id=\"node17\" class=\"node\">\n<title>16</title>\n<path fill=\"#4ea7e8\" stroke=\"black\" d=\"M938.5,-187C938.5,-187 795.5,-187 795.5,-187 789.5,-187 783.5,-181 783.5,-175 783.5,-175 783.5,-116 783.5,-116 783.5,-110 789.5,-104 795.5,-104 795.5,-104 938.5,-104 938.5,-104 944.5,-104 950.5,-110 950.5,-116 950.5,-116 950.5,-175 950.5,-175 950.5,-181 944.5,-187 938.5,-187\"/>\n<text text-anchor=\"start\" x=\"791.5\" y=\"-171.8\" font-family=\"Helvetica,sans-Serif\" font-size=\"14.00\">used_pin_number ≤ 0.5</text>\n<text text-anchor=\"start\" x=\"817\" y=\"-156.8\" font-family=\"Helvetica,sans-Serif\" font-size=\"14.00\">entropy = 0.456</text>\n<text text-anchor=\"start\" x=\"811\" y=\"-141.8\" font-family=\"Helvetica,sans-Serif\" font-size=\"14.00\">samples = 15134</text>\n<text text-anchor=\"start\" x=\"797.5\" y=\"-126.8\" font-family=\"Helvetica,sans-Serif\" font-size=\"14.00\">value = [1454, 13680]</text>\n<text text-anchor=\"start\" x=\"805\" y=\"-111.8\" font-family=\"Helvetica,sans-Serif\" font-size=\"14.00\">class = Fraudulento</text>\n</g>\n<!-- 15&#45;&gt;16 -->\n<g id=\"edge16\" class=\"edge\">\n<title>15&#45;&gt;16</title>\n<path fill=\"none\" stroke=\"black\" d=\"M867,-222.91C867,-214.65 867,-205.86 867,-197.3\"/>\n<polygon fill=\"black\" stroke=\"black\" points=\"870.5,-197.02 867,-187.02 863.5,-197.02 870.5,-197.02\"/>\n</g>\n<!-- 19 -->\n<g id=\"node20\" class=\"node\">\n<title>19</title>\n<path fill=\"#e5833c\" stroke=\"black\" d=\"M1254,-187C1254,-187 1004,-187 1004,-187 998,-187 992,-181 992,-175 992,-175 992,-116 992,-116 992,-110 998,-104 1004,-104 1004,-104 1254,-104 1254,-104 1260,-104 1266,-110 1266,-116 1266,-116 1266,-175 1266,-175 1266,-181 1260,-187 1254,-187\"/>\n<text text-anchor=\"start\" x=\"1000\" y=\"-171.8\" font-family=\"Helvetica,sans-Serif\" font-size=\"14.00\">distance_from_last_transaction ≤ 50.575</text>\n<text text-anchor=\"start\" x=\"1079\" y=\"-156.8\" font-family=\"Helvetica,sans-Serif\" font-size=\"14.00\">entropy = 0.102</text>\n<text text-anchor=\"start\" x=\"1077.5\" y=\"-141.8\" font-family=\"Helvetica,sans-Serif\" font-size=\"14.00\">samples = 8139</text>\n<text text-anchor=\"start\" x=\"1068\" y=\"-126.8\" font-family=\"Helvetica,sans-Serif\" font-size=\"14.00\">value = [8031, 108]</text>\n<text text-anchor=\"start\" x=\"1056\" y=\"-111.8\" font-family=\"Helvetica,sans-Serif\" font-size=\"14.00\">class = No Fraudulento</text>\n</g>\n<!-- 15&#45;&gt;19 -->\n<g id=\"edge19\" class=\"edge\">\n<title>15&#45;&gt;19</title>\n<path fill=\"none\" stroke=\"black\" d=\"M944.55,-228.87C970.98,-217.07 1000.92,-203.69 1028.88,-191.21\"/>\n<polygon fill=\"black\" stroke=\"black\" points=\"1030.57,-194.29 1038.27,-187.02 1027.71,-187.9 1030.57,-194.29\"/>\n</g>\n<!-- 17 -->\n<g id=\"node18\" class=\"node\">\n<title>17</title>\n<path fill=\"#399de5\" stroke=\"black\" d=\"M838,-68C838,-68 722,-68 722,-68 716,-68 710,-62 710,-56 710,-56 710,-12 710,-12 710,-6 716,0 722,0 722,0 838,0 838,0 844,0 850,-6 850,-12 850,-12 850,-56 850,-56 850,-62 844,-68 838,-68\"/>\n<text text-anchor=\"start\" x=\"738\" y=\"-52.8\" font-family=\"Helvetica,sans-Serif\" font-size=\"14.00\">entropy = 0.0</text>\n<text text-anchor=\"start\" x=\"724\" y=\"-37.8\" font-family=\"Helvetica,sans-Serif\" font-size=\"14.00\">samples = 13680</text>\n<text text-anchor=\"start\" x=\"723\" y=\"-22.8\" font-family=\"Helvetica,sans-Serif\" font-size=\"14.00\">value = [0, 13680]</text>\n<text text-anchor=\"start\" x=\"718\" y=\"-7.8\" font-family=\"Helvetica,sans-Serif\" font-size=\"14.00\">class = Fraudulento</text>\n</g>\n<!-- 16&#45;&gt;17 -->\n<g id=\"edge17\" class=\"edge\">\n<title>16&#45;&gt;17</title>\n<path fill=\"none\" stroke=\"black\" d=\"M834.6,-103.73C827.5,-94.79 819.98,-85.32 812.86,-76.36\"/>\n<polygon fill=\"black\" stroke=\"black\" points=\"815.42,-73.95 806.46,-68.3 809.94,-78.31 815.42,-73.95\"/>\n</g>\n<!-- 18 -->\n<g id=\"node19\" class=\"node\">\n<title>18</title>\n<path fill=\"#e58139\" stroke=\"black\" d=\"M1018,-68C1018,-68 880,-68 880,-68 874,-68 868,-62 868,-56 868,-56 868,-12 868,-12 868,-6 874,0 880,0 880,0 1018,0 1018,0 1024,0 1030,-6 1030,-12 1030,-12 1030,-56 1030,-56 1030,-62 1024,-68 1018,-68\"/>\n<text text-anchor=\"start\" x=\"907\" y=\"-52.8\" font-family=\"Helvetica,sans-Serif\" font-size=\"14.00\">entropy = 0.0</text>\n<text text-anchor=\"start\" x=\"897.5\" y=\"-37.8\" font-family=\"Helvetica,sans-Serif\" font-size=\"14.00\">samples = 1454</text>\n<text text-anchor=\"start\" x=\"896\" y=\"-22.8\" font-family=\"Helvetica,sans-Serif\" font-size=\"14.00\">value = [1454, 0]</text>\n<text text-anchor=\"start\" x=\"876\" y=\"-7.8\" font-family=\"Helvetica,sans-Serif\" font-size=\"14.00\">class = No Fraudulento</text>\n</g>\n<!-- 16&#45;&gt;18 -->\n<g id=\"edge18\" class=\"edge\">\n<title>16&#45;&gt;18</title>\n<path fill=\"none\" stroke=\"black\" d=\"M897.53,-103.73C904.23,-94.79 911.32,-85.32 918.03,-76.36\"/>\n<polygon fill=\"black\" stroke=\"black\" points=\"920.87,-78.4 924.06,-68.3 915.27,-74.21 920.87,-78.4\"/>\n</g>\n<!-- 20 -->\n<g id=\"node21\" class=\"node\">\n<title>20</title>\n<path fill=\"#e58139\" stroke=\"black\" d=\"M1198,-68C1198,-68 1060,-68 1060,-68 1054,-68 1048,-62 1048,-56 1048,-56 1048,-12 1048,-12 1048,-6 1054,0 1060,0 1060,0 1198,0 1198,0 1204,0 1210,-6 1210,-12 1210,-12 1210,-56 1210,-56 1210,-62 1204,-68 1198,-68\"/>\n<text text-anchor=\"start\" x=\"1087\" y=\"-52.8\" font-family=\"Helvetica,sans-Serif\" font-size=\"14.00\">entropy = 0.0</text>\n<text text-anchor=\"start\" x=\"1077.5\" y=\"-37.8\" font-family=\"Helvetica,sans-Serif\" font-size=\"14.00\">samples = 8019</text>\n<text text-anchor=\"start\" x=\"1076\" y=\"-22.8\" font-family=\"Helvetica,sans-Serif\" font-size=\"14.00\">value = [8019, 0]</text>\n<text text-anchor=\"start\" x=\"1056\" y=\"-7.8\" font-family=\"Helvetica,sans-Serif\" font-size=\"14.00\">class = No Fraudulento</text>\n</g>\n<!-- 19&#45;&gt;20 -->\n<g id=\"edge20\" class=\"edge\">\n<title>19&#45;&gt;20</title>\n<path fill=\"none\" stroke=\"black\" d=\"M1129,-103.73C1129,-95.52 1129,-86.86 1129,-78.56\"/>\n<polygon fill=\"black\" stroke=\"black\" points=\"1132.5,-78.3 1129,-68.3 1125.5,-78.3 1132.5,-78.3\"/>\n</g>\n<!-- 21 -->\n<g id=\"node22\" class=\"node\">\n<title>21</title>\n<path fill=\"#4fa8e8\" stroke=\"black\" d=\"M1356,-68C1356,-68 1240,-68 1240,-68 1234,-68 1228,-62 1228,-56 1228,-56 1228,-12 1228,-12 1228,-6 1234,0 1240,0 1240,0 1356,0 1356,0 1362,0 1368,-6 1368,-12 1368,-12 1368,-56 1368,-56 1368,-62 1362,-68 1356,-68\"/>\n<text text-anchor=\"start\" x=\"1248\" y=\"-52.8\" font-family=\"Helvetica,sans-Serif\" font-size=\"14.00\">entropy = 0.469</text>\n<text text-anchor=\"start\" x=\"1250.5\" y=\"-37.8\" font-family=\"Helvetica,sans-Serif\" font-size=\"14.00\">samples = 120</text>\n<text text-anchor=\"start\" x=\"1245\" y=\"-22.8\" font-family=\"Helvetica,sans-Serif\" font-size=\"14.00\">value = [12, 108]</text>\n<text text-anchor=\"start\" x=\"1236\" y=\"-7.8\" font-family=\"Helvetica,sans-Serif\" font-size=\"14.00\">class = Fraudulento</text>\n</g>\n<!-- 19&#45;&gt;21 -->\n<g id=\"edge21\" class=\"edge\">\n<title>19&#45;&gt;21</title>\n<path fill=\"none\" stroke=\"black\" d=\"M1191.93,-103.73C1207.07,-93.92 1223.2,-83.46 1238.19,-73.75\"/>\n<polygon fill=\"black\" stroke=\"black\" points=\"1240.39,-76.5 1246.88,-68.13 1236.58,-70.63 1240.39,-76.5\"/>\n</g>\n<!-- 23 -->\n<g id=\"node24\" class=\"node\">\n<title>23</title>\n<path fill=\"#e99355\" stroke=\"black\" d=\"M2116,-425C2116,-425 1978,-425 1978,-425 1972,-425 1966,-419 1966,-413 1966,-413 1966,-354 1966,-354 1966,-348 1972,-342 1978,-342 1978,-342 2116,-342 2116,-342 2122,-342 2128,-348 2128,-354 2128,-354 2128,-413 2128,-413 2128,-419 2122,-425 2116,-425\"/>\n<text text-anchor=\"start\" x=\"1983.5\" y=\"-409.8\" font-family=\"Helvetica,sans-Serif\" font-size=\"14.00\">repeat_retailer ≤ 0.5</text>\n<text text-anchor=\"start\" x=\"2001\" y=\"-394.8\" font-family=\"Helvetica,sans-Serif\" font-size=\"14.00\">entropy = 0.54</text>\n<text text-anchor=\"start\" x=\"1991\" y=\"-379.8\" font-family=\"Helvetica,sans-Serif\" font-size=\"14.00\">samples = 28911</text>\n<text text-anchor=\"start\" x=\"1977.5\" y=\"-364.8\" font-family=\"Helvetica,sans-Serif\" font-size=\"14.00\">value = [25334, 3577]</text>\n<text text-anchor=\"start\" x=\"1974\" y=\"-349.8\" font-family=\"Helvetica,sans-Serif\" font-size=\"14.00\">class = No Fraudulento</text>\n</g>\n<!-- 22&#45;&gt;23 -->\n<g id=\"edge23\" class=\"edge\">\n<title>22&#45;&gt;23</title>\n<path fill=\"none\" stroke=\"black\" d=\"M2047,-460.91C2047,-452.65 2047,-443.86 2047,-435.3\"/>\n<polygon fill=\"black\" stroke=\"black\" points=\"2050.5,-435.02 2047,-425.02 2043.5,-435.02 2050.5,-435.02\"/>\n</g>\n<!-- 38 -->\n<g id=\"node39\" class=\"node\">\n<title>38</title>\n<path fill=\"#4ea8e8\" stroke=\"black\" d=\"M2620.5,-425C2620.5,-425 2477.5,-425 2477.5,-425 2471.5,-425 2465.5,-419 2465.5,-413 2465.5,-413 2465.5,-354 2465.5,-354 2465.5,-348 2471.5,-342 2477.5,-342 2477.5,-342 2620.5,-342 2620.5,-342 2626.5,-342 2632.5,-348 2632.5,-354 2632.5,-354 2632.5,-413 2632.5,-413 2632.5,-419 2626.5,-425 2620.5,-425\"/>\n<text text-anchor=\"start\" x=\"2473.5\" y=\"-409.8\" font-family=\"Helvetica,sans-Serif\" font-size=\"14.00\">used_pin_number ≤ 0.5</text>\n<text text-anchor=\"start\" x=\"2499\" y=\"-394.8\" font-family=\"Helvetica,sans-Serif\" font-size=\"14.00\">entropy = 0.459</text>\n<text text-anchor=\"start\" x=\"2493\" y=\"-379.8\" font-family=\"Helvetica,sans-Serif\" font-size=\"14.00\">samples = 53496</text>\n<text text-anchor=\"start\" x=\"2479.5\" y=\"-364.8\" font-family=\"Helvetica,sans-Serif\" font-size=\"14.00\">value = [5187, 48309]</text>\n<text text-anchor=\"start\" x=\"2487\" y=\"-349.8\" font-family=\"Helvetica,sans-Serif\" font-size=\"14.00\">class = Fraudulento</text>\n</g>\n<!-- 22&#45;&gt;38 -->\n<g id=\"edge38\" class=\"edge\">\n<title>22&#45;&gt;38</title>\n<path fill=\"none\" stroke=\"black\" d=\"M2128.77,-482.44C2218.26,-461.58 2361.47,-428.21 2455.39,-406.32\"/>\n<polygon fill=\"black\" stroke=\"black\" points=\"2456.23,-409.72 2465.17,-404.04 2454.64,-402.9 2456.23,-409.72\"/>\n</g>\n<!-- 24 -->\n<g id=\"node25\" class=\"node\">\n<title>24</title>\n<path fill=\"#c7e3f8\" stroke=\"black\" d=\"M1966,-306C1966,-306 1844,-306 1844,-306 1838,-306 1832,-300 1832,-294 1832,-294 1832,-235 1832,-235 1832,-229 1838,-223 1844,-223 1844,-223 1966,-223 1966,-223 1972,-223 1978,-229 1978,-235 1978,-235 1978,-294 1978,-294 1978,-300 1972,-306 1966,-306\"/>\n<text text-anchor=\"start\" x=\"1854\" y=\"-290.8\" font-family=\"Helvetica,sans-Serif\" font-size=\"14.00\">used_chip ≤ 0.5</text>\n<text text-anchor=\"start\" x=\"1859\" y=\"-275.8\" font-family=\"Helvetica,sans-Serif\" font-size=\"14.00\">entropy = 0.98</text>\n<text text-anchor=\"start\" x=\"1853.5\" y=\"-260.8\" font-family=\"Helvetica,sans-Serif\" font-size=\"14.00\">samples = 3397</text>\n<text text-anchor=\"start\" x=\"1840\" y=\"-245.8\" font-family=\"Helvetica,sans-Serif\" font-size=\"14.00\">value = [1418, 1979]</text>\n<text text-anchor=\"start\" x=\"1843\" y=\"-230.8\" font-family=\"Helvetica,sans-Serif\" font-size=\"14.00\">class = Fraudulento</text>\n</g>\n<!-- 23&#45;&gt;24 -->\n<g id=\"edge24\" class=\"edge\">\n<title>23&#45;&gt;24</title>\n<path fill=\"none\" stroke=\"black\" d=\"M1997.73,-341.91C1986.28,-332.47 1973.99,-322.34 1962.22,-312.65\"/>\n<polygon fill=\"black\" stroke=\"black\" points=\"1964.12,-309.68 1954.18,-306.02 1959.67,-315.08 1964.12,-309.68\"/>\n</g>\n<!-- 31 -->\n<g id=\"node32\" class=\"node\">\n<title>31</title>\n<path fill=\"#e78946\" stroke=\"black\" d=\"M2310,-306C2310,-306 2114,-306 2114,-306 2108,-306 2102,-300 2102,-294 2102,-294 2102,-235 2102,-235 2102,-229 2108,-223 2114,-223 2114,-223 2310,-223 2310,-223 2316,-223 2322,-229 2322,-235 2322,-235 2322,-294 2322,-294 2322,-300 2316,-306 2310,-306\"/>\n<text text-anchor=\"start\" x=\"2110\" y=\"-290.8\" font-family=\"Helvetica,sans-Serif\" font-size=\"14.00\">distance_from_home ≤ 100.037</text>\n<text text-anchor=\"start\" x=\"2162\" y=\"-275.8\" font-family=\"Helvetica,sans-Serif\" font-size=\"14.00\">entropy = 0.338</text>\n<text text-anchor=\"start\" x=\"2156\" y=\"-260.8\" font-family=\"Helvetica,sans-Serif\" font-size=\"14.00\">samples = 25514</text>\n<text text-anchor=\"start\" x=\"2142.5\" y=\"-245.8\" font-family=\"Helvetica,sans-Serif\" font-size=\"14.00\">value = [23916, 1598]</text>\n<text text-anchor=\"start\" x=\"2139\" y=\"-230.8\" font-family=\"Helvetica,sans-Serif\" font-size=\"14.00\">class = No Fraudulento</text>\n</g>\n<!-- 23&#45;&gt;31 -->\n<g id=\"edge31\" class=\"edge\">\n<title>23&#45;&gt;31</title>\n<path fill=\"none\" stroke=\"black\" d=\"M2104.25,-341.91C2117.94,-332.2 2132.66,-321.76 2146.69,-311.81\"/>\n<polygon fill=\"black\" stroke=\"black\" points=\"2148.72,-314.66 2154.86,-306.02 2144.67,-308.95 2148.72,-314.66\"/>\n</g>\n<!-- 25 -->\n<g id=\"node26\" class=\"node\">\n<title>25</title>\n<path fill=\"#4fa8e8\" stroke=\"black\" d=\"M1696.5,-187C1696.5,-187 1553.5,-187 1553.5,-187 1547.5,-187 1541.5,-181 1541.5,-175 1541.5,-175 1541.5,-116 1541.5,-116 1541.5,-110 1547.5,-104 1553.5,-104 1553.5,-104 1696.5,-104 1696.5,-104 1702.5,-104 1708.5,-110 1708.5,-116 1708.5,-116 1708.5,-175 1708.5,-175 1708.5,-181 1702.5,-187 1696.5,-187\"/>\n<text text-anchor=\"start\" x=\"1549.5\" y=\"-171.8\" font-family=\"Helvetica,sans-Serif\" font-size=\"14.00\">used_pin_number ≤ 0.5</text>\n<text text-anchor=\"start\" x=\"1575\" y=\"-156.8\" font-family=\"Helvetica,sans-Serif\" font-size=\"14.00\">entropy = 0.468</text>\n<text text-anchor=\"start\" x=\"1573.5\" y=\"-141.8\" font-family=\"Helvetica,sans-Serif\" font-size=\"14.00\">samples = 2186</text>\n<text text-anchor=\"start\" x=\"1564\" y=\"-126.8\" font-family=\"Helvetica,sans-Serif\" font-size=\"14.00\">value = [218, 1968]</text>\n<text text-anchor=\"start\" x=\"1563\" y=\"-111.8\" font-family=\"Helvetica,sans-Serif\" font-size=\"14.00\">class = Fraudulento</text>\n</g>\n<!-- 24&#45;&gt;25 -->\n<g id=\"edge25\" class=\"edge\">\n<title>24&#45;&gt;25</title>\n<path fill=\"none\" stroke=\"black\" d=\"M1831.8,-232.91C1796.99,-218.37 1755,-200.82 1717.96,-185.35\"/>\n<polygon fill=\"black\" stroke=\"black\" points=\"1719.24,-182.09 1708.66,-181.46 1716.54,-188.54 1719.24,-182.09\"/>\n</g>\n<!-- 28 -->\n<g id=\"node29\" class=\"node\">\n<title>28</title>\n<path fill=\"#e5823b\" stroke=\"black\" d=\"M2026,-187C2026,-187 1784,-187 1784,-187 1778,-187 1772,-181 1772,-175 1772,-175 1772,-116 1772,-116 1772,-110 1778,-104 1784,-104 1784,-104 2026,-104 2026,-104 2032,-104 2038,-110 2038,-116 2038,-116 2038,-175 2038,-175 2038,-181 2032,-187 2026,-187\"/>\n<text text-anchor=\"start\" x=\"1780\" y=\"-171.8\" font-family=\"Helvetica,sans-Serif\" font-size=\"14.00\">distance_from_last_transaction ≤ 49.56</text>\n<text text-anchor=\"start\" x=\"1855\" y=\"-156.8\" font-family=\"Helvetica,sans-Serif\" font-size=\"14.00\">entropy = 0.075</text>\n<text text-anchor=\"start\" x=\"1853.5\" y=\"-141.8\" font-family=\"Helvetica,sans-Serif\" font-size=\"14.00\">samples = 1211</text>\n<text text-anchor=\"start\" x=\"1848\" y=\"-126.8\" font-family=\"Helvetica,sans-Serif\" font-size=\"14.00\">value = [1200, 11]</text>\n<text text-anchor=\"start\" x=\"1832\" y=\"-111.8\" font-family=\"Helvetica,sans-Serif\" font-size=\"14.00\">class = No Fraudulento</text>\n</g>\n<!-- 24&#45;&gt;28 -->\n<g id=\"edge28\" class=\"edge\">\n<title>24&#45;&gt;28</title>\n<path fill=\"none\" stroke=\"black\" d=\"M1905,-222.91C1905,-214.65 1905,-205.86 1905,-197.3\"/>\n<polygon fill=\"black\" stroke=\"black\" points=\"1908.5,-197.02 1905,-187.02 1901.5,-197.02 1908.5,-197.02\"/>\n</g>\n<!-- 26 -->\n<g id=\"node27\" class=\"node\">\n<title>26</title>\n<path fill=\"#399de5\" stroke=\"black\" d=\"M1514,-68C1514,-68 1398,-68 1398,-68 1392,-68 1386,-62 1386,-56 1386,-56 1386,-12 1386,-12 1386,-6 1392,0 1398,0 1398,0 1514,0 1514,0 1520,0 1526,-6 1526,-12 1526,-12 1526,-56 1526,-56 1526,-62 1520,-68 1514,-68\"/>\n<text text-anchor=\"start\" x=\"1414\" y=\"-52.8\" font-family=\"Helvetica,sans-Serif\" font-size=\"14.00\">entropy = 0.0</text>\n<text text-anchor=\"start\" x=\"1404.5\" y=\"-37.8\" font-family=\"Helvetica,sans-Serif\" font-size=\"14.00\">samples = 1968</text>\n<text text-anchor=\"start\" x=\"1403\" y=\"-22.8\" font-family=\"Helvetica,sans-Serif\" font-size=\"14.00\">value = [0, 1968]</text>\n<text text-anchor=\"start\" x=\"1394\" y=\"-7.8\" font-family=\"Helvetica,sans-Serif\" font-size=\"14.00\">class = Fraudulento</text>\n</g>\n<!-- 25&#45;&gt;26 -->\n<g id=\"edge26\" class=\"edge\">\n<title>25&#45;&gt;26</title>\n<path fill=\"none\" stroke=\"black\" d=\"M1562.07,-103.73C1546.93,-93.92 1530.8,-83.46 1515.81,-73.75\"/>\n<polygon fill=\"black\" stroke=\"black\" points=\"1517.42,-70.63 1507.12,-68.13 1513.61,-76.5 1517.42,-70.63\"/>\n</g>\n<!-- 27 -->\n<g id=\"node28\" class=\"node\">\n<title>27</title>\n<path fill=\"#e58139\" stroke=\"black\" d=\"M1694,-68C1694,-68 1556,-68 1556,-68 1550,-68 1544,-62 1544,-56 1544,-56 1544,-12 1544,-12 1544,-6 1550,0 1556,0 1556,0 1694,0 1694,0 1700,0 1706,-6 1706,-12 1706,-12 1706,-56 1706,-56 1706,-62 1700,-68 1694,-68\"/>\n<text text-anchor=\"start\" x=\"1583\" y=\"-52.8\" font-family=\"Helvetica,sans-Serif\" font-size=\"14.00\">entropy = 0.0</text>\n<text text-anchor=\"start\" x=\"1577.5\" y=\"-37.8\" font-family=\"Helvetica,sans-Serif\" font-size=\"14.00\">samples = 218</text>\n<text text-anchor=\"start\" x=\"1576.5\" y=\"-22.8\" font-family=\"Helvetica,sans-Serif\" font-size=\"14.00\">value = [218, 0]</text>\n<text text-anchor=\"start\" x=\"1552\" y=\"-7.8\" font-family=\"Helvetica,sans-Serif\" font-size=\"14.00\">class = No Fraudulento</text>\n</g>\n<!-- 25&#45;&gt;27 -->\n<g id=\"edge27\" class=\"edge\">\n<title>25&#45;&gt;27</title>\n<path fill=\"none\" stroke=\"black\" d=\"M1625,-103.73C1625,-95.52 1625,-86.86 1625,-78.56\"/>\n<polygon fill=\"black\" stroke=\"black\" points=\"1628.5,-78.3 1625,-68.3 1621.5,-78.3 1628.5,-78.3\"/>\n</g>\n<!-- 29 -->\n<g id=\"node30\" class=\"node\">\n<title>29</title>\n<path fill=\"#e58139\" stroke=\"black\" d=\"M1874,-68C1874,-68 1736,-68 1736,-68 1730,-68 1724,-62 1724,-56 1724,-56 1724,-12 1724,-12 1724,-6 1730,0 1736,0 1736,0 1874,0 1874,0 1880,0 1886,-6 1886,-12 1886,-12 1886,-56 1886,-56 1886,-62 1880,-68 1874,-68\"/>\n<text text-anchor=\"start\" x=\"1763\" y=\"-52.8\" font-family=\"Helvetica,sans-Serif\" font-size=\"14.00\">entropy = 0.0</text>\n<text text-anchor=\"start\" x=\"1753.5\" y=\"-37.8\" font-family=\"Helvetica,sans-Serif\" font-size=\"14.00\">samples = 1197</text>\n<text text-anchor=\"start\" x=\"1752\" y=\"-22.8\" font-family=\"Helvetica,sans-Serif\" font-size=\"14.00\">value = [1197, 0]</text>\n<text text-anchor=\"start\" x=\"1732\" y=\"-7.8\" font-family=\"Helvetica,sans-Serif\" font-size=\"14.00\">class = No Fraudulento</text>\n</g>\n<!-- 28&#45;&gt;29 -->\n<g id=\"edge29\" class=\"edge\">\n<title>28&#45;&gt;29</title>\n<path fill=\"none\" stroke=\"black\" d=\"M1867.76,-103.73C1859.43,-94.61 1850.6,-84.93 1842.27,-75.81\"/>\n<polygon fill=\"black\" stroke=\"black\" points=\"1844.74,-73.32 1835.41,-68.3 1839.57,-78.04 1844.74,-73.32\"/>\n</g>\n<!-- 30 -->\n<g id=\"node31\" class=\"node\">\n<title>30</title>\n<path fill=\"#6fb8ec\" stroke=\"black\" d=\"M2032,-68C2032,-68 1916,-68 1916,-68 1910,-68 1904,-62 1904,-56 1904,-56 1904,-12 1904,-12 1904,-6 1910,0 1916,0 1916,0 2032,0 2032,0 2038,0 2044,-6 2044,-12 2044,-12 2044,-56 2044,-56 2044,-62 2038,-68 2032,-68\"/>\n<text text-anchor=\"start\" x=\"1928\" y=\"-52.8\" font-family=\"Helvetica,sans-Serif\" font-size=\"14.00\">entropy = 0.75</text>\n<text text-anchor=\"start\" x=\"1930.5\" y=\"-37.8\" font-family=\"Helvetica,sans-Serif\" font-size=\"14.00\">samples = 14</text>\n<text text-anchor=\"start\" x=\"1929.5\" y=\"-22.8\" font-family=\"Helvetica,sans-Serif\" font-size=\"14.00\">value = [3, 11]</text>\n<text text-anchor=\"start\" x=\"1912\" y=\"-7.8\" font-family=\"Helvetica,sans-Serif\" font-size=\"14.00\">class = Fraudulento</text>\n</g>\n<!-- 28&#45;&gt;30 -->\n<g id=\"edge30\" class=\"edge\">\n<title>28&#45;&gt;30</title>\n<path fill=\"none\" stroke=\"black\" d=\"M1930.69,-103.73C1936.21,-94.97 1942.05,-85.7 1947.59,-76.91\"/>\n<polygon fill=\"black\" stroke=\"black\" points=\"1950.65,-78.63 1953.02,-68.3 1944.72,-74.89 1950.65,-78.63\"/>\n</g>\n<!-- 32 -->\n<g id=\"node33\" class=\"node\">\n<title>32</title>\n<path fill=\"#e5833c\" stroke=\"black\" d=\"M2333,-187C2333,-187 2091,-187 2091,-187 2085,-187 2079,-181 2079,-175 2079,-175 2079,-116 2079,-116 2079,-110 2085,-104 2091,-104 2091,-104 2333,-104 2333,-104 2339,-104 2345,-110 2345,-116 2345,-116 2345,-175 2345,-175 2345,-181 2339,-187 2333,-187\"/>\n<text text-anchor=\"start\" x=\"2087\" y=\"-171.8\" font-family=\"Helvetica,sans-Serif\" font-size=\"14.00\">distance_from_last_transaction ≤ 50.18</text>\n<text text-anchor=\"start\" x=\"2162\" y=\"-156.8\" font-family=\"Helvetica,sans-Serif\" font-size=\"14.00\">entropy = 0.103</text>\n<text text-anchor=\"start\" x=\"2156\" y=\"-141.8\" font-family=\"Helvetica,sans-Serif\" font-size=\"14.00\">samples = 24114</text>\n<text text-anchor=\"start\" x=\"2147\" y=\"-126.8\" font-family=\"Helvetica,sans-Serif\" font-size=\"14.00\">value = [23788, 326]</text>\n<text text-anchor=\"start\" x=\"2139\" y=\"-111.8\" font-family=\"Helvetica,sans-Serif\" font-size=\"14.00\">class = No Fraudulento</text>\n</g>\n<!-- 31&#45;&gt;32 -->\n<g id=\"edge32\" class=\"edge\">\n<title>31&#45;&gt;32</title>\n<path fill=\"none\" stroke=\"black\" d=\"M2212,-222.91C2212,-214.65 2212,-205.86 2212,-197.3\"/>\n<polygon fill=\"black\" stroke=\"black\" points=\"2215.5,-197.02 2212,-187.02 2208.5,-197.02 2215.5,-197.02\"/>\n</g>\n<!-- 35 -->\n<g id=\"node36\" class=\"node\">\n<title>35</title>\n<path fill=\"#4da7e8\" stroke=\"black\" d=\"M2541.5,-187C2541.5,-187 2398.5,-187 2398.5,-187 2392.5,-187 2386.5,-181 2386.5,-175 2386.5,-175 2386.5,-116 2386.5,-116 2386.5,-110 2392.5,-104 2398.5,-104 2398.5,-104 2541.5,-104 2541.5,-104 2547.5,-104 2553.5,-110 2553.5,-116 2553.5,-116 2553.5,-175 2553.5,-175 2553.5,-181 2547.5,-187 2541.5,-187\"/>\n<text text-anchor=\"start\" x=\"2394.5\" y=\"-171.8\" font-family=\"Helvetica,sans-Serif\" font-size=\"14.00\">used_pin_number ≤ 0.5</text>\n<text text-anchor=\"start\" x=\"2420\" y=\"-156.8\" font-family=\"Helvetica,sans-Serif\" font-size=\"14.00\">entropy = 0.441</text>\n<text text-anchor=\"start\" x=\"2418.5\" y=\"-141.8\" font-family=\"Helvetica,sans-Serif\" font-size=\"14.00\">samples = 1400</text>\n<text text-anchor=\"start\" x=\"2409\" y=\"-126.8\" font-family=\"Helvetica,sans-Serif\" font-size=\"14.00\">value = [128, 1272]</text>\n<text text-anchor=\"start\" x=\"2408\" y=\"-111.8\" font-family=\"Helvetica,sans-Serif\" font-size=\"14.00\">class = Fraudulento</text>\n</g>\n<!-- 31&#45;&gt;35 -->\n<g id=\"edge35\" class=\"edge\">\n<title>31&#45;&gt;35</title>\n<path fill=\"none\" stroke=\"black\" d=\"M2301.51,-222.91C2325.9,-211.85 2352.38,-199.84 2376.96,-188.69\"/>\n<polygon fill=\"black\" stroke=\"black\" points=\"2378.62,-191.78 2386.28,-184.47 2375.73,-185.41 2378.62,-191.78\"/>\n</g>\n<!-- 33 -->\n<g id=\"node34\" class=\"node\">\n<title>33</title>\n<path fill=\"#e58139\" stroke=\"black\" d=\"M2212,-68C2212,-68 2074,-68 2074,-68 2068,-68 2062,-62 2062,-56 2062,-56 2062,-12 2062,-12 2062,-6 2068,0 2074,0 2074,0 2212,0 2212,0 2218,0 2224,-6 2224,-12 2224,-12 2224,-56 2224,-56 2224,-62 2218,-68 2212,-68\"/>\n<text text-anchor=\"start\" x=\"2101\" y=\"-52.8\" font-family=\"Helvetica,sans-Serif\" font-size=\"14.00\">entropy = 0.0</text>\n<text text-anchor=\"start\" x=\"2087\" y=\"-37.8\" font-family=\"Helvetica,sans-Serif\" font-size=\"14.00\">samples = 23759</text>\n<text text-anchor=\"start\" x=\"2086\" y=\"-22.8\" font-family=\"Helvetica,sans-Serif\" font-size=\"14.00\">value = [23759, 0]</text>\n<text text-anchor=\"start\" x=\"2070\" y=\"-7.8\" font-family=\"Helvetica,sans-Serif\" font-size=\"14.00\">class = No Fraudulento</text>\n</g>\n<!-- 32&#45;&gt;33 -->\n<g id=\"edge33\" class=\"edge\">\n<title>32&#45;&gt;33</title>\n<path fill=\"none\" stroke=\"black\" d=\"M2186.31,-103.73C2180.79,-94.97 2174.95,-85.7 2169.41,-76.91\"/>\n<polygon fill=\"black\" stroke=\"black\" points=\"2172.28,-74.89 2163.98,-68.3 2166.35,-78.63 2172.28,-74.89\"/>\n</g>\n<!-- 34 -->\n<g id=\"node35\" class=\"node\">\n<title>34</title>\n<path fill=\"#4ba6e7\" stroke=\"black\" d=\"M2370,-68C2370,-68 2254,-68 2254,-68 2248,-68 2242,-62 2242,-56 2242,-56 2242,-12 2242,-12 2242,-6 2248,0 2254,0 2254,0 2370,0 2370,0 2376,0 2382,-6 2382,-12 2382,-12 2382,-56 2382,-56 2382,-62 2376,-68 2370,-68\"/>\n<text text-anchor=\"start\" x=\"2262\" y=\"-52.8\" font-family=\"Helvetica,sans-Serif\" font-size=\"14.00\">entropy = 0.408</text>\n<text text-anchor=\"start\" x=\"2264.5\" y=\"-37.8\" font-family=\"Helvetica,sans-Serif\" font-size=\"14.00\">samples = 355</text>\n<text text-anchor=\"start\" x=\"2259\" y=\"-22.8\" font-family=\"Helvetica,sans-Serif\" font-size=\"14.00\">value = [29, 326]</text>\n<text text-anchor=\"start\" x=\"2250\" y=\"-7.8\" font-family=\"Helvetica,sans-Serif\" font-size=\"14.00\">class = Fraudulento</text>\n</g>\n<!-- 32&#45;&gt;34 -->\n<g id=\"edge34\" class=\"edge\">\n<title>32&#45;&gt;34</title>\n<path fill=\"none\" stroke=\"black\" d=\"M2249.24,-103.73C2257.57,-94.61 2266.4,-84.93 2274.73,-75.81\"/>\n<polygon fill=\"black\" stroke=\"black\" points=\"2277.43,-78.04 2281.59,-68.3 2272.26,-73.32 2277.43,-78.04\"/>\n</g>\n<!-- 36 -->\n<g id=\"node37\" class=\"node\">\n<title>36</title>\n<path fill=\"#399de5\" stroke=\"black\" d=\"M2528,-68C2528,-68 2412,-68 2412,-68 2406,-68 2400,-62 2400,-56 2400,-56 2400,-12 2400,-12 2400,-6 2406,0 2412,0 2412,0 2528,0 2528,0 2534,0 2540,-6 2540,-12 2540,-12 2540,-56 2540,-56 2540,-62 2534,-68 2528,-68\"/>\n<text text-anchor=\"start\" x=\"2428\" y=\"-52.8\" font-family=\"Helvetica,sans-Serif\" font-size=\"14.00\">entropy = 0.0</text>\n<text text-anchor=\"start\" x=\"2418.5\" y=\"-37.8\" font-family=\"Helvetica,sans-Serif\" font-size=\"14.00\">samples = 1271</text>\n<text text-anchor=\"start\" x=\"2417\" y=\"-22.8\" font-family=\"Helvetica,sans-Serif\" font-size=\"14.00\">value = [0, 1271]</text>\n<text text-anchor=\"start\" x=\"2408\" y=\"-7.8\" font-family=\"Helvetica,sans-Serif\" font-size=\"14.00\">class = Fraudulento</text>\n</g>\n<!-- 35&#45;&gt;36 -->\n<g id=\"edge36\" class=\"edge\">\n<title>35&#45;&gt;36</title>\n<path fill=\"none\" stroke=\"black\" d=\"M2470,-103.73C2470,-95.52 2470,-86.86 2470,-78.56\"/>\n<polygon fill=\"black\" stroke=\"black\" points=\"2473.5,-78.3 2470,-68.3 2466.5,-78.3 2473.5,-78.3\"/>\n</g>\n<!-- 37 -->\n<g id=\"node38\" class=\"node\">\n<title>37</title>\n<path fill=\"#e5823b\" stroke=\"black\" d=\"M2708,-68C2708,-68 2570,-68 2570,-68 2564,-68 2558,-62 2558,-56 2558,-56 2558,-12 2558,-12 2558,-6 2564,0 2570,0 2570,0 2708,0 2708,0 2714,0 2720,-6 2720,-12 2720,-12 2720,-56 2720,-56 2720,-62 2714,-68 2708,-68\"/>\n<text text-anchor=\"start\" x=\"2589\" y=\"-52.8\" font-family=\"Helvetica,sans-Serif\" font-size=\"14.00\">entropy = 0.065</text>\n<text text-anchor=\"start\" x=\"2591.5\" y=\"-37.8\" font-family=\"Helvetica,sans-Serif\" font-size=\"14.00\">samples = 129</text>\n<text text-anchor=\"start\" x=\"2590.5\" y=\"-22.8\" font-family=\"Helvetica,sans-Serif\" font-size=\"14.00\">value = [128, 1]</text>\n<text text-anchor=\"start\" x=\"2566\" y=\"-7.8\" font-family=\"Helvetica,sans-Serif\" font-size=\"14.00\">class = No Fraudulento</text>\n</g>\n<!-- 35&#45;&gt;37 -->\n<g id=\"edge37\" class=\"edge\">\n<title>35&#45;&gt;37</title>\n<path fill=\"none\" stroke=\"black\" d=\"M2532.93,-103.73C2548.07,-93.92 2564.2,-83.46 2579.19,-73.75\"/>\n<polygon fill=\"black\" stroke=\"black\" points=\"2581.39,-76.5 2587.88,-68.13 2577.58,-70.63 2581.39,-76.5\"/>\n</g>\n<!-- 39 -->\n<g id=\"node40\" class=\"node\">\n<title>39</title>\n<path fill=\"#399de5\" stroke=\"black\" d=\"M2607,-298.5C2607,-298.5 2491,-298.5 2491,-298.5 2485,-298.5 2479,-292.5 2479,-286.5 2479,-286.5 2479,-242.5 2479,-242.5 2479,-236.5 2485,-230.5 2491,-230.5 2491,-230.5 2607,-230.5 2607,-230.5 2613,-230.5 2619,-236.5 2619,-242.5 2619,-242.5 2619,-286.5 2619,-286.5 2619,-292.5 2613,-298.5 2607,-298.5\"/>\n<text text-anchor=\"start\" x=\"2507\" y=\"-283.3\" font-family=\"Helvetica,sans-Serif\" font-size=\"14.00\">entropy = 0.0</text>\n<text text-anchor=\"start\" x=\"2493\" y=\"-268.3\" font-family=\"Helvetica,sans-Serif\" font-size=\"14.00\">samples = 48085</text>\n<text text-anchor=\"start\" x=\"2492\" y=\"-253.3\" font-family=\"Helvetica,sans-Serif\" font-size=\"14.00\">value = [0, 48085]</text>\n<text text-anchor=\"start\" x=\"2487\" y=\"-238.3\" font-family=\"Helvetica,sans-Serif\" font-size=\"14.00\">class = Fraudulento</text>\n</g>\n<!-- 38&#45;&gt;39 -->\n<g id=\"edge39\" class=\"edge\">\n<title>38&#45;&gt;39</title>\n<path fill=\"none\" stroke=\"black\" d=\"M2549,-341.91C2549,-331.2 2549,-319.62 2549,-308.78\"/>\n<polygon fill=\"black\" stroke=\"black\" points=\"2552.5,-308.67 2549,-298.67 2545.5,-308.67 2552.5,-308.67\"/>\n</g>\n<!-- 40 -->\n<g id=\"node41\" class=\"node\">\n<title>40</title>\n<path fill=\"#e68642\" stroke=\"black\" d=\"M2968,-306C2968,-306 2772,-306 2772,-306 2766,-306 2760,-300 2760,-294 2760,-294 2760,-235 2760,-235 2760,-229 2766,-223 2772,-223 2772,-223 2968,-223 2968,-223 2974,-223 2980,-229 2980,-235 2980,-235 2980,-294 2980,-294 2980,-300 2974,-306 2968,-306\"/>\n<text text-anchor=\"start\" x=\"2768\" y=\"-290.8\" font-family=\"Helvetica,sans-Serif\" font-size=\"14.00\">distance_from_home ≤ 100.155</text>\n<text text-anchor=\"start\" x=\"2820\" y=\"-275.8\" font-family=\"Helvetica,sans-Serif\" font-size=\"14.00\">entropy = 0.249</text>\n<text text-anchor=\"start\" x=\"2818.5\" y=\"-260.8\" font-family=\"Helvetica,sans-Serif\" font-size=\"14.00\">samples = 5411</text>\n<text text-anchor=\"start\" x=\"2809\" y=\"-245.8\" font-family=\"Helvetica,sans-Serif\" font-size=\"14.00\">value = [5187, 224]</text>\n<text text-anchor=\"start\" x=\"2797\" y=\"-230.8\" font-family=\"Helvetica,sans-Serif\" font-size=\"14.00\">class = No Fraudulento</text>\n</g>\n<!-- 38&#45;&gt;40 -->\n<g id=\"edge40\" class=\"edge\">\n<title>38&#45;&gt;40</title>\n<path fill=\"none\" stroke=\"black\" d=\"M2632.5,-352.07C2668.29,-339.02 2710.78,-323.53 2749.85,-309.29\"/>\n<polygon fill=\"black\" stroke=\"black\" points=\"2751.51,-312.41 2759.71,-305.7 2749.11,-305.84 2751.51,-312.41\"/>\n</g>\n<!-- 41 -->\n<g id=\"node42\" class=\"node\">\n<title>41</title>\n<path fill=\"#e5833c\" stroke=\"black\" d=\"M2995,-187C2995,-187 2745,-187 2745,-187 2739,-187 2733,-181 2733,-175 2733,-175 2733,-116 2733,-116 2733,-110 2739,-104 2745,-104 2745,-104 2995,-104 2995,-104 3001,-104 3007,-110 3007,-116 3007,-116 3007,-175 3007,-175 3007,-181 3001,-187 2995,-187\"/>\n<text text-anchor=\"start\" x=\"2741\" y=\"-171.8\" font-family=\"Helvetica,sans-Serif\" font-size=\"14.00\">distance_from_last_transaction ≤ 50.551</text>\n<text text-anchor=\"start\" x=\"2820\" y=\"-156.8\" font-family=\"Helvetica,sans-Serif\" font-size=\"14.00\">entropy = 0.098</text>\n<text text-anchor=\"start\" x=\"2818.5\" y=\"-141.8\" font-family=\"Helvetica,sans-Serif\" font-size=\"14.00\">samples = 5154</text>\n<text text-anchor=\"start\" x=\"2813\" y=\"-126.8\" font-family=\"Helvetica,sans-Serif\" font-size=\"14.00\">value = [5089, 65]</text>\n<text text-anchor=\"start\" x=\"2797\" y=\"-111.8\" font-family=\"Helvetica,sans-Serif\" font-size=\"14.00\">class = No Fraudulento</text>\n</g>\n<!-- 40&#45;&gt;41 -->\n<g id=\"edge41\" class=\"edge\">\n<title>40&#45;&gt;41</title>\n<path fill=\"none\" stroke=\"black\" d=\"M2870,-222.91C2870,-214.65 2870,-205.86 2870,-197.3\"/>\n<polygon fill=\"black\" stroke=\"black\" points=\"2873.5,-197.02 2870,-187.02 2866.5,-197.02 2873.5,-197.02\"/>\n</g>\n<!-- 44 -->\n<g id=\"node45\" class=\"node\">\n<title>44</title>\n<path fill=\"#b3d9f5\" stroke=\"black\" d=\"M3204,-187C3204,-187 3088,-187 3088,-187 3082,-187 3076,-181 3076,-175 3076,-175 3076,-116 3076,-116 3076,-110 3082,-104 3088,-104 3088,-104 3204,-104 3204,-104 3210,-104 3216,-110 3216,-116 3216,-116 3216,-175 3216,-175 3216,-181 3210,-187 3204,-187\"/>\n<text text-anchor=\"start\" x=\"3095\" y=\"-171.8\" font-family=\"Helvetica,sans-Serif\" font-size=\"14.00\">used_chip ≤ 0.5</text>\n<text text-anchor=\"start\" x=\"3096\" y=\"-156.8\" font-family=\"Helvetica,sans-Serif\" font-size=\"14.00\">entropy = 0.959</text>\n<text text-anchor=\"start\" x=\"3098.5\" y=\"-141.8\" font-family=\"Helvetica,sans-Serif\" font-size=\"14.00\">samples = 257</text>\n<text text-anchor=\"start\" x=\"3093\" y=\"-126.8\" font-family=\"Helvetica,sans-Serif\" font-size=\"14.00\">value = [98, 159]</text>\n<text text-anchor=\"start\" x=\"3084\" y=\"-111.8\" font-family=\"Helvetica,sans-Serif\" font-size=\"14.00\">class = Fraudulento</text>\n</g>\n<!-- 40&#45;&gt;44 -->\n<g id=\"edge44\" class=\"edge\">\n<title>40&#45;&gt;44</title>\n<path fill=\"none\" stroke=\"black\" d=\"M2965.76,-222.91C2998.49,-209.03 3034.74,-193.67 3066.09,-180.38\"/>\n<polygon fill=\"black\" stroke=\"black\" points=\"3067.81,-183.45 3075.65,-176.32 3065.08,-177 3067.81,-183.45\"/>\n</g>\n<!-- 42 -->\n<g id=\"node43\" class=\"node\">\n<title>42</title>\n<path fill=\"#e58139\" stroke=\"black\" d=\"M2888,-68C2888,-68 2750,-68 2750,-68 2744,-68 2738,-62 2738,-56 2738,-56 2738,-12 2738,-12 2738,-6 2744,0 2750,0 2750,0 2888,0 2888,0 2894,0 2900,-6 2900,-12 2900,-12 2900,-56 2900,-56 2900,-62 2894,-68 2888,-68\"/>\n<text text-anchor=\"start\" x=\"2777\" y=\"-52.8\" font-family=\"Helvetica,sans-Serif\" font-size=\"14.00\">entropy = 0.0</text>\n<text text-anchor=\"start\" x=\"2767.5\" y=\"-37.8\" font-family=\"Helvetica,sans-Serif\" font-size=\"14.00\">samples = 5069</text>\n<text text-anchor=\"start\" x=\"2766\" y=\"-22.8\" font-family=\"Helvetica,sans-Serif\" font-size=\"14.00\">value = [5069, 0]</text>\n<text text-anchor=\"start\" x=\"2746\" y=\"-7.8\" font-family=\"Helvetica,sans-Serif\" font-size=\"14.00\">class = No Fraudulento</text>\n</g>\n<!-- 41&#45;&gt;42 -->\n<g id=\"edge42\" class=\"edge\">\n<title>41&#45;&gt;42</title>\n<path fill=\"none\" stroke=\"black\" d=\"M2851.01,-103.73C2847.02,-95.15 2842.79,-86.09 2838.77,-77.46\"/>\n<polygon fill=\"black\" stroke=\"black\" points=\"2841.9,-75.89 2834.51,-68.3 2835.56,-78.84 2841.9,-75.89\"/>\n</g>\n<!-- 43 -->\n<g id=\"node44\" class=\"node\">\n<title>43</title>\n<path fill=\"#76bbed\" stroke=\"black\" d=\"M3046,-68C3046,-68 2930,-68 2930,-68 2924,-68 2918,-62 2918,-56 2918,-56 2918,-12 2918,-12 2918,-6 2924,0 2930,0 2930,0 3046,0 3046,0 3052,0 3058,-6 3058,-12 3058,-12 3058,-56 3058,-56 3058,-62 3052,-68 3046,-68\"/>\n<text text-anchor=\"start\" x=\"2938\" y=\"-52.8\" font-family=\"Helvetica,sans-Serif\" font-size=\"14.00\">entropy = 0.787</text>\n<text text-anchor=\"start\" x=\"2944.5\" y=\"-37.8\" font-family=\"Helvetica,sans-Serif\" font-size=\"14.00\">samples = 85</text>\n<text text-anchor=\"start\" x=\"2939.5\" y=\"-22.8\" font-family=\"Helvetica,sans-Serif\" font-size=\"14.00\">value = [20, 65]</text>\n<text text-anchor=\"start\" x=\"2926\" y=\"-7.8\" font-family=\"Helvetica,sans-Serif\" font-size=\"14.00\">class = Fraudulento</text>\n</g>\n<!-- 41&#45;&gt;43 -->\n<g id=\"edge43\" class=\"edge\">\n<title>41&#45;&gt;43</title>\n<path fill=\"none\" stroke=\"black\" d=\"M2913.94,-103.73C2923.96,-94.42 2934.61,-84.54 2944.61,-75.26\"/>\n<polygon fill=\"black\" stroke=\"black\" points=\"2947.17,-77.67 2952.12,-68.3 2942.4,-72.54 2947.17,-77.67\"/>\n</g>\n<!-- 45 -->\n<g id=\"node46\" class=\"node\">\n<title>45</title>\n<path fill=\"#399de5\" stroke=\"black\" d=\"M3204,-68C3204,-68 3088,-68 3088,-68 3082,-68 3076,-62 3076,-56 3076,-56 3076,-12 3076,-12 3076,-6 3082,0 3088,0 3088,0 3204,0 3204,0 3210,0 3216,-6 3216,-12 3216,-12 3216,-56 3216,-56 3216,-62 3210,-68 3204,-68\"/>\n<text text-anchor=\"start\" x=\"3104\" y=\"-52.8\" font-family=\"Helvetica,sans-Serif\" font-size=\"14.00\">entropy = 0.0</text>\n<text text-anchor=\"start\" x=\"3098.5\" y=\"-37.8\" font-family=\"Helvetica,sans-Serif\" font-size=\"14.00\">samples = 157</text>\n<text text-anchor=\"start\" x=\"3097.5\" y=\"-22.8\" font-family=\"Helvetica,sans-Serif\" font-size=\"14.00\">value = [0, 157]</text>\n<text text-anchor=\"start\" x=\"3084\" y=\"-7.8\" font-family=\"Helvetica,sans-Serif\" font-size=\"14.00\">class = Fraudulento</text>\n</g>\n<!-- 44&#45;&gt;45 -->\n<g id=\"edge45\" class=\"edge\">\n<title>44&#45;&gt;45</title>\n<path fill=\"none\" stroke=\"black\" d=\"M3146,-103.73C3146,-95.52 3146,-86.86 3146,-78.56\"/>\n<polygon fill=\"black\" stroke=\"black\" points=\"3149.5,-78.3 3146,-68.3 3142.5,-78.3 3149.5,-78.3\"/>\n</g>\n<!-- 46 -->\n<g id=\"node47\" class=\"node\">\n<title>46</title>\n<path fill=\"#e6843d\" stroke=\"black\" d=\"M3384,-68C3384,-68 3246,-68 3246,-68 3240,-68 3234,-62 3234,-56 3234,-56 3234,-12 3234,-12 3234,-6 3240,0 3246,0 3246,0 3384,0 3384,0 3390,0 3396,-6 3396,-12 3396,-12 3396,-56 3396,-56 3396,-62 3390,-68 3384,-68\"/>\n<text text-anchor=\"start\" x=\"3265\" y=\"-52.8\" font-family=\"Helvetica,sans-Serif\" font-size=\"14.00\">entropy = 0.141</text>\n<text text-anchor=\"start\" x=\"3267.5\" y=\"-37.8\" font-family=\"Helvetica,sans-Serif\" font-size=\"14.00\">samples = 100</text>\n<text text-anchor=\"start\" x=\"3270.5\" y=\"-22.8\" font-family=\"Helvetica,sans-Serif\" font-size=\"14.00\">value = [98, 2]</text>\n<text text-anchor=\"start\" x=\"3242\" y=\"-7.8\" font-family=\"Helvetica,sans-Serif\" font-size=\"14.00\">class = No Fraudulento</text>\n</g>\n<!-- 44&#45;&gt;46 -->\n<g id=\"edge46\" class=\"edge\">\n<title>44&#45;&gt;46</title>\n<path fill=\"none\" stroke=\"black\" d=\"M3208.93,-103.73C3224.07,-93.92 3240.2,-83.46 3255.19,-73.75\"/>\n<polygon fill=\"black\" stroke=\"black\" points=\"3257.39,-76.5 3263.88,-68.13 3253.58,-70.63 3257.39,-76.5\"/>\n</g>\n</g>\n</svg>\n",
      "text/plain": "<graphviz.sources.Source at 0x16292ebd240>"
     },
     "execution_count": 99,
     "metadata": {},
     "output_type": "execute_result"
    }
   ],
   "source": [
    "dot_data = tree.export_graphviz(clf, out_file=None,\n",
    "                                feature_names=list(t_data.columns.values),\n",
    "                                class_names=[\"No Fraudulento\", \"Fraudulento\"],\n",
    "                                filled=True, rounded=True,\n",
    "                                special_characters=True)\n",
    "graph = graphviz.Source(dot_data)\n",
    "graph"
   ],
   "metadata": {
    "collapsed": false,
    "pycharm": {
     "name": "#%%\n"
    }
   }
  },
  {
   "cell_type": "markdown",
   "source": [
    "### Predicción de la data con el arbol de decisión sklearn"
   ],
   "metadata": {
    "collapsed": false,
    "pycharm": {
     "name": "#%% md\n"
    }
   }
  },
  {
   "cell_type": "code",
   "execution_count": 100,
   "outputs": [],
   "source": [
    "y_respuesta = clf.predict(w_test)"
   ],
   "metadata": {
    "collapsed": false,
    "pycharm": {
     "name": "#%%\n"
    }
   }
  },
  {
   "cell_type": "code",
   "execution_count": 101,
   "outputs": [
    {
     "data": {
      "text/plain": "array([0., 0., 0., ..., 0., 0., 0.])"
     },
     "execution_count": 101,
     "metadata": {},
     "output_type": "execute_result"
    }
   ],
   "source": [
    "y_respuesta"
   ],
   "metadata": {
    "collapsed": false,
    "pycharm": {
     "name": "#%%\n"
    }
   }
  },
  {
   "cell_type": "code",
   "execution_count": 102,
   "outputs": [
    {
     "name": "stdout",
     "output_type": "stream",
     "text": [
      "Accuracy del árbol de decisión: 99.90050000000001%\n"
     ]
    }
   ],
   "source": [
    "acc = metrics.accuracy_score(w_true, y_respuesta, normalize=True, sample_weight=None)\n",
    "print('Accuracy del árbol de decisión: {}%'.format(acc * 100))"
   ],
   "metadata": {
    "collapsed": false,
    "pycharm": {
     "name": "#%%\n"
    }
   }
  },
  {
   "cell_type": "code",
   "execution_count": 103,
   "outputs": [
    {
     "data": {
      "text/plain": "array([[182357,    130],\n       [    69,  17444]], dtype=int64)"
     },
     "execution_count": 103,
     "metadata": {},
     "output_type": "execute_result"
    }
   ],
   "source": [
    "metrics.confusion_matrix(w_true, y_respuesta)"
   ],
   "metadata": {
    "collapsed": false,
    "pycharm": {
     "name": "#%%\n"
    }
   }
  },
  {
   "cell_type": "markdown",
   "source": [
    "# Modelo Neuronal con Keras"
   ],
   "metadata": {
    "collapsed": false,
    "pycharm": {
     "name": "#%% md\n"
    }
   }
  },
  {
   "cell_type": "code",
   "execution_count": 104,
   "outputs": [],
   "source": [
    "modelScores = []"
   ],
   "metadata": {
    "collapsed": false,
    "pycharm": {
     "name": "#%%\n"
    }
   }
  },
  {
   "cell_type": "code",
   "execution_count": 105,
   "outputs": [],
   "source": [
    "scaler = StandardScaler()\n",
    "dframeKeras.iloc[:,0:-1] = scaler.fit_transform(dframeKeras.iloc[:,0:-1].to_numpy())"
   ],
   "metadata": {
    "collapsed": false,
    "pycharm": {
     "name": "#%%\n"
    }
   }
  },
  {
   "cell_type": "markdown",
   "source": [
    "## Separar la data en variables de entrenamiento y variables de prueba"
   ],
   "metadata": {
    "collapsed": false,
    "pycharm": {
     "name": "#%% md\n"
    }
   }
  },
  {
   "cell_type": "code",
   "execution_count": 106,
   "outputs": [],
   "source": [
    "trainKeras, testKeras = train_test_split(dframeKeras, test_size=0.2)"
   ],
   "metadata": {
    "collapsed": false,
    "pycharm": {
     "name": "#%%\n"
    }
   }
  },
  {
   "cell_type": "markdown",
   "source": [
    "## Definir data y target"
   ],
   "metadata": {
    "collapsed": false,
    "pycharm": {
     "name": "#%% md\n"
    }
   }
  },
  {
   "cell_type": "code",
   "execution_count": 107,
   "outputs": [],
   "source": [
    "t_data = trainKeras[trainKeras.columns[0:7]]\n",
    "t_target = trainKeras[trainKeras.columns[7]]\n",
    "w_test = testKeras[testKeras.columns[0:7]].iloc[10:50]\n",
    "w_true = testKeras[testKeras.columns[7]].iloc[10:50]  #Para validar el accuracy"
   ],
   "metadata": {
    "collapsed": false,
    "pycharm": {
     "name": "#%%\n"
    }
   }
  },
  {
   "cell_type": "markdown",
   "source": [
    "## Crear el modelo de la red neuronal"
   ],
   "metadata": {
    "collapsed": false,
    "pycharm": {
     "name": "#%% md\n"
    }
   }
  },
  {
   "cell_type": "code",
   "execution_count": 108,
   "outputs": [],
   "source": [
    "def get_basic_model(learning_rate):\n",
    "  model = tf.keras.Sequential([\n",
    "    tf.keras.layers.Dense(10, activation='relu'),\n",
    "    tf.keras.layers.Dense(10, activation='relu'),\n",
    "    tf.keras.layers.Dense(1)\n",
    "  ])\n",
    "\n",
    "  model.compile(optimizer=tf.keras.optimizers.Adam(learning_rate),\n",
    "                loss=tf.keras.losses.BinaryCrossentropy(from_logits=True),\n",
    "                metrics=['accuracy'])\n",
    "  return model"
   ],
   "metadata": {
    "collapsed": false,
    "pycharm": {
     "name": "#%%\n"
    }
   }
  },
  {
   "cell_type": "markdown",
   "source": [
    "## Entrenar el modelo 1 con aprendizaje 0.01"
   ],
   "metadata": {
    "collapsed": false,
    "pycharm": {
     "name": "#%% md\n"
    }
   }
  },
  {
   "cell_type": "code",
   "execution_count": 109,
   "outputs": [
    {
     "name": "stdout",
     "output_type": "stream",
     "text": [
      "Epoch 1/5\n",
      "25000/25000 [==============================] - 14s 561us/step - loss: 0.0177 - accuracy: 0.9933\n",
      "Epoch 2/5\n",
      "25000/25000 [==============================] - 14s 558us/step - loss: 0.0107 - accuracy: 0.9960\n",
      "Epoch 3/5\n",
      "25000/25000 [==============================] - 14s 560us/step - loss: 0.0094 - accuracy: 0.9966\n",
      "Epoch 4/5\n",
      "25000/25000 [==============================] - 14s 553us/step - loss: 0.0084 - accuracy: 0.9969\n",
      "Epoch 5/5\n",
      "25000/25000 [==============================] - 14s 557us/step - loss: 0.0080 - accuracy: 0.9972\n"
     ]
    }
   ],
   "source": [
    "model = get_basic_model(0.01)\n",
    "historial = model.fit(t_data, t_target, epochs=5, verbose=True)"
   ],
   "metadata": {
    "collapsed": false,
    "pycharm": {
     "name": "#%%\n"
    }
   }
  },
  {
   "cell_type": "code",
   "execution_count": 110,
   "outputs": [
    {
     "data": {
      "text/plain": "[<matplotlib.lines.Line2D at 0x162875b62c0>]"
     },
     "execution_count": 110,
     "metadata": {},
     "output_type": "execute_result"
    },
    {
     "data": {
      "text/plain": "<Figure size 432x288 with 1 Axes>",
      "image/png": "[encoded data removed]"
     },
     "metadata": {
      "needs_background": "light"
     },
     "output_type": "display_data"
    }
   ],
   "source": [
    "plt.legend('Modelo Keras 0.01')\n",
    "plt.xlabel('Generaciones')\n",
    "plt.ylabel('Pérdida')\n",
    "plt.plot(historial.history['loss'])"
   ],
   "metadata": {
    "collapsed": false,
    "pycharm": {
     "name": "#%%\n"
    }
   }
  },
  {
   "cell_type": "code",
   "execution_count": 111,
   "outputs": [
    {
     "data": {
      "text/plain": "[<matplotlib.lines.Line2D at 0x16292ee8eb0>]"
     },
     "execution_count": 111,
     "metadata": {},
     "output_type": "execute_result"
    },
    {
     "data": {
      "text/plain": "<Figure size 432x288 with 1 Axes>",
      "image/png": "[encoded data removed]"
     },
     "metadata": {
      "needs_background": "light"
     },
     "output_type": "display_data"
    }
   ],
   "source": [
    "plt.legend('Modelo Keras 0.01')\n",
    "plt.xlabel('Generaciones')\n",
    "plt.ylabel('Precisión')\n",
    "plt.plot(historial.history['accuracy'])"
   ],
   "metadata": {
    "collapsed": false,
    "pycharm": {
     "name": "#%%\n"
    }
   }
  },
  {
   "cell_type": "code",
   "execution_count": 112,
   "outputs": [
    {
     "name": "stdout",
     "output_type": "stream",
     "text": [
      "2/2 [==============================] - 0s 2ms/step\n"
     ]
    },
    {
     "data": {
      "text/plain": "array([[ -18.497343 ],\n       [ -40.18611  ],\n       [ -17.83851  ],\n       [ -70.03824  ],\n       [  12.0769615],\n       [ -28.813448 ],\n       [ -19.767447 ],\n       [ -28.425524 ],\n       [ -49.54341  ],\n       [ -74.88699  ],\n       [ -35.029953 ],\n       [ -43.776478 ],\n       [ -39.395355 ],\n       [ -32.81198  ],\n       [ -51.10163  ],\n       [ -34.190773 ],\n       [ -82.986595 ],\n       [ -69.47559  ],\n       [ -28.433388 ],\n       [ -41.99773  ],\n       [ -40.61388  ],\n       [ -21.673618 ],\n       [ -14.404356 ],\n       [-123.61497  ],\n       [ -71.912575 ],\n       [-194.83076  ],\n       [ -30.635717 ],\n       [   5.9657288],\n       [ -64.90817  ],\n       [ -19.48291  ],\n       [ -62.568336 ],\n       [ -17.623762 ],\n       [ -27.689108 ],\n       [ -23.69667  ],\n       [ -68.344505 ],\n       [ -18.780088 ],\n       [ -29.790749 ],\n       [ -42.531425 ],\n       [ -20.146112 ],\n       [-106.23522  ]], dtype=float32)"
     },
     "execution_count": 112,
     "metadata": {},
     "output_type": "execute_result"
    }
   ],
   "source": [
    "model.predict(w_test)"
   ],
   "metadata": {
    "collapsed": false,
    "pycharm": {
     "name": "#%%\n"
    }
   }
  },
  {
   "cell_type": "code",
   "execution_count": 113,
   "outputs": [
    {
     "data": {
      "text/plain": "947182    0.0\n40237     0.0\n203707    0.0\n520814    0.0\n900651    1.0\n295606    0.0\n576254    0.0\n806179    0.0\n977856    0.0\n531951    0.0\n940636    0.0\n549167    0.0\n551344    0.0\n472956    0.0\n500287    0.0\n328005    0.0\n809283    0.0\n122745    0.0\n215623    0.0\n53053     0.0\n244316    0.0\n249013    0.0\n733314    0.0\n190337    0.0\n676562    0.0\n168192    0.0\n623141    0.0\n591487    1.0\n630675    0.0\n662939    0.0\n896180    0.0\n487201    0.0\n166118    0.0\n981093    0.0\n500106    0.0\n717515    0.0\n216355    0.0\n340863    0.0\n650283    0.0\n633645    0.0\nName: fraud, dtype: float64"
     },
     "execution_count": 113,
     "metadata": {},
     "output_type": "execute_result"
    }
   ],
   "source": [
    "w_true"
   ],
   "metadata": {
    "collapsed": false,
    "pycharm": {
     "name": "#%%\n"
    }
   }
  },
  {
   "cell_type": "code",
   "execution_count": 114,
   "outputs": [
    {
     "name": "stdout",
     "output_type": "stream",
     "text": [
      "2/2 [==============================] - 0s 2ms/step - loss: 6.4205e-05 - accuracy: 1.0000\n"
     ]
    }
   ],
   "source": [
    "modelScores.append(model.evaluate(w_test, w_true))"
   ],
   "metadata": {
    "collapsed": false,
    "pycharm": {
     "name": "#%%\n"
    }
   }
  },
  {
   "cell_type": "markdown",
   "source": [
    "## Entrenar el modelo 2 con aprendizaje 0.1"
   ],
   "metadata": {
    "collapsed": false,
    "pycharm": {
     "name": "#%% md\n"
    }
   }
  },
  {
   "cell_type": "code",
   "execution_count": 115,
   "outputs": [
    {
     "name": "stdout",
     "output_type": "stream",
     "text": [
      "Epoch 1/5\n",
      "25000/25000 [==============================] - 14s 531us/step - loss: 0.0604 - accuracy: 0.9801\n",
      "Epoch 2/5\n",
      "25000/25000 [==============================] - 14s 554us/step - loss: 0.0626 - accuracy: 0.9828\n",
      "Epoch 3/5\n",
      "25000/25000 [==============================] - 15s 608us/step - loss: 0.0540 - accuracy: 0.9842\n",
      "Epoch 4/5\n",
      "25000/25000 [==============================] - 14s 547us/step - loss: 0.0648 - accuracy: 0.9848\n",
      "Epoch 5/5\n",
      "25000/25000 [==============================] - 14s 542us/step - loss: 0.0557 - accuracy: 0.9837\n"
     ]
    }
   ],
   "source": [
    "model = get_basic_model(0.1)\n",
    "historial = model.fit(t_data, t_target, epochs=5, verbose=True)"
   ],
   "metadata": {
    "collapsed": false,
    "pycharm": {
     "name": "#%%\n"
    }
   }
  },
  {
   "cell_type": "code",
   "execution_count": 116,
   "outputs": [
    {
     "data": {
      "text/plain": "[<matplotlib.lines.Line2D at 0x16283868280>]"
     },
     "execution_count": 116,
     "metadata": {},
     "output_type": "execute_result"
    },
    {
     "data": {
      "text/plain": "<Figure size 432x288 with 1 Axes>",
      "image/png": "[encoded data removed]"
     },
     "metadata": {
      "needs_background": "light"
     },
     "output_type": "display_data"
    }
   ],
   "source": [
    "plt.legend('Modelo Keras 0.1')\n",
    "plt.xlabel('Generaciones')\n",
    "plt.ylabel('Pérdida')\n",
    "plt.plot(historial.history['loss'])"
   ],
   "metadata": {
    "collapsed": false,
    "pycharm": {
     "name": "#%%\n"
    }
   }
  },
  {
   "cell_type": "code",
   "execution_count": 117,
   "outputs": [
    {
     "data": {
      "text/plain": "[<matplotlib.lines.Line2D at 0x1628aead2a0>]"
     },
     "execution_count": 117,
     "metadata": {},
     "output_type": "execute_result"
    },
    {
     "data": {
      "text/plain": "<Figure size 432x288 with 1 Axes>",
      "image/png": "[encoded data removed]"
     },
     "metadata": {
      "needs_background": "light"
     },
     "output_type": "display_data"
    }
   ],
   "source": [
    "plt.legend('Modelo Keras 0.1')\n",
    "plt.xlabel('Generaciones')\n",
    "plt.ylabel('Precisión')\n",
    "plt.plot(historial.history['accuracy'])"
   ],
   "metadata": {
    "collapsed": false,
    "pycharm": {
     "name": "#%%\n"
    }
   }
  },
  {
   "cell_type": "code",
   "execution_count": 118,
   "outputs": [
    {
     "name": "stdout",
     "output_type": "stream",
     "text": [
      "WARNING:tensorflow:5 out of the last 8 calls to <function Model.make_predict_function.<locals>.predict_function at 0x000001628B8CC550> triggered tf.function retracing. Tracing is expensive and the excessive number of tracings could be due to (1) creating @tf.function repeatedly in a loop, (2) passing tensors with different shapes, (3) passing Python objects instead of tensors. For (1), please define your @tf.function outside of the loop. For (2), @tf.function has reduce_retracing=True option that can avoid unnecessary retracing. For (3), please refer to https://www.tensorflow.org/guide/function#controlling_retracing and https://www.tensorflow.org/api_docs/python/tf/function for  more details.\n",
      "2/2 [==============================] - 0s 2ms/step\n"
     ]
    },
    {
     "data": {
      "text/plain": "array([[  -78.70333  ],\n       [  -88.372826 ],\n       [ -727.0263   ],\n       [ -410.3853   ],\n       [    2.7898667],\n       [   -4.1970444],\n       [  -37.55499  ],\n       [   -4.1970444],\n       [ -608.52106  ],\n       [-1220.0238   ],\n       [  -35.332134 ],\n       [-2224.2537   ],\n       [-1037.6012   ],\n       [  -19.111067 ],\n       [ -687.30786  ],\n       [-1055.3451   ],\n       [ -471.64178  ],\n       [-1629.9896   ],\n       [ -216.79715  ],\n       [ -108.22969  ],\n       [  -95.23407  ],\n       [ -955.5133   ],\n       [  -40.116264 ],\n       [-1165.8184   ],\n       [-1203.0277   ],\n       [-2201.508    ],\n       [ -120.81371  ],\n       [    2.7898667],\n       [ -437.22443  ],\n       [  -64.12645  ],\n       [ -632.6818   ],\n       [  -65.107155 ],\n       [ -199.57954  ],\n       [ -107.54587  ],\n       [-1052.9108   ],\n       [  -56.149536 ],\n       [ -245.69775  ],\n       [ -111.8745   ],\n       [ -108.94856  ],\n       [-1959.734    ]], dtype=float32)"
     },
     "execution_count": 118,
     "metadata": {},
     "output_type": "execute_result"
    }
   ],
   "source": [
    "model.predict(w_test)"
   ],
   "metadata": {
    "collapsed": false,
    "pycharm": {
     "name": "#%%\n"
    }
   }
  },
  {
   "cell_type": "code",
   "execution_count": 119,
   "outputs": [
    {
     "data": {
      "text/plain": "947182    0.0\n40237     0.0\n203707    0.0\n520814    0.0\n900651    1.0\n295606    0.0\n576254    0.0\n806179    0.0\n977856    0.0\n531951    0.0\n940636    0.0\n549167    0.0\n551344    0.0\n472956    0.0\n500287    0.0\n328005    0.0\n809283    0.0\n122745    0.0\n215623    0.0\n53053     0.0\n244316    0.0\n249013    0.0\n733314    0.0\n190337    0.0\n676562    0.0\n168192    0.0\n623141    0.0\n591487    1.0\n630675    0.0\n662939    0.0\n896180    0.0\n487201    0.0\n166118    0.0\n981093    0.0\n500106    0.0\n717515    0.0\n216355    0.0\n340863    0.0\n650283    0.0\n633645    0.0\nName: fraud, dtype: float64"
     },
     "execution_count": 119,
     "metadata": {},
     "output_type": "execute_result"
    }
   ],
   "source": [
    "w_true"
   ],
   "metadata": {
    "collapsed": false,
    "pycharm": {
     "name": "#%%\n"
    }
   }
  },
  {
   "cell_type": "code",
   "execution_count": 120,
   "outputs": [
    {
     "name": "stdout",
     "output_type": "stream",
     "text": [
      "WARNING:tensorflow:5 out of the last 10 calls to <function Model.make_test_function.<locals>.test_function at 0x000001628B8CDD80> triggered tf.function retracing. Tracing is expensive and the excessive number of tracings could be due to (1) creating @tf.function repeatedly in a loop, (2) passing tensors with different shapes, (3) passing Python objects instead of tensors. For (1), please define your @tf.function outside of the loop. For (2), @tf.function has reduce_retracing=True option that can avoid unnecessary retracing. For (3), please refer to https://www.tensorflow.org/guide/function#controlling_retracing and https://www.tensorflow.org/api_docs/python/tf/function for  more details.\n",
      "2/2 [==============================] - 0s 943us/step - loss: 0.0037 - accuracy: 1.0000\n"
     ]
    }
   ],
   "source": [
    "modelScores.append(model.evaluate(w_test, w_true))"
   ],
   "metadata": {
    "collapsed": false,
    "pycharm": {
     "name": "#%%\n"
    }
   }
  },
  {
   "cell_type": "markdown",
   "source": [
    "## Entrenar el modelo 3 con aprendizaje 0.5"
   ],
   "metadata": {
    "collapsed": false,
    "pycharm": {
     "name": "#%% md\n"
    }
   }
  },
  {
   "cell_type": "code",
   "execution_count": 121,
   "outputs": [
    {
     "name": "stdout",
     "output_type": "stream",
     "text": [
      "Epoch 1/5\n",
      "25000/25000 [==============================] - 15s 578us/step - loss: 0.3010 - accuracy: 0.9125\n",
      "Epoch 2/5\n",
      "25000/25000 [==============================] - 14s 573us/step - loss: 0.3020 - accuracy: 0.9125\n",
      "Epoch 3/5\n",
      "25000/25000 [==============================] - 14s 562us/step - loss: 0.3022 - accuracy: 0.9125\n",
      "Epoch 4/5\n",
      "25000/25000 [==============================] - 15s 610us/step - loss: 0.3026 - accuracy: 0.9125\n",
      "Epoch 5/5\n",
      "25000/25000 [==============================] - 14s 565us/step - loss: 0.3021 - accuracy: 0.9125\n"
     ]
    }
   ],
   "source": [
    "## Entrenar el modelo 2 con aprendizaje 0.1\n",
    "model = get_basic_model(0.5)\n",
    "historial = model.fit(t_data, t_target, epochs=5, verbose=True)"
   ],
   "metadata": {
    "collapsed": false,
    "pycharm": {
     "name": "#%%\n"
    }
   }
  },
  {
   "cell_type": "code",
   "execution_count": 122,
   "outputs": [
    {
     "data": {
      "text/plain": "[<matplotlib.lines.Line2D at 0x1628762a500>]"
     },
     "execution_count": 122,
     "metadata": {},
     "output_type": "execute_result"
    },
    {
     "data": {
      "text/plain": "<Figure size 432x288 with 1 Axes>",
      "image/png": "[encoded data removed]"
     },
     "metadata": {
      "needs_background": "light"
     },
     "output_type": "display_data"
    }
   ],
   "source": [
    "plt.legend('Modelo Keras 0.5')\n",
    "plt.xlabel('Generaciones')\n",
    "plt.ylabel('Pérdida')\n",
    "plt.plot(historial.history['loss'])"
   ],
   "metadata": {
    "collapsed": false,
    "pycharm": {
     "name": "#%%\n"
    }
   }
  },
  {
   "cell_type": "code",
   "execution_count": 123,
   "outputs": [
    {
     "data": {
      "text/plain": "[<matplotlib.lines.Line2D at 0x1628767eb30>]"
     },
     "execution_count": 123,
     "metadata": {},
     "output_type": "execute_result"
    },
    {
     "data": {
      "text/plain": "<Figure size 432x288 with 1 Axes>",
      "image/png": "[encoded data removed]"
     },
     "metadata": {
      "needs_background": "light"
     },
     "output_type": "display_data"
    }
   ],
   "source": [
    "plt.legend('Modelo Keras 0.5')\n",
    "plt.xlabel('Generaciones')\n",
    "plt.ylabel('Precisión')\n",
    "plt.plot(historial.history['accuracy'])"
   ],
   "metadata": {
    "collapsed": false,
    "pycharm": {
     "name": "#%%\n"
    }
   }
  },
  {
   "cell_type": "code",
   "execution_count": 124,
   "outputs": [
    {
     "name": "stdout",
     "output_type": "stream",
     "text": [
      "WARNING:tensorflow:6 out of the last 10 calls to <function Model.make_predict_function.<locals>.predict_function at 0x0000016287696290> triggered tf.function retracing. Tracing is expensive and the excessive number of tracings could be due to (1) creating @tf.function repeatedly in a loop, (2) passing tensors with different shapes, (3) passing Python objects instead of tensors. For (1), please define your @tf.function outside of the loop. For (2), @tf.function has reduce_retracing=True option that can avoid unnecessary retracing. For (3), please refer to https://www.tensorflow.org/guide/function#controlling_retracing and https://www.tensorflow.org/api_docs/python/tf/function for  more details.\n",
      "2/2 [==============================] - 0s 991us/step\n"
     ]
    },
    {
     "data": {
      "text/plain": "array([[-2.2892225],\n       [-2.2892225],\n       [-2.2892225],\n       [-2.2892225],\n       [-2.2892225],\n       [-2.2892225],\n       [-2.2892225],\n       [-2.2892225],\n       [-2.2892225],\n       [-2.2892225],\n       [-2.2892225],\n       [-2.2892225],\n       [-2.2892225],\n       [-2.2892225],\n       [-2.2892225],\n       [-2.2892225],\n       [-2.2892225],\n       [-2.2892225],\n       [-2.2892225],\n       [-2.2892225],\n       [-2.2892225],\n       [-2.2892225],\n       [-2.2892225],\n       [-2.2892225],\n       [-2.2892225],\n       [-2.2892225],\n       [-2.2892225],\n       [-2.2892225],\n       [-2.2892225],\n       [-2.2892225],\n       [-2.2892225],\n       [-2.2892225],\n       [-2.2892225],\n       [-2.2892225],\n       [-2.2892225],\n       [-2.2892225],\n       [-2.2892225],\n       [-2.2892225],\n       [-2.2892225],\n       [-2.2892225]], dtype=float32)"
     },
     "execution_count": 124,
     "metadata": {},
     "output_type": "execute_result"
    }
   ],
   "source": [
    "model.predict(w_test)"
   ],
   "metadata": {
    "collapsed": false,
    "pycharm": {
     "name": "#%%\n"
    }
   }
  },
  {
   "cell_type": "code",
   "execution_count": 125,
   "outputs": [
    {
     "data": {
      "text/plain": "947182    0.0\n40237     0.0\n203707    0.0\n520814    0.0\n900651    1.0\n295606    0.0\n576254    0.0\n806179    0.0\n977856    0.0\n531951    0.0\n940636    0.0\n549167    0.0\n551344    0.0\n472956    0.0\n500287    0.0\n328005    0.0\n809283    0.0\n122745    0.0\n215623    0.0\n53053     0.0\n244316    0.0\n249013    0.0\n733314    0.0\n190337    0.0\n676562    0.0\n168192    0.0\n623141    0.0\n591487    1.0\n630675    0.0\n662939    0.0\n896180    0.0\n487201    0.0\n166118    0.0\n981093    0.0\n500106    0.0\n717515    0.0\n216355    0.0\n340863    0.0\n650283    0.0\n633645    0.0\nName: fraud, dtype: float64"
     },
     "execution_count": 125,
     "metadata": {},
     "output_type": "execute_result"
    }
   ],
   "source": [
    "w_true"
   ],
   "metadata": {
    "collapsed": false,
    "pycharm": {
     "name": "#%%\n"
    }
   }
  },
  {
   "cell_type": "code",
   "execution_count": 126,
   "outputs": [
    {
     "name": "stdout",
     "output_type": "stream",
     "text": [
      "WARNING:tensorflow:5 out of the last 11 calls to <function Model.make_test_function.<locals>.test_function at 0x0000016287696DD0> triggered tf.function retracing. Tracing is expensive and the excessive number of tracings could be due to (1) creating @tf.function repeatedly in a loop, (2) passing tensors with different shapes, (3) passing Python objects instead of tensors. For (1), please define your @tf.function outside of the loop. For (2), @tf.function has reduce_retracing=True option that can avoid unnecessary retracing. For (3), please refer to https://www.tensorflow.org/guide/function#controlling_retracing and https://www.tensorflow.org/api_docs/python/tf/function for  more details.\n",
      "2/2 [==============================] - 0s 2ms/step - loss: 0.2110 - accuracy: 0.9500\n"
     ]
    }
   ],
   "source": [
    "modelScores.append(model.evaluate(w_test, w_true))"
   ],
   "metadata": {
    "collapsed": false,
    "pycharm": {
     "name": "#%%\n"
    }
   }
  },
  {
   "cell_type": "markdown",
   "source": [
    "## Comparar los modelos con el accuracy"
   ],
   "metadata": {
    "collapsed": false,
    "pycharm": {
     "name": "#%% md\n"
    }
   }
  },
  {
   "cell_type": "code",
   "execution_count": 131,
   "outputs": [
    {
     "name": "stdout",
     "output_type": "stream",
     "text": [
      "Precisión: 1.0  Pérdida: 6.420497811632231e-05\n",
      "Precisión: 1.0  Pérdida: 0.003727223724126816\n",
      "Precisión: 0.949999988079071  Pérdida: 0.21099348366260529\n"
     ]
    }
   ],
   "source": [
    "for score in modelScores:\n",
    "  print('Precisión: {}  Pérdida: {}'.format(score[1], score[0]))"
   ],
   "metadata": {
    "collapsed": false,
    "pycharm": {
     "name": "#%%\n"
    }
   }
  },
  {
   "cell_type": "code",
   "execution_count": null,
   "outputs": [],
   "source": [],
   "metadata": {
    "collapsed": false,
    "pycharm": {
     "name": "#%%\n"
    }
   }
  }
 ]
}