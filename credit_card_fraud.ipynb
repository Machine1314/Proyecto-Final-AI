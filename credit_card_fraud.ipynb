{
 "cells": [
  {
   "cell_type": "markdown",
   "metadata": {
    "pycharm": {
     "name": "#%% md\n"
    }
   },
   "source": [
    "# Detección de Fraude con Tarjetas de crédito\n",
    "# Grupo 3\n",
    "## Bruno Dueñas, Fernando Mejía, Mateo Córdova"
   ]
  },
  {
   "cell_type": "markdown",
   "metadata": {
    "pycharm": {
     "name": "#%% md\n"
    }
   },
   "source": [
    "# Importar librerías"
   ]
  },
  {
   "cell_type": "code",
   "execution_count": 59,
   "metadata": {
    "execution": {
     "iopub.execute_input": "2022-05-22T09:07:04.128599Z",
     "iopub.status.busy": "2022-05-22T09:07:04.128256Z",
     "iopub.status.idle": "2022-05-22T09:07:04.762116Z",
     "shell.execute_reply": "2022-05-22T09:07:04.761402Z",
     "shell.execute_reply.started": "2022-05-22T09:07:04.128535Z"
    },
    "pycharm": {
     "name": "#%%\n"
    }
   },
   "outputs": [],
   "source": [
    "import pandas as pd\n",
    "import numpy as np\n",
    "import matplotlib.pyplot as plt\n",
    "%matplotlib inline\n",
    "import seaborn as sns\n",
    "# Machine Learning\n",
    "from sklearn.feature_selection import SelectKBest\n",
    "from sklearn.feature_selection import f_classif\n",
    "from sklearn.preprocessing import StandardScaler\n",
    "from sklearn.metrics import accuracy_score\n",
    "from sklearn.metrics import confusion_matrix\n",
    "from sklearn.tree import DecisionTreeClassifier\n",
    "from sklearn import metrics\n",
    "from sklearn import tree\n",
    "from sklearn.model_selection import train_test_split\n",
    "import tensorflow as tf\n",
    "import graphviz"
   ]
  },
  {
   "cell_type": "markdown",
   "metadata": {
    "pycharm": {
     "name": "#%% md\n"
    }
   },
   "source": [
    "## Importando la data proveniente del csv y mostrando el contenido de la data"
   ]
  },
  {
   "cell_type": "code",
   "execution_count": 60,
   "metadata": {
    "execution": {
     "iopub.execute_input": "2022-05-22T09:07:04.767937Z",
     "iopub.status.busy": "2022-05-22T09:07:04.767594Z",
     "iopub.status.idle": "2022-05-22T09:07:06.087392Z",
     "shell.execute_reply": "2022-05-22T09:07:06.086361Z",
     "shell.execute_reply.started": "2022-05-22T09:07:04.767894Z"
    },
    "pycharm": {
     "name": "#%%\n"
    }
   },
   "outputs": [
    {
     "data": {
      "text/plain": "        distance_from_home  distance_from_last_transaction  \\\n0                57.877857                        0.311140   \n1                10.829943                        0.175592   \n2                 5.091079                        0.805153   \n3                 2.247564                        5.600044   \n4                44.190936                        0.566486   \n...                    ...                             ...   \n999995            2.207101                        0.112651   \n999996           19.872726                        2.683904   \n999997            2.914857                        1.472687   \n999998            4.258729                        0.242023   \n999999           58.108125                        0.318110   \n\n        ratio_to_median_purchase_price  repeat_retailer  used_chip  \\\n0                             1.945940              1.0        1.0   \n1                             1.294219              1.0        0.0   \n2                             0.427715              1.0        0.0   \n3                             0.362663              1.0        1.0   \n4                             2.222767              1.0        1.0   \n...                                ...              ...        ...   \n999995                        1.626798              1.0        1.0   \n999996                        2.778303              1.0        1.0   \n999997                        0.218075              1.0        1.0   \n999998                        0.475822              1.0        0.0   \n999999                        0.386920              1.0        1.0   \n\n        used_pin_number  online_order  fraud  \n0                   0.0           0.0    0.0  \n1                   0.0           0.0    0.0  \n2                   0.0           1.0    0.0  \n3                   0.0           1.0    0.0  \n4                   0.0           1.0    0.0  \n...                 ...           ...    ...  \n999995              0.0           0.0    0.0  \n999996              0.0           0.0    0.0  \n999997              0.0           1.0    0.0  \n999998              0.0           1.0    0.0  \n999999              0.0           1.0    0.0  \n\n[1000000 rows x 8 columns]",
      "text/html": "<div>\n<style scoped>\n    .dataframe tbody tr th:only-of-type {\n        vertical-align: middle;\n    }\n\n    .dataframe tbody tr th {\n        vertical-align: top;\n    }\n\n    .dataframe thead th {\n        text-align: right;\n    }\n</style>\n<table border=\"1\" class=\"dataframe\">\n  <thead>\n    <tr style=\"text-align: right;\">\n      <th></th>\n      <th>distance_from_home</th>\n      <th>distance_from_last_transaction</th>\n      <th>ratio_to_median_purchase_price</th>\n      <th>repeat_retailer</th>\n      <th>used_chip</th>\n      <th>used_pin_number</th>\n      <th>online_order</th>\n      <th>fraud</th>\n    </tr>\n  </thead>\n  <tbody>\n    <tr>\n      <th>0</th>\n      <td>57.877857</td>\n      <td>0.311140</td>\n      <td>1.945940</td>\n      <td>1.0</td>\n      <td>1.0</td>\n      <td>0.0</td>\n      <td>0.0</td>\n      <td>0.0</td>\n    </tr>\n    <tr>\n      <th>1</th>\n      <td>10.829943</td>\n      <td>0.175592</td>\n      <td>1.294219</td>\n      <td>1.0</td>\n      <td>0.0</td>\n      <td>0.0</td>\n      <td>0.0</td>\n      <td>0.0</td>\n    </tr>\n    <tr>\n      <th>2</th>\n      <td>5.091079</td>\n      <td>0.805153</td>\n      <td>0.427715</td>\n      <td>1.0</td>\n      <td>0.0</td>\n      <td>0.0</td>\n      <td>1.0</td>\n      <td>0.0</td>\n    </tr>\n    <tr>\n      <th>3</th>\n      <td>2.247564</td>\n      <td>5.600044</td>\n      <td>0.362663</td>\n      <td>1.0</td>\n      <td>1.0</td>\n      <td>0.0</td>\n      <td>1.0</td>\n      <td>0.0</td>\n    </tr>\n    <tr>\n      <th>4</th>\n      <td>44.190936</td>\n      <td>0.566486</td>\n      <td>2.222767</td>\n      <td>1.0</td>\n      <td>1.0</td>\n      <td>0.0</td>\n      <td>1.0</td>\n      <td>0.0</td>\n    </tr>\n    <tr>\n      <th>...</th>\n      <td>...</td>\n      <td>...</td>\n      <td>...</td>\n      <td>...</td>\n      <td>...</td>\n      <td>...</td>\n      <td>...</td>\n      <td>...</td>\n    </tr>\n    <tr>\n      <th>999995</th>\n      <td>2.207101</td>\n      <td>0.112651</td>\n      <td>1.626798</td>\n      <td>1.0</td>\n      <td>1.0</td>\n      <td>0.0</td>\n      <td>0.0</td>\n      <td>0.0</td>\n    </tr>\n    <tr>\n      <th>999996</th>\n      <td>19.872726</td>\n      <td>2.683904</td>\n      <td>2.778303</td>\n      <td>1.0</td>\n      <td>1.0</td>\n      <td>0.0</td>\n      <td>0.0</td>\n      <td>0.0</td>\n    </tr>\n    <tr>\n      <th>999997</th>\n      <td>2.914857</td>\n      <td>1.472687</td>\n      <td>0.218075</td>\n      <td>1.0</td>\n      <td>1.0</td>\n      <td>0.0</td>\n      <td>1.0</td>\n      <td>0.0</td>\n    </tr>\n    <tr>\n      <th>999998</th>\n      <td>4.258729</td>\n      <td>0.242023</td>\n      <td>0.475822</td>\n      <td>1.0</td>\n      <td>0.0</td>\n      <td>0.0</td>\n      <td>1.0</td>\n      <td>0.0</td>\n    </tr>\n    <tr>\n      <th>999999</th>\n      <td>58.108125</td>\n      <td>0.318110</td>\n      <td>0.386920</td>\n      <td>1.0</td>\n      <td>1.0</td>\n      <td>0.0</td>\n      <td>1.0</td>\n      <td>0.0</td>\n    </tr>\n  </tbody>\n</table>\n<p>1000000 rows × 8 columns</p>\n</div>"
     },
     "execution_count": 60,
     "metadata": {},
     "output_type": "execute_result"
    }
   ],
   "source": [
    "column_names = [\"distance_from_home\",\"distance_from_last_transaction\",\"ratio_to_median_purchase_price\",\"repeat_retailer\",\"used_chip\",\"used_pin_number\",\"online_order\",\"fraud\"]\n",
    "dframe=pd.read_csv(\"data/card_transdata.csv\")\n",
    "dframe"
   ]
  },
  {
   "cell_type": "markdown",
   "metadata": {
    "pycharm": {
     "name": "#%% md\n"
    }
   },
   "source": [
    "## Encontrar las características de la data"
   ]
  },
  {
   "cell_type": "code",
   "execution_count": 61,
   "metadata": {
    "execution": {
     "iopub.execute_input": "2022-05-22T09:07:06.113286Z",
     "iopub.status.busy": "2022-05-22T09:07:06.112935Z",
     "iopub.status.idle": "2022-05-22T09:07:06.510920Z",
     "shell.execute_reply": "2022-05-22T09:07:06.510097Z",
     "shell.execute_reply.started": "2022-05-22T09:07:06.113239Z"
    },
    "pycharm": {
     "name": "#%%\n"
    }
   },
   "outputs": [
    {
     "data": {
      "text/plain": "       distance_from_home  distance_from_last_transaction  \\\ncount      1000000.000000                  1000000.000000   \nmean            26.628792                        5.036519   \nstd             65.390784                       25.843093   \nmin              0.004874                        0.000118   \n25%              3.878008                        0.296671   \n50%              9.967760                        0.998650   \n75%             25.743985                        3.355748   \nmax          10632.723672                    11851.104565   \n\n       ratio_to_median_purchase_price  repeat_retailer       used_chip  \\\ncount                  1000000.000000   1000000.000000  1000000.000000   \nmean                         1.824182         0.881536        0.350399   \nstd                          2.799589         0.323157        0.477095   \nmin                          0.004399         0.000000        0.000000   \n25%                          0.475673         1.000000        0.000000   \n50%                          0.997717         1.000000        0.000000   \n75%                          2.096370         1.000000        1.000000   \nmax                        267.802942         1.000000        1.000000   \n\n       used_pin_number    online_order           fraud  \ncount   1000000.000000  1000000.000000  1000000.000000  \nmean          0.100608        0.650552        0.087403  \nstd           0.300809        0.476796        0.282425  \nmin           0.000000        0.000000        0.000000  \n25%           0.000000        0.000000        0.000000  \n50%           0.000000        1.000000        0.000000  \n75%           0.000000        1.000000        0.000000  \nmax           1.000000        1.000000        1.000000  ",
      "text/html": "<div>\n<style scoped>\n    .dataframe tbody tr th:only-of-type {\n        vertical-align: middle;\n    }\n\n    .dataframe tbody tr th {\n        vertical-align: top;\n    }\n\n    .dataframe thead th {\n        text-align: right;\n    }\n</style>\n<table border=\"1\" class=\"dataframe\">\n  <thead>\n    <tr style=\"text-align: right;\">\n      <th></th>\n      <th>distance_from_home</th>\n      <th>distance_from_last_transaction</th>\n      <th>ratio_to_median_purchase_price</th>\n      <th>repeat_retailer</th>\n      <th>used_chip</th>\n      <th>used_pin_number</th>\n      <th>online_order</th>\n      <th>fraud</th>\n    </tr>\n  </thead>\n  <tbody>\n    <tr>\n      <th>count</th>\n      <td>1000000.000000</td>\n      <td>1000000.000000</td>\n      <td>1000000.000000</td>\n      <td>1000000.000000</td>\n      <td>1000000.000000</td>\n      <td>1000000.000000</td>\n      <td>1000000.000000</td>\n      <td>1000000.000000</td>\n    </tr>\n    <tr>\n      <th>mean</th>\n      <td>26.628792</td>\n      <td>5.036519</td>\n      <td>1.824182</td>\n      <td>0.881536</td>\n      <td>0.350399</td>\n      <td>0.100608</td>\n      <td>0.650552</td>\n      <td>0.087403</td>\n    </tr>\n    <tr>\n      <th>std</th>\n      <td>65.390784</td>\n      <td>25.843093</td>\n      <td>2.799589</td>\n      <td>0.323157</td>\n      <td>0.477095</td>\n      <td>0.300809</td>\n      <td>0.476796</td>\n      <td>0.282425</td>\n    </tr>\n    <tr>\n      <th>min</th>\n      <td>0.004874</td>\n      <td>0.000118</td>\n      <td>0.004399</td>\n      <td>0.000000</td>\n      <td>0.000000</td>\n      <td>0.000000</td>\n      <td>0.000000</td>\n      <td>0.000000</td>\n    </tr>\n    <tr>\n      <th>25%</th>\n      <td>3.878008</td>\n      <td>0.296671</td>\n      <td>0.475673</td>\n      <td>1.000000</td>\n      <td>0.000000</td>\n      <td>0.000000</td>\n      <td>0.000000</td>\n      <td>0.000000</td>\n    </tr>\n    <tr>\n      <th>50%</th>\n      <td>9.967760</td>\n      <td>0.998650</td>\n      <td>0.997717</td>\n      <td>1.000000</td>\n      <td>0.000000</td>\n      <td>0.000000</td>\n      <td>1.000000</td>\n      <td>0.000000</td>\n    </tr>\n    <tr>\n      <th>75%</th>\n      <td>25.743985</td>\n      <td>3.355748</td>\n      <td>2.096370</td>\n      <td>1.000000</td>\n      <td>1.000000</td>\n      <td>0.000000</td>\n      <td>1.000000</td>\n      <td>0.000000</td>\n    </tr>\n    <tr>\n      <th>max</th>\n      <td>10632.723672</td>\n      <td>11851.104565</td>\n      <td>267.802942</td>\n      <td>1.000000</td>\n      <td>1.000000</td>\n      <td>1.000000</td>\n      <td>1.000000</td>\n      <td>1.000000</td>\n    </tr>\n  </tbody>\n</table>\n</div>"
     },
     "execution_count": 61,
     "metadata": {},
     "output_type": "execute_result"
    }
   ],
   "source": [
    "dframe.describe()"
   ]
  },
  {
   "cell_type": "markdown",
   "metadata": {
    "pycharm": {
     "name": "#%% md\n"
    }
   },
   "source": [
    "## Copia para el modelo en keras"
   ]
  },
  {
   "cell_type": "code",
   "execution_count": 62,
   "metadata": {
    "pycharm": {
     "name": "#%%\n"
    }
   },
   "outputs": [],
   "source": [
    "dframeKeras = dframe.copy()"
   ]
  },
  {
   "cell_type": "markdown",
   "metadata": {
    "pycharm": {
     "name": "#%% md\n"
    }
   },
   "source": [
    "## Copia para el arbol de decisión sklearn"
   ]
  },
  {
   "cell_type": "code",
   "execution_count": 63,
   "metadata": {
    "pycharm": {
     "name": "#%%\n"
    }
   },
   "outputs": [],
   "source": [
    "dframeArbol = dframe.copy()"
   ]
  },
  {
   "cell_type": "markdown",
   "metadata": {
    "pycharm": {
     "name": "#%% md\n"
    }
   },
   "source": [
    "## Normalización de la data"
   ]
  },
  {
   "cell_type": "code",
   "execution_count": 64,
   "metadata": {
    "pycharm": {
     "name": "#%%\n"
    }
   },
   "outputs": [],
   "source": [
    "scaler = StandardScaler()\n",
    "dframe.iloc[:,0:-1] = scaler.fit_transform(dframe.iloc[:,0:-1].to_numpy())"
   ]
  },
  {
   "cell_type": "code",
   "execution_count": 65,
   "metadata": {
    "pycharm": {
     "name": "#%%\n"
    }
   },
   "outputs": [
    {
     "data": {
      "text/plain": "        distance_from_home  distance_from_last_transaction  \\\n0                 0.477882                       -0.182849   \n1                -0.241607                       -0.188094   \n2                -0.329369                       -0.163733   \n3                -0.372854                        0.021806   \n4                 0.268572                       -0.172968   \n...                    ...                             ...   \n999995           -0.373473                       -0.190529   \n999996           -0.103318                       -0.091035   \n999997           -0.362650                       -0.137903   \n999998           -0.342098                       -0.185523   \n999999            0.481403                       -0.182579   \n\n        ratio_to_median_purchase_price  repeat_retailer  used_chip  \\\n0                             0.043491         0.366584   1.361576   \n1                            -0.189300         0.366584  -0.734443   \n2                            -0.498812         0.366584  -0.734443   \n3                            -0.522048         0.366584   1.361576   \n4                             0.142373         0.366584   1.361576   \n...                                ...              ...        ...   \n999995                       -0.070505         0.366584   1.361576   \n999996                        0.340808         0.366584   1.361576   \n999997                       -0.573694         0.366584   1.361576   \n999998                       -0.481628         0.366584  -0.734443   \n999999                       -0.513384         0.366584   1.361576   \n\n        used_pin_number  online_order  fraud  \n0             -0.334458     -1.364425    0.0  \n1             -0.334458     -1.364425    0.0  \n2             -0.334458      0.732909    0.0  \n3             -0.334458      0.732909    0.0  \n4             -0.334458      0.732909    0.0  \n...                 ...           ...    ...  \n999995        -0.334458     -1.364425    0.0  \n999996        -0.334458     -1.364425    0.0  \n999997        -0.334458      0.732909    0.0  \n999998        -0.334458      0.732909    0.0  \n999999        -0.334458      0.732909    0.0  \n\n[1000000 rows x 8 columns]",
      "text/html": "<div>\n<style scoped>\n    .dataframe tbody tr th:only-of-type {\n        vertical-align: middle;\n    }\n\n    .dataframe tbody tr th {\n        vertical-align: top;\n    }\n\n    .dataframe thead th {\n        text-align: right;\n    }\n</style>\n<table border=\"1\" class=\"dataframe\">\n  <thead>\n    <tr style=\"text-align: right;\">\n      <th></th>\n      <th>distance_from_home</th>\n      <th>distance_from_last_transaction</th>\n      <th>ratio_to_median_purchase_price</th>\n      <th>repeat_retailer</th>\n      <th>used_chip</th>\n      <th>used_pin_number</th>\n      <th>online_order</th>\n      <th>fraud</th>\n    </tr>\n  </thead>\n  <tbody>\n    <tr>\n      <th>0</th>\n      <td>0.477882</td>\n      <td>-0.182849</td>\n      <td>0.043491</td>\n      <td>0.366584</td>\n      <td>1.361576</td>\n      <td>-0.334458</td>\n      <td>-1.364425</td>\n      <td>0.0</td>\n    </tr>\n    <tr>\n      <th>1</th>\n      <td>-0.241607</td>\n      <td>-0.188094</td>\n      <td>-0.189300</td>\n      <td>0.366584</td>\n      <td>-0.734443</td>\n      <td>-0.334458</td>\n      <td>-1.364425</td>\n      <td>0.0</td>\n    </tr>\n    <tr>\n      <th>2</th>\n      <td>-0.329369</td>\n      <td>-0.163733</td>\n      <td>-0.498812</td>\n      <td>0.366584</td>\n      <td>-0.734443</td>\n      <td>-0.334458</td>\n      <td>0.732909</td>\n      <td>0.0</td>\n    </tr>\n    <tr>\n      <th>3</th>\n      <td>-0.372854</td>\n      <td>0.021806</td>\n      <td>-0.522048</td>\n      <td>0.366584</td>\n      <td>1.361576</td>\n      <td>-0.334458</td>\n      <td>0.732909</td>\n      <td>0.0</td>\n    </tr>\n    <tr>\n      <th>4</th>\n      <td>0.268572</td>\n      <td>-0.172968</td>\n      <td>0.142373</td>\n      <td>0.366584</td>\n      <td>1.361576</td>\n      <td>-0.334458</td>\n      <td>0.732909</td>\n      <td>0.0</td>\n    </tr>\n    <tr>\n      <th>...</th>\n      <td>...</td>\n      <td>...</td>\n      <td>...</td>\n      <td>...</td>\n      <td>...</td>\n      <td>...</td>\n      <td>...</td>\n      <td>...</td>\n    </tr>\n    <tr>\n      <th>999995</th>\n      <td>-0.373473</td>\n      <td>-0.190529</td>\n      <td>-0.070505</td>\n      <td>0.366584</td>\n      <td>1.361576</td>\n      <td>-0.334458</td>\n      <td>-1.364425</td>\n      <td>0.0</td>\n    </tr>\n    <tr>\n      <th>999996</th>\n      <td>-0.103318</td>\n      <td>-0.091035</td>\n      <td>0.340808</td>\n      <td>0.366584</td>\n      <td>1.361576</td>\n      <td>-0.334458</td>\n      <td>-1.364425</td>\n      <td>0.0</td>\n    </tr>\n    <tr>\n      <th>999997</th>\n      <td>-0.362650</td>\n      <td>-0.137903</td>\n      <td>-0.573694</td>\n      <td>0.366584</td>\n      <td>1.361576</td>\n      <td>-0.334458</td>\n      <td>0.732909</td>\n      <td>0.0</td>\n    </tr>\n    <tr>\n      <th>999998</th>\n      <td>-0.342098</td>\n      <td>-0.185523</td>\n      <td>-0.481628</td>\n      <td>0.366584</td>\n      <td>-0.734443</td>\n      <td>-0.334458</td>\n      <td>0.732909</td>\n      <td>0.0</td>\n    </tr>\n    <tr>\n      <th>999999</th>\n      <td>0.481403</td>\n      <td>-0.182579</td>\n      <td>-0.513384</td>\n      <td>0.366584</td>\n      <td>1.361576</td>\n      <td>-0.334458</td>\n      <td>0.732909</td>\n      <td>0.0</td>\n    </tr>\n  </tbody>\n</table>\n<p>1000000 rows × 8 columns</p>\n</div>"
     },
     "execution_count": 65,
     "metadata": {},
     "output_type": "execute_result"
    }
   ],
   "source": [
    "dframe"
   ]
  },
  {
   "cell_type": "markdown",
   "metadata": {
    "pycharm": {
     "name": "#%% md\n"
    }
   },
   "source": [
    "## Revisar valores nulos (de existir)"
   ]
  },
  {
   "cell_type": "code",
   "execution_count": 66,
   "metadata": {
    "execution": {
     "iopub.execute_input": "2022-05-22T09:07:06.512467Z",
     "iopub.status.busy": "2022-05-22T09:07:06.512222Z",
     "iopub.status.idle": "2022-05-22T09:07:06.538470Z",
     "shell.execute_reply": "2022-05-22T09:07:06.537592Z",
     "shell.execute_reply.started": "2022-05-22T09:07:06.512439Z"
    },
    "pycharm": {
     "name": "#%%\n"
    }
   },
   "outputs": [
    {
     "data": {
      "text/plain": "distance_from_home                0\ndistance_from_last_transaction    0\nratio_to_median_purchase_price    0\nrepeat_retailer                   0\nused_chip                         0\nused_pin_number                   0\nonline_order                      0\nfraud                             0\ndtype: int64"
     },
     "execution_count": 66,
     "metadata": {},
     "output_type": "execute_result"
    }
   ],
   "source": [
    "dframe.isna().sum()"
   ]
  },
  {
   "cell_type": "markdown",
   "metadata": {
    "pycharm": {
     "name": "#%% md\n"
    }
   },
   "source": [
    "### Recuentos de valores para variables categóricas (repeat_retailer, used_chip, used_pin_number, online_order y fraude)"
   ]
  },
  {
   "cell_type": "code",
   "execution_count": 67,
   "metadata": {
    "execution": {
     "iopub.execute_input": "2022-05-22T09:07:06.539902Z",
     "iopub.status.busy": "2022-05-22T09:07:06.539646Z",
     "iopub.status.idle": "2022-05-22T09:07:06.611349Z",
     "shell.execute_reply": "2022-05-22T09:07:06.610478Z",
     "shell.execute_reply.started": "2022-05-22T09:07:06.539873Z"
    },
    "pycharm": {
     "name": "#%%\n"
    }
   },
   "outputs": [
    {
     "name": "stdout",
     "output_type": "stream",
     "text": [
      " 0.366584    881536\n",
      "-2.727890    118464\n",
      "Name: repeat_retailer, dtype: int64\n",
      "\n",
      "-0.734443    649601\n",
      " 1.361576    350399\n",
      "Name: used_chip, dtype: int64\n",
      "\n",
      "-0.334458    899392\n",
      " 2.989911    100608\n",
      "Name: used_pin_number, dtype: int64\n",
      "\n",
      " 0.732909    650552\n",
      "-1.364425    349448\n",
      "Name: online_order, dtype: int64\n",
      "\n",
      "0.0    912597\n",
      "1.0     87403\n",
      "Name: fraud, dtype: int64\n",
      "\n"
     ]
    }
   ],
   "source": [
    "for column in dframe.columns[3:9]:\n",
    "    print(dframe[column].value_counts())\n",
    "    print()"
   ]
  },
  {
   "cell_type": "markdown",
   "metadata": {
    "pycharm": {
     "name": "#%% md\n"
    }
   },
   "source": [
    "## Matriz de correlación entre la data"
   ]
  },
  {
   "cell_type": "code",
   "execution_count": 68,
   "metadata": {
    "execution": {
     "iopub.execute_input": "2022-05-22T09:07:06.613100Z",
     "iopub.status.busy": "2022-05-22T09:07:06.612690Z",
     "iopub.status.idle": "2022-05-22T09:07:07.466194Z",
     "shell.execute_reply": "2022-05-22T09:07:07.465367Z",
     "shell.execute_reply.started": "2022-05-22T09:07:06.613055Z"
    },
    "pycharm": {
     "name": "#%%\n"
    }
   },
   "outputs": [
    {
     "data": {
      "text/plain": "<AxesSubplot:>"
     },
     "execution_count": 68,
     "metadata": {},
     "output_type": "execute_result"
    },
    {
     "data": {
      "text/plain": "<Figure size 648x576 with 2 Axes>",
      "image/png": "[encoded data removed]"
     },
     "metadata": {
      "needs_background": "light"
     },
     "output_type": "display_data"
    }
   ],
   "source": [
    "correlation_mat = dframe.corr() \n",
    "f, ax = plt.subplots(figsize =(9, 8)) \n",
    "sns.heatmap(correlation_mat,ax=ax, annot=True, cmap = 'BrBG_r',linewidths=0.5)"
   ]
  },
  {
   "cell_type": "markdown",
   "metadata": {
    "pycharm": {
     "name": "#%% md\n"
    }
   },
   "source": [
    "### Análisis univariado para eliminar la característica que tiene el menor efecto en la variable objetivo (fraude)"
   ]
  },
  {
   "cell_type": "code",
   "execution_count": 69,
   "metadata": {
    "pycharm": {
     "name": "#%%\n"
    }
   },
   "outputs": [
    {
     "name": "stdout",
     "output_type": "stream",
     "text": [
      "Columna:  distance_from_home , Puntuación:  36465.69332586085\n",
      "Columna:  distance_from_last_transaction , Puntuación:  8520.690791240206\n",
      "Columna:  ratio_to_median_purchase_price , Puntuación:  271820.173833205\n",
      "Columna:  repeat_retailer , Puntuación:  1.8426704992520047\n",
      "Columna:  used_chip , Puntuación:  3731.7684653980787\n",
      "Columna:  used_pin_number , Puntuación:  10160.776030233745\n",
      "Columna:  online_order , Puntuación:  38263.51828118835\n",
      "Más baja =  1.8426704992520047\n"
     ]
    }
   ],
   "source": [
    "scores = []\n",
    "Univ_Analysis = SelectKBest(score_func=f_classif, k=7)\n",
    "fit = Univ_Analysis.fit(dframe[dframe.columns[0:7]], dframe[dframe.columns[7]])\n",
    "newcols = Univ_Analysis.get_support(indices=True)\n",
    "for i in range(7):\n",
    "    print (\"Columna: \",column_names[i], \", Puntuación: \", fit.scores_[i])\n",
    "    scores.append(fit.scores_[i])\n",
    "print(\"Más baja = \",min(scores))"
   ]
  },
  {
   "cell_type": "markdown",
   "metadata": {
    "pycharm": {
     "name": "#%% md\n"
    }
   },
   "source": [
    "### Dado que tenemos la puntuación más baja para repeat_retailer, la excluimos de nuestro análisis."
   ]
  },
  {
   "cell_type": "code",
   "execution_count": 70,
   "metadata": {
    "pycharm": {
     "name": "#%%\n"
    }
   },
   "outputs": [],
   "source": [
    "dframe.drop(['repeat_retailer'], axis=1, inplace=True)"
   ]
  },
  {
   "cell_type": "markdown",
   "metadata": {
    "pycharm": {
     "name": "#%% md\n"
    }
   },
   "source": [
    "## Separar la data en variables de entrenamiento y variables de prueba"
   ]
  },
  {
   "cell_type": "code",
   "execution_count": 71,
   "metadata": {
    "pycharm": {
     "name": "#%%\n"
    }
   },
   "outputs": [],
   "source": [
    "train, test = train_test_split(dframe, test_size=0.2)"
   ]
  },
  {
   "cell_type": "markdown",
   "metadata": {
    "pycharm": {
     "name": "#%% md\n"
    }
   },
   "source": [
    "## Variables de entrenamiento y variables de prueba"
   ]
  },
  {
   "cell_type": "code",
   "execution_count": 72,
   "metadata": {
    "pycharm": {
     "name": "#%%\n"
    }
   },
   "outputs": [],
   "source": [
    "## para entrenar\n",
    "t_data = train[train.columns[0:6]]\n",
    "t_target = train[train.columns[6]]\n",
    "## para predicciones\n",
    "w_test_pred = test[test.columns[0:6]].iloc[10:20]\n",
    "w_true_pred = test[test.columns[6]].iloc[10:20]\n",
    "## para validar el accuracy\n",
    "w_test = test[test.columns[0:6]]\n",
    "w_true = test[test.columns[6]]"
   ]
  },
  {
   "cell_type": "markdown",
   "metadata": {
    "pycharm": {
     "name": "#%% md\n"
    }
   },
   "source": [
    "## Arbol de decisión sklearn\n",
    "### Entrenamiento del modelo"
   ]
  },
  {
   "cell_type": "code",
   "execution_count": 73,
   "metadata": {
    "pycharm": {
     "name": "#%%\n"
    }
   },
   "outputs": [
    {
     "data": {
      "text/plain": "   distance_from_home  distance_from_last_transaction  \\\n0            0.477882                       -0.182849   \n1           -0.241607                       -0.188094   \n2           -0.329369                       -0.163733   \n3           -0.372854                        0.021806   \n4            0.268572                       -0.172968   \n\n   ratio_to_median_purchase_price  used_chip  used_pin_number  online_order  \\\n0                        0.043491   1.361576        -0.334458     -1.364425   \n1                       -0.189300  -0.734443        -0.334458     -1.364425   \n2                       -0.498812  -0.734443        -0.334458      0.732909   \n3                       -0.522048   1.361576        -0.334458      0.732909   \n4                        0.142373   1.361576        -0.334458      0.732909   \n\n   fraud  \n0    0.0  \n1    0.0  \n2    0.0  \n3    0.0  \n4    0.0  ",
      "text/html": "<div>\n<style scoped>\n    .dataframe tbody tr th:only-of-type {\n        vertical-align: middle;\n    }\n\n    .dataframe tbody tr th {\n        vertical-align: top;\n    }\n\n    .dataframe thead th {\n        text-align: right;\n    }\n</style>\n<table border=\"1\" class=\"dataframe\">\n  <thead>\n    <tr style=\"text-align: right;\">\n      <th></th>\n      <th>distance_from_home</th>\n      <th>distance_from_last_transaction</th>\n      <th>ratio_to_median_purchase_price</th>\n      <th>used_chip</th>\n      <th>used_pin_number</th>\n      <th>online_order</th>\n      <th>fraud</th>\n    </tr>\n  </thead>\n  <tbody>\n    <tr>\n      <th>0</th>\n      <td>0.477882</td>\n      <td>-0.182849</td>\n      <td>0.043491</td>\n      <td>1.361576</td>\n      <td>-0.334458</td>\n      <td>-1.364425</td>\n      <td>0.0</td>\n    </tr>\n    <tr>\n      <th>1</th>\n      <td>-0.241607</td>\n      <td>-0.188094</td>\n      <td>-0.189300</td>\n      <td>-0.734443</td>\n      <td>-0.334458</td>\n      <td>-1.364425</td>\n      <td>0.0</td>\n    </tr>\n    <tr>\n      <th>2</th>\n      <td>-0.329369</td>\n      <td>-0.163733</td>\n      <td>-0.498812</td>\n      <td>-0.734443</td>\n      <td>-0.334458</td>\n      <td>0.732909</td>\n      <td>0.0</td>\n    </tr>\n    <tr>\n      <th>3</th>\n      <td>-0.372854</td>\n      <td>0.021806</td>\n      <td>-0.522048</td>\n      <td>1.361576</td>\n      <td>-0.334458</td>\n      <td>0.732909</td>\n      <td>0.0</td>\n    </tr>\n    <tr>\n      <th>4</th>\n      <td>0.268572</td>\n      <td>-0.172968</td>\n      <td>0.142373</td>\n      <td>1.361576</td>\n      <td>-0.334458</td>\n      <td>0.732909</td>\n      <td>0.0</td>\n    </tr>\n  </tbody>\n</table>\n</div>"
     },
     "execution_count": 73,
     "metadata": {},
     "output_type": "execute_result"
    }
   ],
   "source": [
    "dframe.head()"
   ]
  },
  {
   "cell_type": "code",
   "execution_count": 74,
   "metadata": {
    "execution": {
     "iopub.execute_input": "2022-05-22T09:07:11.642614Z",
     "iopub.status.busy": "2022-05-22T09:07:11.642368Z",
     "iopub.status.idle": "2022-05-22T09:07:15.830665Z",
     "shell.execute_reply": "2022-05-22T09:07:15.829859Z",
     "shell.execute_reply.started": "2022-05-22T09:07:11.642583Z"
    },
    "pycharm": {
     "name": "#%%\n"
    }
   },
   "outputs": [],
   "source": [
    "clf = tree.DecisionTreeClassifier(criterion='entropy', max_depth=5)\n",
    "clf = clf.fit(t_data, t_target)"
   ]
  },
  {
   "cell_type": "markdown",
   "metadata": {
    "pycharm": {
     "name": "#%% md\n"
    }
   },
   "source": [
    "## Graficar el arbol de decisión"
   ]
  },
  {
   "cell_type": "code",
   "execution_count": 75,
   "metadata": {
    "pycharm": {
     "name": "#%%\n"
    }
   },
   "outputs": [
    {
     "data": {
      "image/svg+xml": "<?xml version=\"1.0\" encoding=\"UTF-8\" standalone=\"no\"?>\n<!DOCTYPE svg PUBLIC \"-//W3C//DTD SVG 1.1//EN\"\n \"http://www.w3.org/Graphics/SVG/1.1/DTD/svg11.dtd\">\n<!-- Generated by graphviz version 4.0.0 (20220529.0937)\n -->\n<!-- Title: Tree Pages: 1 -->\n<svg width=\"3410pt\" height=\"671pt\"\n viewBox=\"0.00 0.00 3410.00 671.00\" xmlns=\"http://www.w3.org/2000/svg\" xmlns:xlink=\"http://www.w3.org/1999/xlink\">\n<g id=\"graph0\" class=\"graph\" transform=\"scale(1 1) rotate(0) translate(4 667)\">\n<title>Tree</title>\n<polygon fill=\"white\" stroke=\"transparent\" points=\"-4,4 -4,-667 3406,-667 3406,4 -4,4\"/>\n<!-- 0 -->\n<g id=\"node1\" class=\"node\">\n<title>0</title>\n<path fill=\"#e78d4c\" stroke=\"black\" d=\"M1494.5,-663C1494.5,-663 1241.5,-663 1241.5,-663 1235.5,-663 1229.5,-657 1229.5,-651 1229.5,-651 1229.5,-592 1229.5,-592 1229.5,-586 1235.5,-580 1241.5,-580 1241.5,-580 1494.5,-580 1494.5,-580 1500.5,-580 1506.5,-586 1506.5,-592 1506.5,-592 1506.5,-651 1506.5,-651 1506.5,-657 1500.5,-663 1494.5,-663\"/>\n<text text-anchor=\"start\" x=\"1237.5\" y=\"-647.8\" font-family=\"Helvetica,sans-Serif\" font-size=\"14.00\">ratio_to_median_purchase_price ≤ 0.777</text>\n<text text-anchor=\"start\" x=\"1318\" y=\"-632.8\" font-family=\"Helvetica,sans-Serif\" font-size=\"14.00\">entropy = 0.428</text>\n<text text-anchor=\"start\" x=\"1308\" y=\"-617.8\" font-family=\"Helvetica,sans-Serif\" font-size=\"14.00\">samples = 800000</text>\n<text text-anchor=\"start\" x=\"1290.5\" y=\"-602.8\" font-family=\"Helvetica,sans-Serif\" font-size=\"14.00\">value = [730063, 69937]</text>\n<text text-anchor=\"start\" x=\"1295\" y=\"-587.8\" font-family=\"Helvetica,sans-Serif\" font-size=\"14.00\">class = No Fraudulento</text>\n</g>\n<!-- 1 -->\n<g id=\"node2\" class=\"node\">\n<title>1</title>\n<path fill=\"#e6843e\" stroke=\"black\" d=\"M835.5,-544C835.5,-544 656.5,-544 656.5,-544 650.5,-544 644.5,-538 644.5,-532 644.5,-532 644.5,-473 644.5,-473 644.5,-467 650.5,-461 656.5,-461 656.5,-461 835.5,-461 835.5,-461 841.5,-461 847.5,-467 847.5,-473 847.5,-473 847.5,-532 847.5,-532 847.5,-538 841.5,-544 835.5,-544\"/>\n<text text-anchor=\"start\" x=\"652.5\" y=\"-528.8\" font-family=\"Helvetica,sans-Serif\" font-size=\"14.00\">distance_from_home ≤ 1.122</text>\n<text text-anchor=\"start\" x=\"696\" y=\"-513.8\" font-family=\"Helvetica,sans-Serif\" font-size=\"14.00\">entropy = 0.169</text>\n<text text-anchor=\"start\" x=\"686\" y=\"-498.8\" font-family=\"Helvetica,sans-Serif\" font-size=\"14.00\">samples = 717435</text>\n<text text-anchor=\"start\" x=\"668.5\" y=\"-483.8\" font-family=\"Helvetica,sans-Serif\" font-size=\"14.00\">value = [699402, 18033]</text>\n<text text-anchor=\"start\" x=\"673\" y=\"-468.8\" font-family=\"Helvetica,sans-Serif\" font-size=\"14.00\">class = No Fraudulento</text>\n</g>\n<!-- 0&#45;&gt;1 -->\n<g id=\"edge1\" class=\"edge\">\n<title>0&#45;&gt;1</title>\n<path fill=\"none\" stroke=\"black\" d=\"M1229.19,-594.39C1117.15,-573.31 961.59,-544.05 857.54,-524.48\"/>\n<polygon fill=\"black\" stroke=\"black\" points=\"858.11,-521.03 847.64,-522.62 856.82,-527.91 858.11,-521.03\"/>\n<text text-anchor=\"middle\" x=\"861.74\" y=\"-539.56\" font-family=\"Helvetica,sans-Serif\" font-size=\"14.00\">True</text>\n</g>\n<!-- 22 -->\n<g id=\"node23\" class=\"node\">\n<title>22</title>\n<path fill=\"#aed7f4\" stroke=\"black\" d=\"M2122.5,-544C2122.5,-544 1983.5,-544 1983.5,-544 1977.5,-544 1971.5,-538 1971.5,-532 1971.5,-532 1971.5,-473 1971.5,-473 1971.5,-467 1977.5,-461 1983.5,-461 1983.5,-461 2122.5,-461 2122.5,-461 2128.5,-461 2134.5,-467 2134.5,-473 2134.5,-473 2134.5,-532 2134.5,-532 2134.5,-538 2128.5,-544 2122.5,-544\"/>\n<text text-anchor=\"start\" x=\"1985\" y=\"-528.8\" font-family=\"Helvetica,sans-Serif\" font-size=\"14.00\">online_order ≤ &#45;0.316</text>\n<text text-anchor=\"start\" x=\"2003\" y=\"-513.8\" font-family=\"Helvetica,sans-Serif\" font-size=\"14.00\">entropy = 0.952</text>\n<text text-anchor=\"start\" x=\"1997\" y=\"-498.8\" font-family=\"Helvetica,sans-Serif\" font-size=\"14.00\">samples = 82565</text>\n<text text-anchor=\"start\" x=\"1979.5\" y=\"-483.8\" font-family=\"Helvetica,sans-Serif\" font-size=\"14.00\">value = [30661, 51904]</text>\n<text text-anchor=\"start\" x=\"1991\" y=\"-468.8\" font-family=\"Helvetica,sans-Serif\" font-size=\"14.00\">class = Fraudulento</text>\n</g>\n<!-- 0&#45;&gt;22 -->\n<g id=\"edge22\" class=\"edge\">\n<title>0&#45;&gt;22</title>\n<path fill=\"none\" stroke=\"black\" d=\"M1506.62,-596.82C1642.23,-573.66 1844.89,-539.05 1961.49,-519.13\"/>\n<polygon fill=\"black\" stroke=\"black\" points=\"1962.2,-522.56 1971.47,-517.43 1961.02,-515.66 1962.2,-522.56\"/>\n<text text-anchor=\"middle\" x=\"1957.02\" y=\"-534.13\" font-family=\"Helvetica,sans-Serif\" font-size=\"14.00\">False</text>\n</g>\n<!-- 2 -->\n<g id=\"node3\" class=\"node\">\n<title>2</title>\n<path fill=\"#e5823a\" stroke=\"black\" d=\"M377.5,-425C377.5,-425 144.5,-425 144.5,-425 138.5,-425 132.5,-419 132.5,-413 132.5,-413 132.5,-354 132.5,-354 132.5,-348 138.5,-342 144.5,-342 144.5,-342 377.5,-342 377.5,-342 383.5,-342 389.5,-348 389.5,-354 389.5,-354 389.5,-413 389.5,-413 389.5,-419 383.5,-425 377.5,-425\"/>\n<text text-anchor=\"start\" x=\"140.5\" y=\"-409.8\" font-family=\"Helvetica,sans-Serif\" font-size=\"14.00\">distance_from_last_transaction ≤ 1.74</text>\n<text text-anchor=\"start\" x=\"211\" y=\"-394.8\" font-family=\"Helvetica,sans-Serif\" font-size=\"14.00\">entropy = 0.053</text>\n<text text-anchor=\"start\" x=\"201\" y=\"-379.8\" font-family=\"Helvetica,sans-Serif\" font-size=\"14.00\">samples = 681665</text>\n<text text-anchor=\"start\" x=\"187.5\" y=\"-364.8\" font-family=\"Helvetica,sans-Serif\" font-size=\"14.00\">value = [677565, 4100]</text>\n<text text-anchor=\"start\" x=\"188\" y=\"-349.8\" font-family=\"Helvetica,sans-Serif\" font-size=\"14.00\">class = No Fraudulento</text>\n</g>\n<!-- 1&#45;&gt;2 -->\n<g id=\"edge2\" class=\"edge\">\n<title>1&#45;&gt;2</title>\n<path fill=\"none\" stroke=\"black\" d=\"M644.33,-476.97C573.34,-459.85 477.71,-436.78 399.73,-417.97\"/>\n<polygon fill=\"black\" stroke=\"black\" points=\"400.36,-414.52 389.82,-415.58 398.72,-421.32 400.36,-414.52\"/>\n</g>\n<!-- 9 -->\n<g id=\"node10\" class=\"node\">\n<title>9</title>\n<path fill=\"#f6d1b7\" stroke=\"black\" d=\"M815.5,-425C815.5,-425 676.5,-425 676.5,-425 670.5,-425 664.5,-419 664.5,-413 664.5,-413 664.5,-354 664.5,-354 664.5,-348 670.5,-342 676.5,-342 676.5,-342 815.5,-342 815.5,-342 821.5,-342 827.5,-348 827.5,-354 827.5,-354 827.5,-413 827.5,-413 827.5,-419 821.5,-425 815.5,-425\"/>\n<text text-anchor=\"start\" x=\"678\" y=\"-409.8\" font-family=\"Helvetica,sans-Serif\" font-size=\"14.00\">online_order ≤ &#45;0.316</text>\n<text text-anchor=\"start\" x=\"696\" y=\"-394.8\" font-family=\"Helvetica,sans-Serif\" font-size=\"14.00\">entropy = 0.964</text>\n<text text-anchor=\"start\" x=\"690\" y=\"-379.8\" font-family=\"Helvetica,sans-Serif\" font-size=\"14.00\">samples = 35770</text>\n<text text-anchor=\"start\" x=\"672.5\" y=\"-364.8\" font-family=\"Helvetica,sans-Serif\" font-size=\"14.00\">value = [21837, 13933]</text>\n<text text-anchor=\"start\" x=\"673\" y=\"-349.8\" font-family=\"Helvetica,sans-Serif\" font-size=\"14.00\">class = No Fraudulento</text>\n</g>\n<!-- 1&#45;&gt;9 -->\n<g id=\"edge9\" class=\"edge\">\n<title>1&#45;&gt;9</title>\n<path fill=\"none\" stroke=\"black\" d=\"M746,-460.91C746,-452.65 746,-443.86 746,-435.3\"/>\n<polygon fill=\"black\" stroke=\"black\" points=\"749.5,-435.02 746,-425.02 742.5,-435.02 749.5,-435.02\"/>\n</g>\n<!-- 3 -->\n<g id=\"node4\" class=\"node\">\n<title>3</title>\n<path fill=\"#e58139\" stroke=\"black\" d=\"M150,-298.5C150,-298.5 12,-298.5 12,-298.5 6,-298.5 0,-292.5 0,-286.5 0,-286.5 0,-242.5 0,-242.5 0,-236.5 6,-230.5 12,-230.5 12,-230.5 150,-230.5 150,-230.5 156,-230.5 162,-236.5 162,-242.5 162,-242.5 162,-286.5 162,-286.5 162,-292.5 156,-298.5 150,-298.5\"/>\n<text text-anchor=\"start\" x=\"39\" y=\"-283.3\" font-family=\"Helvetica,sans-Serif\" font-size=\"14.00\">entropy = 0.0</text>\n<text text-anchor=\"start\" x=\"21\" y=\"-268.3\" font-family=\"Helvetica,sans-Serif\" font-size=\"14.00\">samples = 671526</text>\n<text text-anchor=\"start\" x=\"20\" y=\"-253.3\" font-family=\"Helvetica,sans-Serif\" font-size=\"14.00\">value = [671526, 0]</text>\n<text text-anchor=\"start\" x=\"8\" y=\"-238.3\" font-family=\"Helvetica,sans-Serif\" font-size=\"14.00\">class = No Fraudulento</text>\n</g>\n<!-- 2&#45;&gt;3 -->\n<g id=\"edge3\" class=\"edge\">\n<title>2&#45;&gt;3</title>\n<path fill=\"none\" stroke=\"black\" d=\"M198.55,-341.91C179.71,-329.66 159.08,-316.25 140.44,-304.13\"/>\n<polygon fill=\"black\" stroke=\"black\" points=\"142.32,-301.18 132.03,-298.67 138.5,-307.05 142.32,-301.18\"/>\n</g>\n<!-- 4 -->\n<g id=\"node5\" class=\"node\">\n<title>4</title>\n<path fill=\"#f7d7bf\" stroke=\"black\" d=\"M330,-306C330,-306 192,-306 192,-306 186,-306 180,-300 180,-294 180,-294 180,-235 180,-235 180,-229 186,-223 192,-223 192,-223 330,-223 330,-223 336,-223 342,-229 342,-235 342,-235 342,-294 342,-294 342,-300 336,-306 330,-306\"/>\n<text text-anchor=\"start\" x=\"193\" y=\"-290.8\" font-family=\"Helvetica,sans-Serif\" font-size=\"14.00\">online_order ≤ &#45;0.316</text>\n<text text-anchor=\"start\" x=\"211\" y=\"-275.8\" font-family=\"Helvetica,sans-Serif\" font-size=\"14.00\">entropy = 0.973</text>\n<text text-anchor=\"start\" x=\"205\" y=\"-260.8\" font-family=\"Helvetica,sans-Serif\" font-size=\"14.00\">samples = 10139</text>\n<text text-anchor=\"start\" x=\"196\" y=\"-245.8\" font-family=\"Helvetica,sans-Serif\" font-size=\"14.00\">value = [6039, 4100]</text>\n<text text-anchor=\"start\" x=\"188\" y=\"-230.8\" font-family=\"Helvetica,sans-Serif\" font-size=\"14.00\">class = No Fraudulento</text>\n</g>\n<!-- 2&#45;&gt;4 -->\n<g id=\"edge4\" class=\"edge\">\n<title>2&#45;&gt;4</title>\n<path fill=\"none\" stroke=\"black\" d=\"M261,-341.91C261,-333.65 261,-324.86 261,-316.3\"/>\n<polygon fill=\"black\" stroke=\"black\" points=\"264.5,-316.02 261,-306.02 257.5,-316.02 264.5,-316.02\"/>\n</g>\n<!-- 5 -->\n<g id=\"node6\" class=\"node\">\n<title>5</title>\n<path fill=\"#e58139\" stroke=\"black\" d=\"M158,-179.5C158,-179.5 20,-179.5 20,-179.5 14,-179.5 8,-173.5 8,-167.5 8,-167.5 8,-123.5 8,-123.5 8,-117.5 14,-111.5 20,-111.5 20,-111.5 158,-111.5 158,-111.5 164,-111.5 170,-117.5 170,-123.5 170,-123.5 170,-167.5 170,-167.5 170,-173.5 164,-179.5 158,-179.5\"/>\n<text text-anchor=\"start\" x=\"47\" y=\"-164.3\" font-family=\"Helvetica,sans-Serif\" font-size=\"14.00\">entropy = 0.0</text>\n<text text-anchor=\"start\" x=\"37.5\" y=\"-149.3\" font-family=\"Helvetica,sans-Serif\" font-size=\"14.00\">samples = 3470</text>\n<text text-anchor=\"start\" x=\"36\" y=\"-134.3\" font-family=\"Helvetica,sans-Serif\" font-size=\"14.00\">value = [3470, 0]</text>\n<text text-anchor=\"start\" x=\"16\" y=\"-119.3\" font-family=\"Helvetica,sans-Serif\" font-size=\"14.00\">class = No Fraudulento</text>\n</g>\n<!-- 4&#45;&gt;5 -->\n<g id=\"edge5\" class=\"edge\">\n<title>4&#45;&gt;5</title>\n<path fill=\"none\" stroke=\"black\" d=\"M201.33,-222.91C183.48,-210.77 163.96,-197.49 146.28,-185.46\"/>\n<polygon fill=\"black\" stroke=\"black\" points=\"148,-182.4 137.76,-179.67 144.06,-188.19 148,-182.4\"/>\n</g>\n<!-- 6 -->\n<g id=\"node7\" class=\"node\">\n<title>6</title>\n<path fill=\"#b5daf5\" stroke=\"black\" d=\"M322,-187C322,-187 200,-187 200,-187 194,-187 188,-181 188,-175 188,-175 188,-116 188,-116 188,-110 194,-104 200,-104 200,-104 322,-104 322,-104 328,-104 334,-110 334,-116 334,-116 334,-175 334,-175 334,-181 328,-187 322,-187\"/>\n<text text-anchor=\"start\" x=\"202\" y=\"-171.8\" font-family=\"Helvetica,sans-Serif\" font-size=\"14.00\">used_chip ≤ 0.314</text>\n<text text-anchor=\"start\" x=\"211\" y=\"-156.8\" font-family=\"Helvetica,sans-Serif\" font-size=\"14.00\">entropy = 0.962</text>\n<text text-anchor=\"start\" x=\"209.5\" y=\"-141.8\" font-family=\"Helvetica,sans-Serif\" font-size=\"14.00\">samples = 6669</text>\n<text text-anchor=\"start\" x=\"196\" y=\"-126.8\" font-family=\"Helvetica,sans-Serif\" font-size=\"14.00\">value = [2569, 4100]</text>\n<text text-anchor=\"start\" x=\"199\" y=\"-111.8\" font-family=\"Helvetica,sans-Serif\" font-size=\"14.00\">class = Fraudulento</text>\n</g>\n<!-- 4&#45;&gt;6 -->\n<g id=\"edge6\" class=\"edge\">\n<title>4&#45;&gt;6</title>\n<path fill=\"none\" stroke=\"black\" d=\"M261,-222.91C261,-214.65 261,-205.86 261,-197.3\"/>\n<polygon fill=\"black\" stroke=\"black\" points=\"264.5,-197.02 261,-187.02 257.5,-197.02 264.5,-197.02\"/>\n</g>\n<!-- 7 -->\n<g id=\"node8\" class=\"node\">\n<title>7</title>\n<path fill=\"#50a9e8\" stroke=\"black\" d=\"M156,-68C156,-68 40,-68 40,-68 34,-68 28,-62 28,-56 28,-56 28,-12 28,-12 28,-6 34,0 40,0 40,0 156,0 156,0 162,0 168,-6 168,-12 168,-12 168,-56 168,-56 168,-62 162,-68 156,-68\"/>\n<text text-anchor=\"start\" x=\"48\" y=\"-52.8\" font-family=\"Helvetica,sans-Serif\" font-size=\"14.00\">entropy = 0.487</text>\n<text text-anchor=\"start\" x=\"46.5\" y=\"-37.8\" font-family=\"Helvetica,sans-Serif\" font-size=\"14.00\">samples = 4296</text>\n<text text-anchor=\"start\" x=\"37\" y=\"-22.8\" font-family=\"Helvetica,sans-Serif\" font-size=\"14.00\">value = [454, 3842]</text>\n<text text-anchor=\"start\" x=\"36\" y=\"-7.8\" font-family=\"Helvetica,sans-Serif\" font-size=\"14.00\">class = Fraudulento</text>\n</g>\n<!-- 6&#45;&gt;7 -->\n<g id=\"edge7\" class=\"edge\">\n<title>6&#45;&gt;7</title>\n<path fill=\"none\" stroke=\"black\" d=\"M200.3,-103.73C185.7,-93.92 170.14,-83.46 155.68,-73.75\"/>\n<polygon fill=\"black\" stroke=\"black\" points=\"157.56,-70.8 147.31,-68.13 153.66,-76.61 157.56,-70.8\"/>\n</g>\n<!-- 8 -->\n<g id=\"node9\" class=\"node\">\n<title>8</title>\n<path fill=\"#e89051\" stroke=\"black\" d=\"M336,-68C336,-68 198,-68 198,-68 192,-68 186,-62 186,-56 186,-56 186,-12 186,-12 186,-6 192,0 198,0 198,0 336,0 336,0 342,0 348,-6 348,-12 348,-12 348,-56 348,-56 348,-62 342,-68 336,-68\"/>\n<text text-anchor=\"start\" x=\"217\" y=\"-52.8\" font-family=\"Helvetica,sans-Serif\" font-size=\"14.00\">entropy = 0.496</text>\n<text text-anchor=\"start\" x=\"215.5\" y=\"-37.8\" font-family=\"Helvetica,sans-Serif\" font-size=\"14.00\">samples = 2373</text>\n<text text-anchor=\"start\" x=\"206\" y=\"-22.8\" font-family=\"Helvetica,sans-Serif\" font-size=\"14.00\">value = [2115, 258]</text>\n<text text-anchor=\"start\" x=\"194\" y=\"-7.8\" font-family=\"Helvetica,sans-Serif\" font-size=\"14.00\">class = No Fraudulento</text>\n</g>\n<!-- 6&#45;&gt;8 -->\n<g id=\"edge8\" class=\"edge\">\n<title>6&#45;&gt;8</title>\n<path fill=\"none\" stroke=\"black\" d=\"M263.23,-103.73C263.68,-95.52 264.16,-86.86 264.61,-78.56\"/>\n<polygon fill=\"black\" stroke=\"black\" points=\"268.12,-78.48 265.18,-68.3 261.13,-78.09 268.12,-78.48\"/>\n</g>\n<!-- 10 -->\n<g id=\"node11\" class=\"node\">\n<title>10</title>\n<path fill=\"#e5833c\" stroke=\"black\" d=\"M745,-306C745,-306 503,-306 503,-306 497,-306 491,-300 491,-294 491,-294 491,-235 491,-235 491,-229 497,-223 503,-223 503,-223 745,-223 745,-223 751,-223 757,-229 757,-235 757,-235 757,-294 757,-294 757,-300 751,-306 745,-306\"/>\n<text text-anchor=\"start\" x=\"499\" y=\"-290.8\" font-family=\"Helvetica,sans-Serif\" font-size=\"14.00\">distance_from_last_transaction ≤ 1.746</text>\n<text text-anchor=\"start\" x=\"574\" y=\"-275.8\" font-family=\"Helvetica,sans-Serif\" font-size=\"14.00\">entropy = 0.104</text>\n<text text-anchor=\"start\" x=\"568\" y=\"-260.8\" font-family=\"Helvetica,sans-Serif\" font-size=\"14.00\">samples = 12492</text>\n<text text-anchor=\"start\" x=\"559\" y=\"-245.8\" font-family=\"Helvetica,sans-Serif\" font-size=\"14.00\">value = [12322, 170]</text>\n<text text-anchor=\"start\" x=\"551\" y=\"-230.8\" font-family=\"Helvetica,sans-Serif\" font-size=\"14.00\">class = No Fraudulento</text>\n</g>\n<!-- 9&#45;&gt;10 -->\n<g id=\"edge10\" class=\"edge\">\n<title>9&#45;&gt;10</title>\n<path fill=\"none\" stroke=\"black\" d=\"M703.67,-341.91C694.02,-332.65 683.68,-322.73 673.75,-313.21\"/>\n<polygon fill=\"black\" stroke=\"black\" points=\"675.89,-310.42 666.25,-306.02 671.05,-315.47 675.89,-310.42\"/>\n</g>\n<!-- 15 -->\n<g id=\"node16\" class=\"node\">\n<title>15</title>\n<path fill=\"#c2e1f7\" stroke=\"black\" d=\"M934.5,-306C934.5,-306 803.5,-306 803.5,-306 797.5,-306 791.5,-300 791.5,-294 791.5,-294 791.5,-235 791.5,-235 791.5,-229 797.5,-223 803.5,-223 803.5,-223 934.5,-223 934.5,-223 940.5,-223 946.5,-229 946.5,-235 946.5,-235 946.5,-294 946.5,-294 946.5,-300 940.5,-306 934.5,-306\"/>\n<text text-anchor=\"start\" x=\"810\" y=\"-290.8\" font-family=\"Helvetica,sans-Serif\" font-size=\"14.00\">used_chip ≤ 0.314</text>\n<text text-anchor=\"start\" x=\"819\" y=\"-275.8\" font-family=\"Helvetica,sans-Serif\" font-size=\"14.00\">entropy = 0.976</text>\n<text text-anchor=\"start\" x=\"813\" y=\"-260.8\" font-family=\"Helvetica,sans-Serif\" font-size=\"14.00\">samples = 23278</text>\n<text text-anchor=\"start\" x=\"799.5\" y=\"-245.8\" font-family=\"Helvetica,sans-Serif\" font-size=\"14.00\">value = [9515, 13763]</text>\n<text text-anchor=\"start\" x=\"807\" y=\"-230.8\" font-family=\"Helvetica,sans-Serif\" font-size=\"14.00\">class = Fraudulento</text>\n</g>\n<!-- 9&#45;&gt;15 -->\n<g id=\"edge15\" class=\"edge\">\n<title>9&#45;&gt;15</title>\n<path fill=\"none\" stroke=\"black\" d=\"M788.67,-341.91C798.5,-332.56 809.04,-322.54 819.14,-312.93\"/>\n<polygon fill=\"black\" stroke=\"black\" points=\"821.57,-315.45 826.4,-306.02 816.74,-310.38 821.57,-315.45\"/>\n</g>\n<!-- 11 -->\n<g id=\"node12\" class=\"node\">\n<title>11</title>\n<path fill=\"#e58139\" stroke=\"black\" d=\"M502,-179.5C502,-179.5 364,-179.5 364,-179.5 358,-179.5 352,-173.5 352,-167.5 352,-167.5 352,-123.5 352,-123.5 352,-117.5 358,-111.5 364,-111.5 364,-111.5 502,-111.5 502,-111.5 508,-111.5 514,-117.5 514,-123.5 514,-123.5 514,-167.5 514,-167.5 514,-173.5 508,-179.5 502,-179.5\"/>\n<text text-anchor=\"start\" x=\"391\" y=\"-164.3\" font-family=\"Helvetica,sans-Serif\" font-size=\"14.00\">entropy = 0.0</text>\n<text text-anchor=\"start\" x=\"377\" y=\"-149.3\" font-family=\"Helvetica,sans-Serif\" font-size=\"14.00\">samples = 12298</text>\n<text text-anchor=\"start\" x=\"376\" y=\"-134.3\" font-family=\"Helvetica,sans-Serif\" font-size=\"14.00\">value = [12298, 0]</text>\n<text text-anchor=\"start\" x=\"360\" y=\"-119.3\" font-family=\"Helvetica,sans-Serif\" font-size=\"14.00\">class = No Fraudulento</text>\n</g>\n<!-- 10&#45;&gt;11 -->\n<g id=\"edge11\" class=\"edge\">\n<title>10&#45;&gt;11</title>\n<path fill=\"none\" stroke=\"black\" d=\"M557.73,-222.91C537.65,-210.6 515.65,-197.13 495.8,-184.97\"/>\n<polygon fill=\"black\" stroke=\"black\" points=\"497.5,-181.91 487.14,-179.67 493.84,-187.88 497.5,-181.91\"/>\n</g>\n<!-- 12 -->\n<g id=\"node13\" class=\"node\">\n<title>12</title>\n<path fill=\"#55abe9\" stroke=\"black\" d=\"M703.5,-187C703.5,-187 544.5,-187 544.5,-187 538.5,-187 532.5,-181 532.5,-175 532.5,-175 532.5,-116 532.5,-116 532.5,-110 538.5,-104 544.5,-104 544.5,-104 703.5,-104 703.5,-104 709.5,-104 715.5,-110 715.5,-116 715.5,-116 715.5,-175 715.5,-175 715.5,-181 709.5,-187 703.5,-187\"/>\n<text text-anchor=\"start\" x=\"540.5\" y=\"-171.8\" font-family=\"Helvetica,sans-Serif\" font-size=\"14.00\">used_pin_number ≤ 1.328</text>\n<text text-anchor=\"start\" x=\"578\" y=\"-156.8\" font-family=\"Helvetica,sans-Serif\" font-size=\"14.00\">entropy = 0.54</text>\n<text text-anchor=\"start\" x=\"576.5\" y=\"-141.8\" font-family=\"Helvetica,sans-Serif\" font-size=\"14.00\">samples = 194</text>\n<text text-anchor=\"start\" x=\"571\" y=\"-126.8\" font-family=\"Helvetica,sans-Serif\" font-size=\"14.00\">value = [24, 170]</text>\n<text text-anchor=\"start\" x=\"562\" y=\"-111.8\" font-family=\"Helvetica,sans-Serif\" font-size=\"14.00\">class = Fraudulento</text>\n</g>\n<!-- 10&#45;&gt;12 -->\n<g id=\"edge12\" class=\"edge\">\n<title>10&#45;&gt;12</title>\n<path fill=\"none\" stroke=\"black\" d=\"M624,-222.91C624,-214.65 624,-205.86 624,-197.3\"/>\n<polygon fill=\"black\" stroke=\"black\" points=\"627.5,-197.02 624,-187.02 620.5,-197.02 627.5,-197.02\"/>\n</g>\n<!-- 13 -->\n<g id=\"node14\" class=\"node\">\n<title>13</title>\n<path fill=\"#399de5\" stroke=\"black\" d=\"M506,-68C506,-68 390,-68 390,-68 384,-68 378,-62 378,-56 378,-56 378,-12 378,-12 378,-6 384,0 390,0 390,0 506,0 506,0 512,0 518,-6 518,-12 518,-12 518,-56 518,-56 518,-62 512,-68 506,-68\"/>\n<text text-anchor=\"start\" x=\"406\" y=\"-52.8\" font-family=\"Helvetica,sans-Serif\" font-size=\"14.00\">entropy = 0.0</text>\n<text text-anchor=\"start\" x=\"400.5\" y=\"-37.8\" font-family=\"Helvetica,sans-Serif\" font-size=\"14.00\">samples = 170</text>\n<text text-anchor=\"start\" x=\"399.5\" y=\"-22.8\" font-family=\"Helvetica,sans-Serif\" font-size=\"14.00\">value = [0, 170]</text>\n<text text-anchor=\"start\" x=\"386\" y=\"-7.8\" font-family=\"Helvetica,sans-Serif\" font-size=\"14.00\">class = Fraudulento</text>\n</g>\n<!-- 12&#45;&gt;13 -->\n<g id=\"edge13\" class=\"edge\">\n<title>12&#45;&gt;13</title>\n<path fill=\"none\" stroke=\"black\" d=\"M558.46,-103.73C542.55,-93.82 525.58,-83.27 509.84,-73.48\"/>\n<polygon fill=\"black\" stroke=\"black\" points=\"511.58,-70.44 501.24,-68.13 507.88,-76.38 511.58,-70.44\"/>\n</g>\n<!-- 14 -->\n<g id=\"node15\" class=\"node\">\n<title>14</title>\n<path fill=\"#e58139\" stroke=\"black\" d=\"M686,-68C686,-68 548,-68 548,-68 542,-68 536,-62 536,-56 536,-56 536,-12 536,-12 536,-6 542,0 548,0 548,0 686,0 686,0 692,0 698,-6 698,-12 698,-12 698,-56 698,-56 698,-62 692,-68 686,-68\"/>\n<text text-anchor=\"start\" x=\"575\" y=\"-52.8\" font-family=\"Helvetica,sans-Serif\" font-size=\"14.00\">entropy = 0.0</text>\n<text text-anchor=\"start\" x=\"573.5\" y=\"-37.8\" font-family=\"Helvetica,sans-Serif\" font-size=\"14.00\">samples = 24</text>\n<text text-anchor=\"start\" x=\"572.5\" y=\"-22.8\" font-family=\"Helvetica,sans-Serif\" font-size=\"14.00\">value = [24, 0]</text>\n<text text-anchor=\"start\" x=\"544\" y=\"-7.8\" font-family=\"Helvetica,sans-Serif\" font-size=\"14.00\">class = No Fraudulento</text>\n</g>\n<!-- 12&#45;&gt;14 -->\n<g id=\"edge14\" class=\"edge\">\n<title>12&#45;&gt;14</title>\n<path fill=\"none\" stroke=\"black\" d=\"M621.39,-103.73C620.86,-95.43 620.3,-86.67 619.77,-78.28\"/>\n<polygon fill=\"black\" stroke=\"black\" points=\"623.26,-78.06 619.13,-68.3 616.27,-78.5 623.26,-78.06\"/>\n</g>\n<!-- 16 -->\n<g id=\"node17\" class=\"node\">\n<title>16</title>\n<path fill=\"#4ea7e8\" stroke=\"black\" d=\"M948.5,-187C948.5,-187 789.5,-187 789.5,-187 783.5,-187 777.5,-181 777.5,-175 777.5,-175 777.5,-116 777.5,-116 777.5,-110 783.5,-104 789.5,-104 789.5,-104 948.5,-104 948.5,-104 954.5,-104 960.5,-110 960.5,-116 960.5,-116 960.5,-175 960.5,-175 960.5,-181 954.5,-187 948.5,-187\"/>\n<text text-anchor=\"start\" x=\"785.5\" y=\"-171.8\" font-family=\"Helvetica,sans-Serif\" font-size=\"14.00\">used_pin_number ≤ 1.328</text>\n<text text-anchor=\"start\" x=\"819\" y=\"-156.8\" font-family=\"Helvetica,sans-Serif\" font-size=\"14.00\">entropy = 0.458</text>\n<text text-anchor=\"start\" x=\"813\" y=\"-141.8\" font-family=\"Helvetica,sans-Serif\" font-size=\"14.00\">samples = 15116</text>\n<text text-anchor=\"start\" x=\"799.5\" y=\"-126.8\" font-family=\"Helvetica,sans-Serif\" font-size=\"14.00\">value = [1458, 13658]</text>\n<text text-anchor=\"start\" x=\"807\" y=\"-111.8\" font-family=\"Helvetica,sans-Serif\" font-size=\"14.00\">class = Fraudulento</text>\n</g>\n<!-- 15&#45;&gt;16 -->\n<g id=\"edge16\" class=\"edge\">\n<title>15&#45;&gt;16</title>\n<path fill=\"none\" stroke=\"black\" d=\"M869,-222.91C869,-214.65 869,-205.86 869,-197.3\"/>\n<polygon fill=\"black\" stroke=\"black\" points=\"872.5,-197.02 869,-187.02 865.5,-197.02 872.5,-197.02\"/>\n</g>\n<!-- 19 -->\n<g id=\"node20\" class=\"node\">\n<title>19</title>\n<path fill=\"#e5833c\" stroke=\"black\" d=\"M1256,-187C1256,-187 1014,-187 1014,-187 1008,-187 1002,-181 1002,-175 1002,-175 1002,-116 1002,-116 1002,-110 1008,-104 1014,-104 1014,-104 1256,-104 1256,-104 1262,-104 1268,-110 1268,-116 1268,-116 1268,-175 1268,-175 1268,-181 1262,-187 1256,-187\"/>\n<text text-anchor=\"start\" x=\"1010\" y=\"-171.8\" font-family=\"Helvetica,sans-Serif\" font-size=\"14.00\">distance_from_last_transaction ≤ 1.762</text>\n<text text-anchor=\"start\" x=\"1085\" y=\"-156.8\" font-family=\"Helvetica,sans-Serif\" font-size=\"14.00\">entropy = 0.099</text>\n<text text-anchor=\"start\" x=\"1083.5\" y=\"-141.8\" font-family=\"Helvetica,sans-Serif\" font-size=\"14.00\">samples = 8162</text>\n<text text-anchor=\"start\" x=\"1074\" y=\"-126.8\" font-family=\"Helvetica,sans-Serif\" font-size=\"14.00\">value = [8057, 105]</text>\n<text text-anchor=\"start\" x=\"1062\" y=\"-111.8\" font-family=\"Helvetica,sans-Serif\" font-size=\"14.00\">class = No Fraudulento</text>\n</g>\n<!-- 15&#45;&gt;19 -->\n<g id=\"edge19\" class=\"edge\">\n<title>15&#45;&gt;19</title>\n<path fill=\"none\" stroke=\"black\" d=\"M946.65,-229.34C973.77,-217.42 1004.63,-203.84 1033.41,-191.18\"/>\n<polygon fill=\"black\" stroke=\"black\" points=\"1034.93,-194.34 1042.67,-187.11 1032.11,-187.93 1034.93,-194.34\"/>\n</g>\n<!-- 17 -->\n<g id=\"node18\" class=\"node\">\n<title>17</title>\n<path fill=\"#399de5\" stroke=\"black\" d=\"M844,-68C844,-68 728,-68 728,-68 722,-68 716,-62 716,-56 716,-56 716,-12 716,-12 716,-6 722,0 728,0 728,0 844,0 844,0 850,0 856,-6 856,-12 856,-12 856,-56 856,-56 856,-62 850,-68 844,-68\"/>\n<text text-anchor=\"start\" x=\"744\" y=\"-52.8\" font-family=\"Helvetica,sans-Serif\" font-size=\"14.00\">entropy = 0.0</text>\n<text text-anchor=\"start\" x=\"730\" y=\"-37.8\" font-family=\"Helvetica,sans-Serif\" font-size=\"14.00\">samples = 13658</text>\n<text text-anchor=\"start\" x=\"729\" y=\"-22.8\" font-family=\"Helvetica,sans-Serif\" font-size=\"14.00\">value = [0, 13658]</text>\n<text text-anchor=\"start\" x=\"724\" y=\"-7.8\" font-family=\"Helvetica,sans-Serif\" font-size=\"14.00\">class = Fraudulento</text>\n</g>\n<!-- 16&#45;&gt;17 -->\n<g id=\"edge17\" class=\"edge\">\n<title>16&#45;&gt;17</title>\n<path fill=\"none\" stroke=\"black\" d=\"M838.09,-103.73C831.32,-94.79 824.14,-85.32 817.35,-76.36\"/>\n<polygon fill=\"black\" stroke=\"black\" points=\"820.07,-74.15 811.24,-68.3 814.49,-78.38 820.07,-74.15\"/>\n</g>\n<!-- 18 -->\n<g id=\"node19\" class=\"node\">\n<title>18</title>\n<path fill=\"#e58139\" stroke=\"black\" d=\"M1024,-68C1024,-68 886,-68 886,-68 880,-68 874,-62 874,-56 874,-56 874,-12 874,-12 874,-6 880,0 886,0 886,0 1024,0 1024,0 1030,0 1036,-6 1036,-12 1036,-12 1036,-56 1036,-56 1036,-62 1030,-68 1024,-68\"/>\n<text text-anchor=\"start\" x=\"913\" y=\"-52.8\" font-family=\"Helvetica,sans-Serif\" font-size=\"14.00\">entropy = 0.0</text>\n<text text-anchor=\"start\" x=\"903.5\" y=\"-37.8\" font-family=\"Helvetica,sans-Serif\" font-size=\"14.00\">samples = 1458</text>\n<text text-anchor=\"start\" x=\"902\" y=\"-22.8\" font-family=\"Helvetica,sans-Serif\" font-size=\"14.00\">value = [1458, 0]</text>\n<text text-anchor=\"start\" x=\"882\" y=\"-7.8\" font-family=\"Helvetica,sans-Serif\" font-size=\"14.00\">class = No Fraudulento</text>\n</g>\n<!-- 16&#45;&gt;18 -->\n<g id=\"edge18\" class=\"edge\">\n<title>16&#45;&gt;18</title>\n<path fill=\"none\" stroke=\"black\" d=\"M901.02,-103.73C908.04,-94.79 915.48,-85.32 922.52,-76.36\"/>\n<polygon fill=\"black\" stroke=\"black\" points=\"925.42,-78.33 928.85,-68.3 919.92,-74 925.42,-78.33\"/>\n</g>\n<!-- 20 -->\n<g id=\"node21\" class=\"node\">\n<title>20</title>\n<path fill=\"#e58139\" stroke=\"black\" d=\"M1204,-68C1204,-68 1066,-68 1066,-68 1060,-68 1054,-62 1054,-56 1054,-56 1054,-12 1054,-12 1054,-6 1060,0 1066,0 1066,0 1204,0 1204,0 1210,0 1216,-6 1216,-12 1216,-12 1216,-56 1216,-56 1216,-62 1210,-68 1204,-68\"/>\n<text text-anchor=\"start\" x=\"1093\" y=\"-52.8\" font-family=\"Helvetica,sans-Serif\" font-size=\"14.00\">entropy = 0.0</text>\n<text text-anchor=\"start\" x=\"1083.5\" y=\"-37.8\" font-family=\"Helvetica,sans-Serif\" font-size=\"14.00\">samples = 8045</text>\n<text text-anchor=\"start\" x=\"1082\" y=\"-22.8\" font-family=\"Helvetica,sans-Serif\" font-size=\"14.00\">value = [8045, 0]</text>\n<text text-anchor=\"start\" x=\"1062\" y=\"-7.8\" font-family=\"Helvetica,sans-Serif\" font-size=\"14.00\">class = No Fraudulento</text>\n</g>\n<!-- 19&#45;&gt;20 -->\n<g id=\"edge20\" class=\"edge\">\n<title>19&#45;&gt;20</title>\n<path fill=\"none\" stroke=\"black\" d=\"M1135,-103.73C1135,-95.52 1135,-86.86 1135,-78.56\"/>\n<polygon fill=\"black\" stroke=\"black\" points=\"1138.5,-78.3 1135,-68.3 1131.5,-78.3 1138.5,-78.3\"/>\n</g>\n<!-- 21 -->\n<g id=\"node22\" class=\"node\">\n<title>21</title>\n<path fill=\"#50a8e8\" stroke=\"black\" d=\"M1362,-68C1362,-68 1246,-68 1246,-68 1240,-68 1234,-62 1234,-56 1234,-56 1234,-12 1234,-12 1234,-6 1240,0 1246,0 1246,0 1362,0 1362,0 1368,0 1374,-6 1374,-12 1374,-12 1374,-56 1374,-56 1374,-62 1368,-68 1362,-68\"/>\n<text text-anchor=\"start\" x=\"1254\" y=\"-52.8\" font-family=\"Helvetica,sans-Serif\" font-size=\"14.00\">entropy = 0.477</text>\n<text text-anchor=\"start\" x=\"1256.5\" y=\"-37.8\" font-family=\"Helvetica,sans-Serif\" font-size=\"14.00\">samples = 117</text>\n<text text-anchor=\"start\" x=\"1251\" y=\"-22.8\" font-family=\"Helvetica,sans-Serif\" font-size=\"14.00\">value = [12, 105]</text>\n<text text-anchor=\"start\" x=\"1242\" y=\"-7.8\" font-family=\"Helvetica,sans-Serif\" font-size=\"14.00\">class = Fraudulento</text>\n</g>\n<!-- 19&#45;&gt;21 -->\n<g id=\"edge21\" class=\"edge\">\n<title>19&#45;&gt;21</title>\n<path fill=\"none\" stroke=\"black\" d=\"M1197.93,-103.73C1213.07,-93.92 1229.2,-83.46 1244.19,-73.75\"/>\n<polygon fill=\"black\" stroke=\"black\" points=\"1246.39,-76.5 1252.88,-68.13 1242.58,-70.63 1246.39,-76.5\"/>\n</g>\n<!-- 23 -->\n<g id=\"node24\" class=\"node\">\n<title>23</title>\n<path fill=\"#e99254\" stroke=\"black\" d=\"M2145,-425C2145,-425 1961,-425 1961,-425 1955,-425 1949,-419 1949,-413 1949,-413 1949,-354 1949,-354 1949,-348 1955,-342 1961,-342 1961,-342 2145,-342 2145,-342 2151,-342 2157,-348 2157,-354 2157,-354 2157,-413 2157,-413 2157,-419 2151,-425 2145,-425\"/>\n<text text-anchor=\"start\" x=\"1957\" y=\"-409.8\" font-family=\"Helvetica,sans-Serif\" font-size=\"14.00\">distance_from_home ≤ &#45;0.378</text>\n<text text-anchor=\"start\" x=\"2003\" y=\"-394.8\" font-family=\"Helvetica,sans-Serif\" font-size=\"14.00\">entropy = 0.535</text>\n<text text-anchor=\"start\" x=\"1997\" y=\"-379.8\" font-family=\"Helvetica,sans-Serif\" font-size=\"14.00\">samples = 28990</text>\n<text text-anchor=\"start\" x=\"1983.5\" y=\"-364.8\" font-family=\"Helvetica,sans-Serif\" font-size=\"14.00\">value = [25457, 3533]</text>\n<text text-anchor=\"start\" x=\"1980\" y=\"-349.8\" font-family=\"Helvetica,sans-Serif\" font-size=\"14.00\">class = No Fraudulento</text>\n</g>\n<!-- 22&#45;&gt;23 -->\n<g id=\"edge23\" class=\"edge\">\n<title>22&#45;&gt;23</title>\n<path fill=\"none\" stroke=\"black\" d=\"M2053,-460.91C2053,-452.65 2053,-443.86 2053,-435.3\"/>\n<polygon fill=\"black\" stroke=\"black\" points=\"2056.5,-435.02 2053,-425.02 2049.5,-435.02 2056.5,-435.02\"/>\n</g>\n<!-- 38 -->\n<g id=\"node39\" class=\"node\">\n<title>38</title>\n<path fill=\"#4ea8e8\" stroke=\"black\" d=\"M2626.5,-425C2626.5,-425 2467.5,-425 2467.5,-425 2461.5,-425 2455.5,-419 2455.5,-413 2455.5,-413 2455.5,-354 2455.5,-354 2455.5,-348 2461.5,-342 2467.5,-342 2467.5,-342 2626.5,-342 2626.5,-342 2632.5,-342 2638.5,-348 2638.5,-354 2638.5,-354 2638.5,-413 2638.5,-413 2638.5,-419 2632.5,-425 2626.5,-425\"/>\n<text text-anchor=\"start\" x=\"2463.5\" y=\"-409.8\" font-family=\"Helvetica,sans-Serif\" font-size=\"14.00\">used_pin_number ≤ 1.328</text>\n<text text-anchor=\"start\" x=\"2501\" y=\"-394.8\" font-family=\"Helvetica,sans-Serif\" font-size=\"14.00\">entropy = 0.46</text>\n<text text-anchor=\"start\" x=\"2491\" y=\"-379.8\" font-family=\"Helvetica,sans-Serif\" font-size=\"14.00\">samples = 53575</text>\n<text text-anchor=\"start\" x=\"2477.5\" y=\"-364.8\" font-family=\"Helvetica,sans-Serif\" font-size=\"14.00\">value = [5204, 48371]</text>\n<text text-anchor=\"start\" x=\"2485\" y=\"-349.8\" font-family=\"Helvetica,sans-Serif\" font-size=\"14.00\">class = Fraudulento</text>\n</g>\n<!-- 22&#45;&gt;38 -->\n<g id=\"edge38\" class=\"edge\">\n<title>22&#45;&gt;38</title>\n<path fill=\"none\" stroke=\"black\" d=\"M2134.57,-482.18C2219.71,-462.02 2353.38,-430.36 2445.34,-408.58\"/>\n<polygon fill=\"black\" stroke=\"black\" points=\"2446.3,-411.95 2455.22,-406.24 2444.68,-405.14 2446.3,-411.95\"/>\n</g>\n<!-- 24 -->\n<g id=\"node25\" class=\"node\">\n<title>24</title>\n<path fill=\"#c8e4f8\" stroke=\"black\" d=\"M1972,-306C1972,-306 1850,-306 1850,-306 1844,-306 1838,-300 1838,-294 1838,-294 1838,-235 1838,-235 1838,-229 1844,-223 1850,-223 1850,-223 1972,-223 1972,-223 1978,-223 1984,-229 1984,-235 1984,-235 1984,-294 1984,-294 1984,-300 1978,-306 1972,-306\"/>\n<text text-anchor=\"start\" x=\"1852\" y=\"-290.8\" font-family=\"Helvetica,sans-Serif\" font-size=\"14.00\">used_chip ≤ 0.314</text>\n<text text-anchor=\"start\" x=\"1861\" y=\"-275.8\" font-family=\"Helvetica,sans-Serif\" font-size=\"14.00\">entropy = 0.981</text>\n<text text-anchor=\"start\" x=\"1859.5\" y=\"-260.8\" font-family=\"Helvetica,sans-Serif\" font-size=\"14.00\">samples = 3368</text>\n<text text-anchor=\"start\" x=\"1846\" y=\"-245.8\" font-family=\"Helvetica,sans-Serif\" font-size=\"14.00\">value = [1410, 1958]</text>\n<text text-anchor=\"start\" x=\"1849\" y=\"-230.8\" font-family=\"Helvetica,sans-Serif\" font-size=\"14.00\">class = Fraudulento</text>\n</g>\n<!-- 23&#45;&gt;24 -->\n<g id=\"edge24\" class=\"edge\">\n<title>23&#45;&gt;24</title>\n<path fill=\"none\" stroke=\"black\" d=\"M2003.73,-341.91C1992.28,-332.47 1979.99,-322.34 1968.22,-312.65\"/>\n<polygon fill=\"black\" stroke=\"black\" points=\"1970.12,-309.68 1960.18,-306.02 1965.67,-315.08 1970.12,-309.68\"/>\n</g>\n<!-- 31 -->\n<g id=\"node32\" class=\"node\">\n<title>31</title>\n<path fill=\"#e78946\" stroke=\"black\" d=\"M2303.5,-306C2303.5,-306 2124.5,-306 2124.5,-306 2118.5,-306 2112.5,-300 2112.5,-294 2112.5,-294 2112.5,-235 2112.5,-235 2112.5,-229 2118.5,-223 2124.5,-223 2124.5,-223 2303.5,-223 2303.5,-223 2309.5,-223 2315.5,-229 2315.5,-235 2315.5,-235 2315.5,-294 2315.5,-294 2315.5,-300 2309.5,-306 2303.5,-306\"/>\n<text text-anchor=\"start\" x=\"2120.5\" y=\"-290.8\" font-family=\"Helvetica,sans-Serif\" font-size=\"14.00\">distance_from_home ≤ 1.123</text>\n<text text-anchor=\"start\" x=\"2164\" y=\"-275.8\" font-family=\"Helvetica,sans-Serif\" font-size=\"14.00\">entropy = 0.333</text>\n<text text-anchor=\"start\" x=\"2158\" y=\"-260.8\" font-family=\"Helvetica,sans-Serif\" font-size=\"14.00\">samples = 25622</text>\n<text text-anchor=\"start\" x=\"2144.5\" y=\"-245.8\" font-family=\"Helvetica,sans-Serif\" font-size=\"14.00\">value = [24047, 1575]</text>\n<text text-anchor=\"start\" x=\"2141\" y=\"-230.8\" font-family=\"Helvetica,sans-Serif\" font-size=\"14.00\">class = No Fraudulento</text>\n</g>\n<!-- 23&#45;&gt;31 -->\n<g id=\"edge31\" class=\"edge\">\n<title>23&#45;&gt;31</title>\n<path fill=\"none\" stroke=\"black\" d=\"M2108.86,-341.91C2122.1,-332.29 2136.32,-321.95 2149.89,-312.09\"/>\n<polygon fill=\"black\" stroke=\"black\" points=\"2152.21,-314.73 2158.24,-306.02 2148.09,-309.07 2152.21,-314.73\"/>\n</g>\n<!-- 25 -->\n<g id=\"node26\" class=\"node\">\n<title>25</title>\n<path fill=\"#4fa8e8\" stroke=\"black\" d=\"M1710.5,-187C1710.5,-187 1551.5,-187 1551.5,-187 1545.5,-187 1539.5,-181 1539.5,-175 1539.5,-175 1539.5,-116 1539.5,-116 1539.5,-110 1545.5,-104 1551.5,-104 1551.5,-104 1710.5,-104 1710.5,-104 1716.5,-104 1722.5,-110 1722.5,-116 1722.5,-116 1722.5,-175 1722.5,-175 1722.5,-181 1716.5,-187 1710.5,-187\"/>\n<text text-anchor=\"start\" x=\"1547.5\" y=\"-171.8\" font-family=\"Helvetica,sans-Serif\" font-size=\"14.00\">used_pin_number ≤ 1.328</text>\n<text text-anchor=\"start\" x=\"1581\" y=\"-156.8\" font-family=\"Helvetica,sans-Serif\" font-size=\"14.00\">entropy = 0.475</text>\n<text text-anchor=\"start\" x=\"1579.5\" y=\"-141.8\" font-family=\"Helvetica,sans-Serif\" font-size=\"14.00\">samples = 2166</text>\n<text text-anchor=\"start\" x=\"1570\" y=\"-126.8\" font-family=\"Helvetica,sans-Serif\" font-size=\"14.00\">value = [221, 1945]</text>\n<text text-anchor=\"start\" x=\"1569\" y=\"-111.8\" font-family=\"Helvetica,sans-Serif\" font-size=\"14.00\">class = Fraudulento</text>\n</g>\n<!-- 24&#45;&gt;25 -->\n<g id=\"edge25\" class=\"edge\">\n<title>24&#45;&gt;25</title>\n<path fill=\"none\" stroke=\"black\" d=\"M1837.8,-232.91C1805.45,-219.39 1766.88,-203.28 1731.86,-188.65\"/>\n<polygon fill=\"black\" stroke=\"black\" points=\"1733.15,-185.39 1722.57,-184.76 1730.45,-191.85 1733.15,-185.39\"/>\n</g>\n<!-- 28 -->\n<g id=\"node29\" class=\"node\">\n<title>28</title>\n<path fill=\"#e5823b\" stroke=\"black\" d=\"M2032,-187C2032,-187 1790,-187 1790,-187 1784,-187 1778,-181 1778,-175 1778,-175 1778,-116 1778,-116 1778,-110 1784,-104 1790,-104 1790,-104 2032,-104 2032,-104 2038,-104 2044,-110 2044,-116 2044,-116 2044,-175 2044,-175 2044,-181 2038,-187 2032,-187\"/>\n<text text-anchor=\"start\" x=\"1786\" y=\"-171.8\" font-family=\"Helvetica,sans-Serif\" font-size=\"14.00\">distance_from_last_transaction ≤ 1.723</text>\n<text text-anchor=\"start\" x=\"1861\" y=\"-156.8\" font-family=\"Helvetica,sans-Serif\" font-size=\"14.00\">entropy = 0.086</text>\n<text text-anchor=\"start\" x=\"1859.5\" y=\"-141.8\" font-family=\"Helvetica,sans-Serif\" font-size=\"14.00\">samples = 1202</text>\n<text text-anchor=\"start\" x=\"1854\" y=\"-126.8\" font-family=\"Helvetica,sans-Serif\" font-size=\"14.00\">value = [1189, 13]</text>\n<text text-anchor=\"start\" x=\"1838\" y=\"-111.8\" font-family=\"Helvetica,sans-Serif\" font-size=\"14.00\">class = No Fraudulento</text>\n</g>\n<!-- 24&#45;&gt;28 -->\n<g id=\"edge28\" class=\"edge\">\n<title>24&#45;&gt;28</title>\n<path fill=\"none\" stroke=\"black\" d=\"M1911,-222.91C1911,-214.65 1911,-205.86 1911,-197.3\"/>\n<polygon fill=\"black\" stroke=\"black\" points=\"1914.5,-197.02 1911,-187.02 1907.5,-197.02 1914.5,-197.02\"/>\n</g>\n<!-- 26 -->\n<g id=\"node27\" class=\"node\">\n<title>26</title>\n<path fill=\"#399de5\" stroke=\"black\" d=\"M1520,-68C1520,-68 1404,-68 1404,-68 1398,-68 1392,-62 1392,-56 1392,-56 1392,-12 1392,-12 1392,-6 1398,0 1404,0 1404,0 1520,0 1520,0 1526,0 1532,-6 1532,-12 1532,-12 1532,-56 1532,-56 1532,-62 1526,-68 1520,-68\"/>\n<text text-anchor=\"start\" x=\"1420\" y=\"-52.8\" font-family=\"Helvetica,sans-Serif\" font-size=\"14.00\">entropy = 0.0</text>\n<text text-anchor=\"start\" x=\"1410.5\" y=\"-37.8\" font-family=\"Helvetica,sans-Serif\" font-size=\"14.00\">samples = 1945</text>\n<text text-anchor=\"start\" x=\"1409\" y=\"-22.8\" font-family=\"Helvetica,sans-Serif\" font-size=\"14.00\">value = [0, 1945]</text>\n<text text-anchor=\"start\" x=\"1400\" y=\"-7.8\" font-family=\"Helvetica,sans-Serif\" font-size=\"14.00\">class = Fraudulento</text>\n</g>\n<!-- 25&#45;&gt;26 -->\n<g id=\"edge26\" class=\"edge\">\n<title>25&#45;&gt;26</title>\n<path fill=\"none\" stroke=\"black\" d=\"M1568.07,-103.73C1552.93,-93.92 1536.8,-83.46 1521.81,-73.75\"/>\n<polygon fill=\"black\" stroke=\"black\" points=\"1523.42,-70.63 1513.12,-68.13 1519.61,-76.5 1523.42,-70.63\"/>\n</g>\n<!-- 27 -->\n<g id=\"node28\" class=\"node\">\n<title>27</title>\n<path fill=\"#e58139\" stroke=\"black\" d=\"M1700,-68C1700,-68 1562,-68 1562,-68 1556,-68 1550,-62 1550,-56 1550,-56 1550,-12 1550,-12 1550,-6 1556,0 1562,0 1562,0 1700,0 1700,0 1706,0 1712,-6 1712,-12 1712,-12 1712,-56 1712,-56 1712,-62 1706,-68 1700,-68\"/>\n<text text-anchor=\"start\" x=\"1589\" y=\"-52.8\" font-family=\"Helvetica,sans-Serif\" font-size=\"14.00\">entropy = 0.0</text>\n<text text-anchor=\"start\" x=\"1583.5\" y=\"-37.8\" font-family=\"Helvetica,sans-Serif\" font-size=\"14.00\">samples = 221</text>\n<text text-anchor=\"start\" x=\"1582.5\" y=\"-22.8\" font-family=\"Helvetica,sans-Serif\" font-size=\"14.00\">value = [221, 0]</text>\n<text text-anchor=\"start\" x=\"1558\" y=\"-7.8\" font-family=\"Helvetica,sans-Serif\" font-size=\"14.00\">class = No Fraudulento</text>\n</g>\n<!-- 25&#45;&gt;27 -->\n<g id=\"edge27\" class=\"edge\">\n<title>25&#45;&gt;27</title>\n<path fill=\"none\" stroke=\"black\" d=\"M1631,-103.73C1631,-95.52 1631,-86.86 1631,-78.56\"/>\n<polygon fill=\"black\" stroke=\"black\" points=\"1634.5,-78.3 1631,-68.3 1627.5,-78.3 1634.5,-78.3\"/>\n</g>\n<!-- 29 -->\n<g id=\"node30\" class=\"node\">\n<title>29</title>\n<path fill=\"#e58139\" stroke=\"black\" d=\"M1880,-68C1880,-68 1742,-68 1742,-68 1736,-68 1730,-62 1730,-56 1730,-56 1730,-12 1730,-12 1730,-6 1736,0 1742,0 1742,0 1880,0 1880,0 1886,0 1892,-6 1892,-12 1892,-12 1892,-56 1892,-56 1892,-62 1886,-68 1880,-68\"/>\n<text text-anchor=\"start\" x=\"1769\" y=\"-52.8\" font-family=\"Helvetica,sans-Serif\" font-size=\"14.00\">entropy = 0.0</text>\n<text text-anchor=\"start\" x=\"1759.5\" y=\"-37.8\" font-family=\"Helvetica,sans-Serif\" font-size=\"14.00\">samples = 1186</text>\n<text text-anchor=\"start\" x=\"1758\" y=\"-22.8\" font-family=\"Helvetica,sans-Serif\" font-size=\"14.00\">value = [1186, 0]</text>\n<text text-anchor=\"start\" x=\"1738\" y=\"-7.8\" font-family=\"Helvetica,sans-Serif\" font-size=\"14.00\">class = No Fraudulento</text>\n</g>\n<!-- 28&#45;&gt;29 -->\n<g id=\"edge29\" class=\"edge\">\n<title>28&#45;&gt;29</title>\n<path fill=\"none\" stroke=\"black\" d=\"M1873.76,-103.73C1865.43,-94.61 1856.6,-84.93 1848.27,-75.81\"/>\n<polygon fill=\"black\" stroke=\"black\" points=\"1850.74,-73.32 1841.41,-68.3 1845.57,-78.04 1850.74,-73.32\"/>\n</g>\n<!-- 30 -->\n<g id=\"node31\" class=\"node\">\n<title>30</title>\n<path fill=\"#67b4eb\" stroke=\"black\" d=\"M2038,-68C2038,-68 1922,-68 1922,-68 1916,-68 1910,-62 1910,-56 1910,-56 1910,-12 1910,-12 1910,-6 1916,0 1922,0 1922,0 2038,0 2038,0 2044,0 2050,-6 2050,-12 2050,-12 2050,-56 2050,-56 2050,-62 2044,-68 2038,-68\"/>\n<text text-anchor=\"start\" x=\"1930\" y=\"-52.8\" font-family=\"Helvetica,sans-Serif\" font-size=\"14.00\">entropy = 0.696</text>\n<text text-anchor=\"start\" x=\"1936.5\" y=\"-37.8\" font-family=\"Helvetica,sans-Serif\" font-size=\"14.00\">samples = 16</text>\n<text text-anchor=\"start\" x=\"1935.5\" y=\"-22.8\" font-family=\"Helvetica,sans-Serif\" font-size=\"14.00\">value = [3, 13]</text>\n<text text-anchor=\"start\" x=\"1918\" y=\"-7.8\" font-family=\"Helvetica,sans-Serif\" font-size=\"14.00\">class = Fraudulento</text>\n</g>\n<!-- 28&#45;&gt;30 -->\n<g id=\"edge30\" class=\"edge\">\n<title>28&#45;&gt;30</title>\n<path fill=\"none\" stroke=\"black\" d=\"M1936.69,-103.73C1942.21,-94.97 1948.05,-85.7 1953.59,-76.91\"/>\n<polygon fill=\"black\" stroke=\"black\" points=\"1956.65,-78.63 1959.02,-68.3 1950.72,-74.89 1956.65,-78.63\"/>\n</g>\n<!-- 32 -->\n<g id=\"node33\" class=\"node\">\n<title>32</title>\n<path fill=\"#e5833c\" stroke=\"black\" d=\"M2335,-187C2335,-187 2093,-187 2093,-187 2087,-187 2081,-181 2081,-175 2081,-175 2081,-116 2081,-116 2081,-110 2087,-104 2093,-104 2093,-104 2335,-104 2335,-104 2341,-104 2347,-110 2347,-116 2347,-116 2347,-175 2347,-175 2347,-181 2341,-187 2335,-187\"/>\n<text text-anchor=\"start\" x=\"2089\" y=\"-171.8\" font-family=\"Helvetica,sans-Serif\" font-size=\"14.00\">distance_from_last_transaction ≤ 1.741</text>\n<text text-anchor=\"start\" x=\"2172\" y=\"-156.8\" font-family=\"Helvetica,sans-Serif\" font-size=\"14.00\">entropy = 0.1</text>\n<text text-anchor=\"start\" x=\"2158\" y=\"-141.8\" font-family=\"Helvetica,sans-Serif\" font-size=\"14.00\">samples = 24220</text>\n<text text-anchor=\"start\" x=\"2149\" y=\"-126.8\" font-family=\"Helvetica,sans-Serif\" font-size=\"14.00\">value = [23906, 314]</text>\n<text text-anchor=\"start\" x=\"2141\" y=\"-111.8\" font-family=\"Helvetica,sans-Serif\" font-size=\"14.00\">class = No Fraudulento</text>\n</g>\n<!-- 31&#45;&gt;32 -->\n<g id=\"edge32\" class=\"edge\">\n<title>31&#45;&gt;32</title>\n<path fill=\"none\" stroke=\"black\" d=\"M2214,-222.91C2214,-214.65 2214,-205.86 2214,-197.3\"/>\n<polygon fill=\"black\" stroke=\"black\" points=\"2217.5,-197.02 2214,-187.02 2210.5,-197.02 2217.5,-197.02\"/>\n</g>\n<!-- 35 -->\n<g id=\"node36\" class=\"node\">\n<title>35</title>\n<path fill=\"#4fa8e8\" stroke=\"black\" d=\"M2555.5,-187C2555.5,-187 2396.5,-187 2396.5,-187 2390.5,-187 2384.5,-181 2384.5,-175 2384.5,-175 2384.5,-116 2384.5,-116 2384.5,-110 2390.5,-104 2396.5,-104 2396.5,-104 2555.5,-104 2555.5,-104 2561.5,-104 2567.5,-110 2567.5,-116 2567.5,-116 2567.5,-175 2567.5,-175 2567.5,-181 2561.5,-187 2555.5,-187\"/>\n<text text-anchor=\"start\" x=\"2392.5\" y=\"-171.8\" font-family=\"Helvetica,sans-Serif\" font-size=\"14.00\">used_pin_number ≤ 1.328</text>\n<text text-anchor=\"start\" x=\"2426\" y=\"-156.8\" font-family=\"Helvetica,sans-Serif\" font-size=\"14.00\">entropy = 0.471</text>\n<text text-anchor=\"start\" x=\"2424.5\" y=\"-141.8\" font-family=\"Helvetica,sans-Serif\" font-size=\"14.00\">samples = 1402</text>\n<text text-anchor=\"start\" x=\"2415\" y=\"-126.8\" font-family=\"Helvetica,sans-Serif\" font-size=\"14.00\">value = [141, 1261]</text>\n<text text-anchor=\"start\" x=\"2414\" y=\"-111.8\" font-family=\"Helvetica,sans-Serif\" font-size=\"14.00\">class = Fraudulento</text>\n</g>\n<!-- 31&#45;&gt;35 -->\n<g id=\"edge35\" class=\"edge\">\n<title>31&#45;&gt;35</title>\n<path fill=\"none\" stroke=\"black\" d=\"M2304.9,-222.91C2327.86,-212.65 2352.65,-201.59 2376.03,-191.14\"/>\n<polygon fill=\"black\" stroke=\"black\" points=\"2377.56,-194.29 2385.26,-187.02 2374.7,-187.9 2377.56,-194.29\"/>\n</g>\n<!-- 33 -->\n<g id=\"node34\" class=\"node\">\n<title>33</title>\n<path fill=\"#e58139\" stroke=\"black\" d=\"M2218,-68C2218,-68 2080,-68 2080,-68 2074,-68 2068,-62 2068,-56 2068,-56 2068,-12 2068,-12 2068,-6 2074,0 2080,0 2080,0 2218,0 2218,0 2224,0 2230,-6 2230,-12 2230,-12 2230,-56 2230,-56 2230,-62 2224,-68 2218,-68\"/>\n<text text-anchor=\"start\" x=\"2107\" y=\"-52.8\" font-family=\"Helvetica,sans-Serif\" font-size=\"14.00\">entropy = 0.0</text>\n<text text-anchor=\"start\" x=\"2093\" y=\"-37.8\" font-family=\"Helvetica,sans-Serif\" font-size=\"14.00\">samples = 23875</text>\n<text text-anchor=\"start\" x=\"2092\" y=\"-22.8\" font-family=\"Helvetica,sans-Serif\" font-size=\"14.00\">value = [23875, 0]</text>\n<text text-anchor=\"start\" x=\"2076\" y=\"-7.8\" font-family=\"Helvetica,sans-Serif\" font-size=\"14.00\">class = No Fraudulento</text>\n</g>\n<!-- 32&#45;&gt;33 -->\n<g id=\"edge33\" class=\"edge\">\n<title>32&#45;&gt;33</title>\n<path fill=\"none\" stroke=\"black\" d=\"M2189.8,-103.73C2184.6,-94.97 2179.1,-85.7 2173.88,-76.91\"/>\n<polygon fill=\"black\" stroke=\"black\" points=\"2176.88,-75.11 2168.77,-68.3 2170.86,-78.69 2176.88,-75.11\"/>\n</g>\n<!-- 34 -->\n<g id=\"node35\" class=\"node\">\n<title>34</title>\n<path fill=\"#4da7e8\" stroke=\"black\" d=\"M2376,-68C2376,-68 2260,-68 2260,-68 2254,-68 2248,-62 2248,-56 2248,-56 2248,-12 2248,-12 2248,-6 2254,0 2260,0 2260,0 2376,0 2376,0 2382,0 2388,-6 2388,-12 2388,-12 2388,-56 2388,-56 2388,-62 2382,-68 2376,-68\"/>\n<text text-anchor=\"start\" x=\"2268\" y=\"-52.8\" font-family=\"Helvetica,sans-Serif\" font-size=\"14.00\">entropy = 0.436</text>\n<text text-anchor=\"start\" x=\"2270.5\" y=\"-37.8\" font-family=\"Helvetica,sans-Serif\" font-size=\"14.00\">samples = 345</text>\n<text text-anchor=\"start\" x=\"2265\" y=\"-22.8\" font-family=\"Helvetica,sans-Serif\" font-size=\"14.00\">value = [31, 314]</text>\n<text text-anchor=\"start\" x=\"2256\" y=\"-7.8\" font-family=\"Helvetica,sans-Serif\" font-size=\"14.00\">class = Fraudulento</text>\n</g>\n<!-- 32&#45;&gt;34 -->\n<g id=\"edge34\" class=\"edge\">\n<title>32&#45;&gt;34</title>\n<path fill=\"none\" stroke=\"black\" d=\"M2252.73,-103.73C2261.39,-94.61 2270.58,-84.93 2279.24,-75.81\"/>\n<polygon fill=\"black\" stroke=\"black\" points=\"2282.02,-77.96 2286.37,-68.3 2276.95,-73.14 2282.02,-77.96\"/>\n</g>\n<!-- 36 -->\n<g id=\"node37\" class=\"node\">\n<title>36</title>\n<path fill=\"#399de5\" stroke=\"black\" d=\"M2534,-68C2534,-68 2418,-68 2418,-68 2412,-68 2406,-62 2406,-56 2406,-56 2406,-12 2406,-12 2406,-6 2412,0 2418,0 2418,0 2534,0 2534,0 2540,0 2546,-6 2546,-12 2546,-12 2546,-56 2546,-56 2546,-62 2540,-68 2534,-68\"/>\n<text text-anchor=\"start\" x=\"2434\" y=\"-52.8\" font-family=\"Helvetica,sans-Serif\" font-size=\"14.00\">entropy = 0.0</text>\n<text text-anchor=\"start\" x=\"2424.5\" y=\"-37.8\" font-family=\"Helvetica,sans-Serif\" font-size=\"14.00\">samples = 1261</text>\n<text text-anchor=\"start\" x=\"2423\" y=\"-22.8\" font-family=\"Helvetica,sans-Serif\" font-size=\"14.00\">value = [0, 1261]</text>\n<text text-anchor=\"start\" x=\"2414\" y=\"-7.8\" font-family=\"Helvetica,sans-Serif\" font-size=\"14.00\">class = Fraudulento</text>\n</g>\n<!-- 35&#45;&gt;36 -->\n<g id=\"edge36\" class=\"edge\">\n<title>35&#45;&gt;36</title>\n<path fill=\"none\" stroke=\"black\" d=\"M2476,-103.73C2476,-95.52 2476,-86.86 2476,-78.56\"/>\n<polygon fill=\"black\" stroke=\"black\" points=\"2479.5,-78.3 2476,-68.3 2472.5,-78.3 2479.5,-78.3\"/>\n</g>\n<!-- 37 -->\n<g id=\"node38\" class=\"node\">\n<title>37</title>\n<path fill=\"#e58139\" stroke=\"black\" d=\"M2714,-68C2714,-68 2576,-68 2576,-68 2570,-68 2564,-62 2564,-56 2564,-56 2564,-12 2564,-12 2564,-6 2570,0 2576,0 2576,0 2714,0 2714,0 2720,0 2726,-6 2726,-12 2726,-12 2726,-56 2726,-56 2726,-62 2720,-68 2714,-68\"/>\n<text text-anchor=\"start\" x=\"2603\" y=\"-52.8\" font-family=\"Helvetica,sans-Serif\" font-size=\"14.00\">entropy = 0.0</text>\n<text text-anchor=\"start\" x=\"2597.5\" y=\"-37.8\" font-family=\"Helvetica,sans-Serif\" font-size=\"14.00\">samples = 141</text>\n<text text-anchor=\"start\" x=\"2596.5\" y=\"-22.8\" font-family=\"Helvetica,sans-Serif\" font-size=\"14.00\">value = [141, 0]</text>\n<text text-anchor=\"start\" x=\"2572\" y=\"-7.8\" font-family=\"Helvetica,sans-Serif\" font-size=\"14.00\">class = No Fraudulento</text>\n</g>\n<!-- 35&#45;&gt;37 -->\n<g id=\"edge37\" class=\"edge\">\n<title>35&#45;&gt;37</title>\n<path fill=\"none\" stroke=\"black\" d=\"M2538.93,-103.73C2554.07,-93.92 2570.2,-83.46 2585.19,-73.75\"/>\n<polygon fill=\"black\" stroke=\"black\" points=\"2587.39,-76.5 2593.88,-68.13 2583.58,-70.63 2587.39,-76.5\"/>\n</g>\n<!-- 39 -->\n<g id=\"node40\" class=\"node\">\n<title>39</title>\n<path fill=\"#399de5\" stroke=\"black\" d=\"M2605,-298.5C2605,-298.5 2489,-298.5 2489,-298.5 2483,-298.5 2477,-292.5 2477,-286.5 2477,-286.5 2477,-242.5 2477,-242.5 2477,-236.5 2483,-230.5 2489,-230.5 2489,-230.5 2605,-230.5 2605,-230.5 2611,-230.5 2617,-236.5 2617,-242.5 2617,-242.5 2617,-286.5 2617,-286.5 2617,-292.5 2611,-298.5 2605,-298.5\"/>\n<text text-anchor=\"start\" x=\"2505\" y=\"-283.3\" font-family=\"Helvetica,sans-Serif\" font-size=\"14.00\">entropy = 0.0</text>\n<text text-anchor=\"start\" x=\"2491\" y=\"-268.3\" font-family=\"Helvetica,sans-Serif\" font-size=\"14.00\">samples = 48168</text>\n<text text-anchor=\"start\" x=\"2490\" y=\"-253.3\" font-family=\"Helvetica,sans-Serif\" font-size=\"14.00\">value = [0, 48168]</text>\n<text text-anchor=\"start\" x=\"2485\" y=\"-238.3\" font-family=\"Helvetica,sans-Serif\" font-size=\"14.00\">class = Fraudulento</text>\n</g>\n<!-- 38&#45;&gt;39 -->\n<g id=\"edge39\" class=\"edge\">\n<title>38&#45;&gt;39</title>\n<path fill=\"none\" stroke=\"black\" d=\"M2547,-341.91C2547,-331.2 2547,-319.62 2547,-308.78\"/>\n<polygon fill=\"black\" stroke=\"black\" points=\"2550.5,-308.67 2547,-298.67 2543.5,-308.67 2550.5,-308.67\"/>\n</g>\n<!-- 40 -->\n<g id=\"node41\" class=\"node\">\n<title>40</title>\n<path fill=\"#e68641\" stroke=\"black\" d=\"M2967.5,-306C2967.5,-306 2788.5,-306 2788.5,-306 2782.5,-306 2776.5,-300 2776.5,-294 2776.5,-294 2776.5,-235 2776.5,-235 2776.5,-229 2782.5,-223 2788.5,-223 2788.5,-223 2967.5,-223 2967.5,-223 2973.5,-223 2979.5,-229 2979.5,-235 2979.5,-235 2979.5,-294 2979.5,-294 2979.5,-300 2973.5,-306 2967.5,-306\"/>\n<text text-anchor=\"start\" x=\"2784.5\" y=\"-290.8\" font-family=\"Helvetica,sans-Serif\" font-size=\"14.00\">distance_from_home ≤ 1.127</text>\n<text text-anchor=\"start\" x=\"2828\" y=\"-275.8\" font-family=\"Helvetica,sans-Serif\" font-size=\"14.00\">entropy = 0.231</text>\n<text text-anchor=\"start\" x=\"2826.5\" y=\"-260.8\" font-family=\"Helvetica,sans-Serif\" font-size=\"14.00\">samples = 5407</text>\n<text text-anchor=\"start\" x=\"2817\" y=\"-245.8\" font-family=\"Helvetica,sans-Serif\" font-size=\"14.00\">value = [5204, 203]</text>\n<text text-anchor=\"start\" x=\"2805\" y=\"-230.8\" font-family=\"Helvetica,sans-Serif\" font-size=\"14.00\">class = No Fraudulento</text>\n</g>\n<!-- 38&#45;&gt;40 -->\n<g id=\"edge40\" class=\"edge\">\n<title>38&#45;&gt;40</title>\n<path fill=\"none\" stroke=\"black\" d=\"M2638.76,-350.06C2678.43,-336.04 2725.21,-319.51 2766.83,-304.8\"/>\n<polygon fill=\"black\" stroke=\"black\" points=\"2768.19,-308.03 2776.46,-301.39 2765.86,-301.43 2768.19,-308.03\"/>\n</g>\n<!-- 41 -->\n<g id=\"node42\" class=\"node\">\n<title>41</title>\n<path fill=\"#e5823b\" stroke=\"black\" d=\"M2999,-187C2999,-187 2757,-187 2757,-187 2751,-187 2745,-181 2745,-175 2745,-175 2745,-116 2745,-116 2745,-110 2751,-104 2757,-104 2757,-104 2999,-104 2999,-104 3005,-104 3011,-110 3011,-116 3011,-116 3011,-175 3011,-175 3011,-181 3005,-187 2999,-187\"/>\n<text text-anchor=\"start\" x=\"2753\" y=\"-171.8\" font-family=\"Helvetica,sans-Serif\" font-size=\"14.00\">distance_from_last_transaction ≤ 1.843</text>\n<text text-anchor=\"start\" x=\"2828\" y=\"-156.8\" font-family=\"Helvetica,sans-Serif\" font-size=\"14.00\">entropy = 0.082</text>\n<text text-anchor=\"start\" x=\"2826.5\" y=\"-141.8\" font-family=\"Helvetica,sans-Serif\" font-size=\"14.00\">samples = 5168</text>\n<text text-anchor=\"start\" x=\"2821\" y=\"-126.8\" font-family=\"Helvetica,sans-Serif\" font-size=\"14.00\">value = [5115, 53]</text>\n<text text-anchor=\"start\" x=\"2805\" y=\"-111.8\" font-family=\"Helvetica,sans-Serif\" font-size=\"14.00\">class = No Fraudulento</text>\n</g>\n<!-- 40&#45;&gt;41 -->\n<g id=\"edge41\" class=\"edge\">\n<title>40&#45;&gt;41</title>\n<path fill=\"none\" stroke=\"black\" d=\"M2878,-222.91C2878,-214.65 2878,-205.86 2878,-197.3\"/>\n<polygon fill=\"black\" stroke=\"black\" points=\"2881.5,-197.02 2878,-187.02 2874.5,-197.02 2881.5,-197.02\"/>\n</g>\n<!-- 44 -->\n<g id=\"node45\" class=\"node\">\n<title>44</title>\n<path fill=\"#aed7f4\" stroke=\"black\" d=\"M3210,-187C3210,-187 3094,-187 3094,-187 3088,-187 3082,-181 3082,-175 3082,-175 3082,-116 3082,-116 3082,-110 3088,-104 3094,-104 3094,-104 3210,-104 3210,-104 3216,-104 3222,-110 3222,-116 3222,-116 3222,-175 3222,-175 3222,-181 3216,-187 3210,-187\"/>\n<text text-anchor=\"start\" x=\"3093\" y=\"-171.8\" font-family=\"Helvetica,sans-Serif\" font-size=\"14.00\">used_chip ≤ 0.314</text>\n<text text-anchor=\"start\" x=\"3102\" y=\"-156.8\" font-family=\"Helvetica,sans-Serif\" font-size=\"14.00\">entropy = 0.952</text>\n<text text-anchor=\"start\" x=\"3104.5\" y=\"-141.8\" font-family=\"Helvetica,sans-Serif\" font-size=\"14.00\">samples = 239</text>\n<text text-anchor=\"start\" x=\"3099\" y=\"-126.8\" font-family=\"Helvetica,sans-Serif\" font-size=\"14.00\">value = [89, 150]</text>\n<text text-anchor=\"start\" x=\"3090\" y=\"-111.8\" font-family=\"Helvetica,sans-Serif\" font-size=\"14.00\">class = Fraudulento</text>\n</g>\n<!-- 40&#45;&gt;44 -->\n<g id=\"edge44\" class=\"edge\">\n<title>40&#45;&gt;44</title>\n<path fill=\"none\" stroke=\"black\" d=\"M2973.06,-222.91C3005.42,-209.09 3041.23,-193.8 3072.26,-180.55\"/>\n<polygon fill=\"black\" stroke=\"black\" points=\"3073.91,-183.65 3081.73,-176.51 3071.16,-177.21 3073.91,-183.65\"/>\n</g>\n<!-- 42 -->\n<g id=\"node43\" class=\"node\">\n<title>42</title>\n<path fill=\"#e58139\" stroke=\"black\" d=\"M2894,-68C2894,-68 2756,-68 2756,-68 2750,-68 2744,-62 2744,-56 2744,-56 2744,-12 2744,-12 2744,-6 2750,0 2756,0 2756,0 2894,0 2894,0 2900,0 2906,-6 2906,-12 2906,-12 2906,-56 2906,-56 2906,-62 2900,-68 2894,-68\"/>\n<text text-anchor=\"start\" x=\"2783\" y=\"-52.8\" font-family=\"Helvetica,sans-Serif\" font-size=\"14.00\">entropy = 0.0</text>\n<text text-anchor=\"start\" x=\"2773.5\" y=\"-37.8\" font-family=\"Helvetica,sans-Serif\" font-size=\"14.00\">samples = 5094</text>\n<text text-anchor=\"start\" x=\"2772\" y=\"-22.8\" font-family=\"Helvetica,sans-Serif\" font-size=\"14.00\">value = [5094, 0]</text>\n<text text-anchor=\"start\" x=\"2752\" y=\"-7.8\" font-family=\"Helvetica,sans-Serif\" font-size=\"14.00\">class = No Fraudulento</text>\n</g>\n<!-- 41&#45;&gt;42 -->\n<g id=\"edge42\" class=\"edge\">\n<title>41&#45;&gt;42</title>\n<path fill=\"none\" stroke=\"black\" d=\"M2858.26,-103.73C2854.11,-95.15 2849.73,-86.09 2845.55,-77.46\"/>\n<polygon fill=\"black\" stroke=\"black\" points=\"2848.62,-75.78 2841.12,-68.3 2842.32,-78.83 2848.62,-75.78\"/>\n</g>\n<!-- 43 -->\n<g id=\"node44\" class=\"node\">\n<title>43</title>\n<path fill=\"#87c4ef\" stroke=\"black\" d=\"M3052,-68C3052,-68 2936,-68 2936,-68 2930,-68 2924,-62 2924,-56 2924,-56 2924,-12 2924,-12 2924,-6 2930,0 2936,0 2936,0 3052,0 3052,0 3058,0 3064,-6 3064,-12 3064,-12 3064,-56 3064,-56 3064,-62 3058,-68 3052,-68\"/>\n<text text-anchor=\"start\" x=\"2944\" y=\"-52.8\" font-family=\"Helvetica,sans-Serif\" font-size=\"14.00\">entropy = 0.861</text>\n<text text-anchor=\"start\" x=\"2950.5\" y=\"-37.8\" font-family=\"Helvetica,sans-Serif\" font-size=\"14.00\">samples = 74</text>\n<text text-anchor=\"start\" x=\"2945.5\" y=\"-22.8\" font-family=\"Helvetica,sans-Serif\" font-size=\"14.00\">value = [21, 53]</text>\n<text text-anchor=\"start\" x=\"2932\" y=\"-7.8\" font-family=\"Helvetica,sans-Serif\" font-size=\"14.00\">class = Fraudulento</text>\n</g>\n<!-- 41&#45;&gt;43 -->\n<g id=\"edge43\" class=\"edge\">\n<title>41&#45;&gt;43</title>\n<path fill=\"none\" stroke=\"black\" d=\"M2921.19,-103.73C2931.05,-94.42 2941.52,-84.54 2951.35,-75.26\"/>\n<polygon fill=\"black\" stroke=\"black\" points=\"2953.85,-77.71 2958.72,-68.3 2949.05,-72.62 2953.85,-77.71\"/>\n</g>\n<!-- 45 -->\n<g id=\"node46\" class=\"node\">\n<title>45</title>\n<path fill=\"#399de5\" stroke=\"black\" d=\"M3210,-68C3210,-68 3094,-68 3094,-68 3088,-68 3082,-62 3082,-56 3082,-56 3082,-12 3082,-12 3082,-6 3088,0 3094,0 3094,0 3210,0 3210,0 3216,0 3222,-6 3222,-12 3222,-12 3222,-56 3222,-56 3222,-62 3216,-68 3210,-68\"/>\n<text text-anchor=\"start\" x=\"3110\" y=\"-52.8\" font-family=\"Helvetica,sans-Serif\" font-size=\"14.00\">entropy = 0.0</text>\n<text text-anchor=\"start\" x=\"3104.5\" y=\"-37.8\" font-family=\"Helvetica,sans-Serif\" font-size=\"14.00\">samples = 148</text>\n<text text-anchor=\"start\" x=\"3103.5\" y=\"-22.8\" font-family=\"Helvetica,sans-Serif\" font-size=\"14.00\">value = [0, 148]</text>\n<text text-anchor=\"start\" x=\"3090\" y=\"-7.8\" font-family=\"Helvetica,sans-Serif\" font-size=\"14.00\">class = Fraudulento</text>\n</g>\n<!-- 44&#45;&gt;45 -->\n<g id=\"edge45\" class=\"edge\">\n<title>44&#45;&gt;45</title>\n<path fill=\"none\" stroke=\"black\" d=\"M3152,-103.73C3152,-95.52 3152,-86.86 3152,-78.56\"/>\n<polygon fill=\"black\" stroke=\"black\" points=\"3155.5,-78.3 3152,-68.3 3148.5,-78.3 3155.5,-78.3\"/>\n</g>\n<!-- 46 -->\n<g id=\"node47\" class=\"node\">\n<title>46</title>\n<path fill=\"#e6843d\" stroke=\"black\" d=\"M3390,-68C3390,-68 3252,-68 3252,-68 3246,-68 3240,-62 3240,-56 3240,-56 3240,-12 3240,-12 3240,-6 3246,0 3252,0 3252,0 3390,0 3390,0 3396,0 3402,-6 3402,-12 3402,-12 3402,-56 3402,-56 3402,-62 3396,-68 3390,-68\"/>\n<text text-anchor=\"start\" x=\"3271\" y=\"-52.8\" font-family=\"Helvetica,sans-Serif\" font-size=\"14.00\">entropy = 0.152</text>\n<text text-anchor=\"start\" x=\"3277.5\" y=\"-37.8\" font-family=\"Helvetica,sans-Serif\" font-size=\"14.00\">samples = 91</text>\n<text text-anchor=\"start\" x=\"3276.5\" y=\"-22.8\" font-family=\"Helvetica,sans-Serif\" font-size=\"14.00\">value = [89, 2]</text>\n<text text-anchor=\"start\" x=\"3248\" y=\"-7.8\" font-family=\"Helvetica,sans-Serif\" font-size=\"14.00\">class = No Fraudulento</text>\n</g>\n<!-- 44&#45;&gt;46 -->\n<g id=\"edge46\" class=\"edge\">\n<title>44&#45;&gt;46</title>\n<path fill=\"none\" stroke=\"black\" d=\"M3214.93,-103.73C3230.07,-93.92 3246.2,-83.46 3261.19,-73.75\"/>\n<polygon fill=\"black\" stroke=\"black\" points=\"3263.39,-76.5 3269.88,-68.13 3259.58,-70.63 3263.39,-76.5\"/>\n</g>\n</g>\n</svg>\n",
      "text/plain": "<graphviz.sources.Source at 0x135db9a65c0>"
     },
     "execution_count": 75,
     "metadata": {},
     "output_type": "execute_result"
    }
   ],
   "source": [
    "dot_data = tree.export_graphviz(clf, out_file=None,\n",
    "                         feature_names=list(t_data.columns.values),\n",
    "                         class_names=[\"No Fraudulento\", \"Fraudulento\"],\n",
    "                         filled=True, rounded=True,\n",
    "                         special_characters=True)\n",
    "graph = graphviz.Source(dot_data)\n",
    "graph"
   ]
  },
  {
   "cell_type": "markdown",
   "metadata": {
    "pycharm": {
     "name": "#%% md\n"
    }
   },
   "source": [
    "### Predicción de la data con el arbol de decisión sklearn"
   ]
  },
  {
   "cell_type": "code",
   "execution_count": 76,
   "metadata": {
    "pycharm": {
     "name": "#%%\n"
    }
   },
   "outputs": [
    {
     "name": "stdout",
     "output_type": "stream",
     "text": [
      "Real 0.0 => Predicción 0.0\n",
      "Real 0.0 => Predicción 0.0\n",
      "Real 0.0 => Predicción 0.0\n",
      "Real 0.0 => Predicción 0.0\n",
      "Real 0.0 => Predicción 0.0\n",
      "Real 0.0 => Predicción 0.0\n",
      "Real 0.0 => Predicción 0.0\n",
      "Real 0.0 => Predicción 0.0\n",
      "Real 0.0 => Predicción 0.0\n",
      "Real 0.0 => Predicción 0.0\n"
     ]
    }
   ],
   "source": [
    "y_respuesta = clf.predict(w_test_pred)\n",
    "for real, prd in zip(w_true_pred, y_respuesta):\n",
    "  print('Real {} => Predicción {}'.format(real, prd))"
   ]
  },
  {
   "cell_type": "markdown",
   "metadata": {
    "pycharm": {
     "name": "#%% md\n"
    }
   },
   "source": [
    "## Evaluación del árbol de decisión"
   ]
  },
  {
   "cell_type": "code",
   "execution_count": 77,
   "metadata": {
    "pycharm": {
     "name": "#%%\n"
    }
   },
   "outputs": [],
   "source": [
    "y_respuesta = clf.predict(w_test)"
   ]
  },
  {
   "cell_type": "code",
   "execution_count": 78,
   "metadata": {
    "pycharm": {
     "name": "#%%\n"
    }
   },
   "outputs": [
    {
     "name": "stdout",
     "output_type": "stream",
     "text": [
      "Precisión del árbol de decisión: 99.9085%\n"
     ]
    }
   ],
   "source": [
    "acc = metrics.accuracy_score(w_true, y_respuesta, normalize=True, sample_weight=None)\n",
    "print('Precisión del árbol de decisión: {}%'.format(acc * 100))"
   ]
  },
  {
   "cell_type": "code",
   "execution_count": 79,
   "metadata": {
    "pycharm": {
     "name": "#%%\n"
    }
   },
   "outputs": [
    {
     "data": {
      "text/plain": "<AxesSubplot:>"
     },
     "execution_count": 79,
     "metadata": {},
     "output_type": "execute_result"
    },
    {
     "data": {
      "text/plain": "<Figure size 432x288 with 2 Axes>",
      "image/png": "[encoded data removed]"
     },
     "metadata": {
      "needs_background": "light"
     },
     "output_type": "display_data"
    }
   ],
   "source": [
    "cfm = metrics.confusion_matrix(w_true, y_respuesta)\n",
    "sns.heatmap(cfm, annot=True, cmap='Blues', fmt='g')"
   ]
  },
  {
   "cell_type": "markdown",
   "metadata": {
    "pycharm": {
     "name": "#%% md\n"
    }
   },
   "source": [
    "## Arbol de decisión sin tratamiento de datos"
   ]
  },
  {
   "cell_type": "code",
   "execution_count": 80,
   "metadata": {
    "pycharm": {
     "name": "#%%\n"
    }
   },
   "outputs": [
    {
     "data": {
      "text/plain": "   distance_from_home  distance_from_last_transaction  \\\n0           57.877857                        0.311140   \n1           10.829943                        0.175592   \n2            5.091079                        0.805153   \n3            2.247564                        5.600044   \n4           44.190936                        0.566486   \n\n   ratio_to_median_purchase_price  repeat_retailer  used_chip  \\\n0                        1.945940              1.0        1.0   \n1                        1.294219              1.0        0.0   \n2                        0.427715              1.0        0.0   \n3                        0.362663              1.0        1.0   \n4                        2.222767              1.0        1.0   \n\n   used_pin_number  online_order  fraud  \n0              0.0           0.0    0.0  \n1              0.0           0.0    0.0  \n2              0.0           1.0    0.0  \n3              0.0           1.0    0.0  \n4              0.0           1.0    0.0  ",
      "text/html": "<div>\n<style scoped>\n    .dataframe tbody tr th:only-of-type {\n        vertical-align: middle;\n    }\n\n    .dataframe tbody tr th {\n        vertical-align: top;\n    }\n\n    .dataframe thead th {\n        text-align: right;\n    }\n</style>\n<table border=\"1\" class=\"dataframe\">\n  <thead>\n    <tr style=\"text-align: right;\">\n      <th></th>\n      <th>distance_from_home</th>\n      <th>distance_from_last_transaction</th>\n      <th>ratio_to_median_purchase_price</th>\n      <th>repeat_retailer</th>\n      <th>used_chip</th>\n      <th>used_pin_number</th>\n      <th>online_order</th>\n      <th>fraud</th>\n    </tr>\n  </thead>\n  <tbody>\n    <tr>\n      <th>0</th>\n      <td>57.877857</td>\n      <td>0.311140</td>\n      <td>1.945940</td>\n      <td>1.0</td>\n      <td>1.0</td>\n      <td>0.0</td>\n      <td>0.0</td>\n      <td>0.0</td>\n    </tr>\n    <tr>\n      <th>1</th>\n      <td>10.829943</td>\n      <td>0.175592</td>\n      <td>1.294219</td>\n      <td>1.0</td>\n      <td>0.0</td>\n      <td>0.0</td>\n      <td>0.0</td>\n      <td>0.0</td>\n    </tr>\n    <tr>\n      <th>2</th>\n      <td>5.091079</td>\n      <td>0.805153</td>\n      <td>0.427715</td>\n      <td>1.0</td>\n      <td>0.0</td>\n      <td>0.0</td>\n      <td>1.0</td>\n      <td>0.0</td>\n    </tr>\n    <tr>\n      <th>3</th>\n      <td>2.247564</td>\n      <td>5.600044</td>\n      <td>0.362663</td>\n      <td>1.0</td>\n      <td>1.0</td>\n      <td>0.0</td>\n      <td>1.0</td>\n      <td>0.0</td>\n    </tr>\n    <tr>\n      <th>4</th>\n      <td>44.190936</td>\n      <td>0.566486</td>\n      <td>2.222767</td>\n      <td>1.0</td>\n      <td>1.0</td>\n      <td>0.0</td>\n      <td>1.0</td>\n      <td>0.0</td>\n    </tr>\n  </tbody>\n</table>\n</div>"
     },
     "execution_count": 80,
     "metadata": {},
     "output_type": "execute_result"
    }
   ],
   "source": [
    "dframeArbol.head()"
   ]
  },
  {
   "cell_type": "code",
   "execution_count": 81,
   "metadata": {
    "pycharm": {
     "name": "#%%\n"
    }
   },
   "outputs": [],
   "source": [
    "trainSin, testSin = train_test_split(dframeArbol, test_size=0.2)"
   ]
  },
  {
   "cell_type": "code",
   "execution_count": 82,
   "metadata": {
    "pycharm": {
     "name": "#%%\n"
    }
   },
   "outputs": [],
   "source": [
    "## para entrenar\n",
    "t_data = trainSin[trainSin.columns[0:7]]\n",
    "t_target = trainSin[trainSin.columns[7]]\n",
    "## para predicciones\n",
    "w_test_pred = testSin[testSin.columns[0:7]].iloc[10:20]\n",
    "w_true_pred = testSin[testSin.columns[7]].iloc[10:20]\n",
    "## para validar el accuracy\n",
    "w_test = testSin[testSin.columns[0:7]]\n",
    "w_true = testSin[testSin.columns[7]]"
   ]
  },
  {
   "cell_type": "markdown",
   "metadata": {
    "pycharm": {
     "name": "#%% md\n"
    }
   },
   "source": [
    "## Arbol de decisión sklearn\n",
    "### Entrenamiento del modelo (Sin tratamiento de data)"
   ]
  },
  {
   "cell_type": "code",
   "execution_count": 83,
   "metadata": {
    "pycharm": {
     "name": "#%%\n"
    }
   },
   "outputs": [],
   "source": [
    "clf = tree.DecisionTreeClassifier(criterion='entropy', max_depth=5)\n",
    "clf = clf.fit(t_data, t_target)"
   ]
  },
  {
   "cell_type": "markdown",
   "metadata": {
    "pycharm": {
     "name": "#%% md\n"
    }
   },
   "source": [
    "## Graficar el arbol de decisión"
   ]
  },
  {
   "cell_type": "code",
   "execution_count": 84,
   "metadata": {
    "pycharm": {
     "name": "#%%\n"
    }
   },
   "outputs": [
    {
     "data": {
      "image/svg+xml": "<?xml version=\"1.0\" encoding=\"UTF-8\" standalone=\"no\"?>\n<!DOCTYPE svg PUBLIC \"-//W3C//DTD SVG 1.1//EN\"\n \"http://www.w3.org/Graphics/SVG/1.1/DTD/svg11.dtd\">\n<!-- Generated by graphviz version 4.0.0 (20220529.0937)\n -->\n<!-- Title: Tree Pages: 1 -->\n<svg width=\"3404pt\" height=\"671pt\"\n viewBox=\"0.00 0.00 3404.00 671.00\" xmlns=\"http://www.w3.org/2000/svg\" xmlns:xlink=\"http://www.w3.org/1999/xlink\">\n<g id=\"graph0\" class=\"graph\" transform=\"scale(1 1) rotate(0) translate(4 667)\">\n<title>Tree</title>\n<polygon fill=\"white\" stroke=\"transparent\" points=\"-4,4 -4,-667 3400,-667 3400,4 -4,4\"/>\n<!-- 0 -->\n<g id=\"node1\" class=\"node\">\n<title>0</title>\n<path fill=\"#e78d4c\" stroke=\"black\" d=\"M1470,-663C1470,-663 1234,-663 1234,-663 1228,-663 1222,-657 1222,-651 1222,-651 1222,-592 1222,-592 1222,-586 1228,-580 1234,-580 1234,-580 1470,-580 1470,-580 1476,-580 1482,-586 1482,-592 1482,-592 1482,-651 1482,-651 1482,-657 1476,-663 1470,-663\"/>\n<text text-anchor=\"start\" x=\"1230\" y=\"-647.8\" font-family=\"Helvetica,sans-Serif\" font-size=\"14.00\">ratio_to_median_purchase_price ≤ 4.0</text>\n<text text-anchor=\"start\" x=\"1302\" y=\"-632.8\" font-family=\"Helvetica,sans-Serif\" font-size=\"14.00\">entropy = 0.428</text>\n<text text-anchor=\"start\" x=\"1292\" y=\"-617.8\" font-family=\"Helvetica,sans-Serif\" font-size=\"14.00\">samples = 800000</text>\n<text text-anchor=\"start\" x=\"1274.5\" y=\"-602.8\" font-family=\"Helvetica,sans-Serif\" font-size=\"14.00\">value = [729962, 70038]</text>\n<text text-anchor=\"start\" x=\"1279\" y=\"-587.8\" font-family=\"Helvetica,sans-Serif\" font-size=\"14.00\">class = No Fraudulento</text>\n</g>\n<!-- 1 -->\n<g id=\"node2\" class=\"node\">\n<title>1</title>\n<path fill=\"#e6843e\" stroke=\"black\" d=\"M830,-544C830,-544 634,-544 634,-544 628,-544 622,-538 622,-532 622,-532 622,-473 622,-473 622,-467 628,-461 634,-461 634,-461 830,-461 830,-461 836,-461 842,-467 842,-473 842,-473 842,-532 842,-532 842,-538 836,-544 830,-544\"/>\n<text text-anchor=\"start\" x=\"630\" y=\"-528.8\" font-family=\"Helvetica,sans-Serif\" font-size=\"14.00\">distance_from_home ≤ 100.004</text>\n<text text-anchor=\"start\" x=\"682\" y=\"-513.8\" font-family=\"Helvetica,sans-Serif\" font-size=\"14.00\">entropy = 0.169</text>\n<text text-anchor=\"start\" x=\"672\" y=\"-498.8\" font-family=\"Helvetica,sans-Serif\" font-size=\"14.00\">samples = 717414</text>\n<text text-anchor=\"start\" x=\"654.5\" y=\"-483.8\" font-family=\"Helvetica,sans-Serif\" font-size=\"14.00\">value = [699449, 17965]</text>\n<text text-anchor=\"start\" x=\"659\" y=\"-468.8\" font-family=\"Helvetica,sans-Serif\" font-size=\"14.00\">class = No Fraudulento</text>\n</g>\n<!-- 0&#45;&gt;1 -->\n<g id=\"edge1\" class=\"edge\">\n<title>0&#45;&gt;1</title>\n<path fill=\"none\" stroke=\"black\" d=\"M1221.65,-595.9C1112.66,-575.33 958.44,-546.23 852.34,-526.21\"/>\n<polygon fill=\"black\" stroke=\"black\" points=\"852.71,-522.72 842.23,-524.3 851.41,-529.6 852.71,-522.72\"/>\n<text text-anchor=\"middle\" x=\"856.32\" y=\"-541.25\" font-family=\"Helvetica,sans-Serif\" font-size=\"14.00\">True</text>\n</g>\n<!-- 22 -->\n<g id=\"node23\" class=\"node\">\n<title>22</title>\n<path fill=\"#add6f4\" stroke=\"black\" d=\"M2114.5,-544C2114.5,-544 1975.5,-544 1975.5,-544 1969.5,-544 1963.5,-538 1963.5,-532 1963.5,-532 1963.5,-473 1963.5,-473 1963.5,-467 1969.5,-461 1975.5,-461 1975.5,-461 2114.5,-461 2114.5,-461 2120.5,-461 2126.5,-467 2126.5,-473 2126.5,-473 2126.5,-532 2126.5,-532 2126.5,-538 2120.5,-544 2114.5,-544\"/>\n<text text-anchor=\"start\" x=\"1987.5\" y=\"-528.8\" font-family=\"Helvetica,sans-Serif\" font-size=\"14.00\">online_order ≤ 0.5</text>\n<text text-anchor=\"start\" x=\"1999\" y=\"-513.8\" font-family=\"Helvetica,sans-Serif\" font-size=\"14.00\">entropy = 0.95</text>\n<text text-anchor=\"start\" x=\"1989\" y=\"-498.8\" font-family=\"Helvetica,sans-Serif\" font-size=\"14.00\">samples = 82586</text>\n<text text-anchor=\"start\" x=\"1971.5\" y=\"-483.8\" font-family=\"Helvetica,sans-Serif\" font-size=\"14.00\">value = [30513, 52073]</text>\n<text text-anchor=\"start\" x=\"1983\" y=\"-468.8\" font-family=\"Helvetica,sans-Serif\" font-size=\"14.00\">class = Fraudulento</text>\n</g>\n<!-- 0&#45;&gt;22 -->\n<g id=\"edge22\" class=\"edge\">\n<title>0&#45;&gt;22</title>\n<path fill=\"none\" stroke=\"black\" d=\"M1482.35,-598.49C1619.83,-575.28 1832.9,-539.31 1953.54,-518.94\"/>\n<polygon fill=\"black\" stroke=\"black\" points=\"1954.21,-522.38 1963.49,-517.26 1953.05,-515.48 1954.21,-522.38\"/>\n<text text-anchor=\"middle\" x=\"1949\" y=\"-533.94\" font-family=\"Helvetica,sans-Serif\" font-size=\"14.00\">False</text>\n</g>\n<!-- 2 -->\n<g id=\"node3\" class=\"node\">\n<title>2</title>\n<path fill=\"#e5823a\" stroke=\"black\" d=\"M386,-425C386,-425 136,-425 136,-425 130,-425 124,-419 124,-413 124,-413 124,-354 124,-354 124,-348 130,-342 136,-342 136,-342 386,-342 386,-342 392,-342 398,-348 398,-354 398,-354 398,-413 398,-413 398,-419 392,-425 386,-425\"/>\n<text text-anchor=\"start\" x=\"132\" y=\"-409.8\" font-family=\"Helvetica,sans-Serif\" font-size=\"14.00\">distance_from_last_transaction ≤ 49.992</text>\n<text text-anchor=\"start\" x=\"211\" y=\"-394.8\" font-family=\"Helvetica,sans-Serif\" font-size=\"14.00\">entropy = 0.053</text>\n<text text-anchor=\"start\" x=\"201\" y=\"-379.8\" font-family=\"Helvetica,sans-Serif\" font-size=\"14.00\">samples = 681898</text>\n<text text-anchor=\"start\" x=\"187.5\" y=\"-364.8\" font-family=\"Helvetica,sans-Serif\" font-size=\"14.00\">value = [677815, 4083]</text>\n<text text-anchor=\"start\" x=\"188\" y=\"-349.8\" font-family=\"Helvetica,sans-Serif\" font-size=\"14.00\">class = No Fraudulento</text>\n</g>\n<!-- 1&#45;&gt;2 -->\n<g id=\"edge2\" class=\"edge\">\n<title>1&#45;&gt;2</title>\n<path fill=\"none\" stroke=\"black\" d=\"M621.87,-474.14C558.25,-458.34 477.41,-438.26 408.38,-421.11\"/>\n<polygon fill=\"black\" stroke=\"black\" points=\"408.83,-417.62 398.28,-418.6 407.14,-424.41 408.83,-417.62\"/>\n</g>\n<!-- 9 -->\n<g id=\"node10\" class=\"node\">\n<title>9</title>\n<path fill=\"#f6d2b8\" stroke=\"black\" d=\"M801.5,-425C801.5,-425 662.5,-425 662.5,-425 656.5,-425 650.5,-419 650.5,-413 650.5,-413 650.5,-354 650.5,-354 650.5,-348 656.5,-342 662.5,-342 662.5,-342 801.5,-342 801.5,-342 807.5,-342 813.5,-348 813.5,-354 813.5,-354 813.5,-413 813.5,-413 813.5,-419 807.5,-425 801.5,-425\"/>\n<text text-anchor=\"start\" x=\"674.5\" y=\"-409.8\" font-family=\"Helvetica,sans-Serif\" font-size=\"14.00\">online_order ≤ 0.5</text>\n<text text-anchor=\"start\" x=\"682\" y=\"-394.8\" font-family=\"Helvetica,sans-Serif\" font-size=\"14.00\">entropy = 0.965</text>\n<text text-anchor=\"start\" x=\"676\" y=\"-379.8\" font-family=\"Helvetica,sans-Serif\" font-size=\"14.00\">samples = 35516</text>\n<text text-anchor=\"start\" x=\"658.5\" y=\"-364.8\" font-family=\"Helvetica,sans-Serif\" font-size=\"14.00\">value = [21634, 13882]</text>\n<text text-anchor=\"start\" x=\"659\" y=\"-349.8\" font-family=\"Helvetica,sans-Serif\" font-size=\"14.00\">class = No Fraudulento</text>\n</g>\n<!-- 1&#45;&gt;9 -->\n<g id=\"edge9\" class=\"edge\">\n<title>1&#45;&gt;9</title>\n<path fill=\"none\" stroke=\"black\" d=\"M732,-460.91C732,-452.65 732,-443.86 732,-435.3\"/>\n<polygon fill=\"black\" stroke=\"black\" points=\"735.5,-435.02 732,-425.02 728.5,-435.02 735.5,-435.02\"/>\n</g>\n<!-- 3 -->\n<g id=\"node4\" class=\"node\">\n<title>3</title>\n<path fill=\"#e58139\" stroke=\"black\" d=\"M150,-298.5C150,-298.5 12,-298.5 12,-298.5 6,-298.5 0,-292.5 0,-286.5 0,-286.5 0,-242.5 0,-242.5 0,-236.5 6,-230.5 12,-230.5 12,-230.5 150,-230.5 150,-230.5 156,-230.5 162,-236.5 162,-242.5 162,-242.5 162,-286.5 162,-286.5 162,-292.5 156,-298.5 150,-298.5\"/>\n<text text-anchor=\"start\" x=\"39\" y=\"-283.3\" font-family=\"Helvetica,sans-Serif\" font-size=\"14.00\">entropy = 0.0</text>\n<text text-anchor=\"start\" x=\"21\" y=\"-268.3\" font-family=\"Helvetica,sans-Serif\" font-size=\"14.00\">samples = 671794</text>\n<text text-anchor=\"start\" x=\"20\" y=\"-253.3\" font-family=\"Helvetica,sans-Serif\" font-size=\"14.00\">value = [671794, 0]</text>\n<text text-anchor=\"start\" x=\"8\" y=\"-238.3\" font-family=\"Helvetica,sans-Serif\" font-size=\"14.00\">class = No Fraudulento</text>\n</g>\n<!-- 2&#45;&gt;3 -->\n<g id=\"edge3\" class=\"edge\">\n<title>2&#45;&gt;3</title>\n<path fill=\"none\" stroke=\"black\" d=\"M198.55,-341.91C179.71,-329.66 159.08,-316.25 140.44,-304.13\"/>\n<polygon fill=\"black\" stroke=\"black\" points=\"142.32,-301.18 132.03,-298.67 138.5,-307.05 142.32,-301.18\"/>\n</g>\n<!-- 4 -->\n<g id=\"node5\" class=\"node\">\n<title>4</title>\n<path fill=\"#f7d6bf\" stroke=\"black\" d=\"M330,-306C330,-306 192,-306 192,-306 186,-306 180,-300 180,-294 180,-294 180,-235 180,-235 180,-229 186,-223 192,-223 192,-223 330,-223 330,-223 336,-223 342,-229 342,-235 342,-235 342,-294 342,-294 342,-300 336,-306 330,-306\"/>\n<text text-anchor=\"start\" x=\"203.5\" y=\"-290.8\" font-family=\"Helvetica,sans-Serif\" font-size=\"14.00\">online_order ≤ 0.5</text>\n<text text-anchor=\"start\" x=\"211\" y=\"-275.8\" font-family=\"Helvetica,sans-Serif\" font-size=\"14.00\">entropy = 0.973</text>\n<text text-anchor=\"start\" x=\"205\" y=\"-260.8\" font-family=\"Helvetica,sans-Serif\" font-size=\"14.00\">samples = 10104</text>\n<text text-anchor=\"start\" x=\"196\" y=\"-245.8\" font-family=\"Helvetica,sans-Serif\" font-size=\"14.00\">value = [6021, 4083]</text>\n<text text-anchor=\"start\" x=\"188\" y=\"-230.8\" font-family=\"Helvetica,sans-Serif\" font-size=\"14.00\">class = No Fraudulento</text>\n</g>\n<!-- 2&#45;&gt;4 -->\n<g id=\"edge4\" class=\"edge\">\n<title>2&#45;&gt;4</title>\n<path fill=\"none\" stroke=\"black\" d=\"M261,-341.91C261,-333.65 261,-324.86 261,-316.3\"/>\n<polygon fill=\"black\" stroke=\"black\" points=\"264.5,-316.02 261,-306.02 257.5,-316.02 264.5,-316.02\"/>\n</g>\n<!-- 5 -->\n<g id=\"node6\" class=\"node\">\n<title>5</title>\n<path fill=\"#e58139\" stroke=\"black\" d=\"M158,-179.5C158,-179.5 20,-179.5 20,-179.5 14,-179.5 8,-173.5 8,-167.5 8,-167.5 8,-123.5 8,-123.5 8,-117.5 14,-111.5 20,-111.5 20,-111.5 158,-111.5 158,-111.5 164,-111.5 170,-117.5 170,-123.5 170,-123.5 170,-167.5 170,-167.5 170,-173.5 164,-179.5 158,-179.5\"/>\n<text text-anchor=\"start\" x=\"47\" y=\"-164.3\" font-family=\"Helvetica,sans-Serif\" font-size=\"14.00\">entropy = 0.0</text>\n<text text-anchor=\"start\" x=\"37.5\" y=\"-149.3\" font-family=\"Helvetica,sans-Serif\" font-size=\"14.00\">samples = 3470</text>\n<text text-anchor=\"start\" x=\"36\" y=\"-134.3\" font-family=\"Helvetica,sans-Serif\" font-size=\"14.00\">value = [3470, 0]</text>\n<text text-anchor=\"start\" x=\"16\" y=\"-119.3\" font-family=\"Helvetica,sans-Serif\" font-size=\"14.00\">class = No Fraudulento</text>\n</g>\n<!-- 4&#45;&gt;5 -->\n<g id=\"edge5\" class=\"edge\">\n<title>4&#45;&gt;5</title>\n<path fill=\"none\" stroke=\"black\" d=\"M201.33,-222.91C183.48,-210.77 163.96,-197.49 146.28,-185.46\"/>\n<polygon fill=\"black\" stroke=\"black\" points=\"148,-182.4 137.76,-179.67 144.06,-188.19 148,-182.4\"/>\n</g>\n<!-- 6 -->\n<g id=\"node7\" class=\"node\">\n<title>6</title>\n<path fill=\"#b5daf5\" stroke=\"black\" d=\"M322,-187C322,-187 200,-187 200,-187 194,-187 188,-181 188,-175 188,-175 188,-116 188,-116 188,-110 194,-104 200,-104 200,-104 322,-104 322,-104 328,-104 334,-110 334,-116 334,-116 334,-175 334,-175 334,-181 328,-187 322,-187\"/>\n<text text-anchor=\"start\" x=\"210\" y=\"-171.8\" font-family=\"Helvetica,sans-Serif\" font-size=\"14.00\">used_chip ≤ 0.5</text>\n<text text-anchor=\"start\" x=\"211\" y=\"-156.8\" font-family=\"Helvetica,sans-Serif\" font-size=\"14.00\">entropy = 0.961</text>\n<text text-anchor=\"start\" x=\"209.5\" y=\"-141.8\" font-family=\"Helvetica,sans-Serif\" font-size=\"14.00\">samples = 6634</text>\n<text text-anchor=\"start\" x=\"196\" y=\"-126.8\" font-family=\"Helvetica,sans-Serif\" font-size=\"14.00\">value = [2551, 4083]</text>\n<text text-anchor=\"start\" x=\"199\" y=\"-111.8\" font-family=\"Helvetica,sans-Serif\" font-size=\"14.00\">class = Fraudulento</text>\n</g>\n<!-- 4&#45;&gt;6 -->\n<g id=\"edge6\" class=\"edge\">\n<title>4&#45;&gt;6</title>\n<path fill=\"none\" stroke=\"black\" d=\"M261,-222.91C261,-214.65 261,-205.86 261,-197.3\"/>\n<polygon fill=\"black\" stroke=\"black\" points=\"264.5,-197.02 261,-187.02 257.5,-197.02 264.5,-197.02\"/>\n</g>\n<!-- 7 -->\n<g id=\"node8\" class=\"node\">\n<title>7</title>\n<path fill=\"#4fa8e8\" stroke=\"black\" d=\"M154,-68C154,-68 38,-68 38,-68 32,-68 26,-62 26,-56 26,-56 26,-12 26,-12 26,-6 32,0 38,0 38,0 154,0 154,0 160,0 166,-6 166,-12 166,-12 166,-56 166,-56 166,-62 160,-68 154,-68\"/>\n<text text-anchor=\"start\" x=\"46\" y=\"-52.8\" font-family=\"Helvetica,sans-Serif\" font-size=\"14.00\">entropy = 0.475</text>\n<text text-anchor=\"start\" x=\"44.5\" y=\"-37.8\" font-family=\"Helvetica,sans-Serif\" font-size=\"14.00\">samples = 4274</text>\n<text text-anchor=\"start\" x=\"35\" y=\"-22.8\" font-family=\"Helvetica,sans-Serif\" font-size=\"14.00\">value = [435, 3839]</text>\n<text text-anchor=\"start\" x=\"34\" y=\"-7.8\" font-family=\"Helvetica,sans-Serif\" font-size=\"14.00\">class = Fraudulento</text>\n</g>\n<!-- 6&#45;&gt;7 -->\n<g id=\"edge7\" class=\"edge\">\n<title>6&#45;&gt;7</title>\n<path fill=\"none\" stroke=\"black\" d=\"M199.56,-103.73C184.78,-93.92 169.03,-83.46 154.39,-73.75\"/>\n<polygon fill=\"black\" stroke=\"black\" points=\"156.18,-70.74 145.91,-68.13 152.31,-76.57 156.18,-70.74\"/>\n</g>\n<!-- 8 -->\n<g id=\"node9\" class=\"node\">\n<title>8</title>\n<path fill=\"#e89050\" stroke=\"black\" d=\"M334,-68C334,-68 196,-68 196,-68 190,-68 184,-62 184,-56 184,-56 184,-12 184,-12 184,-6 190,0 196,0 196,0 334,0 334,0 340,0 346,-6 346,-12 346,-12 346,-56 346,-56 346,-62 340,-68 334,-68\"/>\n<text text-anchor=\"start\" x=\"219\" y=\"-52.8\" font-family=\"Helvetica,sans-Serif\" font-size=\"14.00\">entropy = 0.48</text>\n<text text-anchor=\"start\" x=\"213.5\" y=\"-37.8\" font-family=\"Helvetica,sans-Serif\" font-size=\"14.00\">samples = 2360</text>\n<text text-anchor=\"start\" x=\"204\" y=\"-22.8\" font-family=\"Helvetica,sans-Serif\" font-size=\"14.00\">value = [2116, 244]</text>\n<text text-anchor=\"start\" x=\"192\" y=\"-7.8\" font-family=\"Helvetica,sans-Serif\" font-size=\"14.00\">class = No Fraudulento</text>\n</g>\n<!-- 6&#45;&gt;8 -->\n<g id=\"edge8\" class=\"edge\">\n<title>6&#45;&gt;8</title>\n<path fill=\"none\" stroke=\"black\" d=\"M262.49,-103.73C262.79,-95.52 263.11,-86.86 263.41,-78.56\"/>\n<polygon fill=\"black\" stroke=\"black\" points=\"266.92,-78.42 263.78,-68.3 259.92,-78.17 266.92,-78.42\"/>\n</g>\n<!-- 10 -->\n<g id=\"node11\" class=\"node\">\n<title>10</title>\n<path fill=\"#e5833c\" stroke=\"black\" d=\"M741,-306C741,-306 491,-306 491,-306 485,-306 479,-300 479,-294 479,-294 479,-235 479,-235 479,-229 485,-223 491,-223 491,-223 741,-223 741,-223 747,-223 753,-229 753,-235 753,-235 753,-294 753,-294 753,-300 747,-306 741,-306\"/>\n<text text-anchor=\"start\" x=\"487\" y=\"-290.8\" font-family=\"Helvetica,sans-Serif\" font-size=\"14.00\">distance_from_last_transaction ≤ 50.152</text>\n<text text-anchor=\"start\" x=\"566\" y=\"-275.8\" font-family=\"Helvetica,sans-Serif\" font-size=\"14.00\">entropy = 0.106</text>\n<text text-anchor=\"start\" x=\"560\" y=\"-260.8\" font-family=\"Helvetica,sans-Serif\" font-size=\"14.00\">samples = 12418</text>\n<text text-anchor=\"start\" x=\"551\" y=\"-245.8\" font-family=\"Helvetica,sans-Serif\" font-size=\"14.00\">value = [12245, 173]</text>\n<text text-anchor=\"start\" x=\"543\" y=\"-230.8\" font-family=\"Helvetica,sans-Serif\" font-size=\"14.00\">class = No Fraudulento</text>\n</g>\n<!-- 9&#45;&gt;10 -->\n<g id=\"edge10\" class=\"edge\">\n<title>9&#45;&gt;10</title>\n<path fill=\"none\" stroke=\"black\" d=\"M691.75,-341.91C682.58,-332.65 672.74,-322.73 663.3,-313.21\"/>\n<polygon fill=\"black\" stroke=\"black\" points=\"665.7,-310.66 656.17,-306.02 660.73,-315.59 665.7,-310.66\"/>\n</g>\n<!-- 15 -->\n<g id=\"node16\" class=\"node\">\n<title>15</title>\n<path fill=\"#c1e0f7\" stroke=\"black\" d=\"M932.5,-306C932.5,-306 801.5,-306 801.5,-306 795.5,-306 789.5,-300 789.5,-294 789.5,-294 789.5,-235 789.5,-235 789.5,-229 795.5,-223 801.5,-223 801.5,-223 932.5,-223 932.5,-223 938.5,-223 944.5,-229 944.5,-235 944.5,-235 944.5,-294 944.5,-294 944.5,-300 938.5,-306 932.5,-306\"/>\n<text text-anchor=\"start\" x=\"816\" y=\"-290.8\" font-family=\"Helvetica,sans-Serif\" font-size=\"14.00\">used_chip ≤ 0.5</text>\n<text text-anchor=\"start\" x=\"817\" y=\"-275.8\" font-family=\"Helvetica,sans-Serif\" font-size=\"14.00\">entropy = 0.975</text>\n<text text-anchor=\"start\" x=\"811\" y=\"-260.8\" font-family=\"Helvetica,sans-Serif\" font-size=\"14.00\">samples = 23098</text>\n<text text-anchor=\"start\" x=\"797.5\" y=\"-245.8\" font-family=\"Helvetica,sans-Serif\" font-size=\"14.00\">value = [9389, 13709]</text>\n<text text-anchor=\"start\" x=\"805\" y=\"-230.8\" font-family=\"Helvetica,sans-Serif\" font-size=\"14.00\">class = Fraudulento</text>\n</g>\n<!-- 9&#45;&gt;15 -->\n<g id=\"edge15\" class=\"edge\">\n<title>9&#45;&gt;15</title>\n<path fill=\"none\" stroke=\"black\" d=\"M778.84,-341.91C789.73,-332.47 801.41,-322.34 812.6,-312.65\"/>\n<polygon fill=\"black\" stroke=\"black\" points=\"814.98,-315.22 820.25,-306.02 810.4,-309.93 814.98,-315.22\"/>\n</g>\n<!-- 11 -->\n<g id=\"node12\" class=\"node\">\n<title>11</title>\n<path fill=\"#e58139\" stroke=\"black\" d=\"M502,-179.5C502,-179.5 364,-179.5 364,-179.5 358,-179.5 352,-173.5 352,-167.5 352,-167.5 352,-123.5 352,-123.5 352,-117.5 358,-111.5 364,-111.5 364,-111.5 502,-111.5 502,-111.5 508,-111.5 514,-117.5 514,-123.5 514,-123.5 514,-167.5 514,-167.5 514,-173.5 508,-179.5 502,-179.5\"/>\n<text text-anchor=\"start\" x=\"391\" y=\"-164.3\" font-family=\"Helvetica,sans-Serif\" font-size=\"14.00\">entropy = 0.0</text>\n<text text-anchor=\"start\" x=\"377\" y=\"-149.3\" font-family=\"Helvetica,sans-Serif\" font-size=\"14.00\">samples = 12219</text>\n<text text-anchor=\"start\" x=\"376\" y=\"-134.3\" font-family=\"Helvetica,sans-Serif\" font-size=\"14.00\">value = [12219, 0]</text>\n<text text-anchor=\"start\" x=\"360\" y=\"-119.3\" font-family=\"Helvetica,sans-Serif\" font-size=\"14.00\">class = No Fraudulento</text>\n</g>\n<!-- 10&#45;&gt;11 -->\n<g id=\"edge11\" class=\"edge\">\n<title>10&#45;&gt;11</title>\n<path fill=\"none\" stroke=\"black\" d=\"M552.51,-222.91C533.35,-210.66 512.38,-197.25 493.43,-185.13\"/>\n<polygon fill=\"black\" stroke=\"black\" points=\"495.19,-182.1 484.88,-179.67 491.42,-188 495.19,-182.1\"/>\n</g>\n<!-- 12 -->\n<g id=\"node13\" class=\"node\">\n<title>12</title>\n<path fill=\"#57ace9\" stroke=\"black\" d=\"M687.5,-187C687.5,-187 544.5,-187 544.5,-187 538.5,-187 532.5,-181 532.5,-175 532.5,-175 532.5,-116 532.5,-116 532.5,-110 538.5,-104 544.5,-104 544.5,-104 687.5,-104 687.5,-104 693.5,-104 699.5,-110 699.5,-116 699.5,-116 699.5,-175 699.5,-175 699.5,-181 693.5,-187 687.5,-187\"/>\n<text text-anchor=\"start\" x=\"540.5\" y=\"-171.8\" font-family=\"Helvetica,sans-Serif\" font-size=\"14.00\">used_pin_number ≤ 0.5</text>\n<text text-anchor=\"start\" x=\"566\" y=\"-156.8\" font-family=\"Helvetica,sans-Serif\" font-size=\"14.00\">entropy = 0.559</text>\n<text text-anchor=\"start\" x=\"568.5\" y=\"-141.8\" font-family=\"Helvetica,sans-Serif\" font-size=\"14.00\">samples = 199</text>\n<text text-anchor=\"start\" x=\"563\" y=\"-126.8\" font-family=\"Helvetica,sans-Serif\" font-size=\"14.00\">value = [26, 173]</text>\n<text text-anchor=\"start\" x=\"554\" y=\"-111.8\" font-family=\"Helvetica,sans-Serif\" font-size=\"14.00\">class = Fraudulento</text>\n</g>\n<!-- 10&#45;&gt;12 -->\n<g id=\"edge12\" class=\"edge\">\n<title>10&#45;&gt;12</title>\n<path fill=\"none\" stroke=\"black\" d=\"M616,-222.91C616,-214.65 616,-205.86 616,-197.3\"/>\n<polygon fill=\"black\" stroke=\"black\" points=\"619.5,-197.02 616,-187.02 612.5,-197.02 619.5,-197.02\"/>\n</g>\n<!-- 13 -->\n<g id=\"node14\" class=\"node\">\n<title>13</title>\n<path fill=\"#399de5\" stroke=\"black\" d=\"M500,-68C500,-68 384,-68 384,-68 378,-68 372,-62 372,-56 372,-56 372,-12 372,-12 372,-6 378,0 384,0 384,0 500,0 500,0 506,0 512,-6 512,-12 512,-12 512,-56 512,-56 512,-62 506,-68 500,-68\"/>\n<text text-anchor=\"start\" x=\"400\" y=\"-52.8\" font-family=\"Helvetica,sans-Serif\" font-size=\"14.00\">entropy = 0.0</text>\n<text text-anchor=\"start\" x=\"394.5\" y=\"-37.8\" font-family=\"Helvetica,sans-Serif\" font-size=\"14.00\">samples = 173</text>\n<text text-anchor=\"start\" x=\"393.5\" y=\"-22.8\" font-family=\"Helvetica,sans-Serif\" font-size=\"14.00\">value = [0, 173]</text>\n<text text-anchor=\"start\" x=\"380\" y=\"-7.8\" font-family=\"Helvetica,sans-Serif\" font-size=\"14.00\">class = Fraudulento</text>\n</g>\n<!-- 12&#45;&gt;13 -->\n<g id=\"edge13\" class=\"edge\">\n<title>12&#45;&gt;13</title>\n<path fill=\"none\" stroke=\"black\" d=\"M551.21,-103.73C535.47,-93.82 518.7,-83.27 503.14,-73.48\"/>\n<polygon fill=\"black\" stroke=\"black\" points=\"504.97,-70.49 494.64,-68.13 501.24,-76.41 504.97,-70.49\"/>\n</g>\n<!-- 14 -->\n<g id=\"node15\" class=\"node\">\n<title>14</title>\n<path fill=\"#e58139\" stroke=\"black\" d=\"M680,-68C680,-68 542,-68 542,-68 536,-68 530,-62 530,-56 530,-56 530,-12 530,-12 530,-6 536,0 542,0 542,0 680,0 680,0 686,0 692,-6 692,-12 692,-12 692,-56 692,-56 692,-62 686,-68 680,-68\"/>\n<text text-anchor=\"start\" x=\"569\" y=\"-52.8\" font-family=\"Helvetica,sans-Serif\" font-size=\"14.00\">entropy = 0.0</text>\n<text text-anchor=\"start\" x=\"567.5\" y=\"-37.8\" font-family=\"Helvetica,sans-Serif\" font-size=\"14.00\">samples = 26</text>\n<text text-anchor=\"start\" x=\"566.5\" y=\"-22.8\" font-family=\"Helvetica,sans-Serif\" font-size=\"14.00\">value = [26, 0]</text>\n<text text-anchor=\"start\" x=\"538\" y=\"-7.8\" font-family=\"Helvetica,sans-Serif\" font-size=\"14.00\">class = No Fraudulento</text>\n</g>\n<!-- 12&#45;&gt;14 -->\n<g id=\"edge14\" class=\"edge\">\n<title>12&#45;&gt;14</title>\n<path fill=\"none\" stroke=\"black\" d=\"M614.14,-103.73C613.76,-95.52 613.37,-86.86 612.99,-78.56\"/>\n<polygon fill=\"black\" stroke=\"black\" points=\"616.47,-78.13 612.52,-68.3 609.48,-78.45 616.47,-78.13\"/>\n</g>\n<!-- 16 -->\n<g id=\"node17\" class=\"node\">\n<title>16</title>\n<path fill=\"#4ea8e8\" stroke=\"black\" d=\"M938.5,-187C938.5,-187 795.5,-187 795.5,-187 789.5,-187 783.5,-181 783.5,-175 783.5,-175 783.5,-116 783.5,-116 783.5,-110 789.5,-104 795.5,-104 795.5,-104 938.5,-104 938.5,-104 944.5,-104 950.5,-110 950.5,-116 950.5,-116 950.5,-175 950.5,-175 950.5,-181 944.5,-187 938.5,-187\"/>\n<text text-anchor=\"start\" x=\"791.5\" y=\"-171.8\" font-family=\"Helvetica,sans-Serif\" font-size=\"14.00\">used_pin_number ≤ 0.5</text>\n<text text-anchor=\"start\" x=\"817\" y=\"-156.8\" font-family=\"Helvetica,sans-Serif\" font-size=\"14.00\">entropy = 0.462</text>\n<text text-anchor=\"start\" x=\"811\" y=\"-141.8\" font-family=\"Helvetica,sans-Serif\" font-size=\"14.00\">samples = 15067</text>\n<text text-anchor=\"start\" x=\"797.5\" y=\"-126.8\" font-family=\"Helvetica,sans-Serif\" font-size=\"14.00\">value = [1472, 13595]</text>\n<text text-anchor=\"start\" x=\"805\" y=\"-111.8\" font-family=\"Helvetica,sans-Serif\" font-size=\"14.00\">class = Fraudulento</text>\n</g>\n<!-- 15&#45;&gt;16 -->\n<g id=\"edge16\" class=\"edge\">\n<title>15&#45;&gt;16</title>\n<path fill=\"none\" stroke=\"black\" d=\"M867,-222.91C867,-214.65 867,-205.86 867,-197.3\"/>\n<polygon fill=\"black\" stroke=\"black\" points=\"870.5,-197.02 867,-187.02 863.5,-197.02 870.5,-197.02\"/>\n</g>\n<!-- 19 -->\n<g id=\"node20\" class=\"node\">\n<title>19</title>\n<path fill=\"#e5833c\" stroke=\"black\" d=\"M1254,-187C1254,-187 1004,-187 1004,-187 998,-187 992,-181 992,-175 992,-175 992,-116 992,-116 992,-110 998,-104 1004,-104 1004,-104 1254,-104 1254,-104 1260,-104 1266,-110 1266,-116 1266,-116 1266,-175 1266,-175 1266,-181 1260,-187 1254,-187\"/>\n<text text-anchor=\"start\" x=\"1000\" y=\"-171.8\" font-family=\"Helvetica,sans-Serif\" font-size=\"14.00\">distance_from_last_transaction ≤ 50.575</text>\n<text text-anchor=\"start\" x=\"1079\" y=\"-156.8\" font-family=\"Helvetica,sans-Serif\" font-size=\"14.00\">entropy = 0.107</text>\n<text text-anchor=\"start\" x=\"1077.5\" y=\"-141.8\" font-family=\"Helvetica,sans-Serif\" font-size=\"14.00\">samples = 8031</text>\n<text text-anchor=\"start\" x=\"1068\" y=\"-126.8\" font-family=\"Helvetica,sans-Serif\" font-size=\"14.00\">value = [7917, 114]</text>\n<text text-anchor=\"start\" x=\"1056\" y=\"-111.8\" font-family=\"Helvetica,sans-Serif\" font-size=\"14.00\">class = No Fraudulento</text>\n</g>\n<!-- 15&#45;&gt;19 -->\n<g id=\"edge19\" class=\"edge\">\n<title>15&#45;&gt;19</title>\n<path fill=\"none\" stroke=\"black\" d=\"M944.55,-228.87C970.98,-217.07 1000.92,-203.69 1028.88,-191.21\"/>\n<polygon fill=\"black\" stroke=\"black\" points=\"1030.57,-194.29 1038.27,-187.02 1027.71,-187.9 1030.57,-194.29\"/>\n</g>\n<!-- 17 -->\n<g id=\"node18\" class=\"node\">\n<title>17</title>\n<path fill=\"#399de5\" stroke=\"black\" d=\"M838,-68C838,-68 722,-68 722,-68 716,-68 710,-62 710,-56 710,-56 710,-12 710,-12 710,-6 716,0 722,0 722,0 838,0 838,0 844,0 850,-6 850,-12 850,-12 850,-56 850,-56 850,-62 844,-68 838,-68\"/>\n<text text-anchor=\"start\" x=\"738\" y=\"-52.8\" font-family=\"Helvetica,sans-Serif\" font-size=\"14.00\">entropy = 0.0</text>\n<text text-anchor=\"start\" x=\"724\" y=\"-37.8\" font-family=\"Helvetica,sans-Serif\" font-size=\"14.00\">samples = 13595</text>\n<text text-anchor=\"start\" x=\"723\" y=\"-22.8\" font-family=\"Helvetica,sans-Serif\" font-size=\"14.00\">value = [0, 13595]</text>\n<text text-anchor=\"start\" x=\"718\" y=\"-7.8\" font-family=\"Helvetica,sans-Serif\" font-size=\"14.00\">class = Fraudulento</text>\n</g>\n<!-- 16&#45;&gt;17 -->\n<g id=\"edge17\" class=\"edge\">\n<title>16&#45;&gt;17</title>\n<path fill=\"none\" stroke=\"black\" d=\"M834.6,-103.73C827.5,-94.79 819.98,-85.32 812.86,-76.36\"/>\n<polygon fill=\"black\" stroke=\"black\" points=\"815.42,-73.95 806.46,-68.3 809.94,-78.31 815.42,-73.95\"/>\n</g>\n<!-- 18 -->\n<g id=\"node19\" class=\"node\">\n<title>18</title>\n<path fill=\"#e58139\" stroke=\"black\" d=\"M1018,-68C1018,-68 880,-68 880,-68 874,-68 868,-62 868,-56 868,-56 868,-12 868,-12 868,-6 874,0 880,0 880,0 1018,0 1018,0 1024,0 1030,-6 1030,-12 1030,-12 1030,-56 1030,-56 1030,-62 1024,-68 1018,-68\"/>\n<text text-anchor=\"start\" x=\"907\" y=\"-52.8\" font-family=\"Helvetica,sans-Serif\" font-size=\"14.00\">entropy = 0.0</text>\n<text text-anchor=\"start\" x=\"897.5\" y=\"-37.8\" font-family=\"Helvetica,sans-Serif\" font-size=\"14.00\">samples = 1472</text>\n<text text-anchor=\"start\" x=\"896\" y=\"-22.8\" font-family=\"Helvetica,sans-Serif\" font-size=\"14.00\">value = [1472, 0]</text>\n<text text-anchor=\"start\" x=\"876\" y=\"-7.8\" font-family=\"Helvetica,sans-Serif\" font-size=\"14.00\">class = No Fraudulento</text>\n</g>\n<!-- 16&#45;&gt;18 -->\n<g id=\"edge18\" class=\"edge\">\n<title>16&#45;&gt;18</title>\n<path fill=\"none\" stroke=\"black\" d=\"M897.53,-103.73C904.23,-94.79 911.32,-85.32 918.03,-76.36\"/>\n<polygon fill=\"black\" stroke=\"black\" points=\"920.87,-78.4 924.06,-68.3 915.27,-74.21 920.87,-78.4\"/>\n</g>\n<!-- 20 -->\n<g id=\"node21\" class=\"node\">\n<title>20</title>\n<path fill=\"#e58139\" stroke=\"black\" d=\"M1198,-68C1198,-68 1060,-68 1060,-68 1054,-68 1048,-62 1048,-56 1048,-56 1048,-12 1048,-12 1048,-6 1054,0 1060,0 1060,0 1198,0 1198,0 1204,0 1210,-6 1210,-12 1210,-12 1210,-56 1210,-56 1210,-62 1204,-68 1198,-68\"/>\n<text text-anchor=\"start\" x=\"1087\" y=\"-52.8\" font-family=\"Helvetica,sans-Serif\" font-size=\"14.00\">entropy = 0.0</text>\n<text text-anchor=\"start\" x=\"1077.5\" y=\"-37.8\" font-family=\"Helvetica,sans-Serif\" font-size=\"14.00\">samples = 7905</text>\n<text text-anchor=\"start\" x=\"1076\" y=\"-22.8\" font-family=\"Helvetica,sans-Serif\" font-size=\"14.00\">value = [7905, 0]</text>\n<text text-anchor=\"start\" x=\"1056\" y=\"-7.8\" font-family=\"Helvetica,sans-Serif\" font-size=\"14.00\">class = No Fraudulento</text>\n</g>\n<!-- 19&#45;&gt;20 -->\n<g id=\"edge20\" class=\"edge\">\n<title>19&#45;&gt;20</title>\n<path fill=\"none\" stroke=\"black\" d=\"M1129,-103.73C1129,-95.52 1129,-86.86 1129,-78.56\"/>\n<polygon fill=\"black\" stroke=\"black\" points=\"1132.5,-78.3 1129,-68.3 1125.5,-78.3 1132.5,-78.3\"/>\n</g>\n<!-- 21 -->\n<g id=\"node22\" class=\"node\">\n<title>21</title>\n<path fill=\"#4ea7e8\" stroke=\"black\" d=\"M1356,-68C1356,-68 1240,-68 1240,-68 1234,-68 1228,-62 1228,-56 1228,-56 1228,-12 1228,-12 1228,-6 1234,0 1240,0 1240,0 1356,0 1356,0 1362,0 1368,-6 1368,-12 1368,-12 1368,-56 1368,-56 1368,-62 1362,-68 1356,-68\"/>\n<text text-anchor=\"start\" x=\"1248\" y=\"-52.8\" font-family=\"Helvetica,sans-Serif\" font-size=\"14.00\">entropy = 0.454</text>\n<text text-anchor=\"start\" x=\"1250.5\" y=\"-37.8\" font-family=\"Helvetica,sans-Serif\" font-size=\"14.00\">samples = 126</text>\n<text text-anchor=\"start\" x=\"1245\" y=\"-22.8\" font-family=\"Helvetica,sans-Serif\" font-size=\"14.00\">value = [12, 114]</text>\n<text text-anchor=\"start\" x=\"1236\" y=\"-7.8\" font-family=\"Helvetica,sans-Serif\" font-size=\"14.00\">class = Fraudulento</text>\n</g>\n<!-- 19&#45;&gt;21 -->\n<g id=\"edge21\" class=\"edge\">\n<title>19&#45;&gt;21</title>\n<path fill=\"none\" stroke=\"black\" d=\"M1191.93,-103.73C1207.07,-93.92 1223.2,-83.46 1238.19,-73.75\"/>\n<polygon fill=\"black\" stroke=\"black\" points=\"1240.39,-76.5 1246.88,-68.13 1236.58,-70.63 1240.39,-76.5\"/>\n</g>\n<!-- 23 -->\n<g id=\"node24\" class=\"node\">\n<title>23</title>\n<path fill=\"#e99355\" stroke=\"black\" d=\"M2114,-425C2114,-425 1976,-425 1976,-425 1970,-425 1964,-419 1964,-413 1964,-413 1964,-354 1964,-354 1964,-348 1970,-342 1976,-342 1976,-342 2114,-342 2114,-342 2120,-342 2126,-348 2126,-354 2126,-354 2126,-413 2126,-413 2126,-419 2120,-425 2114,-425\"/>\n<text text-anchor=\"start\" x=\"1981.5\" y=\"-409.8\" font-family=\"Helvetica,sans-Serif\" font-size=\"14.00\">repeat_retailer ≤ 0.5</text>\n<text text-anchor=\"start\" x=\"1995\" y=\"-394.8\" font-family=\"Helvetica,sans-Serif\" font-size=\"14.00\">entropy = 0.539</text>\n<text text-anchor=\"start\" x=\"1989\" y=\"-379.8\" font-family=\"Helvetica,sans-Serif\" font-size=\"14.00\">samples = 28880</text>\n<text text-anchor=\"start\" x=\"1975.5\" y=\"-364.8\" font-family=\"Helvetica,sans-Serif\" font-size=\"14.00\">value = [25312, 3568]</text>\n<text text-anchor=\"start\" x=\"1972\" y=\"-349.8\" font-family=\"Helvetica,sans-Serif\" font-size=\"14.00\">class = No Fraudulento</text>\n</g>\n<!-- 22&#45;&gt;23 -->\n<g id=\"edge23\" class=\"edge\">\n<title>22&#45;&gt;23</title>\n<path fill=\"none\" stroke=\"black\" d=\"M2045,-460.91C2045,-452.65 2045,-443.86 2045,-435.3\"/>\n<polygon fill=\"black\" stroke=\"black\" points=\"2048.5,-435.02 2045,-425.02 2041.5,-435.02 2048.5,-435.02\"/>\n</g>\n<!-- 38 -->\n<g id=\"node39\" class=\"node\">\n<title>38</title>\n<path fill=\"#4ea8e8\" stroke=\"black\" d=\"M2614.5,-425C2614.5,-425 2471.5,-425 2471.5,-425 2465.5,-425 2459.5,-419 2459.5,-413 2459.5,-413 2459.5,-354 2459.5,-354 2459.5,-348 2465.5,-342 2471.5,-342 2471.5,-342 2614.5,-342 2614.5,-342 2620.5,-342 2626.5,-348 2626.5,-354 2626.5,-354 2626.5,-413 2626.5,-413 2626.5,-419 2620.5,-425 2614.5,-425\"/>\n<text text-anchor=\"start\" x=\"2467.5\" y=\"-409.8\" font-family=\"Helvetica,sans-Serif\" font-size=\"14.00\">used_pin_number ≤ 0.5</text>\n<text text-anchor=\"start\" x=\"2493\" y=\"-394.8\" font-family=\"Helvetica,sans-Serif\" font-size=\"14.00\">entropy = 0.459</text>\n<text text-anchor=\"start\" x=\"2487\" y=\"-379.8\" font-family=\"Helvetica,sans-Serif\" font-size=\"14.00\">samples = 53706</text>\n<text text-anchor=\"start\" x=\"2473.5\" y=\"-364.8\" font-family=\"Helvetica,sans-Serif\" font-size=\"14.00\">value = [5201, 48505]</text>\n<text text-anchor=\"start\" x=\"2481\" y=\"-349.8\" font-family=\"Helvetica,sans-Serif\" font-size=\"14.00\">class = Fraudulento</text>\n</g>\n<!-- 22&#45;&gt;38 -->\n<g id=\"edge38\" class=\"edge\">\n<title>22&#45;&gt;38</title>\n<path fill=\"none\" stroke=\"black\" d=\"M2126.68,-482.31C2215.2,-461.51 2356.24,-428.38 2449.23,-406.53\"/>\n<polygon fill=\"black\" stroke=\"black\" points=\"2450.26,-409.88 2459.2,-404.19 2448.66,-403.07 2450.26,-409.88\"/>\n</g>\n<!-- 24 -->\n<g id=\"node25\" class=\"node\">\n<title>24</title>\n<path fill=\"#cae5f8\" stroke=\"black\" d=\"M1962,-306C1962,-306 1840,-306 1840,-306 1834,-306 1828,-300 1828,-294 1828,-294 1828,-235 1828,-235 1828,-229 1834,-223 1840,-223 1840,-223 1962,-223 1962,-223 1968,-223 1974,-229 1974,-235 1974,-235 1974,-294 1974,-294 1974,-300 1968,-306 1962,-306\"/>\n<text text-anchor=\"start\" x=\"1850\" y=\"-290.8\" font-family=\"Helvetica,sans-Serif\" font-size=\"14.00\">used_chip ≤ 0.5</text>\n<text text-anchor=\"start\" x=\"1851\" y=\"-275.8\" font-family=\"Helvetica,sans-Serif\" font-size=\"14.00\">entropy = 0.982</text>\n<text text-anchor=\"start\" x=\"1849.5\" y=\"-260.8\" font-family=\"Helvetica,sans-Serif\" font-size=\"14.00\">samples = 3417</text>\n<text text-anchor=\"start\" x=\"1836\" y=\"-245.8\" font-family=\"Helvetica,sans-Serif\" font-size=\"14.00\">value = [1442, 1975]</text>\n<text text-anchor=\"start\" x=\"1839\" y=\"-230.8\" font-family=\"Helvetica,sans-Serif\" font-size=\"14.00\">class = Fraudulento</text>\n</g>\n<!-- 23&#45;&gt;24 -->\n<g id=\"edge24\" class=\"edge\">\n<title>23&#45;&gt;24</title>\n<path fill=\"none\" stroke=\"black\" d=\"M1995.04,-341.91C1983.31,-332.38 1970.72,-322.15 1958.69,-312.37\"/>\n<polygon fill=\"black\" stroke=\"black\" points=\"1960.84,-309.61 1950.87,-306.02 1956.43,-315.04 1960.84,-309.61\"/>\n</g>\n<!-- 31 -->\n<g id=\"node32\" class=\"node\">\n<title>31</title>\n<path fill=\"#e78946\" stroke=\"black\" d=\"M2304,-306C2304,-306 2116,-306 2116,-306 2110,-306 2104,-300 2104,-294 2104,-294 2104,-235 2104,-235 2104,-229 2110,-223 2116,-223 2116,-223 2304,-223 2304,-223 2310,-223 2316,-229 2316,-235 2316,-235 2316,-294 2316,-294 2316,-300 2310,-306 2304,-306\"/>\n<text text-anchor=\"start\" x=\"2112\" y=\"-290.8\" font-family=\"Helvetica,sans-Serif\" font-size=\"14.00\">distance_from_home ≤ 99.998</text>\n<text text-anchor=\"start\" x=\"2160\" y=\"-275.8\" font-family=\"Helvetica,sans-Serif\" font-size=\"14.00\">entropy = 0.338</text>\n<text text-anchor=\"start\" x=\"2154\" y=\"-260.8\" font-family=\"Helvetica,sans-Serif\" font-size=\"14.00\">samples = 25463</text>\n<text text-anchor=\"start\" x=\"2140.5\" y=\"-245.8\" font-family=\"Helvetica,sans-Serif\" font-size=\"14.00\">value = [23870, 1593]</text>\n<text text-anchor=\"start\" x=\"2137\" y=\"-230.8\" font-family=\"Helvetica,sans-Serif\" font-size=\"14.00\">class = No Fraudulento</text>\n</g>\n<!-- 23&#45;&gt;31 -->\n<g id=\"edge31\" class=\"edge\">\n<title>23&#45;&gt;31</title>\n<path fill=\"none\" stroke=\"black\" d=\"M2102.25,-341.91C2115.94,-332.2 2130.66,-321.76 2144.69,-311.81\"/>\n<polygon fill=\"black\" stroke=\"black\" points=\"2146.72,-314.66 2152.86,-306.02 2142.67,-308.95 2146.72,-314.66\"/>\n</g>\n<!-- 25 -->\n<g id=\"node26\" class=\"node\">\n<title>25</title>\n<path fill=\"#4fa8e8\" stroke=\"black\" d=\"M1696.5,-187C1696.5,-187 1553.5,-187 1553.5,-187 1547.5,-187 1541.5,-181 1541.5,-175 1541.5,-175 1541.5,-116 1541.5,-116 1541.5,-110 1547.5,-104 1553.5,-104 1553.5,-104 1696.5,-104 1696.5,-104 1702.5,-104 1708.5,-110 1708.5,-116 1708.5,-116 1708.5,-175 1708.5,-175 1708.5,-181 1702.5,-187 1696.5,-187\"/>\n<text text-anchor=\"start\" x=\"1549.5\" y=\"-171.8\" font-family=\"Helvetica,sans-Serif\" font-size=\"14.00\">used_pin_number ≤ 0.5</text>\n<text text-anchor=\"start\" x=\"1575\" y=\"-156.8\" font-family=\"Helvetica,sans-Serif\" font-size=\"14.00\">entropy = 0.469</text>\n<text text-anchor=\"start\" x=\"1573.5\" y=\"-141.8\" font-family=\"Helvetica,sans-Serif\" font-size=\"14.00\">samples = 2179</text>\n<text text-anchor=\"start\" x=\"1564\" y=\"-126.8\" font-family=\"Helvetica,sans-Serif\" font-size=\"14.00\">value = [218, 1961]</text>\n<text text-anchor=\"start\" x=\"1563\" y=\"-111.8\" font-family=\"Helvetica,sans-Serif\" font-size=\"14.00\">class = Fraudulento</text>\n</g>\n<!-- 24&#45;&gt;25 -->\n<g id=\"edge25\" class=\"edge\">\n<title>24&#45;&gt;25</title>\n<path fill=\"none\" stroke=\"black\" d=\"M1827.76,-232.45C1794.19,-218.22 1754.01,-201.19 1718.3,-186.05\"/>\n<polygon fill=\"black\" stroke=\"black\" points=\"1719.41,-182.72 1708.84,-182.04 1716.68,-189.17 1719.41,-182.72\"/>\n</g>\n<!-- 28 -->\n<g id=\"node29\" class=\"node\">\n<title>28</title>\n<path fill=\"#e5823b\" stroke=\"black\" d=\"M2022,-187C2022,-187 1780,-187 1780,-187 1774,-187 1768,-181 1768,-175 1768,-175 1768,-116 1768,-116 1768,-110 1774,-104 1780,-104 1780,-104 2022,-104 2022,-104 2028,-104 2034,-110 2034,-116 2034,-116 2034,-175 2034,-175 2034,-181 2028,-187 2022,-187\"/>\n<text text-anchor=\"start\" x=\"1776\" y=\"-171.8\" font-family=\"Helvetica,sans-Serif\" font-size=\"14.00\">distance_from_last_transaction ≤ 46.66</text>\n<text text-anchor=\"start\" x=\"1851\" y=\"-156.8\" font-family=\"Helvetica,sans-Serif\" font-size=\"14.00\">entropy = 0.089</text>\n<text text-anchor=\"start\" x=\"1849.5\" y=\"-141.8\" font-family=\"Helvetica,sans-Serif\" font-size=\"14.00\">samples = 1238</text>\n<text text-anchor=\"start\" x=\"1844\" y=\"-126.8\" font-family=\"Helvetica,sans-Serif\" font-size=\"14.00\">value = [1224, 14]</text>\n<text text-anchor=\"start\" x=\"1828\" y=\"-111.8\" font-family=\"Helvetica,sans-Serif\" font-size=\"14.00\">class = No Fraudulento</text>\n</g>\n<!-- 24&#45;&gt;28 -->\n<g id=\"edge28\" class=\"edge\">\n<title>24&#45;&gt;28</title>\n<path fill=\"none\" stroke=\"black\" d=\"M1901,-222.91C1901,-214.65 1901,-205.86 1901,-197.3\"/>\n<polygon fill=\"black\" stroke=\"black\" points=\"1904.5,-197.02 1901,-187.02 1897.5,-197.02 1904.5,-197.02\"/>\n</g>\n<!-- 26 -->\n<g id=\"node27\" class=\"node\">\n<title>26</title>\n<path fill=\"#399de5\" stroke=\"black\" d=\"M1514,-68C1514,-68 1398,-68 1398,-68 1392,-68 1386,-62 1386,-56 1386,-56 1386,-12 1386,-12 1386,-6 1392,0 1398,0 1398,0 1514,0 1514,0 1520,0 1526,-6 1526,-12 1526,-12 1526,-56 1526,-56 1526,-62 1520,-68 1514,-68\"/>\n<text text-anchor=\"start\" x=\"1414\" y=\"-52.8\" font-family=\"Helvetica,sans-Serif\" font-size=\"14.00\">entropy = 0.0</text>\n<text text-anchor=\"start\" x=\"1404.5\" y=\"-37.8\" font-family=\"Helvetica,sans-Serif\" font-size=\"14.00\">samples = 1961</text>\n<text text-anchor=\"start\" x=\"1403\" y=\"-22.8\" font-family=\"Helvetica,sans-Serif\" font-size=\"14.00\">value = [0, 1961]</text>\n<text text-anchor=\"start\" x=\"1394\" y=\"-7.8\" font-family=\"Helvetica,sans-Serif\" font-size=\"14.00\">class = Fraudulento</text>\n</g>\n<!-- 25&#45;&gt;26 -->\n<g id=\"edge26\" class=\"edge\">\n<title>25&#45;&gt;26</title>\n<path fill=\"none\" stroke=\"black\" d=\"M1562.07,-103.73C1546.93,-93.92 1530.8,-83.46 1515.81,-73.75\"/>\n<polygon fill=\"black\" stroke=\"black\" points=\"1517.42,-70.63 1507.12,-68.13 1513.61,-76.5 1517.42,-70.63\"/>\n</g>\n<!-- 27 -->\n<g id=\"node28\" class=\"node\">\n<title>27</title>\n<path fill=\"#e58139\" stroke=\"black\" d=\"M1694,-68C1694,-68 1556,-68 1556,-68 1550,-68 1544,-62 1544,-56 1544,-56 1544,-12 1544,-12 1544,-6 1550,0 1556,0 1556,0 1694,0 1694,0 1700,0 1706,-6 1706,-12 1706,-12 1706,-56 1706,-56 1706,-62 1700,-68 1694,-68\"/>\n<text text-anchor=\"start\" x=\"1583\" y=\"-52.8\" font-family=\"Helvetica,sans-Serif\" font-size=\"14.00\">entropy = 0.0</text>\n<text text-anchor=\"start\" x=\"1577.5\" y=\"-37.8\" font-family=\"Helvetica,sans-Serif\" font-size=\"14.00\">samples = 218</text>\n<text text-anchor=\"start\" x=\"1576.5\" y=\"-22.8\" font-family=\"Helvetica,sans-Serif\" font-size=\"14.00\">value = [218, 0]</text>\n<text text-anchor=\"start\" x=\"1552\" y=\"-7.8\" font-family=\"Helvetica,sans-Serif\" font-size=\"14.00\">class = No Fraudulento</text>\n</g>\n<!-- 25&#45;&gt;27 -->\n<g id=\"edge27\" class=\"edge\">\n<title>25&#45;&gt;27</title>\n<path fill=\"none\" stroke=\"black\" d=\"M1625,-103.73C1625,-95.52 1625,-86.86 1625,-78.56\"/>\n<polygon fill=\"black\" stroke=\"black\" points=\"1628.5,-78.3 1625,-68.3 1621.5,-78.3 1628.5,-78.3\"/>\n</g>\n<!-- 29 -->\n<g id=\"node30\" class=\"node\">\n<title>29</title>\n<path fill=\"#e58139\" stroke=\"black\" d=\"M1874,-68C1874,-68 1736,-68 1736,-68 1730,-68 1724,-62 1724,-56 1724,-56 1724,-12 1724,-12 1724,-6 1730,0 1736,0 1736,0 1874,0 1874,0 1880,0 1886,-6 1886,-12 1886,-12 1886,-56 1886,-56 1886,-62 1880,-68 1874,-68\"/>\n<text text-anchor=\"start\" x=\"1763\" y=\"-52.8\" font-family=\"Helvetica,sans-Serif\" font-size=\"14.00\">entropy = 0.0</text>\n<text text-anchor=\"start\" x=\"1753.5\" y=\"-37.8\" font-family=\"Helvetica,sans-Serif\" font-size=\"14.00\">samples = 1222</text>\n<text text-anchor=\"start\" x=\"1752\" y=\"-22.8\" font-family=\"Helvetica,sans-Serif\" font-size=\"14.00\">value = [1222, 0]</text>\n<text text-anchor=\"start\" x=\"1732\" y=\"-7.8\" font-family=\"Helvetica,sans-Serif\" font-size=\"14.00\">class = No Fraudulento</text>\n</g>\n<!-- 28&#45;&gt;29 -->\n<g id=\"edge29\" class=\"edge\">\n<title>28&#45;&gt;29</title>\n<path fill=\"none\" stroke=\"black\" d=\"M1865.25,-103.73C1857.34,-94.7 1848.94,-85.12 1841.02,-76.08\"/>\n<polygon fill=\"black\" stroke=\"black\" points=\"1843.42,-73.51 1834.19,-68.3 1838.15,-78.13 1843.42,-73.51\"/>\n</g>\n<!-- 30 -->\n<g id=\"node31\" class=\"node\">\n<title>30</title>\n<path fill=\"#55abe9\" stroke=\"black\" d=\"M2032,-68C2032,-68 1916,-68 1916,-68 1910,-68 1904,-62 1904,-56 1904,-56 1904,-12 1904,-12 1904,-6 1910,0 1916,0 1916,0 2032,0 2032,0 2038,0 2044,-6 2044,-12 2044,-12 2044,-56 2044,-56 2044,-62 2038,-68 2032,-68\"/>\n<text text-anchor=\"start\" x=\"1924\" y=\"-52.8\" font-family=\"Helvetica,sans-Serif\" font-size=\"14.00\">entropy = 0.544</text>\n<text text-anchor=\"start\" x=\"1930.5\" y=\"-37.8\" font-family=\"Helvetica,sans-Serif\" font-size=\"14.00\">samples = 16</text>\n<text text-anchor=\"start\" x=\"1929.5\" y=\"-22.8\" font-family=\"Helvetica,sans-Serif\" font-size=\"14.00\">value = [2, 14]</text>\n<text text-anchor=\"start\" x=\"1912\" y=\"-7.8\" font-family=\"Helvetica,sans-Serif\" font-size=\"14.00\">class = Fraudulento</text>\n</g>\n<!-- 28&#45;&gt;30 -->\n<g id=\"edge30\" class=\"edge\">\n<title>28&#45;&gt;30</title>\n<path fill=\"none\" stroke=\"black\" d=\"M1928.18,-103.73C1934.08,-94.88 1940.33,-85.51 1946.25,-76.63\"/>\n<polygon fill=\"black\" stroke=\"black\" points=\"1949.17,-78.56 1951.8,-68.3 1943.34,-74.68 1949.17,-78.56\"/>\n</g>\n<!-- 32 -->\n<g id=\"node33\" class=\"node\">\n<title>32</title>\n<path fill=\"#e5833c\" stroke=\"black\" d=\"M2335,-187C2335,-187 2085,-187 2085,-187 2079,-187 2073,-181 2073,-175 2073,-175 2073,-116 2073,-116 2073,-110 2079,-104 2085,-104 2085,-104 2335,-104 2335,-104 2341,-104 2347,-110 2347,-116 2347,-116 2347,-175 2347,-175 2347,-181 2341,-187 2335,-187\"/>\n<text text-anchor=\"start\" x=\"2081\" y=\"-171.8\" font-family=\"Helvetica,sans-Serif\" font-size=\"14.00\">distance_from_last_transaction ≤ 50.038</text>\n<text text-anchor=\"start\" x=\"2160\" y=\"-156.8\" font-family=\"Helvetica,sans-Serif\" font-size=\"14.00\">entropy = 0.102</text>\n<text text-anchor=\"start\" x=\"2154\" y=\"-141.8\" font-family=\"Helvetica,sans-Serif\" font-size=\"14.00\">samples = 24065</text>\n<text text-anchor=\"start\" x=\"2145\" y=\"-126.8\" font-family=\"Helvetica,sans-Serif\" font-size=\"14.00\">value = [23743, 322]</text>\n<text text-anchor=\"start\" x=\"2137\" y=\"-111.8\" font-family=\"Helvetica,sans-Serif\" font-size=\"14.00\">class = No Fraudulento</text>\n</g>\n<!-- 31&#45;&gt;32 -->\n<g id=\"edge32\" class=\"edge\">\n<title>31&#45;&gt;32</title>\n<path fill=\"none\" stroke=\"black\" d=\"M2210,-222.91C2210,-214.65 2210,-205.86 2210,-197.3\"/>\n<polygon fill=\"black\" stroke=\"black\" points=\"2213.5,-197.02 2210,-187.02 2206.5,-197.02 2213.5,-197.02\"/>\n</g>\n<!-- 35 -->\n<g id=\"node36\" class=\"node\">\n<title>35</title>\n<path fill=\"#4da7e8\" stroke=\"black\" d=\"M2541.5,-187C2541.5,-187 2398.5,-187 2398.5,-187 2392.5,-187 2386.5,-181 2386.5,-175 2386.5,-175 2386.5,-116 2386.5,-116 2386.5,-110 2392.5,-104 2398.5,-104 2398.5,-104 2541.5,-104 2541.5,-104 2547.5,-104 2553.5,-110 2553.5,-116 2553.5,-116 2553.5,-175 2553.5,-175 2553.5,-181 2547.5,-187 2541.5,-187\"/>\n<text text-anchor=\"start\" x=\"2394.5\" y=\"-171.8\" font-family=\"Helvetica,sans-Serif\" font-size=\"14.00\">used_pin_number ≤ 0.5</text>\n<text text-anchor=\"start\" x=\"2420\" y=\"-156.8\" font-family=\"Helvetica,sans-Serif\" font-size=\"14.00\">entropy = 0.439</text>\n<text text-anchor=\"start\" x=\"2418.5\" y=\"-141.8\" font-family=\"Helvetica,sans-Serif\" font-size=\"14.00\">samples = 1398</text>\n<text text-anchor=\"start\" x=\"2409\" y=\"-126.8\" font-family=\"Helvetica,sans-Serif\" font-size=\"14.00\">value = [127, 1271]</text>\n<text text-anchor=\"start\" x=\"2408\" y=\"-111.8\" font-family=\"Helvetica,sans-Serif\" font-size=\"14.00\">class = Fraudulento</text>\n</g>\n<!-- 31&#45;&gt;35 -->\n<g id=\"edge35\" class=\"edge\">\n<title>31&#45;&gt;35</title>\n<path fill=\"none\" stroke=\"black\" d=\"M2300.21,-222.91C2325.16,-211.68 2352.27,-199.48 2377.36,-188.19\"/>\n<polygon fill=\"black\" stroke=\"black\" points=\"2378.81,-191.37 2386.5,-184.08 2375.94,-184.99 2378.81,-191.37\"/>\n</g>\n<!-- 33 -->\n<g id=\"node34\" class=\"node\">\n<title>33</title>\n<path fill=\"#e58139\" stroke=\"black\" d=\"M2212,-68C2212,-68 2074,-68 2074,-68 2068,-68 2062,-62 2062,-56 2062,-56 2062,-12 2062,-12 2062,-6 2068,0 2074,0 2074,0 2212,0 2212,0 2218,0 2224,-6 2224,-12 2224,-12 2224,-56 2224,-56 2224,-62 2218,-68 2212,-68\"/>\n<text text-anchor=\"start\" x=\"2101\" y=\"-52.8\" font-family=\"Helvetica,sans-Serif\" font-size=\"14.00\">entropy = 0.0</text>\n<text text-anchor=\"start\" x=\"2087\" y=\"-37.8\" font-family=\"Helvetica,sans-Serif\" font-size=\"14.00\">samples = 23713</text>\n<text text-anchor=\"start\" x=\"2086\" y=\"-22.8\" font-family=\"Helvetica,sans-Serif\" font-size=\"14.00\">value = [23713, 0]</text>\n<text text-anchor=\"start\" x=\"2070\" y=\"-7.8\" font-family=\"Helvetica,sans-Serif\" font-size=\"14.00\">class = No Fraudulento</text>\n</g>\n<!-- 32&#45;&gt;33 -->\n<g id=\"edge33\" class=\"edge\">\n<title>32&#45;&gt;33</title>\n<path fill=\"none\" stroke=\"black\" d=\"M2185.05,-103.73C2179.69,-94.97 2174.02,-85.7 2168.64,-76.91\"/>\n<polygon fill=\"black\" stroke=\"black\" points=\"2171.58,-75 2163.38,-68.3 2165.61,-78.66 2171.58,-75\"/>\n</g>\n<!-- 34 -->\n<g id=\"node35\" class=\"node\">\n<title>34</title>\n<path fill=\"#4ba6e7\" stroke=\"black\" d=\"M2370,-68C2370,-68 2254,-68 2254,-68 2248,-68 2242,-62 2242,-56 2242,-56 2242,-12 2242,-12 2242,-6 2248,0 2254,0 2254,0 2370,0 2370,0 2376,0 2382,-6 2382,-12 2382,-12 2382,-56 2382,-56 2382,-62 2376,-68 2370,-68\"/>\n<text text-anchor=\"start\" x=\"2266\" y=\"-52.8\" font-family=\"Helvetica,sans-Serif\" font-size=\"14.00\">entropy = 0.42</text>\n<text text-anchor=\"start\" x=\"2264.5\" y=\"-37.8\" font-family=\"Helvetica,sans-Serif\" font-size=\"14.00\">samples = 352</text>\n<text text-anchor=\"start\" x=\"2259\" y=\"-22.8\" font-family=\"Helvetica,sans-Serif\" font-size=\"14.00\">value = [30, 322]</text>\n<text text-anchor=\"start\" x=\"2250\" y=\"-7.8\" font-family=\"Helvetica,sans-Serif\" font-size=\"14.00\">class = Fraudulento</text>\n</g>\n<!-- 32&#45;&gt;34 -->\n<g id=\"edge34\" class=\"edge\">\n<title>32&#45;&gt;34</title>\n<path fill=\"none\" stroke=\"black\" d=\"M2247.98,-103.73C2256.48,-94.61 2265.49,-84.93 2273.99,-75.81\"/>\n<polygon fill=\"black\" stroke=\"black\" points=\"2276.73,-78 2280.98,-68.3 2271.6,-73.23 2276.73,-78\"/>\n</g>\n<!-- 36 -->\n<g id=\"node37\" class=\"node\">\n<title>36</title>\n<path fill=\"#399de5\" stroke=\"black\" d=\"M2528,-68C2528,-68 2412,-68 2412,-68 2406,-68 2400,-62 2400,-56 2400,-56 2400,-12 2400,-12 2400,-6 2406,0 2412,0 2412,0 2528,0 2528,0 2534,0 2540,-6 2540,-12 2540,-12 2540,-56 2540,-56 2540,-62 2534,-68 2528,-68\"/>\n<text text-anchor=\"start\" x=\"2428\" y=\"-52.8\" font-family=\"Helvetica,sans-Serif\" font-size=\"14.00\">entropy = 0.0</text>\n<text text-anchor=\"start\" x=\"2418.5\" y=\"-37.8\" font-family=\"Helvetica,sans-Serif\" font-size=\"14.00\">samples = 1270</text>\n<text text-anchor=\"start\" x=\"2417\" y=\"-22.8\" font-family=\"Helvetica,sans-Serif\" font-size=\"14.00\">value = [0, 1270]</text>\n<text text-anchor=\"start\" x=\"2408\" y=\"-7.8\" font-family=\"Helvetica,sans-Serif\" font-size=\"14.00\">class = Fraudulento</text>\n</g>\n<!-- 35&#45;&gt;36 -->\n<g id=\"edge36\" class=\"edge\">\n<title>35&#45;&gt;36</title>\n<path fill=\"none\" stroke=\"black\" d=\"M2470,-103.73C2470,-95.52 2470,-86.86 2470,-78.56\"/>\n<polygon fill=\"black\" stroke=\"black\" points=\"2473.5,-78.3 2470,-68.3 2466.5,-78.3 2473.5,-78.3\"/>\n</g>\n<!-- 37 -->\n<g id=\"node38\" class=\"node\">\n<title>37</title>\n<path fill=\"#e5823b\" stroke=\"black\" d=\"M2708,-68C2708,-68 2570,-68 2570,-68 2564,-68 2558,-62 2558,-56 2558,-56 2558,-12 2558,-12 2558,-6 2564,0 2570,0 2570,0 2708,0 2708,0 2714,0 2720,-6 2720,-12 2720,-12 2720,-56 2720,-56 2720,-62 2714,-68 2708,-68\"/>\n<text text-anchor=\"start\" x=\"2589\" y=\"-52.8\" font-family=\"Helvetica,sans-Serif\" font-size=\"14.00\">entropy = 0.066</text>\n<text text-anchor=\"start\" x=\"2591.5\" y=\"-37.8\" font-family=\"Helvetica,sans-Serif\" font-size=\"14.00\">samples = 128</text>\n<text text-anchor=\"start\" x=\"2590.5\" y=\"-22.8\" font-family=\"Helvetica,sans-Serif\" font-size=\"14.00\">value = [127, 1]</text>\n<text text-anchor=\"start\" x=\"2566\" y=\"-7.8\" font-family=\"Helvetica,sans-Serif\" font-size=\"14.00\">class = No Fraudulento</text>\n</g>\n<!-- 35&#45;&gt;37 -->\n<g id=\"edge37\" class=\"edge\">\n<title>35&#45;&gt;37</title>\n<path fill=\"none\" stroke=\"black\" d=\"M2532.93,-103.73C2548.07,-93.92 2564.2,-83.46 2579.19,-73.75\"/>\n<polygon fill=\"black\" stroke=\"black\" points=\"2581.39,-76.5 2587.88,-68.13 2577.58,-70.63 2581.39,-76.5\"/>\n</g>\n<!-- 39 -->\n<g id=\"node40\" class=\"node\">\n<title>39</title>\n<path fill=\"#399de5\" stroke=\"black\" d=\"M2601,-298.5C2601,-298.5 2485,-298.5 2485,-298.5 2479,-298.5 2473,-292.5 2473,-286.5 2473,-286.5 2473,-242.5 2473,-242.5 2473,-236.5 2479,-230.5 2485,-230.5 2485,-230.5 2601,-230.5 2601,-230.5 2607,-230.5 2613,-236.5 2613,-242.5 2613,-242.5 2613,-286.5 2613,-286.5 2613,-292.5 2607,-298.5 2601,-298.5\"/>\n<text text-anchor=\"start\" x=\"2501\" y=\"-283.3\" font-family=\"Helvetica,sans-Serif\" font-size=\"14.00\">entropy = 0.0</text>\n<text text-anchor=\"start\" x=\"2487\" y=\"-268.3\" font-family=\"Helvetica,sans-Serif\" font-size=\"14.00\">samples = 48279</text>\n<text text-anchor=\"start\" x=\"2486\" y=\"-253.3\" font-family=\"Helvetica,sans-Serif\" font-size=\"14.00\">value = [0, 48279]</text>\n<text text-anchor=\"start\" x=\"2481\" y=\"-238.3\" font-family=\"Helvetica,sans-Serif\" font-size=\"14.00\">class = Fraudulento</text>\n</g>\n<!-- 38&#45;&gt;39 -->\n<g id=\"edge39\" class=\"edge\">\n<title>38&#45;&gt;39</title>\n<path fill=\"none\" stroke=\"black\" d=\"M2543,-341.91C2543,-331.2 2543,-319.62 2543,-308.78\"/>\n<polygon fill=\"black\" stroke=\"black\" points=\"2546.5,-308.67 2543,-298.67 2539.5,-308.67 2546.5,-308.67\"/>\n</g>\n<!-- 40 -->\n<g id=\"node41\" class=\"node\">\n<title>40</title>\n<path fill=\"#e68642\" stroke=\"black\" d=\"M2968,-306C2968,-306 2772,-306 2772,-306 2766,-306 2760,-300 2760,-294 2760,-294 2760,-235 2760,-235 2760,-229 2766,-223 2772,-223 2772,-223 2968,-223 2968,-223 2974,-223 2980,-229 2980,-235 2980,-235 2980,-294 2980,-294 2980,-300 2974,-306 2968,-306\"/>\n<text text-anchor=\"start\" x=\"2768\" y=\"-290.8\" font-family=\"Helvetica,sans-Serif\" font-size=\"14.00\">distance_from_home ≤ 100.362</text>\n<text text-anchor=\"start\" x=\"2824\" y=\"-275.8\" font-family=\"Helvetica,sans-Serif\" font-size=\"14.00\">entropy = 0.25</text>\n<text text-anchor=\"start\" x=\"2818.5\" y=\"-260.8\" font-family=\"Helvetica,sans-Serif\" font-size=\"14.00\">samples = 5427</text>\n<text text-anchor=\"start\" x=\"2809\" y=\"-245.8\" font-family=\"Helvetica,sans-Serif\" font-size=\"14.00\">value = [5201, 226]</text>\n<text text-anchor=\"start\" x=\"2797\" y=\"-230.8\" font-family=\"Helvetica,sans-Serif\" font-size=\"14.00\">class = No Fraudulento</text>\n</g>\n<!-- 38&#45;&gt;40 -->\n<g id=\"edge40\" class=\"edge\">\n<title>38&#45;&gt;40</title>\n<path fill=\"none\" stroke=\"black\" d=\"M2626.79,-352.52C2664.35,-339.08 2709.36,-322.98 2750.38,-308.3\"/>\n<polygon fill=\"black\" stroke=\"black\" points=\"2751.65,-311.56 2759.89,-304.9 2749.29,-304.97 2751.65,-311.56\"/>\n</g>\n<!-- 41 -->\n<g id=\"node42\" class=\"node\">\n<title>41</title>\n<path fill=\"#e5823b\" stroke=\"black\" d=\"M2995,-187C2995,-187 2745,-187 2745,-187 2739,-187 2733,-181 2733,-175 2733,-175 2733,-116 2733,-116 2733,-110 2739,-104 2745,-104 2745,-104 2995,-104 2995,-104 3001,-104 3007,-110 3007,-116 3007,-116 3007,-175 3007,-175 3007,-181 3001,-187 2995,-187\"/>\n<text text-anchor=\"start\" x=\"2741\" y=\"-171.8\" font-family=\"Helvetica,sans-Serif\" font-size=\"14.00\">distance_from_last_transaction ≤ 50.126</text>\n<text text-anchor=\"start\" x=\"2820\" y=\"-156.8\" font-family=\"Helvetica,sans-Serif\" font-size=\"14.00\">entropy = 0.091</text>\n<text text-anchor=\"start\" x=\"2818.5\" y=\"-141.8\" font-family=\"Helvetica,sans-Serif\" font-size=\"14.00\">samples = 5169</text>\n<text text-anchor=\"start\" x=\"2813\" y=\"-126.8\" font-family=\"Helvetica,sans-Serif\" font-size=\"14.00\">value = [5109, 60]</text>\n<text text-anchor=\"start\" x=\"2797\" y=\"-111.8\" font-family=\"Helvetica,sans-Serif\" font-size=\"14.00\">class = No Fraudulento</text>\n</g>\n<!-- 40&#45;&gt;41 -->\n<g id=\"edge41\" class=\"edge\">\n<title>40&#45;&gt;41</title>\n<path fill=\"none\" stroke=\"black\" d=\"M2870,-222.91C2870,-214.65 2870,-205.86 2870,-197.3\"/>\n<polygon fill=\"black\" stroke=\"black\" points=\"2873.5,-197.02 2870,-187.02 2866.5,-197.02 2873.5,-197.02\"/>\n</g>\n<!-- 44 -->\n<g id=\"node45\" class=\"node\">\n<title>44</title>\n<path fill=\"#a7d3f3\" stroke=\"black\" d=\"M3204,-187C3204,-187 3088,-187 3088,-187 3082,-187 3076,-181 3076,-175 3076,-175 3076,-116 3076,-116 3076,-110 3082,-104 3088,-104 3088,-104 3204,-104 3204,-104 3210,-104 3216,-110 3216,-116 3216,-116 3216,-175 3216,-175 3216,-181 3210,-187 3204,-187\"/>\n<text text-anchor=\"start\" x=\"3095\" y=\"-171.8\" font-family=\"Helvetica,sans-Serif\" font-size=\"14.00\">used_chip ≤ 0.5</text>\n<text text-anchor=\"start\" x=\"3100\" y=\"-156.8\" font-family=\"Helvetica,sans-Serif\" font-size=\"14.00\">entropy = 0.94</text>\n<text text-anchor=\"start\" x=\"3098.5\" y=\"-141.8\" font-family=\"Helvetica,sans-Serif\" font-size=\"14.00\">samples = 258</text>\n<text text-anchor=\"start\" x=\"3093\" y=\"-126.8\" font-family=\"Helvetica,sans-Serif\" font-size=\"14.00\">value = [92, 166]</text>\n<text text-anchor=\"start\" x=\"3084\" y=\"-111.8\" font-family=\"Helvetica,sans-Serif\" font-size=\"14.00\">class = Fraudulento</text>\n</g>\n<!-- 40&#45;&gt;44 -->\n<g id=\"edge44\" class=\"edge\">\n<title>40&#45;&gt;44</title>\n<path fill=\"none\" stroke=\"black\" d=\"M2965.76,-222.91C2998.49,-209.03 3034.74,-193.67 3066.09,-180.38\"/>\n<polygon fill=\"black\" stroke=\"black\" points=\"3067.81,-183.45 3075.65,-176.32 3065.08,-177 3067.81,-183.45\"/>\n</g>\n<!-- 42 -->\n<g id=\"node43\" class=\"node\">\n<title>42</title>\n<path fill=\"#e58139\" stroke=\"black\" d=\"M2888,-68C2888,-68 2750,-68 2750,-68 2744,-68 2738,-62 2738,-56 2738,-56 2738,-12 2738,-12 2738,-6 2744,0 2750,0 2750,0 2888,0 2888,0 2894,0 2900,-6 2900,-12 2900,-12 2900,-56 2900,-56 2900,-62 2894,-68 2888,-68\"/>\n<text text-anchor=\"start\" x=\"2777\" y=\"-52.8\" font-family=\"Helvetica,sans-Serif\" font-size=\"14.00\">entropy = 0.0</text>\n<text text-anchor=\"start\" x=\"2767.5\" y=\"-37.8\" font-family=\"Helvetica,sans-Serif\" font-size=\"14.00\">samples = 5089</text>\n<text text-anchor=\"start\" x=\"2766\" y=\"-22.8\" font-family=\"Helvetica,sans-Serif\" font-size=\"14.00\">value = [5089, 0]</text>\n<text text-anchor=\"start\" x=\"2746\" y=\"-7.8\" font-family=\"Helvetica,sans-Serif\" font-size=\"14.00\">class = No Fraudulento</text>\n</g>\n<!-- 41&#45;&gt;42 -->\n<g id=\"edge42\" class=\"edge\">\n<title>41&#45;&gt;42</title>\n<path fill=\"none\" stroke=\"black\" d=\"M2851.01,-103.73C2847.02,-95.15 2842.79,-86.09 2838.77,-77.46\"/>\n<polygon fill=\"black\" stroke=\"black\" points=\"2841.9,-75.89 2834.51,-68.3 2835.56,-78.84 2841.9,-75.89\"/>\n</g>\n<!-- 43 -->\n<g id=\"node44\" class=\"node\">\n<title>43</title>\n<path fill=\"#7bbeee\" stroke=\"black\" d=\"M3046,-68C3046,-68 2930,-68 2930,-68 2924,-68 2918,-62 2918,-56 2918,-56 2918,-12 2918,-12 2918,-6 2924,0 2930,0 2930,0 3046,0 3046,0 3052,0 3058,-6 3058,-12 3058,-12 3058,-56 3058,-56 3058,-62 3052,-68 3046,-68\"/>\n<text text-anchor=\"start\" x=\"2938\" y=\"-52.8\" font-family=\"Helvetica,sans-Serif\" font-size=\"14.00\">entropy = 0.811</text>\n<text text-anchor=\"start\" x=\"2944.5\" y=\"-37.8\" font-family=\"Helvetica,sans-Serif\" font-size=\"14.00\">samples = 80</text>\n<text text-anchor=\"start\" x=\"2939.5\" y=\"-22.8\" font-family=\"Helvetica,sans-Serif\" font-size=\"14.00\">value = [20, 60]</text>\n<text text-anchor=\"start\" x=\"2926\" y=\"-7.8\" font-family=\"Helvetica,sans-Serif\" font-size=\"14.00\">class = Fraudulento</text>\n</g>\n<!-- 41&#45;&gt;43 -->\n<g id=\"edge43\" class=\"edge\">\n<title>41&#45;&gt;43</title>\n<path fill=\"none\" stroke=\"black\" d=\"M2913.94,-103.73C2923.96,-94.42 2934.61,-84.54 2944.61,-75.26\"/>\n<polygon fill=\"black\" stroke=\"black\" points=\"2947.17,-77.67 2952.12,-68.3 2942.4,-72.54 2947.17,-77.67\"/>\n</g>\n<!-- 45 -->\n<g id=\"node46\" class=\"node\">\n<title>45</title>\n<path fill=\"#399de5\" stroke=\"black\" d=\"M3204,-68C3204,-68 3088,-68 3088,-68 3082,-68 3076,-62 3076,-56 3076,-56 3076,-12 3076,-12 3076,-6 3082,0 3088,0 3088,0 3204,0 3204,0 3210,0 3216,-6 3216,-12 3216,-12 3216,-56 3216,-56 3216,-62 3210,-68 3204,-68\"/>\n<text text-anchor=\"start\" x=\"3104\" y=\"-52.8\" font-family=\"Helvetica,sans-Serif\" font-size=\"14.00\">entropy = 0.0</text>\n<text text-anchor=\"start\" x=\"3098.5\" y=\"-37.8\" font-family=\"Helvetica,sans-Serif\" font-size=\"14.00\">samples = 166</text>\n<text text-anchor=\"start\" x=\"3097.5\" y=\"-22.8\" font-family=\"Helvetica,sans-Serif\" font-size=\"14.00\">value = [0, 166]</text>\n<text text-anchor=\"start\" x=\"3084\" y=\"-7.8\" font-family=\"Helvetica,sans-Serif\" font-size=\"14.00\">class = Fraudulento</text>\n</g>\n<!-- 44&#45;&gt;45 -->\n<g id=\"edge45\" class=\"edge\">\n<title>44&#45;&gt;45</title>\n<path fill=\"none\" stroke=\"black\" d=\"M3146,-103.73C3146,-95.52 3146,-86.86 3146,-78.56\"/>\n<polygon fill=\"black\" stroke=\"black\" points=\"3149.5,-78.3 3146,-68.3 3142.5,-78.3 3149.5,-78.3\"/>\n</g>\n<!-- 46 -->\n<g id=\"node47\" class=\"node\">\n<title>46</title>\n<path fill=\"#e58139\" stroke=\"black\" d=\"M3384,-68C3384,-68 3246,-68 3246,-68 3240,-68 3234,-62 3234,-56 3234,-56 3234,-12 3234,-12 3234,-6 3240,0 3246,0 3246,0 3384,0 3384,0 3390,0 3396,-6 3396,-12 3396,-12 3396,-56 3396,-56 3396,-62 3390,-68 3384,-68\"/>\n<text text-anchor=\"start\" x=\"3273\" y=\"-52.8\" font-family=\"Helvetica,sans-Serif\" font-size=\"14.00\">entropy = 0.0</text>\n<text text-anchor=\"start\" x=\"3271.5\" y=\"-37.8\" font-family=\"Helvetica,sans-Serif\" font-size=\"14.00\">samples = 92</text>\n<text text-anchor=\"start\" x=\"3270.5\" y=\"-22.8\" font-family=\"Helvetica,sans-Serif\" font-size=\"14.00\">value = [92, 0]</text>\n<text text-anchor=\"start\" x=\"3242\" y=\"-7.8\" font-family=\"Helvetica,sans-Serif\" font-size=\"14.00\">class = No Fraudulento</text>\n</g>\n<!-- 44&#45;&gt;46 -->\n<g id=\"edge46\" class=\"edge\">\n<title>44&#45;&gt;46</title>\n<path fill=\"none\" stroke=\"black\" d=\"M3208.93,-103.73C3224.07,-93.92 3240.2,-83.46 3255.19,-73.75\"/>\n<polygon fill=\"black\" stroke=\"black\" points=\"3257.39,-76.5 3263.88,-68.13 3253.58,-70.63 3257.39,-76.5\"/>\n</g>\n</g>\n</svg>\n",
      "text/plain": "<graphviz.sources.Source at 0x135cce07790>"
     },
     "execution_count": 84,
     "metadata": {},
     "output_type": "execute_result"
    }
   ],
   "source": [
    "dot_data = tree.export_graphviz(clf, out_file=None,\n",
    "                                feature_names=list(t_data.columns.values),\n",
    "                                class_names=[\"No Fraudulento\", \"Fraudulento\"],\n",
    "                                filled=True, rounded=True,\n",
    "                                special_characters=True)\n",
    "graph = graphviz.Source(dot_data)\n",
    "graph"
   ]
  },
  {
   "cell_type": "markdown",
   "metadata": {
    "pycharm": {
     "name": "#%% md\n"
    }
   },
   "source": [
    "### Predicción de la data con el arbol de decisión sklearn"
   ]
  },
  {
   "cell_type": "code",
   "execution_count": 85,
   "metadata": {
    "pycharm": {
     "name": "#%%\n"
    }
   },
   "outputs": [
    {
     "name": "stdout",
     "output_type": "stream",
     "text": [
      "Real 0.0 => Predicción 0.0\n",
      "Real 0.0 => Predicción 0.0\n",
      "Real 1.0 => Predicción 1.0\n",
      "Real 1.0 => Predicción 1.0\n",
      "Real 0.0 => Predicción 0.0\n",
      "Real 0.0 => Predicción 0.0\n",
      "Real 0.0 => Predicción 0.0\n",
      "Real 0.0 => Predicción 0.0\n",
      "Real 0.0 => Predicción 0.0\n",
      "Real 0.0 => Predicción 0.0\n"
     ]
    }
   ],
   "source": [
    "y_respuesta = clf.predict(w_test_pred)\n",
    "for real, prd in zip(w_true_pred, y_respuesta):\n",
    "  print('Real {} => Predicción {}'.format(real, prd))"
   ]
  },
  {
   "cell_type": "markdown",
   "metadata": {
    "pycharm": {
     "name": "#%% md\n"
    }
   },
   "source": [
    "## Evaluación del árbol de decisión"
   ]
  },
  {
   "cell_type": "code",
   "execution_count": 86,
   "metadata": {
    "pycharm": {
     "name": "#%%\n"
    }
   },
   "outputs": [],
   "source": [
    "y_respuesta = clf.predict(w_test)"
   ]
  },
  {
   "cell_type": "code",
   "execution_count": 87,
   "metadata": {
    "pycharm": {
     "name": "#%%\n"
    }
   },
   "outputs": [
    {
     "name": "stdout",
     "output_type": "stream",
     "text": [
      "Precisión del árbol de decisión: 99.8895%\n"
     ]
    }
   ],
   "source": [
    "acc = metrics.accuracy_score(w_true, y_respuesta, normalize=True, sample_weight=None)\n",
    "print('Precisión del árbol de decisión: {}%'.format(acc * 100))"
   ]
  },
  {
   "cell_type": "code",
   "execution_count": 88,
   "metadata": {
    "pycharm": {
     "name": "#%%\n"
    }
   },
   "outputs": [
    {
     "data": {
      "text/plain": "<AxesSubplot:>"
     },
     "execution_count": 88,
     "metadata": {},
     "output_type": "execute_result"
    },
    {
     "data": {
      "text/plain": "<Figure size 432x288 with 2 Axes>",
      "image/png": "[encoded data removed]"
     },
     "metadata": {
      "needs_background": "light"
     },
     "output_type": "display_data"
    }
   ],
   "source": [
    "cfm = metrics.confusion_matrix(w_true, y_respuesta)\n",
    "sns.heatmap(cfm, annot=True, cmap='Blues', fmt='g')"
   ]
  },
  {
   "cell_type": "markdown",
   "metadata": {
    "pycharm": {
     "name": "#%% md\n"
    }
   },
   "source": [
    "# Modelo Neuronal con Keras"
   ]
  },
  {
   "cell_type": "markdown",
   "metadata": {
    "pycharm": {
     "name": "#%% md\n"
    }
   },
   "source": [
    "### Variable para almacenar las puntuaciones"
   ]
  },
  {
   "cell_type": "code",
   "execution_count": 89,
   "metadata": {
    "pycharm": {
     "name": "#%%\n"
    }
   },
   "outputs": [],
   "source": [
    "modelScores = []"
   ]
  },
  {
   "cell_type": "markdown",
   "metadata": {
    "pycharm": {
     "name": "#%% md\n"
    }
   },
   "source": [
    "## Normalización de la data"
   ]
  },
  {
   "cell_type": "code",
   "execution_count": 90,
   "metadata": {
    "pycharm": {
     "name": "#%%\n"
    }
   },
   "outputs": [],
   "source": [
    "scaler = StandardScaler()\n",
    "dframeKeras.iloc[:,0:-1] = scaler.fit_transform(dframeKeras.iloc[:,0:-1].to_numpy())"
   ]
  },
  {
   "cell_type": "markdown",
   "metadata": {
    "pycharm": {
     "name": "#%% md\n"
    }
   },
   "source": [
    "## Separar la data en variables de entrenamiento y variables de prueba"
   ]
  },
  {
   "cell_type": "code",
   "execution_count": 91,
   "metadata": {
    "pycharm": {
     "name": "#%%\n"
    }
   },
   "outputs": [],
   "source": [
    "trainKeras, testKeras = train_test_split(dframeKeras, test_size=0.2)"
   ]
  },
  {
   "cell_type": "markdown",
   "metadata": {
    "pycharm": {
     "name": "#%% md\n"
    }
   },
   "source": [
    "## Definir data y target"
   ]
  },
  {
   "cell_type": "code",
   "execution_count": 92,
   "metadata": {
    "pycharm": {
     "name": "#%%\n"
    }
   },
   "outputs": [],
   "source": [
    "## para entrenar\n",
    "t_data = trainKeras[trainKeras.columns[0:7]]\n",
    "t_target = trainKeras[trainKeras.columns[7]]\n",
    "## para predicciones\n",
    "w_test_pred = testKeras[testKeras.columns[0:7]].iloc[10:20]\n",
    "w_true_pred = testKeras[testKeras.columns[7]].iloc[10:20]\n",
    "## para validar el accuracy\n",
    "w_test = testKeras[testKeras.columns[0:7]]\n",
    "w_true = testKeras[testKeras.columns[7]]"
   ]
  },
  {
   "cell_type": "markdown",
   "source": [
    "## Definir cuando nuestro entrenamiento se\n",
    "> En este caso se define que detendremos el entrenamiento cuando el accuracy no aumente en 2 iteraciones"
   ],
   "metadata": {
    "collapsed": false,
    "pycharm": {
     "name": "#%% md\n"
    }
   }
  },
  {
   "cell_type": "code",
   "execution_count": 93,
   "outputs": [],
   "source": [
    "callback = tf.keras.callbacks.EarlyStopping(\n",
    "    monitor=\"accuracy\",\n",
    "    patience=2,\n",
    "    verbose=0,\n",
    "    mode=\"max\"\n",
    ")"
   ],
   "metadata": {
    "collapsed": false,
    "pycharm": {
     "name": "#%%\n"
    }
   }
  },
  {
   "cell_type": "markdown",
   "metadata": {
    "pycharm": {
     "name": "#%% md\n"
    }
   },
   "source": [
    "## Crear el modelo de la red neuronal"
   ]
  },
  {
   "cell_type": "code",
   "execution_count": 94,
   "metadata": {
    "pycharm": {
     "name": "#%%\n"
    }
   },
   "outputs": [],
   "source": [
    "def get_basic_model(learning_rate):\n",
    "  model = tf.keras.Sequential([\n",
    "    tf.keras.layers.Dense(10, activation='relu'),\n",
    "    tf.keras.layers.Dense(10, activation='relu'),\n",
    "    tf.keras.layers.Dense(1)\n",
    "  ])\n",
    "\n",
    "  model.compile(optimizer=tf.keras.optimizers.Adam(learning_rate),\n",
    "                loss=tf.keras.losses.BinaryCrossentropy(from_logits=True),\n",
    "                metrics=['accuracy'])\n",
    "  return model"
   ]
  },
  {
   "cell_type": "markdown",
   "metadata": {
    "pycharm": {
     "name": "#%% md\n"
    }
   },
   "source": [
    "## Entrenar el modelo 1 con aprendizaje 0.01"
   ]
  },
  {
   "cell_type": "code",
   "execution_count": 95,
   "metadata": {
    "pycharm": {
     "name": "#%%\n"
    }
   },
   "outputs": [
    {
     "name": "stdout",
     "output_type": "stream",
     "text": [
      "Epoch 1/15\n",
      "20000/20000 [==============================] - 14s 671us/step - loss: 0.0206 - accuracy: 0.9924 - val_loss: 0.0125 - val_accuracy: 0.9951\n",
      "Epoch 2/15\n",
      "20000/20000 [==============================] - 13s 670us/step - loss: 0.0125 - accuracy: 0.9954 - val_loss: 0.0105 - val_accuracy: 0.9954\n",
      "Epoch 3/15\n",
      "20000/20000 [==============================] - 13s 643us/step - loss: 0.0100 - accuracy: 0.9965 - val_loss: 0.0065 - val_accuracy: 0.9976\n",
      "Epoch 4/15\n",
      "20000/20000 [==============================] - 13s 660us/step - loss: 0.0094 - accuracy: 0.9968 - val_loss: 0.0075 - val_accuracy: 0.9973\n",
      "Epoch 5/15\n",
      "20000/20000 [==============================] - 13s 632us/step - loss: 0.0081 - accuracy: 0.9971 - val_loss: 0.0067 - val_accuracy: 0.9973\n",
      "Epoch 6/15\n",
      "20000/20000 [==============================] - 13s 668us/step - loss: 0.0076 - accuracy: 0.9973 - val_loss: 0.0082 - val_accuracy: 0.9972\n",
      "Epoch 7/15\n",
      "20000/20000 [==============================] - 14s 696us/step - loss: 0.0072 - accuracy: 0.9976 - val_loss: 0.0155 - val_accuracy: 0.9976\n",
      "Epoch 8/15\n",
      "20000/20000 [==============================] - 13s 651us/step - loss: 0.0076 - accuracy: 0.9976 - val_loss: 0.0050 - val_accuracy: 0.9983\n",
      "Epoch 9/15\n",
      "20000/20000 [==============================] - 14s 709us/step - loss: 0.0075 - accuracy: 0.9976 - val_loss: 0.0061 - val_accuracy: 0.9979\n"
     ]
    }
   ],
   "source": [
    "model = get_basic_model(0.01)\n",
    "historial = model.fit(t_data, t_target, epochs=15, verbose=True, callbacks=[callback], validation_split=0.2)"
   ]
  },
  {
   "cell_type": "markdown",
   "metadata": {
    "pycharm": {
     "name": "#%% md\n"
    }
   },
   "source": [
    "## Graficar la pérdida y la precisión del modelo 1"
   ]
  },
  {
   "cell_type": "code",
   "execution_count": 96,
   "metadata": {
    "pycharm": {
     "name": "#%%\n"
    }
   },
   "outputs": [
    {
     "data": {
      "text/plain": "<Figure size 432x288 with 2 Axes>",
      "image/png": "[encoded data removed]"
     },
     "metadata": {
      "needs_background": "light"
     },
     "output_type": "display_data"
    }
   ],
   "source": [
    "fig, (ax1, ax2) = plt.subplots(1, 2)\n",
    "fig.suptitle('Modelo Keras 0.01')\n",
    "ax1.set_title('Pérdida')\n",
    "ax1.plot(historial.history['loss'])\n",
    "ax2.set_title('Precisión')\n",
    "ax2.plot(historial.history['accuracy'])\n",
    "plt.show()"
   ]
  },
  {
   "cell_type": "markdown",
   "metadata": {
    "pycharm": {
     "name": "#%% md\n"
    }
   },
   "source": [
    "## Predicción de la data con el modelo 1"
   ]
  },
  {
   "cell_type": "code",
   "execution_count": 97,
   "metadata": {
    "pycharm": {
     "name": "#%%\n"
    }
   },
   "outputs": [
    {
     "name": "stdout",
     "output_type": "stream",
     "text": [
      "WARNING:tensorflow:6 out of the last 6 calls to <function Model.make_predict_function.<locals>.predict_function at 0x00000135C33409D0> triggered tf.function retracing. Tracing is expensive and the excessive number of tracings could be due to (1) creating @tf.function repeatedly in a loop, (2) passing tensors with different shapes, (3) passing Python objects instead of tensors. For (1), please define your @tf.function outside of the loop. For (2), @tf.function has reduce_retracing=True option that can avoid unnecessary retracing. For (3), please refer to https://www.tensorflow.org/guide/function#controlling_retracing and https://www.tensorflow.org/api_docs/python/tf/function for  more details.\n",
      "1/1 [==============================] - 0s 39ms/step\n",
      "Real 0.0 => Predicción [-16.359362]\n",
      "Real 0.0 => Predicción [-39.58312]\n",
      "Real 0.0 => Predicción [-43.10239]\n",
      "Real 0.0 => Predicción [-225.92656]\n",
      "Real 0.0 => Predicción [-198.87283]\n",
      "Real 0.0 => Predicción [-424.04382]\n",
      "Real 0.0 => Predicción [-4.4019904]\n",
      "Real 0.0 => Predicción [-9.670302]\n",
      "Real 0.0 => Predicción [-23.293333]\n",
      "Real 1.0 => Predicción [10.903242]\n"
     ]
    }
   ],
   "source": [
    "pred = model.predict(w_test_pred)\n",
    "for real, prd in zip(w_true_pred, pred):\n",
    "  print('Real {} => Predicción {}'.format(real, prd))"
   ]
  },
  {
   "cell_type": "markdown",
   "metadata": {
    "pycharm": {
     "name": "#%% md\n"
    }
   },
   "source": [
    "## Agregar los datos de precisión y pérdida al historial"
   ]
  },
  {
   "cell_type": "code",
   "execution_count": 98,
   "metadata": {
    "pycharm": {
     "name": "#%%\n"
    }
   },
   "outputs": [
    {
     "name": "stdout",
     "output_type": "stream",
     "text": [
      "6250/6250 [==============================] - 3s 480us/step - loss: 0.0070 - accuracy: 0.9977\n"
     ]
    }
   ],
   "source": [
    "modelScores.append(model.evaluate(w_test, w_true))"
   ]
  },
  {
   "cell_type": "markdown",
   "metadata": {
    "pycharm": {
     "name": "#%% md\n"
    }
   },
   "source": [
    "## Entrenar el modelo 2 con aprendizaje 0.1"
   ]
  },
  {
   "cell_type": "code",
   "execution_count": 99,
   "metadata": {
    "pycharm": {
     "name": "#%%\n"
    }
   },
   "outputs": [
    {
     "name": "stdout",
     "output_type": "stream",
     "text": [
      "Epoch 1/15\n",
      "20000/20000 [==============================] - 14s 666us/step - loss: 0.0515 - accuracy: 0.9833 - val_loss: 0.0506 - val_accuracy: 0.9837\n",
      "Epoch 2/15\n",
      "20000/20000 [==============================] - 13s 644us/step - loss: 0.0594 - accuracy: 0.9814 - val_loss: 0.0382 - val_accuracy: 0.9880\n",
      "Epoch 3/15\n",
      "20000/20000 [==============================] - 13s 641us/step - loss: 0.0629 - accuracy: 0.9845 - val_loss: 0.0535 - val_accuracy: 0.9826\n",
      "Epoch 4/15\n",
      "20000/20000 [==============================] - 14s 700us/step - loss: 0.0438 - accuracy: 0.9879 - val_loss: 0.0642 - val_accuracy: 0.9783\n",
      "Epoch 5/15\n",
      "20000/20000 [==============================] - 15s 735us/step - loss: 0.0539 - accuracy: 0.9844 - val_loss: 0.0519 - val_accuracy: 0.9826\n",
      "Epoch 6/15\n",
      "20000/20000 [==============================] - 15s 740us/step - loss: 0.0614 - accuracy: 0.9831 - val_loss: 0.0399 - val_accuracy: 0.9889\n"
     ]
    }
   ],
   "source": [
    "model = get_basic_model(0.1)\n",
    "historial = model.fit(t_data, t_target, epochs=15, verbose=True, callbacks=[callback], validation_split=0.2)"
   ]
  },
  {
   "cell_type": "markdown",
   "metadata": {
    "pycharm": {
     "name": "#%% md\n"
    }
   },
   "source": [
    "## Graficar la pérdida y la precisión del modelo 2"
   ]
  },
  {
   "cell_type": "code",
   "execution_count": 100,
   "metadata": {
    "pycharm": {
     "name": "#%%\n"
    }
   },
   "outputs": [
    {
     "data": {
      "text/plain": "<Figure size 432x288 with 2 Axes>",
      "image/png": "[encoded data removed]"
     },
     "metadata": {
      "needs_background": "light"
     },
     "output_type": "display_data"
    }
   ],
   "source": [
    "fig, (ax1, ax2) = plt.subplots(1, 2)\n",
    "fig.suptitle('Modelo Keras 0.1')\n",
    "ax1.set_title('Pérdida')\n",
    "ax1.plot(historial.history['loss'])\n",
    "ax2.set_title('Precisión')\n",
    "ax2.plot(historial.history['accuracy'])\n",
    "plt.show()"
   ]
  },
  {
   "cell_type": "markdown",
   "metadata": {
    "pycharm": {
     "name": "#%% md\n"
    }
   },
   "source": [
    "## Predicción de la data con el modelo 2"
   ]
  },
  {
   "cell_type": "code",
   "execution_count": 101,
   "metadata": {
    "pycharm": {
     "name": "#%%\n"
    }
   },
   "outputs": [
    {
     "name": "stdout",
     "output_type": "stream",
     "text": [
      "1/1 [==============================] - 0s 40ms/step\n",
      "Real 0.0 => Predicción [-2.5137563]\n",
      "Real 0.0 => Predicción [-44.670467]\n",
      "Real 0.0 => Predicción [-42.80424]\n",
      "Real 0.0 => Predicción [-866.23004]\n",
      "Real 0.0 => Predicción [-739.3351]\n",
      "Real 0.0 => Predicción [-1051.9376]\n",
      "Real 0.0 => Predicción [-2.5137563]\n",
      "Real 0.0 => Predicción [-19.677258]\n",
      "Real 0.0 => Predicción [-48.50485]\n",
      "Real 1.0 => Predicción [2.5576315]\n"
     ]
    }
   ],
   "source": [
    "pred = model.predict(w_test_pred)\n",
    "for real, prd in zip(w_true_pred, pred):\n",
    "  print('Real {} => Predicción {}'.format(real, prd))"
   ]
  },
  {
   "cell_type": "markdown",
   "metadata": {
    "pycharm": {
     "name": "#%% md\n"
    }
   },
   "source": [
    "## Agregar los datos de precisión y pérdida al historial"
   ]
  },
  {
   "cell_type": "code",
   "execution_count": 102,
   "metadata": {
    "pycharm": {
     "name": "#%%\n"
    }
   },
   "outputs": [
    {
     "name": "stdout",
     "output_type": "stream",
     "text": [
      "6250/6250 [==============================] - 3s 554us/step - loss: 0.0396 - accuracy: 0.9891\n"
     ]
    }
   ],
   "source": [
    "modelScores.append(model.evaluate(w_test, w_true))"
   ]
  },
  {
   "cell_type": "markdown",
   "metadata": {
    "pycharm": {
     "name": "#%% md\n"
    }
   },
   "source": [
    "## Entrenar el modelo 3 con aprendizaje 0.5"
   ]
  },
  {
   "cell_type": "code",
   "execution_count": 103,
   "metadata": {
    "pycharm": {
     "name": "#%%\n"
    }
   },
   "outputs": [
    {
     "name": "stdout",
     "output_type": "stream",
     "text": [
      "Epoch 1/15\n",
      "20000/20000 [==============================] - 16s 765us/step - loss: 0.3019 - accuracy: 0.9127 - val_loss: 0.3039 - val_accuracy: 0.9126\n",
      "Epoch 2/15\n",
      "20000/20000 [==============================] - 15s 731us/step - loss: 0.3022 - accuracy: 0.9127 - val_loss: 0.3247 - val_accuracy: 0.9126\n",
      "Epoch 3/15\n",
      "20000/20000 [==============================] - 14s 718us/step - loss: 0.3020 - accuracy: 0.9127 - val_loss: 0.2975 - val_accuracy: 0.9126\n",
      "Epoch 4/15\n",
      "20000/20000 [==============================] - 14s 722us/step - loss: 0.3018 - accuracy: 0.9127 - val_loss: 0.2973 - val_accuracy: 0.9126\n"
     ]
    }
   ],
   "source": [
    "model = get_basic_model(0.5)\n",
    "historial = model.fit(t_data, t_target, epochs=15, verbose=True, callbacks=[callback], validation_split=0.2)"
   ]
  },
  {
   "cell_type": "markdown",
   "metadata": {
    "pycharm": {
     "name": "#%% md\n"
    }
   },
   "source": [
    "## Graficar la pérdida y la precisión del modelo 3"
   ]
  },
  {
   "cell_type": "code",
   "execution_count": 104,
   "metadata": {
    "pycharm": {
     "name": "#%%\n"
    }
   },
   "outputs": [
    {
     "data": {
      "text/plain": "<Figure size 432x288 with 2 Axes>",
      "image/png": "[encoded data removed]"
     },
     "metadata": {
      "needs_background": "light"
     },
     "output_type": "display_data"
    }
   ],
   "source": [
    "fig, (ax1, ax2) = plt.subplots(1, 2)\n",
    "fig.suptitle('Modelo Keras 0.5')\n",
    "ax1.set_title('Pérdida')\n",
    "ax1.plot(historial.history['loss'])\n",
    "ax2.set_title('Precisión')\n",
    "ax2.plot(historial.history['accuracy'])\n",
    "plt.show()"
   ]
  },
  {
   "cell_type": "markdown",
   "metadata": {
    "pycharm": {
     "name": "#%% md\n"
    }
   },
   "source": [
    "## Predicción de la data con el modelo 3"
   ]
  },
  {
   "cell_type": "code",
   "execution_count": 105,
   "metadata": {
    "pycharm": {
     "name": "#%%\n"
    }
   },
   "outputs": [
    {
     "name": "stdout",
     "output_type": "stream",
     "text": [
      "1/1 [==============================] - 0s 45ms/step\n",
      "Real 0.0 => Predicción [-2.195908]\n",
      "Real 0.0 => Predicción [-2.195908]\n",
      "Real 0.0 => Predicción [-2.195908]\n",
      "Real 0.0 => Predicción [-2.195908]\n",
      "Real 0.0 => Predicción [-2.195908]\n",
      "Real 0.0 => Predicción [-2.195908]\n",
      "Real 0.0 => Predicción [-2.195908]\n",
      "Real 0.0 => Predicción [-2.195908]\n",
      "Real 0.0 => Predicción [-2.195908]\n",
      "Real 1.0 => Predicción [-2.195908]\n"
     ]
    }
   ],
   "source": [
    "pred = model.predict(w_test_pred)\n",
    "for real, prd in zip(w_true_pred, pred):\n",
    "  print('Real {} => Predicción {}'.format(real, prd))"
   ]
  },
  {
   "cell_type": "markdown",
   "metadata": {
    "pycharm": {
     "name": "#%% md\n"
    }
   },
   "source": [
    "## Agregar los datos de precisión y pérdida al historial"
   ]
  },
  {
   "cell_type": "code",
   "execution_count": 106,
   "metadata": {
    "pycharm": {
     "name": "#%%\n"
    }
   },
   "outputs": [
    {
     "name": "stdout",
     "output_type": "stream",
     "text": [
      "6250/6250 [==============================] - 3s 554us/step - loss: 0.2980 - accuracy: 0.9123\n"
     ]
    }
   ],
   "source": [
    "modelScores.append(model.evaluate(w_test, w_true))"
   ]
  },
  {
   "cell_type": "markdown",
   "metadata": {
    "pycharm": {
     "name": "#%% md\n"
    }
   },
   "source": [
    "## Cambiar topología de la red neuronal\n",
    "> Como tuvimos buenos resultado con el aprendizaje 0.01, procedemos a cambiar la topología de la red neuronal manteniendo este ritmo."
   ]
  },
  {
   "cell_type": "markdown",
   "metadata": {
    "pycharm": {
     "name": "#%% md\n"
    }
   },
   "source": [
    "## Funciones para armar los modelos"
   ]
  },
  {
   "cell_type": "markdown",
   "metadata": {
    "pycharm": {
     "name": "#%% md\n"
    }
   },
   "source": [
    "## Modelo 4\n",
    "### Se cambia:\n",
    "- Número de neuronas en la capa oculta\n",
    "- Nueva capa oculta\n",
    "- Distinto optimizador"
   ]
  },
  {
   "cell_type": "code",
   "execution_count": 107,
   "metadata": {
    "pycharm": {
     "name": "#%%\n"
    }
   },
   "outputs": [],
   "source": [
    "def get_model_RMSprop(learning_rate):\n",
    "  model = tf.keras.Sequential([\n",
    "    tf.keras.layers.Dense(24, activation='relu'),\n",
    "    tf.keras.layers.Dense(12, activation='relu'),\n",
    "    tf.keras.layers.Dense(6, activation='relu'),\n",
    "    tf.keras.layers.Dense(1)\n",
    "  ])\n",
    "## Cambiamos el optimizador a RMSprop\n",
    "  model.compile(optimizer=tf.keras.optimizers.RMSprop(learning_rate),\n",
    "                loss=tf.keras.losses.BinaryCrossentropy(from_logits=True),\n",
    "                metrics=['accuracy'])\n",
    "  return model"
   ]
  },
  {
   "cell_type": "markdown",
   "metadata": {
    "pycharm": {
     "name": "#%% md\n"
    }
   },
   "source": [
    "## Modelo 5\n",
    "### Se cambia:\n",
    "- Mismo número de neuronas y capas del modelo anterior\n",
    "- Distinto optimizador"
   ]
  },
  {
   "cell_type": "code",
   "execution_count": 108,
   "metadata": {
    "pycharm": {
     "name": "#%%\n"
    }
   },
   "outputs": [],
   "source": [
    "def get_model_SGD(learning_rate):\n",
    "  model = tf.keras.Sequential([\n",
    "    tf.keras.layers.Dense(24, activation='relu'),\n",
    "    tf.keras.layers.Dense(12, activation='relu'),\n",
    "    tf.keras.layers.Dense(6, activation='relu'),\n",
    "    tf.keras.layers.Dense(1)\n",
    "  ])\n",
    "\n",
    "  model.compile(optimizer=tf.keras.optimizers.SGD(learning_rate),\n",
    "                loss=tf.keras.losses.BinaryCrossentropy(from_logits=True),\n",
    "                metrics=['accuracy'])\n",
    "  return model"
   ]
  },
  {
   "cell_type": "markdown",
   "metadata": {
    "pycharm": {
     "name": "#%% md\n"
    }
   },
   "source": [
    "## Modelo con topología nueva (SGD) con aprendizaje 0.01"
   ]
  },
  {
   "cell_type": "code",
   "execution_count": 109,
   "metadata": {
    "pycharm": {
     "name": "#%%\n"
    }
   },
   "outputs": [
    {
     "name": "stdout",
     "output_type": "stream",
     "text": [
      "Epoch 1/15\n",
      "20000/20000 [==============================] - 15s 736us/step - loss: 0.0583 - accuracy: 0.9763 - val_loss: 0.0219 - val_accuracy: 0.9921\n",
      "Epoch 2/15\n",
      "20000/20000 [==============================] - 14s 724us/step - loss: 0.0194 - accuracy: 0.9931 - val_loss: 0.0153 - val_accuracy: 0.9950\n",
      "Epoch 3/15\n",
      "20000/20000 [==============================] - 14s 724us/step - loss: 0.0165 - accuracy: 0.9948 - val_loss: 0.0145 - val_accuracy: 0.9941\n",
      "Epoch 4/15\n",
      "20000/20000 [==============================] - 15s 727us/step - loss: 0.0107 - accuracy: 0.9961 - val_loss: 0.0091 - val_accuracy: 0.9973\n",
      "Epoch 5/15\n",
      "20000/20000 [==============================] - 14s 721us/step - loss: 0.0103 - accuracy: 0.9967 - val_loss: 0.0079 - val_accuracy: 0.9977\n",
      "Epoch 6/15\n",
      "20000/20000 [==============================] - 15s 726us/step - loss: 0.0087 - accuracy: 0.9971 - val_loss: 0.0064 - val_accuracy: 0.9974\n",
      "Epoch 7/15\n",
      "20000/20000 [==============================] - 15s 726us/step - loss: 0.0080 - accuracy: 0.9971 - val_loss: 0.0061 - val_accuracy: 0.9980\n",
      "Epoch 8/15\n",
      "20000/20000 [==============================] - 14s 721us/step - loss: 0.0067 - accuracy: 0.9976 - val_loss: 0.0115 - val_accuracy: 0.9964\n",
      "Epoch 9/15\n",
      "20000/20000 [==============================] - 15s 731us/step - loss: 0.0058 - accuracy: 0.9976 - val_loss: 0.0050 - val_accuracy: 0.9982\n",
      "Epoch 10/15\n",
      "20000/20000 [==============================] - 15s 725us/step - loss: 0.0060 - accuracy: 0.9978 - val_loss: 0.0063 - val_accuracy: 0.9976\n",
      "Epoch 11/15\n",
      "20000/20000 [==============================] - 15s 730us/step - loss: 0.0055 - accuracy: 0.9979 - val_loss: 0.0061 - val_accuracy: 0.9976\n",
      "Epoch 12/15\n",
      "20000/20000 [==============================] - 15s 761us/step - loss: 0.0053 - accuracy: 0.9980 - val_loss: 0.0111 - val_accuracy: 0.9969\n",
      "Epoch 13/15\n",
      "20000/20000 [==============================] - 15s 757us/step - loss: 0.0051 - accuracy: 0.9980 - val_loss: 0.0062 - val_accuracy: 0.9976\n",
      "Epoch 14/15\n",
      "20000/20000 [==============================] - 15s 738us/step - loss: 0.0046 - accuracy: 0.9981 - val_loss: 0.0047 - val_accuracy: 0.9986\n",
      "Epoch 15/15\n",
      "20000/20000 [==============================] - 15s 738us/step - loss: 0.0057 - accuracy: 0.9979 - val_loss: 0.0045 - val_accuracy: 0.9986\n"
     ]
    }
   ],
   "source": [
    "model = get_model_SGD(0.01)\n",
    "historial = model.fit(t_data, t_target, epochs=15, verbose=True, callbacks=[callback], validation_split=0.2)"
   ]
  },
  {
   "cell_type": "markdown",
   "metadata": {
    "pycharm": {
     "name": "#%% md\n"
    }
   },
   "source": [
    "## Graficar la pérdida y la precisión"
   ]
  },
  {
   "cell_type": "code",
   "execution_count": 110,
   "metadata": {
    "pycharm": {
     "name": "#%%\n"
    }
   },
   "outputs": [
    {
     "data": {
      "text/plain": "<Figure size 432x288 with 2 Axes>",
      "image/png": "[encoded data removed]"
     },
     "metadata": {
      "needs_background": "light"
     },
     "output_type": "display_data"
    }
   ],
   "source": [
    "fig, (ax1, ax2) = plt.subplots(1, 2)\n",
    "fig.suptitle('Modelo Keras SGD 0.01')\n",
    "ax1.set_title('Pérdida')\n",
    "ax1.plot(historial.history['loss'])\n",
    "ax2.set_title('Precisión')\n",
    "ax2.plot(historial.history['accuracy'])\n",
    "plt.show()"
   ]
  },
  {
   "cell_type": "markdown",
   "metadata": {
    "pycharm": {
     "name": "#%% md\n"
    }
   },
   "source": [
    "## Predicción de la data con el modelo 4"
   ]
  },
  {
   "cell_type": "code",
   "execution_count": 111,
   "metadata": {
    "pycharm": {
     "name": "#%%\n"
    }
   },
   "outputs": [
    {
     "name": "stdout",
     "output_type": "stream",
     "text": [
      "1/1 [==============================] - 0s 51ms/step\n",
      "Real 0.0 => Predicción [-22.113228]\n",
      "Real 0.0 => Predicción [-69.05756]\n",
      "Real 0.0 => Predicción [-69.68832]\n",
      "Real 0.0 => Predicción [-44.155308]\n",
      "Real 0.0 => Predicción [-40.43072]\n",
      "Real 0.0 => Predicción [-71.500145]\n",
      "Real 0.0 => Predicción [-1.273993]\n",
      "Real 0.0 => Predicción [-45.57522]\n",
      "Real 0.0 => Predicción [-64.35333]\n",
      "Real 1.0 => Predicción [11.242969]\n"
     ]
    }
   ],
   "source": [
    "pred = model.predict(w_test_pred)\n",
    "for real, prd in zip(w_true_pred, pred):\n",
    "  print('Real {} => Predicción {}'.format(real, prd))"
   ]
  },
  {
   "cell_type": "markdown",
   "metadata": {
    "pycharm": {
     "name": "#%% md\n"
    }
   },
   "source": [
    "## Agregar los datos de precisión y pérdida al historial"
   ]
  },
  {
   "cell_type": "code",
   "execution_count": 112,
   "metadata": {
    "pycharm": {
     "name": "#%%\n"
    }
   },
   "outputs": [
    {
     "name": "stdout",
     "output_type": "stream",
     "text": [
      "6250/6250 [==============================] - 3s 543us/step - loss: 0.0041 - accuracy: 0.9985\n"
     ]
    }
   ],
   "source": [
    "modelScores.append(model.evaluate(w_test, w_true))"
   ]
  },
  {
   "cell_type": "markdown",
   "metadata": {
    "pycharm": {
     "name": "#%% md\n"
    }
   },
   "source": [
    "# Modelo con topología nueva (RMSprop) con aprendizaje 0.01"
   ]
  },
  {
   "cell_type": "code",
   "execution_count": 113,
   "metadata": {
    "pycharm": {
     "name": "#%%\n"
    }
   },
   "outputs": [
    {
     "name": "stdout",
     "output_type": "stream",
     "text": [
      "Epoch 1/15\n",
      "20000/20000 [==============================] - 16s 769us/step - loss: 0.0277 - accuracy: 0.9915 - val_loss: 0.0213 - val_accuracy: 0.9918\n",
      "Epoch 2/15\n",
      "20000/20000 [==============================] - 15s 733us/step - loss: 0.0252 - accuracy: 0.9935 - val_loss: 0.0516 - val_accuracy: 0.9940\n",
      "Epoch 3/15\n",
      "20000/20000 [==============================] - 14s 705us/step - loss: 0.0384 - accuracy: 0.9928 - val_loss: 0.0196 - val_accuracy: 0.9943\n",
      "Epoch 4/15\n",
      "20000/20000 [==============================] - 14s 702us/step - loss: 0.0572 - accuracy: 0.9924 - val_loss: 0.0420 - val_accuracy: 0.9956\n"
     ]
    }
   ],
   "source": [
    "model = get_model_RMSprop(0.01)\n",
    "historial = model.fit(t_data, t_target, epochs=15, verbose=True, callbacks=[callback], validation_split=0.2)"
   ]
  },
  {
   "cell_type": "markdown",
   "metadata": {
    "pycharm": {
     "name": "#%% md\n"
    }
   },
   "source": [
    "## Graficar la pérdida y la precisión"
   ]
  },
  {
   "cell_type": "code",
   "execution_count": 114,
   "metadata": {
    "pycharm": {
     "name": "#%%\n"
    }
   },
   "outputs": [
    {
     "data": {
      "text/plain": "<Figure size 432x288 with 2 Axes>",
      "image/png": "[encoded data removed]"
     },
     "metadata": {
      "needs_background": "light"
     },
     "output_type": "display_data"
    }
   ],
   "source": [
    "fig, (ax1, ax2) = plt.subplots(1, 2)\n",
    "fig.suptitle('Modelo Keras RMSprop 0.01')\n",
    "ax1.set_title('Pérdida')\n",
    "ax1.plot(historial.history['loss'])\n",
    "ax2.set_title('Precisión')\n",
    "ax2.plot(historial.history['accuracy'])\n",
    "plt.show()"
   ]
  },
  {
   "cell_type": "markdown",
   "metadata": {
    "pycharm": {
     "name": "#%% md\n"
    }
   },
   "source": [
    "## Predicción de la data con el modelo 5"
   ]
  },
  {
   "cell_type": "code",
   "execution_count": 115,
   "metadata": {
    "pycharm": {
     "name": "#%%\n"
    }
   },
   "outputs": [
    {
     "name": "stdout",
     "output_type": "stream",
     "text": [
      "1/1 [==============================] - 0s 42ms/step\n",
      "Real 0.0 => Predicción [-21.534573]\n",
      "Real 0.0 => Predicción [-53.77244]\n",
      "Real 0.0 => Predicción [-38.22755]\n",
      "Real 0.0 => Predicción [-43.56947]\n",
      "Real 0.0 => Predicción [-41.313488]\n",
      "Real 0.0 => Predicción [-221.57578]\n",
      "Real 0.0 => Predicción [-5.077366]\n",
      "Real 0.0 => Predicción [-26.80334]\n",
      "Real 0.0 => Predicción [-15.476147]\n",
      "Real 1.0 => Predicción [26.538982]\n"
     ]
    }
   ],
   "source": [
    "pred = model.predict(w_test_pred)\n",
    "for real, prd in zip(w_true_pred, pred):\n",
    "  print('Real {} => Predicción {}'.format(real, prd))"
   ]
  },
  {
   "cell_type": "markdown",
   "metadata": {
    "pycharm": {
     "name": "#%% md\n"
    }
   },
   "source": [
    "## Agregar los datos de precisión y pérdida al historial"
   ]
  },
  {
   "cell_type": "code",
   "execution_count": 116,
   "metadata": {
    "pycharm": {
     "name": "#%%\n"
    }
   },
   "outputs": [
    {
     "name": "stdout",
     "output_type": "stream",
     "text": [
      "6250/6250 [==============================] - 3s 490us/step - loss: 0.0520 - accuracy: 0.9955\n"
     ]
    }
   ],
   "source": [
    "modelScores.append(model.evaluate(w_test, w_true))"
   ]
  },
  {
   "cell_type": "markdown",
   "metadata": {
    "pycharm": {
     "name": "#%% md\n"
    }
   },
   "source": [
    "## Comparar los modelos con el accuracy"
   ]
  },
  {
   "cell_type": "code",
   "execution_count": 117,
   "metadata": {
    "pycharm": {
     "name": "#%%\n"
    }
   },
   "outputs": [
    {
     "name": "stdout",
     "output_type": "stream",
     "text": [
      "Precisión: 0.9976599812507629  Pérdida: 0.007022859062999487\n",
      "Precisión: 0.9890999794006348  Pérdida: 0.0396265909075737\n",
      "Precisión: 0.9123250246047974  Pérdida: 0.2980145215988159\n",
      "Precisión: 0.9984949827194214  Pérdida: 0.004139263182878494\n",
      "Precisión: 0.9955499768257141  Pérdida: 0.0519871711730957\n"
     ]
    }
   ],
   "source": [
    "for score in modelScores:\n",
    "  print('Precisión: {}  Pérdida: {}'.format(score[1], score[0]))"
   ]
  }
 ],
 "metadata": {
  "kernelspec": {
   "display_name": "Python 3 (ipykernel)",
   "language": "python",
   "name": "python3"
  },
  "language_info": {
   "codemirror_mode": {
    "name": "ipython",
    "version": 3
   },
   "file_extension": ".py",
   "mimetype": "text/x-python",
   "name": "python",
   "nbconvert_exporter": "python",
   "pygments_lexer": "ipython3",
   "version": "3.10.4"
  }
 },
 "nbformat": 4,
 "nbformat_minor": 4
}