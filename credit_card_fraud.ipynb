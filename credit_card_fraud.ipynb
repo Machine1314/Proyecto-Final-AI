{
 "cells": [
  {
   "cell_type": "markdown",
   "metadata": {
    "pycharm": {
     "name": "#%% md\n"
    }
   },
   "source": [
    "# Detección de Fraude con Tarjetas de crédito\n",
    "# Grupo 3\n",
    "## Bruno Dueñas, Fernando Mejía, Mateo Córdova"
   ]
  },
  {
   "cell_type": "markdown",
   "metadata": {
    "pycharm": {
     "name": "#%% md\n"
    }
   },
   "source": [
    "# Importar librerías"
   ]
  },
  {
   "cell_type": "code",
   "execution_count": 65,
   "metadata": {
    "execution": {
     "iopub.execute_input": "2022-05-22T09:07:04.128599Z",
     "iopub.status.busy": "2022-05-22T09:07:04.128256Z",
     "iopub.status.idle": "2022-05-22T09:07:04.762116Z",
     "shell.execute_reply": "2022-05-22T09:07:04.761402Z",
     "shell.execute_reply.started": "2022-05-22T09:07:04.128535Z"
    },
    "pycharm": {
     "name": "#%%\n"
    }
   },
   "outputs": [],
   "source": [
    "import pandas as pd\n",
    "import numpy as np\n",
    "import matplotlib.pyplot as plt\n",
    "%matplotlib inline\n",
    "import seaborn as sns\n",
    "# Machine Learning\n",
    "from sklearn.feature_selection import SelectKBest\n",
    "from sklearn.feature_selection import f_classif\n",
    "from sklearn.preprocessing import StandardScaler\n",
    "from sklearn.metrics import accuracy_score\n",
    "from sklearn.metrics import confusion_matrix\n",
    "from sklearn.tree import DecisionTreeClassifier\n",
    "from sklearn import metrics\n",
    "from sklearn import tree\n",
    "from sklearn.model_selection import train_test_split\n",
    "import tensorflow as tf\n",
    "import graphviz"
   ]
  },
  {
   "cell_type": "markdown",
   "metadata": {
    "pycharm": {
     "name": "#%% md\n"
    }
   },
   "source": [
    "## Importando la data proveniente del csv y mostrándo el contenido de la data"
   ]
  },
  {
   "cell_type": "code",
   "execution_count": 66,
   "metadata": {
    "execution": {
     "iopub.execute_input": "2022-05-22T09:07:04.767937Z",
     "iopub.status.busy": "2022-05-22T09:07:04.767594Z",
     "iopub.status.idle": "2022-05-22T09:07:06.087392Z",
     "shell.execute_reply": "2022-05-22T09:07:06.086361Z",
     "shell.execute_reply.started": "2022-05-22T09:07:04.767894Z"
    },
    "pycharm": {
     "name": "#%%\n"
    }
   },
   "outputs": [
    {
     "data": {
      "text/plain": "        distance_from_home  distance_from_last_transaction  \\\n0                57.877857                        0.311140   \n1                10.829943                        0.175592   \n2                 5.091079                        0.805153   \n3                 2.247564                        5.600044   \n4                44.190936                        0.566486   \n...                    ...                             ...   \n999995            2.207101                        0.112651   \n999996           19.872726                        2.683904   \n999997            2.914857                        1.472687   \n999998            4.258729                        0.242023   \n999999           58.108125                        0.318110   \n\n        ratio_to_median_purchase_price  repeat_retailer  used_chip  \\\n0                             1.945940              1.0        1.0   \n1                             1.294219              1.0        0.0   \n2                             0.427715              1.0        0.0   \n3                             0.362663              1.0        1.0   \n4                             2.222767              1.0        1.0   \n...                                ...              ...        ...   \n999995                        1.626798              1.0        1.0   \n999996                        2.778303              1.0        1.0   \n999997                        0.218075              1.0        1.0   \n999998                        0.475822              1.0        0.0   \n999999                        0.386920              1.0        1.0   \n\n        used_pin_number  online_order  fraud  \n0                   0.0           0.0    0.0  \n1                   0.0           0.0    0.0  \n2                   0.0           1.0    0.0  \n3                   0.0           1.0    0.0  \n4                   0.0           1.0    0.0  \n...                 ...           ...    ...  \n999995              0.0           0.0    0.0  \n999996              0.0           0.0    0.0  \n999997              0.0           1.0    0.0  \n999998              0.0           1.0    0.0  \n999999              0.0           1.0    0.0  \n\n[1000000 rows x 8 columns]",
      "text/html": "<div>\n<style scoped>\n    .dataframe tbody tr th:only-of-type {\n        vertical-align: middle;\n    }\n\n    .dataframe tbody tr th {\n        vertical-align: top;\n    }\n\n    .dataframe thead th {\n        text-align: right;\n    }\n</style>\n<table border=\"1\" class=\"dataframe\">\n  <thead>\n    <tr style=\"text-align: right;\">\n      <th></th>\n      <th>distance_from_home</th>\n      <th>distance_from_last_transaction</th>\n      <th>ratio_to_median_purchase_price</th>\n      <th>repeat_retailer</th>\n      <th>used_chip</th>\n      <th>used_pin_number</th>\n      <th>online_order</th>\n      <th>fraud</th>\n    </tr>\n  </thead>\n  <tbody>\n    <tr>\n      <th>0</th>\n      <td>57.877857</td>\n      <td>0.311140</td>\n      <td>1.945940</td>\n      <td>1.0</td>\n      <td>1.0</td>\n      <td>0.0</td>\n      <td>0.0</td>\n      <td>0.0</td>\n    </tr>\n    <tr>\n      <th>1</th>\n      <td>10.829943</td>\n      <td>0.175592</td>\n      <td>1.294219</td>\n      <td>1.0</td>\n      <td>0.0</td>\n      <td>0.0</td>\n      <td>0.0</td>\n      <td>0.0</td>\n    </tr>\n    <tr>\n      <th>2</th>\n      <td>5.091079</td>\n      <td>0.805153</td>\n      <td>0.427715</td>\n      <td>1.0</td>\n      <td>0.0</td>\n      <td>0.0</td>\n      <td>1.0</td>\n      <td>0.0</td>\n    </tr>\n    <tr>\n      <th>3</th>\n      <td>2.247564</td>\n      <td>5.600044</td>\n      <td>0.362663</td>\n      <td>1.0</td>\n      <td>1.0</td>\n      <td>0.0</td>\n      <td>1.0</td>\n      <td>0.0</td>\n    </tr>\n    <tr>\n      <th>4</th>\n      <td>44.190936</td>\n      <td>0.566486</td>\n      <td>2.222767</td>\n      <td>1.0</td>\n      <td>1.0</td>\n      <td>0.0</td>\n      <td>1.0</td>\n      <td>0.0</td>\n    </tr>\n    <tr>\n      <th>...</th>\n      <td>...</td>\n      <td>...</td>\n      <td>...</td>\n      <td>...</td>\n      <td>...</td>\n      <td>...</td>\n      <td>...</td>\n      <td>...</td>\n    </tr>\n    <tr>\n      <th>999995</th>\n      <td>2.207101</td>\n      <td>0.112651</td>\n      <td>1.626798</td>\n      <td>1.0</td>\n      <td>1.0</td>\n      <td>0.0</td>\n      <td>0.0</td>\n      <td>0.0</td>\n    </tr>\n    <tr>\n      <th>999996</th>\n      <td>19.872726</td>\n      <td>2.683904</td>\n      <td>2.778303</td>\n      <td>1.0</td>\n      <td>1.0</td>\n      <td>0.0</td>\n      <td>0.0</td>\n      <td>0.0</td>\n    </tr>\n    <tr>\n      <th>999997</th>\n      <td>2.914857</td>\n      <td>1.472687</td>\n      <td>0.218075</td>\n      <td>1.0</td>\n      <td>1.0</td>\n      <td>0.0</td>\n      <td>1.0</td>\n      <td>0.0</td>\n    </tr>\n    <tr>\n      <th>999998</th>\n      <td>4.258729</td>\n      <td>0.242023</td>\n      <td>0.475822</td>\n      <td>1.0</td>\n      <td>0.0</td>\n      <td>0.0</td>\n      <td>1.0</td>\n      <td>0.0</td>\n    </tr>\n    <tr>\n      <th>999999</th>\n      <td>58.108125</td>\n      <td>0.318110</td>\n      <td>0.386920</td>\n      <td>1.0</td>\n      <td>1.0</td>\n      <td>0.0</td>\n      <td>1.0</td>\n      <td>0.0</td>\n    </tr>\n  </tbody>\n</table>\n<p>1000000 rows × 8 columns</p>\n</div>"
     },
     "execution_count": 66,
     "metadata": {},
     "output_type": "execute_result"
    }
   ],
   "source": [
    "column_names = [\"distance_from_home\",\"distance_from_last_transaction\",\"ratio_to_median_purchase_price\",\"repeat_retailer\",\"used_chip\",\"used_pin_number\",\"online_order\",\"fraud\"]\n",
    "dframe=pd.read_csv(\"data/card_transdata.csv\")\n",
    "dframe"
   ]
  },
  {
   "cell_type": "markdown",
   "metadata": {
    "pycharm": {
     "name": "#%% md\n"
    }
   },
   "source": [
    "## Encontrar las características de la data"
   ]
  },
  {
   "cell_type": "code",
   "execution_count": 67,
   "metadata": {
    "execution": {
     "iopub.execute_input": "2022-05-22T09:07:06.113286Z",
     "iopub.status.busy": "2022-05-22T09:07:06.112935Z",
     "iopub.status.idle": "2022-05-22T09:07:06.510920Z",
     "shell.execute_reply": "2022-05-22T09:07:06.510097Z",
     "shell.execute_reply.started": "2022-05-22T09:07:06.113239Z"
    },
    "pycharm": {
     "name": "#%%\n"
    }
   },
   "outputs": [
    {
     "data": {
      "text/plain": "       distance_from_home  distance_from_last_transaction  \\\ncount      1000000.000000                  1000000.000000   \nmean            26.628792                        5.036519   \nstd             65.390784                       25.843093   \nmin              0.004874                        0.000118   \n25%              3.878008                        0.296671   \n50%              9.967760                        0.998650   \n75%             25.743985                        3.355748   \nmax          10632.723672                    11851.104565   \n\n       ratio_to_median_purchase_price  repeat_retailer       used_chip  \\\ncount                  1000000.000000   1000000.000000  1000000.000000   \nmean                         1.824182         0.881536        0.350399   \nstd                          2.799589         0.323157        0.477095   \nmin                          0.004399         0.000000        0.000000   \n25%                          0.475673         1.000000        0.000000   \n50%                          0.997717         1.000000        0.000000   \n75%                          2.096370         1.000000        1.000000   \nmax                        267.802942         1.000000        1.000000   \n\n       used_pin_number    online_order           fraud  \ncount   1000000.000000  1000000.000000  1000000.000000  \nmean          0.100608        0.650552        0.087403  \nstd           0.300809        0.476796        0.282425  \nmin           0.000000        0.000000        0.000000  \n25%           0.000000        0.000000        0.000000  \n50%           0.000000        1.000000        0.000000  \n75%           0.000000        1.000000        0.000000  \nmax           1.000000        1.000000        1.000000  ",
      "text/html": "<div>\n<style scoped>\n    .dataframe tbody tr th:only-of-type {\n        vertical-align: middle;\n    }\n\n    .dataframe tbody tr th {\n        vertical-align: top;\n    }\n\n    .dataframe thead th {\n        text-align: right;\n    }\n</style>\n<table border=\"1\" class=\"dataframe\">\n  <thead>\n    <tr style=\"text-align: right;\">\n      <th></th>\n      <th>distance_from_home</th>\n      <th>distance_from_last_transaction</th>\n      <th>ratio_to_median_purchase_price</th>\n      <th>repeat_retailer</th>\n      <th>used_chip</th>\n      <th>used_pin_number</th>\n      <th>online_order</th>\n      <th>fraud</th>\n    </tr>\n  </thead>\n  <tbody>\n    <tr>\n      <th>count</th>\n      <td>1000000.000000</td>\n      <td>1000000.000000</td>\n      <td>1000000.000000</td>\n      <td>1000000.000000</td>\n      <td>1000000.000000</td>\n      <td>1000000.000000</td>\n      <td>1000000.000000</td>\n      <td>1000000.000000</td>\n    </tr>\n    <tr>\n      <th>mean</th>\n      <td>26.628792</td>\n      <td>5.036519</td>\n      <td>1.824182</td>\n      <td>0.881536</td>\n      <td>0.350399</td>\n      <td>0.100608</td>\n      <td>0.650552</td>\n      <td>0.087403</td>\n    </tr>\n    <tr>\n      <th>std</th>\n      <td>65.390784</td>\n      <td>25.843093</td>\n      <td>2.799589</td>\n      <td>0.323157</td>\n      <td>0.477095</td>\n      <td>0.300809</td>\n      <td>0.476796</td>\n      <td>0.282425</td>\n    </tr>\n    <tr>\n      <th>min</th>\n      <td>0.004874</td>\n      <td>0.000118</td>\n      <td>0.004399</td>\n      <td>0.000000</td>\n      <td>0.000000</td>\n      <td>0.000000</td>\n      <td>0.000000</td>\n      <td>0.000000</td>\n    </tr>\n    <tr>\n      <th>25%</th>\n      <td>3.878008</td>\n      <td>0.296671</td>\n      <td>0.475673</td>\n      <td>1.000000</td>\n      <td>0.000000</td>\n      <td>0.000000</td>\n      <td>0.000000</td>\n      <td>0.000000</td>\n    </tr>\n    <tr>\n      <th>50%</th>\n      <td>9.967760</td>\n      <td>0.998650</td>\n      <td>0.997717</td>\n      <td>1.000000</td>\n      <td>0.000000</td>\n      <td>0.000000</td>\n      <td>1.000000</td>\n      <td>0.000000</td>\n    </tr>\n    <tr>\n      <th>75%</th>\n      <td>25.743985</td>\n      <td>3.355748</td>\n      <td>2.096370</td>\n      <td>1.000000</td>\n      <td>1.000000</td>\n      <td>0.000000</td>\n      <td>1.000000</td>\n      <td>0.000000</td>\n    </tr>\n    <tr>\n      <th>max</th>\n      <td>10632.723672</td>\n      <td>11851.104565</td>\n      <td>267.802942</td>\n      <td>1.000000</td>\n      <td>1.000000</td>\n      <td>1.000000</td>\n      <td>1.000000</td>\n      <td>1.000000</td>\n    </tr>\n  </tbody>\n</table>\n</div>"
     },
     "execution_count": 67,
     "metadata": {},
     "output_type": "execute_result"
    }
   ],
   "source": [
    "dframe.describe()"
   ]
  },
  {
   "cell_type": "markdown",
   "metadata": {
    "pycharm": {
     "name": "#%% md\n"
    }
   },
   "source": [
    "## Copia para el modelo en keras"
   ]
  },
  {
   "cell_type": "code",
   "execution_count": 68,
   "metadata": {
    "pycharm": {
     "name": "#%%\n"
    }
   },
   "outputs": [],
   "source": [
    "dframeKeras = dframe.copy()"
   ]
  },
  {
   "cell_type": "markdown",
   "metadata": {
    "pycharm": {
     "name": "#%% md\n"
    }
   },
   "source": [
    "## Copia para el arbol de decisión sklearn"
   ]
  },
  {
   "cell_type": "code",
   "execution_count": 69,
   "metadata": {
    "pycharm": {
     "name": "#%%\n"
    }
   },
   "outputs": [],
   "source": [
    "dframeArbol = dframe.copy()"
   ]
  },
  {
   "cell_type": "markdown",
   "metadata": {
    "pycharm": {
     "name": "#%% md\n"
    }
   },
   "source": [
    "## Normalización de la data"
   ]
  },
  {
   "cell_type": "code",
   "execution_count": 70,
   "metadata": {
    "pycharm": {
     "name": "#%%\n"
    }
   },
   "outputs": [],
   "source": [
    "scaler = StandardScaler()\n",
    "dframe.iloc[:,0:-1] = scaler.fit_transform(dframe.iloc[:,0:-1].to_numpy())"
   ]
  },
  {
   "cell_type": "code",
   "execution_count": 71,
   "metadata": {
    "pycharm": {
     "name": "#%%\n"
    }
   },
   "outputs": [
    {
     "data": {
      "text/plain": "        distance_from_home  distance_from_last_transaction  \\\n0                 0.477882                       -0.182849   \n1                -0.241607                       -0.188094   \n2                -0.329369                       -0.163733   \n3                -0.372854                        0.021806   \n4                 0.268572                       -0.172968   \n...                    ...                             ...   \n999995           -0.373473                       -0.190529   \n999996           -0.103318                       -0.091035   \n999997           -0.362650                       -0.137903   \n999998           -0.342098                       -0.185523   \n999999            0.481403                       -0.182579   \n\n        ratio_to_median_purchase_price  repeat_retailer  used_chip  \\\n0                             0.043491         0.366584   1.361576   \n1                            -0.189300         0.366584  -0.734443   \n2                            -0.498812         0.366584  -0.734443   \n3                            -0.522048         0.366584   1.361576   \n4                             0.142373         0.366584   1.361576   \n...                                ...              ...        ...   \n999995                       -0.070505         0.366584   1.361576   \n999996                        0.340808         0.366584   1.361576   \n999997                       -0.573694         0.366584   1.361576   \n999998                       -0.481628         0.366584  -0.734443   \n999999                       -0.513384         0.366584   1.361576   \n\n        used_pin_number  online_order  fraud  \n0             -0.334458     -1.364425    0.0  \n1             -0.334458     -1.364425    0.0  \n2             -0.334458      0.732909    0.0  \n3             -0.334458      0.732909    0.0  \n4             -0.334458      0.732909    0.0  \n...                 ...           ...    ...  \n999995        -0.334458     -1.364425    0.0  \n999996        -0.334458     -1.364425    0.0  \n999997        -0.334458      0.732909    0.0  \n999998        -0.334458      0.732909    0.0  \n999999        -0.334458      0.732909    0.0  \n\n[1000000 rows x 8 columns]",
      "text/html": "<div>\n<style scoped>\n    .dataframe tbody tr th:only-of-type {\n        vertical-align: middle;\n    }\n\n    .dataframe tbody tr th {\n        vertical-align: top;\n    }\n\n    .dataframe thead th {\n        text-align: right;\n    }\n</style>\n<table border=\"1\" class=\"dataframe\">\n  <thead>\n    <tr style=\"text-align: right;\">\n      <th></th>\n      <th>distance_from_home</th>\n      <th>distance_from_last_transaction</th>\n      <th>ratio_to_median_purchase_price</th>\n      <th>repeat_retailer</th>\n      <th>used_chip</th>\n      <th>used_pin_number</th>\n      <th>online_order</th>\n      <th>fraud</th>\n    </tr>\n  </thead>\n  <tbody>\n    <tr>\n      <th>0</th>\n      <td>0.477882</td>\n      <td>-0.182849</td>\n      <td>0.043491</td>\n      <td>0.366584</td>\n      <td>1.361576</td>\n      <td>-0.334458</td>\n      <td>-1.364425</td>\n      <td>0.0</td>\n    </tr>\n    <tr>\n      <th>1</th>\n      <td>-0.241607</td>\n      <td>-0.188094</td>\n      <td>-0.189300</td>\n      <td>0.366584</td>\n      <td>-0.734443</td>\n      <td>-0.334458</td>\n      <td>-1.364425</td>\n      <td>0.0</td>\n    </tr>\n    <tr>\n      <th>2</th>\n      <td>-0.329369</td>\n      <td>-0.163733</td>\n      <td>-0.498812</td>\n      <td>0.366584</td>\n      <td>-0.734443</td>\n      <td>-0.334458</td>\n      <td>0.732909</td>\n      <td>0.0</td>\n    </tr>\n    <tr>\n      <th>3</th>\n      <td>-0.372854</td>\n      <td>0.021806</td>\n      <td>-0.522048</td>\n      <td>0.366584</td>\n      <td>1.361576</td>\n      <td>-0.334458</td>\n      <td>0.732909</td>\n      <td>0.0</td>\n    </tr>\n    <tr>\n      <th>4</th>\n      <td>0.268572</td>\n      <td>-0.172968</td>\n      <td>0.142373</td>\n      <td>0.366584</td>\n      <td>1.361576</td>\n      <td>-0.334458</td>\n      <td>0.732909</td>\n      <td>0.0</td>\n    </tr>\n    <tr>\n      <th>...</th>\n      <td>...</td>\n      <td>...</td>\n      <td>...</td>\n      <td>...</td>\n      <td>...</td>\n      <td>...</td>\n      <td>...</td>\n      <td>...</td>\n    </tr>\n    <tr>\n      <th>999995</th>\n      <td>-0.373473</td>\n      <td>-0.190529</td>\n      <td>-0.070505</td>\n      <td>0.366584</td>\n      <td>1.361576</td>\n      <td>-0.334458</td>\n      <td>-1.364425</td>\n      <td>0.0</td>\n    </tr>\n    <tr>\n      <th>999996</th>\n      <td>-0.103318</td>\n      <td>-0.091035</td>\n      <td>0.340808</td>\n      <td>0.366584</td>\n      <td>1.361576</td>\n      <td>-0.334458</td>\n      <td>-1.364425</td>\n      <td>0.0</td>\n    </tr>\n    <tr>\n      <th>999997</th>\n      <td>-0.362650</td>\n      <td>-0.137903</td>\n      <td>-0.573694</td>\n      <td>0.366584</td>\n      <td>1.361576</td>\n      <td>-0.334458</td>\n      <td>0.732909</td>\n      <td>0.0</td>\n    </tr>\n    <tr>\n      <th>999998</th>\n      <td>-0.342098</td>\n      <td>-0.185523</td>\n      <td>-0.481628</td>\n      <td>0.366584</td>\n      <td>-0.734443</td>\n      <td>-0.334458</td>\n      <td>0.732909</td>\n      <td>0.0</td>\n    </tr>\n    <tr>\n      <th>999999</th>\n      <td>0.481403</td>\n      <td>-0.182579</td>\n      <td>-0.513384</td>\n      <td>0.366584</td>\n      <td>1.361576</td>\n      <td>-0.334458</td>\n      <td>0.732909</td>\n      <td>0.0</td>\n    </tr>\n  </tbody>\n</table>\n<p>1000000 rows × 8 columns</p>\n</div>"
     },
     "execution_count": 71,
     "metadata": {},
     "output_type": "execute_result"
    }
   ],
   "source": [
    "dframe"
   ]
  },
  {
   "cell_type": "markdown",
   "metadata": {
    "pycharm": {
     "name": "#%% md\n"
    }
   },
   "source": [
    "## Revisar valores nulos (de existir)"
   ]
  },
  {
   "cell_type": "code",
   "execution_count": 72,
   "metadata": {
    "execution": {
     "iopub.execute_input": "2022-05-22T09:07:06.512467Z",
     "iopub.status.busy": "2022-05-22T09:07:06.512222Z",
     "iopub.status.idle": "2022-05-22T09:07:06.538470Z",
     "shell.execute_reply": "2022-05-22T09:07:06.537592Z",
     "shell.execute_reply.started": "2022-05-22T09:07:06.512439Z"
    },
    "pycharm": {
     "name": "#%%\n"
    }
   },
   "outputs": [
    {
     "data": {
      "text/plain": "distance_from_home                0\ndistance_from_last_transaction    0\nratio_to_median_purchase_price    0\nrepeat_retailer                   0\nused_chip                         0\nused_pin_number                   0\nonline_order                      0\nfraud                             0\ndtype: int64"
     },
     "execution_count": 72,
     "metadata": {},
     "output_type": "execute_result"
    }
   ],
   "source": [
    "dframe.isna().sum()"
   ]
  },
  {
   "cell_type": "markdown",
   "metadata": {
    "pycharm": {
     "name": "#%% md\n"
    }
   },
   "source": [
    "### Recuentos de valores para variables categóricas (repeat_retailer, used_chip, used_pin_number, online_order y fraude)"
   ]
  },
  {
   "cell_type": "code",
   "execution_count": 73,
   "metadata": {
    "execution": {
     "iopub.execute_input": "2022-05-22T09:07:06.539902Z",
     "iopub.status.busy": "2022-05-22T09:07:06.539646Z",
     "iopub.status.idle": "2022-05-22T09:07:06.611349Z",
     "shell.execute_reply": "2022-05-22T09:07:06.610478Z",
     "shell.execute_reply.started": "2022-05-22T09:07:06.539873Z"
    },
    "pycharm": {
     "name": "#%%\n"
    }
   },
   "outputs": [
    {
     "name": "stdout",
     "output_type": "stream",
     "text": [
      " 0.366584    881536\n",
      "-2.727890    118464\n",
      "Name: repeat_retailer, dtype: int64\n",
      "\n",
      "-0.734443    649601\n",
      " 1.361576    350399\n",
      "Name: used_chip, dtype: int64\n",
      "\n",
      "-0.334458    899392\n",
      " 2.989911    100608\n",
      "Name: used_pin_number, dtype: int64\n",
      "\n",
      " 0.732909    650552\n",
      "-1.364425    349448\n",
      "Name: online_order, dtype: int64\n",
      "\n",
      "0.0    912597\n",
      "1.0     87403\n",
      "Name: fraud, dtype: int64\n",
      "\n"
     ]
    }
   ],
   "source": [
    "for column in dframe.columns[3:9]:\n",
    "    print(dframe[column].value_counts())\n",
    "    print()"
   ]
  },
  {
   "cell_type": "markdown",
   "metadata": {
    "pycharm": {
     "name": "#%% md\n"
    }
   },
   "source": [
    "## Matriz de correlación entre la data"
   ]
  },
  {
   "cell_type": "code",
   "execution_count": 74,
   "metadata": {
    "execution": {
     "iopub.execute_input": "2022-05-22T09:07:06.613100Z",
     "iopub.status.busy": "2022-05-22T09:07:06.612690Z",
     "iopub.status.idle": "2022-05-22T09:07:07.466194Z",
     "shell.execute_reply": "2022-05-22T09:07:07.465367Z",
     "shell.execute_reply.started": "2022-05-22T09:07:06.613055Z"
    },
    "pycharm": {
     "name": "#%%\n"
    }
   },
   "outputs": [
    {
     "data": {
      "text/plain": "<AxesSubplot:>"
     },
     "execution_count": 74,
     "metadata": {},
     "output_type": "execute_result"
    },
    {
     "data": {
      "text/plain": "<Figure size 648x576 with 2 Axes>",
      "image/png": "[encoded data removed]"
     },
     "metadata": {
      "needs_background": "light"
     },
     "output_type": "display_data"
    }
   ],
   "source": [
    "correlation_mat = dframe.corr() \n",
    "f, ax = plt.subplots(figsize =(9, 8)) \n",
    "sns.heatmap(correlation_mat,ax=ax, annot=True, cmap = 'BrBG_r',linewidths=0.5)"
   ]
  },
  {
   "cell_type": "markdown",
   "metadata": {
    "pycharm": {
     "name": "#%% md\n"
    }
   },
   "source": [
    "### Análisis univariado para eliminar la característica que tiene el menor efecto en la variable objetivo (fraude)"
   ]
  },
  {
   "cell_type": "code",
   "execution_count": 75,
   "metadata": {
    "pycharm": {
     "name": "#%%\n"
    }
   },
   "outputs": [
    {
     "name": "stdout",
     "output_type": "stream",
     "text": [
      "Columna:  distance_from_home , Puntuación:  36465.69332586085\n",
      "Columna:  distance_from_last_transaction , Puntuación:  8520.690791240206\n",
      "Columna:  ratio_to_median_purchase_price , Puntuación:  271820.173833205\n",
      "Columna:  repeat_retailer , Puntuación:  1.8426704992520047\n",
      "Columna:  used_chip , Puntuación:  3731.7684653980787\n",
      "Columna:  used_pin_number , Puntuación:  10160.776030233745\n",
      "Columna:  online_order , Puntuación:  38263.51828118835\n",
      "Más baja =  1.8426704992520047\n"
     ]
    }
   ],
   "source": [
    "scores = []\n",
    "Univ_Analysis = SelectKBest(score_func=f_classif, k=7)\n",
    "fit = Univ_Analysis.fit(dframe[dframe.columns[0:7]], dframe[dframe.columns[7]])\n",
    "newcols = Univ_Analysis.get_support(indices=True)\n",
    "for i in range(7):\n",
    "    print (\"Columna: \",column_names[i], \", Puntuación: \", fit.scores_[i])\n",
    "    scores.append(fit.scores_[i])\n",
    "print(\"Más baja = \",min(scores))"
   ]
  },
  {
   "cell_type": "markdown",
   "metadata": {
    "pycharm": {
     "name": "#%% md\n"
    }
   },
   "source": [
    "### Dado que tenemos la puntuación más baja para repeat_retailer, la excluimos de nuestro análisis."
   ]
  },
  {
   "cell_type": "code",
   "execution_count": 76,
   "metadata": {
    "pycharm": {
     "name": "#%%\n"
    }
   },
   "outputs": [],
   "source": [
    "dframe.drop(['repeat_retailer'], axis=1, inplace=True)"
   ]
  },
  {
   "cell_type": "markdown",
   "metadata": {
    "pycharm": {
     "name": "#%% md\n"
    }
   },
   "source": [
    "## Separar la data en variables de entrenamiento y variables de prueba"
   ]
  },
  {
   "cell_type": "code",
   "execution_count": 77,
   "metadata": {
    "pycharm": {
     "name": "#%%\n"
    }
   },
   "outputs": [],
   "source": [
    "train, test = train_test_split(dframe, test_size=0.2)"
   ]
  },
  {
   "cell_type": "markdown",
   "metadata": {
    "pycharm": {
     "name": "#%% md\n"
    }
   },
   "source": [
    "## Variables de entrenamiento y variables de prueba"
   ]
  },
  {
   "cell_type": "code",
   "execution_count": 78,
   "metadata": {
    "pycharm": {
     "name": "#%%\n"
    }
   },
   "outputs": [],
   "source": [
    "## para entrenar\n",
    "t_data = train[train.columns[0:6]]\n",
    "t_target = train[train.columns[6]]\n",
    "## para predicciones\n",
    "w_test_pred = test[test.columns[0:6]].iloc[10:20]\n",
    "w_true_pred = test[test.columns[6]].iloc[10:20]\n",
    "## para validar el accuracy\n",
    "w_test = test[test.columns[0:6]]\n",
    "w_true = test[test.columns[6]]"
   ]
  },
  {
   "cell_type": "markdown",
   "metadata": {
    "pycharm": {
     "name": "#%% md\n"
    }
   },
   "source": [
    "## Arbol de decisión sklearn\n",
    "### Entrenamiento del modelo"
   ]
  },
  {
   "cell_type": "code",
   "execution_count": 79,
   "metadata": {
    "pycharm": {
     "name": "#%%\n"
    }
   },
   "outputs": [
    {
     "data": {
      "text/plain": "   distance_from_home  distance_from_last_transaction  \\\n0            0.477882                       -0.182849   \n1           -0.241607                       -0.188094   \n2           -0.329369                       -0.163733   \n3           -0.372854                        0.021806   \n4            0.268572                       -0.172968   \n\n   ratio_to_median_purchase_price  used_chip  used_pin_number  online_order  \\\n0                        0.043491   1.361576        -0.334458     -1.364425   \n1                       -0.189300  -0.734443        -0.334458     -1.364425   \n2                       -0.498812  -0.734443        -0.334458      0.732909   \n3                       -0.522048   1.361576        -0.334458      0.732909   \n4                        0.142373   1.361576        -0.334458      0.732909   \n\n   fraud  \n0    0.0  \n1    0.0  \n2    0.0  \n3    0.0  \n4    0.0  ",
      "text/html": "<div>\n<style scoped>\n    .dataframe tbody tr th:only-of-type {\n        vertical-align: middle;\n    }\n\n    .dataframe tbody tr th {\n        vertical-align: top;\n    }\n\n    .dataframe thead th {\n        text-align: right;\n    }\n</style>\n<table border=\"1\" class=\"dataframe\">\n  <thead>\n    <tr style=\"text-align: right;\">\n      <th></th>\n      <th>distance_from_home</th>\n      <th>distance_from_last_transaction</th>\n      <th>ratio_to_median_purchase_price</th>\n      <th>used_chip</th>\n      <th>used_pin_number</th>\n      <th>online_order</th>\n      <th>fraud</th>\n    </tr>\n  </thead>\n  <tbody>\n    <tr>\n      <th>0</th>\n      <td>0.477882</td>\n      <td>-0.182849</td>\n      <td>0.043491</td>\n      <td>1.361576</td>\n      <td>-0.334458</td>\n      <td>-1.364425</td>\n      <td>0.0</td>\n    </tr>\n    <tr>\n      <th>1</th>\n      <td>-0.241607</td>\n      <td>-0.188094</td>\n      <td>-0.189300</td>\n      <td>-0.734443</td>\n      <td>-0.334458</td>\n      <td>-1.364425</td>\n      <td>0.0</td>\n    </tr>\n    <tr>\n      <th>2</th>\n      <td>-0.329369</td>\n      <td>-0.163733</td>\n      <td>-0.498812</td>\n      <td>-0.734443</td>\n      <td>-0.334458</td>\n      <td>0.732909</td>\n      <td>0.0</td>\n    </tr>\n    <tr>\n      <th>3</th>\n      <td>-0.372854</td>\n      <td>0.021806</td>\n      <td>-0.522048</td>\n      <td>1.361576</td>\n      <td>-0.334458</td>\n      <td>0.732909</td>\n      <td>0.0</td>\n    </tr>\n    <tr>\n      <th>4</th>\n      <td>0.268572</td>\n      <td>-0.172968</td>\n      <td>0.142373</td>\n      <td>1.361576</td>\n      <td>-0.334458</td>\n      <td>0.732909</td>\n      <td>0.0</td>\n    </tr>\n  </tbody>\n</table>\n</div>"
     },
     "execution_count": 79,
     "metadata": {},
     "output_type": "execute_result"
    }
   ],
   "source": [
    "dframe.head()"
   ]
  },
  {
   "cell_type": "code",
   "execution_count": 80,
   "metadata": {
    "execution": {
     "iopub.execute_input": "2022-05-22T09:07:11.642614Z",
     "iopub.status.busy": "2022-05-22T09:07:11.642368Z",
     "iopub.status.idle": "2022-05-22T09:07:15.830665Z",
     "shell.execute_reply": "2022-05-22T09:07:15.829859Z",
     "shell.execute_reply.started": "2022-05-22T09:07:11.642583Z"
    },
    "pycharm": {
     "name": "#%%\n"
    }
   },
   "outputs": [],
   "source": [
    "clf = tree.DecisionTreeClassifier(criterion='entropy', max_depth=5)\n",
    "clf = clf.fit(t_data, t_target)"
   ]
  },
  {
   "cell_type": "markdown",
   "metadata": {
    "pycharm": {
     "name": "#%% md\n"
    }
   },
   "source": [
    "## Graficar el arbol de decisión"
   ]
  },
  {
   "cell_type": "code",
   "execution_count": 81,
   "metadata": {
    "pycharm": {
     "name": "#%%\n"
    }
   },
   "outputs": [
    {
     "data": {
      "image/svg+xml": "<?xml version=\"1.0\" encoding=\"UTF-8\" standalone=\"no\"?>\n<!DOCTYPE svg PUBLIC \"-//W3C//DTD SVG 1.1//EN\"\n \"http://www.w3.org/Graphics/SVG/1.1/DTD/svg11.dtd\">\n<!-- Generated by graphviz version 4.0.0 (20220529.0937)\n -->\n<!-- Title: Tree Pages: 1 -->\n<svg width=\"3410pt\" height=\"671pt\"\n viewBox=\"0.00 0.00 3410.00 671.00\" xmlns=\"http://www.w3.org/2000/svg\" xmlns:xlink=\"http://www.w3.org/1999/xlink\">\n<g id=\"graph0\" class=\"graph\" transform=\"scale(1 1) rotate(0) translate(4 667)\">\n<title>Tree</title>\n<polygon fill=\"white\" stroke=\"transparent\" points=\"-4,4 -4,-667 3406,-667 3406,4 -4,4\"/>\n<!-- 0 -->\n<g id=\"node1\" class=\"node\">\n<title>0</title>\n<path fill=\"#e78d4c\" stroke=\"black\" d=\"M1494.5,-663C1494.5,-663 1241.5,-663 1241.5,-663 1235.5,-663 1229.5,-657 1229.5,-651 1229.5,-651 1229.5,-592 1229.5,-592 1229.5,-586 1235.5,-580 1241.5,-580 1241.5,-580 1494.5,-580 1494.5,-580 1500.5,-580 1506.5,-586 1506.5,-592 1506.5,-592 1506.5,-651 1506.5,-651 1506.5,-657 1500.5,-663 1494.5,-663\"/>\n<text text-anchor=\"start\" x=\"1237.5\" y=\"-647.8\" font-family=\"Helvetica,sans-Serif\" font-size=\"14.00\">ratio_to_median_purchase_price ≤ 0.777</text>\n<text text-anchor=\"start\" x=\"1318\" y=\"-632.8\" font-family=\"Helvetica,sans-Serif\" font-size=\"14.00\">entropy = 0.429</text>\n<text text-anchor=\"start\" x=\"1308\" y=\"-617.8\" font-family=\"Helvetica,sans-Serif\" font-size=\"14.00\">samples = 800000</text>\n<text text-anchor=\"start\" x=\"1290.5\" y=\"-602.8\" font-family=\"Helvetica,sans-Serif\" font-size=\"14.00\">value = [729854, 70146]</text>\n<text text-anchor=\"start\" x=\"1295\" y=\"-587.8\" font-family=\"Helvetica,sans-Serif\" font-size=\"14.00\">class = No Fraudulento</text>\n</g>\n<!-- 1 -->\n<g id=\"node2\" class=\"node\">\n<title>1</title>\n<path fill=\"#e6843e\" stroke=\"black\" d=\"M835.5,-544C835.5,-544 656.5,-544 656.5,-544 650.5,-544 644.5,-538 644.5,-532 644.5,-532 644.5,-473 644.5,-473 644.5,-467 650.5,-461 656.5,-461 656.5,-461 835.5,-461 835.5,-461 841.5,-461 847.5,-467 847.5,-473 847.5,-473 847.5,-532 847.5,-532 847.5,-538 841.5,-544 835.5,-544\"/>\n<text text-anchor=\"start\" x=\"652.5\" y=\"-528.8\" font-family=\"Helvetica,sans-Serif\" font-size=\"14.00\">distance_from_home ≤ 1.122</text>\n<text text-anchor=\"start\" x=\"696\" y=\"-513.8\" font-family=\"Helvetica,sans-Serif\" font-size=\"14.00\">entropy = 0.169</text>\n<text text-anchor=\"start\" x=\"686\" y=\"-498.8\" font-family=\"Helvetica,sans-Serif\" font-size=\"14.00\">samples = 717400</text>\n<text text-anchor=\"start\" x=\"668.5\" y=\"-483.8\" font-family=\"Helvetica,sans-Serif\" font-size=\"14.00\">value = [699361, 18039]</text>\n<text text-anchor=\"start\" x=\"673\" y=\"-468.8\" font-family=\"Helvetica,sans-Serif\" font-size=\"14.00\">class = No Fraudulento</text>\n</g>\n<!-- 0&#45;&gt;1 -->\n<g id=\"edge1\" class=\"edge\">\n<title>0&#45;&gt;1</title>\n<path fill=\"none\" stroke=\"black\" d=\"M1229.19,-594.39C1117.15,-573.31 961.59,-544.05 857.54,-524.48\"/>\n<polygon fill=\"black\" stroke=\"black\" points=\"858.11,-521.03 847.64,-522.62 856.82,-527.91 858.11,-521.03\"/>\n<text text-anchor=\"middle\" x=\"861.74\" y=\"-539.56\" font-family=\"Helvetica,sans-Serif\" font-size=\"14.00\">True</text>\n</g>\n<!-- 22 -->\n<g id=\"node23\" class=\"node\">\n<title>22</title>\n<path fill=\"#add6f4\" stroke=\"black\" d=\"M2122.5,-544C2122.5,-544 1983.5,-544 1983.5,-544 1977.5,-544 1971.5,-538 1971.5,-532 1971.5,-532 1971.5,-473 1971.5,-473 1971.5,-467 1977.5,-461 1983.5,-461 1983.5,-461 2122.5,-461 2122.5,-461 2128.5,-461 2134.5,-467 2134.5,-473 2134.5,-473 2134.5,-532 2134.5,-532 2134.5,-538 2128.5,-544 2122.5,-544\"/>\n<text text-anchor=\"start\" x=\"1985\" y=\"-528.8\" font-family=\"Helvetica,sans-Serif\" font-size=\"14.00\">online_order ≤ &#45;0.316</text>\n<text text-anchor=\"start\" x=\"2007\" y=\"-513.8\" font-family=\"Helvetica,sans-Serif\" font-size=\"14.00\">entropy = 0.95</text>\n<text text-anchor=\"start\" x=\"1997\" y=\"-498.8\" font-family=\"Helvetica,sans-Serif\" font-size=\"14.00\">samples = 82600</text>\n<text text-anchor=\"start\" x=\"1979.5\" y=\"-483.8\" font-family=\"Helvetica,sans-Serif\" font-size=\"14.00\">value = [30493, 52107]</text>\n<text text-anchor=\"start\" x=\"1991\" y=\"-468.8\" font-family=\"Helvetica,sans-Serif\" font-size=\"14.00\">class = Fraudulento</text>\n</g>\n<!-- 0&#45;&gt;22 -->\n<g id=\"edge22\" class=\"edge\">\n<title>0&#45;&gt;22</title>\n<path fill=\"none\" stroke=\"black\" d=\"M1506.62,-596.82C1642.23,-573.66 1844.89,-539.05 1961.49,-519.13\"/>\n<polygon fill=\"black\" stroke=\"black\" points=\"1962.2,-522.56 1971.47,-517.43 1961.02,-515.66 1962.2,-522.56\"/>\n<text text-anchor=\"middle\" x=\"1957.02\" y=\"-534.13\" font-family=\"Helvetica,sans-Serif\" font-size=\"14.00\">False</text>\n</g>\n<!-- 2 -->\n<g id=\"node3\" class=\"node\">\n<title>2</title>\n<path fill=\"#e5823a\" stroke=\"black\" d=\"M377.5,-425C377.5,-425 144.5,-425 144.5,-425 138.5,-425 132.5,-419 132.5,-413 132.5,-413 132.5,-354 132.5,-354 132.5,-348 138.5,-342 144.5,-342 144.5,-342 377.5,-342 377.5,-342 383.5,-342 389.5,-348 389.5,-354 389.5,-354 389.5,-413 389.5,-413 389.5,-419 383.5,-425 377.5,-425\"/>\n<text text-anchor=\"start\" x=\"140.5\" y=\"-409.8\" font-family=\"Helvetica,sans-Serif\" font-size=\"14.00\">distance_from_last_transaction ≤ 1.74</text>\n<text text-anchor=\"start\" x=\"211\" y=\"-394.8\" font-family=\"Helvetica,sans-Serif\" font-size=\"14.00\">entropy = 0.053</text>\n<text text-anchor=\"start\" x=\"201\" y=\"-379.8\" font-family=\"Helvetica,sans-Serif\" font-size=\"14.00\">samples = 681582</text>\n<text text-anchor=\"start\" x=\"187.5\" y=\"-364.8\" font-family=\"Helvetica,sans-Serif\" font-size=\"14.00\">value = [677496, 4086]</text>\n<text text-anchor=\"start\" x=\"188\" y=\"-349.8\" font-family=\"Helvetica,sans-Serif\" font-size=\"14.00\">class = No Fraudulento</text>\n</g>\n<!-- 1&#45;&gt;2 -->\n<g id=\"edge2\" class=\"edge\">\n<title>1&#45;&gt;2</title>\n<path fill=\"none\" stroke=\"black\" d=\"M644.33,-476.97C573.34,-459.85 477.71,-436.78 399.73,-417.97\"/>\n<polygon fill=\"black\" stroke=\"black\" points=\"400.36,-414.52 389.82,-415.58 398.72,-421.32 400.36,-414.52\"/>\n</g>\n<!-- 9 -->\n<g id=\"node10\" class=\"node\">\n<title>9</title>\n<path fill=\"#f6d1b7\" stroke=\"black\" d=\"M815.5,-425C815.5,-425 676.5,-425 676.5,-425 670.5,-425 664.5,-419 664.5,-413 664.5,-413 664.5,-354 664.5,-354 664.5,-348 670.5,-342 676.5,-342 676.5,-342 815.5,-342 815.5,-342 821.5,-342 827.5,-348 827.5,-354 827.5,-354 827.5,-413 827.5,-413 827.5,-419 821.5,-425 815.5,-425\"/>\n<text text-anchor=\"start\" x=\"678\" y=\"-409.8\" font-family=\"Helvetica,sans-Serif\" font-size=\"14.00\">online_order ≤ &#45;0.316</text>\n<text text-anchor=\"start\" x=\"696\" y=\"-394.8\" font-family=\"Helvetica,sans-Serif\" font-size=\"14.00\">entropy = 0.965</text>\n<text text-anchor=\"start\" x=\"690\" y=\"-379.8\" font-family=\"Helvetica,sans-Serif\" font-size=\"14.00\">samples = 35818</text>\n<text text-anchor=\"start\" x=\"672.5\" y=\"-364.8\" font-family=\"Helvetica,sans-Serif\" font-size=\"14.00\">value = [21865, 13953]</text>\n<text text-anchor=\"start\" x=\"673\" y=\"-349.8\" font-family=\"Helvetica,sans-Serif\" font-size=\"14.00\">class = No Fraudulento</text>\n</g>\n<!-- 1&#45;&gt;9 -->\n<g id=\"edge9\" class=\"edge\">\n<title>1&#45;&gt;9</title>\n<path fill=\"none\" stroke=\"black\" d=\"M746,-460.91C746,-452.65 746,-443.86 746,-435.3\"/>\n<polygon fill=\"black\" stroke=\"black\" points=\"749.5,-435.02 746,-425.02 742.5,-435.02 749.5,-435.02\"/>\n</g>\n<!-- 3 -->\n<g id=\"node4\" class=\"node\">\n<title>3</title>\n<path fill=\"#e58139\" stroke=\"black\" d=\"M150,-298.5C150,-298.5 12,-298.5 12,-298.5 6,-298.5 0,-292.5 0,-286.5 0,-286.5 0,-242.5 0,-242.5 0,-236.5 6,-230.5 12,-230.5 12,-230.5 150,-230.5 150,-230.5 156,-230.5 162,-236.5 162,-242.5 162,-242.5 162,-286.5 162,-286.5 162,-292.5 156,-298.5 150,-298.5\"/>\n<text text-anchor=\"start\" x=\"39\" y=\"-283.3\" font-family=\"Helvetica,sans-Serif\" font-size=\"14.00\">entropy = 0.0</text>\n<text text-anchor=\"start\" x=\"21\" y=\"-268.3\" font-family=\"Helvetica,sans-Serif\" font-size=\"14.00\">samples = 671422</text>\n<text text-anchor=\"start\" x=\"20\" y=\"-253.3\" font-family=\"Helvetica,sans-Serif\" font-size=\"14.00\">value = [671422, 0]</text>\n<text text-anchor=\"start\" x=\"8\" y=\"-238.3\" font-family=\"Helvetica,sans-Serif\" font-size=\"14.00\">class = No Fraudulento</text>\n</g>\n<!-- 2&#45;&gt;3 -->\n<g id=\"edge3\" class=\"edge\">\n<title>2&#45;&gt;3</title>\n<path fill=\"none\" stroke=\"black\" d=\"M198.55,-341.91C179.71,-329.66 159.08,-316.25 140.44,-304.13\"/>\n<polygon fill=\"black\" stroke=\"black\" points=\"142.32,-301.18 132.03,-298.67 138.5,-307.05 142.32,-301.18\"/>\n</g>\n<!-- 4 -->\n<g id=\"node5\" class=\"node\">\n<title>4</title>\n<path fill=\"#f6d6be\" stroke=\"black\" d=\"M330,-306C330,-306 192,-306 192,-306 186,-306 180,-300 180,-294 180,-294 180,-235 180,-235 180,-229 186,-223 192,-223 192,-223 330,-223 330,-223 336,-223 342,-229 342,-235 342,-235 342,-294 342,-294 342,-300 336,-306 330,-306\"/>\n<text text-anchor=\"start\" x=\"193\" y=\"-290.8\" font-family=\"Helvetica,sans-Serif\" font-size=\"14.00\">online_order ≤ &#45;0.316</text>\n<text text-anchor=\"start\" x=\"211\" y=\"-275.8\" font-family=\"Helvetica,sans-Serif\" font-size=\"14.00\">entropy = 0.972</text>\n<text text-anchor=\"start\" x=\"205\" y=\"-260.8\" font-family=\"Helvetica,sans-Serif\" font-size=\"14.00\">samples = 10160</text>\n<text text-anchor=\"start\" x=\"196\" y=\"-245.8\" font-family=\"Helvetica,sans-Serif\" font-size=\"14.00\">value = [6074, 4086]</text>\n<text text-anchor=\"start\" x=\"188\" y=\"-230.8\" font-family=\"Helvetica,sans-Serif\" font-size=\"14.00\">class = No Fraudulento</text>\n</g>\n<!-- 2&#45;&gt;4 -->\n<g id=\"edge4\" class=\"edge\">\n<title>2&#45;&gt;4</title>\n<path fill=\"none\" stroke=\"black\" d=\"M261,-341.91C261,-333.65 261,-324.86 261,-316.3\"/>\n<polygon fill=\"black\" stroke=\"black\" points=\"264.5,-316.02 261,-306.02 257.5,-316.02 264.5,-316.02\"/>\n</g>\n<!-- 5 -->\n<g id=\"node6\" class=\"node\">\n<title>5</title>\n<path fill=\"#e58139\" stroke=\"black\" d=\"M158,-179.5C158,-179.5 20,-179.5 20,-179.5 14,-179.5 8,-173.5 8,-167.5 8,-167.5 8,-123.5 8,-123.5 8,-117.5 14,-111.5 20,-111.5 20,-111.5 158,-111.5 158,-111.5 164,-111.5 170,-117.5 170,-123.5 170,-123.5 170,-167.5 170,-167.5 170,-173.5 164,-179.5 158,-179.5\"/>\n<text text-anchor=\"start\" x=\"47\" y=\"-164.3\" font-family=\"Helvetica,sans-Serif\" font-size=\"14.00\">entropy = 0.0</text>\n<text text-anchor=\"start\" x=\"37.5\" y=\"-149.3\" font-family=\"Helvetica,sans-Serif\" font-size=\"14.00\">samples = 3475</text>\n<text text-anchor=\"start\" x=\"36\" y=\"-134.3\" font-family=\"Helvetica,sans-Serif\" font-size=\"14.00\">value = [3475, 0]</text>\n<text text-anchor=\"start\" x=\"16\" y=\"-119.3\" font-family=\"Helvetica,sans-Serif\" font-size=\"14.00\">class = No Fraudulento</text>\n</g>\n<!-- 4&#45;&gt;5 -->\n<g id=\"edge5\" class=\"edge\">\n<title>4&#45;&gt;5</title>\n<path fill=\"none\" stroke=\"black\" d=\"M201.33,-222.91C183.48,-210.77 163.96,-197.49 146.28,-185.46\"/>\n<polygon fill=\"black\" stroke=\"black\" points=\"148,-182.4 137.76,-179.67 144.06,-188.19 148,-182.4\"/>\n</g>\n<!-- 6 -->\n<g id=\"node7\" class=\"node\">\n<title>6</title>\n<path fill=\"#b7dbf6\" stroke=\"black\" d=\"M322,-187C322,-187 200,-187 200,-187 194,-187 188,-181 188,-175 188,-175 188,-116 188,-116 188,-110 194,-104 200,-104 200,-104 322,-104 322,-104 328,-104 334,-110 334,-116 334,-116 334,-175 334,-175 334,-181 328,-187 322,-187\"/>\n<text text-anchor=\"start\" x=\"202\" y=\"-171.8\" font-family=\"Helvetica,sans-Serif\" font-size=\"14.00\">used_chip ≤ 0.314</text>\n<text text-anchor=\"start\" x=\"211\" y=\"-156.8\" font-family=\"Helvetica,sans-Serif\" font-size=\"14.00\">entropy = 0.964</text>\n<text text-anchor=\"start\" x=\"209.5\" y=\"-141.8\" font-family=\"Helvetica,sans-Serif\" font-size=\"14.00\">samples = 6685</text>\n<text text-anchor=\"start\" x=\"196\" y=\"-126.8\" font-family=\"Helvetica,sans-Serif\" font-size=\"14.00\">value = [2599, 4086]</text>\n<text text-anchor=\"start\" x=\"199\" y=\"-111.8\" font-family=\"Helvetica,sans-Serif\" font-size=\"14.00\">class = Fraudulento</text>\n</g>\n<!-- 4&#45;&gt;6 -->\n<g id=\"edge6\" class=\"edge\">\n<title>4&#45;&gt;6</title>\n<path fill=\"none\" stroke=\"black\" d=\"M261,-222.91C261,-214.65 261,-205.86 261,-197.3\"/>\n<polygon fill=\"black\" stroke=\"black\" points=\"264.5,-197.02 261,-187.02 257.5,-197.02 264.5,-197.02\"/>\n</g>\n<!-- 7 -->\n<g id=\"node8\" class=\"node\">\n<title>7</title>\n<path fill=\"#50a9e8\" stroke=\"black\" d=\"M156,-68C156,-68 40,-68 40,-68 34,-68 28,-62 28,-56 28,-56 28,-12 28,-12 28,-6 34,0 40,0 40,0 156,0 156,0 162,0 168,-6 168,-12 168,-12 168,-56 168,-56 168,-62 162,-68 156,-68\"/>\n<text text-anchor=\"start\" x=\"48\" y=\"-52.8\" font-family=\"Helvetica,sans-Serif\" font-size=\"14.00\">entropy = 0.487</text>\n<text text-anchor=\"start\" x=\"46.5\" y=\"-37.8\" font-family=\"Helvetica,sans-Serif\" font-size=\"14.00\">samples = 4279</text>\n<text text-anchor=\"start\" x=\"37\" y=\"-22.8\" font-family=\"Helvetica,sans-Serif\" font-size=\"14.00\">value = [453, 3826]</text>\n<text text-anchor=\"start\" x=\"36\" y=\"-7.8\" font-family=\"Helvetica,sans-Serif\" font-size=\"14.00\">class = Fraudulento</text>\n</g>\n<!-- 6&#45;&gt;7 -->\n<g id=\"edge7\" class=\"edge\">\n<title>6&#45;&gt;7</title>\n<path fill=\"none\" stroke=\"black\" d=\"M200.3,-103.73C185.7,-93.92 170.14,-83.46 155.68,-73.75\"/>\n<polygon fill=\"black\" stroke=\"black\" points=\"157.56,-70.8 147.31,-68.13 153.66,-76.61 157.56,-70.8\"/>\n</g>\n<!-- 8 -->\n<g id=\"node9\" class=\"node\">\n<title>8</title>\n<path fill=\"#e89051\" stroke=\"black\" d=\"M336,-68C336,-68 198,-68 198,-68 192,-68 186,-62 186,-56 186,-56 186,-12 186,-12 186,-6 192,0 198,0 198,0 336,0 336,0 342,0 348,-6 348,-12 348,-12 348,-56 348,-56 348,-62 342,-68 336,-68\"/>\n<text text-anchor=\"start\" x=\"217\" y=\"-52.8\" font-family=\"Helvetica,sans-Serif\" font-size=\"14.00\">entropy = 0.494</text>\n<text text-anchor=\"start\" x=\"215.5\" y=\"-37.8\" font-family=\"Helvetica,sans-Serif\" font-size=\"14.00\">samples = 2406</text>\n<text text-anchor=\"start\" x=\"206\" y=\"-22.8\" font-family=\"Helvetica,sans-Serif\" font-size=\"14.00\">value = [2146, 260]</text>\n<text text-anchor=\"start\" x=\"194\" y=\"-7.8\" font-family=\"Helvetica,sans-Serif\" font-size=\"14.00\">class = No Fraudulento</text>\n</g>\n<!-- 6&#45;&gt;8 -->\n<g id=\"edge8\" class=\"edge\">\n<title>6&#45;&gt;8</title>\n<path fill=\"none\" stroke=\"black\" d=\"M263.23,-103.73C263.68,-95.52 264.16,-86.86 264.61,-78.56\"/>\n<polygon fill=\"black\" stroke=\"black\" points=\"268.12,-78.48 265.18,-68.3 261.13,-78.09 268.12,-78.48\"/>\n</g>\n<!-- 10 -->\n<g id=\"node11\" class=\"node\">\n<title>10</title>\n<path fill=\"#e5833c\" stroke=\"black\" d=\"M745,-306C745,-306 503,-306 503,-306 497,-306 491,-300 491,-294 491,-294 491,-235 491,-235 491,-229 497,-223 503,-223 503,-223 745,-223 745,-223 751,-223 757,-229 757,-235 757,-235 757,-294 757,-294 757,-300 751,-306 745,-306\"/>\n<text text-anchor=\"start\" x=\"499\" y=\"-290.8\" font-family=\"Helvetica,sans-Serif\" font-size=\"14.00\">distance_from_last_transaction ≤ 1.745</text>\n<text text-anchor=\"start\" x=\"574\" y=\"-275.8\" font-family=\"Helvetica,sans-Serif\" font-size=\"14.00\">entropy = 0.101</text>\n<text text-anchor=\"start\" x=\"568\" y=\"-260.8\" font-family=\"Helvetica,sans-Serif\" font-size=\"14.00\">samples = 12517</text>\n<text text-anchor=\"start\" x=\"559\" y=\"-245.8\" font-family=\"Helvetica,sans-Serif\" font-size=\"14.00\">value = [12352, 165]</text>\n<text text-anchor=\"start\" x=\"551\" y=\"-230.8\" font-family=\"Helvetica,sans-Serif\" font-size=\"14.00\">class = No Fraudulento</text>\n</g>\n<!-- 9&#45;&gt;10 -->\n<g id=\"edge10\" class=\"edge\">\n<title>9&#45;&gt;10</title>\n<path fill=\"none\" stroke=\"black\" d=\"M703.67,-341.91C694.02,-332.65 683.68,-322.73 673.75,-313.21\"/>\n<polygon fill=\"black\" stroke=\"black\" points=\"675.89,-310.42 666.25,-306.02 671.05,-315.47 675.89,-310.42\"/>\n</g>\n<!-- 15 -->\n<g id=\"node16\" class=\"node\">\n<title>15</title>\n<path fill=\"#c2e1f7\" stroke=\"black\" d=\"M934.5,-306C934.5,-306 803.5,-306 803.5,-306 797.5,-306 791.5,-300 791.5,-294 791.5,-294 791.5,-235 791.5,-235 791.5,-229 797.5,-223 803.5,-223 803.5,-223 934.5,-223 934.5,-223 940.5,-223 946.5,-229 946.5,-235 946.5,-235 946.5,-294 946.5,-294 946.5,-300 940.5,-306 934.5,-306\"/>\n<text text-anchor=\"start\" x=\"810\" y=\"-290.8\" font-family=\"Helvetica,sans-Serif\" font-size=\"14.00\">used_chip ≤ 0.314</text>\n<text text-anchor=\"start\" x=\"819\" y=\"-275.8\" font-family=\"Helvetica,sans-Serif\" font-size=\"14.00\">entropy = 0.976</text>\n<text text-anchor=\"start\" x=\"813\" y=\"-260.8\" font-family=\"Helvetica,sans-Serif\" font-size=\"14.00\">samples = 23301</text>\n<text text-anchor=\"start\" x=\"799.5\" y=\"-245.8\" font-family=\"Helvetica,sans-Serif\" font-size=\"14.00\">value = [9513, 13788]</text>\n<text text-anchor=\"start\" x=\"807\" y=\"-230.8\" font-family=\"Helvetica,sans-Serif\" font-size=\"14.00\">class = Fraudulento</text>\n</g>\n<!-- 9&#45;&gt;15 -->\n<g id=\"edge15\" class=\"edge\">\n<title>9&#45;&gt;15</title>\n<path fill=\"none\" stroke=\"black\" d=\"M788.67,-341.91C798.5,-332.56 809.04,-322.54 819.14,-312.93\"/>\n<polygon fill=\"black\" stroke=\"black\" points=\"821.57,-315.45 826.4,-306.02 816.74,-310.38 821.57,-315.45\"/>\n</g>\n<!-- 11 -->\n<g id=\"node12\" class=\"node\">\n<title>11</title>\n<path fill=\"#e58139\" stroke=\"black\" d=\"M502,-179.5C502,-179.5 364,-179.5 364,-179.5 358,-179.5 352,-173.5 352,-167.5 352,-167.5 352,-123.5 352,-123.5 352,-117.5 358,-111.5 364,-111.5 364,-111.5 502,-111.5 502,-111.5 508,-111.5 514,-117.5 514,-123.5 514,-123.5 514,-167.5 514,-167.5 514,-173.5 508,-179.5 502,-179.5\"/>\n<text text-anchor=\"start\" x=\"391\" y=\"-164.3\" font-family=\"Helvetica,sans-Serif\" font-size=\"14.00\">entropy = 0.0</text>\n<text text-anchor=\"start\" x=\"377\" y=\"-149.3\" font-family=\"Helvetica,sans-Serif\" font-size=\"14.00\">samples = 12329</text>\n<text text-anchor=\"start\" x=\"376\" y=\"-134.3\" font-family=\"Helvetica,sans-Serif\" font-size=\"14.00\">value = [12329, 0]</text>\n<text text-anchor=\"start\" x=\"360\" y=\"-119.3\" font-family=\"Helvetica,sans-Serif\" font-size=\"14.00\">class = No Fraudulento</text>\n</g>\n<!-- 10&#45;&gt;11 -->\n<g id=\"edge11\" class=\"edge\">\n<title>10&#45;&gt;11</title>\n<path fill=\"none\" stroke=\"black\" d=\"M557.73,-222.91C537.65,-210.6 515.65,-197.13 495.8,-184.97\"/>\n<polygon fill=\"black\" stroke=\"black\" points=\"497.5,-181.91 487.14,-179.67 493.84,-187.88 497.5,-181.91\"/>\n</g>\n<!-- 12 -->\n<g id=\"node13\" class=\"node\">\n<title>12</title>\n<path fill=\"#55abe9\" stroke=\"black\" d=\"M703.5,-187C703.5,-187 544.5,-187 544.5,-187 538.5,-187 532.5,-181 532.5,-175 532.5,-175 532.5,-116 532.5,-116 532.5,-110 538.5,-104 544.5,-104 544.5,-104 703.5,-104 703.5,-104 709.5,-104 715.5,-110 715.5,-116 715.5,-116 715.5,-175 715.5,-175 715.5,-181 709.5,-187 703.5,-187\"/>\n<text text-anchor=\"start\" x=\"540.5\" y=\"-171.8\" font-family=\"Helvetica,sans-Serif\" font-size=\"14.00\">used_pin_number ≤ 1.328</text>\n<text text-anchor=\"start\" x=\"574\" y=\"-156.8\" font-family=\"Helvetica,sans-Serif\" font-size=\"14.00\">entropy = 0.536</text>\n<text text-anchor=\"start\" x=\"576.5\" y=\"-141.8\" font-family=\"Helvetica,sans-Serif\" font-size=\"14.00\">samples = 188</text>\n<text text-anchor=\"start\" x=\"571\" y=\"-126.8\" font-family=\"Helvetica,sans-Serif\" font-size=\"14.00\">value = [23, 165]</text>\n<text text-anchor=\"start\" x=\"562\" y=\"-111.8\" font-family=\"Helvetica,sans-Serif\" font-size=\"14.00\">class = Fraudulento</text>\n</g>\n<!-- 10&#45;&gt;12 -->\n<g id=\"edge12\" class=\"edge\">\n<title>10&#45;&gt;12</title>\n<path fill=\"none\" stroke=\"black\" d=\"M624,-222.91C624,-214.65 624,-205.86 624,-197.3\"/>\n<polygon fill=\"black\" stroke=\"black\" points=\"627.5,-197.02 624,-187.02 620.5,-197.02 627.5,-197.02\"/>\n</g>\n<!-- 13 -->\n<g id=\"node14\" class=\"node\">\n<title>13</title>\n<path fill=\"#399de5\" stroke=\"black\" d=\"M506,-68C506,-68 390,-68 390,-68 384,-68 378,-62 378,-56 378,-56 378,-12 378,-12 378,-6 384,0 390,0 390,0 506,0 506,0 512,0 518,-6 518,-12 518,-12 518,-56 518,-56 518,-62 512,-68 506,-68\"/>\n<text text-anchor=\"start\" x=\"406\" y=\"-52.8\" font-family=\"Helvetica,sans-Serif\" font-size=\"14.00\">entropy = 0.0</text>\n<text text-anchor=\"start\" x=\"400.5\" y=\"-37.8\" font-family=\"Helvetica,sans-Serif\" font-size=\"14.00\">samples = 165</text>\n<text text-anchor=\"start\" x=\"399.5\" y=\"-22.8\" font-family=\"Helvetica,sans-Serif\" font-size=\"14.00\">value = [0, 165]</text>\n<text text-anchor=\"start\" x=\"386\" y=\"-7.8\" font-family=\"Helvetica,sans-Serif\" font-size=\"14.00\">class = Fraudulento</text>\n</g>\n<!-- 12&#45;&gt;13 -->\n<g id=\"edge13\" class=\"edge\">\n<title>12&#45;&gt;13</title>\n<path fill=\"none\" stroke=\"black\" d=\"M558.46,-103.73C542.55,-93.82 525.58,-83.27 509.84,-73.48\"/>\n<polygon fill=\"black\" stroke=\"black\" points=\"511.58,-70.44 501.24,-68.13 507.88,-76.38 511.58,-70.44\"/>\n</g>\n<!-- 14 -->\n<g id=\"node15\" class=\"node\">\n<title>14</title>\n<path fill=\"#e58139\" stroke=\"black\" d=\"M686,-68C686,-68 548,-68 548,-68 542,-68 536,-62 536,-56 536,-56 536,-12 536,-12 536,-6 542,0 548,0 548,0 686,0 686,0 692,0 698,-6 698,-12 698,-12 698,-56 698,-56 698,-62 692,-68 686,-68\"/>\n<text text-anchor=\"start\" x=\"575\" y=\"-52.8\" font-family=\"Helvetica,sans-Serif\" font-size=\"14.00\">entropy = 0.0</text>\n<text text-anchor=\"start\" x=\"573.5\" y=\"-37.8\" font-family=\"Helvetica,sans-Serif\" font-size=\"14.00\">samples = 23</text>\n<text text-anchor=\"start\" x=\"572.5\" y=\"-22.8\" font-family=\"Helvetica,sans-Serif\" font-size=\"14.00\">value = [23, 0]</text>\n<text text-anchor=\"start\" x=\"544\" y=\"-7.8\" font-family=\"Helvetica,sans-Serif\" font-size=\"14.00\">class = No Fraudulento</text>\n</g>\n<!-- 12&#45;&gt;14 -->\n<g id=\"edge14\" class=\"edge\">\n<title>12&#45;&gt;14</title>\n<path fill=\"none\" stroke=\"black\" d=\"M621.39,-103.73C620.86,-95.43 620.3,-86.67 619.77,-78.28\"/>\n<polygon fill=\"black\" stroke=\"black\" points=\"623.26,-78.06 619.13,-68.3 616.27,-78.5 623.26,-78.06\"/>\n</g>\n<!-- 16 -->\n<g id=\"node17\" class=\"node\">\n<title>16</title>\n<path fill=\"#4ea8e8\" stroke=\"black\" d=\"M948.5,-187C948.5,-187 789.5,-187 789.5,-187 783.5,-187 777.5,-181 777.5,-175 777.5,-175 777.5,-116 777.5,-116 777.5,-110 783.5,-104 789.5,-104 789.5,-104 948.5,-104 948.5,-104 954.5,-104 960.5,-110 960.5,-116 960.5,-116 960.5,-175 960.5,-175 960.5,-181 954.5,-187 948.5,-187\"/>\n<text text-anchor=\"start\" x=\"785.5\" y=\"-171.8\" font-family=\"Helvetica,sans-Serif\" font-size=\"14.00\">used_pin_number ≤ 1.328</text>\n<text text-anchor=\"start\" x=\"819\" y=\"-156.8\" font-family=\"Helvetica,sans-Serif\" font-size=\"14.00\">entropy = 0.461</text>\n<text text-anchor=\"start\" x=\"813\" y=\"-141.8\" font-family=\"Helvetica,sans-Serif\" font-size=\"14.00\">samples = 15153</text>\n<text text-anchor=\"start\" x=\"799.5\" y=\"-126.8\" font-family=\"Helvetica,sans-Serif\" font-size=\"14.00\">value = [1479, 13674]</text>\n<text text-anchor=\"start\" x=\"807\" y=\"-111.8\" font-family=\"Helvetica,sans-Serif\" font-size=\"14.00\">class = Fraudulento</text>\n</g>\n<!-- 15&#45;&gt;16 -->\n<g id=\"edge16\" class=\"edge\">\n<title>15&#45;&gt;16</title>\n<path fill=\"none\" stroke=\"black\" d=\"M869,-222.91C869,-214.65 869,-205.86 869,-197.3\"/>\n<polygon fill=\"black\" stroke=\"black\" points=\"872.5,-197.02 869,-187.02 865.5,-197.02 872.5,-197.02\"/>\n</g>\n<!-- 19 -->\n<g id=\"node20\" class=\"node\">\n<title>19</title>\n<path fill=\"#e5833c\" stroke=\"black\" d=\"M1256,-187C1256,-187 1014,-187 1014,-187 1008,-187 1002,-181 1002,-175 1002,-175 1002,-116 1002,-116 1002,-110 1008,-104 1014,-104 1014,-104 1256,-104 1256,-104 1262,-104 1268,-110 1268,-116 1268,-116 1268,-175 1268,-175 1268,-181 1262,-187 1256,-187\"/>\n<text text-anchor=\"start\" x=\"1010\" y=\"-171.8\" font-family=\"Helvetica,sans-Serif\" font-size=\"14.00\">distance_from_last_transaction ≤ 1.767</text>\n<text text-anchor=\"start\" x=\"1085\" y=\"-156.8\" font-family=\"Helvetica,sans-Serif\" font-size=\"14.00\">entropy = 0.106</text>\n<text text-anchor=\"start\" x=\"1083.5\" y=\"-141.8\" font-family=\"Helvetica,sans-Serif\" font-size=\"14.00\">samples = 8148</text>\n<text text-anchor=\"start\" x=\"1074\" y=\"-126.8\" font-family=\"Helvetica,sans-Serif\" font-size=\"14.00\">value = [8034, 114]</text>\n<text text-anchor=\"start\" x=\"1062\" y=\"-111.8\" font-family=\"Helvetica,sans-Serif\" font-size=\"14.00\">class = No Fraudulento</text>\n</g>\n<!-- 15&#45;&gt;19 -->\n<g id=\"edge19\" class=\"edge\">\n<title>15&#45;&gt;19</title>\n<path fill=\"none\" stroke=\"black\" d=\"M946.65,-229.34C973.77,-217.42 1004.63,-203.84 1033.41,-191.18\"/>\n<polygon fill=\"black\" stroke=\"black\" points=\"1034.93,-194.34 1042.67,-187.11 1032.11,-187.93 1034.93,-194.34\"/>\n</g>\n<!-- 17 -->\n<g id=\"node18\" class=\"node\">\n<title>17</title>\n<path fill=\"#399de5\" stroke=\"black\" d=\"M844,-68C844,-68 728,-68 728,-68 722,-68 716,-62 716,-56 716,-56 716,-12 716,-12 716,-6 722,0 728,0 728,0 844,0 844,0 850,0 856,-6 856,-12 856,-12 856,-56 856,-56 856,-62 850,-68 844,-68\"/>\n<text text-anchor=\"start\" x=\"744\" y=\"-52.8\" font-family=\"Helvetica,sans-Serif\" font-size=\"14.00\">entropy = 0.0</text>\n<text text-anchor=\"start\" x=\"730\" y=\"-37.8\" font-family=\"Helvetica,sans-Serif\" font-size=\"14.00\">samples = 13674</text>\n<text text-anchor=\"start\" x=\"729\" y=\"-22.8\" font-family=\"Helvetica,sans-Serif\" font-size=\"14.00\">value = [0, 13674]</text>\n<text text-anchor=\"start\" x=\"724\" y=\"-7.8\" font-family=\"Helvetica,sans-Serif\" font-size=\"14.00\">class = Fraudulento</text>\n</g>\n<!-- 16&#45;&gt;17 -->\n<g id=\"edge17\" class=\"edge\">\n<title>16&#45;&gt;17</title>\n<path fill=\"none\" stroke=\"black\" d=\"M838.09,-103.73C831.32,-94.79 824.14,-85.32 817.35,-76.36\"/>\n<polygon fill=\"black\" stroke=\"black\" points=\"820.07,-74.15 811.24,-68.3 814.49,-78.38 820.07,-74.15\"/>\n</g>\n<!-- 18 -->\n<g id=\"node19\" class=\"node\">\n<title>18</title>\n<path fill=\"#e58139\" stroke=\"black\" d=\"M1024,-68C1024,-68 886,-68 886,-68 880,-68 874,-62 874,-56 874,-56 874,-12 874,-12 874,-6 880,0 886,0 886,0 1024,0 1024,0 1030,0 1036,-6 1036,-12 1036,-12 1036,-56 1036,-56 1036,-62 1030,-68 1024,-68\"/>\n<text text-anchor=\"start\" x=\"913\" y=\"-52.8\" font-family=\"Helvetica,sans-Serif\" font-size=\"14.00\">entropy = 0.0</text>\n<text text-anchor=\"start\" x=\"903.5\" y=\"-37.8\" font-family=\"Helvetica,sans-Serif\" font-size=\"14.00\">samples = 1479</text>\n<text text-anchor=\"start\" x=\"902\" y=\"-22.8\" font-family=\"Helvetica,sans-Serif\" font-size=\"14.00\">value = [1479, 0]</text>\n<text text-anchor=\"start\" x=\"882\" y=\"-7.8\" font-family=\"Helvetica,sans-Serif\" font-size=\"14.00\">class = No Fraudulento</text>\n</g>\n<!-- 16&#45;&gt;18 -->\n<g id=\"edge18\" class=\"edge\">\n<title>16&#45;&gt;18</title>\n<path fill=\"none\" stroke=\"black\" d=\"M901.02,-103.73C908.04,-94.79 915.48,-85.32 922.52,-76.36\"/>\n<polygon fill=\"black\" stroke=\"black\" points=\"925.42,-78.33 928.85,-68.3 919.92,-74 925.42,-78.33\"/>\n</g>\n<!-- 20 -->\n<g id=\"node21\" class=\"node\">\n<title>20</title>\n<path fill=\"#e58139\" stroke=\"black\" d=\"M1204,-68C1204,-68 1066,-68 1066,-68 1060,-68 1054,-62 1054,-56 1054,-56 1054,-12 1054,-12 1054,-6 1060,0 1066,0 1066,0 1204,0 1204,0 1210,0 1216,-6 1216,-12 1216,-12 1216,-56 1216,-56 1216,-62 1210,-68 1204,-68\"/>\n<text text-anchor=\"start\" x=\"1093\" y=\"-52.8\" font-family=\"Helvetica,sans-Serif\" font-size=\"14.00\">entropy = 0.0</text>\n<text text-anchor=\"start\" x=\"1083.5\" y=\"-37.8\" font-family=\"Helvetica,sans-Serif\" font-size=\"14.00\">samples = 8020</text>\n<text text-anchor=\"start\" x=\"1082\" y=\"-22.8\" font-family=\"Helvetica,sans-Serif\" font-size=\"14.00\">value = [8020, 0]</text>\n<text text-anchor=\"start\" x=\"1062\" y=\"-7.8\" font-family=\"Helvetica,sans-Serif\" font-size=\"14.00\">class = No Fraudulento</text>\n</g>\n<!-- 19&#45;&gt;20 -->\n<g id=\"edge20\" class=\"edge\">\n<title>19&#45;&gt;20</title>\n<path fill=\"none\" stroke=\"black\" d=\"M1135,-103.73C1135,-95.52 1135,-86.86 1135,-78.56\"/>\n<polygon fill=\"black\" stroke=\"black\" points=\"1138.5,-78.3 1135,-68.3 1131.5,-78.3 1138.5,-78.3\"/>\n</g>\n<!-- 21 -->\n<g id=\"node22\" class=\"node\">\n<title>21</title>\n<path fill=\"#51a9e8\" stroke=\"black\" d=\"M1362,-68C1362,-68 1246,-68 1246,-68 1240,-68 1234,-62 1234,-56 1234,-56 1234,-12 1234,-12 1234,-6 1240,0 1246,0 1246,0 1362,0 1362,0 1368,0 1374,-6 1374,-12 1374,-12 1374,-56 1374,-56 1374,-62 1368,-68 1362,-68\"/>\n<text text-anchor=\"start\" x=\"1254\" y=\"-52.8\" font-family=\"Helvetica,sans-Serif\" font-size=\"14.00\">entropy = 0.498</text>\n<text text-anchor=\"start\" x=\"1256.5\" y=\"-37.8\" font-family=\"Helvetica,sans-Serif\" font-size=\"14.00\">samples = 128</text>\n<text text-anchor=\"start\" x=\"1251\" y=\"-22.8\" font-family=\"Helvetica,sans-Serif\" font-size=\"14.00\">value = [14, 114]</text>\n<text text-anchor=\"start\" x=\"1242\" y=\"-7.8\" font-family=\"Helvetica,sans-Serif\" font-size=\"14.00\">class = Fraudulento</text>\n</g>\n<!-- 19&#45;&gt;21 -->\n<g id=\"edge21\" class=\"edge\">\n<title>19&#45;&gt;21</title>\n<path fill=\"none\" stroke=\"black\" d=\"M1197.93,-103.73C1213.07,-93.92 1229.2,-83.46 1244.19,-73.75\"/>\n<polygon fill=\"black\" stroke=\"black\" points=\"1246.39,-76.5 1252.88,-68.13 1242.58,-70.63 1246.39,-76.5\"/>\n</g>\n<!-- 23 -->\n<g id=\"node24\" class=\"node\">\n<title>23</title>\n<path fill=\"#e99355\" stroke=\"black\" d=\"M2145,-425C2145,-425 1961,-425 1961,-425 1955,-425 1949,-419 1949,-413 1949,-413 1949,-354 1949,-354 1949,-348 1955,-342 1961,-342 1961,-342 2145,-342 2145,-342 2151,-342 2157,-348 2157,-354 2157,-354 2157,-413 2157,-413 2157,-419 2151,-425 2145,-425\"/>\n<text text-anchor=\"start\" x=\"1957\" y=\"-409.8\" font-family=\"Helvetica,sans-Serif\" font-size=\"14.00\">distance_from_home ≤ &#45;0.378</text>\n<text text-anchor=\"start\" x=\"2003\" y=\"-394.8\" font-family=\"Helvetica,sans-Serif\" font-size=\"14.00\">entropy = 0.541</text>\n<text text-anchor=\"start\" x=\"1997\" y=\"-379.8\" font-family=\"Helvetica,sans-Serif\" font-size=\"14.00\">samples = 28927</text>\n<text text-anchor=\"start\" x=\"1983.5\" y=\"-364.8\" font-family=\"Helvetica,sans-Serif\" font-size=\"14.00\">value = [25339, 3588]</text>\n<text text-anchor=\"start\" x=\"1980\" y=\"-349.8\" font-family=\"Helvetica,sans-Serif\" font-size=\"14.00\">class = No Fraudulento</text>\n</g>\n<!-- 22&#45;&gt;23 -->\n<g id=\"edge23\" class=\"edge\">\n<title>22&#45;&gt;23</title>\n<path fill=\"none\" stroke=\"black\" d=\"M2053,-460.91C2053,-452.65 2053,-443.86 2053,-435.3\"/>\n<polygon fill=\"black\" stroke=\"black\" points=\"2056.5,-435.02 2053,-425.02 2049.5,-435.02 2056.5,-435.02\"/>\n</g>\n<!-- 38 -->\n<g id=\"node39\" class=\"node\">\n<title>38</title>\n<path fill=\"#4ea7e8\" stroke=\"black\" d=\"M2626.5,-425C2626.5,-425 2467.5,-425 2467.5,-425 2461.5,-425 2455.5,-419 2455.5,-413 2455.5,-413 2455.5,-354 2455.5,-354 2455.5,-348 2461.5,-342 2467.5,-342 2467.5,-342 2626.5,-342 2626.5,-342 2632.5,-342 2638.5,-348 2638.5,-354 2638.5,-354 2638.5,-413 2638.5,-413 2638.5,-419 2632.5,-425 2626.5,-425\"/>\n<text text-anchor=\"start\" x=\"2463.5\" y=\"-409.8\" font-family=\"Helvetica,sans-Serif\" font-size=\"14.00\">used_pin_number ≤ 1.328</text>\n<text text-anchor=\"start\" x=\"2497\" y=\"-394.8\" font-family=\"Helvetica,sans-Serif\" font-size=\"14.00\">entropy = 0.456</text>\n<text text-anchor=\"start\" x=\"2491\" y=\"-379.8\" font-family=\"Helvetica,sans-Serif\" font-size=\"14.00\">samples = 53673</text>\n<text text-anchor=\"start\" x=\"2477.5\" y=\"-364.8\" font-family=\"Helvetica,sans-Serif\" font-size=\"14.00\">value = [5154, 48519]</text>\n<text text-anchor=\"start\" x=\"2485\" y=\"-349.8\" font-family=\"Helvetica,sans-Serif\" font-size=\"14.00\">class = Fraudulento</text>\n</g>\n<!-- 22&#45;&gt;38 -->\n<g id=\"edge38\" class=\"edge\">\n<title>22&#45;&gt;38</title>\n<path fill=\"none\" stroke=\"black\" d=\"M2134.57,-482.18C2219.71,-462.02 2353.38,-430.36 2445.34,-408.58\"/>\n<polygon fill=\"black\" stroke=\"black\" points=\"2446.3,-411.95 2455.22,-406.24 2444.68,-405.14 2446.3,-411.95\"/>\n</g>\n<!-- 24 -->\n<g id=\"node25\" class=\"node\">\n<title>24</title>\n<path fill=\"#c6e3f8\" stroke=\"black\" d=\"M1972,-306C1972,-306 1850,-306 1850,-306 1844,-306 1838,-300 1838,-294 1838,-294 1838,-235 1838,-235 1838,-229 1844,-223 1850,-223 1850,-223 1972,-223 1972,-223 1978,-223 1984,-229 1984,-235 1984,-235 1984,-294 1984,-294 1984,-300 1978,-306 1972,-306\"/>\n<text text-anchor=\"start\" x=\"1852\" y=\"-290.8\" font-family=\"Helvetica,sans-Serif\" font-size=\"14.00\">used_chip ≤ 0.314</text>\n<text text-anchor=\"start\" x=\"1865\" y=\"-275.8\" font-family=\"Helvetica,sans-Serif\" font-size=\"14.00\">entropy = 0.98</text>\n<text text-anchor=\"start\" x=\"1859.5\" y=\"-260.8\" font-family=\"Helvetica,sans-Serif\" font-size=\"14.00\">samples = 3393</text>\n<text text-anchor=\"start\" x=\"1846\" y=\"-245.8\" font-family=\"Helvetica,sans-Serif\" font-size=\"14.00\">value = [1412, 1981]</text>\n<text text-anchor=\"start\" x=\"1849\" y=\"-230.8\" font-family=\"Helvetica,sans-Serif\" font-size=\"14.00\">class = Fraudulento</text>\n</g>\n<!-- 23&#45;&gt;24 -->\n<g id=\"edge24\" class=\"edge\">\n<title>23&#45;&gt;24</title>\n<path fill=\"none\" stroke=\"black\" d=\"M2003.73,-341.91C1992.28,-332.47 1979.99,-322.34 1968.22,-312.65\"/>\n<polygon fill=\"black\" stroke=\"black\" points=\"1970.12,-309.68 1960.18,-306.02 1965.67,-315.08 1970.12,-309.68\"/>\n</g>\n<!-- 31 -->\n<g id=\"node32\" class=\"node\">\n<title>31</title>\n<path fill=\"#e78946\" stroke=\"black\" d=\"M2303.5,-306C2303.5,-306 2124.5,-306 2124.5,-306 2118.5,-306 2112.5,-300 2112.5,-294 2112.5,-294 2112.5,-235 2112.5,-235 2112.5,-229 2118.5,-223 2124.5,-223 2124.5,-223 2303.5,-223 2303.5,-223 2309.5,-223 2315.5,-229 2315.5,-235 2315.5,-235 2315.5,-294 2315.5,-294 2315.5,-300 2309.5,-306 2303.5,-306\"/>\n<text text-anchor=\"start\" x=\"2120.5\" y=\"-290.8\" font-family=\"Helvetica,sans-Serif\" font-size=\"14.00\">distance_from_home ≤ 1.123</text>\n<text text-anchor=\"start\" x=\"2164\" y=\"-275.8\" font-family=\"Helvetica,sans-Serif\" font-size=\"14.00\">entropy = 0.339</text>\n<text text-anchor=\"start\" x=\"2158\" y=\"-260.8\" font-family=\"Helvetica,sans-Serif\" font-size=\"14.00\">samples = 25534</text>\n<text text-anchor=\"start\" x=\"2144.5\" y=\"-245.8\" font-family=\"Helvetica,sans-Serif\" font-size=\"14.00\">value = [23927, 1607]</text>\n<text text-anchor=\"start\" x=\"2141\" y=\"-230.8\" font-family=\"Helvetica,sans-Serif\" font-size=\"14.00\">class = No Fraudulento</text>\n</g>\n<!-- 23&#45;&gt;31 -->\n<g id=\"edge31\" class=\"edge\">\n<title>23&#45;&gt;31</title>\n<path fill=\"none\" stroke=\"black\" d=\"M2108.86,-341.91C2122.1,-332.29 2136.32,-321.95 2149.89,-312.09\"/>\n<polygon fill=\"black\" stroke=\"black\" points=\"2152.21,-314.73 2158.24,-306.02 2148.09,-309.07 2152.21,-314.73\"/>\n</g>\n<!-- 25 -->\n<g id=\"node26\" class=\"node\">\n<title>25</title>\n<path fill=\"#4fa8e8\" stroke=\"black\" d=\"M1710.5,-187C1710.5,-187 1551.5,-187 1551.5,-187 1545.5,-187 1539.5,-181 1539.5,-175 1539.5,-175 1539.5,-116 1539.5,-116 1539.5,-110 1545.5,-104 1551.5,-104 1551.5,-104 1710.5,-104 1710.5,-104 1716.5,-104 1722.5,-110 1722.5,-116 1722.5,-116 1722.5,-175 1722.5,-175 1722.5,-181 1716.5,-187 1710.5,-187\"/>\n<text text-anchor=\"start\" x=\"1547.5\" y=\"-171.8\" font-family=\"Helvetica,sans-Serif\" font-size=\"14.00\">used_pin_number ≤ 1.328</text>\n<text text-anchor=\"start\" x=\"1581\" y=\"-156.8\" font-family=\"Helvetica,sans-Serif\" font-size=\"14.00\">entropy = 0.472</text>\n<text text-anchor=\"start\" x=\"1579.5\" y=\"-141.8\" font-family=\"Helvetica,sans-Serif\" font-size=\"14.00\">samples = 2189</text>\n<text text-anchor=\"start\" x=\"1570\" y=\"-126.8\" font-family=\"Helvetica,sans-Serif\" font-size=\"14.00\">value = [221, 1968]</text>\n<text text-anchor=\"start\" x=\"1569\" y=\"-111.8\" font-family=\"Helvetica,sans-Serif\" font-size=\"14.00\">class = Fraudulento</text>\n</g>\n<!-- 24&#45;&gt;25 -->\n<g id=\"edge25\" class=\"edge\">\n<title>24&#45;&gt;25</title>\n<path fill=\"none\" stroke=\"black\" d=\"M1837.8,-232.91C1805.45,-219.39 1766.88,-203.28 1731.86,-188.65\"/>\n<polygon fill=\"black\" stroke=\"black\" points=\"1733.15,-185.39 1722.57,-184.76 1730.45,-191.85 1733.15,-185.39\"/>\n</g>\n<!-- 28 -->\n<g id=\"node29\" class=\"node\">\n<title>28</title>\n<path fill=\"#e5823b\" stroke=\"black\" d=\"M2032,-187C2032,-187 1790,-187 1790,-187 1784,-187 1778,-181 1778,-175 1778,-175 1778,-116 1778,-116 1778,-110 1784,-104 1790,-104 1790,-104 2032,-104 2032,-104 2038,-104 2044,-110 2044,-116 2044,-116 2044,-175 2044,-175 2044,-181 2038,-187 2032,-187\"/>\n<text text-anchor=\"start\" x=\"1786\" y=\"-171.8\" font-family=\"Helvetica,sans-Serif\" font-size=\"14.00\">distance_from_last_transaction ≤ 1.723</text>\n<text text-anchor=\"start\" x=\"1861\" y=\"-156.8\" font-family=\"Helvetica,sans-Serif\" font-size=\"14.00\">entropy = 0.086</text>\n<text text-anchor=\"start\" x=\"1859.5\" y=\"-141.8\" font-family=\"Helvetica,sans-Serif\" font-size=\"14.00\">samples = 1204</text>\n<text text-anchor=\"start\" x=\"1854\" y=\"-126.8\" font-family=\"Helvetica,sans-Serif\" font-size=\"14.00\">value = [1191, 13]</text>\n<text text-anchor=\"start\" x=\"1838\" y=\"-111.8\" font-family=\"Helvetica,sans-Serif\" font-size=\"14.00\">class = No Fraudulento</text>\n</g>\n<!-- 24&#45;&gt;28 -->\n<g id=\"edge28\" class=\"edge\">\n<title>24&#45;&gt;28</title>\n<path fill=\"none\" stroke=\"black\" d=\"M1911,-222.91C1911,-214.65 1911,-205.86 1911,-197.3\"/>\n<polygon fill=\"black\" stroke=\"black\" points=\"1914.5,-197.02 1911,-187.02 1907.5,-197.02 1914.5,-197.02\"/>\n</g>\n<!-- 26 -->\n<g id=\"node27\" class=\"node\">\n<title>26</title>\n<path fill=\"#399de5\" stroke=\"black\" d=\"M1520,-68C1520,-68 1404,-68 1404,-68 1398,-68 1392,-62 1392,-56 1392,-56 1392,-12 1392,-12 1392,-6 1398,0 1404,0 1404,0 1520,0 1520,0 1526,0 1532,-6 1532,-12 1532,-12 1532,-56 1532,-56 1532,-62 1526,-68 1520,-68\"/>\n<text text-anchor=\"start\" x=\"1420\" y=\"-52.8\" font-family=\"Helvetica,sans-Serif\" font-size=\"14.00\">entropy = 0.0</text>\n<text text-anchor=\"start\" x=\"1410.5\" y=\"-37.8\" font-family=\"Helvetica,sans-Serif\" font-size=\"14.00\">samples = 1968</text>\n<text text-anchor=\"start\" x=\"1409\" y=\"-22.8\" font-family=\"Helvetica,sans-Serif\" font-size=\"14.00\">value = [0, 1968]</text>\n<text text-anchor=\"start\" x=\"1400\" y=\"-7.8\" font-family=\"Helvetica,sans-Serif\" font-size=\"14.00\">class = Fraudulento</text>\n</g>\n<!-- 25&#45;&gt;26 -->\n<g id=\"edge26\" class=\"edge\">\n<title>25&#45;&gt;26</title>\n<path fill=\"none\" stroke=\"black\" d=\"M1568.07,-103.73C1552.93,-93.92 1536.8,-83.46 1521.81,-73.75\"/>\n<polygon fill=\"black\" stroke=\"black\" points=\"1523.42,-70.63 1513.12,-68.13 1519.61,-76.5 1523.42,-70.63\"/>\n</g>\n<!-- 27 -->\n<g id=\"node28\" class=\"node\">\n<title>27</title>\n<path fill=\"#e58139\" stroke=\"black\" d=\"M1700,-68C1700,-68 1562,-68 1562,-68 1556,-68 1550,-62 1550,-56 1550,-56 1550,-12 1550,-12 1550,-6 1556,0 1562,0 1562,0 1700,0 1700,0 1706,0 1712,-6 1712,-12 1712,-12 1712,-56 1712,-56 1712,-62 1706,-68 1700,-68\"/>\n<text text-anchor=\"start\" x=\"1589\" y=\"-52.8\" font-family=\"Helvetica,sans-Serif\" font-size=\"14.00\">entropy = 0.0</text>\n<text text-anchor=\"start\" x=\"1583.5\" y=\"-37.8\" font-family=\"Helvetica,sans-Serif\" font-size=\"14.00\">samples = 221</text>\n<text text-anchor=\"start\" x=\"1582.5\" y=\"-22.8\" font-family=\"Helvetica,sans-Serif\" font-size=\"14.00\">value = [221, 0]</text>\n<text text-anchor=\"start\" x=\"1558\" y=\"-7.8\" font-family=\"Helvetica,sans-Serif\" font-size=\"14.00\">class = No Fraudulento</text>\n</g>\n<!-- 25&#45;&gt;27 -->\n<g id=\"edge27\" class=\"edge\">\n<title>25&#45;&gt;27</title>\n<path fill=\"none\" stroke=\"black\" d=\"M1631,-103.73C1631,-95.52 1631,-86.86 1631,-78.56\"/>\n<polygon fill=\"black\" stroke=\"black\" points=\"1634.5,-78.3 1631,-68.3 1627.5,-78.3 1634.5,-78.3\"/>\n</g>\n<!-- 29 -->\n<g id=\"node30\" class=\"node\">\n<title>29</title>\n<path fill=\"#e58139\" stroke=\"black\" d=\"M1880,-68C1880,-68 1742,-68 1742,-68 1736,-68 1730,-62 1730,-56 1730,-56 1730,-12 1730,-12 1730,-6 1736,0 1742,0 1742,0 1880,0 1880,0 1886,0 1892,-6 1892,-12 1892,-12 1892,-56 1892,-56 1892,-62 1886,-68 1880,-68\"/>\n<text text-anchor=\"start\" x=\"1769\" y=\"-52.8\" font-family=\"Helvetica,sans-Serif\" font-size=\"14.00\">entropy = 0.0</text>\n<text text-anchor=\"start\" x=\"1759.5\" y=\"-37.8\" font-family=\"Helvetica,sans-Serif\" font-size=\"14.00\">samples = 1189</text>\n<text text-anchor=\"start\" x=\"1758\" y=\"-22.8\" font-family=\"Helvetica,sans-Serif\" font-size=\"14.00\">value = [1189, 0]</text>\n<text text-anchor=\"start\" x=\"1738\" y=\"-7.8\" font-family=\"Helvetica,sans-Serif\" font-size=\"14.00\">class = No Fraudulento</text>\n</g>\n<!-- 28&#45;&gt;29 -->\n<g id=\"edge29\" class=\"edge\">\n<title>28&#45;&gt;29</title>\n<path fill=\"none\" stroke=\"black\" d=\"M1873.76,-103.73C1865.43,-94.61 1856.6,-84.93 1848.27,-75.81\"/>\n<polygon fill=\"black\" stroke=\"black\" points=\"1850.74,-73.32 1841.41,-68.3 1845.57,-78.04 1850.74,-73.32\"/>\n</g>\n<!-- 30 -->\n<g id=\"node31\" class=\"node\">\n<title>30</title>\n<path fill=\"#57ace9\" stroke=\"black\" d=\"M2038,-68C2038,-68 1922,-68 1922,-68 1916,-68 1910,-62 1910,-56 1910,-56 1910,-12 1910,-12 1910,-6 1916,0 1922,0 1922,0 2038,0 2038,0 2044,0 2050,-6 2050,-12 2050,-12 2050,-56 2050,-56 2050,-62 2044,-68 2038,-68\"/>\n<text text-anchor=\"start\" x=\"1930\" y=\"-52.8\" font-family=\"Helvetica,sans-Serif\" font-size=\"14.00\">entropy = 0.567</text>\n<text text-anchor=\"start\" x=\"1936.5\" y=\"-37.8\" font-family=\"Helvetica,sans-Serif\" font-size=\"14.00\">samples = 15</text>\n<text text-anchor=\"start\" x=\"1935.5\" y=\"-22.8\" font-family=\"Helvetica,sans-Serif\" font-size=\"14.00\">value = [2, 13]</text>\n<text text-anchor=\"start\" x=\"1918\" y=\"-7.8\" font-family=\"Helvetica,sans-Serif\" font-size=\"14.00\">class = Fraudulento</text>\n</g>\n<!-- 28&#45;&gt;30 -->\n<g id=\"edge30\" class=\"edge\">\n<title>28&#45;&gt;30</title>\n<path fill=\"none\" stroke=\"black\" d=\"M1936.69,-103.73C1942.21,-94.97 1948.05,-85.7 1953.59,-76.91\"/>\n<polygon fill=\"black\" stroke=\"black\" points=\"1956.65,-78.63 1959.02,-68.3 1950.72,-74.89 1956.65,-78.63\"/>\n</g>\n<!-- 32 -->\n<g id=\"node33\" class=\"node\">\n<title>32</title>\n<path fill=\"#e5833c\" stroke=\"black\" d=\"M2335,-187C2335,-187 2093,-187 2093,-187 2087,-187 2081,-181 2081,-175 2081,-175 2081,-116 2081,-116 2081,-110 2087,-104 2093,-104 2093,-104 2335,-104 2335,-104 2341,-104 2347,-110 2347,-116 2347,-116 2347,-175 2347,-175 2347,-181 2341,-187 2335,-187\"/>\n<text text-anchor=\"start\" x=\"2089\" y=\"-171.8\" font-family=\"Helvetica,sans-Serif\" font-size=\"14.00\">distance_from_last_transaction ≤ 1.741</text>\n<text text-anchor=\"start\" x=\"2164\" y=\"-156.8\" font-family=\"Helvetica,sans-Serif\" font-size=\"14.00\">entropy = 0.102</text>\n<text text-anchor=\"start\" x=\"2158\" y=\"-141.8\" font-family=\"Helvetica,sans-Serif\" font-size=\"14.00\">samples = 24119</text>\n<text text-anchor=\"start\" x=\"2149\" y=\"-126.8\" font-family=\"Helvetica,sans-Serif\" font-size=\"14.00\">value = [23798, 321]</text>\n<text text-anchor=\"start\" x=\"2141\" y=\"-111.8\" font-family=\"Helvetica,sans-Serif\" font-size=\"14.00\">class = No Fraudulento</text>\n</g>\n<!-- 31&#45;&gt;32 -->\n<g id=\"edge32\" class=\"edge\">\n<title>31&#45;&gt;32</title>\n<path fill=\"none\" stroke=\"black\" d=\"M2214,-222.91C2214,-214.65 2214,-205.86 2214,-197.3\"/>\n<polygon fill=\"black\" stroke=\"black\" points=\"2217.5,-197.02 2214,-187.02 2210.5,-197.02 2217.5,-197.02\"/>\n</g>\n<!-- 35 -->\n<g id=\"node36\" class=\"node\">\n<title>35</title>\n<path fill=\"#4da7e8\" stroke=\"black\" d=\"M2555.5,-187C2555.5,-187 2396.5,-187 2396.5,-187 2390.5,-187 2384.5,-181 2384.5,-175 2384.5,-175 2384.5,-116 2384.5,-116 2384.5,-110 2390.5,-104 2396.5,-104 2396.5,-104 2555.5,-104 2555.5,-104 2561.5,-104 2567.5,-110 2567.5,-116 2567.5,-116 2567.5,-175 2567.5,-175 2567.5,-181 2561.5,-187 2555.5,-187\"/>\n<text text-anchor=\"start\" x=\"2392.5\" y=\"-171.8\" font-family=\"Helvetica,sans-Serif\" font-size=\"14.00\">used_pin_number ≤ 1.328</text>\n<text text-anchor=\"start\" x=\"2430\" y=\"-156.8\" font-family=\"Helvetica,sans-Serif\" font-size=\"14.00\">entropy = 0.44</text>\n<text text-anchor=\"start\" x=\"2424.5\" y=\"-141.8\" font-family=\"Helvetica,sans-Serif\" font-size=\"14.00\">samples = 1415</text>\n<text text-anchor=\"start\" x=\"2415\" y=\"-126.8\" font-family=\"Helvetica,sans-Serif\" font-size=\"14.00\">value = [129, 1286]</text>\n<text text-anchor=\"start\" x=\"2414\" y=\"-111.8\" font-family=\"Helvetica,sans-Serif\" font-size=\"14.00\">class = Fraudulento</text>\n</g>\n<!-- 31&#45;&gt;35 -->\n<g id=\"edge35\" class=\"edge\">\n<title>31&#45;&gt;35</title>\n<path fill=\"none\" stroke=\"black\" d=\"M2304.9,-222.91C2327.86,-212.65 2352.65,-201.59 2376.03,-191.14\"/>\n<polygon fill=\"black\" stroke=\"black\" points=\"2377.56,-194.29 2385.26,-187.02 2374.7,-187.9 2377.56,-194.29\"/>\n</g>\n<!-- 33 -->\n<g id=\"node34\" class=\"node\">\n<title>33</title>\n<path fill=\"#e58139\" stroke=\"black\" d=\"M2218,-68C2218,-68 2080,-68 2080,-68 2074,-68 2068,-62 2068,-56 2068,-56 2068,-12 2068,-12 2068,-6 2074,0 2080,0 2080,0 2218,0 2218,0 2224,0 2230,-6 2230,-12 2230,-12 2230,-56 2230,-56 2230,-62 2224,-68 2218,-68\"/>\n<text text-anchor=\"start\" x=\"2107\" y=\"-52.8\" font-family=\"Helvetica,sans-Serif\" font-size=\"14.00\">entropy = 0.0</text>\n<text text-anchor=\"start\" x=\"2093\" y=\"-37.8\" font-family=\"Helvetica,sans-Serif\" font-size=\"14.00\">samples = 23765</text>\n<text text-anchor=\"start\" x=\"2092\" y=\"-22.8\" font-family=\"Helvetica,sans-Serif\" font-size=\"14.00\">value = [23765, 0]</text>\n<text text-anchor=\"start\" x=\"2076\" y=\"-7.8\" font-family=\"Helvetica,sans-Serif\" font-size=\"14.00\">class = No Fraudulento</text>\n</g>\n<!-- 32&#45;&gt;33 -->\n<g id=\"edge33\" class=\"edge\">\n<title>32&#45;&gt;33</title>\n<path fill=\"none\" stroke=\"black\" d=\"M2189.8,-103.73C2184.6,-94.97 2179.1,-85.7 2173.88,-76.91\"/>\n<polygon fill=\"black\" stroke=\"black\" points=\"2176.88,-75.11 2168.77,-68.3 2170.86,-78.69 2176.88,-75.11\"/>\n</g>\n<!-- 34 -->\n<g id=\"node35\" class=\"node\">\n<title>34</title>\n<path fill=\"#4da7e8\" stroke=\"black\" d=\"M2376,-68C2376,-68 2260,-68 2260,-68 2254,-68 2248,-62 2248,-56 2248,-56 2248,-12 2248,-12 2248,-6 2254,0 2260,0 2260,0 2376,0 2376,0 2382,0 2388,-6 2388,-12 2388,-12 2388,-56 2388,-56 2388,-62 2382,-68 2376,-68\"/>\n<text text-anchor=\"start\" x=\"2268\" y=\"-52.8\" font-family=\"Helvetica,sans-Serif\" font-size=\"14.00\">entropy = 0.447</text>\n<text text-anchor=\"start\" x=\"2270.5\" y=\"-37.8\" font-family=\"Helvetica,sans-Serif\" font-size=\"14.00\">samples = 354</text>\n<text text-anchor=\"start\" x=\"2265\" y=\"-22.8\" font-family=\"Helvetica,sans-Serif\" font-size=\"14.00\">value = [33, 321]</text>\n<text text-anchor=\"start\" x=\"2256\" y=\"-7.8\" font-family=\"Helvetica,sans-Serif\" font-size=\"14.00\">class = Fraudulento</text>\n</g>\n<!-- 32&#45;&gt;34 -->\n<g id=\"edge34\" class=\"edge\">\n<title>32&#45;&gt;34</title>\n<path fill=\"none\" stroke=\"black\" d=\"M2252.73,-103.73C2261.39,-94.61 2270.58,-84.93 2279.24,-75.81\"/>\n<polygon fill=\"black\" stroke=\"black\" points=\"2282.02,-77.96 2286.37,-68.3 2276.95,-73.14 2282.02,-77.96\"/>\n</g>\n<!-- 36 -->\n<g id=\"node37\" class=\"node\">\n<title>36</title>\n<path fill=\"#399de5\" stroke=\"black\" d=\"M2534,-68C2534,-68 2418,-68 2418,-68 2412,-68 2406,-62 2406,-56 2406,-56 2406,-12 2406,-12 2406,-6 2412,0 2418,0 2418,0 2534,0 2534,0 2540,0 2546,-6 2546,-12 2546,-12 2546,-56 2546,-56 2546,-62 2540,-68 2534,-68\"/>\n<text text-anchor=\"start\" x=\"2434\" y=\"-52.8\" font-family=\"Helvetica,sans-Serif\" font-size=\"14.00\">entropy = 0.0</text>\n<text text-anchor=\"start\" x=\"2424.5\" y=\"-37.8\" font-family=\"Helvetica,sans-Serif\" font-size=\"14.00\">samples = 1285</text>\n<text text-anchor=\"start\" x=\"2423\" y=\"-22.8\" font-family=\"Helvetica,sans-Serif\" font-size=\"14.00\">value = [0, 1285]</text>\n<text text-anchor=\"start\" x=\"2414\" y=\"-7.8\" font-family=\"Helvetica,sans-Serif\" font-size=\"14.00\">class = Fraudulento</text>\n</g>\n<!-- 35&#45;&gt;36 -->\n<g id=\"edge36\" class=\"edge\">\n<title>35&#45;&gt;36</title>\n<path fill=\"none\" stroke=\"black\" d=\"M2476,-103.73C2476,-95.52 2476,-86.86 2476,-78.56\"/>\n<polygon fill=\"black\" stroke=\"black\" points=\"2479.5,-78.3 2476,-68.3 2472.5,-78.3 2479.5,-78.3\"/>\n</g>\n<!-- 37 -->\n<g id=\"node38\" class=\"node\">\n<title>37</title>\n<path fill=\"#e5823b\" stroke=\"black\" d=\"M2714,-68C2714,-68 2576,-68 2576,-68 2570,-68 2564,-62 2564,-56 2564,-56 2564,-12 2564,-12 2564,-6 2570,0 2576,0 2576,0 2714,0 2714,0 2720,0 2726,-6 2726,-12 2726,-12 2726,-56 2726,-56 2726,-62 2720,-68 2714,-68\"/>\n<text text-anchor=\"start\" x=\"2595\" y=\"-52.8\" font-family=\"Helvetica,sans-Serif\" font-size=\"14.00\">entropy = 0.065</text>\n<text text-anchor=\"start\" x=\"2597.5\" y=\"-37.8\" font-family=\"Helvetica,sans-Serif\" font-size=\"14.00\">samples = 130</text>\n<text text-anchor=\"start\" x=\"2596.5\" y=\"-22.8\" font-family=\"Helvetica,sans-Serif\" font-size=\"14.00\">value = [129, 1]</text>\n<text text-anchor=\"start\" x=\"2572\" y=\"-7.8\" font-family=\"Helvetica,sans-Serif\" font-size=\"14.00\">class = No Fraudulento</text>\n</g>\n<!-- 35&#45;&gt;37 -->\n<g id=\"edge37\" class=\"edge\">\n<title>35&#45;&gt;37</title>\n<path fill=\"none\" stroke=\"black\" d=\"M2538.93,-103.73C2554.07,-93.92 2570.2,-83.46 2585.19,-73.75\"/>\n<polygon fill=\"black\" stroke=\"black\" points=\"2587.39,-76.5 2593.88,-68.13 2583.58,-70.63 2587.39,-76.5\"/>\n</g>\n<!-- 39 -->\n<g id=\"node40\" class=\"node\">\n<title>39</title>\n<path fill=\"#399de5\" stroke=\"black\" d=\"M2605,-298.5C2605,-298.5 2489,-298.5 2489,-298.5 2483,-298.5 2477,-292.5 2477,-286.5 2477,-286.5 2477,-242.5 2477,-242.5 2477,-236.5 2483,-230.5 2489,-230.5 2489,-230.5 2605,-230.5 2605,-230.5 2611,-230.5 2617,-236.5 2617,-242.5 2617,-242.5 2617,-286.5 2617,-286.5 2617,-292.5 2611,-298.5 2605,-298.5\"/>\n<text text-anchor=\"start\" x=\"2505\" y=\"-283.3\" font-family=\"Helvetica,sans-Serif\" font-size=\"14.00\">entropy = 0.0</text>\n<text text-anchor=\"start\" x=\"2491\" y=\"-268.3\" font-family=\"Helvetica,sans-Serif\" font-size=\"14.00\">samples = 48310</text>\n<text text-anchor=\"start\" x=\"2490\" y=\"-253.3\" font-family=\"Helvetica,sans-Serif\" font-size=\"14.00\">value = [0, 48310]</text>\n<text text-anchor=\"start\" x=\"2485\" y=\"-238.3\" font-family=\"Helvetica,sans-Serif\" font-size=\"14.00\">class = Fraudulento</text>\n</g>\n<!-- 38&#45;&gt;39 -->\n<g id=\"edge39\" class=\"edge\">\n<title>38&#45;&gt;39</title>\n<path fill=\"none\" stroke=\"black\" d=\"M2547,-341.91C2547,-331.2 2547,-319.62 2547,-308.78\"/>\n<polygon fill=\"black\" stroke=\"black\" points=\"2550.5,-308.67 2547,-298.67 2543.5,-308.67 2550.5,-308.67\"/>\n</g>\n<!-- 40 -->\n<g id=\"node41\" class=\"node\">\n<title>40</title>\n<path fill=\"#e68641\" stroke=\"black\" d=\"M2967.5,-306C2967.5,-306 2788.5,-306 2788.5,-306 2782.5,-306 2776.5,-300 2776.5,-294 2776.5,-294 2776.5,-235 2776.5,-235 2776.5,-229 2782.5,-223 2788.5,-223 2788.5,-223 2967.5,-223 2967.5,-223 2973.5,-223 2979.5,-229 2979.5,-235 2979.5,-235 2979.5,-294 2979.5,-294 2979.5,-300 2973.5,-306 2967.5,-306\"/>\n<text text-anchor=\"start\" x=\"2784.5\" y=\"-290.8\" font-family=\"Helvetica,sans-Serif\" font-size=\"14.00\">distance_from_home ≤ 1.127</text>\n<text text-anchor=\"start\" x=\"2828\" y=\"-275.8\" font-family=\"Helvetica,sans-Serif\" font-size=\"14.00\">entropy = 0.238</text>\n<text text-anchor=\"start\" x=\"2826.5\" y=\"-260.8\" font-family=\"Helvetica,sans-Serif\" font-size=\"14.00\">samples = 5363</text>\n<text text-anchor=\"start\" x=\"2817\" y=\"-245.8\" font-family=\"Helvetica,sans-Serif\" font-size=\"14.00\">value = [5154, 209]</text>\n<text text-anchor=\"start\" x=\"2805\" y=\"-230.8\" font-family=\"Helvetica,sans-Serif\" font-size=\"14.00\">class = No Fraudulento</text>\n</g>\n<!-- 38&#45;&gt;40 -->\n<g id=\"edge40\" class=\"edge\">\n<title>38&#45;&gt;40</title>\n<path fill=\"none\" stroke=\"black\" d=\"M2638.76,-350.06C2678.43,-336.04 2725.21,-319.51 2766.83,-304.8\"/>\n<polygon fill=\"black\" stroke=\"black\" points=\"2768.19,-308.03 2776.46,-301.39 2765.86,-301.43 2768.19,-308.03\"/>\n</g>\n<!-- 41 -->\n<g id=\"node42\" class=\"node\">\n<title>41</title>\n<path fill=\"#e5833b\" stroke=\"black\" d=\"M2999,-187C2999,-187 2757,-187 2757,-187 2751,-187 2745,-181 2745,-175 2745,-175 2745,-116 2745,-116 2745,-110 2751,-104 2757,-104 2757,-104 2999,-104 2999,-104 3005,-104 3011,-110 3011,-116 3011,-116 3011,-175 3011,-175 3011,-181 3005,-187 2999,-187\"/>\n<text text-anchor=\"start\" x=\"2753\" y=\"-171.8\" font-family=\"Helvetica,sans-Serif\" font-size=\"14.00\">distance_from_last_transaction ≤ 1.745</text>\n<text text-anchor=\"start\" x=\"2828\" y=\"-156.8\" font-family=\"Helvetica,sans-Serif\" font-size=\"14.00\">entropy = 0.096</text>\n<text text-anchor=\"start\" x=\"2826.5\" y=\"-141.8\" font-family=\"Helvetica,sans-Serif\" font-size=\"14.00\">samples = 5128</text>\n<text text-anchor=\"start\" x=\"2821\" y=\"-126.8\" font-family=\"Helvetica,sans-Serif\" font-size=\"14.00\">value = [5065, 63]</text>\n<text text-anchor=\"start\" x=\"2805\" y=\"-111.8\" font-family=\"Helvetica,sans-Serif\" font-size=\"14.00\">class = No Fraudulento</text>\n</g>\n<!-- 40&#45;&gt;41 -->\n<g id=\"edge41\" class=\"edge\">\n<title>40&#45;&gt;41</title>\n<path fill=\"none\" stroke=\"black\" d=\"M2878,-222.91C2878,-214.65 2878,-205.86 2878,-197.3\"/>\n<polygon fill=\"black\" stroke=\"black\" points=\"2881.5,-197.02 2878,-187.02 2874.5,-197.02 2881.5,-197.02\"/>\n</g>\n<!-- 44 -->\n<g id=\"node45\" class=\"node\">\n<title>44</title>\n<path fill=\"#b2d9f5\" stroke=\"black\" d=\"M3210,-187C3210,-187 3094,-187 3094,-187 3088,-187 3082,-181 3082,-175 3082,-175 3082,-116 3082,-116 3082,-110 3088,-104 3094,-104 3094,-104 3210,-104 3210,-104 3216,-104 3222,-110 3222,-116 3222,-116 3222,-175 3222,-175 3222,-181 3216,-187 3210,-187\"/>\n<text text-anchor=\"start\" x=\"3093\" y=\"-171.8\" font-family=\"Helvetica,sans-Serif\" font-size=\"14.00\">used_chip ≤ 0.314</text>\n<text text-anchor=\"start\" x=\"3102\" y=\"-156.8\" font-family=\"Helvetica,sans-Serif\" font-size=\"14.00\">entropy = 0.957</text>\n<text text-anchor=\"start\" x=\"3104.5\" y=\"-141.8\" font-family=\"Helvetica,sans-Serif\" font-size=\"14.00\">samples = 235</text>\n<text text-anchor=\"start\" x=\"3099\" y=\"-126.8\" font-family=\"Helvetica,sans-Serif\" font-size=\"14.00\">value = [89, 146]</text>\n<text text-anchor=\"start\" x=\"3090\" y=\"-111.8\" font-family=\"Helvetica,sans-Serif\" font-size=\"14.00\">class = Fraudulento</text>\n</g>\n<!-- 40&#45;&gt;44 -->\n<g id=\"edge44\" class=\"edge\">\n<title>40&#45;&gt;44</title>\n<path fill=\"none\" stroke=\"black\" d=\"M2973.06,-222.91C3005.42,-209.09 3041.23,-193.8 3072.26,-180.55\"/>\n<polygon fill=\"black\" stroke=\"black\" points=\"3073.91,-183.65 3081.73,-176.51 3071.16,-177.21 3073.91,-183.65\"/>\n</g>\n<!-- 42 -->\n<g id=\"node43\" class=\"node\">\n<title>42</title>\n<path fill=\"#e58139\" stroke=\"black\" d=\"M2894,-68C2894,-68 2756,-68 2756,-68 2750,-68 2744,-62 2744,-56 2744,-56 2744,-12 2744,-12 2744,-6 2750,0 2756,0 2756,0 2894,0 2894,0 2900,0 2906,-6 2906,-12 2906,-12 2906,-56 2906,-56 2906,-62 2900,-68 2894,-68\"/>\n<text text-anchor=\"start\" x=\"2783\" y=\"-52.8\" font-family=\"Helvetica,sans-Serif\" font-size=\"14.00\">entropy = 0.0</text>\n<text text-anchor=\"start\" x=\"2773.5\" y=\"-37.8\" font-family=\"Helvetica,sans-Serif\" font-size=\"14.00\">samples = 5046</text>\n<text text-anchor=\"start\" x=\"2772\" y=\"-22.8\" font-family=\"Helvetica,sans-Serif\" font-size=\"14.00\">value = [5046, 0]</text>\n<text text-anchor=\"start\" x=\"2752\" y=\"-7.8\" font-family=\"Helvetica,sans-Serif\" font-size=\"14.00\">class = No Fraudulento</text>\n</g>\n<!-- 41&#45;&gt;42 -->\n<g id=\"edge42\" class=\"edge\">\n<title>41&#45;&gt;42</title>\n<path fill=\"none\" stroke=\"black\" d=\"M2858.26,-103.73C2854.11,-95.15 2849.73,-86.09 2845.55,-77.46\"/>\n<polygon fill=\"black\" stroke=\"black\" points=\"2848.62,-75.78 2841.12,-68.3 2842.32,-78.83 2848.62,-75.78\"/>\n</g>\n<!-- 43 -->\n<g id=\"node44\" class=\"node\">\n<title>43</title>\n<path fill=\"#75bbed\" stroke=\"black\" d=\"M3052,-68C3052,-68 2936,-68 2936,-68 2930,-68 2924,-62 2924,-56 2924,-56 2924,-12 2924,-12 2924,-6 2930,0 2936,0 2936,0 3052,0 3052,0 3058,0 3064,-6 3064,-12 3064,-12 3064,-56 3064,-56 3064,-62 3058,-68 3052,-68\"/>\n<text text-anchor=\"start\" x=\"2944\" y=\"-52.8\" font-family=\"Helvetica,sans-Serif\" font-size=\"14.00\">entropy = 0.781</text>\n<text text-anchor=\"start\" x=\"2950.5\" y=\"-37.8\" font-family=\"Helvetica,sans-Serif\" font-size=\"14.00\">samples = 82</text>\n<text text-anchor=\"start\" x=\"2945.5\" y=\"-22.8\" font-family=\"Helvetica,sans-Serif\" font-size=\"14.00\">value = [19, 63]</text>\n<text text-anchor=\"start\" x=\"2932\" y=\"-7.8\" font-family=\"Helvetica,sans-Serif\" font-size=\"14.00\">class = Fraudulento</text>\n</g>\n<!-- 41&#45;&gt;43 -->\n<g id=\"edge43\" class=\"edge\">\n<title>41&#45;&gt;43</title>\n<path fill=\"none\" stroke=\"black\" d=\"M2921.19,-103.73C2931.05,-94.42 2941.52,-84.54 2951.35,-75.26\"/>\n<polygon fill=\"black\" stroke=\"black\" points=\"2953.85,-77.71 2958.72,-68.3 2949.05,-72.62 2953.85,-77.71\"/>\n</g>\n<!-- 45 -->\n<g id=\"node46\" class=\"node\">\n<title>45</title>\n<path fill=\"#399de5\" stroke=\"black\" d=\"M3210,-68C3210,-68 3094,-68 3094,-68 3088,-68 3082,-62 3082,-56 3082,-56 3082,-12 3082,-12 3082,-6 3088,0 3094,0 3094,0 3210,0 3210,0 3216,0 3222,-6 3222,-12 3222,-12 3222,-56 3222,-56 3222,-62 3216,-68 3210,-68\"/>\n<text text-anchor=\"start\" x=\"3110\" y=\"-52.8\" font-family=\"Helvetica,sans-Serif\" font-size=\"14.00\">entropy = 0.0</text>\n<text text-anchor=\"start\" x=\"3104.5\" y=\"-37.8\" font-family=\"Helvetica,sans-Serif\" font-size=\"14.00\">samples = 145</text>\n<text text-anchor=\"start\" x=\"3103.5\" y=\"-22.8\" font-family=\"Helvetica,sans-Serif\" font-size=\"14.00\">value = [0, 145]</text>\n<text text-anchor=\"start\" x=\"3090\" y=\"-7.8\" font-family=\"Helvetica,sans-Serif\" font-size=\"14.00\">class = Fraudulento</text>\n</g>\n<!-- 44&#45;&gt;45 -->\n<g id=\"edge45\" class=\"edge\">\n<title>44&#45;&gt;45</title>\n<path fill=\"none\" stroke=\"black\" d=\"M3152,-103.73C3152,-95.52 3152,-86.86 3152,-78.56\"/>\n<polygon fill=\"black\" stroke=\"black\" points=\"3155.5,-78.3 3152,-68.3 3148.5,-78.3 3155.5,-78.3\"/>\n</g>\n<!-- 46 -->\n<g id=\"node47\" class=\"node\">\n<title>46</title>\n<path fill=\"#e5823b\" stroke=\"black\" d=\"M3390,-68C3390,-68 3252,-68 3252,-68 3246,-68 3240,-62 3240,-56 3240,-56 3240,-12 3240,-12 3240,-6 3246,0 3252,0 3252,0 3390,0 3390,0 3396,0 3402,-6 3402,-12 3402,-12 3402,-56 3402,-56 3402,-62 3396,-68 3390,-68\"/>\n<text text-anchor=\"start\" x=\"3271\" y=\"-52.8\" font-family=\"Helvetica,sans-Serif\" font-size=\"14.00\">entropy = 0.088</text>\n<text text-anchor=\"start\" x=\"3277.5\" y=\"-37.8\" font-family=\"Helvetica,sans-Serif\" font-size=\"14.00\">samples = 90</text>\n<text text-anchor=\"start\" x=\"3276.5\" y=\"-22.8\" font-family=\"Helvetica,sans-Serif\" font-size=\"14.00\">value = [89, 1]</text>\n<text text-anchor=\"start\" x=\"3248\" y=\"-7.8\" font-family=\"Helvetica,sans-Serif\" font-size=\"14.00\">class = No Fraudulento</text>\n</g>\n<!-- 44&#45;&gt;46 -->\n<g id=\"edge46\" class=\"edge\">\n<title>44&#45;&gt;46</title>\n<path fill=\"none\" stroke=\"black\" d=\"M3214.93,-103.73C3230.07,-93.92 3246.2,-83.46 3261.19,-73.75\"/>\n<polygon fill=\"black\" stroke=\"black\" points=\"3263.39,-76.5 3269.88,-68.13 3259.58,-70.63 3263.39,-76.5\"/>\n</g>\n</g>\n</svg>\n",
      "text/plain": "<graphviz.sources.Source at 0x208949e7a30>"
     },
     "execution_count": 81,
     "metadata": {},
     "output_type": "execute_result"
    }
   ],
   "source": [
    "dot_data = tree.export_graphviz(clf, out_file=None,\n",
    "                         feature_names=list(t_data.columns.values),\n",
    "                         class_names=[\"No Fraudulento\", \"Fraudulento\"],\n",
    "                         filled=True, rounded=True,\n",
    "                         special_characters=True)\n",
    "graph = graphviz.Source(dot_data)\n",
    "graph"
   ]
  },
  {
   "cell_type": "markdown",
   "metadata": {
    "pycharm": {
     "name": "#%% md\n"
    }
   },
   "source": [
    "### Predicción de la data con el arbol de decisión sklearn"
   ]
  },
  {
   "cell_type": "code",
   "execution_count": 82,
   "metadata": {
    "pycharm": {
     "name": "#%%\n"
    }
   },
   "outputs": [
    {
     "name": "stdout",
     "output_type": "stream",
     "text": [
      "Real 0.0 => Predicción 0.0\n",
      "Real 0.0 => Predicción 0.0\n",
      "Real 1.0 => Predicción 1.0\n",
      "Real 0.0 => Predicción 0.0\n",
      "Real 0.0 => Predicción 0.0\n",
      "Real 0.0 => Predicción 0.0\n",
      "Real 1.0 => Predicción 1.0\n",
      "Real 0.0 => Predicción 0.0\n",
      "Real 0.0 => Predicción 0.0\n",
      "Real 0.0 => Predicción 0.0\n"
     ]
    }
   ],
   "source": [
    "y_respuesta = clf.predict(w_test_pred)\n",
    "for real, prd in zip(w_true_pred, y_respuesta):\n",
    "  print('Real {} => Predicción {}'.format(real, prd))"
   ]
  },
  {
   "cell_type": "markdown",
   "metadata": {
    "pycharm": {
     "name": "#%% md\n"
    }
   },
   "source": [
    "## Evaluación del árbol de decisión"
   ]
  },
  {
   "cell_type": "code",
   "execution_count": 83,
   "metadata": {
    "pycharm": {
     "name": "#%%\n"
    }
   },
   "outputs": [],
   "source": [
    "y_respuesta = clf.predict(w_test)"
   ]
  },
  {
   "cell_type": "code",
   "execution_count": 84,
   "metadata": {
    "pycharm": {
     "name": "#%%\n"
    }
   },
   "outputs": [
    {
     "name": "stdout",
     "output_type": "stream",
     "text": [
      "Precisión del árbol de decisión: 99.9095%\n"
     ]
    }
   ],
   "source": [
    "acc = metrics.accuracy_score(w_true, y_respuesta, normalize=True, sample_weight=None)\n",
    "print('Precisión del árbol de decisión: {}%'.format(acc * 100))"
   ]
  },
  {
   "cell_type": "code",
   "execution_count": 85,
   "metadata": {
    "pycharm": {
     "name": "#%%\n"
    }
   },
   "outputs": [
    {
     "data": {
      "text/plain": "<AxesSubplot:>"
     },
     "execution_count": 85,
     "metadata": {},
     "output_type": "execute_result"
    },
    {
     "data": {
      "text/plain": "<Figure size 432x288 with 2 Axes>",
      "image/png": "[encoded data removed]"
     },
     "metadata": {
      "needs_background": "light"
     },
     "output_type": "display_data"
    }
   ],
   "source": [
    "cfm = metrics.confusion_matrix(w_true, y_respuesta)\n",
    "sns.heatmap(cfm, annot=True, cmap='Blues', fmt='g')"
   ]
  },
  {
   "cell_type": "markdown",
   "metadata": {
    "pycharm": {
     "name": "#%% md\n"
    }
   },
   "source": [
    "## Arbol de decisión sin tratamiento de datos"
   ]
  },
  {
   "cell_type": "code",
   "execution_count": 86,
   "metadata": {
    "pycharm": {
     "name": "#%%\n"
    }
   },
   "outputs": [
    {
     "data": {
      "text/plain": "   distance_from_home  distance_from_last_transaction  \\\n0           57.877857                        0.311140   \n1           10.829943                        0.175592   \n2            5.091079                        0.805153   \n3            2.247564                        5.600044   \n4           44.190936                        0.566486   \n\n   ratio_to_median_purchase_price  repeat_retailer  used_chip  \\\n0                        1.945940              1.0        1.0   \n1                        1.294219              1.0        0.0   \n2                        0.427715              1.0        0.0   \n3                        0.362663              1.0        1.0   \n4                        2.222767              1.0        1.0   \n\n   used_pin_number  online_order  fraud  \n0              0.0           0.0    0.0  \n1              0.0           0.0    0.0  \n2              0.0           1.0    0.0  \n3              0.0           1.0    0.0  \n4              0.0           1.0    0.0  ",
      "text/html": "<div>\n<style scoped>\n    .dataframe tbody tr th:only-of-type {\n        vertical-align: middle;\n    }\n\n    .dataframe tbody tr th {\n        vertical-align: top;\n    }\n\n    .dataframe thead th {\n        text-align: right;\n    }\n</style>\n<table border=\"1\" class=\"dataframe\">\n  <thead>\n    <tr style=\"text-align: right;\">\n      <th></th>\n      <th>distance_from_home</th>\n      <th>distance_from_last_transaction</th>\n      <th>ratio_to_median_purchase_price</th>\n      <th>repeat_retailer</th>\n      <th>used_chip</th>\n      <th>used_pin_number</th>\n      <th>online_order</th>\n      <th>fraud</th>\n    </tr>\n  </thead>\n  <tbody>\n    <tr>\n      <th>0</th>\n      <td>57.877857</td>\n      <td>0.311140</td>\n      <td>1.945940</td>\n      <td>1.0</td>\n      <td>1.0</td>\n      <td>0.0</td>\n      <td>0.0</td>\n      <td>0.0</td>\n    </tr>\n    <tr>\n      <th>1</th>\n      <td>10.829943</td>\n      <td>0.175592</td>\n      <td>1.294219</td>\n      <td>1.0</td>\n      <td>0.0</td>\n      <td>0.0</td>\n      <td>0.0</td>\n      <td>0.0</td>\n    </tr>\n    <tr>\n      <th>2</th>\n      <td>5.091079</td>\n      <td>0.805153</td>\n      <td>0.427715</td>\n      <td>1.0</td>\n      <td>0.0</td>\n      <td>0.0</td>\n      <td>1.0</td>\n      <td>0.0</td>\n    </tr>\n    <tr>\n      <th>3</th>\n      <td>2.247564</td>\n      <td>5.600044</td>\n      <td>0.362663</td>\n      <td>1.0</td>\n      <td>1.0</td>\n      <td>0.0</td>\n      <td>1.0</td>\n      <td>0.0</td>\n    </tr>\n    <tr>\n      <th>4</th>\n      <td>44.190936</td>\n      <td>0.566486</td>\n      <td>2.222767</td>\n      <td>1.0</td>\n      <td>1.0</td>\n      <td>0.0</td>\n      <td>1.0</td>\n      <td>0.0</td>\n    </tr>\n  </tbody>\n</table>\n</div>"
     },
     "execution_count": 86,
     "metadata": {},
     "output_type": "execute_result"
    }
   ],
   "source": [
    "dframeArbol.head()"
   ]
  },
  {
   "cell_type": "code",
   "execution_count": 87,
   "metadata": {
    "pycharm": {
     "name": "#%%\n"
    }
   },
   "outputs": [],
   "source": [
    "trainSin, testSin = train_test_split(dframeArbol, test_size=0.2)"
   ]
  },
  {
   "cell_type": "code",
   "execution_count": 88,
   "metadata": {
    "pycharm": {
     "name": "#%%\n"
    }
   },
   "outputs": [],
   "source": [
    "## para entrenar\n",
    "t_data = trainSin[trainSin.columns[0:7]]\n",
    "t_target = trainSin[trainSin.columns[7]]\n",
    "## para predicciones\n",
    "w_test_pred = testSin[testSin.columns[0:7]].iloc[10:20]\n",
    "w_true_pred = testSin[testSin.columns[7]].iloc[10:20]\n",
    "## para validar el accuracy\n",
    "w_test = testSin[testSin.columns[0:7]]\n",
    "w_true = testSin[testSin.columns[7]]"
   ]
  },
  {
   "cell_type": "markdown",
   "metadata": {
    "pycharm": {
     "name": "#%% md\n"
    }
   },
   "source": [
    "## Arbol de decisión sklearn\n",
    "### Entrenamiento del modelo (Sin tratamiento de data)"
   ]
  },
  {
   "cell_type": "code",
   "execution_count": 89,
   "metadata": {
    "pycharm": {
     "name": "#%%\n"
    }
   },
   "outputs": [],
   "source": [
    "clf = tree.DecisionTreeClassifier(criterion='entropy', max_depth=5)\n",
    "clf = clf.fit(t_data, t_target)"
   ]
  },
  {
   "cell_type": "markdown",
   "metadata": {
    "pycharm": {
     "name": "#%% md\n"
    }
   },
   "source": [
    "## Graficar el arbol de decisión"
   ]
  },
  {
   "cell_type": "code",
   "execution_count": 90,
   "metadata": {
    "pycharm": {
     "name": "#%%\n"
    }
   },
   "outputs": [
    {
     "data": {
      "image/svg+xml": "<?xml version=\"1.0\" encoding=\"UTF-8\" standalone=\"no\"?>\n<!DOCTYPE svg PUBLIC \"-//W3C//DTD SVG 1.1//EN\"\n \"http://www.w3.org/Graphics/SVG/1.1/DTD/svg11.dtd\">\n<!-- Generated by graphviz version 4.0.0 (20220529.0937)\n -->\n<!-- Title: Tree Pages: 1 -->\n<svg width=\"3054pt\" height=\"671pt\"\n viewBox=\"0.00 0.00 3054.00 671.00\" xmlns=\"http://www.w3.org/2000/svg\" xmlns:xlink=\"http://www.w3.org/1999/xlink\">\n<g id=\"graph0\" class=\"graph\" transform=\"scale(1 1) rotate(0) translate(4 667)\">\n<title>Tree</title>\n<polygon fill=\"white\" stroke=\"transparent\" points=\"-4,4 -4,-667 3050,-667 3050,4 -4,4\"/>\n<!-- 0 -->\n<g id=\"node1\" class=\"node\">\n<title>0</title>\n<path fill=\"#e78d4c\" stroke=\"black\" d=\"M1514,-663C1514,-663 1278,-663 1278,-663 1272,-663 1266,-657 1266,-651 1266,-651 1266,-592 1266,-592 1266,-586 1272,-580 1278,-580 1278,-580 1514,-580 1514,-580 1520,-580 1526,-586 1526,-592 1526,-592 1526,-651 1526,-651 1526,-657 1520,-663 1514,-663\"/>\n<text text-anchor=\"start\" x=\"1274\" y=\"-647.8\" font-family=\"Helvetica,sans-Serif\" font-size=\"14.00\">ratio_to_median_purchase_price ≤ 4.0</text>\n<text text-anchor=\"start\" x=\"1346\" y=\"-632.8\" font-family=\"Helvetica,sans-Serif\" font-size=\"14.00\">entropy = 0.428</text>\n<text text-anchor=\"start\" x=\"1336\" y=\"-617.8\" font-family=\"Helvetica,sans-Serif\" font-size=\"14.00\">samples = 800000</text>\n<text text-anchor=\"start\" x=\"1318.5\" y=\"-602.8\" font-family=\"Helvetica,sans-Serif\" font-size=\"14.00\">value = [729912, 70088]</text>\n<text text-anchor=\"start\" x=\"1323\" y=\"-587.8\" font-family=\"Helvetica,sans-Serif\" font-size=\"14.00\">class = No Fraudulento</text>\n</g>\n<!-- 1 -->\n<g id=\"node2\" class=\"node\">\n<title>1</title>\n<path fill=\"#e6843e\" stroke=\"black\" d=\"M1010,-544C1010,-544 814,-544 814,-544 808,-544 802,-538 802,-532 802,-532 802,-473 802,-473 802,-467 808,-461 814,-461 814,-461 1010,-461 1010,-461 1016,-461 1022,-467 1022,-473 1022,-473 1022,-532 1022,-532 1022,-538 1016,-544 1010,-544\"/>\n<text text-anchor=\"start\" x=\"810\" y=\"-528.8\" font-family=\"Helvetica,sans-Serif\" font-size=\"14.00\">distance_from_home ≤ 100.004</text>\n<text text-anchor=\"start\" x=\"862\" y=\"-513.8\" font-family=\"Helvetica,sans-Serif\" font-size=\"14.00\">entropy = 0.169</text>\n<text text-anchor=\"start\" x=\"852\" y=\"-498.8\" font-family=\"Helvetica,sans-Serif\" font-size=\"14.00\">samples = 717305</text>\n<text text-anchor=\"start\" x=\"834.5\" y=\"-483.8\" font-family=\"Helvetica,sans-Serif\" font-size=\"14.00\">value = [699327, 17978]</text>\n<text text-anchor=\"start\" x=\"839\" y=\"-468.8\" font-family=\"Helvetica,sans-Serif\" font-size=\"14.00\">class = No Fraudulento</text>\n</g>\n<!-- 0&#45;&gt;1 -->\n<g id=\"edge1\" class=\"edge\">\n<title>0&#45;&gt;1</title>\n<path fill=\"none\" stroke=\"black\" d=\"M1265.98,-589.07C1193.24,-571.49 1103.19,-549.72 1032.11,-532.54\"/>\n<polygon fill=\"black\" stroke=\"black\" points=\"1032.76,-529.09 1022.21,-530.14 1031.11,-535.89 1032.76,-529.09\"/>\n<text text-anchor=\"middle\" x=\"1035.24\" y=\"-547.78\" font-family=\"Helvetica,sans-Serif\" font-size=\"14.00\">True</text>\n</g>\n<!-- 22 -->\n<g id=\"node23\" class=\"node\">\n<title>22</title>\n<path fill=\"#add7f4\" stroke=\"black\" d=\"M1992.5,-544C1992.5,-544 1853.5,-544 1853.5,-544 1847.5,-544 1841.5,-538 1841.5,-532 1841.5,-532 1841.5,-473 1841.5,-473 1841.5,-467 1847.5,-461 1853.5,-461 1853.5,-461 1992.5,-461 1992.5,-461 1998.5,-461 2004.5,-467 2004.5,-473 2004.5,-473 2004.5,-532 2004.5,-532 2004.5,-538 1998.5,-544 1992.5,-544\"/>\n<text text-anchor=\"start\" x=\"1865.5\" y=\"-528.8\" font-family=\"Helvetica,sans-Serif\" font-size=\"14.00\">online_order ≤ 0.5</text>\n<text text-anchor=\"start\" x=\"1873\" y=\"-513.8\" font-family=\"Helvetica,sans-Serif\" font-size=\"14.00\">entropy = 0.951</text>\n<text text-anchor=\"start\" x=\"1867\" y=\"-498.8\" font-family=\"Helvetica,sans-Serif\" font-size=\"14.00\">samples = 82695</text>\n<text text-anchor=\"start\" x=\"1849.5\" y=\"-483.8\" font-family=\"Helvetica,sans-Serif\" font-size=\"14.00\">value = [30585, 52110]</text>\n<text text-anchor=\"start\" x=\"1861\" y=\"-468.8\" font-family=\"Helvetica,sans-Serif\" font-size=\"14.00\">class = Fraudulento</text>\n</g>\n<!-- 0&#45;&gt;22 -->\n<g id=\"edge22\" class=\"edge\">\n<title>0&#45;&gt;22</title>\n<path fill=\"none\" stroke=\"black\" d=\"M1526.27,-591.58C1621.12,-570.52 1747.22,-542.52 1831.55,-523.8\"/>\n<polygon fill=\"black\" stroke=\"black\" points=\"1832.36,-527.21 1841.37,-521.62 1830.85,-520.37 1832.36,-527.21\"/>\n<text text-anchor=\"middle\" x=\"1827.94\" y=\"-539.01\" font-family=\"Helvetica,sans-Serif\" font-size=\"14.00\">False</text>\n</g>\n<!-- 2 -->\n<g id=\"node3\" class=\"node\">\n<title>2</title>\n<path fill=\"#e5823a\" stroke=\"black\" d=\"M386,-425C386,-425 136,-425 136,-425 130,-425 124,-419 124,-413 124,-413 124,-354 124,-354 124,-348 130,-342 136,-342 136,-342 386,-342 386,-342 392,-342 398,-348 398,-354 398,-354 398,-413 398,-413 398,-419 392,-425 386,-425\"/>\n<text text-anchor=\"start\" x=\"132\" y=\"-409.8\" font-family=\"Helvetica,sans-Serif\" font-size=\"14.00\">distance_from_last_transaction ≤ 49.999</text>\n<text text-anchor=\"start\" x=\"211\" y=\"-394.8\" font-family=\"Helvetica,sans-Serif\" font-size=\"14.00\">entropy = 0.053</text>\n<text text-anchor=\"start\" x=\"201\" y=\"-379.8\" font-family=\"Helvetica,sans-Serif\" font-size=\"14.00\">samples = 681547</text>\n<text text-anchor=\"start\" x=\"187.5\" y=\"-364.8\" font-family=\"Helvetica,sans-Serif\" font-size=\"14.00\">value = [677486, 4061]</text>\n<text text-anchor=\"start\" x=\"188\" y=\"-349.8\" font-family=\"Helvetica,sans-Serif\" font-size=\"14.00\">class = No Fraudulento</text>\n</g>\n<!-- 1&#45;&gt;2 -->\n<g id=\"edge2\" class=\"edge\">\n<title>1&#45;&gt;2</title>\n<path fill=\"none\" stroke=\"black\" d=\"M801.94,-481.72C693.67,-462.26 527.7,-432.43 408.15,-410.95\"/>\n<polygon fill=\"black\" stroke=\"black\" points=\"408.64,-407.48 398.18,-409.15 407.41,-414.37 408.64,-407.48\"/>\n</g>\n<!-- 9 -->\n<g id=\"node10\" class=\"node\">\n<title>9</title>\n<path fill=\"#f6d1b7\" stroke=\"black\" d=\"M981.5,-425C981.5,-425 842.5,-425 842.5,-425 836.5,-425 830.5,-419 830.5,-413 830.5,-413 830.5,-354 830.5,-354 830.5,-348 836.5,-342 842.5,-342 842.5,-342 981.5,-342 981.5,-342 987.5,-342 993.5,-348 993.5,-354 993.5,-354 993.5,-413 993.5,-413 993.5,-419 987.5,-425 981.5,-425\"/>\n<text text-anchor=\"start\" x=\"861\" y=\"-409.8\" font-family=\"Helvetica,sans-Serif\" font-size=\"14.00\">used_chip ≤ 0.5</text>\n<text text-anchor=\"start\" x=\"862\" y=\"-394.8\" font-family=\"Helvetica,sans-Serif\" font-size=\"14.00\">entropy = 0.964</text>\n<text text-anchor=\"start\" x=\"856\" y=\"-379.8\" font-family=\"Helvetica,sans-Serif\" font-size=\"14.00\">samples = 35758</text>\n<text text-anchor=\"start\" x=\"838.5\" y=\"-364.8\" font-family=\"Helvetica,sans-Serif\" font-size=\"14.00\">value = [21841, 13917]</text>\n<text text-anchor=\"start\" x=\"839\" y=\"-349.8\" font-family=\"Helvetica,sans-Serif\" font-size=\"14.00\">class = No Fraudulento</text>\n</g>\n<!-- 1&#45;&gt;9 -->\n<g id=\"edge9\" class=\"edge\">\n<title>1&#45;&gt;9</title>\n<path fill=\"none\" stroke=\"black\" d=\"M912,-460.91C912,-452.65 912,-443.86 912,-435.3\"/>\n<polygon fill=\"black\" stroke=\"black\" points=\"915.5,-435.02 912,-425.02 908.5,-435.02 915.5,-435.02\"/>\n</g>\n<!-- 3 -->\n<g id=\"node4\" class=\"node\">\n<title>3</title>\n<path fill=\"#e58139\" stroke=\"black\" d=\"M150,-298.5C150,-298.5 12,-298.5 12,-298.5 6,-298.5 0,-292.5 0,-286.5 0,-286.5 0,-242.5 0,-242.5 0,-236.5 6,-230.5 12,-230.5 12,-230.5 150,-230.5 150,-230.5 156,-230.5 162,-236.5 162,-242.5 162,-242.5 162,-286.5 162,-286.5 162,-292.5 156,-298.5 150,-298.5\"/>\n<text text-anchor=\"start\" x=\"39\" y=\"-283.3\" font-family=\"Helvetica,sans-Serif\" font-size=\"14.00\">entropy = 0.0</text>\n<text text-anchor=\"start\" x=\"21\" y=\"-268.3\" font-family=\"Helvetica,sans-Serif\" font-size=\"14.00\">samples = 671387</text>\n<text text-anchor=\"start\" x=\"20\" y=\"-253.3\" font-family=\"Helvetica,sans-Serif\" font-size=\"14.00\">value = [671387, 0]</text>\n<text text-anchor=\"start\" x=\"8\" y=\"-238.3\" font-family=\"Helvetica,sans-Serif\" font-size=\"14.00\">class = No Fraudulento</text>\n</g>\n<!-- 2&#45;&gt;3 -->\n<g id=\"edge3\" class=\"edge\">\n<title>2&#45;&gt;3</title>\n<path fill=\"none\" stroke=\"black\" d=\"M198.55,-341.91C179.71,-329.66 159.08,-316.25 140.44,-304.13\"/>\n<polygon fill=\"black\" stroke=\"black\" points=\"142.32,-301.18 132.03,-298.67 138.5,-307.05 142.32,-301.18\"/>\n</g>\n<!-- 4 -->\n<g id=\"node5\" class=\"node\">\n<title>4</title>\n<path fill=\"#f6d5bd\" stroke=\"black\" d=\"M330,-306C330,-306 192,-306 192,-306 186,-306 180,-300 180,-294 180,-294 180,-235 180,-235 180,-229 186,-223 192,-223 192,-223 330,-223 330,-223 336,-223 342,-229 342,-235 342,-235 342,-294 342,-294 342,-300 336,-306 330,-306\"/>\n<text text-anchor=\"start\" x=\"203.5\" y=\"-290.8\" font-family=\"Helvetica,sans-Serif\" font-size=\"14.00\">online_order ≤ 0.5</text>\n<text text-anchor=\"start\" x=\"211\" y=\"-275.8\" font-family=\"Helvetica,sans-Serif\" font-size=\"14.00\">entropy = 0.971</text>\n<text text-anchor=\"start\" x=\"205\" y=\"-260.8\" font-family=\"Helvetica,sans-Serif\" font-size=\"14.00\">samples = 10160</text>\n<text text-anchor=\"start\" x=\"196\" y=\"-245.8\" font-family=\"Helvetica,sans-Serif\" font-size=\"14.00\">value = [6099, 4061]</text>\n<text text-anchor=\"start\" x=\"188\" y=\"-230.8\" font-family=\"Helvetica,sans-Serif\" font-size=\"14.00\">class = No Fraudulento</text>\n</g>\n<!-- 2&#45;&gt;4 -->\n<g id=\"edge4\" class=\"edge\">\n<title>2&#45;&gt;4</title>\n<path fill=\"none\" stroke=\"black\" d=\"M261,-341.91C261,-333.65 261,-324.86 261,-316.3\"/>\n<polygon fill=\"black\" stroke=\"black\" points=\"264.5,-316.02 261,-306.02 257.5,-316.02 264.5,-316.02\"/>\n</g>\n<!-- 5 -->\n<g id=\"node6\" class=\"node\">\n<title>5</title>\n<path fill=\"#e58139\" stroke=\"black\" d=\"M158,-179.5C158,-179.5 20,-179.5 20,-179.5 14,-179.5 8,-173.5 8,-167.5 8,-167.5 8,-123.5 8,-123.5 8,-117.5 14,-111.5 20,-111.5 20,-111.5 158,-111.5 158,-111.5 164,-111.5 170,-117.5 170,-123.5 170,-123.5 170,-167.5 170,-167.5 170,-173.5 164,-179.5 158,-179.5\"/>\n<text text-anchor=\"start\" x=\"47\" y=\"-164.3\" font-family=\"Helvetica,sans-Serif\" font-size=\"14.00\">entropy = 0.0</text>\n<text text-anchor=\"start\" x=\"37.5\" y=\"-149.3\" font-family=\"Helvetica,sans-Serif\" font-size=\"14.00\">samples = 3516</text>\n<text text-anchor=\"start\" x=\"36\" y=\"-134.3\" font-family=\"Helvetica,sans-Serif\" font-size=\"14.00\">value = [3516, 0]</text>\n<text text-anchor=\"start\" x=\"16\" y=\"-119.3\" font-family=\"Helvetica,sans-Serif\" font-size=\"14.00\">class = No Fraudulento</text>\n</g>\n<!-- 4&#45;&gt;5 -->\n<g id=\"edge5\" class=\"edge\">\n<title>4&#45;&gt;5</title>\n<path fill=\"none\" stroke=\"black\" d=\"M201.33,-222.91C183.48,-210.77 163.96,-197.49 146.28,-185.46\"/>\n<polygon fill=\"black\" stroke=\"black\" points=\"148,-182.4 137.76,-179.67 144.06,-188.19 148,-182.4\"/>\n</g>\n<!-- 6 -->\n<g id=\"node7\" class=\"node\">\n<title>6</title>\n<path fill=\"#b7dbf6\" stroke=\"black\" d=\"M322,-187C322,-187 200,-187 200,-187 194,-187 188,-181 188,-175 188,-175 188,-116 188,-116 188,-110 194,-104 200,-104 200,-104 322,-104 322,-104 328,-104 334,-110 334,-116 334,-116 334,-175 334,-175 334,-181 328,-187 322,-187\"/>\n<text text-anchor=\"start\" x=\"210\" y=\"-171.8\" font-family=\"Helvetica,sans-Serif\" font-size=\"14.00\">used_chip ≤ 0.5</text>\n<text text-anchor=\"start\" x=\"211\" y=\"-156.8\" font-family=\"Helvetica,sans-Serif\" font-size=\"14.00\">entropy = 0.964</text>\n<text text-anchor=\"start\" x=\"209.5\" y=\"-141.8\" font-family=\"Helvetica,sans-Serif\" font-size=\"14.00\">samples = 6644</text>\n<text text-anchor=\"start\" x=\"196\" y=\"-126.8\" font-family=\"Helvetica,sans-Serif\" font-size=\"14.00\">value = [2583, 4061]</text>\n<text text-anchor=\"start\" x=\"199\" y=\"-111.8\" font-family=\"Helvetica,sans-Serif\" font-size=\"14.00\">class = Fraudulento</text>\n</g>\n<!-- 4&#45;&gt;6 -->\n<g id=\"edge6\" class=\"edge\">\n<title>4&#45;&gt;6</title>\n<path fill=\"none\" stroke=\"black\" d=\"M261,-222.91C261,-214.65 261,-205.86 261,-197.3\"/>\n<polygon fill=\"black\" stroke=\"black\" points=\"264.5,-197.02 261,-187.02 257.5,-197.02 264.5,-197.02\"/>\n</g>\n<!-- 7 -->\n<g id=\"node8\" class=\"node\">\n<title>7</title>\n<path fill=\"#50a9e8\" stroke=\"black\" d=\"M150,-68C150,-68 34,-68 34,-68 28,-68 22,-62 22,-56 22,-56 22,-12 22,-12 22,-6 28,0 34,0 34,0 150,0 150,0 156,0 162,-6 162,-12 162,-12 162,-56 162,-56 162,-62 156,-68 150,-68\"/>\n<text text-anchor=\"start\" x=\"42\" y=\"-52.8\" font-family=\"Helvetica,sans-Serif\" font-size=\"14.00\">entropy = 0.486</text>\n<text text-anchor=\"start\" x=\"40.5\" y=\"-37.8\" font-family=\"Helvetica,sans-Serif\" font-size=\"14.00\">samples = 4259</text>\n<text text-anchor=\"start\" x=\"31\" y=\"-22.8\" font-family=\"Helvetica,sans-Serif\" font-size=\"14.00\">value = [449, 3810]</text>\n<text text-anchor=\"start\" x=\"30\" y=\"-7.8\" font-family=\"Helvetica,sans-Serif\" font-size=\"14.00\">class = Fraudulento</text>\n</g>\n<!-- 6&#45;&gt;7 -->\n<g id=\"edge7\" class=\"edge\">\n<title>6&#45;&gt;7</title>\n<path fill=\"none\" stroke=\"black\" d=\"M198.07,-103.73C182.93,-93.92 166.8,-83.46 151.81,-73.75\"/>\n<polygon fill=\"black\" stroke=\"black\" points=\"153.42,-70.63 143.12,-68.13 149.61,-76.5 153.42,-70.63\"/>\n</g>\n<!-- 8 -->\n<g id=\"node9\" class=\"node\">\n<title>8</title>\n<path fill=\"#e89050\" stroke=\"black\" d=\"M330,-68C330,-68 192,-68 192,-68 186,-68 180,-62 180,-56 180,-56 180,-12 180,-12 180,-6 186,0 192,0 192,0 330,0 330,0 336,0 342,-6 342,-12 342,-12 342,-56 342,-56 342,-62 336,-68 330,-68\"/>\n<text text-anchor=\"start\" x=\"211\" y=\"-52.8\" font-family=\"Helvetica,sans-Serif\" font-size=\"14.00\">entropy = 0.485</text>\n<text text-anchor=\"start\" x=\"209.5\" y=\"-37.8\" font-family=\"Helvetica,sans-Serif\" font-size=\"14.00\">samples = 2385</text>\n<text text-anchor=\"start\" x=\"200\" y=\"-22.8\" font-family=\"Helvetica,sans-Serif\" font-size=\"14.00\">value = [2134, 251]</text>\n<text text-anchor=\"start\" x=\"188\" y=\"-7.8\" font-family=\"Helvetica,sans-Serif\" font-size=\"14.00\">class = No Fraudulento</text>\n</g>\n<!-- 6&#45;&gt;8 -->\n<g id=\"edge8\" class=\"edge\">\n<title>6&#45;&gt;8</title>\n<path fill=\"none\" stroke=\"black\" d=\"M261,-103.73C261,-95.52 261,-86.86 261,-78.56\"/>\n<polygon fill=\"black\" stroke=\"black\" points=\"264.5,-78.3 261,-68.3 257.5,-78.3 264.5,-78.3\"/>\n</g>\n<!-- 10 -->\n<g id=\"node11\" class=\"node\">\n<title>10</title>\n<path fill=\"#c3e1f7\" stroke=\"black\" d=\"M861.5,-306C861.5,-306 730.5,-306 730.5,-306 724.5,-306 718.5,-300 718.5,-294 718.5,-294 718.5,-235 718.5,-235 718.5,-229 724.5,-223 730.5,-223 730.5,-223 861.5,-223 861.5,-223 867.5,-223 873.5,-229 873.5,-235 873.5,-235 873.5,-294 873.5,-294 873.5,-300 867.5,-306 861.5,-306\"/>\n<text text-anchor=\"start\" x=\"738.5\" y=\"-290.8\" font-family=\"Helvetica,sans-Serif\" font-size=\"14.00\">online_order ≤ 0.5</text>\n<text text-anchor=\"start\" x=\"746\" y=\"-275.8\" font-family=\"Helvetica,sans-Serif\" font-size=\"14.00\">entropy = 0.977</text>\n<text text-anchor=\"start\" x=\"740\" y=\"-260.8\" font-family=\"Helvetica,sans-Serif\" font-size=\"14.00\">samples = 23308</text>\n<text text-anchor=\"start\" x=\"726.5\" y=\"-245.8\" font-family=\"Helvetica,sans-Serif\" font-size=\"14.00\">value = [9558, 13750]</text>\n<text text-anchor=\"start\" x=\"734\" y=\"-230.8\" font-family=\"Helvetica,sans-Serif\" font-size=\"14.00\">class = Fraudulento</text>\n</g>\n<!-- 9&#45;&gt;10 -->\n<g id=\"edge10\" class=\"edge\">\n<title>9&#45;&gt;10</title>\n<path fill=\"none\" stroke=\"black\" d=\"M871.75,-341.91C862.58,-332.65 852.74,-322.73 843.3,-313.21\"/>\n<polygon fill=\"black\" stroke=\"black\" points=\"845.7,-310.66 836.17,-306.02 840.73,-315.59 845.7,-310.66\"/>\n</g>\n<!-- 17 -->\n<g id=\"node18\" class=\"node\">\n<title>17</title>\n<path fill=\"#e5833c\" stroke=\"black\" d=\"M1154,-306C1154,-306 904,-306 904,-306 898,-306 892,-300 892,-294 892,-294 892,-235 892,-235 892,-229 898,-223 904,-223 904,-223 1154,-223 1154,-223 1160,-223 1166,-229 1166,-235 1166,-235 1166,-294 1166,-294 1166,-300 1160,-306 1154,-306\"/>\n<text text-anchor=\"start\" x=\"900\" y=\"-290.8\" font-family=\"Helvetica,sans-Serif\" font-size=\"14.00\">distance_from_last_transaction ≤ 50.246</text>\n<text text-anchor=\"start\" x=\"979\" y=\"-275.8\" font-family=\"Helvetica,sans-Serif\" font-size=\"14.00\">entropy = 0.103</text>\n<text text-anchor=\"start\" x=\"973\" y=\"-260.8\" font-family=\"Helvetica,sans-Serif\" font-size=\"14.00\">samples = 12450</text>\n<text text-anchor=\"start\" x=\"964\" y=\"-245.8\" font-family=\"Helvetica,sans-Serif\" font-size=\"14.00\">value = [12283, 167]</text>\n<text text-anchor=\"start\" x=\"956\" y=\"-230.8\" font-family=\"Helvetica,sans-Serif\" font-size=\"14.00\">class = No Fraudulento</text>\n</g>\n<!-- 9&#45;&gt;17 -->\n<g id=\"edge17\" class=\"edge\">\n<title>9&#45;&gt;17</title>\n<path fill=\"none\" stroke=\"black\" d=\"M952.59,-341.91C961.85,-332.65 971.77,-322.73 981.29,-313.21\"/>\n<polygon fill=\"black\" stroke=\"black\" points=\"983.88,-315.57 988.48,-306.02 978.93,-310.62 983.88,-315.57\"/>\n</g>\n<!-- 11 -->\n<g id=\"node12\" class=\"node\">\n<title>11</title>\n<path fill=\"#e5833c\" stroke=\"black\" d=\"M695,-187C695,-187 445,-187 445,-187 439,-187 433,-181 433,-175 433,-175 433,-116 433,-116 433,-110 439,-104 445,-104 445,-104 695,-104 695,-104 701,-104 707,-110 707,-116 707,-116 707,-175 707,-175 707,-181 701,-187 695,-187\"/>\n<text text-anchor=\"start\" x=\"441\" y=\"-171.8\" font-family=\"Helvetica,sans-Serif\" font-size=\"14.00\">distance_from_last_transaction ≤ 49.964</text>\n<text text-anchor=\"start\" x=\"520\" y=\"-156.8\" font-family=\"Helvetica,sans-Serif\" font-size=\"14.00\">entropy = 0.107</text>\n<text text-anchor=\"start\" x=\"518.5\" y=\"-141.8\" font-family=\"Helvetica,sans-Serif\" font-size=\"14.00\">samples = 8190</text>\n<text text-anchor=\"start\" x=\"509\" y=\"-126.8\" font-family=\"Helvetica,sans-Serif\" font-size=\"14.00\">value = [8075, 115]</text>\n<text text-anchor=\"start\" x=\"497\" y=\"-111.8\" font-family=\"Helvetica,sans-Serif\" font-size=\"14.00\">class = No Fraudulento</text>\n</g>\n<!-- 10&#45;&gt;11 -->\n<g id=\"edge11\" class=\"edge\">\n<title>10&#45;&gt;11</title>\n<path fill=\"none\" stroke=\"black\" d=\"M718.22,-223.24C698.63,-213.09 677.46,-202.13 657.42,-191.76\"/>\n<polygon fill=\"black\" stroke=\"black\" points=\"658.79,-188.53 648.3,-187.04 655.57,-194.74 658.79,-188.53\"/>\n</g>\n<!-- 14 -->\n<g id=\"node15\" class=\"node\">\n<title>14</title>\n<path fill=\"#4fa8e8\" stroke=\"black\" d=\"M880.5,-187C880.5,-187 737.5,-187 737.5,-187 731.5,-187 725.5,-181 725.5,-175 725.5,-175 725.5,-116 725.5,-116 725.5,-110 731.5,-104 737.5,-104 737.5,-104 880.5,-104 880.5,-104 886.5,-104 892.5,-110 892.5,-116 892.5,-116 892.5,-175 892.5,-175 892.5,-181 886.5,-187 880.5,-187\"/>\n<text text-anchor=\"start\" x=\"733.5\" y=\"-171.8\" font-family=\"Helvetica,sans-Serif\" font-size=\"14.00\">used_pin_number ≤ 0.5</text>\n<text text-anchor=\"start\" x=\"759\" y=\"-156.8\" font-family=\"Helvetica,sans-Serif\" font-size=\"14.00\">entropy = 0.463</text>\n<text text-anchor=\"start\" x=\"753\" y=\"-141.8\" font-family=\"Helvetica,sans-Serif\" font-size=\"14.00\">samples = 15118</text>\n<text text-anchor=\"start\" x=\"739.5\" y=\"-126.8\" font-family=\"Helvetica,sans-Serif\" font-size=\"14.00\">value = [1483, 13635]</text>\n<text text-anchor=\"start\" x=\"747\" y=\"-111.8\" font-family=\"Helvetica,sans-Serif\" font-size=\"14.00\">class = Fraudulento</text>\n</g>\n<!-- 10&#45;&gt;14 -->\n<g id=\"edge14\" class=\"edge\">\n<title>10&#45;&gt;14</title>\n<path fill=\"none\" stroke=\"black\" d=\"M800.51,-222.91C801.44,-214.56 802.43,-205.67 803.39,-197.02\"/>\n<polygon fill=\"black\" stroke=\"black\" points=\"806.87,-197.35 804.5,-187.02 799.91,-196.57 806.87,-197.35\"/>\n</g>\n<!-- 12 -->\n<g id=\"node13\" class=\"node\">\n<title>12</title>\n<path fill=\"#e58139\" stroke=\"black\" d=\"M510,-68C510,-68 372,-68 372,-68 366,-68 360,-62 360,-56 360,-56 360,-12 360,-12 360,-6 366,0 372,0 372,0 510,0 510,0 516,0 522,-6 522,-12 522,-12 522,-56 522,-56 522,-62 516,-68 510,-68\"/>\n<text text-anchor=\"start\" x=\"399\" y=\"-52.8\" font-family=\"Helvetica,sans-Serif\" font-size=\"14.00\">entropy = 0.0</text>\n<text text-anchor=\"start\" x=\"389.5\" y=\"-37.8\" font-family=\"Helvetica,sans-Serif\" font-size=\"14.00\">samples = 8057</text>\n<text text-anchor=\"start\" x=\"388\" y=\"-22.8\" font-family=\"Helvetica,sans-Serif\" font-size=\"14.00\">value = [8057, 0]</text>\n<text text-anchor=\"start\" x=\"368\" y=\"-7.8\" font-family=\"Helvetica,sans-Serif\" font-size=\"14.00\">class = No Fraudulento</text>\n</g>\n<!-- 11&#45;&gt;12 -->\n<g id=\"edge12\" class=\"edge\">\n<title>11&#45;&gt;12</title>\n<path fill=\"none\" stroke=\"black\" d=\"M521.97,-103.73C510.9,-94.33 499.14,-84.35 488.11,-74.99\"/>\n<polygon fill=\"black\" stroke=\"black\" points=\"490.12,-72.1 480.23,-68.3 485.59,-77.44 490.12,-72.1\"/>\n</g>\n<!-- 13 -->\n<g id=\"node14\" class=\"node\">\n<title>13</title>\n<path fill=\"#58ace9\" stroke=\"black\" d=\"M668,-68C668,-68 552,-68 552,-68 546,-68 540,-62 540,-56 540,-56 540,-12 540,-12 540,-6 546,0 552,0 552,0 668,0 668,0 674,0 680,-6 680,-12 680,-12 680,-56 680,-56 680,-62 674,-68 668,-68\"/>\n<text text-anchor=\"start\" x=\"560\" y=\"-52.8\" font-family=\"Helvetica,sans-Serif\" font-size=\"14.00\">entropy = 0.572</text>\n<text text-anchor=\"start\" x=\"562.5\" y=\"-37.8\" font-family=\"Helvetica,sans-Serif\" font-size=\"14.00\">samples = 133</text>\n<text text-anchor=\"start\" x=\"557\" y=\"-22.8\" font-family=\"Helvetica,sans-Serif\" font-size=\"14.00\">value = [18, 115]</text>\n<text text-anchor=\"start\" x=\"548\" y=\"-7.8\" font-family=\"Helvetica,sans-Serif\" font-size=\"14.00\">class = Fraudulento</text>\n</g>\n<!-- 11&#45;&gt;13 -->\n<g id=\"edge13\" class=\"edge\">\n<title>11&#45;&gt;13</title>\n<path fill=\"none\" stroke=\"black\" d=\"M584.89,-103.73C587.99,-95.24 591.27,-86.28 594.39,-77.73\"/>\n<polygon fill=\"black\" stroke=\"black\" points=\"597.69,-78.89 597.84,-68.3 591.12,-76.49 597.69,-78.89\"/>\n</g>\n<!-- 15 -->\n<g id=\"node16\" class=\"node\">\n<title>15</title>\n<path fill=\"#399de5\" stroke=\"black\" d=\"M826,-68C826,-68 710,-68 710,-68 704,-68 698,-62 698,-56 698,-56 698,-12 698,-12 698,-6 704,0 710,0 710,0 826,0 826,0 832,0 838,-6 838,-12 838,-12 838,-56 838,-56 838,-62 832,-68 826,-68\"/>\n<text text-anchor=\"start\" x=\"726\" y=\"-52.8\" font-family=\"Helvetica,sans-Serif\" font-size=\"14.00\">entropy = 0.0</text>\n<text text-anchor=\"start\" x=\"712\" y=\"-37.8\" font-family=\"Helvetica,sans-Serif\" font-size=\"14.00\">samples = 13635</text>\n<text text-anchor=\"start\" x=\"711\" y=\"-22.8\" font-family=\"Helvetica,sans-Serif\" font-size=\"14.00\">value = [0, 13635]</text>\n<text text-anchor=\"start\" x=\"706\" y=\"-7.8\" font-family=\"Helvetica,sans-Serif\" font-size=\"14.00\">class = Fraudulento</text>\n</g>\n<!-- 14&#45;&gt;15 -->\n<g id=\"edge15\" class=\"edge\">\n<title>14&#45;&gt;15</title>\n<path fill=\"none\" stroke=\"black\" d=\"M793.73,-103.73C790.56,-95.24 787.2,-86.28 784,-77.73\"/>\n<polygon fill=\"black\" stroke=\"black\" points=\"787.25,-76.44 780.47,-68.3 780.7,-78.89 787.25,-76.44\"/>\n</g>\n<!-- 16 -->\n<g id=\"node17\" class=\"node\">\n<title>16</title>\n<path fill=\"#e58139\" stroke=\"black\" d=\"M1006,-68C1006,-68 868,-68 868,-68 862,-68 856,-62 856,-56 856,-56 856,-12 856,-12 856,-6 862,0 868,0 868,0 1006,0 1006,0 1012,0 1018,-6 1018,-12 1018,-12 1018,-56 1018,-56 1018,-62 1012,-68 1006,-68\"/>\n<text text-anchor=\"start\" x=\"895\" y=\"-52.8\" font-family=\"Helvetica,sans-Serif\" font-size=\"14.00\">entropy = 0.0</text>\n<text text-anchor=\"start\" x=\"885.5\" y=\"-37.8\" font-family=\"Helvetica,sans-Serif\" font-size=\"14.00\">samples = 1483</text>\n<text text-anchor=\"start\" x=\"884\" y=\"-22.8\" font-family=\"Helvetica,sans-Serif\" font-size=\"14.00\">value = [1483, 0]</text>\n<text text-anchor=\"start\" x=\"864\" y=\"-7.8\" font-family=\"Helvetica,sans-Serif\" font-size=\"14.00\">class = No Fraudulento</text>\n</g>\n<!-- 14&#45;&gt;16 -->\n<g id=\"edge16\" class=\"edge\">\n<title>14&#45;&gt;16</title>\n<path fill=\"none\" stroke=\"black\" d=\"M856.66,-103.73C867.64,-94.33 879.31,-84.35 890.26,-74.99\"/>\n<polygon fill=\"black\" stroke=\"black\" points=\"892.75,-77.46 898.07,-68.3 888.2,-72.14 892.75,-77.46\"/>\n</g>\n<!-- 18 -->\n<g id=\"node19\" class=\"node\">\n<title>18</title>\n<path fill=\"#e58139\" stroke=\"black\" d=\"M1086,-179.5C1086,-179.5 948,-179.5 948,-179.5 942,-179.5 936,-173.5 936,-167.5 936,-167.5 936,-123.5 936,-123.5 936,-117.5 942,-111.5 948,-111.5 948,-111.5 1086,-111.5 1086,-111.5 1092,-111.5 1098,-117.5 1098,-123.5 1098,-123.5 1098,-167.5 1098,-167.5 1098,-173.5 1092,-179.5 1086,-179.5\"/>\n<text text-anchor=\"start\" x=\"975\" y=\"-164.3\" font-family=\"Helvetica,sans-Serif\" font-size=\"14.00\">entropy = 0.0</text>\n<text text-anchor=\"start\" x=\"961\" y=\"-149.3\" font-family=\"Helvetica,sans-Serif\" font-size=\"14.00\">samples = 12265</text>\n<text text-anchor=\"start\" x=\"960\" y=\"-134.3\" font-family=\"Helvetica,sans-Serif\" font-size=\"14.00\">value = [12265, 0]</text>\n<text text-anchor=\"start\" x=\"944\" y=\"-119.3\" font-family=\"Helvetica,sans-Serif\" font-size=\"14.00\">class = No Fraudulento</text>\n</g>\n<!-- 17&#45;&gt;18 -->\n<g id=\"edge18\" class=\"edge\">\n<title>17&#45;&gt;18</title>\n<path fill=\"none\" stroke=\"black\" d=\"M1024.84,-222.91C1023.74,-212.2 1022.55,-200.62 1021.44,-189.78\"/>\n<polygon fill=\"black\" stroke=\"black\" points=\"1024.9,-189.26 1020.4,-179.67 1017.94,-189.97 1024.9,-189.26\"/>\n</g>\n<!-- 19 -->\n<g id=\"node20\" class=\"node\">\n<title>19</title>\n<path fill=\"#4ea8e8\" stroke=\"black\" d=\"M1271.5,-187C1271.5,-187 1128.5,-187 1128.5,-187 1122.5,-187 1116.5,-181 1116.5,-175 1116.5,-175 1116.5,-116 1116.5,-116 1116.5,-110 1122.5,-104 1128.5,-104 1128.5,-104 1271.5,-104 1271.5,-104 1277.5,-104 1283.5,-110 1283.5,-116 1283.5,-116 1283.5,-175 1283.5,-175 1283.5,-181 1277.5,-187 1271.5,-187\"/>\n<text text-anchor=\"start\" x=\"1124.5\" y=\"-171.8\" font-family=\"Helvetica,sans-Serif\" font-size=\"14.00\">used_pin_number ≤ 0.5</text>\n<text text-anchor=\"start\" x=\"1154\" y=\"-156.8\" font-family=\"Helvetica,sans-Serif\" font-size=\"14.00\">entropy = 0.46</text>\n<text text-anchor=\"start\" x=\"1152.5\" y=\"-141.8\" font-family=\"Helvetica,sans-Serif\" font-size=\"14.00\">samples = 185</text>\n<text text-anchor=\"start\" x=\"1147\" y=\"-126.8\" font-family=\"Helvetica,sans-Serif\" font-size=\"14.00\">value = [18, 167]</text>\n<text text-anchor=\"start\" x=\"1138\" y=\"-111.8\" font-family=\"Helvetica,sans-Serif\" font-size=\"14.00\">class = Fraudulento</text>\n</g>\n<!-- 17&#45;&gt;19 -->\n<g id=\"edge19\" class=\"edge\">\n<title>17&#45;&gt;19</title>\n<path fill=\"none\" stroke=\"black\" d=\"M1088.33,-222.91C1102.52,-213.2 1117.78,-202.76 1132.31,-192.81\"/>\n<polygon fill=\"black\" stroke=\"black\" points=\"1134.5,-195.56 1140.78,-187.02 1130.55,-189.78 1134.5,-195.56\"/>\n</g>\n<!-- 20 -->\n<g id=\"node21\" class=\"node\">\n<title>20</title>\n<path fill=\"#399de5\" stroke=\"black\" d=\"M1164,-68C1164,-68 1048,-68 1048,-68 1042,-68 1036,-62 1036,-56 1036,-56 1036,-12 1036,-12 1036,-6 1042,0 1048,0 1048,0 1164,0 1164,0 1170,0 1176,-6 1176,-12 1176,-12 1176,-56 1176,-56 1176,-62 1170,-68 1164,-68\"/>\n<text text-anchor=\"start\" x=\"1064\" y=\"-52.8\" font-family=\"Helvetica,sans-Serif\" font-size=\"14.00\">entropy = 0.0</text>\n<text text-anchor=\"start\" x=\"1058.5\" y=\"-37.8\" font-family=\"Helvetica,sans-Serif\" font-size=\"14.00\">samples = 167</text>\n<text text-anchor=\"start\" x=\"1057.5\" y=\"-22.8\" font-family=\"Helvetica,sans-Serif\" font-size=\"14.00\">value = [0, 167]</text>\n<text text-anchor=\"start\" x=\"1044\" y=\"-7.8\" font-family=\"Helvetica,sans-Serif\" font-size=\"14.00\">class = Fraudulento</text>\n</g>\n<!-- 19&#45;&gt;20 -->\n<g id=\"edge20\" class=\"edge\">\n<title>19&#45;&gt;20</title>\n<path fill=\"none\" stroke=\"black\" d=\"M1165,-103.73C1157.25,-94.7 1149.03,-85.12 1141.27,-76.08\"/>\n<polygon fill=\"black\" stroke=\"black\" points=\"1143.76,-73.61 1134.59,-68.3 1138.44,-78.17 1143.76,-73.61\"/>\n</g>\n<!-- 21 -->\n<g id=\"node22\" class=\"node\">\n<title>21</title>\n<path fill=\"#e58139\" stroke=\"black\" d=\"M1344,-68C1344,-68 1206,-68 1206,-68 1200,-68 1194,-62 1194,-56 1194,-56 1194,-12 1194,-12 1194,-6 1200,0 1206,0 1206,0 1344,0 1344,0 1350,0 1356,-6 1356,-12 1356,-12 1356,-56 1356,-56 1356,-62 1350,-68 1344,-68\"/>\n<text text-anchor=\"start\" x=\"1233\" y=\"-52.8\" font-family=\"Helvetica,sans-Serif\" font-size=\"14.00\">entropy = 0.0</text>\n<text text-anchor=\"start\" x=\"1231.5\" y=\"-37.8\" font-family=\"Helvetica,sans-Serif\" font-size=\"14.00\">samples = 18</text>\n<text text-anchor=\"start\" x=\"1230.5\" y=\"-22.8\" font-family=\"Helvetica,sans-Serif\" font-size=\"14.00\">value = [18, 0]</text>\n<text text-anchor=\"start\" x=\"1202\" y=\"-7.8\" font-family=\"Helvetica,sans-Serif\" font-size=\"14.00\">class = No Fraudulento</text>\n</g>\n<!-- 19&#45;&gt;21 -->\n<g id=\"edge21\" class=\"edge\">\n<title>19&#45;&gt;21</title>\n<path fill=\"none\" stroke=\"black\" d=\"M1227.93,-103.73C1233.99,-94.88 1240.4,-85.51 1246.49,-76.63\"/>\n<polygon fill=\"black\" stroke=\"black\" points=\"1249.43,-78.53 1252.19,-68.3 1243.65,-74.57 1249.43,-78.53\"/>\n</g>\n<!-- 23 -->\n<g id=\"node24\" class=\"node\">\n<title>23</title>\n<path fill=\"#e99355\" stroke=\"black\" d=\"M2021,-425C2021,-425 1825,-425 1825,-425 1819,-425 1813,-419 1813,-413 1813,-413 1813,-354 1813,-354 1813,-348 1819,-342 1825,-342 1825,-342 2021,-342 2021,-342 2027,-342 2033,-348 2033,-354 2033,-354 2033,-413 2033,-413 2033,-419 2027,-425 2021,-425\"/>\n<text text-anchor=\"start\" x=\"1821\" y=\"-409.8\" font-family=\"Helvetica,sans-Serif\" font-size=\"14.00\">distance_from_home ≤ 100.037</text>\n<text text-anchor=\"start\" x=\"1877\" y=\"-394.8\" font-family=\"Helvetica,sans-Serif\" font-size=\"14.00\">entropy = 0.54</text>\n<text text-anchor=\"start\" x=\"1867\" y=\"-379.8\" font-family=\"Helvetica,sans-Serif\" font-size=\"14.00\">samples = 28942</text>\n<text text-anchor=\"start\" x=\"1853.5\" y=\"-364.8\" font-family=\"Helvetica,sans-Serif\" font-size=\"14.00\">value = [25362, 3580]</text>\n<text text-anchor=\"start\" x=\"1850\" y=\"-349.8\" font-family=\"Helvetica,sans-Serif\" font-size=\"14.00\">class = No Fraudulento</text>\n</g>\n<!-- 22&#45;&gt;23 -->\n<g id=\"edge23\" class=\"edge\">\n<title>22&#45;&gt;23</title>\n<path fill=\"none\" stroke=\"black\" d=\"M1923,-460.91C1923,-452.65 1923,-443.86 1923,-435.3\"/>\n<polygon fill=\"black\" stroke=\"black\" points=\"1926.5,-435.02 1923,-425.02 1919.5,-435.02 1926.5,-435.02\"/>\n</g>\n<!-- 36 -->\n<g id=\"node37\" class=\"node\">\n<title>36</title>\n<path fill=\"#4ea8e8\" stroke=\"black\" d=\"M2352.5,-425C2352.5,-425 2209.5,-425 2209.5,-425 2203.5,-425 2197.5,-419 2197.5,-413 2197.5,-413 2197.5,-354 2197.5,-354 2197.5,-348 2203.5,-342 2209.5,-342 2209.5,-342 2352.5,-342 2352.5,-342 2358.5,-342 2364.5,-348 2364.5,-354 2364.5,-354 2364.5,-413 2364.5,-413 2364.5,-419 2358.5,-425 2352.5,-425\"/>\n<text text-anchor=\"start\" x=\"2205.5\" y=\"-409.8\" font-family=\"Helvetica,sans-Serif\" font-size=\"14.00\">used_pin_number ≤ 0.5</text>\n<text text-anchor=\"start\" x=\"2235\" y=\"-394.8\" font-family=\"Helvetica,sans-Serif\" font-size=\"14.00\">entropy = 0.46</text>\n<text text-anchor=\"start\" x=\"2225\" y=\"-379.8\" font-family=\"Helvetica,sans-Serif\" font-size=\"14.00\">samples = 53753</text>\n<text text-anchor=\"start\" x=\"2211.5\" y=\"-364.8\" font-family=\"Helvetica,sans-Serif\" font-size=\"14.00\">value = [5223, 48530]</text>\n<text text-anchor=\"start\" x=\"2219\" y=\"-349.8\" font-family=\"Helvetica,sans-Serif\" font-size=\"14.00\">class = Fraudulento</text>\n</g>\n<!-- 22&#45;&gt;36 -->\n<g id=\"edge36\" class=\"edge\">\n<title>22&#45;&gt;36</title>\n<path fill=\"none\" stroke=\"black\" d=\"M2004.68,-474.8C2059.21,-456.98 2131.04,-433.51 2187.8,-414.96\"/>\n<polygon fill=\"black\" stroke=\"black\" points=\"2189.08,-418.22 2197.49,-411.79 2186.9,-411.57 2189.08,-418.22\"/>\n</g>\n<!-- 24 -->\n<g id=\"node25\" class=\"node\">\n<title>24</title>\n<path fill=\"#e78c4b\" stroke=\"black\" d=\"M1880,-306C1880,-306 1742,-306 1742,-306 1736,-306 1730,-300 1730,-294 1730,-294 1730,-235 1730,-235 1730,-229 1736,-223 1742,-223 1742,-223 1880,-223 1880,-223 1886,-223 1892,-229 1892,-235 1892,-235 1892,-294 1892,-294 1892,-300 1886,-306 1880,-306\"/>\n<text text-anchor=\"start\" x=\"1747.5\" y=\"-290.8\" font-family=\"Helvetica,sans-Serif\" font-size=\"14.00\">repeat_retailer ≤ 0.5</text>\n<text text-anchor=\"start\" x=\"1761\" y=\"-275.8\" font-family=\"Helvetica,sans-Serif\" font-size=\"14.00\">entropy = 0.413</text>\n<text text-anchor=\"start\" x=\"1755\" y=\"-260.8\" font-family=\"Helvetica,sans-Serif\" font-size=\"14.00\">samples = 27507</text>\n<text text-anchor=\"start\" x=\"1741.5\" y=\"-245.8\" font-family=\"Helvetica,sans-Serif\" font-size=\"14.00\">value = [25224, 2283]</text>\n<text text-anchor=\"start\" x=\"1738\" y=\"-230.8\" font-family=\"Helvetica,sans-Serif\" font-size=\"14.00\">class = No Fraudulento</text>\n</g>\n<!-- 23&#45;&gt;24 -->\n<g id=\"edge24\" class=\"edge\">\n<title>23&#45;&gt;24</title>\n<path fill=\"none\" stroke=\"black\" d=\"M1884.14,-341.91C1875.37,-332.74 1865.97,-322.93 1856.94,-313.49\"/>\n<polygon fill=\"black\" stroke=\"black\" points=\"1859.23,-310.82 1849.79,-306.02 1854.18,-315.66 1859.23,-310.82\"/>\n</g>\n<!-- 31 -->\n<g id=\"node32\" class=\"node\">\n<title>31</title>\n<path fill=\"#4ea7e8\" stroke=\"black\" d=\"M2107.5,-306C2107.5,-306 1964.5,-306 1964.5,-306 1958.5,-306 1952.5,-300 1952.5,-294 1952.5,-294 1952.5,-235 1952.5,-235 1952.5,-229 1958.5,-223 1964.5,-223 1964.5,-223 2107.5,-223 2107.5,-223 2113.5,-223 2119.5,-229 2119.5,-235 2119.5,-235 2119.5,-294 2119.5,-294 2119.5,-300 2113.5,-306 2107.5,-306\"/>\n<text text-anchor=\"start\" x=\"1960.5\" y=\"-290.8\" font-family=\"Helvetica,sans-Serif\" font-size=\"14.00\">used_pin_number ≤ 0.5</text>\n<text text-anchor=\"start\" x=\"1986\" y=\"-275.8\" font-family=\"Helvetica,sans-Serif\" font-size=\"14.00\">entropy = 0.457</text>\n<text text-anchor=\"start\" x=\"1984.5\" y=\"-260.8\" font-family=\"Helvetica,sans-Serif\" font-size=\"14.00\">samples = 1435</text>\n<text text-anchor=\"start\" x=\"1975\" y=\"-245.8\" font-family=\"Helvetica,sans-Serif\" font-size=\"14.00\">value = [138, 1297]</text>\n<text text-anchor=\"start\" x=\"1974\" y=\"-230.8\" font-family=\"Helvetica,sans-Serif\" font-size=\"14.00\">class = Fraudulento</text>\n</g>\n<!-- 23&#45;&gt;31 -->\n<g id=\"edge31\" class=\"edge\">\n<title>23&#45;&gt;31</title>\n<path fill=\"none\" stroke=\"black\" d=\"M1962.2,-341.91C1971.06,-332.74 1980.54,-322.93 1989.65,-313.49\"/>\n<polygon fill=\"black\" stroke=\"black\" points=\"1992.43,-315.65 1996.86,-306.02 1987.4,-310.78 1992.43,-315.65\"/>\n</g>\n<!-- 25 -->\n<g id=\"node26\" class=\"node\">\n<title>25</title>\n<path fill=\"#c8e4f8\" stroke=\"black\" d=\"M1644,-187C1644,-187 1522,-187 1522,-187 1516,-187 1510,-181 1510,-175 1510,-175 1510,-116 1510,-116 1510,-110 1516,-104 1522,-104 1522,-104 1644,-104 1644,-104 1650,-104 1656,-110 1656,-116 1656,-116 1656,-175 1656,-175 1656,-181 1650,-187 1644,-187\"/>\n<text text-anchor=\"start\" x=\"1532\" y=\"-171.8\" font-family=\"Helvetica,sans-Serif\" font-size=\"14.00\">used_chip ≤ 0.5</text>\n<text text-anchor=\"start\" x=\"1533\" y=\"-156.8\" font-family=\"Helvetica,sans-Serif\" font-size=\"14.00\">entropy = 0.981</text>\n<text text-anchor=\"start\" x=\"1531.5\" y=\"-141.8\" font-family=\"Helvetica,sans-Serif\" font-size=\"14.00\">samples = 3381</text>\n<text text-anchor=\"start\" x=\"1518\" y=\"-126.8\" font-family=\"Helvetica,sans-Serif\" font-size=\"14.00\">value = [1419, 1962]</text>\n<text text-anchor=\"start\" x=\"1521\" y=\"-111.8\" font-family=\"Helvetica,sans-Serif\" font-size=\"14.00\">class = Fraudulento</text>\n</g>\n<!-- 24&#45;&gt;25 -->\n<g id=\"edge25\" class=\"edge\">\n<title>24&#45;&gt;25</title>\n<path fill=\"none\" stroke=\"black\" d=\"M1731.9,-222.91C1710.4,-211.88 1687.07,-199.91 1665.4,-188.79\"/>\n<polygon fill=\"black\" stroke=\"black\" points=\"1666.72,-185.53 1656.22,-184.08 1663.52,-191.76 1666.72,-185.53\"/>\n</g>\n<!-- 28 -->\n<g id=\"node29\" class=\"node\">\n<title>28</title>\n<path fill=\"#e5833c\" stroke=\"black\" d=\"M1936,-187C1936,-187 1686,-187 1686,-187 1680,-187 1674,-181 1674,-175 1674,-175 1674,-116 1674,-116 1674,-110 1680,-104 1686,-104 1686,-104 1936,-104 1936,-104 1942,-104 1948,-110 1948,-116 1948,-116 1948,-175 1948,-175 1948,-181 1942,-187 1936,-187\"/>\n<text text-anchor=\"start\" x=\"1682\" y=\"-171.8\" font-family=\"Helvetica,sans-Serif\" font-size=\"14.00\">distance_from_last_transaction ≤ 49.949</text>\n<text text-anchor=\"start\" x=\"1761\" y=\"-156.8\" font-family=\"Helvetica,sans-Serif\" font-size=\"14.00\">entropy = 0.102</text>\n<text text-anchor=\"start\" x=\"1755\" y=\"-141.8\" font-family=\"Helvetica,sans-Serif\" font-size=\"14.00\">samples = 24126</text>\n<text text-anchor=\"start\" x=\"1746\" y=\"-126.8\" font-family=\"Helvetica,sans-Serif\" font-size=\"14.00\">value = [23805, 321]</text>\n<text text-anchor=\"start\" x=\"1738\" y=\"-111.8\" font-family=\"Helvetica,sans-Serif\" font-size=\"14.00\">class = No Fraudulento</text>\n</g>\n<!-- 24&#45;&gt;28 -->\n<g id=\"edge28\" class=\"edge\">\n<title>24&#45;&gt;28</title>\n<path fill=\"none\" stroke=\"black\" d=\"M1811,-222.91C1811,-214.65 1811,-205.86 1811,-197.3\"/>\n<polygon fill=\"black\" stroke=\"black\" points=\"1814.5,-197.02 1811,-187.02 1807.5,-197.02 1814.5,-197.02\"/>\n</g>\n<!-- 26 -->\n<g id=\"node27\" class=\"node\">\n<title>26</title>\n<path fill=\"#4ea8e8\" stroke=\"black\" d=\"M1502,-68C1502,-68 1386,-68 1386,-68 1380,-68 1374,-62 1374,-56 1374,-56 1374,-12 1374,-12 1374,-6 1380,0 1386,0 1386,0 1502,0 1502,0 1508,0 1514,-6 1514,-12 1514,-12 1514,-56 1514,-56 1514,-62 1508,-68 1502,-68\"/>\n<text text-anchor=\"start\" x=\"1394\" y=\"-52.8\" font-family=\"Helvetica,sans-Serif\" font-size=\"14.00\">entropy = 0.462</text>\n<text text-anchor=\"start\" x=\"1392.5\" y=\"-37.8\" font-family=\"Helvetica,sans-Serif\" font-size=\"14.00\">samples = 2160</text>\n<text text-anchor=\"start\" x=\"1383\" y=\"-22.8\" font-family=\"Helvetica,sans-Serif\" font-size=\"14.00\">value = [211, 1949]</text>\n<text text-anchor=\"start\" x=\"1382\" y=\"-7.8\" font-family=\"Helvetica,sans-Serif\" font-size=\"14.00\">class = Fraudulento</text>\n</g>\n<!-- 25&#45;&gt;26 -->\n<g id=\"edge26\" class=\"edge\">\n<title>25&#45;&gt;26</title>\n<path fill=\"none\" stroke=\"black\" d=\"M1531.24,-103.73C1519.2,-94.24 1506.4,-84.16 1494.42,-74.72\"/>\n<polygon fill=\"black\" stroke=\"black\" points=\"1496.29,-71.74 1486.27,-68.3 1491.96,-77.24 1496.29,-71.74\"/>\n</g>\n<!-- 27 -->\n<g id=\"node28\" class=\"node\">\n<title>27</title>\n<path fill=\"#e5823b\" stroke=\"black\" d=\"M1682,-68C1682,-68 1544,-68 1544,-68 1538,-68 1532,-62 1532,-56 1532,-56 1532,-12 1532,-12 1532,-6 1538,0 1544,0 1544,0 1682,0 1682,0 1688,0 1694,-6 1694,-12 1694,-12 1694,-56 1694,-56 1694,-62 1688,-68 1682,-68\"/>\n<text text-anchor=\"start\" x=\"1563\" y=\"-52.8\" font-family=\"Helvetica,sans-Serif\" font-size=\"14.00\">entropy = 0.085</text>\n<text text-anchor=\"start\" x=\"1561.5\" y=\"-37.8\" font-family=\"Helvetica,sans-Serif\" font-size=\"14.00\">samples = 1221</text>\n<text text-anchor=\"start\" x=\"1556\" y=\"-22.8\" font-family=\"Helvetica,sans-Serif\" font-size=\"14.00\">value = [1208, 13]</text>\n<text text-anchor=\"start\" x=\"1540\" y=\"-7.8\" font-family=\"Helvetica,sans-Serif\" font-size=\"14.00\">class = No Fraudulento</text>\n</g>\n<!-- 25&#45;&gt;27 -->\n<g id=\"edge27\" class=\"edge\">\n<title>25&#45;&gt;27</title>\n<path fill=\"none\" stroke=\"black\" d=\"M1594.17,-103.73C1596.47,-95.34 1598.9,-86.47 1601.22,-78.01\"/>\n<polygon fill=\"black\" stroke=\"black\" points=\"1604.61,-78.87 1603.88,-68.3 1597.86,-77.02 1604.61,-78.87\"/>\n</g>\n<!-- 29 -->\n<g id=\"node30\" class=\"node\">\n<title>29</title>\n<path fill=\"#e58139\" stroke=\"black\" d=\"M1862,-68C1862,-68 1724,-68 1724,-68 1718,-68 1712,-62 1712,-56 1712,-56 1712,-12 1712,-12 1712,-6 1718,0 1724,0 1724,0 1862,0 1862,0 1868,0 1874,-6 1874,-12 1874,-12 1874,-56 1874,-56 1874,-62 1868,-68 1862,-68\"/>\n<text text-anchor=\"start\" x=\"1751\" y=\"-52.8\" font-family=\"Helvetica,sans-Serif\" font-size=\"14.00\">entropy = 0.0</text>\n<text text-anchor=\"start\" x=\"1737\" y=\"-37.8\" font-family=\"Helvetica,sans-Serif\" font-size=\"14.00\">samples = 23774</text>\n<text text-anchor=\"start\" x=\"1736\" y=\"-22.8\" font-family=\"Helvetica,sans-Serif\" font-size=\"14.00\">value = [23774, 0]</text>\n<text text-anchor=\"start\" x=\"1720\" y=\"-7.8\" font-family=\"Helvetica,sans-Serif\" font-size=\"14.00\">class = No Fraudulento</text>\n</g>\n<!-- 28&#45;&gt;29 -->\n<g id=\"edge29\" class=\"edge\">\n<title>28&#45;&gt;29</title>\n<path fill=\"none\" stroke=\"black\" d=\"M1804.3,-103.73C1802.93,-95.43 1801.49,-86.67 1800.12,-78.28\"/>\n<polygon fill=\"black\" stroke=\"black\" points=\"1803.55,-77.6 1798.47,-68.3 1796.64,-78.73 1803.55,-77.6\"/>\n</g>\n<!-- 30 -->\n<g id=\"node31\" class=\"node\">\n<title>30</title>\n<path fill=\"#4ca6e8\" stroke=\"black\" d=\"M2020,-68C2020,-68 1904,-68 1904,-68 1898,-68 1892,-62 1892,-56 1892,-56 1892,-12 1892,-12 1892,-6 1898,0 1904,0 1904,0 2020,0 2020,0 2026,0 2032,-6 2032,-12 2032,-12 2032,-56 2032,-56 2032,-62 2026,-68 2020,-68\"/>\n<text text-anchor=\"start\" x=\"1916\" y=\"-52.8\" font-family=\"Helvetica,sans-Serif\" font-size=\"14.00\">entropy = 0.43</text>\n<text text-anchor=\"start\" x=\"1914.5\" y=\"-37.8\" font-family=\"Helvetica,sans-Serif\" font-size=\"14.00\">samples = 352</text>\n<text text-anchor=\"start\" x=\"1909\" y=\"-22.8\" font-family=\"Helvetica,sans-Serif\" font-size=\"14.00\">value = [31, 321]</text>\n<text text-anchor=\"start\" x=\"1900\" y=\"-7.8\" font-family=\"Helvetica,sans-Serif\" font-size=\"14.00\">class = Fraudulento</text>\n</g>\n<!-- 28&#45;&gt;30 -->\n<g id=\"edge30\" class=\"edge\">\n<title>28&#45;&gt;30</title>\n<path fill=\"none\" stroke=\"black\" d=\"M1867.23,-103.73C1880.56,-94.06 1894.75,-83.77 1907.98,-74.17\"/>\n<polygon fill=\"black\" stroke=\"black\" points=\"1910.04,-77 1916.08,-68.3 1905.93,-71.34 1910.04,-77\"/>\n</g>\n<!-- 32 -->\n<g id=\"node33\" class=\"node\">\n<title>32</title>\n<path fill=\"#399de5\" stroke=\"black\" d=\"M2094,-179.5C2094,-179.5 1978,-179.5 1978,-179.5 1972,-179.5 1966,-173.5 1966,-167.5 1966,-167.5 1966,-123.5 1966,-123.5 1966,-117.5 1972,-111.5 1978,-111.5 1978,-111.5 2094,-111.5 2094,-111.5 2100,-111.5 2106,-117.5 2106,-123.5 2106,-123.5 2106,-167.5 2106,-167.5 2106,-173.5 2100,-179.5 2094,-179.5\"/>\n<text text-anchor=\"start\" x=\"1994\" y=\"-164.3\" font-family=\"Helvetica,sans-Serif\" font-size=\"14.00\">entropy = 0.0</text>\n<text text-anchor=\"start\" x=\"1984.5\" y=\"-149.3\" font-family=\"Helvetica,sans-Serif\" font-size=\"14.00\">samples = 1296</text>\n<text text-anchor=\"start\" x=\"1983\" y=\"-134.3\" font-family=\"Helvetica,sans-Serif\" font-size=\"14.00\">value = [0, 1296]</text>\n<text text-anchor=\"start\" x=\"1974\" y=\"-119.3\" font-family=\"Helvetica,sans-Serif\" font-size=\"14.00\">class = Fraudulento</text>\n</g>\n<!-- 31&#45;&gt;32 -->\n<g id=\"edge32\" class=\"edge\">\n<title>31&#45;&gt;32</title>\n<path fill=\"none\" stroke=\"black\" d=\"M2036,-222.91C2036,-212.2 2036,-200.62 2036,-189.78\"/>\n<polygon fill=\"black\" stroke=\"black\" points=\"2039.5,-189.67 2036,-179.67 2032.5,-189.67 2039.5,-189.67\"/>\n</g>\n<!-- 33 -->\n<g id=\"node34\" class=\"node\">\n<title>33</title>\n<path fill=\"#e5823a\" stroke=\"black\" d=\"M2386,-187C2386,-187 2136,-187 2136,-187 2130,-187 2124,-181 2124,-175 2124,-175 2124,-116 2124,-116 2124,-110 2130,-104 2136,-104 2136,-104 2386,-104 2386,-104 2392,-104 2398,-110 2398,-116 2398,-116 2398,-175 2398,-175 2398,-181 2392,-187 2386,-187\"/>\n<text text-anchor=\"start\" x=\"2132\" y=\"-171.8\" font-family=\"Helvetica,sans-Serif\" font-size=\"14.00\">distance_from_last_transaction ≤ 49.579</text>\n<text text-anchor=\"start\" x=\"2211\" y=\"-156.8\" font-family=\"Helvetica,sans-Serif\" font-size=\"14.00\">entropy = 0.062</text>\n<text text-anchor=\"start\" x=\"2213.5\" y=\"-141.8\" font-family=\"Helvetica,sans-Serif\" font-size=\"14.00\">samples = 139</text>\n<text text-anchor=\"start\" x=\"2212.5\" y=\"-126.8\" font-family=\"Helvetica,sans-Serif\" font-size=\"14.00\">value = [138, 1]</text>\n<text text-anchor=\"start\" x=\"2188\" y=\"-111.8\" font-family=\"Helvetica,sans-Serif\" font-size=\"14.00\">class = No Fraudulento</text>\n</g>\n<!-- 31&#45;&gt;33 -->\n<g id=\"edge33\" class=\"edge\">\n<title>31&#45;&gt;33</title>\n<path fill=\"none\" stroke=\"black\" d=\"M2114.06,-222.91C2133.43,-212.83 2154.31,-201.98 2174.08,-191.7\"/>\n<polygon fill=\"black\" stroke=\"black\" points=\"2175.82,-194.74 2183.08,-187.02 2172.59,-188.53 2175.82,-194.74\"/>\n</g>\n<!-- 34 -->\n<g id=\"node35\" class=\"node\">\n<title>34</title>\n<path fill=\"#e58139\" stroke=\"black\" d=\"M2200,-68C2200,-68 2062,-68 2062,-68 2056,-68 2050,-62 2050,-56 2050,-56 2050,-12 2050,-12 2050,-6 2056,0 2062,0 2062,0 2200,0 2200,0 2206,0 2212,-6 2212,-12 2212,-12 2212,-56 2212,-56 2212,-62 2206,-68 2200,-68\"/>\n<text text-anchor=\"start\" x=\"2089\" y=\"-52.8\" font-family=\"Helvetica,sans-Serif\" font-size=\"14.00\">entropy = 0.0</text>\n<text text-anchor=\"start\" x=\"2083.5\" y=\"-37.8\" font-family=\"Helvetica,sans-Serif\" font-size=\"14.00\">samples = 138</text>\n<text text-anchor=\"start\" x=\"2082.5\" y=\"-22.8\" font-family=\"Helvetica,sans-Serif\" font-size=\"14.00\">value = [138, 0]</text>\n<text text-anchor=\"start\" x=\"2058\" y=\"-7.8\" font-family=\"Helvetica,sans-Serif\" font-size=\"14.00\">class = No Fraudulento</text>\n</g>\n<!-- 33&#45;&gt;34 -->\n<g id=\"edge34\" class=\"edge\">\n<title>33&#45;&gt;34</title>\n<path fill=\"none\" stroke=\"black\" d=\"M2212.59,-103.73C2201.44,-94.33 2189.59,-84.35 2178.47,-74.99\"/>\n<polygon fill=\"black\" stroke=\"black\" points=\"2180.44,-72.06 2170.53,-68.3 2175.93,-77.42 2180.44,-72.06\"/>\n</g>\n<!-- 35 -->\n<g id=\"node36\" class=\"node\">\n<title>35</title>\n<path fill=\"#399de5\" stroke=\"black\" d=\"M2358,-68C2358,-68 2242,-68 2242,-68 2236,-68 2230,-62 2230,-56 2230,-56 2230,-12 2230,-12 2230,-6 2236,0 2242,0 2242,0 2358,0 2358,0 2364,0 2370,-6 2370,-12 2370,-12 2370,-56 2370,-56 2370,-62 2364,-68 2358,-68\"/>\n<text text-anchor=\"start\" x=\"2258\" y=\"-52.8\" font-family=\"Helvetica,sans-Serif\" font-size=\"14.00\">entropy = 0.0</text>\n<text text-anchor=\"start\" x=\"2260.5\" y=\"-37.8\" font-family=\"Helvetica,sans-Serif\" font-size=\"14.00\">samples = 1</text>\n<text text-anchor=\"start\" x=\"2259.5\" y=\"-22.8\" font-family=\"Helvetica,sans-Serif\" font-size=\"14.00\">value = [0, 1]</text>\n<text text-anchor=\"start\" x=\"2238\" y=\"-7.8\" font-family=\"Helvetica,sans-Serif\" font-size=\"14.00\">class = Fraudulento</text>\n</g>\n<!-- 33&#45;&gt;35 -->\n<g id=\"edge35\" class=\"edge\">\n<title>33&#45;&gt;35</title>\n<path fill=\"none\" stroke=\"black\" d=\"M2275.52,-103.73C2278.54,-95.24 2281.74,-86.28 2284.78,-77.73\"/>\n<polygon fill=\"black\" stroke=\"black\" points=\"2288.08,-78.89 2288.14,-68.3 2281.49,-76.55 2288.08,-78.89\"/>\n</g>\n<!-- 37 -->\n<g id=\"node38\" class=\"node\">\n<title>37</title>\n<path fill=\"#399de5\" stroke=\"black\" d=\"M2339,-298.5C2339,-298.5 2223,-298.5 2223,-298.5 2217,-298.5 2211,-292.5 2211,-286.5 2211,-286.5 2211,-242.5 2211,-242.5 2211,-236.5 2217,-230.5 2223,-230.5 2223,-230.5 2339,-230.5 2339,-230.5 2345,-230.5 2351,-236.5 2351,-242.5 2351,-242.5 2351,-286.5 2351,-286.5 2351,-292.5 2345,-298.5 2339,-298.5\"/>\n<text text-anchor=\"start\" x=\"2239\" y=\"-283.3\" font-family=\"Helvetica,sans-Serif\" font-size=\"14.00\">entropy = 0.0</text>\n<text text-anchor=\"start\" x=\"2225\" y=\"-268.3\" font-family=\"Helvetica,sans-Serif\" font-size=\"14.00\">samples = 48321</text>\n<text text-anchor=\"start\" x=\"2224\" y=\"-253.3\" font-family=\"Helvetica,sans-Serif\" font-size=\"14.00\">value = [0, 48321]</text>\n<text text-anchor=\"start\" x=\"2219\" y=\"-238.3\" font-family=\"Helvetica,sans-Serif\" font-size=\"14.00\">class = Fraudulento</text>\n</g>\n<!-- 36&#45;&gt;37 -->\n<g id=\"edge37\" class=\"edge\">\n<title>36&#45;&gt;37</title>\n<path fill=\"none\" stroke=\"black\" d=\"M2281,-341.91C2281,-331.2 2281,-319.62 2281,-308.78\"/>\n<polygon fill=\"black\" stroke=\"black\" points=\"2284.5,-308.67 2281,-298.67 2277.5,-308.67 2284.5,-308.67\"/>\n</g>\n<!-- 38 -->\n<g id=\"node39\" class=\"node\">\n<title>38</title>\n<path fill=\"#e68641\" stroke=\"black\" d=\"M2660,-306C2660,-306 2464,-306 2464,-306 2458,-306 2452,-300 2452,-294 2452,-294 2452,-235 2452,-235 2452,-229 2458,-223 2464,-223 2464,-223 2660,-223 2660,-223 2666,-223 2672,-229 2672,-235 2672,-235 2672,-294 2672,-294 2672,-300 2666,-306 2660,-306\"/>\n<text text-anchor=\"start\" x=\"2460\" y=\"-290.8\" font-family=\"Helvetica,sans-Serif\" font-size=\"14.00\">distance_from_home ≤ 100.346</text>\n<text text-anchor=\"start\" x=\"2512\" y=\"-275.8\" font-family=\"Helvetica,sans-Serif\" font-size=\"14.00\">entropy = 0.235</text>\n<text text-anchor=\"start\" x=\"2510.5\" y=\"-260.8\" font-family=\"Helvetica,sans-Serif\" font-size=\"14.00\">samples = 5432</text>\n<text text-anchor=\"start\" x=\"2501\" y=\"-245.8\" font-family=\"Helvetica,sans-Serif\" font-size=\"14.00\">value = [5223, 209]</text>\n<text text-anchor=\"start\" x=\"2489\" y=\"-230.8\" font-family=\"Helvetica,sans-Serif\" font-size=\"14.00\">class = No Fraudulento</text>\n</g>\n<!-- 36&#45;&gt;38 -->\n<g id=\"edge38\" class=\"edge\">\n<title>36&#45;&gt;38</title>\n<path fill=\"none\" stroke=\"black\" d=\"M2364.55,-347.71C2393.06,-335.84 2425.35,-322.4 2455.43,-309.87\"/>\n<polygon fill=\"black\" stroke=\"black\" points=\"2456.8,-313.09 2464.68,-306.02 2454.11,-306.63 2456.8,-313.09\"/>\n</g>\n<!-- 39 -->\n<g id=\"node40\" class=\"node\">\n<title>39</title>\n<path fill=\"#e5823b\" stroke=\"black\" d=\"M2687,-187C2687,-187 2437,-187 2437,-187 2431,-187 2425,-181 2425,-175 2425,-175 2425,-116 2425,-116 2425,-110 2431,-104 2437,-104 2437,-104 2687,-104 2687,-104 2693,-104 2699,-110 2699,-116 2699,-116 2699,-175 2699,-175 2699,-181 2693,-187 2687,-187\"/>\n<text text-anchor=\"start\" x=\"2433\" y=\"-171.8\" font-family=\"Helvetica,sans-Serif\" font-size=\"14.00\">distance_from_last_transaction ≤ 50.126</text>\n<text text-anchor=\"start\" x=\"2512\" y=\"-156.8\" font-family=\"Helvetica,sans-Serif\" font-size=\"14.00\">entropy = 0.082</text>\n<text text-anchor=\"start\" x=\"2510.5\" y=\"-141.8\" font-family=\"Helvetica,sans-Serif\" font-size=\"14.00\">samples = 5183</text>\n<text text-anchor=\"start\" x=\"2505\" y=\"-126.8\" font-family=\"Helvetica,sans-Serif\" font-size=\"14.00\">value = [5130, 53]</text>\n<text text-anchor=\"start\" x=\"2489\" y=\"-111.8\" font-family=\"Helvetica,sans-Serif\" font-size=\"14.00\">class = No Fraudulento</text>\n</g>\n<!-- 38&#45;&gt;39 -->\n<g id=\"edge39\" class=\"edge\">\n<title>38&#45;&gt;39</title>\n<path fill=\"none\" stroke=\"black\" d=\"M2562,-222.91C2562,-214.65 2562,-205.86 2562,-197.3\"/>\n<polygon fill=\"black\" stroke=\"black\" points=\"2565.5,-197.02 2562,-187.02 2558.5,-197.02 2565.5,-197.02\"/>\n</g>\n<!-- 42 -->\n<g id=\"node43\" class=\"node\">\n<title>42</title>\n<path fill=\"#afd7f4\" stroke=\"black\" d=\"M2854,-187C2854,-187 2738,-187 2738,-187 2732,-187 2726,-181 2726,-175 2726,-175 2726,-116 2726,-116 2726,-110 2732,-104 2738,-104 2738,-104 2854,-104 2854,-104 2860,-104 2866,-110 2866,-116 2866,-116 2866,-175 2866,-175 2866,-181 2860,-187 2854,-187\"/>\n<text text-anchor=\"start\" x=\"2745\" y=\"-171.8\" font-family=\"Helvetica,sans-Serif\" font-size=\"14.00\">used_chip ≤ 0.5</text>\n<text text-anchor=\"start\" x=\"2746\" y=\"-156.8\" font-family=\"Helvetica,sans-Serif\" font-size=\"14.00\">entropy = 0.953</text>\n<text text-anchor=\"start\" x=\"2748.5\" y=\"-141.8\" font-family=\"Helvetica,sans-Serif\" font-size=\"14.00\">samples = 249</text>\n<text text-anchor=\"start\" x=\"2743\" y=\"-126.8\" font-family=\"Helvetica,sans-Serif\" font-size=\"14.00\">value = [93, 156]</text>\n<text text-anchor=\"start\" x=\"2734\" y=\"-111.8\" font-family=\"Helvetica,sans-Serif\" font-size=\"14.00\">class = Fraudulento</text>\n</g>\n<!-- 38&#45;&gt;42 -->\n<g id=\"edge42\" class=\"edge\">\n<title>38&#45;&gt;42</title>\n<path fill=\"none\" stroke=\"black\" d=\"M2643.19,-222.91C2667.06,-210.97 2693.14,-197.93 2716.89,-186.06\"/>\n<polygon fill=\"black\" stroke=\"black\" points=\"2718.49,-189.17 2725.87,-181.57 2715.36,-182.91 2718.49,-189.17\"/>\n</g>\n<!-- 40 -->\n<g id=\"node41\" class=\"node\">\n<title>40</title>\n<path fill=\"#e58139\" stroke=\"black\" d=\"M2538,-68C2538,-68 2400,-68 2400,-68 2394,-68 2388,-62 2388,-56 2388,-56 2388,-12 2388,-12 2388,-6 2394,0 2400,0 2400,0 2538,0 2538,0 2544,0 2550,-6 2550,-12 2550,-12 2550,-56 2550,-56 2550,-62 2544,-68 2538,-68\"/>\n<text text-anchor=\"start\" x=\"2427\" y=\"-52.8\" font-family=\"Helvetica,sans-Serif\" font-size=\"14.00\">entropy = 0.0</text>\n<text text-anchor=\"start\" x=\"2417.5\" y=\"-37.8\" font-family=\"Helvetica,sans-Serif\" font-size=\"14.00\">samples = 5111</text>\n<text text-anchor=\"start\" x=\"2416\" y=\"-22.8\" font-family=\"Helvetica,sans-Serif\" font-size=\"14.00\">value = [5111, 0]</text>\n<text text-anchor=\"start\" x=\"2396\" y=\"-7.8\" font-family=\"Helvetica,sans-Serif\" font-size=\"14.00\">class = No Fraudulento</text>\n</g>\n<!-- 39&#45;&gt;40 -->\n<g id=\"edge40\" class=\"edge\">\n<title>39&#45;&gt;40</title>\n<path fill=\"none\" stroke=\"black\" d=\"M2527.37,-103.73C2519.7,-94.7 2511.57,-85.12 2503.89,-76.08\"/>\n<polygon fill=\"black\" stroke=\"black\" points=\"2506.42,-73.66 2497.28,-68.3 2501.09,-78.19 2506.42,-73.66\"/>\n</g>\n<!-- 41 -->\n<g id=\"node42\" class=\"node\">\n<title>41</title>\n<path fill=\"#80c0ee\" stroke=\"black\" d=\"M2696,-68C2696,-68 2580,-68 2580,-68 2574,-68 2568,-62 2568,-56 2568,-56 2568,-12 2568,-12 2568,-6 2574,0 2580,0 2580,0 2696,0 2696,0 2702,0 2708,-6 2708,-12 2708,-12 2708,-56 2708,-56 2708,-62 2702,-68 2696,-68\"/>\n<text text-anchor=\"start\" x=\"2588\" y=\"-52.8\" font-family=\"Helvetica,sans-Serif\" font-size=\"14.00\">entropy = 0.833</text>\n<text text-anchor=\"start\" x=\"2594.5\" y=\"-37.8\" font-family=\"Helvetica,sans-Serif\" font-size=\"14.00\">samples = 72</text>\n<text text-anchor=\"start\" x=\"2589.5\" y=\"-22.8\" font-family=\"Helvetica,sans-Serif\" font-size=\"14.00\">value = [19, 53]</text>\n<text text-anchor=\"start\" x=\"2576\" y=\"-7.8\" font-family=\"Helvetica,sans-Serif\" font-size=\"14.00\">class = Fraudulento</text>\n</g>\n<!-- 39&#45;&gt;41 -->\n<g id=\"edge41\" class=\"edge\">\n<title>39&#45;&gt;41</title>\n<path fill=\"none\" stroke=\"black\" d=\"M2590.3,-103.73C2596.44,-94.88 2602.94,-85.51 2609.11,-76.63\"/>\n<polygon fill=\"black\" stroke=\"black\" points=\"2612.06,-78.51 2614.89,-68.3 2606.31,-74.52 2612.06,-78.51\"/>\n</g>\n<!-- 43 -->\n<g id=\"node44\" class=\"node\">\n<title>43</title>\n<path fill=\"#399de5\" stroke=\"black\" d=\"M2854,-68C2854,-68 2738,-68 2738,-68 2732,-68 2726,-62 2726,-56 2726,-56 2726,-12 2726,-12 2726,-6 2732,0 2738,0 2738,0 2854,0 2854,0 2860,0 2866,-6 2866,-12 2866,-12 2866,-56 2866,-56 2866,-62 2860,-68 2854,-68\"/>\n<text text-anchor=\"start\" x=\"2754\" y=\"-52.8\" font-family=\"Helvetica,sans-Serif\" font-size=\"14.00\">entropy = 0.0</text>\n<text text-anchor=\"start\" x=\"2748.5\" y=\"-37.8\" font-family=\"Helvetica,sans-Serif\" font-size=\"14.00\">samples = 155</text>\n<text text-anchor=\"start\" x=\"2747.5\" y=\"-22.8\" font-family=\"Helvetica,sans-Serif\" font-size=\"14.00\">value = [0, 155]</text>\n<text text-anchor=\"start\" x=\"2734\" y=\"-7.8\" font-family=\"Helvetica,sans-Serif\" font-size=\"14.00\">class = Fraudulento</text>\n</g>\n<!-- 42&#45;&gt;43 -->\n<g id=\"edge43\" class=\"edge\">\n<title>42&#45;&gt;43</title>\n<path fill=\"none\" stroke=\"black\" d=\"M2796,-103.73C2796,-95.52 2796,-86.86 2796,-78.56\"/>\n<polygon fill=\"black\" stroke=\"black\" points=\"2799.5,-78.3 2796,-68.3 2792.5,-78.3 2799.5,-78.3\"/>\n</g>\n<!-- 44 -->\n<g id=\"node45\" class=\"node\">\n<title>44</title>\n<path fill=\"#e5823b\" stroke=\"black\" d=\"M3034,-68C3034,-68 2896,-68 2896,-68 2890,-68 2884,-62 2884,-56 2884,-56 2884,-12 2884,-12 2884,-6 2890,0 2896,0 2896,0 3034,0 3034,0 3040,0 3046,-6 3046,-12 3046,-12 3046,-56 3046,-56 3046,-62 3040,-68 3034,-68\"/>\n<text text-anchor=\"start\" x=\"2915\" y=\"-52.8\" font-family=\"Helvetica,sans-Serif\" font-size=\"14.00\">entropy = 0.085</text>\n<text text-anchor=\"start\" x=\"2921.5\" y=\"-37.8\" font-family=\"Helvetica,sans-Serif\" font-size=\"14.00\">samples = 94</text>\n<text text-anchor=\"start\" x=\"2920.5\" y=\"-22.8\" font-family=\"Helvetica,sans-Serif\" font-size=\"14.00\">value = [93, 1]</text>\n<text text-anchor=\"start\" x=\"2892\" y=\"-7.8\" font-family=\"Helvetica,sans-Serif\" font-size=\"14.00\">class = No Fraudulento</text>\n</g>\n<!-- 42&#45;&gt;44 -->\n<g id=\"edge44\" class=\"edge\">\n<title>42&#45;&gt;44</title>\n<path fill=\"none\" stroke=\"black\" d=\"M2858.93,-103.73C2874.07,-93.92 2890.2,-83.46 2905.19,-73.75\"/>\n<polygon fill=\"black\" stroke=\"black\" points=\"2907.39,-76.5 2913.88,-68.13 2903.58,-70.63 2907.39,-76.5\"/>\n</g>\n</g>\n</svg>\n",
      "text/plain": "<graphviz.sources.Source at 0x20894a44490>"
     },
     "execution_count": 90,
     "metadata": {},
     "output_type": "execute_result"
    }
   ],
   "source": [
    "dot_data = tree.export_graphviz(clf, out_file=None,\n",
    "                                feature_names=list(t_data.columns.values),\n",
    "                                class_names=[\"No Fraudulento\", \"Fraudulento\"],\n",
    "                                filled=True, rounded=True,\n",
    "                                special_characters=True)\n",
    "graph = graphviz.Source(dot_data)\n",
    "graph"
   ]
  },
  {
   "cell_type": "markdown",
   "metadata": {
    "pycharm": {
     "name": "#%% md\n"
    }
   },
   "source": [
    "### Predicción de la data con el arbol de decisión sklearn"
   ]
  },
  {
   "cell_type": "code",
   "execution_count": 91,
   "metadata": {
    "pycharm": {
     "name": "#%%\n"
    }
   },
   "outputs": [
    {
     "name": "stdout",
     "output_type": "stream",
     "text": [
      "Real 0.0 => Predicción 0.0\n",
      "Real 0.0 => Predicción 0.0\n",
      "Real 1.0 => Predicción 1.0\n",
      "Real 1.0 => Predicción 1.0\n",
      "Real 0.0 => Predicción 0.0\n",
      "Real 0.0 => Predicción 0.0\n",
      "Real 0.0 => Predicción 0.0\n",
      "Real 0.0 => Predicción 0.0\n",
      "Real 0.0 => Predicción 0.0\n",
      "Real 1.0 => Predicción 1.0\n"
     ]
    }
   ],
   "source": [
    "y_respuesta = clf.predict(w_test_pred)\n",
    "for real, prd in zip(w_true_pred, y_respuesta):\n",
    "  print('Real {} => Predicción {}'.format(real, prd))"
   ]
  },
  {
   "cell_type": "markdown",
   "metadata": {
    "pycharm": {
     "name": "#%% md\n"
    }
   },
   "source": [
    "## Evaluación del árbol de decisión"
   ]
  },
  {
   "cell_type": "code",
   "execution_count": 92,
   "metadata": {
    "pycharm": {
     "name": "#%%\n"
    }
   },
   "outputs": [],
   "source": [
    "y_respuesta = clf.predict(w_test)"
   ]
  },
  {
   "cell_type": "code",
   "execution_count": 93,
   "metadata": {
    "pycharm": {
     "name": "#%%\n"
    }
   },
   "outputs": [
    {
     "name": "stdout",
     "output_type": "stream",
     "text": [
      "Precisión del árbol de decisión: 99.86699999999999%\n"
     ]
    }
   ],
   "source": [
    "acc = metrics.accuracy_score(w_true, y_respuesta, normalize=True, sample_weight=None)\n",
    "print('Precisión del árbol de decisión: {}%'.format(acc * 100))"
   ]
  },
  {
   "cell_type": "code",
   "execution_count": 94,
   "metadata": {
    "pycharm": {
     "name": "#%%\n"
    }
   },
   "outputs": [
    {
     "data": {
      "text/plain": "<AxesSubplot:>"
     },
     "execution_count": 94,
     "metadata": {},
     "output_type": "execute_result"
    },
    {
     "data": {
      "text/plain": "<Figure size 432x288 with 2 Axes>",
      "image/png": "[encoded data removed]"
     },
     "metadata": {
      "needs_background": "light"
     },
     "output_type": "display_data"
    }
   ],
   "source": [
    "cfm = metrics.confusion_matrix(w_true, y_respuesta)\n",
    "sns.heatmap(cfm, annot=True, cmap='Blues', fmt='g')"
   ]
  },
  {
   "cell_type": "markdown",
   "metadata": {
    "pycharm": {
     "name": "#%% md\n"
    }
   },
   "source": [
    "# Modelo Neuronal con Keras"
   ]
  },
  {
   "cell_type": "markdown",
   "metadata": {
    "pycharm": {
     "name": "#%% md\n"
    }
   },
   "source": [
    "### Variable para almacenar las puntuaciones"
   ]
  },
  {
   "cell_type": "code",
   "execution_count": 95,
   "metadata": {
    "pycharm": {
     "name": "#%%\n"
    }
   },
   "outputs": [],
   "source": [
    "modelScores = []"
   ]
  },
  {
   "cell_type": "markdown",
   "metadata": {
    "pycharm": {
     "name": "#%% md\n"
    }
   },
   "source": [
    "## Normalización de la data"
   ]
  },
  {
   "cell_type": "code",
   "execution_count": 96,
   "metadata": {
    "pycharm": {
     "name": "#%%\n"
    }
   },
   "outputs": [],
   "source": [
    "scaler = StandardScaler()\n",
    "dframeKeras.iloc[:,0:-1] = scaler.fit_transform(dframeKeras.iloc[:,0:-1].to_numpy())"
   ]
  },
  {
   "cell_type": "markdown",
   "metadata": {
    "pycharm": {
     "name": "#%% md\n"
    }
   },
   "source": [
    "## Separar la data en variables de entrenamiento y variables de prueba"
   ]
  },
  {
   "cell_type": "code",
   "execution_count": 97,
   "metadata": {
    "pycharm": {
     "name": "#%%\n"
    }
   },
   "outputs": [],
   "source": [
    "trainKeras, testKeras = train_test_split(dframeKeras, test_size=0.2)"
   ]
  },
  {
   "cell_type": "markdown",
   "metadata": {
    "pycharm": {
     "name": "#%% md\n"
    }
   },
   "source": [
    "## Definir data y target"
   ]
  },
  {
   "cell_type": "code",
   "execution_count": 98,
   "metadata": {
    "pycharm": {
     "name": "#%%\n"
    }
   },
   "outputs": [],
   "source": [
    "## para entrenar\n",
    "t_data = trainKeras[trainKeras.columns[0:7]]\n",
    "t_target = trainKeras[trainKeras.columns[7]]\n",
    "## para predicciones\n",
    "w_test_pred = testKeras[testKeras.columns[0:7]].iloc[10:20]\n",
    "w_true_pred = testKeras[testKeras.columns[7]].iloc[10:20]\n",
    "## para validar el accuracy\n",
    "w_test = testKeras[testKeras.columns[0:7]]\n",
    "w_true = testKeras[testKeras.columns[7]]"
   ]
  },
  {
   "cell_type": "markdown",
   "metadata": {
    "pycharm": {
     "name": "#%% md\n"
    }
   },
   "source": [
    "## Crear el modelo de la red neuronal"
   ]
  },
  {
   "cell_type": "code",
   "execution_count": 99,
   "metadata": {
    "pycharm": {
     "name": "#%%\n"
    }
   },
   "outputs": [],
   "source": [
    "def get_basic_model(learning_rate):\n",
    "  model = tf.keras.Sequential([\n",
    "    tf.keras.layers.Dense(10, activation='relu'),\n",
    "    tf.keras.layers.Dense(10, activation='relu'),\n",
    "    tf.keras.layers.Dense(1)\n",
    "  ])\n",
    "\n",
    "  model.compile(optimizer=tf.keras.optimizers.Adam(learning_rate),\n",
    "                loss=tf.keras.losses.BinaryCrossentropy(from_logits=True),\n",
    "                metrics=['accuracy'])\n",
    "  return model"
   ]
  },
  {
   "cell_type": "markdown",
   "metadata": {
    "pycharm": {
     "name": "#%% md\n"
    }
   },
   "source": [
    "## Entrenar el modelo 1 con aprendizaje 0.01"
   ]
  },
  {
   "cell_type": "code",
   "execution_count": 100,
   "metadata": {
    "pycharm": {
     "name": "#%%\n"
    }
   },
   "outputs": [
    {
     "name": "stdout",
     "output_type": "stream",
     "text": [
      "Epoch 1/5\n",
      "25000/25000 [==============================] - 14s 554us/step - loss: 0.0193 - accuracy: 0.9929\n",
      "Epoch 2/5\n",
      "25000/25000 [==============================] - 14s 550us/step - loss: 0.0126 - accuracy: 0.9953\n",
      "Epoch 3/5\n",
      "25000/25000 [==============================] - 15s 588us/step - loss: 0.0115 - accuracy: 0.9959\n",
      "Epoch 4/5\n",
      "25000/25000 [==============================] - 16s 631us/step - loss: 0.0103 - accuracy: 0.9962\n",
      "Epoch 5/5\n",
      "25000/25000 [==============================] - 16s 642us/step - loss: 0.0094 - accuracy: 0.9966\n"
     ]
    }
   ],
   "source": [
    "model = get_basic_model(0.01)\n",
    "historial = model.fit(t_data, t_target, epochs=5, verbose=True)"
   ]
  },
  {
   "cell_type": "markdown",
   "metadata": {
    "pycharm": {
     "name": "#%% md\n"
    }
   },
   "source": [
    "## Graficar la pérdida y la precisión del modelo 1"
   ]
  },
  {
   "cell_type": "code",
   "execution_count": 101,
   "metadata": {
    "pycharm": {
     "name": "#%%\n"
    }
   },
   "outputs": [
    {
     "data": {
      "text/plain": "<Figure size 432x288 with 2 Axes>",
      "image/png": "[encoded data removed]"
     },
     "metadata": {
      "needs_background": "light"
     },
     "output_type": "display_data"
    }
   ],
   "source": [
    "fig, (ax1, ax2) = plt.subplots(1, 2)\n",
    "fig.suptitle('Modelo Keras 0.01')\n",
    "ax1.set_title('Pérdida')\n",
    "ax1.plot(historial.history['loss'])\n",
    "ax2.set_title('Precisión')\n",
    "ax2.plot(historial.history['accuracy'])\n",
    "plt.show()"
   ]
  },
  {
   "cell_type": "markdown",
   "metadata": {
    "pycharm": {
     "name": "#%% md\n"
    }
   },
   "source": [
    "## Predicción de la data con el modelo 1"
   ]
  },
  {
   "cell_type": "code",
   "execution_count": 102,
   "metadata": {
    "pycharm": {
     "name": "#%%\n"
    }
   },
   "outputs": [
    {
     "name": "stdout",
     "output_type": "stream",
     "text": [
      "1/1 [==============================] - 0s 69ms/step\n",
      "Real 0.0 => Predicción [-6.361655]\n",
      "Real 0.0 => Predicción [-72.06967]\n",
      "Real 0.0 => Predicción [-103.22284]\n",
      "Real 0.0 => Predicción [-25.29798]\n",
      "Real 1.0 => Predicción [5.9188075]\n",
      "Real 0.0 => Predicción [-15.28357]\n",
      "Real 0.0 => Predicción [-13.247763]\n",
      "Real 0.0 => Predicción [-17.018051]\n",
      "Real 0.0 => Predicción [-25.468636]\n",
      "Real 0.0 => Predicción [-17.71001]\n"
     ]
    }
   ],
   "source": [
    "pred = model.predict(w_test_pred)\n",
    "for real, prd in zip(w_true_pred, pred):\n",
    "  print('Real {} => Predicción {}'.format(real, prd))"
   ]
  },
  {
   "cell_type": "markdown",
   "metadata": {
    "pycharm": {
     "name": "#%% md\n"
    }
   },
   "source": [
    "## Agregar los datos de precisión y pérdida al historial"
   ]
  },
  {
   "cell_type": "code",
   "execution_count": 103,
   "metadata": {
    "pycharm": {
     "name": "#%%\n"
    }
   },
   "outputs": [
    {
     "name": "stdout",
     "output_type": "stream",
     "text": [
      "6250/6250 [==============================] - 3s 531us/step - loss: 0.0099 - accuracy: 0.9968\n"
     ]
    }
   ],
   "source": [
    "modelScores.append(model.evaluate(w_test, w_true))"
   ]
  },
  {
   "cell_type": "markdown",
   "metadata": {
    "pycharm": {
     "name": "#%% md\n"
    }
   },
   "source": [
    "## Entrenar el modelo 2 con aprendizaje 0.1"
   ]
  },
  {
   "cell_type": "code",
   "execution_count": 104,
   "metadata": {
    "pycharm": {
     "name": "#%%\n"
    }
   },
   "outputs": [
    {
     "name": "stdout",
     "output_type": "stream",
     "text": [
      "Epoch 1/5\n",
      "25000/25000 [==============================] - 16s 615us/step - loss: 0.0742 - accuracy: 0.9731\n",
      "Epoch 2/5\n",
      "25000/25000 [==============================] - 15s 613us/step - loss: 0.0974 - accuracy: 0.9559\n",
      "Epoch 3/5\n",
      "25000/25000 [==============================] - 15s 617us/step - loss: 0.0993 - accuracy: 0.9473\n",
      "Epoch 4/5\n",
      "25000/25000 [==============================] - 16s 620us/step - loss: 0.0938 - accuracy: 0.9585\n",
      "Epoch 5/5\n",
      "25000/25000 [==============================] - 16s 652us/step - loss: 0.0852 - accuracy: 0.9666\n"
     ]
    }
   ],
   "source": [
    "model = get_basic_model(0.1)\n",
    "historial = model.fit(t_data, t_target, epochs=5, verbose=True)"
   ]
  },
  {
   "cell_type": "markdown",
   "metadata": {
    "pycharm": {
     "name": "#%% md\n"
    }
   },
   "source": [
    "## Graficar la pérdida y la precisión del modelo 2"
   ]
  },
  {
   "cell_type": "code",
   "execution_count": 105,
   "metadata": {
    "pycharm": {
     "name": "#%%\n"
    }
   },
   "outputs": [
    {
     "data": {
      "text/plain": "<Figure size 432x288 with 2 Axes>",
      "image/png": "[encoded data removed]"
     },
     "metadata": {
      "needs_background": "light"
     },
     "output_type": "display_data"
    }
   ],
   "source": [
    "fig, (ax1, ax2) = plt.subplots(1, 2)\n",
    "fig.suptitle('Modelo Keras 0.1')\n",
    "ax1.set_title('Pérdida')\n",
    "ax1.plot(historial.history['loss'])\n",
    "ax2.set_title('Precisión')\n",
    "ax2.plot(historial.history['accuracy'])\n",
    "plt.show()"
   ]
  },
  {
   "cell_type": "markdown",
   "metadata": {
    "pycharm": {
     "name": "#%% md\n"
    }
   },
   "source": [
    "## Predicción de la data con el modelo 2"
   ]
  },
  {
   "cell_type": "code",
   "execution_count": 106,
   "metadata": {
    "pycharm": {
     "name": "#%%\n"
    }
   },
   "outputs": [
    {
     "name": "stdout",
     "output_type": "stream",
     "text": [
      "1/1 [==============================] - 0s 40ms/step\n",
      "Real 0.0 => Predicción [-39.937687]\n",
      "Real 0.0 => Predicción [-53.903164]\n",
      "Real 0.0 => Predicción [-327.6334]\n",
      "Real 0.0 => Predicción [-112.074615]\n",
      "Real 1.0 => Predicción [1.2532613]\n",
      "Real 0.0 => Predicción [-25.223377]\n",
      "Real 0.0 => Predicción [-343.33286]\n",
      "Real 0.0 => Predicción [-33.726357]\n",
      "Real 0.0 => Predicción [-135.67085]\n",
      "Real 0.0 => Predicción [-38.50528]\n"
     ]
    }
   ],
   "source": [
    "pred = model.predict(w_test_pred)\n",
    "for real, prd in zip(w_true_pred, pred):\n",
    "  print('Real {} => Predicción {}'.format(real, prd))"
   ]
  },
  {
   "cell_type": "markdown",
   "metadata": {
    "pycharm": {
     "name": "#%% md\n"
    }
   },
   "source": [
    "## Agregar los datos de precisión y pérdida al historial"
   ]
  },
  {
   "cell_type": "code",
   "execution_count": 107,
   "metadata": {
    "pycharm": {
     "name": "#%%\n"
    }
   },
   "outputs": [
    {
     "name": "stdout",
     "output_type": "stream",
     "text": [
      "6250/6250 [==============================] - 3s 528us/step - loss: 0.0594 - accuracy: 0.9766\n"
     ]
    }
   ],
   "source": [
    "modelScores.append(model.evaluate(w_test, w_true))"
   ]
  },
  {
   "cell_type": "markdown",
   "metadata": {
    "pycharm": {
     "name": "#%% md\n"
    }
   },
   "source": [
    "## Entrenar el modelo 3 con aprendizaje 0.5"
   ]
  },
  {
   "cell_type": "code",
   "execution_count": 108,
   "metadata": {
    "pycharm": {
     "name": "#%%\n"
    }
   },
   "outputs": [
    {
     "name": "stdout",
     "output_type": "stream",
     "text": [
      "Epoch 1/5\n",
      "25000/25000 [==============================] - 16s 628us/step - loss: 0.3056 - accuracy: 0.9124\n",
      "Epoch 2/5\n",
      "25000/25000 [==============================] - 15s 618us/step - loss: 0.3024 - accuracy: 0.9125\n",
      "Epoch 3/5\n",
      "25000/25000 [==============================] - 15s 614us/step - loss: 0.3022 - accuracy: 0.9125\n",
      "Epoch 4/5\n",
      "25000/25000 [==============================] - 16s 640us/step - loss: 0.3023 - accuracy: 0.9125\n",
      "Epoch 5/5\n",
      "25000/25000 [==============================] - 16s 623us/step - loss: 0.3024 - accuracy: 0.9125\n"
     ]
    }
   ],
   "source": [
    "model = get_basic_model(0.5)\n",
    "historial = model.fit(t_data, t_target, epochs=5, verbose=True)"
   ]
  },
  {
   "cell_type": "markdown",
   "metadata": {
    "pycharm": {
     "name": "#%% md\n"
    }
   },
   "source": [
    "## Graficar la pérdida y la precisión del modelo 3"
   ]
  },
  {
   "cell_type": "code",
   "execution_count": 109,
   "metadata": {
    "pycharm": {
     "name": "#%%\n"
    }
   },
   "outputs": [
    {
     "data": {
      "text/plain": "<Figure size 432x288 with 2 Axes>",
      "image/png": "[encoded data removed]"
     },
     "metadata": {
      "needs_background": "light"
     },
     "output_type": "display_data"
    }
   ],
   "source": [
    "fig, (ax1, ax2) = plt.subplots(1, 2)\n",
    "fig.suptitle('Modelo Keras 0.5')\n",
    "ax1.set_title('Pérdida')\n",
    "ax1.plot(historial.history['loss'])\n",
    "ax2.set_title('Precisión')\n",
    "ax2.plot(historial.history['accuracy'])\n",
    "plt.show()"
   ]
  },
  {
   "cell_type": "markdown",
   "metadata": {
    "pycharm": {
     "name": "#%% md\n"
    }
   },
   "source": [
    "## Predicción de la data con el modelo 3"
   ]
  },
  {
   "cell_type": "code",
   "execution_count": 110,
   "metadata": {
    "pycharm": {
     "name": "#%%\n"
    }
   },
   "outputs": [
    {
     "name": "stdout",
     "output_type": "stream",
     "text": [
      "1/1 [==============================] - 0s 45ms/step\n",
      "Real 0.0 => Predicción [-2.8032768]\n",
      "Real 0.0 => Predicción [-2.8032768]\n",
      "Real 0.0 => Predicción [-2.8032768]\n",
      "Real 0.0 => Predicción [-2.8032768]\n",
      "Real 1.0 => Predicción [-2.8032768]\n",
      "Real 0.0 => Predicción [-2.8032768]\n",
      "Real 0.0 => Predicción [-2.8032768]\n",
      "Real 0.0 => Predicción [-2.8032768]\n",
      "Real 0.0 => Predicción [-2.8032768]\n",
      "Real 0.0 => Predicción [-2.8032768]\n"
     ]
    }
   ],
   "source": [
    "pred = model.predict(w_test_pred)\n",
    "for real, prd in zip(w_true_pred, pred):\n",
    "  print('Real {} => Predicción {}'.format(real, prd))"
   ]
  },
  {
   "cell_type": "markdown",
   "metadata": {
    "pycharm": {
     "name": "#%% md\n"
    }
   },
   "source": [
    "## Agregar los datos de precisión y pérdida al historial"
   ]
  },
  {
   "cell_type": "code",
   "execution_count": 111,
   "metadata": {
    "pycharm": {
     "name": "#%%\n"
    }
   },
   "outputs": [
    {
     "name": "stdout",
     "output_type": "stream",
     "text": [
      "6250/6250 [==============================] - 3s 520us/step - loss: 0.3024 - accuracy: 0.9131\n"
     ]
    }
   ],
   "source": [
    "modelScores.append(model.evaluate(w_test, w_true))"
   ]
  },
  {
   "cell_type": "markdown",
   "metadata": {
    "pycharm": {
     "name": "#%% md\n"
    }
   },
   "source": [
    "## Cambiar topología de la red neuronal\n",
    "> Como tuvimos buenos resultado con el aprendizaje 0.01, procedemos a cambiar la topología de la red neuronal manteniendo este ritmo."
   ]
  },
  {
   "cell_type": "markdown",
   "metadata": {
    "pycharm": {
     "name": "#%% md\n"
    }
   },
   "source": [
    "## Funciones para armar los modelos"
   ]
  },
  {
   "cell_type": "markdown",
   "metadata": {
    "pycharm": {
     "name": "#%% md\n"
    }
   },
   "source": [
    "## Modelo 4\n",
    "### Se cambia:\n",
    "- Número de neuronas en la capa oculta\n",
    "- Nueva capa oculta\n",
    "- Distinto optimizador"
   ]
  },
  {
   "cell_type": "code",
   "execution_count": 112,
   "metadata": {
    "pycharm": {
     "name": "#%%\n"
    }
   },
   "outputs": [],
   "source": [
    "def get_model_RMSprop(learning_rate):\n",
    "  model = tf.keras.Sequential([\n",
    "    tf.keras.layers.Dense(24, activation='relu'),\n",
    "    tf.keras.layers.Dense(12, activation='relu'),\n",
    "    tf.keras.layers.Dense(6, activation='relu'),\n",
    "    tf.keras.layers.Dense(1)\n",
    "  ])\n",
    "## Cambiamos el optimizador a RMSprop\n",
    "  model.compile(optimizer=tf.keras.optimizers.RMSprop(learning_rate),\n",
    "                loss=tf.keras.losses.BinaryCrossentropy(from_logits=True),\n",
    "                metrics=['accuracy'])\n",
    "  return model"
   ]
  },
  {
   "cell_type": "markdown",
   "metadata": {
    "pycharm": {
     "name": "#%% md\n"
    }
   },
   "source": [
    "## Modelo 5\n",
    "### Se cambia:\n",
    "- Mismo número de neuronas y capas del modelo anterior\n",
    "- Distinto optimizador"
   ]
  },
  {
   "cell_type": "code",
   "execution_count": 113,
   "metadata": {
    "pycharm": {
     "name": "#%%\n"
    }
   },
   "outputs": [],
   "source": [
    "def get_model_SGD(learning_rate):\n",
    "  model = tf.keras.Sequential([\n",
    "    tf.keras.layers.Dense(24, activation='relu'),\n",
    "    tf.keras.layers.Dense(12, activation='relu'),\n",
    "    tf.keras.layers.Dense(6, activation='relu'),\n",
    "    tf.keras.layers.Dense(1)\n",
    "  ])\n",
    "\n",
    "  model.compile(optimizer=tf.keras.optimizers.SGD(learning_rate),\n",
    "                loss=tf.keras.losses.BinaryCrossentropy(from_logits=True),\n",
    "                metrics=['accuracy'])\n",
    "  return model"
   ]
  },
  {
   "cell_type": "markdown",
   "metadata": {
    "pycharm": {
     "name": "#%% md\n"
    }
   },
   "source": [
    "## Modelo con topología nueva (SGD) con aprendizaje 0.01"
   ]
  },
  {
   "cell_type": "code",
   "execution_count": 114,
   "metadata": {
    "pycharm": {
     "name": "#%%\n"
    }
   },
   "outputs": [
    {
     "name": "stdout",
     "output_type": "stream",
     "text": [
      "Epoch 1/5\n",
      "25000/25000 [==============================] - 18s 704us/step - loss: 0.0485 - accuracy: 0.9812\n",
      "Epoch 2/5\n",
      "25000/25000 [==============================] - 15s 599us/step - loss: 0.0157 - accuracy: 0.9944\n",
      "Epoch 3/5\n",
      "25000/25000 [==============================] - 15s 598us/step - loss: 0.0099 - accuracy: 0.9964\n",
      "Epoch 4/5\n",
      "25000/25000 [==============================] - 16s 635us/step - loss: 0.0096 - accuracy: 0.9966\n",
      "Epoch 5/5\n",
      "25000/25000 [==============================] - 15s 596us/step - loss: 0.0081 - accuracy: 0.9969\n"
     ]
    }
   ],
   "source": [
    "model = get_model_SGD(0.01)\n",
    "historial = model.fit(t_data, t_target, epochs=5, verbose=True)"
   ]
  },
  {
   "cell_type": "markdown",
   "metadata": {
    "pycharm": {
     "name": "#%% md\n"
    }
   },
   "source": [
    "## Graficar la pérdida y la precisión"
   ]
  },
  {
   "cell_type": "code",
   "execution_count": 115,
   "metadata": {
    "pycharm": {
     "name": "#%%\n"
    }
   },
   "outputs": [
    {
     "data": {
      "text/plain": "<Figure size 432x288 with 2 Axes>",
      "image/png": "[encoded data removed]"
     },
     "metadata": {
      "needs_background": "light"
     },
     "output_type": "display_data"
    }
   ],
   "source": [
    "fig, (ax1, ax2) = plt.subplots(1, 2)\n",
    "fig.suptitle('Modelo Keras SGD 0.01')\n",
    "ax1.set_title('Pérdida')\n",
    "ax1.plot(historial.history['loss'])\n",
    "ax2.set_title('Precisión')\n",
    "ax2.plot(historial.history['accuracy'])\n",
    "plt.show()"
   ]
  },
  {
   "cell_type": "markdown",
   "metadata": {
    "pycharm": {
     "name": "#%% md\n"
    }
   },
   "source": [
    "## Predicción de la data con el modelo 4"
   ]
  },
  {
   "cell_type": "code",
   "execution_count": 116,
   "metadata": {
    "pycharm": {
     "name": "#%%\n"
    }
   },
   "outputs": [
    {
     "name": "stdout",
     "output_type": "stream",
     "text": [
      "1/1 [==============================] - 0s 51ms/step\n",
      "Real 0.0 => Predicción [-16.157045]\n",
      "Real 0.0 => Predicción [-16.618711]\n",
      "Real 0.0 => Predicción [-29.813889]\n",
      "Real 0.0 => Predicción [-26.708578]\n",
      "Real 1.0 => Predicción [14.00694]\n",
      "Real 0.0 => Predicción [-18.692554]\n",
      "Real 0.0 => Predicción [-21.439919]\n",
      "Real 0.0 => Predicción [-20.588305]\n",
      "Real 0.0 => Predicción [-29.91165]\n",
      "Real 0.0 => Predicción [-21.462652]\n"
     ]
    }
   ],
   "source": [
    "pred = model.predict(w_test_pred)\n",
    "for real, prd in zip(w_true_pred, pred):\n",
    "  print('Real {} => Predicción {}'.format(real, prd))"
   ]
  },
  {
   "cell_type": "markdown",
   "metadata": {
    "pycharm": {
     "name": "#%% md\n"
    }
   },
   "source": [
    "## Agregar los datos de precisión y pérdida al historial"
   ]
  },
  {
   "cell_type": "code",
   "execution_count": 117,
   "metadata": {
    "pycharm": {
     "name": "#%%\n"
    }
   },
   "outputs": [
    {
     "name": "stdout",
     "output_type": "stream",
     "text": [
      "6250/6250 [==============================] - 4s 561us/step - loss: 0.0076 - accuracy: 0.9974\n"
     ]
    }
   ],
   "source": [
    "modelScores.append(model.evaluate(w_test, w_true))"
   ]
  },
  {
   "cell_type": "markdown",
   "metadata": {
    "pycharm": {
     "name": "#%% md\n"
    }
   },
   "source": [
    "# Modelo con topología nueva (RMSprop) con aprendizaje 0.01"
   ]
  },
  {
   "cell_type": "code",
   "execution_count": 118,
   "metadata": {
    "pycharm": {
     "name": "#%%\n"
    }
   },
   "outputs": [
    {
     "name": "stdout",
     "output_type": "stream",
     "text": [
      "Epoch 1/5\n",
      "25000/25000 [==============================] - 17s 644us/step - loss: 0.0293 - accuracy: 0.9917\n",
      "Epoch 2/5\n",
      "25000/25000 [==============================] - 16s 658us/step - loss: 0.0248 - accuracy: 0.9945\n",
      "Epoch 3/5\n",
      "25000/25000 [==============================] - 16s 651us/step - loss: 0.0240 - accuracy: 0.9952\n",
      "Epoch 4/5\n",
      "25000/25000 [==============================] - 16s 643us/step - loss: 0.0432 - accuracy: 0.9942\n",
      "Epoch 5/5\n",
      "25000/25000 [==============================] - 16s 648us/step - loss: 0.0788 - accuracy: 0.9938\n"
     ]
    }
   ],
   "source": [
    "model = get_model_RMSprop(0.01)\n",
    "historial = model.fit(t_data, t_target, epochs=5, verbose=True)"
   ]
  },
  {
   "cell_type": "markdown",
   "metadata": {
    "pycharm": {
     "name": "#%% md\n"
    }
   },
   "source": [
    "## Graficar la pérdida y la precisión"
   ]
  },
  {
   "cell_type": "code",
   "execution_count": 119,
   "metadata": {
    "pycharm": {
     "name": "#%%\n"
    }
   },
   "outputs": [
    {
     "data": {
      "text/plain": "<Figure size 432x288 with 2 Axes>",
      "image/png": "[encoded data removed]"
     },
     "metadata": {
      "needs_background": "light"
     },
     "output_type": "display_data"
    }
   ],
   "source": [
    "fig, (ax1, ax2) = plt.subplots(1, 2)\n",
    "fig.suptitle('Modelo Keras RMSprop 0.01')\n",
    "ax1.set_title('Pérdida')\n",
    "ax1.plot(historial.history['loss'])\n",
    "ax2.set_title('Precisión')\n",
    "ax2.plot(historial.history['accuracy'])\n",
    "plt.show()"
   ]
  },
  {
   "cell_type": "markdown",
   "metadata": {
    "pycharm": {
     "name": "#%% md\n"
    }
   },
   "source": [
    "## Predicción de la data con el modelo 5"
   ]
  },
  {
   "cell_type": "code",
   "execution_count": 120,
   "metadata": {
    "pycharm": {
     "name": "#%%\n"
    }
   },
   "outputs": [
    {
     "name": "stdout",
     "output_type": "stream",
     "text": [
      "WARNING:tensorflow:5 out of the last 5 calls to <function Model.make_predict_function.<locals>.predict_function at 0x0000020892ABCD30> triggered tf.function retracing. Tracing is expensive and the excessive number of tracings could be due to (1) creating @tf.function repeatedly in a loop, (2) passing tensors with different shapes, (3) passing Python objects instead of tensors. For (1), please define your @tf.function outside of the loop. For (2), @tf.function has reduce_retracing=True option that can avoid unnecessary retracing. For (3), please refer to https://www.tensorflow.org/guide/function#controlling_retracing and https://www.tensorflow.org/api_docs/python/tf/function for  more details.\n",
      "1/1 [==============================] - 0s 58ms/step\n",
      "Real 0.0 => Predicción [-23.135302]\n",
      "Real 0.0 => Predicción [-2.9521632]\n",
      "Real 0.0 => Predicción [-12.51703]\n",
      "Real 0.0 => Predicción [-52.757]\n",
      "Real 1.0 => Predicción [26.98114]\n",
      "Real 0.0 => Predicción [-36.96496]\n",
      "Real 0.0 => Predicción [-67.693436]\n",
      "Real 0.0 => Predicción [-40.97955]\n",
      "Real 0.0 => Predicción [-48.527355]\n",
      "Real 0.0 => Predicción [-42.237404]\n"
     ]
    }
   ],
   "source": [
    "pred = model.predict(w_test_pred)\n",
    "for real, prd in zip(w_true_pred, pred):\n",
    "  print('Real {} => Predicción {}'.format(real, prd))"
   ]
  },
  {
   "cell_type": "markdown",
   "metadata": {
    "pycharm": {
     "name": "#%% md\n"
    }
   },
   "source": [
    "## Agregar los datos de precisión y pérdida al historial"
   ]
  },
  {
   "cell_type": "code",
   "execution_count": 121,
   "metadata": {
    "pycharm": {
     "name": "#%%\n"
    }
   },
   "outputs": [
    {
     "name": "stdout",
     "output_type": "stream",
     "text": [
      "6250/6250 [==============================] - 3s 542us/step - loss: 0.0341 - accuracy: 0.9953\n"
     ]
    }
   ],
   "source": [
    "modelScores.append(model.evaluate(w_test, w_true))"
   ]
  },
  {
   "cell_type": "markdown",
   "metadata": {
    "pycharm": {
     "name": "#%% md\n"
    }
   },
   "source": [
    "## Comparar los modelos con el accuracy"
   ]
  },
  {
   "cell_type": "code",
   "execution_count": 122,
   "metadata": {
    "pycharm": {
     "name": "#%%\n"
    }
   },
   "outputs": [
    {
     "name": "stdout",
     "output_type": "stream",
     "text": [
      "Precisión: 0.9968349933624268  Pérdida: 0.00986312236636877\n",
      "Precisión: 0.9765899777412415  Pérdida: 0.059395987540483475\n",
      "Precisión: 0.9131150245666504  Pérdida: 0.30240947008132935\n",
      "Precisión: 0.9973599910736084  Pérdida: 0.0075990986078977585\n",
      "Precisión: 0.995265007019043  Pérdida: 0.034110184758901596\n"
     ]
    }
   ],
   "source": [
    "for score in modelScores:\n",
    "  print('Precisión: {}  Pérdida: {}'.format(score[1], score[0]))"
   ]
  }
 ],
 "metadata": {
  "kernelspec": {
   "display_name": "Python 3 (ipykernel)",
   "language": "python",
   "name": "python3"
  },
  "language_info": {
   "codemirror_mode": {
    "name": "ipython",
    "version": 3
   },
   "file_extension": ".py",
   "mimetype": "text/x-python",
   "name": "python",
   "nbconvert_exporter": "python",
   "pygments_lexer": "ipython3",
   "version": "3.10.4"
  }
 },
 "nbformat": 4,
 "nbformat_minor": 4
}