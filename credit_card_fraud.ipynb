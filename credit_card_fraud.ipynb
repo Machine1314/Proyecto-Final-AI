{
 "cells": [
  {
   "cell_type": "markdown",
   "source": [
    "# Grupo 3\n",
    "### Bruno Dueñas, Fernando Mejía, Mateo Córdova"
   ],
   "metadata": {
    "collapsed": false,
    "pycharm": {
     "name": "#%% md\n"
    }
   }
  },
  {
   "cell_type": "markdown",
   "source": [
    "## Import de librerías"
   ],
   "metadata": {
    "collapsed": false,
    "pycharm": {
     "name": "#%% md\n"
    }
   }
  },
  {
   "cell_type": "code",
   "execution_count": 2,
   "outputs": [],
   "source": [
    "#Libraries used are Pandas,Numpy,Matplotlib,Scikit-learn\n",
    "import pandas as pd\n",
    "import numpy as np\n",
    "import matplotlib.pyplot as plt\n",
    "%matplotlib inline\n",
    "import seaborn as sns\n",
    "# Machine Learning\n",
    "from sklearn.feature_selection import SelectKBest\n",
    "from sklearn.feature_selection import f_classif\n",
    "from sklearn.metrics import accuracy_score\n",
    "from sklearn.metrics import confusion_matrix\n",
    "from sklearn.metrics import precision_recall_curve,roc_curve,roc_auc_score\n",
    "from sklearn.metrics import auc\n",
    "from sklearn.model_selection import  train_test_split\n",
    "from sklearn.linear_model import LogisticRegression\n",
    "from sklearn.tree import DecisionTreeClassifier\n",
    "from sklearn import metrics\n",
    "from sklearn import linear_model,preprocessing\n",
    "from sklearn import tree\n",
    "from sklearn import svm\n",
    "from sklearn.naive_bayes import GaussianNB\n",
    "from sklearn.ensemble import RandomForestClassifier\n",
    "from prettytable import PrettyTable"
   ],
   "metadata": {
    "collapsed": false,
    "pycharm": {
     "name": "#%%\n"
    }
   }
  },
  {
   "cell_type": "code",
   "execution_count": 5,
   "outputs": [
    {
     "data": {
      "text/plain": "   distance_from_home  distance_from_last_transaction  \\\n0           57.877857                        0.311140   \n1           10.829943                        0.175592   \n2            5.091079                        0.805153   \n3            2.247564                        5.600044   \n4           44.190936                        0.566486   \n\n   ratio_to_median_purchase_price  repeat_retailer  used_chip  \\\n0                        1.945940              1.0        1.0   \n1                        1.294219              1.0        0.0   \n2                        0.427715              1.0        0.0   \n3                        0.362663              1.0        1.0   \n4                        2.222767              1.0        1.0   \n\n   used_pin_number  online_order  fraud  \n0              0.0           0.0    0.0  \n1              0.0           0.0    0.0  \n2              0.0           1.0    0.0  \n3              0.0           1.0    0.0  \n4              0.0           1.0    0.0  ",
      "text/html": "<div>\n<style scoped>\n    .dataframe tbody tr th:only-of-type {\n        vertical-align: middle;\n    }\n\n    .dataframe tbody tr th {\n        vertical-align: top;\n    }\n\n    .dataframe thead th {\n        text-align: right;\n    }\n</style>\n<table border=\"1\" class=\"dataframe\">\n  <thead>\n    <tr style=\"text-align: right;\">\n      <th></th>\n      <th>distance_from_home</th>\n      <th>distance_from_last_transaction</th>\n      <th>ratio_to_median_purchase_price</th>\n      <th>repeat_retailer</th>\n      <th>used_chip</th>\n      <th>used_pin_number</th>\n      <th>online_order</th>\n      <th>fraud</th>\n    </tr>\n  </thead>\n  <tbody>\n    <tr>\n      <th>0</th>\n      <td>57.877857</td>\n      <td>0.311140</td>\n      <td>1.945940</td>\n      <td>1.0</td>\n      <td>1.0</td>\n      <td>0.0</td>\n      <td>0.0</td>\n      <td>0.0</td>\n    </tr>\n    <tr>\n      <th>1</th>\n      <td>10.829943</td>\n      <td>0.175592</td>\n      <td>1.294219</td>\n      <td>1.0</td>\n      <td>0.0</td>\n      <td>0.0</td>\n      <td>0.0</td>\n      <td>0.0</td>\n    </tr>\n    <tr>\n      <th>2</th>\n      <td>5.091079</td>\n      <td>0.805153</td>\n      <td>0.427715</td>\n      <td>1.0</td>\n      <td>0.0</td>\n      <td>0.0</td>\n      <td>1.0</td>\n      <td>0.0</td>\n    </tr>\n    <tr>\n      <th>3</th>\n      <td>2.247564</td>\n      <td>5.600044</td>\n      <td>0.362663</td>\n      <td>1.0</td>\n      <td>1.0</td>\n      <td>0.0</td>\n      <td>1.0</td>\n      <td>0.0</td>\n    </tr>\n    <tr>\n      <th>4</th>\n      <td>44.190936</td>\n      <td>0.566486</td>\n      <td>2.222767</td>\n      <td>1.0</td>\n      <td>1.0</td>\n      <td>0.0</td>\n      <td>1.0</td>\n      <td>0.0</td>\n    </tr>\n  </tbody>\n</table>\n</div>"
     },
     "execution_count": 5,
     "metadata": {},
     "output_type": "execute_result"
    }
   ],
   "source": [
    "dframe=pd.read_csv(\"data/card_transdata.csv\")\n",
    "dframe.head()"
   ],
   "metadata": {
    "collapsed": false,
    "pycharm": {
     "name": "#%%\n"
    }
   }
  },
  {
   "cell_type": "markdown",
   "source": [
    "## Estadísticas de los datos"
   ],
   "metadata": {
    "collapsed": false,
    "pycharm": {
     "name": "#%% md\n"
    }
   }
  },
  {
   "cell_type": "code",
   "execution_count": 6,
   "outputs": [
    {
     "data": {
      "text/plain": "       distance_from_home  distance_from_last_transaction  \\\ncount      1000000.000000                  1000000.000000   \nmean            26.628792                        5.036519   \nstd             65.390784                       25.843093   \nmin              0.004874                        0.000118   \n25%              3.878008                        0.296671   \n50%              9.967760                        0.998650   \n75%             25.743985                        3.355748   \nmax          10632.723672                    11851.104565   \n\n       ratio_to_median_purchase_price  repeat_retailer       used_chip  \\\ncount                  1000000.000000   1000000.000000  1000000.000000   \nmean                         1.824182         0.881536        0.350399   \nstd                          2.799589         0.323157        0.477095   \nmin                          0.004399         0.000000        0.000000   \n25%                          0.475673         1.000000        0.000000   \n50%                          0.997717         1.000000        0.000000   \n75%                          2.096370         1.000000        1.000000   \nmax                        267.802942         1.000000        1.000000   \n\n       used_pin_number    online_order           fraud  \ncount   1000000.000000  1000000.000000  1000000.000000  \nmean          0.100608        0.650552        0.087403  \nstd           0.300809        0.476796        0.282425  \nmin           0.000000        0.000000        0.000000  \n25%           0.000000        0.000000        0.000000  \n50%           0.000000        1.000000        0.000000  \n75%           0.000000        1.000000        0.000000  \nmax           1.000000        1.000000        1.000000  ",
      "text/html": "<div>\n<style scoped>\n    .dataframe tbody tr th:only-of-type {\n        vertical-align: middle;\n    }\n\n    .dataframe tbody tr th {\n        vertical-align: top;\n    }\n\n    .dataframe thead th {\n        text-align: right;\n    }\n</style>\n<table border=\"1\" class=\"dataframe\">\n  <thead>\n    <tr style=\"text-align: right;\">\n      <th></th>\n      <th>distance_from_home</th>\n      <th>distance_from_last_transaction</th>\n      <th>ratio_to_median_purchase_price</th>\n      <th>repeat_retailer</th>\n      <th>used_chip</th>\n      <th>used_pin_number</th>\n      <th>online_order</th>\n      <th>fraud</th>\n    </tr>\n  </thead>\n  <tbody>\n    <tr>\n      <th>count</th>\n      <td>1000000.000000</td>\n      <td>1000000.000000</td>\n      <td>1000000.000000</td>\n      <td>1000000.000000</td>\n      <td>1000000.000000</td>\n      <td>1000000.000000</td>\n      <td>1000000.000000</td>\n      <td>1000000.000000</td>\n    </tr>\n    <tr>\n      <th>mean</th>\n      <td>26.628792</td>\n      <td>5.036519</td>\n      <td>1.824182</td>\n      <td>0.881536</td>\n      <td>0.350399</td>\n      <td>0.100608</td>\n      <td>0.650552</td>\n      <td>0.087403</td>\n    </tr>\n    <tr>\n      <th>std</th>\n      <td>65.390784</td>\n      <td>25.843093</td>\n      <td>2.799589</td>\n      <td>0.323157</td>\n      <td>0.477095</td>\n      <td>0.300809</td>\n      <td>0.476796</td>\n      <td>0.282425</td>\n    </tr>\n    <tr>\n      <th>min</th>\n      <td>0.004874</td>\n      <td>0.000118</td>\n      <td>0.004399</td>\n      <td>0.000000</td>\n      <td>0.000000</td>\n      <td>0.000000</td>\n      <td>0.000000</td>\n      <td>0.000000</td>\n    </tr>\n    <tr>\n      <th>25%</th>\n      <td>3.878008</td>\n      <td>0.296671</td>\n      <td>0.475673</td>\n      <td>1.000000</td>\n      <td>0.000000</td>\n      <td>0.000000</td>\n      <td>0.000000</td>\n      <td>0.000000</td>\n    </tr>\n    <tr>\n      <th>50%</th>\n      <td>9.967760</td>\n      <td>0.998650</td>\n      <td>0.997717</td>\n      <td>1.000000</td>\n      <td>0.000000</td>\n      <td>0.000000</td>\n      <td>1.000000</td>\n      <td>0.000000</td>\n    </tr>\n    <tr>\n      <th>75%</th>\n      <td>25.743985</td>\n      <td>3.355748</td>\n      <td>2.096370</td>\n      <td>1.000000</td>\n      <td>1.000000</td>\n      <td>0.000000</td>\n      <td>1.000000</td>\n      <td>0.000000</td>\n    </tr>\n    <tr>\n      <th>max</th>\n      <td>10632.723672</td>\n      <td>11851.104565</td>\n      <td>267.802942</td>\n      <td>1.000000</td>\n      <td>1.000000</td>\n      <td>1.000000</td>\n      <td>1.000000</td>\n      <td>1.000000</td>\n    </tr>\n  </tbody>\n</table>\n</div>"
     },
     "execution_count": 6,
     "metadata": {},
     "output_type": "execute_result"
    }
   ],
   "source": [
    "dframe.describe()"
   ],
   "metadata": {
    "collapsed": false,
    "pycharm": {
     "name": "#%%\n"
    }
   }
  }
 ],
 "metadata": {
  "kernelspec": {
   "display_name": "Python 3",
   "language": "python",
   "name": "python3"
  },
  "language_info": {
   "codemirror_mode": {
    "name": "ipython",
    "version": 2
   },
   "file_extension": ".py",
   "mimetype": "text/x-python",
   "name": "python",
   "nbconvert_exporter": "python",
   "pygments_lexer": "ipython2",
   "version": "2.7.6"
  }
 },
 "nbformat": 4,
 "nbformat_minor": 0
}