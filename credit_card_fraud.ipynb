{
 "metadata": {
  "kernelspec": {
   "language": "python",
   "display_name": "Python 3",
   "name": "python3"
  },
  "language_info": {
   "name": "python",
   "version": "3.7.12",
   "mimetype": "text/x-python",
   "codemirror_mode": {
    "name": "ipython",
    "version": 3
   },
   "pygments_lexer": "ipython3",
   "nbconvert_exporter": "python",
   "file_extension": ".py"
  }
 },
 "nbformat_minor": 4,
 "nbformat": 4,
 "cells": [
  {
   "cell_type": "markdown",
   "source": [
    "# Detección de Fraude con Tarjetas de crédito\n",
    "# Grupo 3\n",
    "## Bruno Dueñas, Fernando Mejía, Mateo Córdova"
   ],
   "metadata": {
    "pycharm": {
     "name": "#%% md\n"
    }
   }
  },
  {
   "cell_type": "markdown",
   "source": [
    "# Importar librerías"
   ],
   "metadata": {
    "pycharm": {
     "name": "#%% md\n"
    }
   }
  },
  {
   "cell_type": "code",
   "source": [
    "import pandas as pd\n",
    "import numpy as np\n",
    "import matplotlib.pyplot as plt\n",
    "%matplotlib inline\n",
    "import seaborn as sns\n",
    "# Machine Learning\n",
    "from sklearn.feature_selection import SelectKBest\n",
    "from sklearn.feature_selection import f_classif\n",
    "from sklearn.preprocessing import StandardScaler\n",
    "from sklearn.metrics import accuracy_score\n",
    "from sklearn.metrics import confusion_matrix\n",
    "from sklearn.metrics import precision_recall_curve,roc_curve,roc_auc_score\n",
    "from sklearn.metrics import auc\n",
    "from sklearn.linear_model import LogisticRegression\n",
    "from sklearn.tree import DecisionTreeClassifier\n",
    "from sklearn import metrics\n",
    "from sklearn import linear_model,preprocessing\n",
    "from sklearn import tree\n",
    "from sklearn.model_selection import train_test_split\n",
    "import tensorflow as tf\n",
    "import graphviz"
   ],
   "metadata": {
    "execution": {
     "iopub.status.busy": "2022-05-22T09:07:04.128256Z",
     "iopub.execute_input": "2022-05-22T09:07:04.128599Z",
     "iopub.status.idle": "2022-05-22T09:07:04.762116Z",
     "shell.execute_reply.started": "2022-05-22T09:07:04.128535Z",
     "shell.execute_reply": "2022-05-22T09:07:04.761402Z"
    },
    "trusted": true,
    "pycharm": {
     "name": "#%%\n"
    }
   },
   "execution_count": 133,
   "outputs": []
  },
  {
   "cell_type": "markdown",
   "source": [
    "## Importando la data proveniente del csv y mostrándo el contenido de la data"
   ],
   "metadata": {
    "pycharm": {
     "name": "#%% md\n"
    }
   }
  },
  {
   "cell_type": "code",
   "source": [
    "column_names = [\"distance_from_home\",\"distance_from_last_transaction\",\"ratio_to_median_purchase_price\",\"repeat_retailer\",\"used_chip\",\"used_pin_number\",\"online_order\",\"fraud\"]\n",
    "dframe=pd.read_csv(\"data/card_transdata.csv\")\n",
    "dframe"
   ],
   "metadata": {
    "execution": {
     "iopub.status.busy": "2022-05-22T09:07:04.767594Z",
     "iopub.execute_input": "2022-05-22T09:07:04.767937Z",
     "iopub.status.idle": "2022-05-22T09:07:06.087392Z",
     "shell.execute_reply.started": "2022-05-22T09:07:04.767894Z",
     "shell.execute_reply": "2022-05-22T09:07:06.086361Z"
    },
    "trusted": true,
    "pycharm": {
     "name": "#%%\n"
    }
   },
   "execution_count": 134,
   "outputs": [
    {
     "data": {
      "text/plain": "        distance_from_home  distance_from_last_transaction  \\\n0                57.877857                        0.311140   \n1                10.829943                        0.175592   \n2                 5.091079                        0.805153   \n3                 2.247564                        5.600044   \n4                44.190936                        0.566486   \n...                    ...                             ...   \n999995            2.207101                        0.112651   \n999996           19.872726                        2.683904   \n999997            2.914857                        1.472687   \n999998            4.258729                        0.242023   \n999999           58.108125                        0.318110   \n\n        ratio_to_median_purchase_price  repeat_retailer  used_chip  \\\n0                             1.945940              1.0        1.0   \n1                             1.294219              1.0        0.0   \n2                             0.427715              1.0        0.0   \n3                             0.362663              1.0        1.0   \n4                             2.222767              1.0        1.0   \n...                                ...              ...        ...   \n999995                        1.626798              1.0        1.0   \n999996                        2.778303              1.0        1.0   \n999997                        0.218075              1.0        1.0   \n999998                        0.475822              1.0        0.0   \n999999                        0.386920              1.0        1.0   \n\n        used_pin_number  online_order  fraud  \n0                   0.0           0.0    0.0  \n1                   0.0           0.0    0.0  \n2                   0.0           1.0    0.0  \n3                   0.0           1.0    0.0  \n4                   0.0           1.0    0.0  \n...                 ...           ...    ...  \n999995              0.0           0.0    0.0  \n999996              0.0           0.0    0.0  \n999997              0.0           1.0    0.0  \n999998              0.0           1.0    0.0  \n999999              0.0           1.0    0.0  \n\n[1000000 rows x 8 columns]",
      "text/html": "<div>\n<style scoped>\n    .dataframe tbody tr th:only-of-type {\n        vertical-align: middle;\n    }\n\n    .dataframe tbody tr th {\n        vertical-align: top;\n    }\n\n    .dataframe thead th {\n        text-align: right;\n    }\n</style>\n<table border=\"1\" class=\"dataframe\">\n  <thead>\n    <tr style=\"text-align: right;\">\n      <th></th>\n      <th>distance_from_home</th>\n      <th>distance_from_last_transaction</th>\n      <th>ratio_to_median_purchase_price</th>\n      <th>repeat_retailer</th>\n      <th>used_chip</th>\n      <th>used_pin_number</th>\n      <th>online_order</th>\n      <th>fraud</th>\n    </tr>\n  </thead>\n  <tbody>\n    <tr>\n      <th>0</th>\n      <td>57.877857</td>\n      <td>0.311140</td>\n      <td>1.945940</td>\n      <td>1.0</td>\n      <td>1.0</td>\n      <td>0.0</td>\n      <td>0.0</td>\n      <td>0.0</td>\n    </tr>\n    <tr>\n      <th>1</th>\n      <td>10.829943</td>\n      <td>0.175592</td>\n      <td>1.294219</td>\n      <td>1.0</td>\n      <td>0.0</td>\n      <td>0.0</td>\n      <td>0.0</td>\n      <td>0.0</td>\n    </tr>\n    <tr>\n      <th>2</th>\n      <td>5.091079</td>\n      <td>0.805153</td>\n      <td>0.427715</td>\n      <td>1.0</td>\n      <td>0.0</td>\n      <td>0.0</td>\n      <td>1.0</td>\n      <td>0.0</td>\n    </tr>\n    <tr>\n      <th>3</th>\n      <td>2.247564</td>\n      <td>5.600044</td>\n      <td>0.362663</td>\n      <td>1.0</td>\n      <td>1.0</td>\n      <td>0.0</td>\n      <td>1.0</td>\n      <td>0.0</td>\n    </tr>\n    <tr>\n      <th>4</th>\n      <td>44.190936</td>\n      <td>0.566486</td>\n      <td>2.222767</td>\n      <td>1.0</td>\n      <td>1.0</td>\n      <td>0.0</td>\n      <td>1.0</td>\n      <td>0.0</td>\n    </tr>\n    <tr>\n      <th>...</th>\n      <td>...</td>\n      <td>...</td>\n      <td>...</td>\n      <td>...</td>\n      <td>...</td>\n      <td>...</td>\n      <td>...</td>\n      <td>...</td>\n    </tr>\n    <tr>\n      <th>999995</th>\n      <td>2.207101</td>\n      <td>0.112651</td>\n      <td>1.626798</td>\n      <td>1.0</td>\n      <td>1.0</td>\n      <td>0.0</td>\n      <td>0.0</td>\n      <td>0.0</td>\n    </tr>\n    <tr>\n      <th>999996</th>\n      <td>19.872726</td>\n      <td>2.683904</td>\n      <td>2.778303</td>\n      <td>1.0</td>\n      <td>1.0</td>\n      <td>0.0</td>\n      <td>0.0</td>\n      <td>0.0</td>\n    </tr>\n    <tr>\n      <th>999997</th>\n      <td>2.914857</td>\n      <td>1.472687</td>\n      <td>0.218075</td>\n      <td>1.0</td>\n      <td>1.0</td>\n      <td>0.0</td>\n      <td>1.0</td>\n      <td>0.0</td>\n    </tr>\n    <tr>\n      <th>999998</th>\n      <td>4.258729</td>\n      <td>0.242023</td>\n      <td>0.475822</td>\n      <td>1.0</td>\n      <td>0.0</td>\n      <td>0.0</td>\n      <td>1.0</td>\n      <td>0.0</td>\n    </tr>\n    <tr>\n      <th>999999</th>\n      <td>58.108125</td>\n      <td>0.318110</td>\n      <td>0.386920</td>\n      <td>1.0</td>\n      <td>1.0</td>\n      <td>0.0</td>\n      <td>1.0</td>\n      <td>0.0</td>\n    </tr>\n  </tbody>\n</table>\n<p>1000000 rows × 8 columns</p>\n</div>"
     },
     "execution_count": 134,
     "metadata": {},
     "output_type": "execute_result"
    }
   ]
  },
  {
   "cell_type": "markdown",
   "source": [
    "## Encontrar las características que mejor describen los datos"
   ],
   "metadata": {
    "pycharm": {
     "name": "#%% md\n"
    }
   }
  },
  {
   "cell_type": "code",
   "source": [
    "dframe.describe()"
   ],
   "metadata": {
    "execution": {
     "iopub.status.busy": "2022-05-22T09:07:06.112935Z",
     "iopub.execute_input": "2022-05-22T09:07:06.113286Z",
     "iopub.status.idle": "2022-05-22T09:07:06.510920Z",
     "shell.execute_reply.started": "2022-05-22T09:07:06.113239Z",
     "shell.execute_reply": "2022-05-22T09:07:06.510097Z"
    },
    "trusted": true,
    "pycharm": {
     "name": "#%%\n"
    }
   },
   "execution_count": 135,
   "outputs": [
    {
     "data": {
      "text/plain": "       distance_from_home  distance_from_last_transaction  \\\ncount      1000000.000000                  1000000.000000   \nmean            26.628792                        5.036519   \nstd             65.390784                       25.843093   \nmin              0.004874                        0.000118   \n25%              3.878008                        0.296671   \n50%              9.967760                        0.998650   \n75%             25.743985                        3.355748   \nmax          10632.723672                    11851.104565   \n\n       ratio_to_median_purchase_price  repeat_retailer       used_chip  \\\ncount                  1000000.000000   1000000.000000  1000000.000000   \nmean                         1.824182         0.881536        0.350399   \nstd                          2.799589         0.323157        0.477095   \nmin                          0.004399         0.000000        0.000000   \n25%                          0.475673         1.000000        0.000000   \n50%                          0.997717         1.000000        0.000000   \n75%                          2.096370         1.000000        1.000000   \nmax                        267.802942         1.000000        1.000000   \n\n       used_pin_number    online_order           fraud  \ncount   1000000.000000  1000000.000000  1000000.000000  \nmean          0.100608        0.650552        0.087403  \nstd           0.300809        0.476796        0.282425  \nmin           0.000000        0.000000        0.000000  \n25%           0.000000        0.000000        0.000000  \n50%           0.000000        1.000000        0.000000  \n75%           0.000000        1.000000        0.000000  \nmax           1.000000        1.000000        1.000000  ",
      "text/html": "<div>\n<style scoped>\n    .dataframe tbody tr th:only-of-type {\n        vertical-align: middle;\n    }\n\n    .dataframe tbody tr th {\n        vertical-align: top;\n    }\n\n    .dataframe thead th {\n        text-align: right;\n    }\n</style>\n<table border=\"1\" class=\"dataframe\">\n  <thead>\n    <tr style=\"text-align: right;\">\n      <th></th>\n      <th>distance_from_home</th>\n      <th>distance_from_last_transaction</th>\n      <th>ratio_to_median_purchase_price</th>\n      <th>repeat_retailer</th>\n      <th>used_chip</th>\n      <th>used_pin_number</th>\n      <th>online_order</th>\n      <th>fraud</th>\n    </tr>\n  </thead>\n  <tbody>\n    <tr>\n      <th>count</th>\n      <td>1000000.000000</td>\n      <td>1000000.000000</td>\n      <td>1000000.000000</td>\n      <td>1000000.000000</td>\n      <td>1000000.000000</td>\n      <td>1000000.000000</td>\n      <td>1000000.000000</td>\n      <td>1000000.000000</td>\n    </tr>\n    <tr>\n      <th>mean</th>\n      <td>26.628792</td>\n      <td>5.036519</td>\n      <td>1.824182</td>\n      <td>0.881536</td>\n      <td>0.350399</td>\n      <td>0.100608</td>\n      <td>0.650552</td>\n      <td>0.087403</td>\n    </tr>\n    <tr>\n      <th>std</th>\n      <td>65.390784</td>\n      <td>25.843093</td>\n      <td>2.799589</td>\n      <td>0.323157</td>\n      <td>0.477095</td>\n      <td>0.300809</td>\n      <td>0.476796</td>\n      <td>0.282425</td>\n    </tr>\n    <tr>\n      <th>min</th>\n      <td>0.004874</td>\n      <td>0.000118</td>\n      <td>0.004399</td>\n      <td>0.000000</td>\n      <td>0.000000</td>\n      <td>0.000000</td>\n      <td>0.000000</td>\n      <td>0.000000</td>\n    </tr>\n    <tr>\n      <th>25%</th>\n      <td>3.878008</td>\n      <td>0.296671</td>\n      <td>0.475673</td>\n      <td>1.000000</td>\n      <td>0.000000</td>\n      <td>0.000000</td>\n      <td>0.000000</td>\n      <td>0.000000</td>\n    </tr>\n    <tr>\n      <th>50%</th>\n      <td>9.967760</td>\n      <td>0.998650</td>\n      <td>0.997717</td>\n      <td>1.000000</td>\n      <td>0.000000</td>\n      <td>0.000000</td>\n      <td>1.000000</td>\n      <td>0.000000</td>\n    </tr>\n    <tr>\n      <th>75%</th>\n      <td>25.743985</td>\n      <td>3.355748</td>\n      <td>2.096370</td>\n      <td>1.000000</td>\n      <td>1.000000</td>\n      <td>0.000000</td>\n      <td>1.000000</td>\n      <td>0.000000</td>\n    </tr>\n    <tr>\n      <th>max</th>\n      <td>10632.723672</td>\n      <td>11851.104565</td>\n      <td>267.802942</td>\n      <td>1.000000</td>\n      <td>1.000000</td>\n      <td>1.000000</td>\n      <td>1.000000</td>\n      <td>1.000000</td>\n    </tr>\n  </tbody>\n</table>\n</div>"
     },
     "execution_count": 135,
     "metadata": {},
     "output_type": "execute_result"
    }
   ]
  },
  {
   "cell_type": "markdown",
   "source": [
    "## Copia para el modelo en keras"
   ],
   "metadata": {
    "collapsed": false,
    "pycharm": {
     "name": "#%% md\n"
    }
   }
  },
  {
   "cell_type": "code",
   "execution_count": 136,
   "outputs": [],
   "source": [
    "dframeKeras = dframe.copy()"
   ],
   "metadata": {
    "collapsed": false,
    "pycharm": {
     "name": "#%%\n"
    }
   }
  },
  {
   "cell_type": "markdown",
   "source": [
    "## Copia para el arbol de decisión sklearn"
   ],
   "metadata": {
    "collapsed": false,
    "pycharm": {
     "name": "#%% md\n"
    }
   }
  },
  {
   "cell_type": "code",
   "execution_count": 137,
   "outputs": [],
   "source": [
    "dframeArbol = dframe.copy()"
   ],
   "metadata": {
    "collapsed": false,
    "pycharm": {
     "name": "#%%\n"
    }
   }
  },
  {
   "cell_type": "markdown",
   "source": [
    "## Normalización de la data"
   ],
   "metadata": {
    "collapsed": false,
    "pycharm": {
     "name": "#%% md\n"
    }
   }
  },
  {
   "cell_type": "code",
   "execution_count": 138,
   "outputs": [],
   "source": [
    "scaler = StandardScaler()\n",
    "dframe.iloc[:,0:-1] = scaler.fit_transform(dframe.iloc[:,0:-1].to_numpy())"
   ],
   "metadata": {
    "collapsed": false,
    "pycharm": {
     "name": "#%%\n"
    }
   }
  },
  {
   "cell_type": "code",
   "execution_count": 139,
   "outputs": [
    {
     "data": {
      "text/plain": "        distance_from_home  distance_from_last_transaction  \\\n0                 0.477882                       -0.182849   \n1                -0.241607                       -0.188094   \n2                -0.329369                       -0.163733   \n3                -0.372854                        0.021806   \n4                 0.268572                       -0.172968   \n...                    ...                             ...   \n999995           -0.373473                       -0.190529   \n999996           -0.103318                       -0.091035   \n999997           -0.362650                       -0.137903   \n999998           -0.342098                       -0.185523   \n999999            0.481403                       -0.182579   \n\n        ratio_to_median_purchase_price  repeat_retailer  used_chip  \\\n0                             0.043491         0.366584   1.361576   \n1                            -0.189300         0.366584  -0.734443   \n2                            -0.498812         0.366584  -0.734443   \n3                            -0.522048         0.366584   1.361576   \n4                             0.142373         0.366584   1.361576   \n...                                ...              ...        ...   \n999995                       -0.070505         0.366584   1.361576   \n999996                        0.340808         0.366584   1.361576   \n999997                       -0.573694         0.366584   1.361576   \n999998                       -0.481628         0.366584  -0.734443   \n999999                       -0.513384         0.366584   1.361576   \n\n        used_pin_number  online_order  fraud  \n0             -0.334458     -1.364425    0.0  \n1             -0.334458     -1.364425    0.0  \n2             -0.334458      0.732909    0.0  \n3             -0.334458      0.732909    0.0  \n4             -0.334458      0.732909    0.0  \n...                 ...           ...    ...  \n999995        -0.334458     -1.364425    0.0  \n999996        -0.334458     -1.364425    0.0  \n999997        -0.334458      0.732909    0.0  \n999998        -0.334458      0.732909    0.0  \n999999        -0.334458      0.732909    0.0  \n\n[1000000 rows x 8 columns]",
      "text/html": "<div>\n<style scoped>\n    .dataframe tbody tr th:only-of-type {\n        vertical-align: middle;\n    }\n\n    .dataframe tbody tr th {\n        vertical-align: top;\n    }\n\n    .dataframe thead th {\n        text-align: right;\n    }\n</style>\n<table border=\"1\" class=\"dataframe\">\n  <thead>\n    <tr style=\"text-align: right;\">\n      <th></th>\n      <th>distance_from_home</th>\n      <th>distance_from_last_transaction</th>\n      <th>ratio_to_median_purchase_price</th>\n      <th>repeat_retailer</th>\n      <th>used_chip</th>\n      <th>used_pin_number</th>\n      <th>online_order</th>\n      <th>fraud</th>\n    </tr>\n  </thead>\n  <tbody>\n    <tr>\n      <th>0</th>\n      <td>0.477882</td>\n      <td>-0.182849</td>\n      <td>0.043491</td>\n      <td>0.366584</td>\n      <td>1.361576</td>\n      <td>-0.334458</td>\n      <td>-1.364425</td>\n      <td>0.0</td>\n    </tr>\n    <tr>\n      <th>1</th>\n      <td>-0.241607</td>\n      <td>-0.188094</td>\n      <td>-0.189300</td>\n      <td>0.366584</td>\n      <td>-0.734443</td>\n      <td>-0.334458</td>\n      <td>-1.364425</td>\n      <td>0.0</td>\n    </tr>\n    <tr>\n      <th>2</th>\n      <td>-0.329369</td>\n      <td>-0.163733</td>\n      <td>-0.498812</td>\n      <td>0.366584</td>\n      <td>-0.734443</td>\n      <td>-0.334458</td>\n      <td>0.732909</td>\n      <td>0.0</td>\n    </tr>\n    <tr>\n      <th>3</th>\n      <td>-0.372854</td>\n      <td>0.021806</td>\n      <td>-0.522048</td>\n      <td>0.366584</td>\n      <td>1.361576</td>\n      <td>-0.334458</td>\n      <td>0.732909</td>\n      <td>0.0</td>\n    </tr>\n    <tr>\n      <th>4</th>\n      <td>0.268572</td>\n      <td>-0.172968</td>\n      <td>0.142373</td>\n      <td>0.366584</td>\n      <td>1.361576</td>\n      <td>-0.334458</td>\n      <td>0.732909</td>\n      <td>0.0</td>\n    </tr>\n    <tr>\n      <th>...</th>\n      <td>...</td>\n      <td>...</td>\n      <td>...</td>\n      <td>...</td>\n      <td>...</td>\n      <td>...</td>\n      <td>...</td>\n      <td>...</td>\n    </tr>\n    <tr>\n      <th>999995</th>\n      <td>-0.373473</td>\n      <td>-0.190529</td>\n      <td>-0.070505</td>\n      <td>0.366584</td>\n      <td>1.361576</td>\n      <td>-0.334458</td>\n      <td>-1.364425</td>\n      <td>0.0</td>\n    </tr>\n    <tr>\n      <th>999996</th>\n      <td>-0.103318</td>\n      <td>-0.091035</td>\n      <td>0.340808</td>\n      <td>0.366584</td>\n      <td>1.361576</td>\n      <td>-0.334458</td>\n      <td>-1.364425</td>\n      <td>0.0</td>\n    </tr>\n    <tr>\n      <th>999997</th>\n      <td>-0.362650</td>\n      <td>-0.137903</td>\n      <td>-0.573694</td>\n      <td>0.366584</td>\n      <td>1.361576</td>\n      <td>-0.334458</td>\n      <td>0.732909</td>\n      <td>0.0</td>\n    </tr>\n    <tr>\n      <th>999998</th>\n      <td>-0.342098</td>\n      <td>-0.185523</td>\n      <td>-0.481628</td>\n      <td>0.366584</td>\n      <td>-0.734443</td>\n      <td>-0.334458</td>\n      <td>0.732909</td>\n      <td>0.0</td>\n    </tr>\n    <tr>\n      <th>999999</th>\n      <td>0.481403</td>\n      <td>-0.182579</td>\n      <td>-0.513384</td>\n      <td>0.366584</td>\n      <td>1.361576</td>\n      <td>-0.334458</td>\n      <td>0.732909</td>\n      <td>0.0</td>\n    </tr>\n  </tbody>\n</table>\n<p>1000000 rows × 8 columns</p>\n</div>"
     },
     "execution_count": 139,
     "metadata": {},
     "output_type": "execute_result"
    }
   ],
   "source": [
    "dframe"
   ],
   "metadata": {
    "collapsed": false,
    "pycharm": {
     "name": "#%%\n"
    }
   }
  },
  {
   "cell_type": "markdown",
   "source": [
    "## Revisar valores nulos (de existir)"
   ],
   "metadata": {
    "pycharm": {
     "name": "#%% md\n"
    }
   }
  },
  {
   "cell_type": "code",
   "source": [
    "dframe.isna().sum()"
   ],
   "metadata": {
    "execution": {
     "iopub.status.busy": "2022-05-22T09:07:06.512222Z",
     "iopub.execute_input": "2022-05-22T09:07:06.512467Z",
     "iopub.status.idle": "2022-05-22T09:07:06.538470Z",
     "shell.execute_reply.started": "2022-05-22T09:07:06.512439Z",
     "shell.execute_reply": "2022-05-22T09:07:06.537592Z"
    },
    "trusted": true,
    "pycharm": {
     "name": "#%%\n"
    }
   },
   "execution_count": 140,
   "outputs": [
    {
     "data": {
      "text/plain": "distance_from_home                0\ndistance_from_last_transaction    0\nratio_to_median_purchase_price    0\nrepeat_retailer                   0\nused_chip                         0\nused_pin_number                   0\nonline_order                      0\nfraud                             0\ndtype: int64"
     },
     "execution_count": 140,
     "metadata": {},
     "output_type": "execute_result"
    }
   ]
  },
  {
   "cell_type": "markdown",
   "source": [
    "### Recuentos de valores para variables categóricas (repeat_retailer, used_chip, used_pin_number, online_order y fraude)"
   ],
   "metadata": {
    "pycharm": {
     "name": "#%% md\n"
    }
   }
  },
  {
   "cell_type": "code",
   "source": [
    "for column in dframe.columns[3:9]:\n",
    "    print(dframe[column].value_counts())\n",
    "    print()"
   ],
   "metadata": {
    "execution": {
     "iopub.status.busy": "2022-05-22T09:07:06.539646Z",
     "iopub.execute_input": "2022-05-22T09:07:06.539902Z",
     "iopub.status.idle": "2022-05-22T09:07:06.611349Z",
     "shell.execute_reply.started": "2022-05-22T09:07:06.539873Z",
     "shell.execute_reply": "2022-05-22T09:07:06.610478Z"
    },
    "trusted": true,
    "pycharm": {
     "name": "#%%\n"
    }
   },
   "execution_count": 141,
   "outputs": [
    {
     "name": "stdout",
     "output_type": "stream",
     "text": [
      " 0.366584    881536\n",
      "-2.727890    118464\n",
      "Name: repeat_retailer, dtype: int64\n",
      "\n",
      "-0.734443    649601\n",
      " 1.361576    350399\n",
      "Name: used_chip, dtype: int64\n",
      "\n",
      "-0.334458    899392\n",
      " 2.989911    100608\n",
      "Name: used_pin_number, dtype: int64\n",
      "\n",
      " 0.732909    650552\n",
      "-1.364425    349448\n",
      "Name: online_order, dtype: int64\n",
      "\n",
      "0.0    912597\n",
      "1.0     87403\n",
      "Name: fraud, dtype: int64\n",
      "\n"
     ]
    }
   ]
  },
  {
   "cell_type": "markdown",
   "source": [
    "## Matriz de correlación entre la data"
   ],
   "metadata": {
    "pycharm": {
     "name": "#%% md\n"
    }
   }
  },
  {
   "cell_type": "code",
   "source": [
    "correlation_mat = dframe.corr() \n",
    "f, ax = plt.subplots(figsize =(9, 8)) \n",
    "sns.heatmap(correlation_mat,ax=ax, annot=True, cmap = 'BrBG_r',linewidths=0.5)"
   ],
   "metadata": {
    "execution": {
     "iopub.status.busy": "2022-05-22T09:07:06.612690Z",
     "iopub.execute_input": "2022-05-22T09:07:06.613100Z",
     "iopub.status.idle": "2022-05-22T09:07:07.466194Z",
     "shell.execute_reply.started": "2022-05-22T09:07:06.613055Z",
     "shell.execute_reply": "2022-05-22T09:07:07.465367Z"
    },
    "trusted": true,
    "pycharm": {
     "name": "#%%\n"
    }
   },
   "execution_count": 142,
   "outputs": [
    {
     "data": {
      "text/plain": "<AxesSubplot:>"
     },
     "execution_count": 142,
     "metadata": {},
     "output_type": "execute_result"
    },
    {
     "data": {
      "text/plain": "<Figure size 648x576 with 2 Axes>",
      "image/png": "[encoded data removed]"
     },
     "metadata": {
      "needs_background": "light"
     },
     "output_type": "display_data"
    }
   ]
  },
  {
   "cell_type": "markdown",
   "source": [
    "### Análisis univariado para eliminar la característica que tiene el menor efecto en la variable objetivo (fraude)"
   ],
   "metadata": {
    "collapsed": false,
    "pycharm": {
     "name": "#%% md\n"
    }
   }
  },
  {
   "cell_type": "code",
   "execution_count": 143,
   "outputs": [
    {
     "name": "stdout",
     "output_type": "stream",
     "text": [
      "Columna:   distance_from_home , Puntuación:  36465.69332586085\n",
      "Columna:   distance_from_last_transaction , Puntuación:  8520.690791240206\n",
      "Columna:   ratio_to_median_purchase_price , Puntuación:  271820.173833205\n",
      "Columna:   repeat_retailer , Puntuación:  1.8426704992520047\n",
      "Columna:   used_chip , Puntuación:  3731.7684653980787\n",
      "Columna:   used_pin_number , Puntuación:  10160.776030233745\n",
      "Columna:   online_order , Puntuación:  38263.51828118835\n",
      "Más baja =  1.8426704992520047\n"
     ]
    }
   ],
   "source": [
    "scores = []\n",
    "Univ_Analysis = SelectKBest(score_func=f_classif, k=7)\n",
    "fit = Univ_Analysis.fit(dframe[dframe.columns[0:7]], dframe[dframe.columns[7]])\n",
    "newcols = Univ_Analysis.get_support(indices=True)\n",
    "for i in range(7):\n",
    "    print (\"Columna:  \",column_names[i], \", Puntuación: \", fit.scores_[i])\n",
    "    scores.append(fit.scores_[i])\n",
    "print(\"Más baja = \",min(scores))"
   ],
   "metadata": {
    "collapsed": false,
    "pycharm": {
     "name": "#%%\n"
    }
   }
  },
  {
   "cell_type": "markdown",
   "source": [
    "### Dado que tenemos la puntuación más baja para repeat_retailer, la excluimos de nuestro análisis."
   ],
   "metadata": {
    "pycharm": {
     "name": "#%% md\n"
    }
   }
  },
  {
   "cell_type": "code",
   "execution_count": 144,
   "outputs": [],
   "source": [
    "dframe.drop(['repeat_retailer'], axis=1, inplace=True)"
   ],
   "metadata": {
    "collapsed": false,
    "pycharm": {
     "name": "#%%\n"
    }
   }
  },
  {
   "cell_type": "markdown",
   "source": [
    "## Separar la data en variables de entrenamiento y variables de prueba"
   ],
   "metadata": {
    "collapsed": false,
    "pycharm": {
     "name": "#%% md\n"
    }
   }
  },
  {
   "cell_type": "code",
   "execution_count": 145,
   "outputs": [],
   "source": [
    "train, test = train_test_split(dframe, test_size=0.2)"
   ],
   "metadata": {
    "collapsed": false,
    "pycharm": {
     "name": "#%%\n"
    }
   }
  },
  {
   "cell_type": "markdown",
   "source": [
    "## Variables de entrenamiento y variables de prueba"
   ],
   "metadata": {
    "collapsed": false,
    "pycharm": {
     "name": "#%% md\n"
    }
   }
  },
  {
   "cell_type": "code",
   "execution_count": 146,
   "outputs": [],
   "source": [
    "t_data = train[train.columns[0:6]]\n",
    "t_target = train[train.columns[6]]\n",
    "w_test = test[test.columns[0:6]]\n",
    "w_true = test[test.columns[6]] #Para validar el accuracy"
   ],
   "metadata": {
    "collapsed": false,
    "pycharm": {
     "name": "#%%\n"
    }
   }
  },
  {
   "cell_type": "code",
   "execution_count": 147,
   "outputs": [
    {
     "data": {
      "text/plain": "318090    0.0\n14828     0.0\n338852    0.0\n48896     0.0\n754485    0.0\n         ... \n259203    0.0\n686446    0.0\n99813     1.0\n563269    0.0\n599080    1.0\nName: fraud, Length: 200000, dtype: float64"
     },
     "execution_count": 147,
     "metadata": {},
     "output_type": "execute_result"
    }
   ],
   "source": [
    "w_true"
   ],
   "metadata": {
    "collapsed": false,
    "pycharm": {
     "name": "#%%\n"
    }
   }
  },
  {
   "cell_type": "code",
   "execution_count": 148,
   "outputs": [
    {
     "data": {
      "text/plain": "        distance_from_home  distance_from_last_transaction  \\\n328714           -0.382409                       -0.028381   \n493720            0.336798                       -0.167960   \n12370            -0.155223                       -0.194761   \n749484           -0.188377                       -0.177992   \n487752           -0.048455                       -0.151486   \n...                    ...                             ...   \n94775            -0.306056                       -0.146536   \n672781           -0.242592                        0.692474   \n341125           -0.252209                       -0.113064   \n964224           -0.214755                        0.770108   \n693231            0.107861                       -0.185764   \n\n        ratio_to_median_purchase_price  used_chip  used_pin_number  \\\n328714                       -0.367810  -0.734443        -0.334458   \n493720                       -0.372841  -0.734443        -0.334458   \n12370                        -0.427296  -0.734443        -0.334458   \n749484                        0.443413  -0.734443         2.989911   \n487752                       -0.612447  -0.734443        -0.334458   \n...                                ...        ...              ...   \n94775                        -0.443601  -0.734443        -0.334458   \n672781                       -0.494186  -0.734443        -0.334458   \n341125                        0.032553   1.361576        -0.334458   \n964224                        0.457960  -0.734443        -0.334458   \n693231                        0.169996   1.361576        -0.334458   \n\n        online_order  \n328714     -1.364425  \n493720      0.732909  \n12370       0.732909  \n749484     -1.364425  \n487752      0.732909  \n...              ...  \n94775      -1.364425  \n672781      0.732909  \n341125      0.732909  \n964224      0.732909  \n693231      0.732909  \n\n[800000 rows x 6 columns]",
      "text/html": "<div>\n<style scoped>\n    .dataframe tbody tr th:only-of-type {\n        vertical-align: middle;\n    }\n\n    .dataframe tbody tr th {\n        vertical-align: top;\n    }\n\n    .dataframe thead th {\n        text-align: right;\n    }\n</style>\n<table border=\"1\" class=\"dataframe\">\n  <thead>\n    <tr style=\"text-align: right;\">\n      <th></th>\n      <th>distance_from_home</th>\n      <th>distance_from_last_transaction</th>\n      <th>ratio_to_median_purchase_price</th>\n      <th>used_chip</th>\n      <th>used_pin_number</th>\n      <th>online_order</th>\n    </tr>\n  </thead>\n  <tbody>\n    <tr>\n      <th>328714</th>\n      <td>-0.382409</td>\n      <td>-0.028381</td>\n      <td>-0.367810</td>\n      <td>-0.734443</td>\n      <td>-0.334458</td>\n      <td>-1.364425</td>\n    </tr>\n    <tr>\n      <th>493720</th>\n      <td>0.336798</td>\n      <td>-0.167960</td>\n      <td>-0.372841</td>\n      <td>-0.734443</td>\n      <td>-0.334458</td>\n      <td>0.732909</td>\n    </tr>\n    <tr>\n      <th>12370</th>\n      <td>-0.155223</td>\n      <td>-0.194761</td>\n      <td>-0.427296</td>\n      <td>-0.734443</td>\n      <td>-0.334458</td>\n      <td>0.732909</td>\n    </tr>\n    <tr>\n      <th>749484</th>\n      <td>-0.188377</td>\n      <td>-0.177992</td>\n      <td>0.443413</td>\n      <td>-0.734443</td>\n      <td>2.989911</td>\n      <td>-1.364425</td>\n    </tr>\n    <tr>\n      <th>487752</th>\n      <td>-0.048455</td>\n      <td>-0.151486</td>\n      <td>-0.612447</td>\n      <td>-0.734443</td>\n      <td>-0.334458</td>\n      <td>0.732909</td>\n    </tr>\n    <tr>\n      <th>...</th>\n      <td>...</td>\n      <td>...</td>\n      <td>...</td>\n      <td>...</td>\n      <td>...</td>\n      <td>...</td>\n    </tr>\n    <tr>\n      <th>94775</th>\n      <td>-0.306056</td>\n      <td>-0.146536</td>\n      <td>-0.443601</td>\n      <td>-0.734443</td>\n      <td>-0.334458</td>\n      <td>-1.364425</td>\n    </tr>\n    <tr>\n      <th>672781</th>\n      <td>-0.242592</td>\n      <td>0.692474</td>\n      <td>-0.494186</td>\n      <td>-0.734443</td>\n      <td>-0.334458</td>\n      <td>0.732909</td>\n    </tr>\n    <tr>\n      <th>341125</th>\n      <td>-0.252209</td>\n      <td>-0.113064</td>\n      <td>0.032553</td>\n      <td>1.361576</td>\n      <td>-0.334458</td>\n      <td>0.732909</td>\n    </tr>\n    <tr>\n      <th>964224</th>\n      <td>-0.214755</td>\n      <td>0.770108</td>\n      <td>0.457960</td>\n      <td>-0.734443</td>\n      <td>-0.334458</td>\n      <td>0.732909</td>\n    </tr>\n    <tr>\n      <th>693231</th>\n      <td>0.107861</td>\n      <td>-0.185764</td>\n      <td>0.169996</td>\n      <td>1.361576</td>\n      <td>-0.334458</td>\n      <td>0.732909</td>\n    </tr>\n  </tbody>\n</table>\n<p>800000 rows × 6 columns</p>\n</div>"
     },
     "execution_count": 148,
     "metadata": {},
     "output_type": "execute_result"
    }
   ],
   "source": [
    "t_data"
   ],
   "metadata": {
    "collapsed": false,
    "pycharm": {
     "name": "#%%\n"
    }
   }
  },
  {
   "cell_type": "markdown",
   "source": [
    "## Arbol de decisión sklearn\n",
    "### Entrenamiento del modelo"
   ],
   "metadata": {
    "pycharm": {
     "name": "#%% md\n"
    }
   }
  },
  {
   "cell_type": "code",
   "execution_count": 149,
   "outputs": [
    {
     "data": {
      "text/plain": "   distance_from_home  distance_from_last_transaction  \\\n0            0.477882                       -0.182849   \n1           -0.241607                       -0.188094   \n2           -0.329369                       -0.163733   \n3           -0.372854                        0.021806   \n4            0.268572                       -0.172968   \n\n   ratio_to_median_purchase_price  used_chip  used_pin_number  online_order  \\\n0                        0.043491   1.361576        -0.334458     -1.364425   \n1                       -0.189300  -0.734443        -0.334458     -1.364425   \n2                       -0.498812  -0.734443        -0.334458      0.732909   \n3                       -0.522048   1.361576        -0.334458      0.732909   \n4                        0.142373   1.361576        -0.334458      0.732909   \n\n   fraud  \n0    0.0  \n1    0.0  \n2    0.0  \n3    0.0  \n4    0.0  ",
      "text/html": "<div>\n<style scoped>\n    .dataframe tbody tr th:only-of-type {\n        vertical-align: middle;\n    }\n\n    .dataframe tbody tr th {\n        vertical-align: top;\n    }\n\n    .dataframe thead th {\n        text-align: right;\n    }\n</style>\n<table border=\"1\" class=\"dataframe\">\n  <thead>\n    <tr style=\"text-align: right;\">\n      <th></th>\n      <th>distance_from_home</th>\n      <th>distance_from_last_transaction</th>\n      <th>ratio_to_median_purchase_price</th>\n      <th>used_chip</th>\n      <th>used_pin_number</th>\n      <th>online_order</th>\n      <th>fraud</th>\n    </tr>\n  </thead>\n  <tbody>\n    <tr>\n      <th>0</th>\n      <td>0.477882</td>\n      <td>-0.182849</td>\n      <td>0.043491</td>\n      <td>1.361576</td>\n      <td>-0.334458</td>\n      <td>-1.364425</td>\n      <td>0.0</td>\n    </tr>\n    <tr>\n      <th>1</th>\n      <td>-0.241607</td>\n      <td>-0.188094</td>\n      <td>-0.189300</td>\n      <td>-0.734443</td>\n      <td>-0.334458</td>\n      <td>-1.364425</td>\n      <td>0.0</td>\n    </tr>\n    <tr>\n      <th>2</th>\n      <td>-0.329369</td>\n      <td>-0.163733</td>\n      <td>-0.498812</td>\n      <td>-0.734443</td>\n      <td>-0.334458</td>\n      <td>0.732909</td>\n      <td>0.0</td>\n    </tr>\n    <tr>\n      <th>3</th>\n      <td>-0.372854</td>\n      <td>0.021806</td>\n      <td>-0.522048</td>\n      <td>1.361576</td>\n      <td>-0.334458</td>\n      <td>0.732909</td>\n      <td>0.0</td>\n    </tr>\n    <tr>\n      <th>4</th>\n      <td>0.268572</td>\n      <td>-0.172968</td>\n      <td>0.142373</td>\n      <td>1.361576</td>\n      <td>-0.334458</td>\n      <td>0.732909</td>\n      <td>0.0</td>\n    </tr>\n  </tbody>\n</table>\n</div>"
     },
     "execution_count": 149,
     "metadata": {},
     "output_type": "execute_result"
    }
   ],
   "source": [
    "dframe.head()"
   ],
   "metadata": {
    "collapsed": false,
    "pycharm": {
     "name": "#%%\n"
    }
   }
  },
  {
   "cell_type": "code",
   "source": [
    "clf = tree.DecisionTreeClassifier(criterion='entropy', max_depth=5)\n",
    "clf = clf.fit(t_data, t_target)"
   ],
   "metadata": {
    "execution": {
     "iopub.status.busy": "2022-05-22T09:07:11.642368Z",
     "iopub.execute_input": "2022-05-22T09:07:11.642614Z",
     "iopub.status.idle": "2022-05-22T09:07:15.830665Z",
     "shell.execute_reply.started": "2022-05-22T09:07:11.642583Z",
     "shell.execute_reply": "2022-05-22T09:07:15.829859Z"
    },
    "trusted": true,
    "pycharm": {
     "name": "#%%\n"
    }
   },
   "execution_count": 150,
   "outputs": []
  },
  {
   "cell_type": "markdown",
   "source": [
    "## Graficar el arbol de decisión"
   ],
   "metadata": {
    "pycharm": {
     "name": "#%% md\n"
    }
   }
  },
  {
   "cell_type": "code",
   "execution_count": 151,
   "outputs": [
    {
     "data": {
      "image/svg+xml": "<?xml version=\"1.0\" encoding=\"UTF-8\" standalone=\"no\"?>\n<!DOCTYPE svg PUBLIC \"-//W3C//DTD SVG 1.1//EN\"\n \"http://www.w3.org/Graphics/SVG/1.1/DTD/svg11.dtd\">\n<!-- Generated by graphviz version 4.0.0 (20220529.0937)\n -->\n<!-- Title: Tree Pages: 1 -->\n<svg width=\"3410pt\" height=\"671pt\"\n viewBox=\"0.00 0.00 3410.00 671.00\" xmlns=\"http://www.w3.org/2000/svg\" xmlns:xlink=\"http://www.w3.org/1999/xlink\">\n<g id=\"graph0\" class=\"graph\" transform=\"scale(1 1) rotate(0) translate(4 667)\">\n<title>Tree</title>\n<polygon fill=\"white\" stroke=\"transparent\" points=\"-4,4 -4,-667 3406,-667 3406,4 -4,4\"/>\n<!-- 0 -->\n<g id=\"node1\" class=\"node\">\n<title>0</title>\n<path fill=\"#e78d4c\" stroke=\"black\" d=\"M1494.5,-663C1494.5,-663 1241.5,-663 1241.5,-663 1235.5,-663 1229.5,-657 1229.5,-651 1229.5,-651 1229.5,-592 1229.5,-592 1229.5,-586 1235.5,-580 1241.5,-580 1241.5,-580 1494.5,-580 1494.5,-580 1500.5,-580 1506.5,-586 1506.5,-592 1506.5,-592 1506.5,-651 1506.5,-651 1506.5,-657 1500.5,-663 1494.5,-663\"/>\n<text text-anchor=\"start\" x=\"1237.5\" y=\"-647.8\" font-family=\"Helvetica,sans-Serif\" font-size=\"14.00\">ratio_to_median_purchase_price ≤ 0.777</text>\n<text text-anchor=\"start\" x=\"1318\" y=\"-632.8\" font-family=\"Helvetica,sans-Serif\" font-size=\"14.00\">entropy = 0.428</text>\n<text text-anchor=\"start\" x=\"1308\" y=\"-617.8\" font-family=\"Helvetica,sans-Serif\" font-size=\"14.00\">samples = 800000</text>\n<text text-anchor=\"start\" x=\"1290.5\" y=\"-602.8\" font-family=\"Helvetica,sans-Serif\" font-size=\"14.00\">value = [730104, 69896]</text>\n<text text-anchor=\"start\" x=\"1295\" y=\"-587.8\" font-family=\"Helvetica,sans-Serif\" font-size=\"14.00\">class = No Fraudulento</text>\n</g>\n<!-- 1 -->\n<g id=\"node2\" class=\"node\">\n<title>1</title>\n<path fill=\"#e6843e\" stroke=\"black\" d=\"M835.5,-544C835.5,-544 656.5,-544 656.5,-544 650.5,-544 644.5,-538 644.5,-532 644.5,-532 644.5,-473 644.5,-473 644.5,-467 650.5,-461 656.5,-461 656.5,-461 835.5,-461 835.5,-461 841.5,-461 847.5,-467 847.5,-473 847.5,-473 847.5,-532 847.5,-532 847.5,-538 841.5,-544 835.5,-544\"/>\n<text text-anchor=\"start\" x=\"652.5\" y=\"-528.8\" font-family=\"Helvetica,sans-Serif\" font-size=\"14.00\">distance_from_home ≤ 1.122</text>\n<text text-anchor=\"start\" x=\"696\" y=\"-513.8\" font-family=\"Helvetica,sans-Serif\" font-size=\"14.00\">entropy = 0.168</text>\n<text text-anchor=\"start\" x=\"686\" y=\"-498.8\" font-family=\"Helvetica,sans-Serif\" font-size=\"14.00\">samples = 717517</text>\n<text text-anchor=\"start\" x=\"668.5\" y=\"-483.8\" font-family=\"Helvetica,sans-Serif\" font-size=\"14.00\">value = [699627, 17890]</text>\n<text text-anchor=\"start\" x=\"673\" y=\"-468.8\" font-family=\"Helvetica,sans-Serif\" font-size=\"14.00\">class = No Fraudulento</text>\n</g>\n<!-- 0&#45;&gt;1 -->\n<g id=\"edge1\" class=\"edge\">\n<title>0&#45;&gt;1</title>\n<path fill=\"none\" stroke=\"black\" d=\"M1229.19,-594.39C1117.15,-573.31 961.59,-544.05 857.54,-524.48\"/>\n<polygon fill=\"black\" stroke=\"black\" points=\"858.11,-521.03 847.64,-522.62 856.82,-527.91 858.11,-521.03\"/>\n<text text-anchor=\"middle\" x=\"861.74\" y=\"-539.56\" font-family=\"Helvetica,sans-Serif\" font-size=\"14.00\">True</text>\n</g>\n<!-- 22 -->\n<g id=\"node23\" class=\"node\">\n<title>22</title>\n<path fill=\"#add6f4\" stroke=\"black\" d=\"M2122.5,-544C2122.5,-544 1983.5,-544 1983.5,-544 1977.5,-544 1971.5,-538 1971.5,-532 1971.5,-532 1971.5,-473 1971.5,-473 1971.5,-467 1977.5,-461 1983.5,-461 1983.5,-461 2122.5,-461 2122.5,-461 2128.5,-461 2134.5,-467 2134.5,-473 2134.5,-473 2134.5,-532 2134.5,-532 2134.5,-538 2128.5,-544 2122.5,-544\"/>\n<text text-anchor=\"start\" x=\"1985\" y=\"-528.8\" font-family=\"Helvetica,sans-Serif\" font-size=\"14.00\">online_order ≤ &#45;0.316</text>\n<text text-anchor=\"start\" x=\"2007\" y=\"-513.8\" font-family=\"Helvetica,sans-Serif\" font-size=\"14.00\">entropy = 0.95</text>\n<text text-anchor=\"start\" x=\"1997\" y=\"-498.8\" font-family=\"Helvetica,sans-Serif\" font-size=\"14.00\">samples = 82483</text>\n<text text-anchor=\"start\" x=\"1979.5\" y=\"-483.8\" font-family=\"Helvetica,sans-Serif\" font-size=\"14.00\">value = [30477, 52006]</text>\n<text text-anchor=\"start\" x=\"1991\" y=\"-468.8\" font-family=\"Helvetica,sans-Serif\" font-size=\"14.00\">class = Fraudulento</text>\n</g>\n<!-- 0&#45;&gt;22 -->\n<g id=\"edge22\" class=\"edge\">\n<title>0&#45;&gt;22</title>\n<path fill=\"none\" stroke=\"black\" d=\"M1506.62,-596.82C1642.23,-573.66 1844.89,-539.05 1961.49,-519.13\"/>\n<polygon fill=\"black\" stroke=\"black\" points=\"1962.2,-522.56 1971.47,-517.43 1961.02,-515.66 1962.2,-522.56\"/>\n<text text-anchor=\"middle\" x=\"1957.02\" y=\"-534.13\" font-family=\"Helvetica,sans-Serif\" font-size=\"14.00\">False</text>\n</g>\n<!-- 2 -->\n<g id=\"node3\" class=\"node\">\n<title>2</title>\n<path fill=\"#e5823a\" stroke=\"black\" d=\"M377.5,-425C377.5,-425 144.5,-425 144.5,-425 138.5,-425 132.5,-419 132.5,-413 132.5,-413 132.5,-354 132.5,-354 132.5,-348 138.5,-342 144.5,-342 144.5,-342 377.5,-342 377.5,-342 383.5,-342 389.5,-348 389.5,-354 389.5,-354 389.5,-413 389.5,-413 389.5,-419 383.5,-425 377.5,-425\"/>\n<text text-anchor=\"start\" x=\"140.5\" y=\"-409.8\" font-family=\"Helvetica,sans-Serif\" font-size=\"14.00\">distance_from_last_transaction ≤ 1.74</text>\n<text text-anchor=\"start\" x=\"211\" y=\"-394.8\" font-family=\"Helvetica,sans-Serif\" font-size=\"14.00\">entropy = 0.053</text>\n<text text-anchor=\"start\" x=\"201\" y=\"-379.8\" font-family=\"Helvetica,sans-Serif\" font-size=\"14.00\">samples = 681830</text>\n<text text-anchor=\"start\" x=\"187.5\" y=\"-364.8\" font-family=\"Helvetica,sans-Serif\" font-size=\"14.00\">value = [677753, 4077]</text>\n<text text-anchor=\"start\" x=\"188\" y=\"-349.8\" font-family=\"Helvetica,sans-Serif\" font-size=\"14.00\">class = No Fraudulento</text>\n</g>\n<!-- 1&#45;&gt;2 -->\n<g id=\"edge2\" class=\"edge\">\n<title>1&#45;&gt;2</title>\n<path fill=\"none\" stroke=\"black\" d=\"M644.33,-476.97C573.34,-459.85 477.71,-436.78 399.73,-417.97\"/>\n<polygon fill=\"black\" stroke=\"black\" points=\"400.36,-414.52 389.82,-415.58 398.72,-421.32 400.36,-414.52\"/>\n</g>\n<!-- 9 -->\n<g id=\"node10\" class=\"node\">\n<title>9</title>\n<path fill=\"#f5d1b6\" stroke=\"black\" d=\"M815.5,-425C815.5,-425 676.5,-425 676.5,-425 670.5,-425 664.5,-419 664.5,-413 664.5,-413 664.5,-354 664.5,-354 664.5,-348 670.5,-342 676.5,-342 676.5,-342 815.5,-342 815.5,-342 821.5,-342 827.5,-348 827.5,-354 827.5,-354 827.5,-413 827.5,-413 827.5,-419 821.5,-425 815.5,-425\"/>\n<text text-anchor=\"start\" x=\"678\" y=\"-409.8\" font-family=\"Helvetica,sans-Serif\" font-size=\"14.00\">online_order ≤ &#45;0.316</text>\n<text text-anchor=\"start\" x=\"696\" y=\"-394.8\" font-family=\"Helvetica,sans-Serif\" font-size=\"14.00\">entropy = 0.963</text>\n<text text-anchor=\"start\" x=\"690\" y=\"-379.8\" font-family=\"Helvetica,sans-Serif\" font-size=\"14.00\">samples = 35687</text>\n<text text-anchor=\"start\" x=\"672.5\" y=\"-364.8\" font-family=\"Helvetica,sans-Serif\" font-size=\"14.00\">value = [21874, 13813]</text>\n<text text-anchor=\"start\" x=\"673\" y=\"-349.8\" font-family=\"Helvetica,sans-Serif\" font-size=\"14.00\">class = No Fraudulento</text>\n</g>\n<!-- 1&#45;&gt;9 -->\n<g id=\"edge9\" class=\"edge\">\n<title>1&#45;&gt;9</title>\n<path fill=\"none\" stroke=\"black\" d=\"M746,-460.91C746,-452.65 746,-443.86 746,-435.3\"/>\n<polygon fill=\"black\" stroke=\"black\" points=\"749.5,-435.02 746,-425.02 742.5,-435.02 749.5,-435.02\"/>\n</g>\n<!-- 3 -->\n<g id=\"node4\" class=\"node\">\n<title>3</title>\n<path fill=\"#e58139\" stroke=\"black\" d=\"M150,-298.5C150,-298.5 12,-298.5 12,-298.5 6,-298.5 0,-292.5 0,-286.5 0,-286.5 0,-242.5 0,-242.5 0,-236.5 6,-230.5 12,-230.5 12,-230.5 150,-230.5 150,-230.5 156,-230.5 162,-236.5 162,-242.5 162,-242.5 162,-286.5 162,-286.5 162,-292.5 156,-298.5 150,-298.5\"/>\n<text text-anchor=\"start\" x=\"39\" y=\"-283.3\" font-family=\"Helvetica,sans-Serif\" font-size=\"14.00\">entropy = 0.0</text>\n<text text-anchor=\"start\" x=\"21\" y=\"-268.3\" font-family=\"Helvetica,sans-Serif\" font-size=\"14.00\">samples = 671704</text>\n<text text-anchor=\"start\" x=\"20\" y=\"-253.3\" font-family=\"Helvetica,sans-Serif\" font-size=\"14.00\">value = [671704, 0]</text>\n<text text-anchor=\"start\" x=\"8\" y=\"-238.3\" font-family=\"Helvetica,sans-Serif\" font-size=\"14.00\">class = No Fraudulento</text>\n</g>\n<!-- 2&#45;&gt;3 -->\n<g id=\"edge3\" class=\"edge\">\n<title>2&#45;&gt;3</title>\n<path fill=\"none\" stroke=\"black\" d=\"M198.55,-341.91C179.71,-329.66 159.08,-316.25 140.44,-304.13\"/>\n<polygon fill=\"black\" stroke=\"black\" points=\"142.32,-301.18 132.03,-298.67 138.5,-307.05 142.32,-301.18\"/>\n</g>\n<!-- 4 -->\n<g id=\"node5\" class=\"node\">\n<title>4</title>\n<path fill=\"#f7d6be\" stroke=\"black\" d=\"M330,-306C330,-306 192,-306 192,-306 186,-306 180,-300 180,-294 180,-294 180,-235 180,-235 180,-229 186,-223 192,-223 192,-223 330,-223 330,-223 336,-223 342,-229 342,-235 342,-235 342,-294 342,-294 342,-300 336,-306 330,-306\"/>\n<text text-anchor=\"start\" x=\"193\" y=\"-290.8\" font-family=\"Helvetica,sans-Serif\" font-size=\"14.00\">online_order ≤ &#45;0.316</text>\n<text text-anchor=\"start\" x=\"211\" y=\"-275.8\" font-family=\"Helvetica,sans-Serif\" font-size=\"14.00\">entropy = 0.972</text>\n<text text-anchor=\"start\" x=\"205\" y=\"-260.8\" font-family=\"Helvetica,sans-Serif\" font-size=\"14.00\">samples = 10126</text>\n<text text-anchor=\"start\" x=\"196\" y=\"-245.8\" font-family=\"Helvetica,sans-Serif\" font-size=\"14.00\">value = [6049, 4077]</text>\n<text text-anchor=\"start\" x=\"188\" y=\"-230.8\" font-family=\"Helvetica,sans-Serif\" font-size=\"14.00\">class = No Fraudulento</text>\n</g>\n<!-- 2&#45;&gt;4 -->\n<g id=\"edge4\" class=\"edge\">\n<title>2&#45;&gt;4</title>\n<path fill=\"none\" stroke=\"black\" d=\"M261,-341.91C261,-333.65 261,-324.86 261,-316.3\"/>\n<polygon fill=\"black\" stroke=\"black\" points=\"264.5,-316.02 261,-306.02 257.5,-316.02 264.5,-316.02\"/>\n</g>\n<!-- 5 -->\n<g id=\"node6\" class=\"node\">\n<title>5</title>\n<path fill=\"#e58139\" stroke=\"black\" d=\"M158,-179.5C158,-179.5 20,-179.5 20,-179.5 14,-179.5 8,-173.5 8,-167.5 8,-167.5 8,-123.5 8,-123.5 8,-117.5 14,-111.5 20,-111.5 20,-111.5 158,-111.5 158,-111.5 164,-111.5 170,-117.5 170,-123.5 170,-123.5 170,-167.5 170,-167.5 170,-173.5 164,-179.5 158,-179.5\"/>\n<text text-anchor=\"start\" x=\"47\" y=\"-164.3\" font-family=\"Helvetica,sans-Serif\" font-size=\"14.00\">entropy = 0.0</text>\n<text text-anchor=\"start\" x=\"37.5\" y=\"-149.3\" font-family=\"Helvetica,sans-Serif\" font-size=\"14.00\">samples = 3508</text>\n<text text-anchor=\"start\" x=\"36\" y=\"-134.3\" font-family=\"Helvetica,sans-Serif\" font-size=\"14.00\">value = [3508, 0]</text>\n<text text-anchor=\"start\" x=\"16\" y=\"-119.3\" font-family=\"Helvetica,sans-Serif\" font-size=\"14.00\">class = No Fraudulento</text>\n</g>\n<!-- 4&#45;&gt;5 -->\n<g id=\"edge5\" class=\"edge\">\n<title>4&#45;&gt;5</title>\n<path fill=\"none\" stroke=\"black\" d=\"M201.33,-222.91C183.48,-210.77 163.96,-197.49 146.28,-185.46\"/>\n<polygon fill=\"black\" stroke=\"black\" points=\"148,-182.4 137.76,-179.67 144.06,-188.19 148,-182.4\"/>\n</g>\n<!-- 6 -->\n<g id=\"node7\" class=\"node\">\n<title>6</title>\n<path fill=\"#b4daf5\" stroke=\"black\" d=\"M322,-187C322,-187 200,-187 200,-187 194,-187 188,-181 188,-175 188,-175 188,-116 188,-116 188,-110 194,-104 200,-104 200,-104 322,-104 322,-104 328,-104 334,-110 334,-116 334,-116 334,-175 334,-175 334,-181 328,-187 322,-187\"/>\n<text text-anchor=\"start\" x=\"202\" y=\"-171.8\" font-family=\"Helvetica,sans-Serif\" font-size=\"14.00\">used_chip ≤ 0.314</text>\n<text text-anchor=\"start\" x=\"211\" y=\"-156.8\" font-family=\"Helvetica,sans-Serif\" font-size=\"14.00\">entropy = 0.961</text>\n<text text-anchor=\"start\" x=\"209.5\" y=\"-141.8\" font-family=\"Helvetica,sans-Serif\" font-size=\"14.00\">samples = 6618</text>\n<text text-anchor=\"start\" x=\"196\" y=\"-126.8\" font-family=\"Helvetica,sans-Serif\" font-size=\"14.00\">value = [2541, 4077]</text>\n<text text-anchor=\"start\" x=\"199\" y=\"-111.8\" font-family=\"Helvetica,sans-Serif\" font-size=\"14.00\">class = Fraudulento</text>\n</g>\n<!-- 4&#45;&gt;6 -->\n<g id=\"edge6\" class=\"edge\">\n<title>4&#45;&gt;6</title>\n<path fill=\"none\" stroke=\"black\" d=\"M261,-222.91C261,-214.65 261,-205.86 261,-197.3\"/>\n<polygon fill=\"black\" stroke=\"black\" points=\"264.5,-197.02 261,-187.02 257.5,-197.02 264.5,-197.02\"/>\n</g>\n<!-- 7 -->\n<g id=\"node8\" class=\"node\">\n<title>7</title>\n<path fill=\"#50a8e8\" stroke=\"black\" d=\"M156,-68C156,-68 40,-68 40,-68 34,-68 28,-62 28,-56 28,-56 28,-12 28,-12 28,-6 34,0 40,0 40,0 156,0 156,0 162,0 168,-6 168,-12 168,-12 168,-56 168,-56 168,-62 162,-68 156,-68\"/>\n<text text-anchor=\"start\" x=\"48\" y=\"-52.8\" font-family=\"Helvetica,sans-Serif\" font-size=\"14.00\">entropy = 0.481</text>\n<text text-anchor=\"start\" x=\"46.5\" y=\"-37.8\" font-family=\"Helvetica,sans-Serif\" font-size=\"14.00\">samples = 4268</text>\n<text text-anchor=\"start\" x=\"37\" y=\"-22.8\" font-family=\"Helvetica,sans-Serif\" font-size=\"14.00\">value = [443, 3825]</text>\n<text text-anchor=\"start\" x=\"36\" y=\"-7.8\" font-family=\"Helvetica,sans-Serif\" font-size=\"14.00\">class = Fraudulento</text>\n</g>\n<!-- 6&#45;&gt;7 -->\n<g id=\"edge7\" class=\"edge\">\n<title>6&#45;&gt;7</title>\n<path fill=\"none\" stroke=\"black\" d=\"M200.3,-103.73C185.7,-93.92 170.14,-83.46 155.68,-73.75\"/>\n<polygon fill=\"black\" stroke=\"black\" points=\"157.56,-70.8 147.31,-68.13 153.66,-76.61 157.56,-70.8\"/>\n</g>\n<!-- 8 -->\n<g id=\"node9\" class=\"node\">\n<title>8</title>\n<path fill=\"#e89051\" stroke=\"black\" d=\"M336,-68C336,-68 198,-68 198,-68 192,-68 186,-62 186,-56 186,-56 186,-12 186,-12 186,-6 192,0 198,0 198,0 336,0 336,0 342,0 348,-6 348,-12 348,-12 348,-56 348,-56 348,-62 342,-68 336,-68\"/>\n<text text-anchor=\"start\" x=\"217\" y=\"-52.8\" font-family=\"Helvetica,sans-Serif\" font-size=\"14.00\">entropy = 0.492</text>\n<text text-anchor=\"start\" x=\"215.5\" y=\"-37.8\" font-family=\"Helvetica,sans-Serif\" font-size=\"14.00\">samples = 2350</text>\n<text text-anchor=\"start\" x=\"206\" y=\"-22.8\" font-family=\"Helvetica,sans-Serif\" font-size=\"14.00\">value = [2098, 252]</text>\n<text text-anchor=\"start\" x=\"194\" y=\"-7.8\" font-family=\"Helvetica,sans-Serif\" font-size=\"14.00\">class = No Fraudulento</text>\n</g>\n<!-- 6&#45;&gt;8 -->\n<g id=\"edge8\" class=\"edge\">\n<title>6&#45;&gt;8</title>\n<path fill=\"none\" stroke=\"black\" d=\"M263.23,-103.73C263.68,-95.52 264.16,-86.86 264.61,-78.56\"/>\n<polygon fill=\"black\" stroke=\"black\" points=\"268.12,-78.48 265.18,-68.3 261.13,-78.09 268.12,-78.48\"/>\n</g>\n<!-- 10 -->\n<g id=\"node11\" class=\"node\">\n<title>10</title>\n<path fill=\"#e5833c\" stroke=\"black\" d=\"M745,-306C745,-306 503,-306 503,-306 497,-306 491,-300 491,-294 491,-294 491,-235 491,-235 491,-229 497,-223 503,-223 503,-223 745,-223 745,-223 751,-223 757,-229 757,-235 757,-235 757,-294 757,-294 757,-300 751,-306 745,-306\"/>\n<text text-anchor=\"start\" x=\"499\" y=\"-290.8\" font-family=\"Helvetica,sans-Serif\" font-size=\"14.00\">distance_from_last_transaction ≤ 1.745</text>\n<text text-anchor=\"start\" x=\"574\" y=\"-275.8\" font-family=\"Helvetica,sans-Serif\" font-size=\"14.00\">entropy = 0.108</text>\n<text text-anchor=\"start\" x=\"568\" y=\"-260.8\" font-family=\"Helvetica,sans-Serif\" font-size=\"14.00\">samples = 12558</text>\n<text text-anchor=\"start\" x=\"559\" y=\"-245.8\" font-family=\"Helvetica,sans-Serif\" font-size=\"14.00\">value = [12378, 180]</text>\n<text text-anchor=\"start\" x=\"551\" y=\"-230.8\" font-family=\"Helvetica,sans-Serif\" font-size=\"14.00\">class = No Fraudulento</text>\n</g>\n<!-- 9&#45;&gt;10 -->\n<g id=\"edge10\" class=\"edge\">\n<title>9&#45;&gt;10</title>\n<path fill=\"none\" stroke=\"black\" d=\"M703.67,-341.91C694.02,-332.65 683.68,-322.73 673.75,-313.21\"/>\n<polygon fill=\"black\" stroke=\"black\" points=\"675.89,-310.42 666.25,-306.02 671.05,-315.47 675.89,-310.42\"/>\n</g>\n<!-- 15 -->\n<g id=\"node16\" class=\"node\">\n<title>15</title>\n<path fill=\"#c3e1f7\" stroke=\"black\" d=\"M934.5,-306C934.5,-306 803.5,-306 803.5,-306 797.5,-306 791.5,-300 791.5,-294 791.5,-294 791.5,-235 791.5,-235 791.5,-229 797.5,-223 803.5,-223 803.5,-223 934.5,-223 934.5,-223 940.5,-223 946.5,-229 946.5,-235 946.5,-235 946.5,-294 946.5,-294 946.5,-300 940.5,-306 934.5,-306\"/>\n<text text-anchor=\"start\" x=\"810\" y=\"-290.8\" font-family=\"Helvetica,sans-Serif\" font-size=\"14.00\">used_chip ≤ 0.314</text>\n<text text-anchor=\"start\" x=\"819\" y=\"-275.8\" font-family=\"Helvetica,sans-Serif\" font-size=\"14.00\">entropy = 0.977</text>\n<text text-anchor=\"start\" x=\"813\" y=\"-260.8\" font-family=\"Helvetica,sans-Serif\" font-size=\"14.00\">samples = 23129</text>\n<text text-anchor=\"start\" x=\"799.5\" y=\"-245.8\" font-family=\"Helvetica,sans-Serif\" font-size=\"14.00\">value = [9496, 13633]</text>\n<text text-anchor=\"start\" x=\"807\" y=\"-230.8\" font-family=\"Helvetica,sans-Serif\" font-size=\"14.00\">class = Fraudulento</text>\n</g>\n<!-- 9&#45;&gt;15 -->\n<g id=\"edge15\" class=\"edge\">\n<title>9&#45;&gt;15</title>\n<path fill=\"none\" stroke=\"black\" d=\"M788.67,-341.91C798.5,-332.56 809.04,-322.54 819.14,-312.93\"/>\n<polygon fill=\"black\" stroke=\"black\" points=\"821.57,-315.45 826.4,-306.02 816.74,-310.38 821.57,-315.45\"/>\n</g>\n<!-- 11 -->\n<g id=\"node12\" class=\"node\">\n<title>11</title>\n<path fill=\"#e58139\" stroke=\"black\" d=\"M502,-179.5C502,-179.5 364,-179.5 364,-179.5 358,-179.5 352,-173.5 352,-167.5 352,-167.5 352,-123.5 352,-123.5 352,-117.5 358,-111.5 364,-111.5 364,-111.5 502,-111.5 502,-111.5 508,-111.5 514,-117.5 514,-123.5 514,-123.5 514,-167.5 514,-167.5 514,-173.5 508,-179.5 502,-179.5\"/>\n<text text-anchor=\"start\" x=\"391\" y=\"-164.3\" font-family=\"Helvetica,sans-Serif\" font-size=\"14.00\">entropy = 0.0</text>\n<text text-anchor=\"start\" x=\"377\" y=\"-149.3\" font-family=\"Helvetica,sans-Serif\" font-size=\"14.00\">samples = 12352</text>\n<text text-anchor=\"start\" x=\"376\" y=\"-134.3\" font-family=\"Helvetica,sans-Serif\" font-size=\"14.00\">value = [12352, 0]</text>\n<text text-anchor=\"start\" x=\"360\" y=\"-119.3\" font-family=\"Helvetica,sans-Serif\" font-size=\"14.00\">class = No Fraudulento</text>\n</g>\n<!-- 10&#45;&gt;11 -->\n<g id=\"edge11\" class=\"edge\">\n<title>10&#45;&gt;11</title>\n<path fill=\"none\" stroke=\"black\" d=\"M557.73,-222.91C537.65,-210.6 515.65,-197.13 495.8,-184.97\"/>\n<polygon fill=\"black\" stroke=\"black\" points=\"497.5,-181.91 487.14,-179.67 493.84,-187.88 497.5,-181.91\"/>\n</g>\n<!-- 12 -->\n<g id=\"node13\" class=\"node\">\n<title>12</title>\n<path fill=\"#56abe9\" stroke=\"black\" d=\"M703.5,-187C703.5,-187 544.5,-187 544.5,-187 538.5,-187 532.5,-181 532.5,-175 532.5,-175 532.5,-116 532.5,-116 532.5,-110 538.5,-104 544.5,-104 544.5,-104 703.5,-104 703.5,-104 709.5,-104 715.5,-110 715.5,-116 715.5,-116 715.5,-175 715.5,-175 715.5,-181 709.5,-187 703.5,-187\"/>\n<text text-anchor=\"start\" x=\"540.5\" y=\"-171.8\" font-family=\"Helvetica,sans-Serif\" font-size=\"14.00\">used_pin_number ≤ 1.328</text>\n<text text-anchor=\"start\" x=\"574\" y=\"-156.8\" font-family=\"Helvetica,sans-Serif\" font-size=\"14.00\">entropy = 0.547</text>\n<text text-anchor=\"start\" x=\"576.5\" y=\"-141.8\" font-family=\"Helvetica,sans-Serif\" font-size=\"14.00\">samples = 206</text>\n<text text-anchor=\"start\" x=\"571\" y=\"-126.8\" font-family=\"Helvetica,sans-Serif\" font-size=\"14.00\">value = [26, 180]</text>\n<text text-anchor=\"start\" x=\"562\" y=\"-111.8\" font-family=\"Helvetica,sans-Serif\" font-size=\"14.00\">class = Fraudulento</text>\n</g>\n<!-- 10&#45;&gt;12 -->\n<g id=\"edge12\" class=\"edge\">\n<title>10&#45;&gt;12</title>\n<path fill=\"none\" stroke=\"black\" d=\"M624,-222.91C624,-214.65 624,-205.86 624,-197.3\"/>\n<polygon fill=\"black\" stroke=\"black\" points=\"627.5,-197.02 624,-187.02 620.5,-197.02 627.5,-197.02\"/>\n</g>\n<!-- 13 -->\n<g id=\"node14\" class=\"node\">\n<title>13</title>\n<path fill=\"#399de5\" stroke=\"black\" d=\"M506,-68C506,-68 390,-68 390,-68 384,-68 378,-62 378,-56 378,-56 378,-12 378,-12 378,-6 384,0 390,0 390,0 506,0 506,0 512,0 518,-6 518,-12 518,-12 518,-56 518,-56 518,-62 512,-68 506,-68\"/>\n<text text-anchor=\"start\" x=\"406\" y=\"-52.8\" font-family=\"Helvetica,sans-Serif\" font-size=\"14.00\">entropy = 0.0</text>\n<text text-anchor=\"start\" x=\"400.5\" y=\"-37.8\" font-family=\"Helvetica,sans-Serif\" font-size=\"14.00\">samples = 180</text>\n<text text-anchor=\"start\" x=\"399.5\" y=\"-22.8\" font-family=\"Helvetica,sans-Serif\" font-size=\"14.00\">value = [0, 180]</text>\n<text text-anchor=\"start\" x=\"386\" y=\"-7.8\" font-family=\"Helvetica,sans-Serif\" font-size=\"14.00\">class = Fraudulento</text>\n</g>\n<!-- 12&#45;&gt;13 -->\n<g id=\"edge13\" class=\"edge\">\n<title>12&#45;&gt;13</title>\n<path fill=\"none\" stroke=\"black\" d=\"M558.46,-103.73C542.55,-93.82 525.58,-83.27 509.84,-73.48\"/>\n<polygon fill=\"black\" stroke=\"black\" points=\"511.58,-70.44 501.24,-68.13 507.88,-76.38 511.58,-70.44\"/>\n</g>\n<!-- 14 -->\n<g id=\"node15\" class=\"node\">\n<title>14</title>\n<path fill=\"#e58139\" stroke=\"black\" d=\"M686,-68C686,-68 548,-68 548,-68 542,-68 536,-62 536,-56 536,-56 536,-12 536,-12 536,-6 542,0 548,0 548,0 686,0 686,0 692,0 698,-6 698,-12 698,-12 698,-56 698,-56 698,-62 692,-68 686,-68\"/>\n<text text-anchor=\"start\" x=\"575\" y=\"-52.8\" font-family=\"Helvetica,sans-Serif\" font-size=\"14.00\">entropy = 0.0</text>\n<text text-anchor=\"start\" x=\"573.5\" y=\"-37.8\" font-family=\"Helvetica,sans-Serif\" font-size=\"14.00\">samples = 26</text>\n<text text-anchor=\"start\" x=\"572.5\" y=\"-22.8\" font-family=\"Helvetica,sans-Serif\" font-size=\"14.00\">value = [26, 0]</text>\n<text text-anchor=\"start\" x=\"544\" y=\"-7.8\" font-family=\"Helvetica,sans-Serif\" font-size=\"14.00\">class = No Fraudulento</text>\n</g>\n<!-- 12&#45;&gt;14 -->\n<g id=\"edge14\" class=\"edge\">\n<title>12&#45;&gt;14</title>\n<path fill=\"none\" stroke=\"black\" d=\"M621.39,-103.73C620.86,-95.43 620.3,-86.67 619.77,-78.28\"/>\n<polygon fill=\"black\" stroke=\"black\" points=\"623.26,-78.06 619.13,-68.3 616.27,-78.5 623.26,-78.06\"/>\n</g>\n<!-- 16 -->\n<g id=\"node17\" class=\"node\">\n<title>16</title>\n<path fill=\"#4fa8e8\" stroke=\"black\" d=\"M948.5,-187C948.5,-187 789.5,-187 789.5,-187 783.5,-187 777.5,-181 777.5,-175 777.5,-175 777.5,-116 777.5,-116 777.5,-110 783.5,-104 789.5,-104 789.5,-104 948.5,-104 948.5,-104 954.5,-104 960.5,-110 960.5,-116 960.5,-116 960.5,-175 960.5,-175 960.5,-181 954.5,-187 948.5,-187\"/>\n<text text-anchor=\"start\" x=\"785.5\" y=\"-171.8\" font-family=\"Helvetica,sans-Serif\" font-size=\"14.00\">used_pin_number ≤ 1.328</text>\n<text text-anchor=\"start\" x=\"819\" y=\"-156.8\" font-family=\"Helvetica,sans-Serif\" font-size=\"14.00\">entropy = 0.465</text>\n<text text-anchor=\"start\" x=\"813\" y=\"-141.8\" font-family=\"Helvetica,sans-Serif\" font-size=\"14.00\">samples = 14999</text>\n<text text-anchor=\"start\" x=\"799.5\" y=\"-126.8\" font-family=\"Helvetica,sans-Serif\" font-size=\"14.00\">value = [1480, 13519]</text>\n<text text-anchor=\"start\" x=\"807\" y=\"-111.8\" font-family=\"Helvetica,sans-Serif\" font-size=\"14.00\">class = Fraudulento</text>\n</g>\n<!-- 15&#45;&gt;16 -->\n<g id=\"edge16\" class=\"edge\">\n<title>15&#45;&gt;16</title>\n<path fill=\"none\" stroke=\"black\" d=\"M869,-222.91C869,-214.65 869,-205.86 869,-197.3\"/>\n<polygon fill=\"black\" stroke=\"black\" points=\"872.5,-197.02 869,-187.02 865.5,-197.02 872.5,-197.02\"/>\n</g>\n<!-- 19 -->\n<g id=\"node20\" class=\"node\">\n<title>19</title>\n<path fill=\"#e5833c\" stroke=\"black\" d=\"M1256,-187C1256,-187 1014,-187 1014,-187 1008,-187 1002,-181 1002,-175 1002,-175 1002,-116 1002,-116 1002,-110 1008,-104 1014,-104 1014,-104 1256,-104 1256,-104 1262,-104 1268,-110 1268,-116 1268,-116 1268,-175 1268,-175 1268,-181 1262,-187 1256,-187\"/>\n<text text-anchor=\"start\" x=\"1010\" y=\"-171.8\" font-family=\"Helvetica,sans-Serif\" font-size=\"14.00\">distance_from_last_transaction ≤ 1.758</text>\n<text text-anchor=\"start\" x=\"1085\" y=\"-156.8\" font-family=\"Helvetica,sans-Serif\" font-size=\"14.00\">entropy = 0.106</text>\n<text text-anchor=\"start\" x=\"1083.5\" y=\"-141.8\" font-family=\"Helvetica,sans-Serif\" font-size=\"14.00\">samples = 8130</text>\n<text text-anchor=\"start\" x=\"1074\" y=\"-126.8\" font-family=\"Helvetica,sans-Serif\" font-size=\"14.00\">value = [8016, 114]</text>\n<text text-anchor=\"start\" x=\"1062\" y=\"-111.8\" font-family=\"Helvetica,sans-Serif\" font-size=\"14.00\">class = No Fraudulento</text>\n</g>\n<!-- 15&#45;&gt;19 -->\n<g id=\"edge19\" class=\"edge\">\n<title>15&#45;&gt;19</title>\n<path fill=\"none\" stroke=\"black\" d=\"M946.65,-229.34C973.77,-217.42 1004.63,-203.84 1033.41,-191.18\"/>\n<polygon fill=\"black\" stroke=\"black\" points=\"1034.93,-194.34 1042.67,-187.11 1032.11,-187.93 1034.93,-194.34\"/>\n</g>\n<!-- 17 -->\n<g id=\"node18\" class=\"node\">\n<title>17</title>\n<path fill=\"#399de5\" stroke=\"black\" d=\"M844,-68C844,-68 728,-68 728,-68 722,-68 716,-62 716,-56 716,-56 716,-12 716,-12 716,-6 722,0 728,0 728,0 844,0 844,0 850,0 856,-6 856,-12 856,-12 856,-56 856,-56 856,-62 850,-68 844,-68\"/>\n<text text-anchor=\"start\" x=\"744\" y=\"-52.8\" font-family=\"Helvetica,sans-Serif\" font-size=\"14.00\">entropy = 0.0</text>\n<text text-anchor=\"start\" x=\"730\" y=\"-37.8\" font-family=\"Helvetica,sans-Serif\" font-size=\"14.00\">samples = 13519</text>\n<text text-anchor=\"start\" x=\"729\" y=\"-22.8\" font-family=\"Helvetica,sans-Serif\" font-size=\"14.00\">value = [0, 13519]</text>\n<text text-anchor=\"start\" x=\"724\" y=\"-7.8\" font-family=\"Helvetica,sans-Serif\" font-size=\"14.00\">class = Fraudulento</text>\n</g>\n<!-- 16&#45;&gt;17 -->\n<g id=\"edge17\" class=\"edge\">\n<title>16&#45;&gt;17</title>\n<path fill=\"none\" stroke=\"black\" d=\"M838.09,-103.73C831.32,-94.79 824.14,-85.32 817.35,-76.36\"/>\n<polygon fill=\"black\" stroke=\"black\" points=\"820.07,-74.15 811.24,-68.3 814.49,-78.38 820.07,-74.15\"/>\n</g>\n<!-- 18 -->\n<g id=\"node19\" class=\"node\">\n<title>18</title>\n<path fill=\"#e58139\" stroke=\"black\" d=\"M1024,-68C1024,-68 886,-68 886,-68 880,-68 874,-62 874,-56 874,-56 874,-12 874,-12 874,-6 880,0 886,0 886,0 1024,0 1024,0 1030,0 1036,-6 1036,-12 1036,-12 1036,-56 1036,-56 1036,-62 1030,-68 1024,-68\"/>\n<text text-anchor=\"start\" x=\"913\" y=\"-52.8\" font-family=\"Helvetica,sans-Serif\" font-size=\"14.00\">entropy = 0.0</text>\n<text text-anchor=\"start\" x=\"903.5\" y=\"-37.8\" font-family=\"Helvetica,sans-Serif\" font-size=\"14.00\">samples = 1480</text>\n<text text-anchor=\"start\" x=\"902\" y=\"-22.8\" font-family=\"Helvetica,sans-Serif\" font-size=\"14.00\">value = [1480, 0]</text>\n<text text-anchor=\"start\" x=\"882\" y=\"-7.8\" font-family=\"Helvetica,sans-Serif\" font-size=\"14.00\">class = No Fraudulento</text>\n</g>\n<!-- 16&#45;&gt;18 -->\n<g id=\"edge18\" class=\"edge\">\n<title>16&#45;&gt;18</title>\n<path fill=\"none\" stroke=\"black\" d=\"M901.02,-103.73C908.04,-94.79 915.48,-85.32 922.52,-76.36\"/>\n<polygon fill=\"black\" stroke=\"black\" points=\"925.42,-78.33 928.85,-68.3 919.92,-74 925.42,-78.33\"/>\n</g>\n<!-- 20 -->\n<g id=\"node21\" class=\"node\">\n<title>20</title>\n<path fill=\"#e58139\" stroke=\"black\" d=\"M1204,-68C1204,-68 1066,-68 1066,-68 1060,-68 1054,-62 1054,-56 1054,-56 1054,-12 1054,-12 1054,-6 1060,0 1066,0 1066,0 1204,0 1204,0 1210,0 1216,-6 1216,-12 1216,-12 1216,-56 1216,-56 1216,-62 1210,-68 1204,-68\"/>\n<text text-anchor=\"start\" x=\"1093\" y=\"-52.8\" font-family=\"Helvetica,sans-Serif\" font-size=\"14.00\">entropy = 0.0</text>\n<text text-anchor=\"start\" x=\"1083.5\" y=\"-37.8\" font-family=\"Helvetica,sans-Serif\" font-size=\"14.00\">samples = 8002</text>\n<text text-anchor=\"start\" x=\"1082\" y=\"-22.8\" font-family=\"Helvetica,sans-Serif\" font-size=\"14.00\">value = [8002, 0]</text>\n<text text-anchor=\"start\" x=\"1062\" y=\"-7.8\" font-family=\"Helvetica,sans-Serif\" font-size=\"14.00\">class = No Fraudulento</text>\n</g>\n<!-- 19&#45;&gt;20 -->\n<g id=\"edge20\" class=\"edge\">\n<title>19&#45;&gt;20</title>\n<path fill=\"none\" stroke=\"black\" d=\"M1135,-103.73C1135,-95.52 1135,-86.86 1135,-78.56\"/>\n<polygon fill=\"black\" stroke=\"black\" points=\"1138.5,-78.3 1135,-68.3 1131.5,-78.3 1138.5,-78.3\"/>\n</g>\n<!-- 21 -->\n<g id=\"node22\" class=\"node\">\n<title>21</title>\n<path fill=\"#51a9e8\" stroke=\"black\" d=\"M1362,-68C1362,-68 1246,-68 1246,-68 1240,-68 1234,-62 1234,-56 1234,-56 1234,-12 1234,-12 1234,-6 1240,0 1246,0 1246,0 1362,0 1362,0 1368,0 1374,-6 1374,-12 1374,-12 1374,-56 1374,-56 1374,-62 1368,-68 1362,-68\"/>\n<text text-anchor=\"start\" x=\"1254\" y=\"-52.8\" font-family=\"Helvetica,sans-Serif\" font-size=\"14.00\">entropy = 0.498</text>\n<text text-anchor=\"start\" x=\"1256.5\" y=\"-37.8\" font-family=\"Helvetica,sans-Serif\" font-size=\"14.00\">samples = 128</text>\n<text text-anchor=\"start\" x=\"1251\" y=\"-22.8\" font-family=\"Helvetica,sans-Serif\" font-size=\"14.00\">value = [14, 114]</text>\n<text text-anchor=\"start\" x=\"1242\" y=\"-7.8\" font-family=\"Helvetica,sans-Serif\" font-size=\"14.00\">class = Fraudulento</text>\n</g>\n<!-- 19&#45;&gt;21 -->\n<g id=\"edge21\" class=\"edge\">\n<title>19&#45;&gt;21</title>\n<path fill=\"none\" stroke=\"black\" d=\"M1197.93,-103.73C1213.07,-93.92 1229.2,-83.46 1244.19,-73.75\"/>\n<polygon fill=\"black\" stroke=\"black\" points=\"1246.39,-76.5 1252.88,-68.13 1242.58,-70.63 1246.39,-76.5\"/>\n</g>\n<!-- 23 -->\n<g id=\"node24\" class=\"node\">\n<title>23</title>\n<path fill=\"#e99355\" stroke=\"black\" d=\"M2145,-425C2145,-425 1961,-425 1961,-425 1955,-425 1949,-419 1949,-413 1949,-413 1949,-354 1949,-354 1949,-348 1955,-342 1961,-342 1961,-342 2145,-342 2145,-342 2151,-342 2157,-348 2157,-354 2157,-354 2157,-413 2157,-413 2157,-419 2151,-425 2145,-425\"/>\n<text text-anchor=\"start\" x=\"1957\" y=\"-409.8\" font-family=\"Helvetica,sans-Serif\" font-size=\"14.00\">distance_from_home ≤ &#45;0.378</text>\n<text text-anchor=\"start\" x=\"2003\" y=\"-394.8\" font-family=\"Helvetica,sans-Serif\" font-size=\"14.00\">entropy = 0.539</text>\n<text text-anchor=\"start\" x=\"1997\" y=\"-379.8\" font-family=\"Helvetica,sans-Serif\" font-size=\"14.00\">samples = 28851</text>\n<text text-anchor=\"start\" x=\"1983.5\" y=\"-364.8\" font-family=\"Helvetica,sans-Serif\" font-size=\"14.00\">value = [25290, 3561]</text>\n<text text-anchor=\"start\" x=\"1980\" y=\"-349.8\" font-family=\"Helvetica,sans-Serif\" font-size=\"14.00\">class = No Fraudulento</text>\n</g>\n<!-- 22&#45;&gt;23 -->\n<g id=\"edge23\" class=\"edge\">\n<title>22&#45;&gt;23</title>\n<path fill=\"none\" stroke=\"black\" d=\"M2053,-460.91C2053,-452.65 2053,-443.86 2053,-435.3\"/>\n<polygon fill=\"black\" stroke=\"black\" points=\"2056.5,-435.02 2053,-425.02 2049.5,-435.02 2056.5,-435.02\"/>\n</g>\n<!-- 38 -->\n<g id=\"node39\" class=\"node\">\n<title>38</title>\n<path fill=\"#4ea7e8\" stroke=\"black\" d=\"M2626.5,-425C2626.5,-425 2467.5,-425 2467.5,-425 2461.5,-425 2455.5,-419 2455.5,-413 2455.5,-413 2455.5,-354 2455.5,-354 2455.5,-348 2461.5,-342 2467.5,-342 2467.5,-342 2626.5,-342 2626.5,-342 2632.5,-342 2638.5,-348 2638.5,-354 2638.5,-354 2638.5,-413 2638.5,-413 2638.5,-419 2632.5,-425 2626.5,-425\"/>\n<text text-anchor=\"start\" x=\"2463.5\" y=\"-409.8\" font-family=\"Helvetica,sans-Serif\" font-size=\"14.00\">used_pin_number ≤ 1.328</text>\n<text text-anchor=\"start\" x=\"2497\" y=\"-394.8\" font-family=\"Helvetica,sans-Serif\" font-size=\"14.00\">entropy = 0.458</text>\n<text text-anchor=\"start\" x=\"2491\" y=\"-379.8\" font-family=\"Helvetica,sans-Serif\" font-size=\"14.00\">samples = 53632</text>\n<text text-anchor=\"start\" x=\"2477.5\" y=\"-364.8\" font-family=\"Helvetica,sans-Serif\" font-size=\"14.00\">value = [5187, 48445]</text>\n<text text-anchor=\"start\" x=\"2485\" y=\"-349.8\" font-family=\"Helvetica,sans-Serif\" font-size=\"14.00\">class = Fraudulento</text>\n</g>\n<!-- 22&#45;&gt;38 -->\n<g id=\"edge38\" class=\"edge\">\n<title>22&#45;&gt;38</title>\n<path fill=\"none\" stroke=\"black\" d=\"M2134.57,-482.18C2219.71,-462.02 2353.38,-430.36 2445.34,-408.58\"/>\n<polygon fill=\"black\" stroke=\"black\" points=\"2446.3,-411.95 2455.22,-406.24 2444.68,-405.14 2446.3,-411.95\"/>\n</g>\n<!-- 24 -->\n<g id=\"node25\" class=\"node\">\n<title>24</title>\n<path fill=\"#c7e3f8\" stroke=\"black\" d=\"M1972,-306C1972,-306 1850,-306 1850,-306 1844,-306 1838,-300 1838,-294 1838,-294 1838,-235 1838,-235 1838,-229 1844,-223 1850,-223 1850,-223 1972,-223 1972,-223 1978,-223 1984,-229 1984,-235 1984,-235 1984,-294 1984,-294 1984,-300 1978,-306 1972,-306\"/>\n<text text-anchor=\"start\" x=\"1852\" y=\"-290.8\" font-family=\"Helvetica,sans-Serif\" font-size=\"14.00\">used_chip ≤ 0.314</text>\n<text text-anchor=\"start\" x=\"1865\" y=\"-275.8\" font-family=\"Helvetica,sans-Serif\" font-size=\"14.00\">entropy = 0.98</text>\n<text text-anchor=\"start\" x=\"1859.5\" y=\"-260.8\" font-family=\"Helvetica,sans-Serif\" font-size=\"14.00\">samples = 3375</text>\n<text text-anchor=\"start\" x=\"1846\" y=\"-245.8\" font-family=\"Helvetica,sans-Serif\" font-size=\"14.00\">value = [1409, 1966]</text>\n<text text-anchor=\"start\" x=\"1849\" y=\"-230.8\" font-family=\"Helvetica,sans-Serif\" font-size=\"14.00\">class = Fraudulento</text>\n</g>\n<!-- 23&#45;&gt;24 -->\n<g id=\"edge24\" class=\"edge\">\n<title>23&#45;&gt;24</title>\n<path fill=\"none\" stroke=\"black\" d=\"M2003.73,-341.91C1992.28,-332.47 1979.99,-322.34 1968.22,-312.65\"/>\n<polygon fill=\"black\" stroke=\"black\" points=\"1970.12,-309.68 1960.18,-306.02 1965.67,-315.08 1970.12,-309.68\"/>\n</g>\n<!-- 31 -->\n<g id=\"node32\" class=\"node\">\n<title>31</title>\n<path fill=\"#e78946\" stroke=\"black\" d=\"M2303.5,-306C2303.5,-306 2124.5,-306 2124.5,-306 2118.5,-306 2112.5,-300 2112.5,-294 2112.5,-294 2112.5,-235 2112.5,-235 2112.5,-229 2118.5,-223 2124.5,-223 2124.5,-223 2303.5,-223 2303.5,-223 2309.5,-223 2315.5,-229 2315.5,-235 2315.5,-235 2315.5,-294 2315.5,-294 2315.5,-300 2309.5,-306 2303.5,-306\"/>\n<text text-anchor=\"start\" x=\"2120.5\" y=\"-290.8\" font-family=\"Helvetica,sans-Serif\" font-size=\"14.00\">distance_from_home ≤ 1.123</text>\n<text text-anchor=\"start\" x=\"2164\" y=\"-275.8\" font-family=\"Helvetica,sans-Serif\" font-size=\"14.00\">entropy = 0.338</text>\n<text text-anchor=\"start\" x=\"2158\" y=\"-260.8\" font-family=\"Helvetica,sans-Serif\" font-size=\"14.00\">samples = 25476</text>\n<text text-anchor=\"start\" x=\"2144.5\" y=\"-245.8\" font-family=\"Helvetica,sans-Serif\" font-size=\"14.00\">value = [23881, 1595]</text>\n<text text-anchor=\"start\" x=\"2141\" y=\"-230.8\" font-family=\"Helvetica,sans-Serif\" font-size=\"14.00\">class = No Fraudulento</text>\n</g>\n<!-- 23&#45;&gt;31 -->\n<g id=\"edge31\" class=\"edge\">\n<title>23&#45;&gt;31</title>\n<path fill=\"none\" stroke=\"black\" d=\"M2108.86,-341.91C2122.1,-332.29 2136.32,-321.95 2149.89,-312.09\"/>\n<polygon fill=\"black\" stroke=\"black\" points=\"2152.21,-314.73 2158.24,-306.02 2148.09,-309.07 2152.21,-314.73\"/>\n</g>\n<!-- 25 -->\n<g id=\"node26\" class=\"node\">\n<title>25</title>\n<path fill=\"#50a8e8\" stroke=\"black\" d=\"M1710.5,-187C1710.5,-187 1551.5,-187 1551.5,-187 1545.5,-187 1539.5,-181 1539.5,-175 1539.5,-175 1539.5,-116 1539.5,-116 1539.5,-110 1545.5,-104 1551.5,-104 1551.5,-104 1710.5,-104 1710.5,-104 1716.5,-104 1722.5,-110 1722.5,-116 1722.5,-116 1722.5,-175 1722.5,-175 1722.5,-181 1716.5,-187 1710.5,-187\"/>\n<text text-anchor=\"start\" x=\"1547.5\" y=\"-171.8\" font-family=\"Helvetica,sans-Serif\" font-size=\"14.00\">used_pin_number ≤ 1.328</text>\n<text text-anchor=\"start\" x=\"1581\" y=\"-156.8\" font-family=\"Helvetica,sans-Serif\" font-size=\"14.00\">entropy = 0.477</text>\n<text text-anchor=\"start\" x=\"1579.5\" y=\"-141.8\" font-family=\"Helvetica,sans-Serif\" font-size=\"14.00\">samples = 2177</text>\n<text text-anchor=\"start\" x=\"1570\" y=\"-126.8\" font-family=\"Helvetica,sans-Serif\" font-size=\"14.00\">value = [223, 1954]</text>\n<text text-anchor=\"start\" x=\"1569\" y=\"-111.8\" font-family=\"Helvetica,sans-Serif\" font-size=\"14.00\">class = Fraudulento</text>\n</g>\n<!-- 24&#45;&gt;25 -->\n<g id=\"edge25\" class=\"edge\">\n<title>24&#45;&gt;25</title>\n<path fill=\"none\" stroke=\"black\" d=\"M1837.8,-232.91C1805.45,-219.39 1766.88,-203.28 1731.86,-188.65\"/>\n<polygon fill=\"black\" stroke=\"black\" points=\"1733.15,-185.39 1722.57,-184.76 1730.45,-191.85 1733.15,-185.39\"/>\n</g>\n<!-- 28 -->\n<g id=\"node29\" class=\"node\">\n<title>28</title>\n<path fill=\"#e5823b\" stroke=\"black\" d=\"M2032,-187C2032,-187 1790,-187 1790,-187 1784,-187 1778,-181 1778,-175 1778,-175 1778,-116 1778,-116 1778,-110 1784,-104 1790,-104 1790,-104 2032,-104 2032,-104 2038,-104 2044,-110 2044,-116 2044,-116 2044,-175 2044,-175 2044,-181 2038,-187 2032,-187\"/>\n<text text-anchor=\"start\" x=\"1786\" y=\"-171.8\" font-family=\"Helvetica,sans-Serif\" font-size=\"14.00\">distance_from_last_transaction ≤ 1.758</text>\n<text text-anchor=\"start\" x=\"1861\" y=\"-156.8\" font-family=\"Helvetica,sans-Serif\" font-size=\"14.00\">entropy = 0.081</text>\n<text text-anchor=\"start\" x=\"1859.5\" y=\"-141.8\" font-family=\"Helvetica,sans-Serif\" font-size=\"14.00\">samples = 1198</text>\n<text text-anchor=\"start\" x=\"1854\" y=\"-126.8\" font-family=\"Helvetica,sans-Serif\" font-size=\"14.00\">value = [1186, 12]</text>\n<text text-anchor=\"start\" x=\"1838\" y=\"-111.8\" font-family=\"Helvetica,sans-Serif\" font-size=\"14.00\">class = No Fraudulento</text>\n</g>\n<!-- 24&#45;&gt;28 -->\n<g id=\"edge28\" class=\"edge\">\n<title>24&#45;&gt;28</title>\n<path fill=\"none\" stroke=\"black\" d=\"M1911,-222.91C1911,-214.65 1911,-205.86 1911,-197.3\"/>\n<polygon fill=\"black\" stroke=\"black\" points=\"1914.5,-197.02 1911,-187.02 1907.5,-197.02 1914.5,-197.02\"/>\n</g>\n<!-- 26 -->\n<g id=\"node27\" class=\"node\">\n<title>26</title>\n<path fill=\"#399de5\" stroke=\"black\" d=\"M1520,-68C1520,-68 1404,-68 1404,-68 1398,-68 1392,-62 1392,-56 1392,-56 1392,-12 1392,-12 1392,-6 1398,0 1404,0 1404,0 1520,0 1520,0 1526,0 1532,-6 1532,-12 1532,-12 1532,-56 1532,-56 1532,-62 1526,-68 1520,-68\"/>\n<text text-anchor=\"start\" x=\"1420\" y=\"-52.8\" font-family=\"Helvetica,sans-Serif\" font-size=\"14.00\">entropy = 0.0</text>\n<text text-anchor=\"start\" x=\"1410.5\" y=\"-37.8\" font-family=\"Helvetica,sans-Serif\" font-size=\"14.00\">samples = 1954</text>\n<text text-anchor=\"start\" x=\"1409\" y=\"-22.8\" font-family=\"Helvetica,sans-Serif\" font-size=\"14.00\">value = [0, 1954]</text>\n<text text-anchor=\"start\" x=\"1400\" y=\"-7.8\" font-family=\"Helvetica,sans-Serif\" font-size=\"14.00\">class = Fraudulento</text>\n</g>\n<!-- 25&#45;&gt;26 -->\n<g id=\"edge26\" class=\"edge\">\n<title>25&#45;&gt;26</title>\n<path fill=\"none\" stroke=\"black\" d=\"M1568.07,-103.73C1552.93,-93.92 1536.8,-83.46 1521.81,-73.75\"/>\n<polygon fill=\"black\" stroke=\"black\" points=\"1523.42,-70.63 1513.12,-68.13 1519.61,-76.5 1523.42,-70.63\"/>\n</g>\n<!-- 27 -->\n<g id=\"node28\" class=\"node\">\n<title>27</title>\n<path fill=\"#e58139\" stroke=\"black\" d=\"M1700,-68C1700,-68 1562,-68 1562,-68 1556,-68 1550,-62 1550,-56 1550,-56 1550,-12 1550,-12 1550,-6 1556,0 1562,0 1562,0 1700,0 1700,0 1706,0 1712,-6 1712,-12 1712,-12 1712,-56 1712,-56 1712,-62 1706,-68 1700,-68\"/>\n<text text-anchor=\"start\" x=\"1589\" y=\"-52.8\" font-family=\"Helvetica,sans-Serif\" font-size=\"14.00\">entropy = 0.0</text>\n<text text-anchor=\"start\" x=\"1583.5\" y=\"-37.8\" font-family=\"Helvetica,sans-Serif\" font-size=\"14.00\">samples = 223</text>\n<text text-anchor=\"start\" x=\"1582.5\" y=\"-22.8\" font-family=\"Helvetica,sans-Serif\" font-size=\"14.00\">value = [223, 0]</text>\n<text text-anchor=\"start\" x=\"1558\" y=\"-7.8\" font-family=\"Helvetica,sans-Serif\" font-size=\"14.00\">class = No Fraudulento</text>\n</g>\n<!-- 25&#45;&gt;27 -->\n<g id=\"edge27\" class=\"edge\">\n<title>25&#45;&gt;27</title>\n<path fill=\"none\" stroke=\"black\" d=\"M1631,-103.73C1631,-95.52 1631,-86.86 1631,-78.56\"/>\n<polygon fill=\"black\" stroke=\"black\" points=\"1634.5,-78.3 1631,-68.3 1627.5,-78.3 1634.5,-78.3\"/>\n</g>\n<!-- 29 -->\n<g id=\"node30\" class=\"node\">\n<title>29</title>\n<path fill=\"#e58139\" stroke=\"black\" d=\"M1880,-68C1880,-68 1742,-68 1742,-68 1736,-68 1730,-62 1730,-56 1730,-56 1730,-12 1730,-12 1730,-6 1736,0 1742,0 1742,0 1880,0 1880,0 1886,0 1892,-6 1892,-12 1892,-12 1892,-56 1892,-56 1892,-62 1886,-68 1880,-68\"/>\n<text text-anchor=\"start\" x=\"1769\" y=\"-52.8\" font-family=\"Helvetica,sans-Serif\" font-size=\"14.00\">entropy = 0.0</text>\n<text text-anchor=\"start\" x=\"1759.5\" y=\"-37.8\" font-family=\"Helvetica,sans-Serif\" font-size=\"14.00\">samples = 1183</text>\n<text text-anchor=\"start\" x=\"1758\" y=\"-22.8\" font-family=\"Helvetica,sans-Serif\" font-size=\"14.00\">value = [1183, 0]</text>\n<text text-anchor=\"start\" x=\"1738\" y=\"-7.8\" font-family=\"Helvetica,sans-Serif\" font-size=\"14.00\">class = No Fraudulento</text>\n</g>\n<!-- 28&#45;&gt;29 -->\n<g id=\"edge29\" class=\"edge\">\n<title>28&#45;&gt;29</title>\n<path fill=\"none\" stroke=\"black\" d=\"M1873.76,-103.73C1865.43,-94.61 1856.6,-84.93 1848.27,-75.81\"/>\n<polygon fill=\"black\" stroke=\"black\" points=\"1850.74,-73.32 1841.41,-68.3 1845.57,-78.04 1850.74,-73.32\"/>\n</g>\n<!-- 30 -->\n<g id=\"node31\" class=\"node\">\n<title>30</title>\n<path fill=\"#6ab6ec\" stroke=\"black\" d=\"M2038,-68C2038,-68 1922,-68 1922,-68 1916,-68 1910,-62 1910,-56 1910,-56 1910,-12 1910,-12 1910,-6 1916,0 1922,0 1922,0 2038,0 2038,0 2044,0 2050,-6 2050,-12 2050,-12 2050,-56 2050,-56 2050,-62 2044,-68 2038,-68\"/>\n<text text-anchor=\"start\" x=\"1930\" y=\"-52.8\" font-family=\"Helvetica,sans-Serif\" font-size=\"14.00\">entropy = 0.722</text>\n<text text-anchor=\"start\" x=\"1936.5\" y=\"-37.8\" font-family=\"Helvetica,sans-Serif\" font-size=\"14.00\">samples = 15</text>\n<text text-anchor=\"start\" x=\"1935.5\" y=\"-22.8\" font-family=\"Helvetica,sans-Serif\" font-size=\"14.00\">value = [3, 12]</text>\n<text text-anchor=\"start\" x=\"1918\" y=\"-7.8\" font-family=\"Helvetica,sans-Serif\" font-size=\"14.00\">class = Fraudulento</text>\n</g>\n<!-- 28&#45;&gt;30 -->\n<g id=\"edge30\" class=\"edge\">\n<title>28&#45;&gt;30</title>\n<path fill=\"none\" stroke=\"black\" d=\"M1936.69,-103.73C1942.21,-94.97 1948.05,-85.7 1953.59,-76.91\"/>\n<polygon fill=\"black\" stroke=\"black\" points=\"1956.65,-78.63 1959.02,-68.3 1950.72,-74.89 1956.65,-78.63\"/>\n</g>\n<!-- 32 -->\n<g id=\"node33\" class=\"node\">\n<title>32</title>\n<path fill=\"#e5833c\" stroke=\"black\" d=\"M2335,-187C2335,-187 2093,-187 2093,-187 2087,-187 2081,-181 2081,-175 2081,-175 2081,-116 2081,-116 2081,-110 2087,-104 2093,-104 2093,-104 2335,-104 2335,-104 2341,-104 2347,-110 2347,-116 2347,-116 2347,-175 2347,-175 2347,-181 2341,-187 2335,-187\"/>\n<text text-anchor=\"start\" x=\"2089\" y=\"-171.8\" font-family=\"Helvetica,sans-Serif\" font-size=\"14.00\">distance_from_last_transaction ≤ 1.739</text>\n<text text-anchor=\"start\" x=\"2164\" y=\"-156.8\" font-family=\"Helvetica,sans-Serif\" font-size=\"14.00\">entropy = 0.103</text>\n<text text-anchor=\"start\" x=\"2158\" y=\"-141.8\" font-family=\"Helvetica,sans-Serif\" font-size=\"14.00\">samples = 24065</text>\n<text text-anchor=\"start\" x=\"2149\" y=\"-126.8\" font-family=\"Helvetica,sans-Serif\" font-size=\"14.00\">value = [23740, 325]</text>\n<text text-anchor=\"start\" x=\"2141\" y=\"-111.8\" font-family=\"Helvetica,sans-Serif\" font-size=\"14.00\">class = No Fraudulento</text>\n</g>\n<!-- 31&#45;&gt;32 -->\n<g id=\"edge32\" class=\"edge\">\n<title>31&#45;&gt;32</title>\n<path fill=\"none\" stroke=\"black\" d=\"M2214,-222.91C2214,-214.65 2214,-205.86 2214,-197.3\"/>\n<polygon fill=\"black\" stroke=\"black\" points=\"2217.5,-197.02 2214,-187.02 2210.5,-197.02 2217.5,-197.02\"/>\n</g>\n<!-- 35 -->\n<g id=\"node36\" class=\"node\">\n<title>35</title>\n<path fill=\"#4fa8e8\" stroke=\"black\" d=\"M2555.5,-187C2555.5,-187 2396.5,-187 2396.5,-187 2390.5,-187 2384.5,-181 2384.5,-175 2384.5,-175 2384.5,-116 2384.5,-116 2384.5,-110 2390.5,-104 2396.5,-104 2396.5,-104 2555.5,-104 2555.5,-104 2561.5,-104 2567.5,-110 2567.5,-116 2567.5,-116 2567.5,-175 2567.5,-175 2567.5,-181 2561.5,-187 2555.5,-187\"/>\n<text text-anchor=\"start\" x=\"2392.5\" y=\"-171.8\" font-family=\"Helvetica,sans-Serif\" font-size=\"14.00\">used_pin_number ≤ 1.328</text>\n<text text-anchor=\"start\" x=\"2426\" y=\"-156.8\" font-family=\"Helvetica,sans-Serif\" font-size=\"14.00\">entropy = 0.469</text>\n<text text-anchor=\"start\" x=\"2424.5\" y=\"-141.8\" font-family=\"Helvetica,sans-Serif\" font-size=\"14.00\">samples = 1411</text>\n<text text-anchor=\"start\" x=\"2415\" y=\"-126.8\" font-family=\"Helvetica,sans-Serif\" font-size=\"14.00\">value = [141, 1270]</text>\n<text text-anchor=\"start\" x=\"2414\" y=\"-111.8\" font-family=\"Helvetica,sans-Serif\" font-size=\"14.00\">class = Fraudulento</text>\n</g>\n<!-- 31&#45;&gt;35 -->\n<g id=\"edge35\" class=\"edge\">\n<title>31&#45;&gt;35</title>\n<path fill=\"none\" stroke=\"black\" d=\"M2304.9,-222.91C2327.86,-212.65 2352.65,-201.59 2376.03,-191.14\"/>\n<polygon fill=\"black\" stroke=\"black\" points=\"2377.56,-194.29 2385.26,-187.02 2374.7,-187.9 2377.56,-194.29\"/>\n</g>\n<!-- 33 -->\n<g id=\"node34\" class=\"node\">\n<title>33</title>\n<path fill=\"#e58139\" stroke=\"black\" d=\"M2218,-68C2218,-68 2080,-68 2080,-68 2074,-68 2068,-62 2068,-56 2068,-56 2068,-12 2068,-12 2068,-6 2074,0 2080,0 2080,0 2218,0 2218,0 2224,0 2230,-6 2230,-12 2230,-12 2230,-56 2230,-56 2230,-62 2224,-68 2218,-68\"/>\n<text text-anchor=\"start\" x=\"2107\" y=\"-52.8\" font-family=\"Helvetica,sans-Serif\" font-size=\"14.00\">entropy = 0.0</text>\n<text text-anchor=\"start\" x=\"2093\" y=\"-37.8\" font-family=\"Helvetica,sans-Serif\" font-size=\"14.00\">samples = 23710</text>\n<text text-anchor=\"start\" x=\"2092\" y=\"-22.8\" font-family=\"Helvetica,sans-Serif\" font-size=\"14.00\">value = [23710, 0]</text>\n<text text-anchor=\"start\" x=\"2076\" y=\"-7.8\" font-family=\"Helvetica,sans-Serif\" font-size=\"14.00\">class = No Fraudulento</text>\n</g>\n<!-- 32&#45;&gt;33 -->\n<g id=\"edge33\" class=\"edge\">\n<title>32&#45;&gt;33</title>\n<path fill=\"none\" stroke=\"black\" d=\"M2189.8,-103.73C2184.6,-94.97 2179.1,-85.7 2173.88,-76.91\"/>\n<polygon fill=\"black\" stroke=\"black\" points=\"2176.88,-75.11 2168.77,-68.3 2170.86,-78.69 2176.88,-75.11\"/>\n</g>\n<!-- 34 -->\n<g id=\"node35\" class=\"node\">\n<title>34</title>\n<path fill=\"#4ba6e7\" stroke=\"black\" d=\"M2376,-68C2376,-68 2260,-68 2260,-68 2254,-68 2248,-62 2248,-56 2248,-56 2248,-12 2248,-12 2248,-6 2254,0 2260,0 2260,0 2376,0 2376,0 2382,0 2388,-6 2388,-12 2388,-12 2388,-56 2388,-56 2388,-62 2382,-68 2376,-68\"/>\n<text text-anchor=\"start\" x=\"2268\" y=\"-52.8\" font-family=\"Helvetica,sans-Serif\" font-size=\"14.00\">entropy = 0.418</text>\n<text text-anchor=\"start\" x=\"2270.5\" y=\"-37.8\" font-family=\"Helvetica,sans-Serif\" font-size=\"14.00\">samples = 355</text>\n<text text-anchor=\"start\" x=\"2265\" y=\"-22.8\" font-family=\"Helvetica,sans-Serif\" font-size=\"14.00\">value = [30, 325]</text>\n<text text-anchor=\"start\" x=\"2256\" y=\"-7.8\" font-family=\"Helvetica,sans-Serif\" font-size=\"14.00\">class = Fraudulento</text>\n</g>\n<!-- 32&#45;&gt;34 -->\n<g id=\"edge34\" class=\"edge\">\n<title>32&#45;&gt;34</title>\n<path fill=\"none\" stroke=\"black\" d=\"M2252.73,-103.73C2261.39,-94.61 2270.58,-84.93 2279.24,-75.81\"/>\n<polygon fill=\"black\" stroke=\"black\" points=\"2282.02,-77.96 2286.37,-68.3 2276.95,-73.14 2282.02,-77.96\"/>\n</g>\n<!-- 36 -->\n<g id=\"node37\" class=\"node\">\n<title>36</title>\n<path fill=\"#399de5\" stroke=\"black\" d=\"M2534,-68C2534,-68 2418,-68 2418,-68 2412,-68 2406,-62 2406,-56 2406,-56 2406,-12 2406,-12 2406,-6 2412,0 2418,0 2418,0 2534,0 2534,0 2540,0 2546,-6 2546,-12 2546,-12 2546,-56 2546,-56 2546,-62 2540,-68 2534,-68\"/>\n<text text-anchor=\"start\" x=\"2434\" y=\"-52.8\" font-family=\"Helvetica,sans-Serif\" font-size=\"14.00\">entropy = 0.0</text>\n<text text-anchor=\"start\" x=\"2424.5\" y=\"-37.8\" font-family=\"Helvetica,sans-Serif\" font-size=\"14.00\">samples = 1269</text>\n<text text-anchor=\"start\" x=\"2423\" y=\"-22.8\" font-family=\"Helvetica,sans-Serif\" font-size=\"14.00\">value = [0, 1269]</text>\n<text text-anchor=\"start\" x=\"2414\" y=\"-7.8\" font-family=\"Helvetica,sans-Serif\" font-size=\"14.00\">class = Fraudulento</text>\n</g>\n<!-- 35&#45;&gt;36 -->\n<g id=\"edge36\" class=\"edge\">\n<title>35&#45;&gt;36</title>\n<path fill=\"none\" stroke=\"black\" d=\"M2476,-103.73C2476,-95.52 2476,-86.86 2476,-78.56\"/>\n<polygon fill=\"black\" stroke=\"black\" points=\"2479.5,-78.3 2476,-68.3 2472.5,-78.3 2479.5,-78.3\"/>\n</g>\n<!-- 37 -->\n<g id=\"node38\" class=\"node\">\n<title>37</title>\n<path fill=\"#e5823a\" stroke=\"black\" d=\"M2714,-68C2714,-68 2576,-68 2576,-68 2570,-68 2564,-62 2564,-56 2564,-56 2564,-12 2564,-12 2564,-6 2570,0 2576,0 2576,0 2714,0 2714,0 2720,0 2726,-6 2726,-12 2726,-12 2726,-56 2726,-56 2726,-62 2720,-68 2714,-68\"/>\n<text text-anchor=\"start\" x=\"2599\" y=\"-52.8\" font-family=\"Helvetica,sans-Serif\" font-size=\"14.00\">entropy = 0.06</text>\n<text text-anchor=\"start\" x=\"2597.5\" y=\"-37.8\" font-family=\"Helvetica,sans-Serif\" font-size=\"14.00\">samples = 142</text>\n<text text-anchor=\"start\" x=\"2596.5\" y=\"-22.8\" font-family=\"Helvetica,sans-Serif\" font-size=\"14.00\">value = [141, 1]</text>\n<text text-anchor=\"start\" x=\"2572\" y=\"-7.8\" font-family=\"Helvetica,sans-Serif\" font-size=\"14.00\">class = No Fraudulento</text>\n</g>\n<!-- 35&#45;&gt;37 -->\n<g id=\"edge37\" class=\"edge\">\n<title>35&#45;&gt;37</title>\n<path fill=\"none\" stroke=\"black\" d=\"M2538.93,-103.73C2554.07,-93.92 2570.2,-83.46 2585.19,-73.75\"/>\n<polygon fill=\"black\" stroke=\"black\" points=\"2587.39,-76.5 2593.88,-68.13 2583.58,-70.63 2587.39,-76.5\"/>\n</g>\n<!-- 39 -->\n<g id=\"node40\" class=\"node\">\n<title>39</title>\n<path fill=\"#399de5\" stroke=\"black\" d=\"M2605,-298.5C2605,-298.5 2489,-298.5 2489,-298.5 2483,-298.5 2477,-292.5 2477,-286.5 2477,-286.5 2477,-242.5 2477,-242.5 2477,-236.5 2483,-230.5 2489,-230.5 2489,-230.5 2605,-230.5 2605,-230.5 2611,-230.5 2617,-236.5 2617,-242.5 2617,-242.5 2617,-286.5 2617,-286.5 2617,-292.5 2611,-298.5 2605,-298.5\"/>\n<text text-anchor=\"start\" x=\"2505\" y=\"-283.3\" font-family=\"Helvetica,sans-Serif\" font-size=\"14.00\">entropy = 0.0</text>\n<text text-anchor=\"start\" x=\"2491\" y=\"-268.3\" font-family=\"Helvetica,sans-Serif\" font-size=\"14.00\">samples = 48228</text>\n<text text-anchor=\"start\" x=\"2490\" y=\"-253.3\" font-family=\"Helvetica,sans-Serif\" font-size=\"14.00\">value = [0, 48228]</text>\n<text text-anchor=\"start\" x=\"2485\" y=\"-238.3\" font-family=\"Helvetica,sans-Serif\" font-size=\"14.00\">class = Fraudulento</text>\n</g>\n<!-- 38&#45;&gt;39 -->\n<g id=\"edge39\" class=\"edge\">\n<title>38&#45;&gt;39</title>\n<path fill=\"none\" stroke=\"black\" d=\"M2547,-341.91C2547,-331.2 2547,-319.62 2547,-308.78\"/>\n<polygon fill=\"black\" stroke=\"black\" points=\"2550.5,-308.67 2547,-298.67 2543.5,-308.67 2550.5,-308.67\"/>\n</g>\n<!-- 40 -->\n<g id=\"node41\" class=\"node\">\n<title>40</title>\n<path fill=\"#e68641\" stroke=\"black\" d=\"M2967.5,-306C2967.5,-306 2788.5,-306 2788.5,-306 2782.5,-306 2776.5,-300 2776.5,-294 2776.5,-294 2776.5,-235 2776.5,-235 2776.5,-229 2782.5,-223 2788.5,-223 2788.5,-223 2967.5,-223 2967.5,-223 2973.5,-223 2979.5,-229 2979.5,-235 2979.5,-235 2979.5,-294 2979.5,-294 2979.5,-300 2973.5,-306 2967.5,-306\"/>\n<text text-anchor=\"start\" x=\"2784.5\" y=\"-290.8\" font-family=\"Helvetica,sans-Serif\" font-size=\"14.00\">distance_from_home ≤ 1.127</text>\n<text text-anchor=\"start\" x=\"2828\" y=\"-275.8\" font-family=\"Helvetica,sans-Serif\" font-size=\"14.00\">entropy = 0.243</text>\n<text text-anchor=\"start\" x=\"2826.5\" y=\"-260.8\" font-family=\"Helvetica,sans-Serif\" font-size=\"14.00\">samples = 5404</text>\n<text text-anchor=\"start\" x=\"2817\" y=\"-245.8\" font-family=\"Helvetica,sans-Serif\" font-size=\"14.00\">value = [5187, 217]</text>\n<text text-anchor=\"start\" x=\"2805\" y=\"-230.8\" font-family=\"Helvetica,sans-Serif\" font-size=\"14.00\">class = No Fraudulento</text>\n</g>\n<!-- 38&#45;&gt;40 -->\n<g id=\"edge40\" class=\"edge\">\n<title>38&#45;&gt;40</title>\n<path fill=\"none\" stroke=\"black\" d=\"M2638.76,-350.06C2678.43,-336.04 2725.21,-319.51 2766.83,-304.8\"/>\n<polygon fill=\"black\" stroke=\"black\" points=\"2768.19,-308.03 2776.46,-301.39 2765.86,-301.43 2768.19,-308.03\"/>\n</g>\n<!-- 41 -->\n<g id=\"node42\" class=\"node\">\n<title>41</title>\n<path fill=\"#e5823b\" stroke=\"black\" d=\"M2999,-187C2999,-187 2757,-187 2757,-187 2751,-187 2745,-181 2745,-175 2745,-175 2745,-116 2745,-116 2745,-110 2751,-104 2757,-104 2757,-104 2999,-104 2999,-104 3005,-104 3011,-110 3011,-116 3011,-116 3011,-175 3011,-175 3011,-181 3005,-187 2999,-187\"/>\n<text text-anchor=\"start\" x=\"2753\" y=\"-171.8\" font-family=\"Helvetica,sans-Serif\" font-size=\"14.00\">distance_from_last_transaction ≤ 1.745</text>\n<text text-anchor=\"start\" x=\"2828\" y=\"-156.8\" font-family=\"Helvetica,sans-Serif\" font-size=\"14.00\">entropy = 0.092</text>\n<text text-anchor=\"start\" x=\"2826.5\" y=\"-141.8\" font-family=\"Helvetica,sans-Serif\" font-size=\"14.00\">samples = 5149</text>\n<text text-anchor=\"start\" x=\"2821\" y=\"-126.8\" font-family=\"Helvetica,sans-Serif\" font-size=\"14.00\">value = [5089, 60]</text>\n<text text-anchor=\"start\" x=\"2805\" y=\"-111.8\" font-family=\"Helvetica,sans-Serif\" font-size=\"14.00\">class = No Fraudulento</text>\n</g>\n<!-- 40&#45;&gt;41 -->\n<g id=\"edge41\" class=\"edge\">\n<title>40&#45;&gt;41</title>\n<path fill=\"none\" stroke=\"black\" d=\"M2878,-222.91C2878,-214.65 2878,-205.86 2878,-197.3\"/>\n<polygon fill=\"black\" stroke=\"black\" points=\"2881.5,-197.02 2878,-187.02 2874.5,-197.02 2881.5,-197.02\"/>\n</g>\n<!-- 44 -->\n<g id=\"node45\" class=\"node\">\n<title>44</title>\n<path fill=\"#b5daf5\" stroke=\"black\" d=\"M3210,-187C3210,-187 3094,-187 3094,-187 3088,-187 3082,-181 3082,-175 3082,-175 3082,-116 3082,-116 3082,-110 3088,-104 3094,-104 3094,-104 3210,-104 3210,-104 3216,-104 3222,-110 3222,-116 3222,-116 3222,-175 3222,-175 3222,-181 3216,-187 3210,-187\"/>\n<text text-anchor=\"start\" x=\"3093\" y=\"-171.8\" font-family=\"Helvetica,sans-Serif\" font-size=\"14.00\">used_chip ≤ 0.314</text>\n<text text-anchor=\"start\" x=\"3102\" y=\"-156.8\" font-family=\"Helvetica,sans-Serif\" font-size=\"14.00\">entropy = 0.961</text>\n<text text-anchor=\"start\" x=\"3104.5\" y=\"-141.8\" font-family=\"Helvetica,sans-Serif\" font-size=\"14.00\">samples = 255</text>\n<text text-anchor=\"start\" x=\"3099\" y=\"-126.8\" font-family=\"Helvetica,sans-Serif\" font-size=\"14.00\">value = [98, 157]</text>\n<text text-anchor=\"start\" x=\"3090\" y=\"-111.8\" font-family=\"Helvetica,sans-Serif\" font-size=\"14.00\">class = Fraudulento</text>\n</g>\n<!-- 40&#45;&gt;44 -->\n<g id=\"edge44\" class=\"edge\">\n<title>40&#45;&gt;44</title>\n<path fill=\"none\" stroke=\"black\" d=\"M2973.06,-222.91C3005.42,-209.09 3041.23,-193.8 3072.26,-180.55\"/>\n<polygon fill=\"black\" stroke=\"black\" points=\"3073.91,-183.65 3081.73,-176.51 3071.16,-177.21 3073.91,-183.65\"/>\n</g>\n<!-- 42 -->\n<g id=\"node43\" class=\"node\">\n<title>42</title>\n<path fill=\"#e58139\" stroke=\"black\" d=\"M2894,-68C2894,-68 2756,-68 2756,-68 2750,-68 2744,-62 2744,-56 2744,-56 2744,-12 2744,-12 2744,-6 2750,0 2756,0 2756,0 2894,0 2894,0 2900,0 2906,-6 2906,-12 2906,-12 2906,-56 2906,-56 2906,-62 2900,-68 2894,-68\"/>\n<text text-anchor=\"start\" x=\"2783\" y=\"-52.8\" font-family=\"Helvetica,sans-Serif\" font-size=\"14.00\">entropy = 0.0</text>\n<text text-anchor=\"start\" x=\"2773.5\" y=\"-37.8\" font-family=\"Helvetica,sans-Serif\" font-size=\"14.00\">samples = 5065</text>\n<text text-anchor=\"start\" x=\"2772\" y=\"-22.8\" font-family=\"Helvetica,sans-Serif\" font-size=\"14.00\">value = [5065, 0]</text>\n<text text-anchor=\"start\" x=\"2752\" y=\"-7.8\" font-family=\"Helvetica,sans-Serif\" font-size=\"14.00\">class = No Fraudulento</text>\n</g>\n<!-- 41&#45;&gt;42 -->\n<g id=\"edge42\" class=\"edge\">\n<title>41&#45;&gt;42</title>\n<path fill=\"none\" stroke=\"black\" d=\"M2858.26,-103.73C2854.11,-95.15 2849.73,-86.09 2845.55,-77.46\"/>\n<polygon fill=\"black\" stroke=\"black\" points=\"2848.62,-75.78 2841.12,-68.3 2842.32,-78.83 2848.62,-75.78\"/>\n</g>\n<!-- 43 -->\n<g id=\"node44\" class=\"node\">\n<title>43</title>\n<path fill=\"#88c4ef\" stroke=\"black\" d=\"M3052,-68C3052,-68 2936,-68 2936,-68 2930,-68 2924,-62 2924,-56 2924,-56 2924,-12 2924,-12 2924,-6 2930,0 2936,0 2936,0 3052,0 3052,0 3058,0 3064,-6 3064,-12 3064,-12 3064,-56 3064,-56 3064,-62 3058,-68 3052,-68\"/>\n<text text-anchor=\"start\" x=\"2944\" y=\"-52.8\" font-family=\"Helvetica,sans-Serif\" font-size=\"14.00\">entropy = 0.863</text>\n<text text-anchor=\"start\" x=\"2950.5\" y=\"-37.8\" font-family=\"Helvetica,sans-Serif\" font-size=\"14.00\">samples = 84</text>\n<text text-anchor=\"start\" x=\"2945.5\" y=\"-22.8\" font-family=\"Helvetica,sans-Serif\" font-size=\"14.00\">value = [24, 60]</text>\n<text text-anchor=\"start\" x=\"2932\" y=\"-7.8\" font-family=\"Helvetica,sans-Serif\" font-size=\"14.00\">class = Fraudulento</text>\n</g>\n<!-- 41&#45;&gt;43 -->\n<g id=\"edge43\" class=\"edge\">\n<title>41&#45;&gt;43</title>\n<path fill=\"none\" stroke=\"black\" d=\"M2921.19,-103.73C2931.05,-94.42 2941.52,-84.54 2951.35,-75.26\"/>\n<polygon fill=\"black\" stroke=\"black\" points=\"2953.85,-77.71 2958.72,-68.3 2949.05,-72.62 2953.85,-77.71\"/>\n</g>\n<!-- 45 -->\n<g id=\"node46\" class=\"node\">\n<title>45</title>\n<path fill=\"#399de5\" stroke=\"black\" d=\"M3210,-68C3210,-68 3094,-68 3094,-68 3088,-68 3082,-62 3082,-56 3082,-56 3082,-12 3082,-12 3082,-6 3088,0 3094,0 3094,0 3210,0 3210,0 3216,0 3222,-6 3222,-12 3222,-12 3222,-56 3222,-56 3222,-62 3216,-68 3210,-68\"/>\n<text text-anchor=\"start\" x=\"3110\" y=\"-52.8\" font-family=\"Helvetica,sans-Serif\" font-size=\"14.00\">entropy = 0.0</text>\n<text text-anchor=\"start\" x=\"3104.5\" y=\"-37.8\" font-family=\"Helvetica,sans-Serif\" font-size=\"14.00\">samples = 155</text>\n<text text-anchor=\"start\" x=\"3103.5\" y=\"-22.8\" font-family=\"Helvetica,sans-Serif\" font-size=\"14.00\">value = [0, 155]</text>\n<text text-anchor=\"start\" x=\"3090\" y=\"-7.8\" font-family=\"Helvetica,sans-Serif\" font-size=\"14.00\">class = Fraudulento</text>\n</g>\n<!-- 44&#45;&gt;45 -->\n<g id=\"edge45\" class=\"edge\">\n<title>44&#45;&gt;45</title>\n<path fill=\"none\" stroke=\"black\" d=\"M3152,-103.73C3152,-95.52 3152,-86.86 3152,-78.56\"/>\n<polygon fill=\"black\" stroke=\"black\" points=\"3155.5,-78.3 3152,-68.3 3148.5,-78.3 3155.5,-78.3\"/>\n</g>\n<!-- 46 -->\n<g id=\"node47\" class=\"node\">\n<title>46</title>\n<path fill=\"#e6843d\" stroke=\"black\" d=\"M3390,-68C3390,-68 3252,-68 3252,-68 3246,-68 3240,-62 3240,-56 3240,-56 3240,-12 3240,-12 3240,-6 3246,0 3252,0 3252,0 3390,0 3390,0 3396,0 3402,-6 3402,-12 3402,-12 3402,-56 3402,-56 3402,-62 3396,-68 3390,-68\"/>\n<text text-anchor=\"start\" x=\"3271\" y=\"-52.8\" font-family=\"Helvetica,sans-Serif\" font-size=\"14.00\">entropy = 0.141</text>\n<text text-anchor=\"start\" x=\"3273.5\" y=\"-37.8\" font-family=\"Helvetica,sans-Serif\" font-size=\"14.00\">samples = 100</text>\n<text text-anchor=\"start\" x=\"3276.5\" y=\"-22.8\" font-family=\"Helvetica,sans-Serif\" font-size=\"14.00\">value = [98, 2]</text>\n<text text-anchor=\"start\" x=\"3248\" y=\"-7.8\" font-family=\"Helvetica,sans-Serif\" font-size=\"14.00\">class = No Fraudulento</text>\n</g>\n<!-- 44&#45;&gt;46 -->\n<g id=\"edge46\" class=\"edge\">\n<title>44&#45;&gt;46</title>\n<path fill=\"none\" stroke=\"black\" d=\"M3214.93,-103.73C3230.07,-93.92 3246.2,-83.46 3261.19,-73.75\"/>\n<polygon fill=\"black\" stroke=\"black\" points=\"3263.39,-76.5 3269.88,-68.13 3259.58,-70.63 3263.39,-76.5\"/>\n</g>\n</g>\n</svg>\n",
      "text/plain": "<graphviz.sources.Source at 0x1628b28f610>"
     },
     "execution_count": 151,
     "metadata": {},
     "output_type": "execute_result"
    }
   ],
   "source": [
    "dot_data = tree.export_graphviz(clf, out_file=None,\n",
    "                         feature_names=list(t_data.columns.values),\n",
    "                         class_names=[\"No Fraudulento\", \"Fraudulento\"],\n",
    "                         filled=True, rounded=True,\n",
    "                         special_characters=True)\n",
    "graph = graphviz.Source(dot_data)\n",
    "graph"
   ],
   "metadata": {
    "collapsed": false,
    "pycharm": {
     "name": "#%%\n"
    }
   }
  },
  {
   "cell_type": "markdown",
   "source": [
    "### Predicción de la data con el arbol de decisión sklearn"
   ],
   "metadata": {
    "collapsed": false,
    "pycharm": {
     "name": "#%% md\n"
    }
   }
  },
  {
   "cell_type": "code",
   "execution_count": 152,
   "outputs": [],
   "source": [
    "y_respuesta = clf.predict(w_test)"
   ],
   "metadata": {
    "collapsed": false,
    "pycharm": {
     "name": "#%%\n"
    }
   }
  },
  {
   "cell_type": "code",
   "execution_count": 153,
   "outputs": [
    {
     "data": {
      "text/plain": "array([0., 0., 0., ..., 1., 0., 1.])"
     },
     "execution_count": 153,
     "metadata": {},
     "output_type": "execute_result"
    }
   ],
   "source": [
    "y_respuesta"
   ],
   "metadata": {
    "collapsed": false,
    "pycharm": {
     "name": "#%%\n"
    }
   }
  },
  {
   "cell_type": "code",
   "execution_count": 154,
   "outputs": [
    {
     "name": "stdout",
     "output_type": "stream",
     "text": [
      "Accuracy del árbol de decisión: 99.9035%\n"
     ]
    }
   ],
   "source": [
    "acc = metrics.accuracy_score(w_true, y_respuesta, normalize=True, sample_weight=None)\n",
    "print('Accuracy del árbol de decisión: {}%'.format(acc * 100))"
   ],
   "metadata": {
    "collapsed": false,
    "pycharm": {
     "name": "#%%\n"
    }
   }
  },
  {
   "cell_type": "code",
   "execution_count": 155,
   "outputs": [
    {
     "data": {
      "text/plain": "array([[182365,    128],\n       [    65,  17442]], dtype=int64)"
     },
     "execution_count": 155,
     "metadata": {},
     "output_type": "execute_result"
    }
   ],
   "source": [
    "metrics.confusion_matrix(w_true, y_respuesta)"
   ],
   "metadata": {
    "collapsed": false,
    "pycharm": {
     "name": "#%%\n"
    }
   }
  },
  {
   "cell_type": "markdown",
   "source": [
    "## Arbol de decisión sin tratamiento de datos"
   ],
   "metadata": {
    "collapsed": false,
    "pycharm": {
     "name": "#%% md\n"
    }
   }
  },
  {
   "cell_type": "code",
   "execution_count": 156,
   "outputs": [
    {
     "data": {
      "text/plain": "   distance_from_home  distance_from_last_transaction  \\\n0           57.877857                        0.311140   \n1           10.829943                        0.175592   \n2            5.091079                        0.805153   \n3            2.247564                        5.600044   \n4           44.190936                        0.566486   \n\n   ratio_to_median_purchase_price  repeat_retailer  used_chip  \\\n0                        1.945940              1.0        1.0   \n1                        1.294219              1.0        0.0   \n2                        0.427715              1.0        0.0   \n3                        0.362663              1.0        1.0   \n4                        2.222767              1.0        1.0   \n\n   used_pin_number  online_order  fraud  \n0              0.0           0.0    0.0  \n1              0.0           0.0    0.0  \n2              0.0           1.0    0.0  \n3              0.0           1.0    0.0  \n4              0.0           1.0    0.0  ",
      "text/html": "<div>\n<style scoped>\n    .dataframe tbody tr th:only-of-type {\n        vertical-align: middle;\n    }\n\n    .dataframe tbody tr th {\n        vertical-align: top;\n    }\n\n    .dataframe thead th {\n        text-align: right;\n    }\n</style>\n<table border=\"1\" class=\"dataframe\">\n  <thead>\n    <tr style=\"text-align: right;\">\n      <th></th>\n      <th>distance_from_home</th>\n      <th>distance_from_last_transaction</th>\n      <th>ratio_to_median_purchase_price</th>\n      <th>repeat_retailer</th>\n      <th>used_chip</th>\n      <th>used_pin_number</th>\n      <th>online_order</th>\n      <th>fraud</th>\n    </tr>\n  </thead>\n  <tbody>\n    <tr>\n      <th>0</th>\n      <td>57.877857</td>\n      <td>0.311140</td>\n      <td>1.945940</td>\n      <td>1.0</td>\n      <td>1.0</td>\n      <td>0.0</td>\n      <td>0.0</td>\n      <td>0.0</td>\n    </tr>\n    <tr>\n      <th>1</th>\n      <td>10.829943</td>\n      <td>0.175592</td>\n      <td>1.294219</td>\n      <td>1.0</td>\n      <td>0.0</td>\n      <td>0.0</td>\n      <td>0.0</td>\n      <td>0.0</td>\n    </tr>\n    <tr>\n      <th>2</th>\n      <td>5.091079</td>\n      <td>0.805153</td>\n      <td>0.427715</td>\n      <td>1.0</td>\n      <td>0.0</td>\n      <td>0.0</td>\n      <td>1.0</td>\n      <td>0.0</td>\n    </tr>\n    <tr>\n      <th>3</th>\n      <td>2.247564</td>\n      <td>5.600044</td>\n      <td>0.362663</td>\n      <td>1.0</td>\n      <td>1.0</td>\n      <td>0.0</td>\n      <td>1.0</td>\n      <td>0.0</td>\n    </tr>\n    <tr>\n      <th>4</th>\n      <td>44.190936</td>\n      <td>0.566486</td>\n      <td>2.222767</td>\n      <td>1.0</td>\n      <td>1.0</td>\n      <td>0.0</td>\n      <td>1.0</td>\n      <td>0.0</td>\n    </tr>\n  </tbody>\n</table>\n</div>"
     },
     "execution_count": 156,
     "metadata": {},
     "output_type": "execute_result"
    }
   ],
   "source": [
    "dframeArbol.head()"
   ],
   "metadata": {
    "collapsed": false,
    "pycharm": {
     "name": "#%%\n"
    }
   }
  },
  {
   "cell_type": "code",
   "execution_count": 157,
   "outputs": [],
   "source": [
    "trainSin, testSin = train_test_split(dframeArbol, test_size=0.2)"
   ],
   "metadata": {
    "collapsed": false,
    "pycharm": {
     "name": "#%%\n"
    }
   }
  },
  {
   "cell_type": "code",
   "execution_count": 158,
   "outputs": [],
   "source": [
    "t_data = trainSin[trainSin.columns[0:7]]\n",
    "t_target = trainSin[trainSin.columns[7]]\n",
    "w_test = testSin[testSin.columns[0:7]]\n",
    "w_true = testSin[testSin.columns[7]]  #Para validar el accuracy"
   ],
   "metadata": {
    "collapsed": false,
    "pycharm": {
     "name": "#%%\n"
    }
   }
  },
  {
   "cell_type": "code",
   "execution_count": 159,
   "outputs": [
    {
     "data": {
      "text/plain": "916445    0.0\n319393    1.0\n13851     0.0\n260361    0.0\n980908    0.0\n         ... \n647280    0.0\n685963    0.0\n6709      0.0\n877329    0.0\n142031    0.0\nName: fraud, Length: 200000, dtype: float64"
     },
     "execution_count": 159,
     "metadata": {},
     "output_type": "execute_result"
    }
   ],
   "source": [
    "w_true"
   ],
   "metadata": {
    "collapsed": false,
    "pycharm": {
     "name": "#%%\n"
    }
   }
  },
  {
   "cell_type": "code",
   "execution_count": 160,
   "outputs": [
    {
     "data": {
      "text/plain": "        distance_from_home  distance_from_last_transaction  \\\n409632           10.543449                        2.751900   \n256011            3.114150                        2.860444   \n242818          102.206140                        0.360165   \n113221           23.990858                        0.127675   \n724270            8.652814                        0.141873   \n...                    ...                             ...   \n643049           78.579487                        1.564183   \n608152           11.675271                        5.410672   \n379172           65.853985                        2.250379   \n163116            0.681922                        0.251100   \n144733            0.174495                        0.277498   \n\n        ratio_to_median_purchase_price  repeat_retailer  used_chip  \\\n409632                        0.462808              1.0        1.0   \n256011                        0.515874              1.0        0.0   \n242818                        3.199816              1.0        0.0   \n113221                        0.529318              1.0        1.0   \n724270                        4.947248              1.0        1.0   \n...                                ...              ...        ...   \n643049                        3.112973              1.0        0.0   \n608152                        0.870483              1.0        1.0   \n379172                        0.332913              1.0        0.0   \n163116                        0.748397              0.0        0.0   \n144733                        0.352178              0.0        1.0   \n\n        used_pin_number  online_order  \n409632              0.0           1.0  \n256011              0.0           0.0  \n242818              0.0           1.0  \n113221              0.0           1.0  \n724270              0.0           0.0  \n...                 ...           ...  \n643049              0.0           0.0  \n608152              0.0           1.0  \n379172              0.0           1.0  \n163116              0.0           0.0  \n144733              0.0           1.0  \n\n[800000 rows x 7 columns]",
      "text/html": "<div>\n<style scoped>\n    .dataframe tbody tr th:only-of-type {\n        vertical-align: middle;\n    }\n\n    .dataframe tbody tr th {\n        vertical-align: top;\n    }\n\n    .dataframe thead th {\n        text-align: right;\n    }\n</style>\n<table border=\"1\" class=\"dataframe\">\n  <thead>\n    <tr style=\"text-align: right;\">\n      <th></th>\n      <th>distance_from_home</th>\n      <th>distance_from_last_transaction</th>\n      <th>ratio_to_median_purchase_price</th>\n      <th>repeat_retailer</th>\n      <th>used_chip</th>\n      <th>used_pin_number</th>\n      <th>online_order</th>\n    </tr>\n  </thead>\n  <tbody>\n    <tr>\n      <th>409632</th>\n      <td>10.543449</td>\n      <td>2.751900</td>\n      <td>0.462808</td>\n      <td>1.0</td>\n      <td>1.0</td>\n      <td>0.0</td>\n      <td>1.0</td>\n    </tr>\n    <tr>\n      <th>256011</th>\n      <td>3.114150</td>\n      <td>2.860444</td>\n      <td>0.515874</td>\n      <td>1.0</td>\n      <td>0.0</td>\n      <td>0.0</td>\n      <td>0.0</td>\n    </tr>\n    <tr>\n      <th>242818</th>\n      <td>102.206140</td>\n      <td>0.360165</td>\n      <td>3.199816</td>\n      <td>1.0</td>\n      <td>0.0</td>\n      <td>0.0</td>\n      <td>1.0</td>\n    </tr>\n    <tr>\n      <th>113221</th>\n      <td>23.990858</td>\n      <td>0.127675</td>\n      <td>0.529318</td>\n      <td>1.0</td>\n      <td>1.0</td>\n      <td>0.0</td>\n      <td>1.0</td>\n    </tr>\n    <tr>\n      <th>724270</th>\n      <td>8.652814</td>\n      <td>0.141873</td>\n      <td>4.947248</td>\n      <td>1.0</td>\n      <td>1.0</td>\n      <td>0.0</td>\n      <td>0.0</td>\n    </tr>\n    <tr>\n      <th>...</th>\n      <td>...</td>\n      <td>...</td>\n      <td>...</td>\n      <td>...</td>\n      <td>...</td>\n      <td>...</td>\n      <td>...</td>\n    </tr>\n    <tr>\n      <th>643049</th>\n      <td>78.579487</td>\n      <td>1.564183</td>\n      <td>3.112973</td>\n      <td>1.0</td>\n      <td>0.0</td>\n      <td>0.0</td>\n      <td>0.0</td>\n    </tr>\n    <tr>\n      <th>608152</th>\n      <td>11.675271</td>\n      <td>5.410672</td>\n      <td>0.870483</td>\n      <td>1.0</td>\n      <td>1.0</td>\n      <td>0.0</td>\n      <td>1.0</td>\n    </tr>\n    <tr>\n      <th>379172</th>\n      <td>65.853985</td>\n      <td>2.250379</td>\n      <td>0.332913</td>\n      <td>1.0</td>\n      <td>0.0</td>\n      <td>0.0</td>\n      <td>1.0</td>\n    </tr>\n    <tr>\n      <th>163116</th>\n      <td>0.681922</td>\n      <td>0.251100</td>\n      <td>0.748397</td>\n      <td>0.0</td>\n      <td>0.0</td>\n      <td>0.0</td>\n      <td>0.0</td>\n    </tr>\n    <tr>\n      <th>144733</th>\n      <td>0.174495</td>\n      <td>0.277498</td>\n      <td>0.352178</td>\n      <td>0.0</td>\n      <td>1.0</td>\n      <td>0.0</td>\n      <td>1.0</td>\n    </tr>\n  </tbody>\n</table>\n<p>800000 rows × 7 columns</p>\n</div>"
     },
     "execution_count": 160,
     "metadata": {},
     "output_type": "execute_result"
    }
   ],
   "source": [
    "t_data"
   ],
   "metadata": {
    "collapsed": false,
    "pycharm": {
     "name": "#%%\n"
    }
   }
  },
  {
   "cell_type": "markdown",
   "source": [
    "## Arbol de decisión sklearn\n",
    "### Entrenamiento del modelo (Sin tratamiento de data)"
   ],
   "metadata": {
    "collapsed": false,
    "pycharm": {
     "name": "#%% md\n"
    }
   }
  },
  {
   "cell_type": "code",
   "execution_count": 161,
   "outputs": [],
   "source": [
    "clf = tree.DecisionTreeClassifier(criterion='entropy', max_depth=5)\n",
    "clf = clf.fit(t_data, t_target)"
   ],
   "metadata": {
    "collapsed": false,
    "pycharm": {
     "name": "#%%\n"
    }
   }
  },
  {
   "cell_type": "markdown",
   "source": [
    "## Graficar el arbol de decisión"
   ],
   "metadata": {
    "collapsed": false,
    "pycharm": {
     "name": "#%% md\n"
    }
   }
  },
  {
   "cell_type": "code",
   "execution_count": 162,
   "outputs": [
    {
     "data": {
      "image/svg+xml": "<?xml version=\"1.0\" encoding=\"UTF-8\" standalone=\"no\"?>\n<!DOCTYPE svg PUBLIC \"-//W3C//DTD SVG 1.1//EN\"\n \"http://www.w3.org/Graphics/SVG/1.1/DTD/svg11.dtd\">\n<!-- Generated by graphviz version 4.0.0 (20220529.0937)\n -->\n<!-- Title: Tree Pages: 1 -->\n<svg width=\"3066pt\" height=\"671pt\"\n viewBox=\"0.00 0.00 3066.00 671.00\" xmlns=\"http://www.w3.org/2000/svg\" xmlns:xlink=\"http://www.w3.org/1999/xlink\">\n<g id=\"graph0\" class=\"graph\" transform=\"scale(1 1) rotate(0) translate(4 667)\">\n<title>Tree</title>\n<polygon fill=\"white\" stroke=\"transparent\" points=\"-4,4 -4,-667 3062,-667 3062,4 -4,4\"/>\n<!-- 0 -->\n<g id=\"node1\" class=\"node\">\n<title>0</title>\n<path fill=\"#e78d4c\" stroke=\"black\" d=\"M1440,-663C1440,-663 1204,-663 1204,-663 1198,-663 1192,-657 1192,-651 1192,-651 1192,-592 1192,-592 1192,-586 1198,-580 1204,-580 1204,-580 1440,-580 1440,-580 1446,-580 1452,-586 1452,-592 1452,-592 1452,-651 1452,-651 1452,-657 1446,-663 1440,-663\"/>\n<text text-anchor=\"start\" x=\"1200\" y=\"-647.8\" font-family=\"Helvetica,sans-Serif\" font-size=\"14.00\">ratio_to_median_purchase_price ≤ 4.0</text>\n<text text-anchor=\"start\" x=\"1272\" y=\"-632.8\" font-family=\"Helvetica,sans-Serif\" font-size=\"14.00\">entropy = 0.427</text>\n<text text-anchor=\"start\" x=\"1262\" y=\"-617.8\" font-family=\"Helvetica,sans-Serif\" font-size=\"14.00\">samples = 800000</text>\n<text text-anchor=\"start\" x=\"1244.5\" y=\"-602.8\" font-family=\"Helvetica,sans-Serif\" font-size=\"14.00\">value = [730234, 69766]</text>\n<text text-anchor=\"start\" x=\"1249\" y=\"-587.8\" font-family=\"Helvetica,sans-Serif\" font-size=\"14.00\">class = No Fraudulento</text>\n</g>\n<!-- 1 -->\n<g id=\"node2\" class=\"node\">\n<title>1</title>\n<path fill=\"#e6843e\" stroke=\"black\" d=\"M828,-544C828,-544 632,-544 632,-544 626,-544 620,-538 620,-532 620,-532 620,-473 620,-473 620,-467 626,-461 632,-461 632,-461 828,-461 828,-461 834,-461 840,-467 840,-473 840,-473 840,-532 840,-532 840,-538 834,-544 828,-544\"/>\n<text text-anchor=\"start\" x=\"628\" y=\"-528.8\" font-family=\"Helvetica,sans-Serif\" font-size=\"14.00\">distance_from_home ≤ 100.003</text>\n<text text-anchor=\"start\" x=\"680\" y=\"-513.8\" font-family=\"Helvetica,sans-Serif\" font-size=\"14.00\">entropy = 0.169</text>\n<text text-anchor=\"start\" x=\"670\" y=\"-498.8\" font-family=\"Helvetica,sans-Serif\" font-size=\"14.00\">samples = 717685</text>\n<text text-anchor=\"start\" x=\"652.5\" y=\"-483.8\" font-family=\"Helvetica,sans-Serif\" font-size=\"14.00\">value = [699721, 17964]</text>\n<text text-anchor=\"start\" x=\"657\" y=\"-468.8\" font-family=\"Helvetica,sans-Serif\" font-size=\"14.00\">class = No Fraudulento</text>\n</g>\n<!-- 0&#45;&gt;1 -->\n<g id=\"edge1\" class=\"edge\">\n<title>0&#45;&gt;1</title>\n<path fill=\"none\" stroke=\"black\" d=\"M1191.72,-594.75C1089.85,-574.62 949.35,-546.85 850.17,-527.25\"/>\n<polygon fill=\"black\" stroke=\"black\" points=\"850.59,-523.76 840.1,-525.26 849.23,-530.63 850.59,-523.76\"/>\n<text text-anchor=\"middle\" x=\"854.01\" y=\"-542.33\" font-family=\"Helvetica,sans-Serif\" font-size=\"14.00\">True</text>\n</g>\n<!-- 22 -->\n<g id=\"node23\" class=\"node\">\n<title>22</title>\n<path fill=\"#aed7f4\" stroke=\"black\" d=\"M2004.5,-544C2004.5,-544 1865.5,-544 1865.5,-544 1859.5,-544 1853.5,-538 1853.5,-532 1853.5,-532 1853.5,-473 1853.5,-473 1853.5,-467 1859.5,-461 1865.5,-461 1865.5,-461 2004.5,-461 2004.5,-461 2010.5,-461 2016.5,-467 2016.5,-473 2016.5,-473 2016.5,-532 2016.5,-532 2016.5,-538 2010.5,-544 2004.5,-544\"/>\n<text text-anchor=\"start\" x=\"1877.5\" y=\"-528.8\" font-family=\"Helvetica,sans-Serif\" font-size=\"14.00\">online_order ≤ 0.5</text>\n<text text-anchor=\"start\" x=\"1885\" y=\"-513.8\" font-family=\"Helvetica,sans-Serif\" font-size=\"14.00\">entropy = 0.951</text>\n<text text-anchor=\"start\" x=\"1879\" y=\"-498.8\" font-family=\"Helvetica,sans-Serif\" font-size=\"14.00\">samples = 82315</text>\n<text text-anchor=\"start\" x=\"1861.5\" y=\"-483.8\" font-family=\"Helvetica,sans-Serif\" font-size=\"14.00\">value = [30513, 51802]</text>\n<text text-anchor=\"start\" x=\"1873\" y=\"-468.8\" font-family=\"Helvetica,sans-Serif\" font-size=\"14.00\">class = Fraudulento</text>\n</g>\n<!-- 0&#45;&gt;22 -->\n<g id=\"edge22\" class=\"edge\">\n<title>0&#45;&gt;22</title>\n<path fill=\"none\" stroke=\"black\" d=\"M1452,-595.69C1569.46,-573.27 1739.38,-540.84 1843.22,-521.02\"/>\n<polygon fill=\"black\" stroke=\"black\" points=\"1843.9,-524.45 1853.06,-519.14 1842.58,-517.58 1843.9,-524.45\"/>\n<text text-anchor=\"middle\" x=\"1839.01\" y=\"-536.12\" font-family=\"Helvetica,sans-Serif\" font-size=\"14.00\">False</text>\n</g>\n<!-- 2 -->\n<g id=\"node3\" class=\"node\">\n<title>2</title>\n<path fill=\"#e5823a\" stroke=\"black\" d=\"M386,-425C386,-425 136,-425 136,-425 130,-425 124,-419 124,-413 124,-413 124,-354 124,-354 124,-348 130,-342 136,-342 136,-342 386,-342 386,-342 392,-342 398,-348 398,-354 398,-354 398,-413 398,-413 398,-419 392,-425 386,-425\"/>\n<text text-anchor=\"start\" x=\"132\" y=\"-409.8\" font-family=\"Helvetica,sans-Serif\" font-size=\"14.00\">distance_from_last_transaction ≤ 50.001</text>\n<text text-anchor=\"start\" x=\"211\" y=\"-394.8\" font-family=\"Helvetica,sans-Serif\" font-size=\"14.00\">entropy = 0.052</text>\n<text text-anchor=\"start\" x=\"201\" y=\"-379.8\" font-family=\"Helvetica,sans-Serif\" font-size=\"14.00\">samples = 681943</text>\n<text text-anchor=\"start\" x=\"187.5\" y=\"-364.8\" font-family=\"Helvetica,sans-Serif\" font-size=\"14.00\">value = [677905, 4038]</text>\n<text text-anchor=\"start\" x=\"188\" y=\"-349.8\" font-family=\"Helvetica,sans-Serif\" font-size=\"14.00\">class = No Fraudulento</text>\n</g>\n<!-- 1&#45;&gt;2 -->\n<g id=\"edge2\" class=\"edge\">\n<title>1&#45;&gt;2</title>\n<path fill=\"none\" stroke=\"black\" d=\"M619.74,-473.99C556.64,-458.25 476.66,-438.3 408.24,-421.23\"/>\n<polygon fill=\"black\" stroke=\"black\" points=\"408.78,-417.76 398.23,-418.74 407.09,-424.55 408.78,-417.76\"/>\n</g>\n<!-- 9 -->\n<g id=\"node10\" class=\"node\">\n<title>9</title>\n<path fill=\"#f6d1b7\" stroke=\"black\" d=\"M799.5,-425C799.5,-425 660.5,-425 660.5,-425 654.5,-425 648.5,-419 648.5,-413 648.5,-413 648.5,-354 648.5,-354 648.5,-348 654.5,-342 660.5,-342 660.5,-342 799.5,-342 799.5,-342 805.5,-342 811.5,-348 811.5,-354 811.5,-354 811.5,-413 811.5,-413 811.5,-419 805.5,-425 799.5,-425\"/>\n<text text-anchor=\"start\" x=\"672.5\" y=\"-409.8\" font-family=\"Helvetica,sans-Serif\" font-size=\"14.00\">online_order ≤ 0.5</text>\n<text text-anchor=\"start\" x=\"680\" y=\"-394.8\" font-family=\"Helvetica,sans-Serif\" font-size=\"14.00\">entropy = 0.965</text>\n<text text-anchor=\"start\" x=\"674\" y=\"-379.8\" font-family=\"Helvetica,sans-Serif\" font-size=\"14.00\">samples = 35742</text>\n<text text-anchor=\"start\" x=\"656.5\" y=\"-364.8\" font-family=\"Helvetica,sans-Serif\" font-size=\"14.00\">value = [21816, 13926]</text>\n<text text-anchor=\"start\" x=\"657\" y=\"-349.8\" font-family=\"Helvetica,sans-Serif\" font-size=\"14.00\">class = No Fraudulento</text>\n</g>\n<!-- 1&#45;&gt;9 -->\n<g id=\"edge9\" class=\"edge\">\n<title>1&#45;&gt;9</title>\n<path fill=\"none\" stroke=\"black\" d=\"M730,-460.91C730,-452.65 730,-443.86 730,-435.3\"/>\n<polygon fill=\"black\" stroke=\"black\" points=\"733.5,-435.02 730,-425.02 726.5,-435.02 733.5,-435.02\"/>\n</g>\n<!-- 3 -->\n<g id=\"node4\" class=\"node\">\n<title>3</title>\n<path fill=\"#e58139\" stroke=\"black\" d=\"M150,-298.5C150,-298.5 12,-298.5 12,-298.5 6,-298.5 0,-292.5 0,-286.5 0,-286.5 0,-242.5 0,-242.5 0,-236.5 6,-230.5 12,-230.5 12,-230.5 150,-230.5 150,-230.5 156,-230.5 162,-236.5 162,-242.5 162,-242.5 162,-286.5 162,-286.5 162,-292.5 156,-298.5 150,-298.5\"/>\n<text text-anchor=\"start\" x=\"39\" y=\"-283.3\" font-family=\"Helvetica,sans-Serif\" font-size=\"14.00\">entropy = 0.0</text>\n<text text-anchor=\"start\" x=\"21\" y=\"-268.3\" font-family=\"Helvetica,sans-Serif\" font-size=\"14.00\">samples = 671871</text>\n<text text-anchor=\"start\" x=\"20\" y=\"-253.3\" font-family=\"Helvetica,sans-Serif\" font-size=\"14.00\">value = [671871, 0]</text>\n<text text-anchor=\"start\" x=\"8\" y=\"-238.3\" font-family=\"Helvetica,sans-Serif\" font-size=\"14.00\">class = No Fraudulento</text>\n</g>\n<!-- 2&#45;&gt;3 -->\n<g id=\"edge3\" class=\"edge\">\n<title>2&#45;&gt;3</title>\n<path fill=\"none\" stroke=\"black\" d=\"M198.55,-341.91C179.71,-329.66 159.08,-316.25 140.44,-304.13\"/>\n<polygon fill=\"black\" stroke=\"black\" points=\"142.32,-301.18 132.03,-298.67 138.5,-307.05 142.32,-301.18\"/>\n</g>\n<!-- 4 -->\n<g id=\"node5\" class=\"node\">\n<title>4</title>\n<path fill=\"#f6d5be\" stroke=\"black\" d=\"M330,-306C330,-306 192,-306 192,-306 186,-306 180,-300 180,-294 180,-294 180,-235 180,-235 180,-229 186,-223 192,-223 192,-223 330,-223 330,-223 336,-223 342,-229 342,-235 342,-235 342,-294 342,-294 342,-300 336,-306 330,-306\"/>\n<text text-anchor=\"start\" x=\"203.5\" y=\"-290.8\" font-family=\"Helvetica,sans-Serif\" font-size=\"14.00\">online_order ≤ 0.5</text>\n<text text-anchor=\"start\" x=\"211\" y=\"-275.8\" font-family=\"Helvetica,sans-Serif\" font-size=\"14.00\">entropy = 0.971</text>\n<text text-anchor=\"start\" x=\"205\" y=\"-260.8\" font-family=\"Helvetica,sans-Serif\" font-size=\"14.00\">samples = 10072</text>\n<text text-anchor=\"start\" x=\"196\" y=\"-245.8\" font-family=\"Helvetica,sans-Serif\" font-size=\"14.00\">value = [6034, 4038]</text>\n<text text-anchor=\"start\" x=\"188\" y=\"-230.8\" font-family=\"Helvetica,sans-Serif\" font-size=\"14.00\">class = No Fraudulento</text>\n</g>\n<!-- 2&#45;&gt;4 -->\n<g id=\"edge4\" class=\"edge\">\n<title>2&#45;&gt;4</title>\n<path fill=\"none\" stroke=\"black\" d=\"M261,-341.91C261,-333.65 261,-324.86 261,-316.3\"/>\n<polygon fill=\"black\" stroke=\"black\" points=\"264.5,-316.02 261,-306.02 257.5,-316.02 264.5,-316.02\"/>\n</g>\n<!-- 5 -->\n<g id=\"node6\" class=\"node\">\n<title>5</title>\n<path fill=\"#e58139\" stroke=\"black\" d=\"M158,-179.5C158,-179.5 20,-179.5 20,-179.5 14,-179.5 8,-173.5 8,-167.5 8,-167.5 8,-123.5 8,-123.5 8,-117.5 14,-111.5 20,-111.5 20,-111.5 158,-111.5 158,-111.5 164,-111.5 170,-117.5 170,-123.5 170,-123.5 170,-167.5 170,-167.5 170,-173.5 164,-179.5 158,-179.5\"/>\n<text text-anchor=\"start\" x=\"47\" y=\"-164.3\" font-family=\"Helvetica,sans-Serif\" font-size=\"14.00\">entropy = 0.0</text>\n<text text-anchor=\"start\" x=\"37.5\" y=\"-149.3\" font-family=\"Helvetica,sans-Serif\" font-size=\"14.00\">samples = 3478</text>\n<text text-anchor=\"start\" x=\"36\" y=\"-134.3\" font-family=\"Helvetica,sans-Serif\" font-size=\"14.00\">value = [3478, 0]</text>\n<text text-anchor=\"start\" x=\"16\" y=\"-119.3\" font-family=\"Helvetica,sans-Serif\" font-size=\"14.00\">class = No Fraudulento</text>\n</g>\n<!-- 4&#45;&gt;5 -->\n<g id=\"edge5\" class=\"edge\">\n<title>4&#45;&gt;5</title>\n<path fill=\"none\" stroke=\"black\" d=\"M201.33,-222.91C183.48,-210.77 163.96,-197.49 146.28,-185.46\"/>\n<polygon fill=\"black\" stroke=\"black\" points=\"148,-182.4 137.76,-179.67 144.06,-188.19 148,-182.4\"/>\n</g>\n<!-- 6 -->\n<g id=\"node7\" class=\"node\">\n<title>6</title>\n<path fill=\"#b6dbf5\" stroke=\"black\" d=\"M322,-187C322,-187 200,-187 200,-187 194,-187 188,-181 188,-175 188,-175 188,-116 188,-116 188,-110 194,-104 200,-104 200,-104 322,-104 322,-104 328,-104 334,-110 334,-116 334,-116 334,-175 334,-175 334,-181 328,-187 322,-187\"/>\n<text text-anchor=\"start\" x=\"210\" y=\"-171.8\" font-family=\"Helvetica,sans-Serif\" font-size=\"14.00\">used_chip ≤ 0.5</text>\n<text text-anchor=\"start\" x=\"211\" y=\"-156.8\" font-family=\"Helvetica,sans-Serif\" font-size=\"14.00\">entropy = 0.963</text>\n<text text-anchor=\"start\" x=\"209.5\" y=\"-141.8\" font-family=\"Helvetica,sans-Serif\" font-size=\"14.00\">samples = 6594</text>\n<text text-anchor=\"start\" x=\"196\" y=\"-126.8\" font-family=\"Helvetica,sans-Serif\" font-size=\"14.00\">value = [2556, 4038]</text>\n<text text-anchor=\"start\" x=\"199\" y=\"-111.8\" font-family=\"Helvetica,sans-Serif\" font-size=\"14.00\">class = Fraudulento</text>\n</g>\n<!-- 4&#45;&gt;6 -->\n<g id=\"edge6\" class=\"edge\">\n<title>4&#45;&gt;6</title>\n<path fill=\"none\" stroke=\"black\" d=\"M261,-222.91C261,-214.65 261,-205.86 261,-197.3\"/>\n<polygon fill=\"black\" stroke=\"black\" points=\"264.5,-197.02 261,-187.02 257.5,-197.02 264.5,-197.02\"/>\n</g>\n<!-- 7 -->\n<g id=\"node8\" class=\"node\">\n<title>7</title>\n<path fill=\"#50a8e8\" stroke=\"black\" d=\"M154,-68C154,-68 38,-68 38,-68 32,-68 26,-62 26,-56 26,-56 26,-12 26,-12 26,-6 32,0 38,0 38,0 154,0 154,0 160,0 166,-6 166,-12 166,-12 166,-56 166,-56 166,-62 160,-68 154,-68\"/>\n<text text-anchor=\"start\" x=\"46\" y=\"-52.8\" font-family=\"Helvetica,sans-Serif\" font-size=\"14.00\">entropy = 0.482</text>\n<text text-anchor=\"start\" x=\"44.5\" y=\"-37.8\" font-family=\"Helvetica,sans-Serif\" font-size=\"14.00\">samples = 4209</text>\n<text text-anchor=\"start\" x=\"35\" y=\"-22.8\" font-family=\"Helvetica,sans-Serif\" font-size=\"14.00\">value = [438, 3771]</text>\n<text text-anchor=\"start\" x=\"34\" y=\"-7.8\" font-family=\"Helvetica,sans-Serif\" font-size=\"14.00\">class = Fraudulento</text>\n</g>\n<!-- 6&#45;&gt;7 -->\n<g id=\"edge7\" class=\"edge\">\n<title>6&#45;&gt;7</title>\n<path fill=\"none\" stroke=\"black\" d=\"M199.56,-103.73C184.78,-93.92 169.03,-83.46 154.39,-73.75\"/>\n<polygon fill=\"black\" stroke=\"black\" points=\"156.18,-70.74 145.91,-68.13 152.31,-76.57 156.18,-70.74\"/>\n</g>\n<!-- 8 -->\n<g id=\"node9\" class=\"node\">\n<title>8</title>\n<path fill=\"#e89152\" stroke=\"black\" d=\"M334,-68C334,-68 196,-68 196,-68 190,-68 184,-62 184,-56 184,-56 184,-12 184,-12 184,-6 190,0 196,0 196,0 334,0 334,0 340,0 346,-6 346,-12 346,-12 346,-56 346,-56 346,-62 340,-68 334,-68\"/>\n<text text-anchor=\"start\" x=\"215\" y=\"-52.8\" font-family=\"Helvetica,sans-Serif\" font-size=\"14.00\">entropy = 0.506</text>\n<text text-anchor=\"start\" x=\"213.5\" y=\"-37.8\" font-family=\"Helvetica,sans-Serif\" font-size=\"14.00\">samples = 2385</text>\n<text text-anchor=\"start\" x=\"204\" y=\"-22.8\" font-family=\"Helvetica,sans-Serif\" font-size=\"14.00\">value = [2118, 267]</text>\n<text text-anchor=\"start\" x=\"192\" y=\"-7.8\" font-family=\"Helvetica,sans-Serif\" font-size=\"14.00\">class = No Fraudulento</text>\n</g>\n<!-- 6&#45;&gt;8 -->\n<g id=\"edge8\" class=\"edge\">\n<title>6&#45;&gt;8</title>\n<path fill=\"none\" stroke=\"black\" d=\"M262.49,-103.73C262.79,-95.52 263.11,-86.86 263.41,-78.56\"/>\n<polygon fill=\"black\" stroke=\"black\" points=\"266.92,-78.42 263.78,-68.3 259.92,-78.17 266.92,-78.42\"/>\n</g>\n<!-- 10 -->\n<g id=\"node11\" class=\"node\">\n<title>10</title>\n<path fill=\"#e5833c\" stroke=\"black\" d=\"M737,-306C737,-306 495,-306 495,-306 489,-306 483,-300 483,-294 483,-294 483,-235 483,-235 483,-229 489,-223 495,-223 495,-223 737,-223 737,-223 743,-223 749,-229 749,-235 749,-235 749,-294 749,-294 749,-300 743,-306 737,-306\"/>\n<text text-anchor=\"start\" x=\"491\" y=\"-290.8\" font-family=\"Helvetica,sans-Serif\" font-size=\"14.00\">distance_from_last_transaction ≤ 50.14</text>\n<text text-anchor=\"start\" x=\"566\" y=\"-275.8\" font-family=\"Helvetica,sans-Serif\" font-size=\"14.00\">entropy = 0.105</text>\n<text text-anchor=\"start\" x=\"560\" y=\"-260.8\" font-family=\"Helvetica,sans-Serif\" font-size=\"14.00\">samples = 12460</text>\n<text text-anchor=\"start\" x=\"551\" y=\"-245.8\" font-family=\"Helvetica,sans-Serif\" font-size=\"14.00\">value = [12288, 172]</text>\n<text text-anchor=\"start\" x=\"543\" y=\"-230.8\" font-family=\"Helvetica,sans-Serif\" font-size=\"14.00\">class = No Fraudulento</text>\n</g>\n<!-- 9&#45;&gt;10 -->\n<g id=\"edge10\" class=\"edge\">\n<title>9&#45;&gt;10</title>\n<path fill=\"none\" stroke=\"black\" d=\"M690.45,-341.91C681.43,-332.65 671.76,-322.73 662.49,-313.21\"/>\n<polygon fill=\"black\" stroke=\"black\" points=\"664.97,-310.74 655.48,-306.02 659.95,-315.63 664.97,-310.74\"/>\n</g>\n<!-- 15 -->\n<g id=\"node16\" class=\"node\">\n<title>15</title>\n<path fill=\"#c2e1f7\" stroke=\"black\" d=\"M930.5,-306C930.5,-306 799.5,-306 799.5,-306 793.5,-306 787.5,-300 787.5,-294 787.5,-294 787.5,-235 787.5,-235 787.5,-229 793.5,-223 799.5,-223 799.5,-223 930.5,-223 930.5,-223 936.5,-223 942.5,-229 942.5,-235 942.5,-235 942.5,-294 942.5,-294 942.5,-300 936.5,-306 930.5,-306\"/>\n<text text-anchor=\"start\" x=\"814\" y=\"-290.8\" font-family=\"Helvetica,sans-Serif\" font-size=\"14.00\">used_chip ≤ 0.5</text>\n<text text-anchor=\"start\" x=\"815\" y=\"-275.8\" font-family=\"Helvetica,sans-Serif\" font-size=\"14.00\">entropy = 0.976</text>\n<text text-anchor=\"start\" x=\"809\" y=\"-260.8\" font-family=\"Helvetica,sans-Serif\" font-size=\"14.00\">samples = 23282</text>\n<text text-anchor=\"start\" x=\"795.5\" y=\"-245.8\" font-family=\"Helvetica,sans-Serif\" font-size=\"14.00\">value = [9528, 13754]</text>\n<text text-anchor=\"start\" x=\"803\" y=\"-230.8\" font-family=\"Helvetica,sans-Serif\" font-size=\"14.00\">class = Fraudulento</text>\n</g>\n<!-- 9&#45;&gt;15 -->\n<g id=\"edge15\" class=\"edge\">\n<title>9&#45;&gt;15</title>\n<path fill=\"none\" stroke=\"black\" d=\"M776.84,-341.91C787.73,-332.47 799.41,-322.34 810.6,-312.65\"/>\n<polygon fill=\"black\" stroke=\"black\" points=\"812.98,-315.22 818.25,-306.02 808.4,-309.93 812.98,-315.22\"/>\n</g>\n<!-- 11 -->\n<g id=\"node12\" class=\"node\">\n<title>11</title>\n<path fill=\"#e58139\" stroke=\"black\" d=\"M502,-179.5C502,-179.5 364,-179.5 364,-179.5 358,-179.5 352,-173.5 352,-167.5 352,-167.5 352,-123.5 352,-123.5 352,-117.5 358,-111.5 364,-111.5 364,-111.5 502,-111.5 502,-111.5 508,-111.5 514,-117.5 514,-123.5 514,-123.5 514,-167.5 514,-167.5 514,-173.5 508,-179.5 502,-179.5\"/>\n<text text-anchor=\"start\" x=\"391\" y=\"-164.3\" font-family=\"Helvetica,sans-Serif\" font-size=\"14.00\">entropy = 0.0</text>\n<text text-anchor=\"start\" x=\"377\" y=\"-149.3\" font-family=\"Helvetica,sans-Serif\" font-size=\"14.00\">samples = 12269</text>\n<text text-anchor=\"start\" x=\"376\" y=\"-134.3\" font-family=\"Helvetica,sans-Serif\" font-size=\"14.00\">value = [12269, 0]</text>\n<text text-anchor=\"start\" x=\"360\" y=\"-119.3\" font-family=\"Helvetica,sans-Serif\" font-size=\"14.00\">class = No Fraudulento</text>\n</g>\n<!-- 10&#45;&gt;11 -->\n<g id=\"edge11\" class=\"edge\">\n<title>10&#45;&gt;11</title>\n<path fill=\"none\" stroke=\"black\" d=\"M552.51,-222.91C533.35,-210.66 512.38,-197.25 493.43,-185.13\"/>\n<polygon fill=\"black\" stroke=\"black\" points=\"495.19,-182.1 484.88,-179.67 491.42,-188 495.19,-182.1\"/>\n</g>\n<!-- 12 -->\n<g id=\"node13\" class=\"node\">\n<title>12</title>\n<path fill=\"#4fa8e8\" stroke=\"black\" d=\"M687.5,-187C687.5,-187 544.5,-187 544.5,-187 538.5,-187 532.5,-181 532.5,-175 532.5,-175 532.5,-116 532.5,-116 532.5,-110 538.5,-104 544.5,-104 544.5,-104 687.5,-104 687.5,-104 693.5,-104 699.5,-110 699.5,-116 699.5,-116 699.5,-175 699.5,-175 699.5,-181 693.5,-187 687.5,-187\"/>\n<text text-anchor=\"start\" x=\"540.5\" y=\"-171.8\" font-family=\"Helvetica,sans-Serif\" font-size=\"14.00\">used_pin_number ≤ 0.5</text>\n<text text-anchor=\"start\" x=\"566\" y=\"-156.8\" font-family=\"Helvetica,sans-Serif\" font-size=\"14.00\">entropy = 0.467</text>\n<text text-anchor=\"start\" x=\"568.5\" y=\"-141.8\" font-family=\"Helvetica,sans-Serif\" font-size=\"14.00\">samples = 191</text>\n<text text-anchor=\"start\" x=\"563\" y=\"-126.8\" font-family=\"Helvetica,sans-Serif\" font-size=\"14.00\">value = [19, 172]</text>\n<text text-anchor=\"start\" x=\"554\" y=\"-111.8\" font-family=\"Helvetica,sans-Serif\" font-size=\"14.00\">class = Fraudulento</text>\n</g>\n<!-- 10&#45;&gt;12 -->\n<g id=\"edge12\" class=\"edge\">\n<title>10&#45;&gt;12</title>\n<path fill=\"none\" stroke=\"black\" d=\"M616,-222.91C616,-214.65 616,-205.86 616,-197.3\"/>\n<polygon fill=\"black\" stroke=\"black\" points=\"619.5,-197.02 616,-187.02 612.5,-197.02 619.5,-197.02\"/>\n</g>\n<!-- 13 -->\n<g id=\"node14\" class=\"node\">\n<title>13</title>\n<path fill=\"#399de5\" stroke=\"black\" d=\"M500,-68C500,-68 384,-68 384,-68 378,-68 372,-62 372,-56 372,-56 372,-12 372,-12 372,-6 378,0 384,0 384,0 500,0 500,0 506,0 512,-6 512,-12 512,-12 512,-56 512,-56 512,-62 506,-68 500,-68\"/>\n<text text-anchor=\"start\" x=\"400\" y=\"-52.8\" font-family=\"Helvetica,sans-Serif\" font-size=\"14.00\">entropy = 0.0</text>\n<text text-anchor=\"start\" x=\"394.5\" y=\"-37.8\" font-family=\"Helvetica,sans-Serif\" font-size=\"14.00\">samples = 172</text>\n<text text-anchor=\"start\" x=\"393.5\" y=\"-22.8\" font-family=\"Helvetica,sans-Serif\" font-size=\"14.00\">value = [0, 172]</text>\n<text text-anchor=\"start\" x=\"380\" y=\"-7.8\" font-family=\"Helvetica,sans-Serif\" font-size=\"14.00\">class = Fraudulento</text>\n</g>\n<!-- 12&#45;&gt;13 -->\n<g id=\"edge13\" class=\"edge\">\n<title>12&#45;&gt;13</title>\n<path fill=\"none\" stroke=\"black\" d=\"M551.21,-103.73C535.47,-93.82 518.7,-83.27 503.14,-73.48\"/>\n<polygon fill=\"black\" stroke=\"black\" points=\"504.97,-70.49 494.64,-68.13 501.24,-76.41 504.97,-70.49\"/>\n</g>\n<!-- 14 -->\n<g id=\"node15\" class=\"node\">\n<title>14</title>\n<path fill=\"#e58139\" stroke=\"black\" d=\"M680,-68C680,-68 542,-68 542,-68 536,-68 530,-62 530,-56 530,-56 530,-12 530,-12 530,-6 536,0 542,0 542,0 680,0 680,0 686,0 692,-6 692,-12 692,-12 692,-56 692,-56 692,-62 686,-68 680,-68\"/>\n<text text-anchor=\"start\" x=\"569\" y=\"-52.8\" font-family=\"Helvetica,sans-Serif\" font-size=\"14.00\">entropy = 0.0</text>\n<text text-anchor=\"start\" x=\"567.5\" y=\"-37.8\" font-family=\"Helvetica,sans-Serif\" font-size=\"14.00\">samples = 19</text>\n<text text-anchor=\"start\" x=\"566.5\" y=\"-22.8\" font-family=\"Helvetica,sans-Serif\" font-size=\"14.00\">value = [19, 0]</text>\n<text text-anchor=\"start\" x=\"538\" y=\"-7.8\" font-family=\"Helvetica,sans-Serif\" font-size=\"14.00\">class = No Fraudulento</text>\n</g>\n<!-- 12&#45;&gt;14 -->\n<g id=\"edge14\" class=\"edge\">\n<title>12&#45;&gt;14</title>\n<path fill=\"none\" stroke=\"black\" d=\"M614.14,-103.73C613.76,-95.52 613.37,-86.86 612.99,-78.56\"/>\n<polygon fill=\"black\" stroke=\"black\" points=\"616.47,-78.13 612.52,-68.3 609.48,-78.45 616.47,-78.13\"/>\n</g>\n<!-- 16 -->\n<g id=\"node17\" class=\"node\">\n<title>16</title>\n<path fill=\"#4fa8e8\" stroke=\"black\" d=\"M936.5,-187C936.5,-187 793.5,-187 793.5,-187 787.5,-187 781.5,-181 781.5,-175 781.5,-175 781.5,-116 781.5,-116 781.5,-110 787.5,-104 793.5,-104 793.5,-104 936.5,-104 936.5,-104 942.5,-104 948.5,-110 948.5,-116 948.5,-116 948.5,-175 948.5,-175 948.5,-181 942.5,-187 936.5,-187\"/>\n<text text-anchor=\"start\" x=\"789.5\" y=\"-171.8\" font-family=\"Helvetica,sans-Serif\" font-size=\"14.00\">used_pin_number ≤ 0.5</text>\n<text text-anchor=\"start\" x=\"815\" y=\"-156.8\" font-family=\"Helvetica,sans-Serif\" font-size=\"14.00\">entropy = 0.464</text>\n<text text-anchor=\"start\" x=\"809\" y=\"-141.8\" font-family=\"Helvetica,sans-Serif\" font-size=\"14.00\">samples = 15135</text>\n<text text-anchor=\"start\" x=\"795.5\" y=\"-126.8\" font-family=\"Helvetica,sans-Serif\" font-size=\"14.00\">value = [1488, 13647]</text>\n<text text-anchor=\"start\" x=\"803\" y=\"-111.8\" font-family=\"Helvetica,sans-Serif\" font-size=\"14.00\">class = Fraudulento</text>\n</g>\n<!-- 15&#45;&gt;16 -->\n<g id=\"edge16\" class=\"edge\">\n<title>15&#45;&gt;16</title>\n<path fill=\"none\" stroke=\"black\" d=\"M865,-222.91C865,-214.65 865,-205.86 865,-197.3\"/>\n<polygon fill=\"black\" stroke=\"black\" points=\"868.5,-197.02 865,-187.02 861.5,-197.02 868.5,-197.02\"/>\n</g>\n<!-- 19 -->\n<g id=\"node20\" class=\"node\">\n<title>19</title>\n<path fill=\"#e5833c\" stroke=\"black\" d=\"M1254,-187C1254,-187 1004,-187 1004,-187 998,-187 992,-181 992,-175 992,-175 992,-116 992,-116 992,-110 998,-104 1004,-104 1004,-104 1254,-104 1254,-104 1260,-104 1266,-110 1266,-116 1266,-116 1266,-175 1266,-175 1266,-181 1260,-187 1254,-187\"/>\n<text text-anchor=\"start\" x=\"1000\" y=\"-171.8\" font-family=\"Helvetica,sans-Serif\" font-size=\"14.00\">distance_from_last_transaction ≤ 50.575</text>\n<text text-anchor=\"start\" x=\"1079\" y=\"-156.8\" font-family=\"Helvetica,sans-Serif\" font-size=\"14.00\">entropy = 0.101</text>\n<text text-anchor=\"start\" x=\"1077.5\" y=\"-141.8\" font-family=\"Helvetica,sans-Serif\" font-size=\"14.00\">samples = 8147</text>\n<text text-anchor=\"start\" x=\"1068\" y=\"-126.8\" font-family=\"Helvetica,sans-Serif\" font-size=\"14.00\">value = [8040, 107]</text>\n<text text-anchor=\"start\" x=\"1056\" y=\"-111.8\" font-family=\"Helvetica,sans-Serif\" font-size=\"14.00\">class = No Fraudulento</text>\n</g>\n<!-- 15&#45;&gt;19 -->\n<g id=\"edge19\" class=\"edge\">\n<title>15&#45;&gt;19</title>\n<path fill=\"none\" stroke=\"black\" d=\"M942.78,-229.03C969.43,-217.22 999.64,-203.83 1027.86,-191.32\"/>\n<polygon fill=\"black\" stroke=\"black\" points=\"1029.62,-194.37 1037.35,-187.12 1026.79,-187.97 1029.62,-194.37\"/>\n</g>\n<!-- 17 -->\n<g id=\"node18\" class=\"node\">\n<title>17</title>\n<path fill=\"#399de5\" stroke=\"black\" d=\"M838,-68C838,-68 722,-68 722,-68 716,-68 710,-62 710,-56 710,-56 710,-12 710,-12 710,-6 716,0 722,0 722,0 838,0 838,0 844,0 850,-6 850,-12 850,-12 850,-56 850,-56 850,-62 844,-68 838,-68\"/>\n<text text-anchor=\"start\" x=\"738\" y=\"-52.8\" font-family=\"Helvetica,sans-Serif\" font-size=\"14.00\">entropy = 0.0</text>\n<text text-anchor=\"start\" x=\"724\" y=\"-37.8\" font-family=\"Helvetica,sans-Serif\" font-size=\"14.00\">samples = 13647</text>\n<text text-anchor=\"start\" x=\"723\" y=\"-22.8\" font-family=\"Helvetica,sans-Serif\" font-size=\"14.00\">value = [0, 13647]</text>\n<text text-anchor=\"start\" x=\"718\" y=\"-7.8\" font-family=\"Helvetica,sans-Serif\" font-size=\"14.00\">class = Fraudulento</text>\n</g>\n<!-- 16&#45;&gt;17 -->\n<g id=\"edge17\" class=\"edge\">\n<title>16&#45;&gt;17</title>\n<path fill=\"none\" stroke=\"black\" d=\"M833.35,-103.73C826.41,-94.79 819.06,-85.32 812.1,-76.36\"/>\n<polygon fill=\"black\" stroke=\"black\" points=\"814.75,-74.05 805.85,-68.3 809.22,-78.35 814.75,-74.05\"/>\n</g>\n<!-- 18 -->\n<g id=\"node19\" class=\"node\">\n<title>18</title>\n<path fill=\"#e58139\" stroke=\"black\" d=\"M1018,-68C1018,-68 880,-68 880,-68 874,-68 868,-62 868,-56 868,-56 868,-12 868,-12 868,-6 874,0 880,0 880,0 1018,0 1018,0 1024,0 1030,-6 1030,-12 1030,-12 1030,-56 1030,-56 1030,-62 1024,-68 1018,-68\"/>\n<text text-anchor=\"start\" x=\"907\" y=\"-52.8\" font-family=\"Helvetica,sans-Serif\" font-size=\"14.00\">entropy = 0.0</text>\n<text text-anchor=\"start\" x=\"897.5\" y=\"-37.8\" font-family=\"Helvetica,sans-Serif\" font-size=\"14.00\">samples = 1488</text>\n<text text-anchor=\"start\" x=\"896\" y=\"-22.8\" font-family=\"Helvetica,sans-Serif\" font-size=\"14.00\">value = [1488, 0]</text>\n<text text-anchor=\"start\" x=\"876\" y=\"-7.8\" font-family=\"Helvetica,sans-Serif\" font-size=\"14.00\">class = No Fraudulento</text>\n</g>\n<!-- 16&#45;&gt;18 -->\n<g id=\"edge18\" class=\"edge\">\n<title>16&#45;&gt;18</title>\n<path fill=\"none\" stroke=\"black\" d=\"M896.28,-103.73C903.14,-94.79 910.4,-85.32 917.28,-76.36\"/>\n<polygon fill=\"black\" stroke=\"black\" points=\"920.15,-78.36 923.46,-68.3 914.59,-74.1 920.15,-78.36\"/>\n</g>\n<!-- 20 -->\n<g id=\"node21\" class=\"node\">\n<title>20</title>\n<path fill=\"#e58139\" stroke=\"black\" d=\"M1198,-68C1198,-68 1060,-68 1060,-68 1054,-68 1048,-62 1048,-56 1048,-56 1048,-12 1048,-12 1048,-6 1054,0 1060,0 1060,0 1198,0 1198,0 1204,0 1210,-6 1210,-12 1210,-12 1210,-56 1210,-56 1210,-62 1204,-68 1198,-68\"/>\n<text text-anchor=\"start\" x=\"1087\" y=\"-52.8\" font-family=\"Helvetica,sans-Serif\" font-size=\"14.00\">entropy = 0.0</text>\n<text text-anchor=\"start\" x=\"1077.5\" y=\"-37.8\" font-family=\"Helvetica,sans-Serif\" font-size=\"14.00\">samples = 8024</text>\n<text text-anchor=\"start\" x=\"1076\" y=\"-22.8\" font-family=\"Helvetica,sans-Serif\" font-size=\"14.00\">value = [8024, 0]</text>\n<text text-anchor=\"start\" x=\"1056\" y=\"-7.8\" font-family=\"Helvetica,sans-Serif\" font-size=\"14.00\">class = No Fraudulento</text>\n</g>\n<!-- 19&#45;&gt;20 -->\n<g id=\"edge20\" class=\"edge\">\n<title>19&#45;&gt;20</title>\n<path fill=\"none\" stroke=\"black\" d=\"M1129,-103.73C1129,-95.52 1129,-86.86 1129,-78.56\"/>\n<polygon fill=\"black\" stroke=\"black\" points=\"1132.5,-78.3 1129,-68.3 1125.5,-78.3 1132.5,-78.3\"/>\n</g>\n<!-- 21 -->\n<g id=\"node22\" class=\"node\">\n<title>21</title>\n<path fill=\"#57ace9\" stroke=\"black\" d=\"M1356,-68C1356,-68 1240,-68 1240,-68 1234,-68 1228,-62 1228,-56 1228,-56 1228,-12 1228,-12 1228,-6 1234,0 1240,0 1240,0 1356,0 1356,0 1362,0 1368,-6 1368,-12 1368,-12 1368,-56 1368,-56 1368,-62 1362,-68 1356,-68\"/>\n<text text-anchor=\"start\" x=\"1248\" y=\"-52.8\" font-family=\"Helvetica,sans-Serif\" font-size=\"14.00\">entropy = 0.558</text>\n<text text-anchor=\"start\" x=\"1250.5\" y=\"-37.8\" font-family=\"Helvetica,sans-Serif\" font-size=\"14.00\">samples = 123</text>\n<text text-anchor=\"start\" x=\"1245\" y=\"-22.8\" font-family=\"Helvetica,sans-Serif\" font-size=\"14.00\">value = [16, 107]</text>\n<text text-anchor=\"start\" x=\"1236\" y=\"-7.8\" font-family=\"Helvetica,sans-Serif\" font-size=\"14.00\">class = Fraudulento</text>\n</g>\n<!-- 19&#45;&gt;21 -->\n<g id=\"edge21\" class=\"edge\">\n<title>19&#45;&gt;21</title>\n<path fill=\"none\" stroke=\"black\" d=\"M1191.93,-103.73C1207.07,-93.92 1223.2,-83.46 1238.19,-73.75\"/>\n<polygon fill=\"black\" stroke=\"black\" points=\"1240.39,-76.5 1246.88,-68.13 1236.58,-70.63 1240.39,-76.5\"/>\n</g>\n<!-- 23 -->\n<g id=\"node24\" class=\"node\">\n<title>23</title>\n<path fill=\"#e99254\" stroke=\"black\" d=\"M2029,-425C2029,-425 1841,-425 1841,-425 1835,-425 1829,-419 1829,-413 1829,-413 1829,-354 1829,-354 1829,-348 1835,-342 1841,-342 1841,-342 2029,-342 2029,-342 2035,-342 2041,-348 2041,-354 2041,-354 2041,-413 2041,-413 2041,-419 2035,-425 2029,-425\"/>\n<text text-anchor=\"start\" x=\"1837\" y=\"-409.8\" font-family=\"Helvetica,sans-Serif\" font-size=\"14.00\">distance_from_home ≤ 99.998</text>\n<text text-anchor=\"start\" x=\"1885\" y=\"-394.8\" font-family=\"Helvetica,sans-Serif\" font-size=\"14.00\">entropy = 0.534</text>\n<text text-anchor=\"start\" x=\"1879\" y=\"-379.8\" font-family=\"Helvetica,sans-Serif\" font-size=\"14.00\">samples = 28875</text>\n<text text-anchor=\"start\" x=\"1865.5\" y=\"-364.8\" font-family=\"Helvetica,sans-Serif\" font-size=\"14.00\">value = [25365, 3510]</text>\n<text text-anchor=\"start\" x=\"1862\" y=\"-349.8\" font-family=\"Helvetica,sans-Serif\" font-size=\"14.00\">class = No Fraudulento</text>\n</g>\n<!-- 22&#45;&gt;23 -->\n<g id=\"edge23\" class=\"edge\">\n<title>22&#45;&gt;23</title>\n<path fill=\"none\" stroke=\"black\" d=\"M1935,-460.91C1935,-452.65 1935,-443.86 1935,-435.3\"/>\n<polygon fill=\"black\" stroke=\"black\" points=\"1938.5,-435.02 1935,-425.02 1931.5,-435.02 1938.5,-435.02\"/>\n</g>\n<!-- 36 -->\n<g id=\"node37\" class=\"node\">\n<title>36</title>\n<path fill=\"#4ea7e8\" stroke=\"black\" d=\"M2364.5,-425C2364.5,-425 2221.5,-425 2221.5,-425 2215.5,-425 2209.5,-419 2209.5,-413 2209.5,-413 2209.5,-354 2209.5,-354 2209.5,-348 2215.5,-342 2221.5,-342 2221.5,-342 2364.5,-342 2364.5,-342 2370.5,-342 2376.5,-348 2376.5,-354 2376.5,-354 2376.5,-413 2376.5,-413 2376.5,-419 2370.5,-425 2364.5,-425\"/>\n<text text-anchor=\"start\" x=\"2217.5\" y=\"-409.8\" font-family=\"Helvetica,sans-Serif\" font-size=\"14.00\">used_pin_number ≤ 0.5</text>\n<text text-anchor=\"start\" x=\"2243\" y=\"-394.8\" font-family=\"Helvetica,sans-Serif\" font-size=\"14.00\">entropy = 0.457</text>\n<text text-anchor=\"start\" x=\"2237\" y=\"-379.8\" font-family=\"Helvetica,sans-Serif\" font-size=\"14.00\">samples = 53440</text>\n<text text-anchor=\"start\" x=\"2223.5\" y=\"-364.8\" font-family=\"Helvetica,sans-Serif\" font-size=\"14.00\">value = [5148, 48292]</text>\n<text text-anchor=\"start\" x=\"2231\" y=\"-349.8\" font-family=\"Helvetica,sans-Serif\" font-size=\"14.00\">class = Fraudulento</text>\n</g>\n<!-- 22&#45;&gt;36 -->\n<g id=\"edge36\" class=\"edge\">\n<title>22&#45;&gt;36</title>\n<path fill=\"none\" stroke=\"black\" d=\"M2016.68,-474.8C2071.21,-456.98 2143.04,-433.51 2199.8,-414.96\"/>\n<polygon fill=\"black\" stroke=\"black\" points=\"2201.08,-418.22 2209.49,-411.79 2198.9,-411.57 2201.08,-418.22\"/>\n</g>\n<!-- 24 -->\n<g id=\"node25\" class=\"node\">\n<title>24</title>\n<path fill=\"#e78c4b\" stroke=\"black\" d=\"M1912.5,-306C1912.5,-306 1733.5,-306 1733.5,-306 1727.5,-306 1721.5,-300 1721.5,-294 1721.5,-294 1721.5,-235 1721.5,-235 1721.5,-229 1727.5,-223 1733.5,-223 1733.5,-223 1912.5,-223 1912.5,-223 1918.5,-223 1924.5,-229 1924.5,-235 1924.5,-235 1924.5,-294 1924.5,-294 1924.5,-300 1918.5,-306 1912.5,-306\"/>\n<text text-anchor=\"start\" x=\"1729.5\" y=\"-290.8\" font-family=\"Helvetica,sans-Serif\" font-size=\"14.00\">distance_from_home ≤ 1.898</text>\n<text text-anchor=\"start\" x=\"1773\" y=\"-275.8\" font-family=\"Helvetica,sans-Serif\" font-size=\"14.00\">entropy = 0.408</text>\n<text text-anchor=\"start\" x=\"1767\" y=\"-260.8\" font-family=\"Helvetica,sans-Serif\" font-size=\"14.00\">samples = 27468</text>\n<text text-anchor=\"start\" x=\"1753.5\" y=\"-245.8\" font-family=\"Helvetica,sans-Serif\" font-size=\"14.00\">value = [25224, 2244]</text>\n<text text-anchor=\"start\" x=\"1750\" y=\"-230.8\" font-family=\"Helvetica,sans-Serif\" font-size=\"14.00\">class = No Fraudulento</text>\n</g>\n<!-- 23&#45;&gt;24 -->\n<g id=\"edge24\" class=\"edge\">\n<title>23&#45;&gt;24</title>\n<path fill=\"none\" stroke=\"black\" d=\"M1896.14,-341.91C1887.37,-332.74 1877.97,-322.93 1868.94,-313.49\"/>\n<polygon fill=\"black\" stroke=\"black\" points=\"1871.23,-310.82 1861.79,-306.02 1866.18,-315.66 1871.23,-310.82\"/>\n</g>\n<!-- 31 -->\n<g id=\"node32\" class=\"node\">\n<title>31</title>\n<path fill=\"#4fa8e8\" stroke=\"black\" d=\"M2119.5,-306C2119.5,-306 1976.5,-306 1976.5,-306 1970.5,-306 1964.5,-300 1964.5,-294 1964.5,-294 1964.5,-235 1964.5,-235 1964.5,-229 1970.5,-223 1976.5,-223 1976.5,-223 2119.5,-223 2119.5,-223 2125.5,-223 2131.5,-229 2131.5,-235 2131.5,-235 2131.5,-294 2131.5,-294 2131.5,-300 2125.5,-306 2119.5,-306\"/>\n<text text-anchor=\"start\" x=\"1972.5\" y=\"-290.8\" font-family=\"Helvetica,sans-Serif\" font-size=\"14.00\">used_pin_number ≤ 0.5</text>\n<text text-anchor=\"start\" x=\"2002\" y=\"-275.8\" font-family=\"Helvetica,sans-Serif\" font-size=\"14.00\">entropy = 0.47</text>\n<text text-anchor=\"start\" x=\"1996.5\" y=\"-260.8\" font-family=\"Helvetica,sans-Serif\" font-size=\"14.00\">samples = 1407</text>\n<text text-anchor=\"start\" x=\"1987\" y=\"-245.8\" font-family=\"Helvetica,sans-Serif\" font-size=\"14.00\">value = [141, 1266]</text>\n<text text-anchor=\"start\" x=\"1986\" y=\"-230.8\" font-family=\"Helvetica,sans-Serif\" font-size=\"14.00\">class = Fraudulento</text>\n</g>\n<!-- 23&#45;&gt;31 -->\n<g id=\"edge31\" class=\"edge\">\n<title>23&#45;&gt;31</title>\n<path fill=\"none\" stroke=\"black\" d=\"M1974.2,-341.91C1983.06,-332.74 1992.54,-322.93 2001.65,-313.49\"/>\n<polygon fill=\"black\" stroke=\"black\" points=\"2004.43,-315.65 2008.86,-306.02 1999.4,-310.78 2004.43,-315.65\"/>\n</g>\n<!-- 25 -->\n<g id=\"node26\" class=\"node\">\n<title>25</title>\n<path fill=\"#cde6f8\" stroke=\"black\" d=\"M1656,-187C1656,-187 1534,-187 1534,-187 1528,-187 1522,-181 1522,-175 1522,-175 1522,-116 1522,-116 1522,-110 1528,-104 1534,-104 1534,-104 1656,-104 1656,-104 1662,-104 1668,-110 1668,-116 1668,-116 1668,-175 1668,-175 1668,-181 1662,-187 1656,-187\"/>\n<text text-anchor=\"start\" x=\"1544\" y=\"-171.8\" font-family=\"Helvetica,sans-Serif\" font-size=\"14.00\">used_chip ≤ 0.5</text>\n<text text-anchor=\"start\" x=\"1545\" y=\"-156.8\" font-family=\"Helvetica,sans-Serif\" font-size=\"14.00\">entropy = 0.985</text>\n<text text-anchor=\"start\" x=\"1543.5\" y=\"-141.8\" font-family=\"Helvetica,sans-Serif\" font-size=\"14.00\">samples = 3362</text>\n<text text-anchor=\"start\" x=\"1530\" y=\"-126.8\" font-family=\"Helvetica,sans-Serif\" font-size=\"14.00\">value = [1437, 1925]</text>\n<text text-anchor=\"start\" x=\"1533\" y=\"-111.8\" font-family=\"Helvetica,sans-Serif\" font-size=\"14.00\">class = Fraudulento</text>\n</g>\n<!-- 24&#45;&gt;25 -->\n<g id=\"edge25\" class=\"edge\">\n<title>24&#45;&gt;25</title>\n<path fill=\"none\" stroke=\"black\" d=\"M1743.9,-222.91C1722.4,-211.88 1699.07,-199.91 1677.4,-188.79\"/>\n<polygon fill=\"black\" stroke=\"black\" points=\"1678.72,-185.53 1668.22,-184.08 1675.52,-191.76 1678.72,-185.53\"/>\n</g>\n<!-- 28 -->\n<g id=\"node29\" class=\"node\">\n<title>28</title>\n<path fill=\"#e5833c\" stroke=\"black\" d=\"M1948,-187C1948,-187 1698,-187 1698,-187 1692,-187 1686,-181 1686,-175 1686,-175 1686,-116 1686,-116 1686,-110 1692,-104 1698,-104 1698,-104 1948,-104 1948,-104 1954,-104 1960,-110 1960,-116 1960,-116 1960,-175 1960,-175 1960,-181 1954,-187 1948,-187\"/>\n<text text-anchor=\"start\" x=\"1694\" y=\"-171.8\" font-family=\"Helvetica,sans-Serif\" font-size=\"14.00\">distance_from_last_transaction ≤ 50.038</text>\n<text text-anchor=\"start\" x=\"1773\" y=\"-156.8\" font-family=\"Helvetica,sans-Serif\" font-size=\"14.00\">entropy = 0.102</text>\n<text text-anchor=\"start\" x=\"1767\" y=\"-141.8\" font-family=\"Helvetica,sans-Serif\" font-size=\"14.00\">samples = 24106</text>\n<text text-anchor=\"start\" x=\"1758\" y=\"-126.8\" font-family=\"Helvetica,sans-Serif\" font-size=\"14.00\">value = [23787, 319]</text>\n<text text-anchor=\"start\" x=\"1750\" y=\"-111.8\" font-family=\"Helvetica,sans-Serif\" font-size=\"14.00\">class = No Fraudulento</text>\n</g>\n<!-- 24&#45;&gt;28 -->\n<g id=\"edge28\" class=\"edge\">\n<title>24&#45;&gt;28</title>\n<path fill=\"none\" stroke=\"black\" d=\"M1823,-222.91C1823,-214.65 1823,-205.86 1823,-197.3\"/>\n<polygon fill=\"black\" stroke=\"black\" points=\"1826.5,-197.02 1823,-187.02 1819.5,-197.02 1826.5,-197.02\"/>\n</g>\n<!-- 26 -->\n<g id=\"node27\" class=\"node\">\n<title>26</title>\n<path fill=\"#50a8e8\" stroke=\"black\" d=\"M1514,-68C1514,-68 1398,-68 1398,-68 1392,-68 1386,-62 1386,-56 1386,-56 1386,-12 1386,-12 1386,-6 1392,0 1398,0 1398,0 1514,0 1514,0 1520,0 1526,-6 1526,-12 1526,-12 1526,-56 1526,-56 1526,-62 1520,-68 1514,-68\"/>\n<text text-anchor=\"start\" x=\"1406\" y=\"-52.8\" font-family=\"Helvetica,sans-Serif\" font-size=\"14.00\">entropy = 0.479</text>\n<text text-anchor=\"start\" x=\"1404.5\" y=\"-37.8\" font-family=\"Helvetica,sans-Serif\" font-size=\"14.00\">samples = 2131</text>\n<text text-anchor=\"start\" x=\"1395\" y=\"-22.8\" font-family=\"Helvetica,sans-Serif\" font-size=\"14.00\">value = [220, 1911]</text>\n<text text-anchor=\"start\" x=\"1394\" y=\"-7.8\" font-family=\"Helvetica,sans-Serif\" font-size=\"14.00\">class = Fraudulento</text>\n</g>\n<!-- 25&#45;&gt;26 -->\n<g id=\"edge26\" class=\"edge\">\n<title>25&#45;&gt;26</title>\n<path fill=\"none\" stroke=\"black\" d=\"M1543.24,-103.73C1531.2,-94.24 1518.4,-84.16 1506.42,-74.72\"/>\n<polygon fill=\"black\" stroke=\"black\" points=\"1508.29,-71.74 1498.27,-68.3 1503.96,-77.24 1508.29,-71.74\"/>\n</g>\n<!-- 27 -->\n<g id=\"node28\" class=\"node\">\n<title>27</title>\n<path fill=\"#e5823b\" stroke=\"black\" d=\"M1694,-68C1694,-68 1556,-68 1556,-68 1550,-68 1544,-62 1544,-56 1544,-56 1544,-12 1544,-12 1544,-6 1550,0 1556,0 1556,0 1694,0 1694,0 1700,0 1706,-6 1706,-12 1706,-12 1706,-56 1706,-56 1706,-62 1700,-68 1694,-68\"/>\n<text text-anchor=\"start\" x=\"1579\" y=\"-52.8\" font-family=\"Helvetica,sans-Serif\" font-size=\"14.00\">entropy = 0.09</text>\n<text text-anchor=\"start\" x=\"1573.5\" y=\"-37.8\" font-family=\"Helvetica,sans-Serif\" font-size=\"14.00\">samples = 1231</text>\n<text text-anchor=\"start\" x=\"1568\" y=\"-22.8\" font-family=\"Helvetica,sans-Serif\" font-size=\"14.00\">value = [1217, 14]</text>\n<text text-anchor=\"start\" x=\"1552\" y=\"-7.8\" font-family=\"Helvetica,sans-Serif\" font-size=\"14.00\">class = No Fraudulento</text>\n</g>\n<!-- 25&#45;&gt;27 -->\n<g id=\"edge27\" class=\"edge\">\n<title>25&#45;&gt;27</title>\n<path fill=\"none\" stroke=\"black\" d=\"M1606.17,-103.73C1608.47,-95.34 1610.9,-86.47 1613.22,-78.01\"/>\n<polygon fill=\"black\" stroke=\"black\" points=\"1616.61,-78.87 1615.88,-68.3 1609.86,-77.02 1616.61,-78.87\"/>\n</g>\n<!-- 29 -->\n<g id=\"node30\" class=\"node\">\n<title>29</title>\n<path fill=\"#e58139\" stroke=\"black\" d=\"M1874,-68C1874,-68 1736,-68 1736,-68 1730,-68 1724,-62 1724,-56 1724,-56 1724,-12 1724,-12 1724,-6 1730,0 1736,0 1736,0 1874,0 1874,0 1880,0 1886,-6 1886,-12 1886,-12 1886,-56 1886,-56 1886,-62 1880,-68 1874,-68\"/>\n<text text-anchor=\"start\" x=\"1763\" y=\"-52.8\" font-family=\"Helvetica,sans-Serif\" font-size=\"14.00\">entropy = 0.0</text>\n<text text-anchor=\"start\" x=\"1749\" y=\"-37.8\" font-family=\"Helvetica,sans-Serif\" font-size=\"14.00\">samples = 23756</text>\n<text text-anchor=\"start\" x=\"1748\" y=\"-22.8\" font-family=\"Helvetica,sans-Serif\" font-size=\"14.00\">value = [23756, 0]</text>\n<text text-anchor=\"start\" x=\"1732\" y=\"-7.8\" font-family=\"Helvetica,sans-Serif\" font-size=\"14.00\">class = No Fraudulento</text>\n</g>\n<!-- 28&#45;&gt;29 -->\n<g id=\"edge29\" class=\"edge\">\n<title>28&#45;&gt;29</title>\n<path fill=\"none\" stroke=\"black\" d=\"M1816.3,-103.73C1814.93,-95.43 1813.49,-86.67 1812.12,-78.28\"/>\n<polygon fill=\"black\" stroke=\"black\" points=\"1815.55,-77.6 1810.47,-68.3 1808.64,-78.73 1815.55,-77.6\"/>\n</g>\n<!-- 30 -->\n<g id=\"node31\" class=\"node\">\n<title>30</title>\n<path fill=\"#4ca7e8\" stroke=\"black\" d=\"M2032,-68C2032,-68 1916,-68 1916,-68 1910,-68 1904,-62 1904,-56 1904,-56 1904,-12 1904,-12 1904,-6 1910,0 1916,0 1916,0 2032,0 2032,0 2038,0 2044,-6 2044,-12 2044,-12 2044,-56 2044,-56 2044,-62 2038,-68 2032,-68\"/>\n<text text-anchor=\"start\" x=\"1924\" y=\"-52.8\" font-family=\"Helvetica,sans-Serif\" font-size=\"14.00\">entropy = 0.432</text>\n<text text-anchor=\"start\" x=\"1926.5\" y=\"-37.8\" font-family=\"Helvetica,sans-Serif\" font-size=\"14.00\">samples = 350</text>\n<text text-anchor=\"start\" x=\"1921\" y=\"-22.8\" font-family=\"Helvetica,sans-Serif\" font-size=\"14.00\">value = [31, 319]</text>\n<text text-anchor=\"start\" x=\"1912\" y=\"-7.8\" font-family=\"Helvetica,sans-Serif\" font-size=\"14.00\">class = Fraudulento</text>\n</g>\n<!-- 28&#45;&gt;30 -->\n<g id=\"edge30\" class=\"edge\">\n<title>28&#45;&gt;30</title>\n<path fill=\"none\" stroke=\"black\" d=\"M1879.23,-103.73C1892.56,-94.06 1906.75,-83.77 1919.98,-74.17\"/>\n<polygon fill=\"black\" stroke=\"black\" points=\"1922.04,-77 1928.08,-68.3 1917.93,-71.34 1922.04,-77\"/>\n</g>\n<!-- 32 -->\n<g id=\"node33\" class=\"node\">\n<title>32</title>\n<path fill=\"#399de5\" stroke=\"black\" d=\"M2106,-179.5C2106,-179.5 1990,-179.5 1990,-179.5 1984,-179.5 1978,-173.5 1978,-167.5 1978,-167.5 1978,-123.5 1978,-123.5 1978,-117.5 1984,-111.5 1990,-111.5 1990,-111.5 2106,-111.5 2106,-111.5 2112,-111.5 2118,-117.5 2118,-123.5 2118,-123.5 2118,-167.5 2118,-167.5 2118,-173.5 2112,-179.5 2106,-179.5\"/>\n<text text-anchor=\"start\" x=\"2006\" y=\"-164.3\" font-family=\"Helvetica,sans-Serif\" font-size=\"14.00\">entropy = 0.0</text>\n<text text-anchor=\"start\" x=\"1996.5\" y=\"-149.3\" font-family=\"Helvetica,sans-Serif\" font-size=\"14.00\">samples = 1265</text>\n<text text-anchor=\"start\" x=\"1995\" y=\"-134.3\" font-family=\"Helvetica,sans-Serif\" font-size=\"14.00\">value = [0, 1265]</text>\n<text text-anchor=\"start\" x=\"1986\" y=\"-119.3\" font-family=\"Helvetica,sans-Serif\" font-size=\"14.00\">class = Fraudulento</text>\n</g>\n<!-- 31&#45;&gt;32 -->\n<g id=\"edge32\" class=\"edge\">\n<title>31&#45;&gt;32</title>\n<path fill=\"none\" stroke=\"black\" d=\"M2048,-222.91C2048,-212.2 2048,-200.62 2048,-189.78\"/>\n<polygon fill=\"black\" stroke=\"black\" points=\"2051.5,-189.67 2048,-179.67 2044.5,-189.67 2051.5,-189.67\"/>\n</g>\n<!-- 33 -->\n<g id=\"node34\" class=\"node\">\n<title>33</title>\n<path fill=\"#e5823a\" stroke=\"black\" d=\"M2398,-187C2398,-187 2148,-187 2148,-187 2142,-187 2136,-181 2136,-175 2136,-175 2136,-116 2136,-116 2136,-110 2142,-104 2148,-104 2148,-104 2398,-104 2398,-104 2404,-104 2410,-110 2410,-116 2410,-116 2410,-175 2410,-175 2410,-181 2404,-187 2398,-187\"/>\n<text text-anchor=\"start\" x=\"2144\" y=\"-171.8\" font-family=\"Helvetica,sans-Serif\" font-size=\"14.00\">distance_from_last_transaction ≤ 49.579</text>\n<text text-anchor=\"start\" x=\"2227\" y=\"-156.8\" font-family=\"Helvetica,sans-Serif\" font-size=\"14.00\">entropy = 0.06</text>\n<text text-anchor=\"start\" x=\"2225.5\" y=\"-141.8\" font-family=\"Helvetica,sans-Serif\" font-size=\"14.00\">samples = 142</text>\n<text text-anchor=\"start\" x=\"2224.5\" y=\"-126.8\" font-family=\"Helvetica,sans-Serif\" font-size=\"14.00\">value = [141, 1]</text>\n<text text-anchor=\"start\" x=\"2200\" y=\"-111.8\" font-family=\"Helvetica,sans-Serif\" font-size=\"14.00\">class = No Fraudulento</text>\n</g>\n<!-- 31&#45;&gt;33 -->\n<g id=\"edge33\" class=\"edge\">\n<title>31&#45;&gt;33</title>\n<path fill=\"none\" stroke=\"black\" d=\"M2126.06,-222.91C2145.43,-212.83 2166.31,-201.98 2186.08,-191.7\"/>\n<polygon fill=\"black\" stroke=\"black\" points=\"2187.82,-194.74 2195.08,-187.02 2184.59,-188.53 2187.82,-194.74\"/>\n</g>\n<!-- 34 -->\n<g id=\"node35\" class=\"node\">\n<title>34</title>\n<path fill=\"#e58139\" stroke=\"black\" d=\"M2212,-68C2212,-68 2074,-68 2074,-68 2068,-68 2062,-62 2062,-56 2062,-56 2062,-12 2062,-12 2062,-6 2068,0 2074,0 2074,0 2212,0 2212,0 2218,0 2224,-6 2224,-12 2224,-12 2224,-56 2224,-56 2224,-62 2218,-68 2212,-68\"/>\n<text text-anchor=\"start\" x=\"2101\" y=\"-52.8\" font-family=\"Helvetica,sans-Serif\" font-size=\"14.00\">entropy = 0.0</text>\n<text text-anchor=\"start\" x=\"2095.5\" y=\"-37.8\" font-family=\"Helvetica,sans-Serif\" font-size=\"14.00\">samples = 141</text>\n<text text-anchor=\"start\" x=\"2094.5\" y=\"-22.8\" font-family=\"Helvetica,sans-Serif\" font-size=\"14.00\">value = [141, 0]</text>\n<text text-anchor=\"start\" x=\"2070\" y=\"-7.8\" font-family=\"Helvetica,sans-Serif\" font-size=\"14.00\">class = No Fraudulento</text>\n</g>\n<!-- 33&#45;&gt;34 -->\n<g id=\"edge34\" class=\"edge\">\n<title>33&#45;&gt;34</title>\n<path fill=\"none\" stroke=\"black\" d=\"M2224.59,-103.73C2213.44,-94.33 2201.59,-84.35 2190.47,-74.99\"/>\n<polygon fill=\"black\" stroke=\"black\" points=\"2192.44,-72.06 2182.53,-68.3 2187.93,-77.42 2192.44,-72.06\"/>\n</g>\n<!-- 35 -->\n<g id=\"node36\" class=\"node\">\n<title>35</title>\n<path fill=\"#399de5\" stroke=\"black\" d=\"M2370,-68C2370,-68 2254,-68 2254,-68 2248,-68 2242,-62 2242,-56 2242,-56 2242,-12 2242,-12 2242,-6 2248,0 2254,0 2254,0 2370,0 2370,0 2376,0 2382,-6 2382,-12 2382,-12 2382,-56 2382,-56 2382,-62 2376,-68 2370,-68\"/>\n<text text-anchor=\"start\" x=\"2270\" y=\"-52.8\" font-family=\"Helvetica,sans-Serif\" font-size=\"14.00\">entropy = 0.0</text>\n<text text-anchor=\"start\" x=\"2272.5\" y=\"-37.8\" font-family=\"Helvetica,sans-Serif\" font-size=\"14.00\">samples = 1</text>\n<text text-anchor=\"start\" x=\"2271.5\" y=\"-22.8\" font-family=\"Helvetica,sans-Serif\" font-size=\"14.00\">value = [0, 1]</text>\n<text text-anchor=\"start\" x=\"2250\" y=\"-7.8\" font-family=\"Helvetica,sans-Serif\" font-size=\"14.00\">class = Fraudulento</text>\n</g>\n<!-- 33&#45;&gt;35 -->\n<g id=\"edge35\" class=\"edge\">\n<title>33&#45;&gt;35</title>\n<path fill=\"none\" stroke=\"black\" d=\"M2287.52,-103.73C2290.54,-95.24 2293.74,-86.28 2296.78,-77.73\"/>\n<polygon fill=\"black\" stroke=\"black\" points=\"2300.08,-78.89 2300.14,-68.3 2293.49,-76.55 2300.08,-78.89\"/>\n</g>\n<!-- 37 -->\n<g id=\"node38\" class=\"node\">\n<title>37</title>\n<path fill=\"#399de5\" stroke=\"black\" d=\"M2351,-298.5C2351,-298.5 2235,-298.5 2235,-298.5 2229,-298.5 2223,-292.5 2223,-286.5 2223,-286.5 2223,-242.5 2223,-242.5 2223,-236.5 2229,-230.5 2235,-230.5 2235,-230.5 2351,-230.5 2351,-230.5 2357,-230.5 2363,-236.5 2363,-242.5 2363,-242.5 2363,-286.5 2363,-286.5 2363,-292.5 2357,-298.5 2351,-298.5\"/>\n<text text-anchor=\"start\" x=\"2251\" y=\"-283.3\" font-family=\"Helvetica,sans-Serif\" font-size=\"14.00\">entropy = 0.0</text>\n<text text-anchor=\"start\" x=\"2237\" y=\"-268.3\" font-family=\"Helvetica,sans-Serif\" font-size=\"14.00\">samples = 48075</text>\n<text text-anchor=\"start\" x=\"2236\" y=\"-253.3\" font-family=\"Helvetica,sans-Serif\" font-size=\"14.00\">value = [0, 48075]</text>\n<text text-anchor=\"start\" x=\"2231\" y=\"-238.3\" font-family=\"Helvetica,sans-Serif\" font-size=\"14.00\">class = Fraudulento</text>\n</g>\n<!-- 36&#45;&gt;37 -->\n<g id=\"edge37\" class=\"edge\">\n<title>36&#45;&gt;37</title>\n<path fill=\"none\" stroke=\"black\" d=\"M2293,-341.91C2293,-331.2 2293,-319.62 2293,-308.78\"/>\n<polygon fill=\"black\" stroke=\"black\" points=\"2296.5,-308.67 2293,-298.67 2289.5,-308.67 2296.5,-308.67\"/>\n</g>\n<!-- 38 -->\n<g id=\"node39\" class=\"node\">\n<title>38</title>\n<path fill=\"#e68641\" stroke=\"black\" d=\"M2672,-306C2672,-306 2476,-306 2476,-306 2470,-306 2464,-300 2464,-294 2464,-294 2464,-235 2464,-235 2464,-229 2470,-223 2476,-223 2476,-223 2672,-223 2672,-223 2678,-223 2684,-229 2684,-235 2684,-235 2684,-294 2684,-294 2684,-300 2678,-306 2672,-306\"/>\n<text text-anchor=\"start\" x=\"2472\" y=\"-290.8\" font-family=\"Helvetica,sans-Serif\" font-size=\"14.00\">distance_from_home ≤ 100.362</text>\n<text text-anchor=\"start\" x=\"2524\" y=\"-275.8\" font-family=\"Helvetica,sans-Serif\" font-size=\"14.00\">entropy = 0.244</text>\n<text text-anchor=\"start\" x=\"2522.5\" y=\"-260.8\" font-family=\"Helvetica,sans-Serif\" font-size=\"14.00\">samples = 5365</text>\n<text text-anchor=\"start\" x=\"2513\" y=\"-245.8\" font-family=\"Helvetica,sans-Serif\" font-size=\"14.00\">value = [5148, 217]</text>\n<text text-anchor=\"start\" x=\"2501\" y=\"-230.8\" font-family=\"Helvetica,sans-Serif\" font-size=\"14.00\">class = No Fraudulento</text>\n</g>\n<!-- 36&#45;&gt;38 -->\n<g id=\"edge38\" class=\"edge\">\n<title>36&#45;&gt;38</title>\n<path fill=\"none\" stroke=\"black\" d=\"M2376.55,-347.71C2405.06,-335.84 2437.35,-322.4 2467.43,-309.87\"/>\n<polygon fill=\"black\" stroke=\"black\" points=\"2468.8,-313.09 2476.68,-306.02 2466.11,-306.63 2468.8,-313.09\"/>\n</g>\n<!-- 39 -->\n<g id=\"node40\" class=\"node\">\n<title>39</title>\n<path fill=\"#e5823b\" stroke=\"black\" d=\"M2699,-187C2699,-187 2449,-187 2449,-187 2443,-187 2437,-181 2437,-175 2437,-175 2437,-116 2437,-116 2437,-110 2443,-104 2449,-104 2449,-104 2699,-104 2699,-104 2705,-104 2711,-110 2711,-116 2711,-116 2711,-175 2711,-175 2711,-181 2705,-187 2699,-187\"/>\n<text text-anchor=\"start\" x=\"2445\" y=\"-171.8\" font-family=\"Helvetica,sans-Serif\" font-size=\"14.00\">distance_from_last_transaction ≤ 52.619</text>\n<text text-anchor=\"start\" x=\"2528\" y=\"-156.8\" font-family=\"Helvetica,sans-Serif\" font-size=\"14.00\">entropy = 0.09</text>\n<text text-anchor=\"start\" x=\"2522.5\" y=\"-141.8\" font-family=\"Helvetica,sans-Serif\" font-size=\"14.00\">samples = 5108</text>\n<text text-anchor=\"start\" x=\"2517\" y=\"-126.8\" font-family=\"Helvetica,sans-Serif\" font-size=\"14.00\">value = [5050, 58]</text>\n<text text-anchor=\"start\" x=\"2501\" y=\"-111.8\" font-family=\"Helvetica,sans-Serif\" font-size=\"14.00\">class = No Fraudulento</text>\n</g>\n<!-- 38&#45;&gt;39 -->\n<g id=\"edge39\" class=\"edge\">\n<title>38&#45;&gt;39</title>\n<path fill=\"none\" stroke=\"black\" d=\"M2574,-222.91C2574,-214.65 2574,-205.86 2574,-197.3\"/>\n<polygon fill=\"black\" stroke=\"black\" points=\"2577.5,-197.02 2574,-187.02 2570.5,-197.02 2577.5,-197.02\"/>\n</g>\n<!-- 42 -->\n<g id=\"node43\" class=\"node\">\n<title>42</title>\n<path fill=\"#b3d9f5\" stroke=\"black\" d=\"M2866,-187C2866,-187 2750,-187 2750,-187 2744,-187 2738,-181 2738,-175 2738,-175 2738,-116 2738,-116 2738,-110 2744,-104 2750,-104 2750,-104 2866,-104 2866,-104 2872,-104 2878,-110 2878,-116 2878,-116 2878,-175 2878,-175 2878,-181 2872,-187 2866,-187\"/>\n<text text-anchor=\"start\" x=\"2757\" y=\"-171.8\" font-family=\"Helvetica,sans-Serif\" font-size=\"14.00\">used_chip ≤ 0.5</text>\n<text text-anchor=\"start\" x=\"2758\" y=\"-156.8\" font-family=\"Helvetica,sans-Serif\" font-size=\"14.00\">entropy = 0.959</text>\n<text text-anchor=\"start\" x=\"2760.5\" y=\"-141.8\" font-family=\"Helvetica,sans-Serif\" font-size=\"14.00\">samples = 257</text>\n<text text-anchor=\"start\" x=\"2755\" y=\"-126.8\" font-family=\"Helvetica,sans-Serif\" font-size=\"14.00\">value = [98, 159]</text>\n<text text-anchor=\"start\" x=\"2746\" y=\"-111.8\" font-family=\"Helvetica,sans-Serif\" font-size=\"14.00\">class = Fraudulento</text>\n</g>\n<!-- 38&#45;&gt;42 -->\n<g id=\"edge42\" class=\"edge\">\n<title>38&#45;&gt;42</title>\n<path fill=\"none\" stroke=\"black\" d=\"M2655.19,-222.91C2679.06,-210.97 2705.14,-197.93 2728.89,-186.06\"/>\n<polygon fill=\"black\" stroke=\"black\" points=\"2730.49,-189.17 2737.87,-181.57 2727.36,-182.91 2730.49,-189.17\"/>\n</g>\n<!-- 40 -->\n<g id=\"node41\" class=\"node\">\n<title>40</title>\n<path fill=\"#e58139\" stroke=\"black\" d=\"M2550,-68C2550,-68 2412,-68 2412,-68 2406,-68 2400,-62 2400,-56 2400,-56 2400,-12 2400,-12 2400,-6 2406,0 2412,0 2412,0 2550,0 2550,0 2556,0 2562,-6 2562,-12 2562,-12 2562,-56 2562,-56 2562,-62 2556,-68 2550,-68\"/>\n<text text-anchor=\"start\" x=\"2439\" y=\"-52.8\" font-family=\"Helvetica,sans-Serif\" font-size=\"14.00\">entropy = 0.0</text>\n<text text-anchor=\"start\" x=\"2429.5\" y=\"-37.8\" font-family=\"Helvetica,sans-Serif\" font-size=\"14.00\">samples = 5026</text>\n<text text-anchor=\"start\" x=\"2428\" y=\"-22.8\" font-family=\"Helvetica,sans-Serif\" font-size=\"14.00\">value = [5026, 0]</text>\n<text text-anchor=\"start\" x=\"2408\" y=\"-7.8\" font-family=\"Helvetica,sans-Serif\" font-size=\"14.00\">class = No Fraudulento</text>\n</g>\n<!-- 39&#45;&gt;40 -->\n<g id=\"edge40\" class=\"edge\">\n<title>39&#45;&gt;40</title>\n<path fill=\"none\" stroke=\"black\" d=\"M2539.37,-103.73C2531.7,-94.7 2523.57,-85.12 2515.89,-76.08\"/>\n<polygon fill=\"black\" stroke=\"black\" points=\"2518.42,-73.66 2509.28,-68.3 2513.09,-78.19 2518.42,-73.66\"/>\n</g>\n<!-- 41 -->\n<g id=\"node42\" class=\"node\">\n<title>41</title>\n<path fill=\"#8bc6f0\" stroke=\"black\" d=\"M2708,-68C2708,-68 2592,-68 2592,-68 2586,-68 2580,-62 2580,-56 2580,-56 2580,-12 2580,-12 2580,-6 2586,0 2592,0 2592,0 2708,0 2708,0 2714,0 2720,-6 2720,-12 2720,-12 2720,-56 2720,-56 2720,-62 2714,-68 2708,-68\"/>\n<text text-anchor=\"start\" x=\"2600\" y=\"-52.8\" font-family=\"Helvetica,sans-Serif\" font-size=\"14.00\">entropy = 0.872</text>\n<text text-anchor=\"start\" x=\"2606.5\" y=\"-37.8\" font-family=\"Helvetica,sans-Serif\" font-size=\"14.00\">samples = 82</text>\n<text text-anchor=\"start\" x=\"2601.5\" y=\"-22.8\" font-family=\"Helvetica,sans-Serif\" font-size=\"14.00\">value = [24, 58]</text>\n<text text-anchor=\"start\" x=\"2588\" y=\"-7.8\" font-family=\"Helvetica,sans-Serif\" font-size=\"14.00\">class = Fraudulento</text>\n</g>\n<!-- 39&#45;&gt;41 -->\n<g id=\"edge41\" class=\"edge\">\n<title>39&#45;&gt;41</title>\n<path fill=\"none\" stroke=\"black\" d=\"M2602.3,-103.73C2608.44,-94.88 2614.94,-85.51 2621.11,-76.63\"/>\n<polygon fill=\"black\" stroke=\"black\" points=\"2624.06,-78.51 2626.89,-68.3 2618.31,-74.52 2624.06,-78.51\"/>\n</g>\n<!-- 43 -->\n<g id=\"node44\" class=\"node\">\n<title>43</title>\n<path fill=\"#399de5\" stroke=\"black\" d=\"M2866,-68C2866,-68 2750,-68 2750,-68 2744,-68 2738,-62 2738,-56 2738,-56 2738,-12 2738,-12 2738,-6 2744,0 2750,0 2750,0 2866,0 2866,0 2872,0 2878,-6 2878,-12 2878,-12 2878,-56 2878,-56 2878,-62 2872,-68 2866,-68\"/>\n<text text-anchor=\"start\" x=\"2766\" y=\"-52.8\" font-family=\"Helvetica,sans-Serif\" font-size=\"14.00\">entropy = 0.0</text>\n<text text-anchor=\"start\" x=\"2760.5\" y=\"-37.8\" font-family=\"Helvetica,sans-Serif\" font-size=\"14.00\">samples = 157</text>\n<text text-anchor=\"start\" x=\"2759.5\" y=\"-22.8\" font-family=\"Helvetica,sans-Serif\" font-size=\"14.00\">value = [0, 157]</text>\n<text text-anchor=\"start\" x=\"2746\" y=\"-7.8\" font-family=\"Helvetica,sans-Serif\" font-size=\"14.00\">class = Fraudulento</text>\n</g>\n<!-- 42&#45;&gt;43 -->\n<g id=\"edge43\" class=\"edge\">\n<title>42&#45;&gt;43</title>\n<path fill=\"none\" stroke=\"black\" d=\"M2808,-103.73C2808,-95.52 2808,-86.86 2808,-78.56\"/>\n<polygon fill=\"black\" stroke=\"black\" points=\"2811.5,-78.3 2808,-68.3 2804.5,-78.3 2811.5,-78.3\"/>\n</g>\n<!-- 44 -->\n<g id=\"node45\" class=\"node\">\n<title>44</title>\n<path fill=\"#e6843d\" stroke=\"black\" d=\"M3046,-68C3046,-68 2908,-68 2908,-68 2902,-68 2896,-62 2896,-56 2896,-56 2896,-12 2896,-12 2896,-6 2902,0 2908,0 2908,0 3046,0 3046,0 3052,0 3058,-6 3058,-12 3058,-12 3058,-56 3058,-56 3058,-62 3052,-68 3046,-68\"/>\n<text text-anchor=\"start\" x=\"2927\" y=\"-52.8\" font-family=\"Helvetica,sans-Serif\" font-size=\"14.00\">entropy = 0.141</text>\n<text text-anchor=\"start\" x=\"2929.5\" y=\"-37.8\" font-family=\"Helvetica,sans-Serif\" font-size=\"14.00\">samples = 100</text>\n<text text-anchor=\"start\" x=\"2932.5\" y=\"-22.8\" font-family=\"Helvetica,sans-Serif\" font-size=\"14.00\">value = [98, 2]</text>\n<text text-anchor=\"start\" x=\"2904\" y=\"-7.8\" font-family=\"Helvetica,sans-Serif\" font-size=\"14.00\">class = No Fraudulento</text>\n</g>\n<!-- 42&#45;&gt;44 -->\n<g id=\"edge44\" class=\"edge\">\n<title>42&#45;&gt;44</title>\n<path fill=\"none\" stroke=\"black\" d=\"M2870.93,-103.73C2886.07,-93.92 2902.2,-83.46 2917.19,-73.75\"/>\n<polygon fill=\"black\" stroke=\"black\" points=\"2919.39,-76.5 2925.88,-68.13 2915.58,-70.63 2919.39,-76.5\"/>\n</g>\n</g>\n</svg>\n",
      "text/plain": "<graphviz.sources.Source at 0x16292f10460>"
     },
     "execution_count": 162,
     "metadata": {},
     "output_type": "execute_result"
    }
   ],
   "source": [
    "dot_data = tree.export_graphviz(clf, out_file=None,\n",
    "                                feature_names=list(t_data.columns.values),\n",
    "                                class_names=[\"No Fraudulento\", \"Fraudulento\"],\n",
    "                                filled=True, rounded=True,\n",
    "                                special_characters=True)\n",
    "graph = graphviz.Source(dot_data)\n",
    "graph"
   ],
   "metadata": {
    "collapsed": false,
    "pycharm": {
     "name": "#%%\n"
    }
   }
  },
  {
   "cell_type": "markdown",
   "source": [
    "### Predicción de la data con el arbol de decisión sklearn"
   ],
   "metadata": {
    "collapsed": false,
    "pycharm": {
     "name": "#%% md\n"
    }
   }
  },
  {
   "cell_type": "code",
   "execution_count": 163,
   "outputs": [],
   "source": [
    "y_respuesta = clf.predict(w_test)"
   ],
   "metadata": {
    "collapsed": false,
    "pycharm": {
     "name": "#%%\n"
    }
   }
  },
  {
   "cell_type": "code",
   "execution_count": 164,
   "outputs": [
    {
     "data": {
      "text/plain": "array([0., 1., 0., ..., 0., 0., 0.])"
     },
     "execution_count": 164,
     "metadata": {},
     "output_type": "execute_result"
    }
   ],
   "source": [
    "y_respuesta"
   ],
   "metadata": {
    "collapsed": false,
    "pycharm": {
     "name": "#%%\n"
    }
   }
  },
  {
   "cell_type": "code",
   "execution_count": 165,
   "outputs": [
    {
     "name": "stdout",
     "output_type": "stream",
     "text": [
      "Accuracy del árbol de decisión: 99.87650000000001%\n"
     ]
    }
   ],
   "source": [
    "acc = metrics.accuracy_score(w_true, y_respuesta, normalize=True, sample_weight=None)\n",
    "print('Accuracy del árbol de decisión: {}%'.format(acc * 100))"
   ],
   "metadata": {
    "collapsed": false,
    "pycharm": {
     "name": "#%%\n"
    }
   }
  },
  {
   "cell_type": "code",
   "execution_count": 166,
   "outputs": [
    {
     "data": {
      "text/plain": "array([[182174,    189],\n       [    58,  17579]], dtype=int64)"
     },
     "execution_count": 166,
     "metadata": {},
     "output_type": "execute_result"
    }
   ],
   "source": [
    "metrics.confusion_matrix(w_true, y_respuesta)"
   ],
   "metadata": {
    "collapsed": false,
    "pycharm": {
     "name": "#%%\n"
    }
   }
  },
  {
   "cell_type": "markdown",
   "source": [
    "# Modelo Neuronal con Keras"
   ],
   "metadata": {
    "collapsed": false,
    "pycharm": {
     "name": "#%% md\n"
    }
   }
  },
  {
   "cell_type": "code",
   "execution_count": 167,
   "outputs": [],
   "source": [
    "modelScores = []"
   ],
   "metadata": {
    "collapsed": false,
    "pycharm": {
     "name": "#%%\n"
    }
   }
  },
  {
   "cell_type": "code",
   "execution_count": 168,
   "outputs": [],
   "source": [
    "scaler = StandardScaler()\n",
    "dframeKeras.iloc[:,0:-1] = scaler.fit_transform(dframeKeras.iloc[:,0:-1].to_numpy())"
   ],
   "metadata": {
    "collapsed": false,
    "pycharm": {
     "name": "#%%\n"
    }
   }
  },
  {
   "cell_type": "markdown",
   "source": [
    "## Separar la data en variables de entrenamiento y variables de prueba"
   ],
   "metadata": {
    "collapsed": false,
    "pycharm": {
     "name": "#%% md\n"
    }
   }
  },
  {
   "cell_type": "code",
   "execution_count": 169,
   "outputs": [],
   "source": [
    "trainKeras, testKeras = train_test_split(dframeKeras, test_size=0.2)"
   ],
   "metadata": {
    "collapsed": false,
    "pycharm": {
     "name": "#%%\n"
    }
   }
  },
  {
   "cell_type": "markdown",
   "source": [
    "## Definir data y target"
   ],
   "metadata": {
    "collapsed": false,
    "pycharm": {
     "name": "#%% md\n"
    }
   }
  },
  {
   "cell_type": "code",
   "execution_count": 170,
   "outputs": [],
   "source": [
    "t_data = trainKeras[trainKeras.columns[0:7]]\n",
    "t_target = trainKeras[trainKeras.columns[7]]\n",
    "w_test = testKeras[testKeras.columns[0:7]].iloc[10:50]\n",
    "w_true = testKeras[testKeras.columns[7]].iloc[10:50]  #Para validar el accuracy"
   ],
   "metadata": {
    "collapsed": false,
    "pycharm": {
     "name": "#%%\n"
    }
   }
  },
  {
   "cell_type": "markdown",
   "source": [
    "## Crear el modelo de la red neuronal"
   ],
   "metadata": {
    "collapsed": false,
    "pycharm": {
     "name": "#%% md\n"
    }
   }
  },
  {
   "cell_type": "code",
   "execution_count": 171,
   "outputs": [],
   "source": [
    "def get_basic_model(learning_rate):\n",
    "  model = tf.keras.Sequential([\n",
    "    tf.keras.layers.Dense(10, activation='relu'),\n",
    "    tf.keras.layers.Dense(10, activation='relu'),\n",
    "    tf.keras.layers.Dense(1)\n",
    "  ])\n",
    "\n",
    "  model.compile(optimizer=tf.keras.optimizers.Adam(learning_rate),\n",
    "                loss=tf.keras.losses.BinaryCrossentropy(from_logits=True),\n",
    "                metrics=['accuracy'])\n",
    "  return model"
   ],
   "metadata": {
    "collapsed": false,
    "pycharm": {
     "name": "#%%\n"
    }
   }
  },
  {
   "cell_type": "markdown",
   "source": [
    "## Entrenar el modelo 1 con aprendizaje 0.01"
   ],
   "metadata": {
    "collapsed": false,
    "pycharm": {
     "name": "#%% md\n"
    }
   }
  },
  {
   "cell_type": "code",
   "execution_count": 172,
   "outputs": [
    {
     "name": "stdout",
     "output_type": "stream",
     "text": [
      "Epoch 1/5\n",
      "25000/25000 [==============================] - 14s 561us/step - loss: 0.0218 - accuracy: 0.9915\n",
      "Epoch 2/5\n",
      "25000/25000 [==============================] - 14s 564us/step - loss: 0.0139 - accuracy: 0.9948\n",
      "Epoch 3/5\n",
      "25000/25000 [==============================] - 14s 557us/step - loss: 0.0107 - accuracy: 0.9959\n",
      "Epoch 4/5\n",
      "25000/25000 [==============================] - 14s 560us/step - loss: 0.0097 - accuracy: 0.9964\n",
      "Epoch 5/5\n",
      "25000/25000 [==============================] - 14s 557us/step - loss: 0.0090 - accuracy: 0.9968\n"
     ]
    }
   ],
   "source": [
    "model = get_basic_model(0.01)\n",
    "historial = model.fit(t_data, t_target, epochs=5, verbose=True)"
   ],
   "metadata": {
    "collapsed": false,
    "pycharm": {
     "name": "#%%\n"
    }
   }
  },
  {
   "cell_type": "code",
   "execution_count": 173,
   "outputs": [
    {
     "data": {
      "text/plain": "[<matplotlib.lines.Line2D at 0x162937804c0>]"
     },
     "execution_count": 173,
     "metadata": {},
     "output_type": "execute_result"
    },
    {
     "data": {
      "text/plain": "<Figure size 432x288 with 1 Axes>",
      "image/png": "[encoded data removed]"
     },
     "metadata": {
      "needs_background": "light"
     },
     "output_type": "display_data"
    }
   ],
   "source": [
    "plt.legend('Modelo Keras 0.01')\n",
    "plt.xlabel('Generaciones')\n",
    "plt.ylabel('Pérdida')\n",
    "plt.plot(historial.history['loss'])"
   ],
   "metadata": {
    "collapsed": false,
    "pycharm": {
     "name": "#%%\n"
    }
   }
  },
  {
   "cell_type": "code",
   "execution_count": 174,
   "outputs": [
    {
     "data": {
      "text/plain": "[<matplotlib.lines.Line2D at 0x162937dc160>]"
     },
     "execution_count": 174,
     "metadata": {},
     "output_type": "execute_result"
    },
    {
     "data": {
      "text/plain": "<Figure size 432x288 with 1 Axes>",
      "image/png": "[encoded data removed]"
     },
     "metadata": {
      "needs_background": "light"
     },
     "output_type": "display_data"
    }
   ],
   "source": [
    "plt.legend('Modelo Keras 0.01')\n",
    "plt.xlabel('Generaciones')\n",
    "plt.ylabel('Precisión')\n",
    "plt.plot(historial.history['accuracy'])"
   ],
   "metadata": {
    "collapsed": false,
    "pycharm": {
     "name": "#%%\n"
    }
   }
  },
  {
   "cell_type": "code",
   "execution_count": 175,
   "outputs": [
    {
     "name": "stdout",
     "output_type": "stream",
     "text": [
      "2/2 [==============================] - 0s 993us/step\n"
     ]
    },
    {
     "data": {
      "text/plain": "array([[-31.067692 ],\n       [-29.517452 ],\n       [-17.783636 ],\n       [  8.154908 ],\n       [-46.725353 ],\n       [-30.798176 ],\n       [ 17.525497 ],\n       [-10.532417 ],\n       [-19.951143 ],\n       [-43.002567 ],\n       [-34.70888  ],\n       [-19.375023 ],\n       [-12.444992 ],\n       [-61.29166  ],\n       [-18.587246 ],\n       [-56.823864 ],\n       [-15.687582 ],\n       [-23.296541 ],\n       [-20.994781 ],\n       [  5.7400002],\n       [-19.43263  ],\n       [-51.1786   ],\n       [-16.58688  ],\n       [ 13.882345 ],\n       [-47.081467 ],\n       [-14.082302 ],\n       [-51.30391  ],\n       [-13.8134165],\n       [-23.088278 ],\n       [ 15.539644 ],\n       [ 26.924337 ],\n       [-30.22677  ],\n       [-19.96895  ],\n       [-21.73155  ],\n       [-49.05203  ],\n       [-20.803064 ],\n       [-32.553165 ],\n       [-20.909393 ],\n       [  7.6085796],\n       [-57.946766 ]], dtype=float32)"
     },
     "execution_count": 175,
     "metadata": {},
     "output_type": "execute_result"
    }
   ],
   "source": [
    "model.predict(w_test)"
   ],
   "metadata": {
    "collapsed": false,
    "pycharm": {
     "name": "#%%\n"
    }
   }
  },
  {
   "cell_type": "code",
   "execution_count": 176,
   "outputs": [
    {
     "data": {
      "text/plain": "146428    0.0\n92024     0.0\n261845    0.0\n169741    1.0\n204669    0.0\n652191    0.0\n940146    1.0\n491677    0.0\n738701    0.0\n548796    0.0\n516407    0.0\n614127    0.0\n795761    0.0\n624940    0.0\n742680    0.0\n551012    0.0\n276282    0.0\n406304    0.0\n993290    0.0\n363420    1.0\n801878    0.0\n912376    0.0\n158085    0.0\n894806    1.0\n105368    0.0\n899910    0.0\n760413    0.0\n641998    0.0\n253998    0.0\n152756    1.0\n37168     1.0\n598149    0.0\n36944     0.0\n258921    0.0\n950224    0.0\n126553    0.0\n526296    0.0\n807998    0.0\n79686     1.0\n986675    0.0\nName: fraud, dtype: float64"
     },
     "execution_count": 176,
     "metadata": {},
     "output_type": "execute_result"
    }
   ],
   "source": [
    "w_true"
   ],
   "metadata": {
    "collapsed": false,
    "pycharm": {
     "name": "#%%\n"
    }
   }
  },
  {
   "cell_type": "code",
   "execution_count": 177,
   "outputs": [
    {
     "name": "stdout",
     "output_type": "stream",
     "text": [
      "2/2 [==============================] - 0s 2ms/step - loss: 1.0067e-04 - accuracy: 1.0000\n"
     ]
    }
   ],
   "source": [
    "modelScores.append(model.evaluate(w_test, w_true))"
   ],
   "metadata": {
    "collapsed": false,
    "pycharm": {
     "name": "#%%\n"
    }
   }
  },
  {
   "cell_type": "markdown",
   "source": [
    "## Entrenar el modelo 2 con aprendizaje 0.1"
   ],
   "metadata": {
    "collapsed": false,
    "pycharm": {
     "name": "#%% md\n"
    }
   }
  },
  {
   "cell_type": "code",
   "execution_count": 178,
   "outputs": [
    {
     "name": "stdout",
     "output_type": "stream",
     "text": [
      "Epoch 1/5\n",
      "25000/25000 [==============================] - 13s 528us/step - loss: 0.0698 - accuracy: 0.9754\n",
      "Epoch 2/5\n",
      "25000/25000 [==============================] - 15s 615us/step - loss: 0.0487 - accuracy: 0.9865\n",
      "Epoch 3/5\n",
      "25000/25000 [==============================] - 15s 618us/step - loss: 0.0713 - accuracy: 0.9776\n",
      "Epoch 4/5\n",
      "25000/25000 [==============================] - 13s 529us/step - loss: 0.0661 - accuracy: 0.9838\n",
      "Epoch 5/5\n",
      "25000/25000 [==============================] - 13s 530us/step - loss: 0.0698 - accuracy: 0.9854\n"
     ]
    }
   ],
   "source": [
    "model = get_basic_model(0.1)\n",
    "historial = model.fit(t_data, t_target, epochs=5, verbose=True)"
   ],
   "metadata": {
    "collapsed": false,
    "pycharm": {
     "name": "#%%\n"
    }
   }
  },
  {
   "cell_type": "code",
   "execution_count": 179,
   "outputs": [
    {
     "data": {
      "text/plain": "[<matplotlib.lines.Line2D at 0x16294011180>]"
     },
     "execution_count": 179,
     "metadata": {},
     "output_type": "execute_result"
    },
    {
     "data": {
      "text/plain": "<Figure size 432x288 with 1 Axes>",
      "image/png": "[encoded data removed]"
     },
     "metadata": {
      "needs_background": "light"
     },
     "output_type": "display_data"
    }
   ],
   "source": [
    "plt.legend('Modelo Keras 0.1')\n",
    "plt.xlabel('Generaciones')\n",
    "plt.ylabel('Pérdida')\n",
    "plt.plot(historial.history['loss'])"
   ],
   "metadata": {
    "collapsed": false,
    "pycharm": {
     "name": "#%%\n"
    }
   }
  },
  {
   "cell_type": "code",
   "execution_count": 180,
   "outputs": [
    {
     "data": {
      "text/plain": "[<matplotlib.lines.Line2D at 0x1629407c250>]"
     },
     "execution_count": 180,
     "metadata": {},
     "output_type": "execute_result"
    },
    {
     "data": {
      "text/plain": "<Figure size 432x288 with 1 Axes>",
      "image/png": "[encoded data removed]"
     },
     "metadata": {
      "needs_background": "light"
     },
     "output_type": "display_data"
    }
   ],
   "source": [
    "plt.legend('Modelo Keras 0.1')\n",
    "plt.xlabel('Generaciones')\n",
    "plt.ylabel('Precisión')\n",
    "plt.plot(historial.history['accuracy'])"
   ],
   "metadata": {
    "collapsed": false,
    "pycharm": {
     "name": "#%%\n"
    }
   }
  },
  {
   "cell_type": "code",
   "execution_count": 181,
   "outputs": [
    {
     "name": "stdout",
     "output_type": "stream",
     "text": [
      "2/2 [==============================] - 0s 2ms/step\n"
     ]
    },
    {
     "data": {
      "text/plain": "array([[-1.1305146e+03],\n       [-4.6666360e+02],\n       [-1.7888675e+02],\n       [ 1.7593707e+00],\n       [-1.6984131e+03],\n       [-2.4589736e+03],\n       [ 1.7593707e+00],\n       [-3.9241900e+00],\n       [-4.5187721e+00],\n       [-1.2033928e+03],\n       [-9.7801680e+03],\n       [-4.9945694e+02],\n       [-2.9929819e+01],\n       [-4.2958003e+03],\n       [-4.3098996e+02],\n       [-3.0467852e+03],\n       [-6.2324089e+01],\n       [-6.3927600e+02],\n       [-3.9042950e+02],\n       [ 1.7593707e+00],\n       [-4.2057920e+00],\n       [-9.5595254e+03],\n       [-8.9311584e+01],\n       [ 1.7593707e+00],\n       [-3.0185342e+03],\n       [-6.2412964e+02],\n       [-2.4465283e+03],\n       [-2.6239084e+02],\n       [-6.5764484e+02],\n       [ 1.7593707e+00],\n       [ 1.7593707e+00],\n       [-2.1222722e+03],\n       [-1.4919521e+03],\n       [-4.7818267e+03],\n       [-1.2636112e+03],\n       [-2.3819854e+03],\n       [-2.1768967e+03],\n       [-7.9184924e+02],\n       [ 1.7593707e+00],\n       [-3.2049761e+03]], dtype=float32)"
     },
     "execution_count": 181,
     "metadata": {},
     "output_type": "execute_result"
    }
   ],
   "source": [
    "model.predict(w_test)"
   ],
   "metadata": {
    "collapsed": false,
    "pycharm": {
     "name": "#%%\n"
    }
   }
  },
  {
   "cell_type": "code",
   "execution_count": 182,
   "outputs": [
    {
     "data": {
      "text/plain": "146428    0.0\n92024     0.0\n261845    0.0\n169741    1.0\n204669    0.0\n652191    0.0\n940146    1.0\n491677    0.0\n738701    0.0\n548796    0.0\n516407    0.0\n614127    0.0\n795761    0.0\n624940    0.0\n742680    0.0\n551012    0.0\n276282    0.0\n406304    0.0\n993290    0.0\n363420    1.0\n801878    0.0\n912376    0.0\n158085    0.0\n894806    1.0\n105368    0.0\n899910    0.0\n760413    0.0\n641998    0.0\n253998    0.0\n152756    1.0\n37168     1.0\n598149    0.0\n36944     0.0\n258921    0.0\n950224    0.0\n126553    0.0\n526296    0.0\n807998    0.0\n79686     1.0\n986675    0.0\nName: fraud, dtype: float64"
     },
     "execution_count": 182,
     "metadata": {},
     "output_type": "execute_result"
    }
   ],
   "source": [
    "w_true"
   ],
   "metadata": {
    "collapsed": false,
    "pycharm": {
     "name": "#%%\n"
    }
   }
  },
  {
   "cell_type": "code",
   "execution_count": 183,
   "outputs": [
    {
     "name": "stdout",
     "output_type": "stream",
     "text": [
      "2/2 [==============================] - 0s 2ms/step - loss: 0.0289 - accuracy: 1.0000\n"
     ]
    }
   ],
   "source": [
    "modelScores.append(model.evaluate(w_test, w_true))"
   ],
   "metadata": {
    "collapsed": false,
    "pycharm": {
     "name": "#%%\n"
    }
   }
  },
  {
   "cell_type": "markdown",
   "source": [
    "## Entrenar el modelo 3 con aprendizaje 0.5"
   ],
   "metadata": {
    "collapsed": false,
    "pycharm": {
     "name": "#%% md\n"
    }
   }
  },
  {
   "cell_type": "code",
   "execution_count": 184,
   "outputs": [
    {
     "name": "stdout",
     "output_type": "stream",
     "text": [
      "Epoch 1/5\n",
      "25000/25000 [==============================] - 14s 560us/step - loss: 0.3015 - accuracy: 0.9129\n",
      "Epoch 2/5\n",
      "25000/25000 [==============================] - 14s 564us/step - loss: 0.3014 - accuracy: 0.9129\n",
      "Epoch 3/5\n",
      "25000/25000 [==============================] - 14s 559us/step - loss: 0.3013 - accuracy: 0.9129\n",
      "Epoch 4/5\n",
      "25000/25000 [==============================] - 14s 554us/step - loss: 0.3013 - accuracy: 0.9129\n",
      "Epoch 5/5\n",
      "25000/25000 [==============================] - 14s 555us/step - loss: 0.3012 - accuracy: 0.9129\n"
     ]
    }
   ],
   "source": [
    "## Entrenar el modelo 2 con aprendizaje 0.1\n",
    "model = get_basic_model(0.5)\n",
    "historial = model.fit(t_data, t_target, epochs=5, verbose=True)"
   ],
   "metadata": {
    "collapsed": false,
    "pycharm": {
     "name": "#%%\n"
    }
   }
  },
  {
   "cell_type": "code",
   "execution_count": 185,
   "outputs": [
    {
     "data": {
      "text/plain": "[<matplotlib.lines.Line2D at 0x16294499150>]"
     },
     "execution_count": 185,
     "metadata": {},
     "output_type": "execute_result"
    },
    {
     "data": {
      "text/plain": "<Figure size 432x288 with 1 Axes>",
      "image/png": "[encoded data removed]"
     },
     "metadata": {
      "needs_background": "light"
     },
     "output_type": "display_data"
    }
   ],
   "source": [
    "plt.legend('Modelo Keras 0.5')\n",
    "plt.xlabel('Generaciones')\n",
    "plt.ylabel('Pérdida')\n",
    "plt.plot(historial.history['loss'])"
   ],
   "metadata": {
    "collapsed": false,
    "pycharm": {
     "name": "#%%\n"
    }
   }
  },
  {
   "cell_type": "code",
   "execution_count": 186,
   "outputs": [
    {
     "data": {
      "text/plain": "[<matplotlib.lines.Line2D at 0x162945086a0>]"
     },
     "execution_count": 186,
     "metadata": {},
     "output_type": "execute_result"
    },
    {
     "data": {
      "text/plain": "<Figure size 432x288 with 1 Axes>",
      "image/png": "[encoded data removed]"
     },
     "metadata": {
      "needs_background": "light"
     },
     "output_type": "display_data"
    }
   ],
   "source": [
    "plt.legend('Modelo Keras 0.5')\n",
    "plt.xlabel('Generaciones')\n",
    "plt.ylabel('Precisión')\n",
    "plt.plot(historial.history['accuracy'])"
   ],
   "metadata": {
    "collapsed": false,
    "pycharm": {
     "name": "#%%\n"
    }
   }
  },
  {
   "cell_type": "code",
   "execution_count": 187,
   "outputs": [
    {
     "name": "stdout",
     "output_type": "stream",
     "text": [
      "2/2 [==============================] - 0s 996us/step\n"
     ]
    },
    {
     "data": {
      "text/plain": "array([[-2.806561],\n       [-2.806561],\n       [-2.806561],\n       [-2.806561],\n       [-2.806561],\n       [-2.806561],\n       [-2.806561],\n       [-2.806561],\n       [-2.806561],\n       [-2.806561],\n       [-2.806561],\n       [-2.806561],\n       [-2.806561],\n       [-2.806561],\n       [-2.806561],\n       [-2.806561],\n       [-2.806561],\n       [-2.806561],\n       [-2.806561],\n       [-2.806561],\n       [-2.806561],\n       [-2.806561],\n       [-2.806561],\n       [-2.806561],\n       [-2.806561],\n       [-2.806561],\n       [-2.806561],\n       [-2.806561],\n       [-2.806561],\n       [-2.806561],\n       [-2.806561],\n       [-2.806561],\n       [-2.806561],\n       [-2.806561],\n       [-2.806561],\n       [-2.806561],\n       [-2.806561],\n       [-2.806561],\n       [-2.806561],\n       [-2.806561]], dtype=float32)"
     },
     "execution_count": 187,
     "metadata": {},
     "output_type": "execute_result"
    }
   ],
   "source": [
    "model.predict(w_test)"
   ],
   "metadata": {
    "collapsed": false,
    "pycharm": {
     "name": "#%%\n"
    }
   }
  },
  {
   "cell_type": "code",
   "execution_count": 188,
   "outputs": [
    {
     "data": {
      "text/plain": "146428    0.0\n92024     0.0\n261845    0.0\n169741    1.0\n204669    0.0\n652191    0.0\n940146    1.0\n491677    0.0\n738701    0.0\n548796    0.0\n516407    0.0\n614127    0.0\n795761    0.0\n624940    0.0\n742680    0.0\n551012    0.0\n276282    0.0\n406304    0.0\n993290    0.0\n363420    1.0\n801878    0.0\n912376    0.0\n158085    0.0\n894806    1.0\n105368    0.0\n899910    0.0\n760413    0.0\n641998    0.0\n253998    0.0\n152756    1.0\n37168     1.0\n598149    0.0\n36944     0.0\n258921    0.0\n950224    0.0\n126553    0.0\n526296    0.0\n807998    0.0\n79686     1.0\n986675    0.0\nName: fraud, dtype: float64"
     },
     "execution_count": 188,
     "metadata": {},
     "output_type": "execute_result"
    }
   ],
   "source": [
    "w_true"
   ],
   "metadata": {
    "collapsed": false,
    "pycharm": {
     "name": "#%%\n"
    }
   }
  },
  {
   "cell_type": "code",
   "execution_count": 189,
   "outputs": [
    {
     "name": "stdout",
     "output_type": "stream",
     "text": [
      "2/2 [==============================] - 0s 2ms/step - loss: 0.5498 - accuracy: 0.8250\n"
     ]
    }
   ],
   "source": [
    "modelScores.append(model.evaluate(w_test, w_true))"
   ],
   "metadata": {
    "collapsed": false,
    "pycharm": {
     "name": "#%%\n"
    }
   }
  },
  {
   "cell_type": "markdown",
   "source": [
    "## Comparar los modelos con el accuracy"
   ],
   "metadata": {
    "collapsed": false,
    "pycharm": {
     "name": "#%% md\n"
    }
   }
  },
  {
   "cell_type": "code",
   "execution_count": 190,
   "outputs": [
    {
     "name": "stdout",
     "output_type": "stream",
     "text": [
      "Precisión: 1.0  Pérdida: 0.00010066761024063453\n",
      "Precisión: 1.0  Pérdida: 0.02892760932445526\n",
      "Precisión: 0.824999988079071  Pérdida: 0.5498059988021851\n"
     ]
    }
   ],
   "source": [
    "for score in modelScores:\n",
    "  print('Precisión: {}  Pérdida: {}'.format(score[1], score[0]))"
   ],
   "metadata": {
    "collapsed": false,
    "pycharm": {
     "name": "#%%\n"
    }
   }
  }
 ]
}